{
 "cells": [
  {
   "cell_type": "markdown",
   "metadata": {
    "collapsed": true,
    "pycharm": {
     "name": "#%% md\n"
    }
   },
   "source": [
    "# Customer Segmentation usinng RFM Analysis"
   ]
  },
  {
   "cell_type": "code",
   "execution_count": 94,
   "outputs": [],
   "source": [
    "import numpy as np # linear algebra\n",
    "import pandas as pd # data processing, CSV file I/O (e.g. pd.read_csv)\n",
    "import seaborn as sns\n",
    "import matplotlib.pyplot as plt\n",
    "import lifetimes\n",
    "import squarify"
   ],
   "metadata": {
    "collapsed": false,
    "pycharm": {
     "name": "#%%\n"
    }
   }
  },
  {
   "cell_type": "code",
   "execution_count": 18,
   "outputs": [],
   "source": [
    "order_products_prior = pd.read_csv(\"order_products__prior.csv\")\n",
    "orders = pd.read_csv(\"orders.csv\")"
   ],
   "metadata": {
    "collapsed": false,
    "pycharm": {
     "name": "#%%\n"
    }
   }
  },
  {
   "cell_type": "code",
   "execution_count": 27,
   "outputs": [],
   "source": [
    "df = pd.merge(orders,order_products_prior, on=['order_id','order_id'])"
   ],
   "metadata": {
    "collapsed": false,
    "pycharm": {
     "name": "#%%\n"
    }
   }
  },
  {
   "cell_type": "code",
   "execution_count": 34,
   "outputs": [],
   "source": [
    "df_order = df.groupby('order_id').count()[['product_id']]\n",
    "df_order.rename(columns = {'order_id': 'order_id',\n",
    "                     'product_id': 'Total_products'},inplace = True)"
   ],
   "metadata": {
    "collapsed": false,
    "pycharm": {
     "name": "#%%\n"
    }
   }
  },
  {
   "cell_type": "code",
   "execution_count": 35,
   "outputs": [
    {
     "data": {
      "text/plain": "   order_id  user_id eval_set  order_number  order_dow  order_hour_of_day  \\\n0   2539329        1    prior             1          2                  8   \n1   2398795        1    prior             2          3                  7   \n2    473747        1    prior             3          3                 12   \n3   2254736        1    prior             4          4                  7   \n4    431534        1    prior             5          4                 15   \n\n   days_since_prior_order  Total_products  \n0                     NaN               5  \n1                    15.0               6  \n2                    21.0               5  \n3                    29.0               5  \n4                    28.0               8  ",
      "text/html": "<div>\n<style scoped>\n    .dataframe tbody tr th:only-of-type {\n        vertical-align: middle;\n    }\n\n    .dataframe tbody tr th {\n        vertical-align: top;\n    }\n\n    .dataframe thead th {\n        text-align: right;\n    }\n</style>\n<table border=\"1\" class=\"dataframe\">\n  <thead>\n    <tr style=\"text-align: right;\">\n      <th></th>\n      <th>order_id</th>\n      <th>user_id</th>\n      <th>eval_set</th>\n      <th>order_number</th>\n      <th>order_dow</th>\n      <th>order_hour_of_day</th>\n      <th>days_since_prior_order</th>\n      <th>Total_products</th>\n    </tr>\n  </thead>\n  <tbody>\n    <tr>\n      <th>0</th>\n      <td>2539329</td>\n      <td>1</td>\n      <td>prior</td>\n      <td>1</td>\n      <td>2</td>\n      <td>8</td>\n      <td>NaN</td>\n      <td>5</td>\n    </tr>\n    <tr>\n      <th>1</th>\n      <td>2398795</td>\n      <td>1</td>\n      <td>prior</td>\n      <td>2</td>\n      <td>3</td>\n      <td>7</td>\n      <td>15.0</td>\n      <td>6</td>\n    </tr>\n    <tr>\n      <th>2</th>\n      <td>473747</td>\n      <td>1</td>\n      <td>prior</td>\n      <td>3</td>\n      <td>3</td>\n      <td>12</td>\n      <td>21.0</td>\n      <td>5</td>\n    </tr>\n    <tr>\n      <th>3</th>\n      <td>2254736</td>\n      <td>1</td>\n      <td>prior</td>\n      <td>4</td>\n      <td>4</td>\n      <td>7</td>\n      <td>29.0</td>\n      <td>5</td>\n    </tr>\n    <tr>\n      <th>4</th>\n      <td>431534</td>\n      <td>1</td>\n      <td>prior</td>\n      <td>5</td>\n      <td>4</td>\n      <td>15</td>\n      <td>28.0</td>\n      <td>8</td>\n    </tr>\n  </tbody>\n</table>\n</div>"
     },
     "execution_count": 35,
     "metadata": {},
     "output_type": "execute_result"
    }
   ],
   "source": [
    "user_data = orders.join(df_order, how = 'inner', on = 'order_id')\n",
    "user_data.head()"
   ],
   "metadata": {
    "collapsed": false,
    "pycharm": {
     "name": "#%%\n"
    }
   }
  },
  {
   "cell_type": "code",
   "execution_count": 36,
   "outputs": [],
   "source": [
    "frequency = user_data.groupby('user_id')['order_number'].max()\n",
    "recency = round(user_data.groupby('user_id')['days_since_prior_order'].mean(), 0)\n",
    "monetary_value = user_data.groupby('user_id')['Total_products'].sum()\n",
    "T = user_data.groupby('user_id')['days_since_prior_order'].sum()"
   ],
   "metadata": {
    "collapsed": false,
    "pycharm": {
     "name": "#%%\n"
    }
   }
  },
  {
   "cell_type": "code",
   "execution_count": 37,
   "outputs": [
    {
     "data": {
      "text/plain": "         frequency  recency  monetary_value      T\nuser_id                                           \n1               10     20.0              59  176.0\n2               14     15.0             195  198.0\n3               12     12.0              88  133.0\n4                5     14.0              18   55.0\n5                4     13.0              37   40.0",
      "text/html": "<div>\n<style scoped>\n    .dataframe tbody tr th:only-of-type {\n        vertical-align: middle;\n    }\n\n    .dataframe tbody tr th {\n        vertical-align: top;\n    }\n\n    .dataframe thead th {\n        text-align: right;\n    }\n</style>\n<table border=\"1\" class=\"dataframe\">\n  <thead>\n    <tr style=\"text-align: right;\">\n      <th></th>\n      <th>frequency</th>\n      <th>recency</th>\n      <th>monetary_value</th>\n      <th>T</th>\n    </tr>\n    <tr>\n      <th>user_id</th>\n      <th></th>\n      <th></th>\n      <th></th>\n      <th></th>\n    </tr>\n  </thead>\n  <tbody>\n    <tr>\n      <th>1</th>\n      <td>10</td>\n      <td>20.0</td>\n      <td>59</td>\n      <td>176.0</td>\n    </tr>\n    <tr>\n      <th>2</th>\n      <td>14</td>\n      <td>15.0</td>\n      <td>195</td>\n      <td>198.0</td>\n    </tr>\n    <tr>\n      <th>3</th>\n      <td>12</td>\n      <td>12.0</td>\n      <td>88</td>\n      <td>133.0</td>\n    </tr>\n    <tr>\n      <th>4</th>\n      <td>5</td>\n      <td>14.0</td>\n      <td>18</td>\n      <td>55.0</td>\n    </tr>\n    <tr>\n      <th>5</th>\n      <td>4</td>\n      <td>13.0</td>\n      <td>37</td>\n      <td>40.0</td>\n    </tr>\n  </tbody>\n</table>\n</div>"
     },
     "execution_count": 37,
     "metadata": {},
     "output_type": "execute_result"
    }
   ],
   "source": [
    "rfm = pd.concat([frequency, recency, monetary_value, T], axis = 1)\n",
    "rfm.columns = ['frequency', 'recency', 'monetary_value', 'T']\n",
    "rfm.head()"
   ],
   "metadata": {
    "collapsed": false,
    "pycharm": {
     "name": "#%%\n"
    }
   }
  },
  {
   "cell_type": "code",
   "execution_count": 38,
   "outputs": [
    {
     "data": {
      "text/plain": "frequency         0\nrecency           0\nmonetary_value    0\nT                 0\ndtype: int64"
     },
     "execution_count": 38,
     "metadata": {},
     "output_type": "execute_result"
    }
   ],
   "source": [
    "rfm.isna().sum()"
   ],
   "metadata": {
    "collapsed": false,
    "pycharm": {
     "name": "#%%\n"
    }
   }
  },
  {
   "cell_type": "code",
   "execution_count": 39,
   "outputs": [],
   "source": [
    "from lifetimes import BetaGeoFitter, GammaGammaFitter\n",
    "from lifetimes.utils import calibration_and_holdout_data, summary_data_from_transaction_data"
   ],
   "metadata": {
    "collapsed": false,
    "pycharm": {
     "name": "#%%\n"
    }
   }
  },
  {
   "cell_type": "code",
   "execution_count": 40,
   "outputs": [
    {
     "data": {
      "text/plain": "<lifetimes.BetaGeoFitter: fitted with 206209 subjects, a: 32.06, alpha: 0.32, b: 492.80, r: 0.62>"
     },
     "execution_count": 40,
     "metadata": {},
     "output_type": "execute_result"
    }
   ],
   "source": [
    "#BG/NBD\n",
    "bgf = BetaGeoFitter(penalizer_coef=0.0)\n",
    "bgf.fit(rfm['frequency'], rfm['recency'], rfm['T'])"
   ],
   "metadata": {
    "collapsed": false,
    "pycharm": {
     "name": "#%%\n"
    }
   }
  },
  {
   "cell_type": "code",
   "execution_count": 43,
   "outputs": [
    {
     "data": {
      "text/plain": "<AxesSubplot:title={'center':'Expected Number of Future Purchases for 1 Unit of Time,\\nby Frequency and Recency of a Customer'}, xlabel=\"Customer's Historical Frequency\", ylabel=\"Customer's Recency\">"
     },
     "execution_count": 43,
     "metadata": {},
     "output_type": "execute_result"
    },
    {
     "data": {
      "text/plain": "<Figure size 432x288 with 2 Axes>",
      "image/png": "[encoded data removed]"
     },
     "metadata": {
      "needs_background": "light"
     },
     "output_type": "display_data"
    }
   ],
   "source": [
    "from lifetimes.plotting import plot_frequency_recency_matrix\n",
    "\n",
    "plot_frequency_recency_matrix(bgf)"
   ],
   "metadata": {
    "collapsed": false,
    "pycharm": {
     "name": "#%%\n"
    }
   }
  },
  {
   "cell_type": "code",
   "execution_count": 44,
   "outputs": [
    {
     "data": {
      "text/plain": "<AxesSubplot:title={'center':'Probability Customer is Alive,\\nby Frequency and Recency of a Customer'}, xlabel=\"Customer's Historical Frequency\", ylabel=\"Customer's Recency\">"
     },
     "execution_count": 44,
     "metadata": {},
     "output_type": "execute_result"
    },
    {
     "data": {
      "text/plain": "<Figure size 432x288 with 2 Axes>",
      "image/png": "[encoded data removed]"
     },
     "metadata": {
      "needs_background": "light"
     },
     "output_type": "display_data"
    }
   ],
   "source": [
    "from lifetimes.plotting import plot_probability_alive_matrix\n",
    "\n",
    "plot_probability_alive_matrix(bgf)"
   ],
   "metadata": {
    "collapsed": false,
    "pycharm": {
     "name": "#%%\n"
    }
   }
  },
  {
   "cell_type": "code",
   "execution_count": 45,
   "outputs": [
    {
     "data": {
      "text/plain": "<AxesSubplot:title={'center':'Frequency of Repeat Transactions'}, xlabel='Number of Calibration Period Transactions', ylabel='Customers'>"
     },
     "execution_count": 45,
     "metadata": {},
     "output_type": "execute_result"
    },
    {
     "data": {
      "text/plain": "<Figure size 432x288 with 1 Axes>",
      "image/png": "[encoded data removed]"
     },
     "metadata": {
      "needs_background": "light"
     },
     "output_type": "display_data"
    }
   ],
   "source": [
    "from lifetimes.plotting import plot_period_transactions\n",
    "plot_period_transactions(bgf)"
   ],
   "metadata": {
    "collapsed": false,
    "pycharm": {
     "name": "#%%\n"
    }
   }
  },
  {
   "cell_type": "code",
   "execution_count": 41,
   "outputs": [
    {
     "data": {
      "text/plain": "<lifetimes.GammaGammaFitter: fitted with 206209 subjects, p: 0.31, q: 1.97, v: 639.22>"
     },
     "execution_count": 41,
     "metadata": {},
     "output_type": "execute_result"
    }
   ],
   "source": [
    "#GG\n",
    "ggf = GammaGammaFitter(penalizer_coef = 0)\n",
    "ggf.fit(rfm['frequency'],\n",
    "        rfm['monetary_value'])"
   ],
   "metadata": {
    "collapsed": false,
    "pycharm": {
     "name": "#%%\n"
    }
   }
  },
  {
   "cell_type": "code",
   "execution_count": null,
   "outputs": [],
   "source": [],
   "metadata": {
    "collapsed": false,
    "pycharm": {
     "name": "#%%\n"
    }
   }
  },
  {
   "cell_type": "code",
   "execution_count": 42,
   "outputs": [
    {
     "data": {
      "text/plain": "         frequency  recency  monetary_value    T          clv\nuser_id                                                      \n9515             3      0.0              39  0.0  1944.286761\n115420           3      0.0              39  0.0  1944.286761\n58934            3      0.0              25  0.0  1836.302573\n121915           3      0.0              24  0.0  1828.589416\n179078           3      0.0              24  0.0  1828.589416\n133075           3      0.0              21  0.0  1805.449948\n125717           3      0.0              15  0.0  1759.171010\n131603           3      0.0              14  0.0  1751.457853\n137150           3      0.0              12  0.0  1736.031541\n181478           3      0.0               9  0.0  1712.892072",
      "text/html": "<div>\n<style scoped>\n    .dataframe tbody tr th:only-of-type {\n        vertical-align: middle;\n    }\n\n    .dataframe tbody tr th {\n        vertical-align: top;\n    }\n\n    .dataframe thead th {\n        text-align: right;\n    }\n</style>\n<table border=\"1\" class=\"dataframe\">\n  <thead>\n    <tr style=\"text-align: right;\">\n      <th></th>\n      <th>frequency</th>\n      <th>recency</th>\n      <th>monetary_value</th>\n      <th>T</th>\n      <th>clv</th>\n    </tr>\n    <tr>\n      <th>user_id</th>\n      <th></th>\n      <th></th>\n      <th></th>\n      <th></th>\n      <th></th>\n    </tr>\n  </thead>\n  <tbody>\n    <tr>\n      <th>9515</th>\n      <td>3</td>\n      <td>0.0</td>\n      <td>39</td>\n      <td>0.0</td>\n      <td>1944.286761</td>\n    </tr>\n    <tr>\n      <th>115420</th>\n      <td>3</td>\n      <td>0.0</td>\n      <td>39</td>\n      <td>0.0</td>\n      <td>1944.286761</td>\n    </tr>\n    <tr>\n      <th>58934</th>\n      <td>3</td>\n      <td>0.0</td>\n      <td>25</td>\n      <td>0.0</td>\n      <td>1836.302573</td>\n    </tr>\n    <tr>\n      <th>121915</th>\n      <td>3</td>\n      <td>0.0</td>\n      <td>24</td>\n      <td>0.0</td>\n      <td>1828.589416</td>\n    </tr>\n    <tr>\n      <th>179078</th>\n      <td>3</td>\n      <td>0.0</td>\n      <td>24</td>\n      <td>0.0</td>\n      <td>1828.589416</td>\n    </tr>\n    <tr>\n      <th>133075</th>\n      <td>3</td>\n      <td>0.0</td>\n      <td>21</td>\n      <td>0.0</td>\n      <td>1805.449948</td>\n    </tr>\n    <tr>\n      <th>125717</th>\n      <td>3</td>\n      <td>0.0</td>\n      <td>15</td>\n      <td>0.0</td>\n      <td>1759.171010</td>\n    </tr>\n    <tr>\n      <th>131603</th>\n      <td>3</td>\n      <td>0.0</td>\n      <td>14</td>\n      <td>0.0</td>\n      <td>1751.457853</td>\n    </tr>\n    <tr>\n      <th>137150</th>\n      <td>3</td>\n      <td>0.0</td>\n      <td>12</td>\n      <td>0.0</td>\n      <td>1736.031541</td>\n    </tr>\n    <tr>\n      <th>181478</th>\n      <td>3</td>\n      <td>0.0</td>\n      <td>9</td>\n      <td>0.0</td>\n      <td>1712.892072</td>\n    </tr>\n  </tbody>\n</table>\n</div>"
     },
     "execution_count": 42,
     "metadata": {},
     "output_type": "execute_result"
    }
   ],
   "source": [
    "#CLV model\n",
    "clv = ggf.customer_lifetime_value(\n",
    "    bgf, #the model to use to predict the number of future transactions\n",
    "    rfm['frequency'],\n",
    "    rfm['recency'],\n",
    "    rfm['T'],\n",
    "    rfm['monetary_value'],\n",
    "    time=12, # months\n",
    "    discount_rate=0.01 # monthly discount rate ~ 12.7% annually\n",
    ")\n",
    "\n",
    "rfm['clv'] = clv\n",
    "\n",
    "#Print the top 10 most valued customers\n",
    "rfm.sort_values('clv', ascending=False).head(10)"
   ],
   "metadata": {
    "collapsed": false,
    "pycharm": {
     "name": "#%%\n"
    }
   }
  },
  {
   "cell_type": "code",
   "execution_count": 55,
   "outputs": [],
   "source": [
    "rfm_df = rfm.drop(['T','clv'], axis=1)\n",
    "rfm_df.columns = ['Frequency', 'Recency', 'Monetary']"
   ],
   "metadata": {
    "collapsed": false,
    "pycharm": {
     "name": "#%%\n"
    }
   }
  },
  {
   "cell_type": "code",
   "execution_count": 56,
   "outputs": [
    {
     "data": {
      "text/plain": "         Frequency  Recency  Monetary\nuser_id                              \n1               10     20.0        59\n2               14     15.0       195\n3               12     12.0        88\n4                5     14.0        18\n5                4     13.0        37",
      "text/html": "<div>\n<style scoped>\n    .dataframe tbody tr th:only-of-type {\n        vertical-align: middle;\n    }\n\n    .dataframe tbody tr th {\n        vertical-align: top;\n    }\n\n    .dataframe thead th {\n        text-align: right;\n    }\n</style>\n<table border=\"1\" class=\"dataframe\">\n  <thead>\n    <tr style=\"text-align: right;\">\n      <th></th>\n      <th>Frequency</th>\n      <th>Recency</th>\n      <th>Monetary</th>\n    </tr>\n    <tr>\n      <th>user_id</th>\n      <th></th>\n      <th></th>\n      <th></th>\n    </tr>\n  </thead>\n  <tbody>\n    <tr>\n      <th>1</th>\n      <td>10</td>\n      <td>20.0</td>\n      <td>59</td>\n    </tr>\n    <tr>\n      <th>2</th>\n      <td>14</td>\n      <td>15.0</td>\n      <td>195</td>\n    </tr>\n    <tr>\n      <th>3</th>\n      <td>12</td>\n      <td>12.0</td>\n      <td>88</td>\n    </tr>\n    <tr>\n      <th>4</th>\n      <td>5</td>\n      <td>14.0</td>\n      <td>18</td>\n    </tr>\n    <tr>\n      <th>5</th>\n      <td>4</td>\n      <td>13.0</td>\n      <td>37</td>\n    </tr>\n  </tbody>\n</table>\n</div>"
     },
     "execution_count": 56,
     "metadata": {},
     "output_type": "execute_result"
    }
   ],
   "source": [
    "rfm_df.head()"
   ],
   "metadata": {
    "collapsed": false,
    "pycharm": {
     "name": "#%%\n"
    }
   }
  },
  {
   "cell_type": "code",
   "execution_count": 57,
   "outputs": [
    {
     "data": {
      "text/plain": "      Frequency  Recency  Monetary\n0.25        5.0      9.0      39.0\n0.50        9.0     14.0      83.0\n0.75       19.0     20.0     188.0",
      "text/html": "<div>\n<style scoped>\n    .dataframe tbody tr th:only-of-type {\n        vertical-align: middle;\n    }\n\n    .dataframe tbody tr th {\n        vertical-align: top;\n    }\n\n    .dataframe thead th {\n        text-align: right;\n    }\n</style>\n<table border=\"1\" class=\"dataframe\">\n  <thead>\n    <tr style=\"text-align: right;\">\n      <th></th>\n      <th>Frequency</th>\n      <th>Recency</th>\n      <th>Monetary</th>\n    </tr>\n  </thead>\n  <tbody>\n    <tr>\n      <th>0.25</th>\n      <td>5.0</td>\n      <td>9.0</td>\n      <td>39.0</td>\n    </tr>\n    <tr>\n      <th>0.50</th>\n      <td>9.0</td>\n      <td>14.0</td>\n      <td>83.0</td>\n    </tr>\n    <tr>\n      <th>0.75</th>\n      <td>19.0</td>\n      <td>20.0</td>\n      <td>188.0</td>\n    </tr>\n  </tbody>\n</table>\n</div>"
     },
     "execution_count": 57,
     "metadata": {},
     "output_type": "execute_result"
    }
   ],
   "source": [
    "quantiles = rfm_df.quantile(q=[0.25,0.5,0.75])\n",
    "quantiles"
   ],
   "metadata": {
    "collapsed": false,
    "pycharm": {
     "name": "#%%\n"
    }
   }
  },
  {
   "cell_type": "code",
   "execution_count": 58,
   "outputs": [
    {
     "data": {
      "text/plain": "{'Frequency': {0.25: 5.0, 0.5: 9.0, 0.75: 19.0},\n 'Recency': {0.25: 9.0, 0.5: 14.0, 0.75: 20.0},\n 'Monetary': {0.25: 39.0, 0.5: 83.0, 0.75: 188.0}}"
     },
     "execution_count": 58,
     "metadata": {},
     "output_type": "execute_result"
    }
   ],
   "source": [
    "quantiles.to_dict()"
   ],
   "metadata": {
    "collapsed": false,
    "pycharm": {
     "name": "#%%\n"
    }
   }
  },
  {
   "cell_type": "code",
   "execution_count": 59,
   "outputs": [],
   "source": [
    "# Arguments (x = value, p = recency, monetary_value, frequency, d = quartiles dict)\n",
    "def RScore(x,p,d):\n",
    "    if x <= d[p][0.25]:\n",
    "        return 4\n",
    "    elif x <= d[p][0.50]:\n",
    "        return 3\n",
    "    elif x <= d[p][0.75]:\n",
    "        return 2\n",
    "    else:\n",
    "        return 1\n",
    "# Arguments (x = value, p = recency, monetary_value, frequency, k = quartiles dict)\n",
    "def FMScore(x,p,d):\n",
    "    if x <= d[p][0.25]:\n",
    "        return 1\n",
    "    elif x <= d[p][0.50]:\n",
    "        return 2\n",
    "    elif x <= d[p][0.75]:\n",
    "        return 3\n",
    "    else:\n",
    "        return 4"
   ],
   "metadata": {
    "collapsed": false,
    "pycharm": {
     "name": "#%%\n"
    }
   }
  },
  {
   "cell_type": "code",
   "execution_count": 60,
   "outputs": [],
   "source": [
    "rfm_segmentation = rfm_df\n",
    "rfm_segmentation['R_Quartile'] = rfm_segmentation['Recency'].apply(RScore, args=('Recency',quantiles,))\n",
    "rfm_segmentation['F_Quartile'] = rfm_segmentation['Frequency'].apply(FMScore, args=('Frequency',quantiles,))\n",
    "rfm_segmentation['M_Quartile'] = rfm_segmentation['Monetary'].apply(FMScore, args=('Monetary',quantiles,))"
   ],
   "metadata": {
    "collapsed": false,
    "pycharm": {
     "name": "#%%\n"
    }
   }
  },
  {
   "cell_type": "code",
   "execution_count": 61,
   "outputs": [
    {
     "data": {
      "text/plain": "         Frequency  Recency  Monetary  R_Quartile  F_Quartile  M_Quartile\nuser_id                                                                  \n1               10     20.0        59           2           3           2\n2               14     15.0       195           2           3           4\n3               12     12.0        88           3           3           3\n4                5     14.0        18           3           1           1\n5                4     13.0        37           3           1           1",
      "text/html": "<div>\n<style scoped>\n    .dataframe tbody tr th:only-of-type {\n        vertical-align: middle;\n    }\n\n    .dataframe tbody tr th {\n        vertical-align: top;\n    }\n\n    .dataframe thead th {\n        text-align: right;\n    }\n</style>\n<table border=\"1\" class=\"dataframe\">\n  <thead>\n    <tr style=\"text-align: right;\">\n      <th></th>\n      <th>Frequency</th>\n      <th>Recency</th>\n      <th>Monetary</th>\n      <th>R_Quartile</th>\n      <th>F_Quartile</th>\n      <th>M_Quartile</th>\n    </tr>\n    <tr>\n      <th>user_id</th>\n      <th></th>\n      <th></th>\n      <th></th>\n      <th></th>\n      <th></th>\n      <th></th>\n    </tr>\n  </thead>\n  <tbody>\n    <tr>\n      <th>1</th>\n      <td>10</td>\n      <td>20.0</td>\n      <td>59</td>\n      <td>2</td>\n      <td>3</td>\n      <td>2</td>\n    </tr>\n    <tr>\n      <th>2</th>\n      <td>14</td>\n      <td>15.0</td>\n      <td>195</td>\n      <td>2</td>\n      <td>3</td>\n      <td>4</td>\n    </tr>\n    <tr>\n      <th>3</th>\n      <td>12</td>\n      <td>12.0</td>\n      <td>88</td>\n      <td>3</td>\n      <td>3</td>\n      <td>3</td>\n    </tr>\n    <tr>\n      <th>4</th>\n      <td>5</td>\n      <td>14.0</td>\n      <td>18</td>\n      <td>3</td>\n      <td>1</td>\n      <td>1</td>\n    </tr>\n    <tr>\n      <th>5</th>\n      <td>4</td>\n      <td>13.0</td>\n      <td>37</td>\n      <td>3</td>\n      <td>1</td>\n      <td>1</td>\n    </tr>\n  </tbody>\n</table>\n</div>"
     },
     "execution_count": 61,
     "metadata": {},
     "output_type": "execute_result"
    }
   ],
   "source": [
    "rfm_segmentation.head()"
   ],
   "metadata": {
    "collapsed": false,
    "pycharm": {
     "name": "#%%\n"
    }
   }
  },
  {
   "cell_type": "code",
   "execution_count": 96,
   "outputs": [
    {
     "data": {
      "text/plain": "         Frequency  Recency  Monetary  R_Quartile  F_Quartile  M_Quartile  \\\nuser_id                                                                     \n1               10     20.0        59           2           3           2   \n2               14     15.0       195           2           3           4   \n3               12     12.0        88           3           3           3   \n4                5     14.0        18           3           1           1   \n5                4     13.0        37           3           1           1   \n\n        RFMScore Segment  \nuser_id                   \n1            232  Others  \n2            234  Others  \n3            333  Others  \n4            311  Others  \n5            311  Others  ",
      "text/html": "<div>\n<style scoped>\n    .dataframe tbody tr th:only-of-type {\n        vertical-align: middle;\n    }\n\n    .dataframe tbody tr th {\n        vertical-align: top;\n    }\n\n    .dataframe thead th {\n        text-align: right;\n    }\n</style>\n<table border=\"1\" class=\"dataframe\">\n  <thead>\n    <tr style=\"text-align: right;\">\n      <th></th>\n      <th>Frequency</th>\n      <th>Recency</th>\n      <th>Monetary</th>\n      <th>R_Quartile</th>\n      <th>F_Quartile</th>\n      <th>M_Quartile</th>\n      <th>RFMScore</th>\n      <th>Segment</th>\n    </tr>\n    <tr>\n      <th>user_id</th>\n      <th></th>\n      <th></th>\n      <th></th>\n      <th></th>\n      <th></th>\n      <th></th>\n      <th></th>\n      <th></th>\n    </tr>\n  </thead>\n  <tbody>\n    <tr>\n      <th>1</th>\n      <td>10</td>\n      <td>20.0</td>\n      <td>59</td>\n      <td>2</td>\n      <td>3</td>\n      <td>2</td>\n      <td>232</td>\n      <td>Others</td>\n    </tr>\n    <tr>\n      <th>2</th>\n      <td>14</td>\n      <td>15.0</td>\n      <td>195</td>\n      <td>2</td>\n      <td>3</td>\n      <td>4</td>\n      <td>234</td>\n      <td>Others</td>\n    </tr>\n    <tr>\n      <th>3</th>\n      <td>12</td>\n      <td>12.0</td>\n      <td>88</td>\n      <td>3</td>\n      <td>3</td>\n      <td>3</td>\n      <td>333</td>\n      <td>Others</td>\n    </tr>\n    <tr>\n      <th>4</th>\n      <td>5</td>\n      <td>14.0</td>\n      <td>18</td>\n      <td>3</td>\n      <td>1</td>\n      <td>1</td>\n      <td>311</td>\n      <td>Others</td>\n    </tr>\n    <tr>\n      <th>5</th>\n      <td>4</td>\n      <td>13.0</td>\n      <td>37</td>\n      <td>3</td>\n      <td>1</td>\n      <td>1</td>\n      <td>311</td>\n      <td>Others</td>\n    </tr>\n  </tbody>\n</table>\n</div>"
     },
     "execution_count": 96,
     "metadata": {},
     "output_type": "execute_result"
    }
   ],
   "source": [
    "rfm_segmentation['RFMScore'] = rfm_segmentation.R_Quartile.map(str) + rfm_segmentation.F_Quartile.map(str) + rfm_segmentation.M_Quartile.map(str)\n",
    "rfm_segmentation.head()\n"
   ],
   "metadata": {
    "collapsed": false,
    "pycharm": {
     "name": "#%%\n"
    }
   }
  },
  {
   "cell_type": "code",
   "execution_count": 82,
   "outputs": [],
   "source": [
    "segment_dict = {\n",
    "    'Best Customers':'444',      # Highest frequency as well as monetary value with least recency\n",
    "    'Loyal Customers':'344',    # High frequency as well as monetary value with good recency\n",
    "    'Potential Loyalists':'434', # High recency and monetary value, average frequency\n",
    "    'Big Spenders':'334',        # High monetary value but good recency and frequency values\n",
    "    'At Risk Customers':'244',   # Customer's shopping less often now who used to shop a lot\n",
    "    'Can’t Lose Them':'144',      # Customer's shopped long ago who used to shop a lot.\n",
    "    'Recent Customers':'443',    # Customer's who recently started shopping a lot but with less monetary value\n",
    "    'Lost Cheap Customers':'122' # Customer's shopped long ago but with less frequency and monetary value\n",
    "}"
   ],
   "metadata": {
    "collapsed": false,
    "pycharm": {
     "name": "#%%\n"
    }
   }
  },
  {
   "cell_type": "code",
   "execution_count": 89,
   "outputs": [
    {
     "data": {
      "text/plain": "        user_id  Frequency  Recency  Monetary  R_Quartile  F_Quartile  \\\n0             1         10     20.0        59           2           3   \n1             2         14     15.0       195           2           3   \n2             3         12     12.0        88           3           3   \n3             4          5     14.0        18           3           1   \n4             5          4     13.0        37           3           1   \n...         ...        ...      ...       ...         ...         ...   \n206204   206205          3     20.0        32           2           1   \n206205   206206         67      4.0       285           4           4   \n206206   206207         16     14.0       223           3           3   \n206207   206208         49      7.0       677           4           4   \n206208   206209         13     18.0       129           2           3   \n\n        M_Quartile RFMScore         Segment  \n0                2      232          Others  \n1                4      234          Others  \n2                3      333          Others  \n3                1      311          Others  \n4                1      311          Others  \n...            ...      ...             ...  \n206204           1      211          Others  \n206205           4      444  Best Customers  \n206206           4      334    Big Spenders  \n206207           4      444  Best Customers  \n206208           3      233          Others  \n\n[206209 rows x 9 columns]",
      "text/html": "<div>\n<style scoped>\n    .dataframe tbody tr th:only-of-type {\n        vertical-align: middle;\n    }\n\n    .dataframe tbody tr th {\n        vertical-align: top;\n    }\n\n    .dataframe thead th {\n        text-align: right;\n    }\n</style>\n<table border=\"1\" class=\"dataframe\">\n  <thead>\n    <tr style=\"text-align: right;\">\n      <th></th>\n      <th>user_id</th>\n      <th>Frequency</th>\n      <th>Recency</th>\n      <th>Monetary</th>\n      <th>R_Quartile</th>\n      <th>F_Quartile</th>\n      <th>M_Quartile</th>\n      <th>RFMScore</th>\n      <th>Segment</th>\n    </tr>\n  </thead>\n  <tbody>\n    <tr>\n      <th>0</th>\n      <td>1</td>\n      <td>10</td>\n      <td>20.0</td>\n      <td>59</td>\n      <td>2</td>\n      <td>3</td>\n      <td>2</td>\n      <td>232</td>\n      <td>Others</td>\n    </tr>\n    <tr>\n      <th>1</th>\n      <td>2</td>\n      <td>14</td>\n      <td>15.0</td>\n      <td>195</td>\n      <td>2</td>\n      <td>3</td>\n      <td>4</td>\n      <td>234</td>\n      <td>Others</td>\n    </tr>\n    <tr>\n      <th>2</th>\n      <td>3</td>\n      <td>12</td>\n      <td>12.0</td>\n      <td>88</td>\n      <td>3</td>\n      <td>3</td>\n      <td>3</td>\n      <td>333</td>\n      <td>Others</td>\n    </tr>\n    <tr>\n      <th>3</th>\n      <td>4</td>\n      <td>5</td>\n      <td>14.0</td>\n      <td>18</td>\n      <td>3</td>\n      <td>1</td>\n      <td>1</td>\n      <td>311</td>\n      <td>Others</td>\n    </tr>\n    <tr>\n      <th>4</th>\n      <td>5</td>\n      <td>4</td>\n      <td>13.0</td>\n      <td>37</td>\n      <td>3</td>\n      <td>1</td>\n      <td>1</td>\n      <td>311</td>\n      <td>Others</td>\n    </tr>\n    <tr>\n      <th>...</th>\n      <td>...</td>\n      <td>...</td>\n      <td>...</td>\n      <td>...</td>\n      <td>...</td>\n      <td>...</td>\n      <td>...</td>\n      <td>...</td>\n      <td>...</td>\n    </tr>\n    <tr>\n      <th>206204</th>\n      <td>206205</td>\n      <td>3</td>\n      <td>20.0</td>\n      <td>32</td>\n      <td>2</td>\n      <td>1</td>\n      <td>1</td>\n      <td>211</td>\n      <td>Others</td>\n    </tr>\n    <tr>\n      <th>206205</th>\n      <td>206206</td>\n      <td>67</td>\n      <td>4.0</td>\n      <td>285</td>\n      <td>4</td>\n      <td>4</td>\n      <td>4</td>\n      <td>444</td>\n      <td>Best Customers</td>\n    </tr>\n    <tr>\n      <th>206206</th>\n      <td>206207</td>\n      <td>16</td>\n      <td>14.0</td>\n      <td>223</td>\n      <td>3</td>\n      <td>3</td>\n      <td>4</td>\n      <td>334</td>\n      <td>Big Spenders</td>\n    </tr>\n    <tr>\n      <th>206207</th>\n      <td>206208</td>\n      <td>49</td>\n      <td>7.0</td>\n      <td>677</td>\n      <td>4</td>\n      <td>4</td>\n      <td>4</td>\n      <td>444</td>\n      <td>Best Customers</td>\n    </tr>\n    <tr>\n      <th>206208</th>\n      <td>206209</td>\n      <td>13</td>\n      <td>18.0</td>\n      <td>129</td>\n      <td>2</td>\n      <td>3</td>\n      <td>3</td>\n      <td>233</td>\n      <td>Others</td>\n    </tr>\n  </tbody>\n</table>\n<p>206209 rows × 9 columns</p>\n</div>"
     },
     "execution_count": 89,
     "metadata": {},
     "output_type": "execute_result"
    }
   ],
   "source": [
    "dict_segment = dict(zip(segment_dict.values(),segment_dict.keys()))\n",
    "rfm_segmentation['Segment'] = rfm_segmentation.RFMScore.map(lambda x: dict_segment.get(x))\n",
    "rfm_segmentation['Segment']\n",
    "rfm_segmentation.fillna('Others', inplace = True)\n",
    "rfm_segmentation.reset_index()"
   ],
   "metadata": {
    "collapsed": false,
    "pycharm": {
     "name": "#%%\n"
    }
   }
  },
  {
   "cell_type": "code",
   "execution_count": 90,
   "outputs": [
    {
     "data": {
      "text/plain": "                Segment  counts\n0     At Risk Customers    1532\n1        Best Customers   24989\n2          Big Spenders    3479\n3  Lost Cheap Customers    6278\n4       Loyal Customers   12509\n5   Potential Loyalists    1775\n6      Recent Customers    3945",
      "text/html": "<div>\n<style scoped>\n    .dataframe tbody tr th:only-of-type {\n        vertical-align: middle;\n    }\n\n    .dataframe tbody tr th {\n        vertical-align: top;\n    }\n\n    .dataframe thead th {\n        text-align: right;\n    }\n</style>\n<table border=\"1\" class=\"dataframe\">\n  <thead>\n    <tr style=\"text-align: right;\">\n      <th></th>\n      <th>Segment</th>\n      <th>counts</th>\n    </tr>\n  </thead>\n  <tbody>\n    <tr>\n      <th>0</th>\n      <td>At Risk Customers</td>\n      <td>1532</td>\n    </tr>\n    <tr>\n      <th>1</th>\n      <td>Best Customers</td>\n      <td>24989</td>\n    </tr>\n    <tr>\n      <th>2</th>\n      <td>Big Spenders</td>\n      <td>3479</td>\n    </tr>\n    <tr>\n      <th>3</th>\n      <td>Lost Cheap Customers</td>\n      <td>6278</td>\n    </tr>\n    <tr>\n      <th>4</th>\n      <td>Loyal Customers</td>\n      <td>12509</td>\n    </tr>\n    <tr>\n      <th>5</th>\n      <td>Potential Loyalists</td>\n      <td>1775</td>\n    </tr>\n    <tr>\n      <th>6</th>\n      <td>Recent Customers</td>\n      <td>3945</td>\n    </tr>\n  </tbody>\n</table>\n</div>"
     },
     "execution_count": 90,
     "metadata": {},
     "output_type": "execute_result"
    }
   ],
   "source": [
    "rfm_segments = rfm_segmentation[rfm_segmentation.Segment!='Others'].reset_index().groupby('Segment')['user_id'].count().reset_index(name='counts')\n",
    "rfm_segments.iloc[:8]"
   ],
   "metadata": {
    "collapsed": false,
    "pycharm": {
     "name": "#%%\n"
    }
   }
  },
  {
   "cell_type": "code",
   "execution_count": 95,
   "outputs": [
    {
     "data": {
      "text/plain": "<Figure size 864x576 with 1 Axes>",
      "image/png": "[encoded data removed]"
     },
     "metadata": {
      "needs_background": "light"
     },
     "output_type": "display_data"
    }
   ],
   "source": [
    "segment = list(rfm_segments.iloc[:8].Segment)\n",
    "score = list(rfm_segments.iloc[:8].counts)\n",
    "color_list = [\"#248af1\", \"#eb5d50\", \"#8bc4f6\", \"#8c5c94\", \"#a170e8\", \"#fba521\", \"#75bc3f\"]\n",
    "plt.figure(figsize=(12,8))\n",
    "plt.title('Customer Segments distribution')\n",
    "squarify.plot(sizes=score, label=segment,color=color_list, alpha=0.7)\n",
    "\n",
    "plt.show()"
   ],
   "metadata": {
    "collapsed": false,
    "pycharm": {
     "name": "#%%\n"
    }
   }
  },
  {
   "cell_type": "markdown",
   "source": [
    "## Recommendations\n",
    "### Best Customers\n",
    "- We can give a reward them for their multiple purchases.\n",
    "- We can Suggest them to \"Refer a friend\" and can give points or rewards for both.\n",
    "- They can be the early adopters to new products\n",
    "\n",
    "### Lost Cheap Customers\n",
    "- We can send them personalized Emails to encourage them to order by giving some discounts.\n",
    "- We can create campaigns by sending out feedback surveys with which we can analyze the issue\n",
    "- Once we identify the problem, work to correct it. Once corrected, spin it into a marketing campaign.\n",
    "\n",
    "### Big Spenders\n",
    "- We can give them early access to good deals.\n",
    "- Award higher status\n",
    "- Leverage better deals\n",
    "\n",
    "### Loyal Customers\n",
    "- Loyalty cards can be awarded to them and later the points that were accumulated can be converted to discounts.\n",
    "- Potential Loyalists\n",
    "- Offer Membership or Loyalty Programs\n",
    "- Recommend related products to upsell them\n",
    "\n",
    "### At Risk Customers\n",
    "- Use a new channel to reach out like social media targeted Ads\n",
    "- Winback campaigns can be setup"
   ],
   "metadata": {
    "collapsed": false,
    "pycharm": {
     "name": "#%% md\n"
    }
   }
  },
  {
   "cell_type": "code",
   "execution_count": null,
   "outputs": [],
   "source": [],
   "metadata": {
    "collapsed": false,
    "pycharm": {
     "name": "#%%\n"
    }
   }
  }
 ],
 "metadata": {
  "kernelspec": {
   "display_name": "Python 3",
   "language": "python",
   "name": "python3"
  },
  "language_info": {
   "codemirror_mode": {
    "name": "ipython",
    "version": 2
   },
   "file_extension": ".py",
   "mimetype": "text/x-python",
   "name": "python",
   "nbconvert_exporter": "python",
   "pygments_lexer": "ipython2",
   "version": "2.7.6"
  }
 },
 "nbformat": 4,
 "nbformat_minor": 0
}