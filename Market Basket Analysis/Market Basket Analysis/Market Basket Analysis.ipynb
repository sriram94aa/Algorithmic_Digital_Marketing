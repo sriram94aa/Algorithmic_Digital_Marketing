{
 "cells": [
  {
   "cell_type": "code",
   "execution_count": 39,
   "metadata": {
    "collapsed": true
   },
   "outputs": [],
   "source": [
    "import pandas as pd\n",
    "from collections import Counter\n",
    "from itertools import combinations, groupby, chain\n",
    "import pickle\n",
    "import warnings\n",
    "warnings.filterwarnings('ignore')"
   ]
  },
  {
   "cell_type": "code",
   "execution_count": 5,
   "outputs": [],
   "source": [
    "aisles = pd.read_csv(\"aisles.csv\")\n",
    "departments = pd.read_csv(\"departments.csv\")\n",
    "order_products_prior = pd.read_csv(\"order_products__prior.csv\")\n",
    "order_products_train = pd.read_csv(\"order_products__train.csv\")\n",
    "orders = pd.read_csv(\"orders.csv\")\n",
    "products = pd.read_csv(\"products.csv\")"
   ],
   "metadata": {
    "collapsed": false,
    "pycharm": {
     "name": "#%%\n"
    }
   }
  },
  {
   "cell_type": "code",
   "execution_count": 6,
   "outputs": [
    {
     "data": {
      "text/plain": "   product_id                                       product_name  aisle_id  \\\n0           1                         Chocolate Sandwich Cookies        61   \n1           2                                   All-Seasons Salt       104   \n2           3               Robust Golden Unsweetened Oolong Tea        94   \n3           4  Smart Ones Classic Favorites Mini Rigatoni Wit...        38   \n4           5                          Green Chile Anytime Sauce         5   \n\n   department_id                       aisle department  \n0             19               cookies cakes     snacks  \n1             13           spices seasonings     pantry  \n2              7                         tea  beverages  \n3              1                frozen meals     frozen  \n4             13  marinades meat preparation     pantry  ",
      "text/html": "<div>\n<style scoped>\n    .dataframe tbody tr th:only-of-type {\n        vertical-align: middle;\n    }\n\n    .dataframe tbody tr th {\n        vertical-align: top;\n    }\n\n    .dataframe thead th {\n        text-align: right;\n    }\n</style>\n<table border=\"1\" class=\"dataframe\">\n  <thead>\n    <tr style=\"text-align: right;\">\n      <th></th>\n      <th>product_id</th>\n      <th>product_name</th>\n      <th>aisle_id</th>\n      <th>department_id</th>\n      <th>aisle</th>\n      <th>department</th>\n    </tr>\n  </thead>\n  <tbody>\n    <tr>\n      <th>0</th>\n      <td>1</td>\n      <td>Chocolate Sandwich Cookies</td>\n      <td>61</td>\n      <td>19</td>\n      <td>cookies cakes</td>\n      <td>snacks</td>\n    </tr>\n    <tr>\n      <th>1</th>\n      <td>2</td>\n      <td>All-Seasons Salt</td>\n      <td>104</td>\n      <td>13</td>\n      <td>spices seasonings</td>\n      <td>pantry</td>\n    </tr>\n    <tr>\n      <th>2</th>\n      <td>3</td>\n      <td>Robust Golden Unsweetened Oolong Tea</td>\n      <td>94</td>\n      <td>7</td>\n      <td>tea</td>\n      <td>beverages</td>\n    </tr>\n    <tr>\n      <th>3</th>\n      <td>4</td>\n      <td>Smart Ones Classic Favorites Mini Rigatoni Wit...</td>\n      <td>38</td>\n      <td>1</td>\n      <td>frozen meals</td>\n      <td>frozen</td>\n    </tr>\n    <tr>\n      <th>4</th>\n      <td>5</td>\n      <td>Green Chile Anytime Sauce</td>\n      <td>5</td>\n      <td>13</td>\n      <td>marinades meat preparation</td>\n      <td>pantry</td>\n    </tr>\n  </tbody>\n</table>\n</div>"
     },
     "execution_count": 6,
     "metadata": {},
     "output_type": "execute_result"
    }
   ],
   "source": [
    "products_aisles = pd.merge(products, aisles, on = 'aisle_id', how = 'left')\n",
    "products_desc = pd.merge(products_aisles, departments, on = 'department_id', how = 'left')\n",
    "products_desc.head()"
   ],
   "metadata": {
    "collapsed": false,
    "pycharm": {
     "name": "#%%\n"
    }
   }
  },
  {
   "cell_type": "code",
   "execution_count": 7,
   "outputs": [
    {
     "data": {
      "text/plain": "       product_id                                       product_name  \\\n37             38                    Ultra Antibacterial Dish Liquid   \n71             72                          Organic Honeycrisp Apples   \n109           110                             Uncured Turkey Bologna   \n296           297  Write Bros Ball Point Pens, Cap-Pen, Medium (1...   \n416           417         Classics Baby Binks Easter Chocolate Bunny   \n...           ...                                                ...   \n49552       49553                                 Organic Plain Skyr   \n49574       49575                     Chocolate Vanilla Malt Custard   \n49640       49641                                      8\\\" Pecan Pie   \n49663       49664                     Lemon Cayenne Drinking Vinegar   \n49668       49669                                   K Cup Dark Blend   \n\n       aisle_id  department_id    aisle department  \n37          100             21  missing    missing  \n71          100             21  missing    missing  \n109         100             21  missing    missing  \n296         100             21  missing    missing  \n416         100             21  missing    missing  \n...         ...            ...      ...        ...  \n49552       100             21  missing    missing  \n49574       100             21  missing    missing  \n49640       100             21  missing    missing  \n49663       100             21  missing    missing  \n49668       100             21  missing    missing  \n\n[1258 rows x 6 columns]",
      "text/html": "<div>\n<style scoped>\n    .dataframe tbody tr th:only-of-type {\n        vertical-align: middle;\n    }\n\n    .dataframe tbody tr th {\n        vertical-align: top;\n    }\n\n    .dataframe thead th {\n        text-align: right;\n    }\n</style>\n<table border=\"1\" class=\"dataframe\">\n  <thead>\n    <tr style=\"text-align: right;\">\n      <th></th>\n      <th>product_id</th>\n      <th>product_name</th>\n      <th>aisle_id</th>\n      <th>department_id</th>\n      <th>aisle</th>\n      <th>department</th>\n    </tr>\n  </thead>\n  <tbody>\n    <tr>\n      <th>37</th>\n      <td>38</td>\n      <td>Ultra Antibacterial Dish Liquid</td>\n      <td>100</td>\n      <td>21</td>\n      <td>missing</td>\n      <td>missing</td>\n    </tr>\n    <tr>\n      <th>71</th>\n      <td>72</td>\n      <td>Organic Honeycrisp Apples</td>\n      <td>100</td>\n      <td>21</td>\n      <td>missing</td>\n      <td>missing</td>\n    </tr>\n    <tr>\n      <th>109</th>\n      <td>110</td>\n      <td>Uncured Turkey Bologna</td>\n      <td>100</td>\n      <td>21</td>\n      <td>missing</td>\n      <td>missing</td>\n    </tr>\n    <tr>\n      <th>296</th>\n      <td>297</td>\n      <td>Write Bros Ball Point Pens, Cap-Pen, Medium (1...</td>\n      <td>100</td>\n      <td>21</td>\n      <td>missing</td>\n      <td>missing</td>\n    </tr>\n    <tr>\n      <th>416</th>\n      <td>417</td>\n      <td>Classics Baby Binks Easter Chocolate Bunny</td>\n      <td>100</td>\n      <td>21</td>\n      <td>missing</td>\n      <td>missing</td>\n    </tr>\n    <tr>\n      <th>...</th>\n      <td>...</td>\n      <td>...</td>\n      <td>...</td>\n      <td>...</td>\n      <td>...</td>\n      <td>...</td>\n    </tr>\n    <tr>\n      <th>49552</th>\n      <td>49553</td>\n      <td>Organic Plain Skyr</td>\n      <td>100</td>\n      <td>21</td>\n      <td>missing</td>\n      <td>missing</td>\n    </tr>\n    <tr>\n      <th>49574</th>\n      <td>49575</td>\n      <td>Chocolate Vanilla Malt Custard</td>\n      <td>100</td>\n      <td>21</td>\n      <td>missing</td>\n      <td>missing</td>\n    </tr>\n    <tr>\n      <th>49640</th>\n      <td>49641</td>\n      <td>8\\\" Pecan Pie</td>\n      <td>100</td>\n      <td>21</td>\n      <td>missing</td>\n      <td>missing</td>\n    </tr>\n    <tr>\n      <th>49663</th>\n      <td>49664</td>\n      <td>Lemon Cayenne Drinking Vinegar</td>\n      <td>100</td>\n      <td>21</td>\n      <td>missing</td>\n      <td>missing</td>\n    </tr>\n    <tr>\n      <th>49668</th>\n      <td>49669</td>\n      <td>K Cup Dark Blend</td>\n      <td>100</td>\n      <td>21</td>\n      <td>missing</td>\n      <td>missing</td>\n    </tr>\n  </tbody>\n</table>\n<p>1258 rows × 6 columns</p>\n</div>"
     },
     "execution_count": 7,
     "metadata": {},
     "output_type": "execute_result"
    }
   ],
   "source": [
    "products_desc[products_desc['aisle']=='missing']"
   ],
   "metadata": {
    "collapsed": false,
    "pycharm": {
     "name": "#%%\n"
    }
   }
  },
  {
   "cell_type": "code",
   "execution_count": 9,
   "outputs": [],
   "source": [
    "pickle.dump(products_desc, open(\"products_desc.p\", \"wb\"))"
   ],
   "metadata": {
    "collapsed": false,
    "pycharm": {
     "name": "#%%\n"
    }
   }
  },
  {
   "cell_type": "code",
   "execution_count": 10,
   "outputs": [
    {
     "data": {
      "text/plain": "         order_id  user_id eval_set  order_number  order_dow  \\\n38        2774568        3     test            13          5   \n44         329954        4     test             6          3   \n53        1528013        6     test             4          3   \n96        1376945       11     test             8          6   \n102       1356845       12     test             6          1   \n...           ...      ...      ...           ...        ...   \n3420918   2728930   206202     test            23          2   \n3420929    350108   206204     test             5          4   \n3421001   1043943   206206     test            68          0   \n3421018   2821651   206207     test            17          2   \n3421068    803273   206208     test            50          5   \n\n         order_hour_of_day  days_since_prior_order  \n38                      15                    11.0  \n44                      12                    30.0  \n53                      16                    22.0  \n96                      11                     8.0  \n102                     20                    30.0  \n...                    ...                     ...  \n3420918                 17                     6.0  \n3420929                 14                    14.0  \n3421001                 20                     0.0  \n3421018                 13                    14.0  \n3421068                 11                     4.0  \n\n[75000 rows x 7 columns]",
      "text/html": "<div>\n<style scoped>\n    .dataframe tbody tr th:only-of-type {\n        vertical-align: middle;\n    }\n\n    .dataframe tbody tr th {\n        vertical-align: top;\n    }\n\n    .dataframe thead th {\n        text-align: right;\n    }\n</style>\n<table border=\"1\" class=\"dataframe\">\n  <thead>\n    <tr style=\"text-align: right;\">\n      <th></th>\n      <th>order_id</th>\n      <th>user_id</th>\n      <th>eval_set</th>\n      <th>order_number</th>\n      <th>order_dow</th>\n      <th>order_hour_of_day</th>\n      <th>days_since_prior_order</th>\n    </tr>\n  </thead>\n  <tbody>\n    <tr>\n      <th>38</th>\n      <td>2774568</td>\n      <td>3</td>\n      <td>test</td>\n      <td>13</td>\n      <td>5</td>\n      <td>15</td>\n      <td>11.0</td>\n    </tr>\n    <tr>\n      <th>44</th>\n      <td>329954</td>\n      <td>4</td>\n      <td>test</td>\n      <td>6</td>\n      <td>3</td>\n      <td>12</td>\n      <td>30.0</td>\n    </tr>\n    <tr>\n      <th>53</th>\n      <td>1528013</td>\n      <td>6</td>\n      <td>test</td>\n      <td>4</td>\n      <td>3</td>\n      <td>16</td>\n      <td>22.0</td>\n    </tr>\n    <tr>\n      <th>96</th>\n      <td>1376945</td>\n      <td>11</td>\n      <td>test</td>\n      <td>8</td>\n      <td>6</td>\n      <td>11</td>\n      <td>8.0</td>\n    </tr>\n    <tr>\n      <th>102</th>\n      <td>1356845</td>\n      <td>12</td>\n      <td>test</td>\n      <td>6</td>\n      <td>1</td>\n      <td>20</td>\n      <td>30.0</td>\n    </tr>\n    <tr>\n      <th>...</th>\n      <td>...</td>\n      <td>...</td>\n      <td>...</td>\n      <td>...</td>\n      <td>...</td>\n      <td>...</td>\n      <td>...</td>\n    </tr>\n    <tr>\n      <th>3420918</th>\n      <td>2728930</td>\n      <td>206202</td>\n      <td>test</td>\n      <td>23</td>\n      <td>2</td>\n      <td>17</td>\n      <td>6.0</td>\n    </tr>\n    <tr>\n      <th>3420929</th>\n      <td>350108</td>\n      <td>206204</td>\n      <td>test</td>\n      <td>5</td>\n      <td>4</td>\n      <td>14</td>\n      <td>14.0</td>\n    </tr>\n    <tr>\n      <th>3421001</th>\n      <td>1043943</td>\n      <td>206206</td>\n      <td>test</td>\n      <td>68</td>\n      <td>0</td>\n      <td>20</td>\n      <td>0.0</td>\n    </tr>\n    <tr>\n      <th>3421018</th>\n      <td>2821651</td>\n      <td>206207</td>\n      <td>test</td>\n      <td>17</td>\n      <td>2</td>\n      <td>13</td>\n      <td>14.0</td>\n    </tr>\n    <tr>\n      <th>3421068</th>\n      <td>803273</td>\n      <td>206208</td>\n      <td>test</td>\n      <td>50</td>\n      <td>5</td>\n      <td>11</td>\n      <td>4.0</td>\n    </tr>\n  </tbody>\n</table>\n<p>75000 rows × 7 columns</p>\n</div>"
     },
     "execution_count": 10,
     "metadata": {},
     "output_type": "execute_result"
    }
   ],
   "source": [
    "orders_test = orders[orders['eval_set']=='test']\n",
    "orders_test"
   ],
   "metadata": {
    "collapsed": false,
    "pycharm": {
     "name": "#%%\n"
    }
   }
  },
  {
   "cell_type": "code",
   "execution_count": 11,
   "outputs": [
    {
     "data": {
      "text/plain": "   order_id  product_id  add_to_cart_order  reordered\n0         1       49302                  1          1\n1         1       11109                  2          1\n2         1       10246                  3          0\n3         1       49683                  4          0\n4         1       43633                  5          1",
      "text/html": "<div>\n<style scoped>\n    .dataframe tbody tr th:only-of-type {\n        vertical-align: middle;\n    }\n\n    .dataframe tbody tr th {\n        vertical-align: top;\n    }\n\n    .dataframe thead th {\n        text-align: right;\n    }\n</style>\n<table border=\"1\" class=\"dataframe\">\n  <thead>\n    <tr style=\"text-align: right;\">\n      <th></th>\n      <th>order_id</th>\n      <th>product_id</th>\n      <th>add_to_cart_order</th>\n      <th>reordered</th>\n    </tr>\n  </thead>\n  <tbody>\n    <tr>\n      <th>0</th>\n      <td>1</td>\n      <td>49302</td>\n      <td>1</td>\n      <td>1</td>\n    </tr>\n    <tr>\n      <th>1</th>\n      <td>1</td>\n      <td>11109</td>\n      <td>2</td>\n      <td>1</td>\n    </tr>\n    <tr>\n      <th>2</th>\n      <td>1</td>\n      <td>10246</td>\n      <td>3</td>\n      <td>0</td>\n    </tr>\n    <tr>\n      <th>3</th>\n      <td>1</td>\n      <td>49683</td>\n      <td>4</td>\n      <td>0</td>\n    </tr>\n    <tr>\n      <th>4</th>\n      <td>1</td>\n      <td>43633</td>\n      <td>5</td>\n      <td>1</td>\n    </tr>\n  </tbody>\n</table>\n</div>"
     },
     "execution_count": 11,
     "metadata": {},
     "output_type": "execute_result"
    }
   ],
   "source": [
    "merged_order_products = pd.merge(order_products_train, order_products_prior, how = 'outer')\n",
    "merged_order_products.head()"
   ],
   "metadata": {
    "collapsed": false,
    "pycharm": {
     "name": "#%%\n"
    }
   }
  },
  {
   "cell_type": "code",
   "execution_count": 12,
   "outputs": [
    {
     "data": {
      "text/plain": "   order_id  product_id  add_to_cart_order  reordered      product_name  \\\n0         1       49302                  1          1  Bulgarian Yogurt   \n1    816049       49302                  7          1  Bulgarian Yogurt   \n2   1242203       49302                  1          1  Bulgarian Yogurt   \n3   1383349       49302                 11          1  Bulgarian Yogurt   \n4   1787378       49302                  8          0  Bulgarian Yogurt   \n\n   aisle_id  department_id   aisle  department  \n0       120             16  yogurt  dairy eggs  \n1       120             16  yogurt  dairy eggs  \n2       120             16  yogurt  dairy eggs  \n3       120             16  yogurt  dairy eggs  \n4       120             16  yogurt  dairy eggs  ",
      "text/html": "<div>\n<style scoped>\n    .dataframe tbody tr th:only-of-type {\n        vertical-align: middle;\n    }\n\n    .dataframe tbody tr th {\n        vertical-align: top;\n    }\n\n    .dataframe thead th {\n        text-align: right;\n    }\n</style>\n<table border=\"1\" class=\"dataframe\">\n  <thead>\n    <tr style=\"text-align: right;\">\n      <th></th>\n      <th>order_id</th>\n      <th>product_id</th>\n      <th>add_to_cart_order</th>\n      <th>reordered</th>\n      <th>product_name</th>\n      <th>aisle_id</th>\n      <th>department_id</th>\n      <th>aisle</th>\n      <th>department</th>\n    </tr>\n  </thead>\n  <tbody>\n    <tr>\n      <th>0</th>\n      <td>1</td>\n      <td>49302</td>\n      <td>1</td>\n      <td>1</td>\n      <td>Bulgarian Yogurt</td>\n      <td>120</td>\n      <td>16</td>\n      <td>yogurt</td>\n      <td>dairy eggs</td>\n    </tr>\n    <tr>\n      <th>1</th>\n      <td>816049</td>\n      <td>49302</td>\n      <td>7</td>\n      <td>1</td>\n      <td>Bulgarian Yogurt</td>\n      <td>120</td>\n      <td>16</td>\n      <td>yogurt</td>\n      <td>dairy eggs</td>\n    </tr>\n    <tr>\n      <th>2</th>\n      <td>1242203</td>\n      <td>49302</td>\n      <td>1</td>\n      <td>1</td>\n      <td>Bulgarian Yogurt</td>\n      <td>120</td>\n      <td>16</td>\n      <td>yogurt</td>\n      <td>dairy eggs</td>\n    </tr>\n    <tr>\n      <th>3</th>\n      <td>1383349</td>\n      <td>49302</td>\n      <td>11</td>\n      <td>1</td>\n      <td>Bulgarian Yogurt</td>\n      <td>120</td>\n      <td>16</td>\n      <td>yogurt</td>\n      <td>dairy eggs</td>\n    </tr>\n    <tr>\n      <th>4</th>\n      <td>1787378</td>\n      <td>49302</td>\n      <td>8</td>\n      <td>0</td>\n      <td>Bulgarian Yogurt</td>\n      <td>120</td>\n      <td>16</td>\n      <td>yogurt</td>\n      <td>dairy eggs</td>\n    </tr>\n  </tbody>\n</table>\n</div>"
     },
     "execution_count": 12,
     "metadata": {},
     "output_type": "execute_result"
    }
   ],
   "source": [
    "order_products_desc = pd.merge(merged_order_products, products_desc, on = 'product_id')\n",
    "order_products_desc.head()"
   ],
   "metadata": {
    "collapsed": false,
    "pycharm": {
     "name": "#%%\n"
    }
   }
  },
  {
   "cell_type": "code",
   "execution_count": 13,
   "outputs": [
    {
     "data": {
      "text/plain": "   order_id  user_id eval_set  order_number  order_dow  order_hour_of_day  \\\n0   2539329        1    prior             1          2                  8   \n1   2539329        1    prior             1          2                  8   \n2   2539329        1    prior             1          2                  8   \n3   2539329        1    prior             1          2                  8   \n4   2539329        1    prior             1          2                  8   \n\n   days_since_prior_order  product_id  add_to_cart_order  reordered  \\\n0                     NaN         196                  1          0   \n1                     NaN       26088                  4          0   \n2                     NaN       14084                  2          0   \n3                     NaN       26405                  5          0   \n4                     NaN       12427                  3          0   \n\n                              product_name  aisle_id  department_id  \\\n0                                     Soda        77              7   \n1               Aged White Cheddar Popcorn        23             19   \n2  Organic Unsweetened Vanilla Almond Milk        91             16   \n3         XL Pick-A-Size Paper Towel Rolls        54             17   \n4                      Original Beef Jerky        23             19   \n\n             aisle  department  \n0      soft drinks   beverages  \n1    popcorn jerky      snacks  \n2  soy lactosefree  dairy eggs  \n3      paper goods   household  \n4    popcorn jerky      snacks  ",
      "text/html": "<div>\n<style scoped>\n    .dataframe tbody tr th:only-of-type {\n        vertical-align: middle;\n    }\n\n    .dataframe tbody tr th {\n        vertical-align: top;\n    }\n\n    .dataframe thead th {\n        text-align: right;\n    }\n</style>\n<table border=\"1\" class=\"dataframe\">\n  <thead>\n    <tr style=\"text-align: right;\">\n      <th></th>\n      <th>order_id</th>\n      <th>user_id</th>\n      <th>eval_set</th>\n      <th>order_number</th>\n      <th>order_dow</th>\n      <th>order_hour_of_day</th>\n      <th>days_since_prior_order</th>\n      <th>product_id</th>\n      <th>add_to_cart_order</th>\n      <th>reordered</th>\n      <th>product_name</th>\n      <th>aisle_id</th>\n      <th>department_id</th>\n      <th>aisle</th>\n      <th>department</th>\n    </tr>\n  </thead>\n  <tbody>\n    <tr>\n      <th>0</th>\n      <td>2539329</td>\n      <td>1</td>\n      <td>prior</td>\n      <td>1</td>\n      <td>2</td>\n      <td>8</td>\n      <td>NaN</td>\n      <td>196</td>\n      <td>1</td>\n      <td>0</td>\n      <td>Soda</td>\n      <td>77</td>\n      <td>7</td>\n      <td>soft drinks</td>\n      <td>beverages</td>\n    </tr>\n    <tr>\n      <th>1</th>\n      <td>2539329</td>\n      <td>1</td>\n      <td>prior</td>\n      <td>1</td>\n      <td>2</td>\n      <td>8</td>\n      <td>NaN</td>\n      <td>26088</td>\n      <td>4</td>\n      <td>0</td>\n      <td>Aged White Cheddar Popcorn</td>\n      <td>23</td>\n      <td>19</td>\n      <td>popcorn jerky</td>\n      <td>snacks</td>\n    </tr>\n    <tr>\n      <th>2</th>\n      <td>2539329</td>\n      <td>1</td>\n      <td>prior</td>\n      <td>1</td>\n      <td>2</td>\n      <td>8</td>\n      <td>NaN</td>\n      <td>14084</td>\n      <td>2</td>\n      <td>0</td>\n      <td>Organic Unsweetened Vanilla Almond Milk</td>\n      <td>91</td>\n      <td>16</td>\n      <td>soy lactosefree</td>\n      <td>dairy eggs</td>\n    </tr>\n    <tr>\n      <th>3</th>\n      <td>2539329</td>\n      <td>1</td>\n      <td>prior</td>\n      <td>1</td>\n      <td>2</td>\n      <td>8</td>\n      <td>NaN</td>\n      <td>26405</td>\n      <td>5</td>\n      <td>0</td>\n      <td>XL Pick-A-Size Paper Towel Rolls</td>\n      <td>54</td>\n      <td>17</td>\n      <td>paper goods</td>\n      <td>household</td>\n    </tr>\n    <tr>\n      <th>4</th>\n      <td>2539329</td>\n      <td>1</td>\n      <td>prior</td>\n      <td>1</td>\n      <td>2</td>\n      <td>8</td>\n      <td>NaN</td>\n      <td>12427</td>\n      <td>3</td>\n      <td>0</td>\n      <td>Original Beef Jerky</td>\n      <td>23</td>\n      <td>19</td>\n      <td>popcorn jerky</td>\n      <td>snacks</td>\n    </tr>\n  </tbody>\n</table>\n</div>"
     },
     "execution_count": 13,
     "metadata": {},
     "output_type": "execute_result"
    }
   ],
   "source": [
    "merged_orders = pd.merge(orders, order_products_desc, on = 'order_id')\n",
    "merged_orders.head()"
   ],
   "metadata": {
    "collapsed": false,
    "pycharm": {
     "name": "#%%\n"
    }
   }
  },
  {
   "cell_type": "code",
   "execution_count": 14,
   "outputs": [
    {
     "data": {
      "text/plain": "     order_id  user_id eval_set  order_number  order_dow  order_hour_of_day  \\\n38    2774568        3     test            13          5                 15   \n44     329954        4     test             6          3                 12   \n53    1528013        6     test             4          3                 16   \n96    1376945       11     test             8          6                 11   \n102   1356845       12     test             6          1                 20   \n\n     days_since_prior_order  \n38                     11.0  \n44                     30.0  \n53                     22.0  \n96                      8.0  \n102                    30.0  ",
      "text/html": "<div>\n<style scoped>\n    .dataframe tbody tr th:only-of-type {\n        vertical-align: middle;\n    }\n\n    .dataframe tbody tr th {\n        vertical-align: top;\n    }\n\n    .dataframe thead th {\n        text-align: right;\n    }\n</style>\n<table border=\"1\" class=\"dataframe\">\n  <thead>\n    <tr style=\"text-align: right;\">\n      <th></th>\n      <th>order_id</th>\n      <th>user_id</th>\n      <th>eval_set</th>\n      <th>order_number</th>\n      <th>order_dow</th>\n      <th>order_hour_of_day</th>\n      <th>days_since_prior_order</th>\n    </tr>\n  </thead>\n  <tbody>\n    <tr>\n      <th>38</th>\n      <td>2774568</td>\n      <td>3</td>\n      <td>test</td>\n      <td>13</td>\n      <td>5</td>\n      <td>15</td>\n      <td>11.0</td>\n    </tr>\n    <tr>\n      <th>44</th>\n      <td>329954</td>\n      <td>4</td>\n      <td>test</td>\n      <td>6</td>\n      <td>3</td>\n      <td>12</td>\n      <td>30.0</td>\n    </tr>\n    <tr>\n      <th>53</th>\n      <td>1528013</td>\n      <td>6</td>\n      <td>test</td>\n      <td>4</td>\n      <td>3</td>\n      <td>16</td>\n      <td>22.0</td>\n    </tr>\n    <tr>\n      <th>96</th>\n      <td>1376945</td>\n      <td>11</td>\n      <td>test</td>\n      <td>8</td>\n      <td>6</td>\n      <td>11</td>\n      <td>8.0</td>\n    </tr>\n    <tr>\n      <th>102</th>\n      <td>1356845</td>\n      <td>12</td>\n      <td>test</td>\n      <td>6</td>\n      <td>1</td>\n      <td>20</td>\n      <td>30.0</td>\n    </tr>\n  </tbody>\n</table>\n</div>"
     },
     "execution_count": 14,
     "metadata": {},
     "output_type": "execute_result"
    }
   ],
   "source": [
    "test = orders[orders['eval_set']=='test']\n",
    "test.head()"
   ],
   "metadata": {
    "collapsed": false,
    "pycharm": {
     "name": "#%%\n"
    }
   }
  },
  {
   "cell_type": "code",
   "execution_count": 16,
   "outputs": [],
   "source": [
    "pickle.dump(merged_orders, open(\"merged_orders.p\", \"wb\"))"
   ],
   "metadata": {
    "collapsed": false,
    "pycharm": {
     "name": "#%%\n"
    }
   }
  },
  {
   "cell_type": "code",
   "execution_count": 20,
   "outputs": [],
   "source": [
    "user_data = merged_orders[['user_id', 'order_number', 'order_dow', 'order_hour_of_day','days_since_prior_order', 'aisle']]"
   ],
   "metadata": {
    "collapsed": false,
    "pycharm": {
     "name": "#%%\n"
    }
   }
  },
  {
   "cell_type": "code",
   "execution_count": 21,
   "outputs": [],
   "source": [
    "user_data = pd.get_dummies(user_data, prefix=None, columns=['aisle'])"
   ],
   "metadata": {
    "collapsed": false,
    "pycharm": {
     "name": "#%%\n"
    }
   }
  },
  {
   "cell_type": "code",
   "execution_count": 22,
   "outputs": [],
   "source": [
    "# Splitting the data in thirds to use groupby then will rejoin them\n",
    "user_data1 = user_data[user_data['user_id'] <= 65000]\n",
    "user_data2 = user_data[(user_data['user_id'] <= 135000) & (user_data['user_id'] > 65000)]\n",
    "user_data3 = user_data[user_data['user_id'] > 135000]"
   ],
   "metadata": {
    "collapsed": false,
    "pycharm": {
     "name": "#%%\n"
    }
   }
  },
  {
   "cell_type": "code",
   "execution_count": 23,
   "outputs": [],
   "source": [
    "grouped_user1 = user_data1.groupby('user_id').sum()\n",
    "grouped_user2 = user_data2.groupby('user_id').sum()\n",
    "grouped_user3 = user_data3.groupby('user_id').sum()"
   ],
   "metadata": {
    "collapsed": false,
    "pycharm": {
     "name": "#%%\n"
    }
   }
  },
  {
   "cell_type": "code",
   "execution_count": 24,
   "outputs": [],
   "source": [
    "user_data1_noaisles = user_data1.iloc[:,:5]\n",
    "user_data2_noaisles = user_data2.iloc[:,:5]\n",
    "user_data3_noaisles = user_data3.iloc[:,:5]"
   ],
   "metadata": {
    "collapsed": false,
    "pycharm": {
     "name": "#%%\n"
    }
   }
  },
  {
   "cell_type": "code",
   "execution_count": 25,
   "outputs": [],
   "source": [
    "group1 = user_data1_noaisles.groupby('user_id').agg({'order_number': 'max', 'order_dow': lambda x:x.value_counts().index[0],\n",
    "                                                     'order_hour_of_day': 'median', 'days_since_prior_order': 'mean'})\n",
    "group2 = user_data2_noaisles.groupby('user_id').agg({'order_number': 'max', 'order_dow': lambda x:x.value_counts().index[0],\n",
    "                                                     'order_hour_of_day': 'median', 'days_since_prior_order': 'mean'})\n",
    "group3 = user_data3_noaisles.groupby('user_id').agg({'order_number': 'max', 'order_dow': lambda x:x.value_counts().index[0],\n",
    "                                                     'order_hour_of_day': 'median', 'days_since_prior_order': 'mean'})"
   ],
   "metadata": {
    "collapsed": false,
    "pycharm": {
     "name": "#%%\n"
    }
   }
  },
  {
   "cell_type": "code",
   "execution_count": 26,
   "outputs": [
    {
     "data": {
      "text/plain": "         aisle_air fresheners candles  aisle_asian foods  \\\nuser_id                                                    \n1                                 0.0                0.0   \n2                                 0.0                3.0   \n3                                 0.0                0.0   \n4                                 0.0                0.0   \n5                                 1.0                4.0   \n\n         aisle_baby accessories  aisle_baby bath body care  \\\nuser_id                                                      \n1                           0.0                        0.0   \n2                           0.0                        0.0   \n3                           0.0                        0.0   \n4                           0.0                        0.0   \n5                           0.0                        0.0   \n\n         aisle_baby food formula  aisle_bakery desserts  \\\nuser_id                                                   \n1                            0.0                    0.0   \n2                            0.0                    0.0   \n3                            0.0                    0.0   \n4                            0.0                    0.0   \n5                            0.0                    0.0   \n\n         aisle_baking ingredients  aisle_baking supplies decor  aisle_beauty  \\\nuser_id                                                                        \n1                             0.0                          0.0           0.0   \n2                             2.0                          0.0           0.0   \n3                             0.0                          0.0           0.0   \n4                             0.0                          0.0           0.0   \n5                             0.0                          0.0           0.0   \n\n         aisle_beers coolers  ...  aisle_trail mix snack mix  \\\nuser_id                       ...                              \n1                        0.0  ...                        0.0   \n2                        0.0  ...                        0.0   \n3                        0.0  ...                        0.0   \n4                        0.0  ...                        0.0   \n5                        0.0  ...                        0.0   \n\n         aisle_trash bags liners  aisle_vitamins supplements  \\\nuser_id                                                        \n1                            0.0                         0.0   \n2                            0.0                         0.0   \n3                            0.0                         0.0   \n4                            0.0                         0.0   \n5                            0.0                         0.0   \n\n         aisle_water seltzer sparkling water  aisle_white wines  aisle_yogurt  \\\nuser_id                                                                         \n1                                        0.0                0.0           2.0   \n2                                        2.0                0.0          42.0   \n3                                        2.0                0.0           0.0   \n4                                        1.0                0.0           0.0   \n5                                        0.0                0.0           3.0   \n\n         num_orders  mean_days_since  mode_order_dow  median_order_hour  \nuser_id                                                                  \n1                11        19.200000               4                8.0  \n2                15        18.009390               1               10.0  \n3                12        11.487179               0               16.0  \n4                 5        15.357143               4               13.0  \n5                 5        12.314286               0               16.0  \n\n[5 rows x 138 columns]",
      "text/html": "<div>\n<style scoped>\n    .dataframe tbody tr th:only-of-type {\n        vertical-align: middle;\n    }\n\n    .dataframe tbody tr th {\n        vertical-align: top;\n    }\n\n    .dataframe thead th {\n        text-align: right;\n    }\n</style>\n<table border=\"1\" class=\"dataframe\">\n  <thead>\n    <tr style=\"text-align: right;\">\n      <th></th>\n      <th>aisle_air fresheners candles</th>\n      <th>aisle_asian foods</th>\n      <th>aisle_baby accessories</th>\n      <th>aisle_baby bath body care</th>\n      <th>aisle_baby food formula</th>\n      <th>aisle_bakery desserts</th>\n      <th>aisle_baking ingredients</th>\n      <th>aisle_baking supplies decor</th>\n      <th>aisle_beauty</th>\n      <th>aisle_beers coolers</th>\n      <th>...</th>\n      <th>aisle_trail mix snack mix</th>\n      <th>aisle_trash bags liners</th>\n      <th>aisle_vitamins supplements</th>\n      <th>aisle_water seltzer sparkling water</th>\n      <th>aisle_white wines</th>\n      <th>aisle_yogurt</th>\n      <th>num_orders</th>\n      <th>mean_days_since</th>\n      <th>mode_order_dow</th>\n      <th>median_order_hour</th>\n    </tr>\n    <tr>\n      <th>user_id</th>\n      <th></th>\n      <th></th>\n      <th></th>\n      <th></th>\n      <th></th>\n      <th></th>\n      <th></th>\n      <th></th>\n      <th></th>\n      <th></th>\n      <th></th>\n      <th></th>\n      <th></th>\n      <th></th>\n      <th></th>\n      <th></th>\n      <th></th>\n      <th></th>\n      <th></th>\n      <th></th>\n      <th></th>\n    </tr>\n  </thead>\n  <tbody>\n    <tr>\n      <th>1</th>\n      <td>0.0</td>\n      <td>0.0</td>\n      <td>0.0</td>\n      <td>0.0</td>\n      <td>0.0</td>\n      <td>0.0</td>\n      <td>0.0</td>\n      <td>0.0</td>\n      <td>0.0</td>\n      <td>0.0</td>\n      <td>...</td>\n      <td>0.0</td>\n      <td>0.0</td>\n      <td>0.0</td>\n      <td>0.0</td>\n      <td>0.0</td>\n      <td>2.0</td>\n      <td>11</td>\n      <td>19.200000</td>\n      <td>4</td>\n      <td>8.0</td>\n    </tr>\n    <tr>\n      <th>2</th>\n      <td>0.0</td>\n      <td>3.0</td>\n      <td>0.0</td>\n      <td>0.0</td>\n      <td>0.0</td>\n      <td>0.0</td>\n      <td>2.0</td>\n      <td>0.0</td>\n      <td>0.0</td>\n      <td>0.0</td>\n      <td>...</td>\n      <td>0.0</td>\n      <td>0.0</td>\n      <td>0.0</td>\n      <td>2.0</td>\n      <td>0.0</td>\n      <td>42.0</td>\n      <td>15</td>\n      <td>18.009390</td>\n      <td>1</td>\n      <td>10.0</td>\n    </tr>\n    <tr>\n      <th>3</th>\n      <td>0.0</td>\n      <td>0.0</td>\n      <td>0.0</td>\n      <td>0.0</td>\n      <td>0.0</td>\n      <td>0.0</td>\n      <td>0.0</td>\n      <td>0.0</td>\n      <td>0.0</td>\n      <td>0.0</td>\n      <td>...</td>\n      <td>0.0</td>\n      <td>0.0</td>\n      <td>0.0</td>\n      <td>2.0</td>\n      <td>0.0</td>\n      <td>0.0</td>\n      <td>12</td>\n      <td>11.487179</td>\n      <td>0</td>\n      <td>16.0</td>\n    </tr>\n    <tr>\n      <th>4</th>\n      <td>0.0</td>\n      <td>0.0</td>\n      <td>0.0</td>\n      <td>0.0</td>\n      <td>0.0</td>\n      <td>0.0</td>\n      <td>0.0</td>\n      <td>0.0</td>\n      <td>0.0</td>\n      <td>0.0</td>\n      <td>...</td>\n      <td>0.0</td>\n      <td>0.0</td>\n      <td>0.0</td>\n      <td>1.0</td>\n      <td>0.0</td>\n      <td>0.0</td>\n      <td>5</td>\n      <td>15.357143</td>\n      <td>4</td>\n      <td>13.0</td>\n    </tr>\n    <tr>\n      <th>5</th>\n      <td>1.0</td>\n      <td>4.0</td>\n      <td>0.0</td>\n      <td>0.0</td>\n      <td>0.0</td>\n      <td>0.0</td>\n      <td>0.0</td>\n      <td>0.0</td>\n      <td>0.0</td>\n      <td>0.0</td>\n      <td>...</td>\n      <td>0.0</td>\n      <td>0.0</td>\n      <td>0.0</td>\n      <td>0.0</td>\n      <td>0.0</td>\n      <td>3.0</td>\n      <td>5</td>\n      <td>12.314286</td>\n      <td>0</td>\n      <td>16.0</td>\n    </tr>\n  </tbody>\n</table>\n<p>5 rows × 138 columns</p>\n</div>"
     },
     "execution_count": 26,
     "metadata": {},
     "output_type": "execute_result"
    }
   ],
   "source": [
    "grouped_user1['num_orders'] = group1.order_number\n",
    "grouped_user2['num_orders'] = group2.order_number\n",
    "grouped_user3['num_orders'] = group3.order_number\n",
    "\n",
    "grouped_user1['mean_days_since'] = group1.days_since_prior_order\n",
    "grouped_user2['mean_days_since'] = group2.days_since_prior_order\n",
    "grouped_user3['mean_days_since'] = group3.days_since_prior_order\n",
    "\n",
    "grouped_user1['mode_order_dow'] = group1.order_dow\n",
    "grouped_user2['mode_order_dow'] = group2.order_dow\n",
    "grouped_user3['mode_order_dow'] = group3.order_dow\n",
    "\n",
    "grouped_user1['median_order_hour'] = group1.order_hour_of_day\n",
    "grouped_user2['median_order_hour'] = group2.order_hour_of_day\n",
    "grouped_user3['median_order_hour'] = group3.order_hour_of_day\n",
    "\n",
    "grouped_user1.drop(columns=['order_number', 'order_dow', 'order_hour_of_day', 'days_since_prior_order'], inplace=True)\n",
    "grouped_user2.drop(columns=['order_number', 'order_dow', 'order_hour_of_day', 'days_since_prior_order'], inplace=True)\n",
    "grouped_user3.drop(columns=['order_number', 'order_dow', 'order_hour_of_day', 'days_since_prior_order'], inplace=True)\n",
    "\n",
    "grouped_users = pd.concat([grouped_user1, grouped_user2, grouped_user3], axis=0)\n",
    "grouped_users.head()"
   ],
   "metadata": {
    "collapsed": false,
    "pycharm": {
     "name": "#%%\n"
    }
   }
  },
  {
   "cell_type": "code",
   "execution_count": 27,
   "outputs": [],
   "source": [
    "def movecol(df, cols_to_move=[], ref_col='', place='After'):\n",
    "\n",
    "    cols = df.columns.tolist()\n",
    "    if place == 'After':\n",
    "        seg1 = cols[:list(cols).index(ref_col) + 1]\n",
    "        seg2 = cols_to_move\n",
    "    if place == 'Before':\n",
    "        seg1 = cols[:list(cols).index(ref_col)]\n",
    "        seg2 = cols_to_move + [ref_col]\n",
    "\n",
    "    seg1 = [i for i in seg1 if i not in seg2]\n",
    "    seg3 = [i for i in cols if i not in seg1 + seg2]\n",
    "\n",
    "    return(df[seg1 + seg2 + seg3])"
   ],
   "metadata": {
    "collapsed": false,
    "pycharm": {
     "name": "#%%\n"
    }
   }
  },
  {
   "cell_type": "code",
   "execution_count": 28,
   "outputs": [
    {
     "data": {
      "text/plain": "         num_orders  mode_order_dow  median_order_hour  mean_days_since  \\\nuser_id                                                                   \n1                11               4                8.0        19.200000   \n2                15               1               10.0        18.009390   \n3                12               0               16.0        11.487179   \n4                 5               4               13.0        15.357143   \n5                 5               0               16.0        12.314286   \n\n         aisle_air fresheners candles  aisle_asian foods  \\\nuser_id                                                    \n1                                 0.0                0.0   \n2                                 0.0                3.0   \n3                                 0.0                0.0   \n4                                 0.0                0.0   \n5                                 1.0                4.0   \n\n         aisle_baby accessories  aisle_baby bath body care  \\\nuser_id                                                      \n1                           0.0                        0.0   \n2                           0.0                        0.0   \n3                           0.0                        0.0   \n4                           0.0                        0.0   \n5                           0.0                        0.0   \n\n         aisle_baby food formula  aisle_bakery desserts  ...  aisle_spreads  \\\nuser_id                                                  ...                  \n1                            0.0                    0.0  ...            1.0   \n2                            0.0                    0.0  ...            3.0   \n3                            0.0                    0.0  ...            4.0   \n4                            0.0                    0.0  ...            0.0   \n5                            0.0                    0.0  ...            0.0   \n\n         aisle_tea  aisle_tofu meat alternatives  aisle_tortillas flat bread  \\\nuser_id                                                                        \n1              0.0                           0.0                         0.0   \n2              1.0                           1.0                         0.0   \n3              1.0                           0.0                         0.0   \n4              0.0                           0.0                         1.0   \n5              0.0                           0.0                         0.0   \n\n         aisle_trail mix snack mix  aisle_trash bags liners  \\\nuser_id                                                       \n1                              0.0                      0.0   \n2                              0.0                      0.0   \n3                              0.0                      0.0   \n4                              0.0                      0.0   \n5                              0.0                      0.0   \n\n         aisle_vitamins supplements  aisle_water seltzer sparkling water  \\\nuser_id                                                                    \n1                               0.0                                  0.0   \n2                               0.0                                  2.0   \n3                               0.0                                  2.0   \n4                               0.0                                  1.0   \n5                               0.0                                  0.0   \n\n         aisle_white wines  aisle_yogurt  \nuser_id                                   \n1                      0.0           2.0  \n2                      0.0          42.0  \n3                      0.0           0.0  \n4                      0.0           0.0  \n5                      0.0           3.0  \n\n[5 rows x 138 columns]",
      "text/html": "<div>\n<style scoped>\n    .dataframe tbody tr th:only-of-type {\n        vertical-align: middle;\n    }\n\n    .dataframe tbody tr th {\n        vertical-align: top;\n    }\n\n    .dataframe thead th {\n        text-align: right;\n    }\n</style>\n<table border=\"1\" class=\"dataframe\">\n  <thead>\n    <tr style=\"text-align: right;\">\n      <th></th>\n      <th>num_orders</th>\n      <th>mode_order_dow</th>\n      <th>median_order_hour</th>\n      <th>mean_days_since</th>\n      <th>aisle_air fresheners candles</th>\n      <th>aisle_asian foods</th>\n      <th>aisle_baby accessories</th>\n      <th>aisle_baby bath body care</th>\n      <th>aisle_baby food formula</th>\n      <th>aisle_bakery desserts</th>\n      <th>...</th>\n      <th>aisle_spreads</th>\n      <th>aisle_tea</th>\n      <th>aisle_tofu meat alternatives</th>\n      <th>aisle_tortillas flat bread</th>\n      <th>aisle_trail mix snack mix</th>\n      <th>aisle_trash bags liners</th>\n      <th>aisle_vitamins supplements</th>\n      <th>aisle_water seltzer sparkling water</th>\n      <th>aisle_white wines</th>\n      <th>aisle_yogurt</th>\n    </tr>\n    <tr>\n      <th>user_id</th>\n      <th></th>\n      <th></th>\n      <th></th>\n      <th></th>\n      <th></th>\n      <th></th>\n      <th></th>\n      <th></th>\n      <th></th>\n      <th></th>\n      <th></th>\n      <th></th>\n      <th></th>\n      <th></th>\n      <th></th>\n      <th></th>\n      <th></th>\n      <th></th>\n      <th></th>\n      <th></th>\n      <th></th>\n    </tr>\n  </thead>\n  <tbody>\n    <tr>\n      <th>1</th>\n      <td>11</td>\n      <td>4</td>\n      <td>8.0</td>\n      <td>19.200000</td>\n      <td>0.0</td>\n      <td>0.0</td>\n      <td>0.0</td>\n      <td>0.0</td>\n      <td>0.0</td>\n      <td>0.0</td>\n      <td>...</td>\n      <td>1.0</td>\n      <td>0.0</td>\n      <td>0.0</td>\n      <td>0.0</td>\n      <td>0.0</td>\n      <td>0.0</td>\n      <td>0.0</td>\n      <td>0.0</td>\n      <td>0.0</td>\n      <td>2.0</td>\n    </tr>\n    <tr>\n      <th>2</th>\n      <td>15</td>\n      <td>1</td>\n      <td>10.0</td>\n      <td>18.009390</td>\n      <td>0.0</td>\n      <td>3.0</td>\n      <td>0.0</td>\n      <td>0.0</td>\n      <td>0.0</td>\n      <td>0.0</td>\n      <td>...</td>\n      <td>3.0</td>\n      <td>1.0</td>\n      <td>1.0</td>\n      <td>0.0</td>\n      <td>0.0</td>\n      <td>0.0</td>\n      <td>0.0</td>\n      <td>2.0</td>\n      <td>0.0</td>\n      <td>42.0</td>\n    </tr>\n    <tr>\n      <th>3</th>\n      <td>12</td>\n      <td>0</td>\n      <td>16.0</td>\n      <td>11.487179</td>\n      <td>0.0</td>\n      <td>0.0</td>\n      <td>0.0</td>\n      <td>0.0</td>\n      <td>0.0</td>\n      <td>0.0</td>\n      <td>...</td>\n      <td>4.0</td>\n      <td>1.0</td>\n      <td>0.0</td>\n      <td>0.0</td>\n      <td>0.0</td>\n      <td>0.0</td>\n      <td>0.0</td>\n      <td>2.0</td>\n      <td>0.0</td>\n      <td>0.0</td>\n    </tr>\n    <tr>\n      <th>4</th>\n      <td>5</td>\n      <td>4</td>\n      <td>13.0</td>\n      <td>15.357143</td>\n      <td>0.0</td>\n      <td>0.0</td>\n      <td>0.0</td>\n      <td>0.0</td>\n      <td>0.0</td>\n      <td>0.0</td>\n      <td>...</td>\n      <td>0.0</td>\n      <td>0.0</td>\n      <td>0.0</td>\n      <td>1.0</td>\n      <td>0.0</td>\n      <td>0.0</td>\n      <td>0.0</td>\n      <td>1.0</td>\n      <td>0.0</td>\n      <td>0.0</td>\n    </tr>\n    <tr>\n      <th>5</th>\n      <td>5</td>\n      <td>0</td>\n      <td>16.0</td>\n      <td>12.314286</td>\n      <td>1.0</td>\n      <td>4.0</td>\n      <td>0.0</td>\n      <td>0.0</td>\n      <td>0.0</td>\n      <td>0.0</td>\n      <td>...</td>\n      <td>0.0</td>\n      <td>0.0</td>\n      <td>0.0</td>\n      <td>0.0</td>\n      <td>0.0</td>\n      <td>0.0</td>\n      <td>0.0</td>\n      <td>0.0</td>\n      <td>0.0</td>\n      <td>3.0</td>\n    </tr>\n  </tbody>\n</table>\n<p>5 rows × 138 columns</p>\n</div>"
     },
     "execution_count": 28,
     "metadata": {},
     "output_type": "execute_result"
    }
   ],
   "source": [
    "grouped_users = movecol(grouped_users,\n",
    "                        cols_to_move=['num_orders', 'mode_order_dow', 'median_order_hour', 'mean_days_since'],\n",
    "                        ref_col='aisle_air fresheners candles',\n",
    "                        place='Before')\n",
    "grouped_users.head()"
   ],
   "metadata": {
    "collapsed": false,
    "pycharm": {
     "name": "#%%\n"
    }
   }
  },
  {
   "cell_type": "code",
   "execution_count": 29,
   "outputs": [],
   "source": [
    "pickle.dump(grouped_users, open(\"grouped_users.p\", \"wb\"))"
   ],
   "metadata": {
    "collapsed": false,
    "pycharm": {
     "name": "#%%\n"
    }
   }
  },
  {
   "cell_type": "code",
   "execution_count": 30,
   "outputs": [],
   "source": [
    "from sklearn.preprocessing import StandardScaler\n",
    "scaler = StandardScaler()\n",
    "scaled_users = scaler.fit_transform(grouped_users)"
   ],
   "metadata": {
    "collapsed": false,
    "pycharm": {
     "name": "#%%\n"
    }
   }
  },
  {
   "cell_type": "code",
   "execution_count": 32,
   "outputs": [],
   "source": [
    "from sklearn.cluster import KMeans\n",
    "k_means_20 = KMeans(n_clusters=20, random_state=12, algorithm='full').fit(scaled_users)\n",
    "pickle.dump(k_means_20, open(\"k_means_20.p\", \"wb\"))"
   ],
   "metadata": {
    "collapsed": false,
    "pycharm": {
     "name": "#%%\n"
    }
   }
  },
  {
   "cell_type": "code",
   "execution_count": 33,
   "outputs": [],
   "source": [
    "grouped_users['cluster'] = k_means_20.labels_"
   ],
   "metadata": {
    "collapsed": false,
    "pycharm": {
     "name": "#%%\n"
    }
   }
  },
  {
   "cell_type": "code",
   "execution_count": 34,
   "outputs": [],
   "source": [
    "pickle.dump(grouped_users, open('clustered_users.p', 'wb'))"
   ],
   "metadata": {
    "collapsed": false,
    "pycharm": {
     "name": "#%%\n"
    }
   }
  },
  {
   "cell_type": "code",
   "execution_count": 35,
   "outputs": [],
   "source": [
    "clustered_users = pickle.load(open(\"clustered_users.p\", \"rb\"))"
   ],
   "metadata": {
    "collapsed": false,
    "pycharm": {
     "name": "#%%\n"
    }
   }
  },
  {
   "cell_type": "code",
   "execution_count": 36,
   "outputs": [],
   "source": [
    "clustered_users.reset_index(inplace=True)"
   ],
   "metadata": {
    "collapsed": false,
    "pycharm": {
     "name": "#%%\n"
    }
   }
  },
  {
   "cell_type": "code",
   "execution_count": 37,
   "outputs": [],
   "source": [
    "clustered_orders = merged_orders.merge(clustered_users[['user_id','cluster']], on = 'user_id')"
   ],
   "metadata": {
    "collapsed": false,
    "pycharm": {
     "name": "#%%\n"
    }
   }
  },
  {
   "cell_type": "code",
   "execution_count": 38,
   "outputs": [],
   "source": [
    "def freq(iterable):\n",
    "    if type(iterable) == pd.core.series.Series:\n",
    "        return iterable.value_counts().rename(\"freq\")\n",
    "    else:\n",
    "        return pd.Series(Counter(iterable)).rename(\"freq\")\n",
    "\n",
    "\n",
    "# Returns number of unique orders\n",
    "def order_count(order_item):\n",
    "    return len(set(order_item.index))\n",
    "\n",
    "#Returns generator that yields item pairs, one at a time\n",
    "def get_item_pairs(order_item):\n",
    "    order_item = order_item.reset_index().to_numpy()\n",
    "    for order_id, order_object in groupby(order_item, lambda x: x[0]):\n",
    "        item_list = [item[1] for item in order_object]\n",
    "\n",
    "        for item_pair in combinations(item_list, 2):\n",
    "            yield item_pair\n",
    "\n",
    "\n",
    "# Returns frequency and support associated with item\n",
    "def merge_item_stats(item_pairs, item_stats):\n",
    "    return (item_pairs\n",
    "            .merge(item_stats.rename(columns={'freq': 'freqA', 'support': 'supportA'}),\n",
    "                   left_on='item_A', right_index=True)\n",
    "            .merge(item_stats.rename(columns={'freq': 'freqB', 'support': 'supportB'}),\n",
    "                   left_on='item_B', right_index=True))\n",
    "\n",
    "\n",
    "# Returns name associated with item\n",
    "def merge_item_name(rules, item_name):\n",
    "    columns = ['itemA','itemB','freqAB','supportAB','freqA','supportA','freqB','supportB',\n",
    "               'confidenceAtoB','confidenceBtoA','lift']\n",
    "    rules = (rules\n",
    "             .merge(item_name.rename(columns={'item_name': 'itemA'}), left_on='item_A', right_on='item_id')\n",
    "             .merge(item_name.rename(columns={'item_name': 'itemB'}), left_on='item_B', right_on='item_id'))"
   ],
   "metadata": {
    "collapsed": false,
    "pycharm": {
     "name": "#%%\n"
    }
   }
  },
  {
   "cell_type": "code",
   "execution_count": 40,
   "outputs": [],
   "source": [
    "def association_rules(order_item, min_support):\n",
    "\n",
    "    #     print(\"Starting number of order_item pairs: {:22d}\".format(len(order_item)))\n",
    "    print(\"Starting number of orders, items, order_item pairs: {}, {}, {}\".format(order_item.index.nunique(),\n",
    "                                                                                  order_item.nunique(),len(order_item)))\n",
    "\n",
    "    # Calculate item frequency and support\n",
    "    item_stats             = freq(order_item).to_frame(\"freq\")\n",
    "    item_stats['support']  = item_stats['freq'] / order_count(order_item)\n",
    "\n",
    "\n",
    "    # Filter from order_item items below min support\n",
    "    qualifying_items       = item_stats[item_stats['support'] >= min_support].index\n",
    "    order_item             = order_item[order_item.isin(qualifying_items)]\n",
    "\n",
    "    print(\"Items with support >= {}: {:15d}\".format(min_support, len(qualifying_items)))\n",
    "    #     print(\"Remaining order_item: {:21d}\".format(len(order_item)))\n",
    "    print(\"Remaning number of orders, items, order_item pairs: {}, {}, {}\".format(order_item.index.nunique(),\n",
    "                                                                                  order_item.nunique(),len(order_item)))\n",
    "\n",
    "\n",
    "    # Filter from order_item orders with less than 2 items\n",
    "    order_size             = freq(order_item.index)\n",
    "    qualifying_orders      = order_size[order_size >= 2].index\n",
    "    order_item             = order_item[order_item.index.isin(qualifying_orders)]\n",
    "\n",
    "    print(\"Remaining orders with 2+ items: {:11d}\".format(len(qualifying_orders)))\n",
    "    #     print(\"Remaining order_item: {:21d}\".format(len(order_item)))\n",
    "    print(\"Remaining number of orders, items, order_item pairs: {}, {}, {}\".format(order_item.index.nunique(),\n",
    "                                                                                   order_item.nunique(),len(order_item)))\n",
    "\n",
    "\n",
    "    # Recalculate item frequency and support\n",
    "    item_stats             = freq(order_item).to_frame(\"freq\")\n",
    "    item_stats['support']  = item_stats['freq'] / order_count(order_item)\n",
    "\n",
    "\n",
    "    # Get item pairs generator\n",
    "    item_pair_gen          = get_item_pairs(order_item)\n",
    "\n",
    "\n",
    "    # Calculate item pair frequency and support\n",
    "    item_pairs              = freq(item_pair_gen).to_frame(\"freqAB\")\n",
    "    item_pairs['supportAB'] = item_pairs['freqAB'] / len(qualifying_orders)\n",
    "\n",
    "    print(\"Item pairs: {:31d}\".format(len(item_pairs)))\n",
    "\n",
    "\n",
    "    # Filter from item_pairs those below min support\n",
    "    item_pairs              = item_pairs[item_pairs['supportAB'] >= min_support]\n",
    "\n",
    "    print(\"Item pairs with support >= {}: {:10d}\\n\".format(min_support, len(item_pairs)))\n",
    "\n",
    "\n",
    "    # Create table of association rules and compute relevant metrics\n",
    "    item_pairs = item_pairs.reset_index().rename(columns={'level_0': 'item_A', 'level_1': 'item_B'})\n",
    "    item_pairs = merge_item_stats(item_pairs, item_stats)\n",
    "\n",
    "    item_pairs['confAtoB'] = item_pairs['supportAB'] / item_pairs['supportA']\n",
    "    item_pairs['confBtoA'] = item_pairs['supportAB'] / item_pairs['supportB']\n",
    "    item_pairs['lift']           = item_pairs['supportAB'] / (item_pairs['supportA'] * item_pairs['supportB'])\n",
    "\n",
    "\n",
    "    # Return association rules sorted by lift in descending order\n",
    "    return item_pairs.sort_values('lift', ascending=False)"
   ],
   "metadata": {
    "collapsed": false,
    "pycharm": {
     "name": "#%%\n"
    }
   }
  },
  {
   "cell_type": "code",
   "execution_count": 41,
   "outputs": [],
   "source": [
    "cluster_orders = {}\n",
    "for x in range(0,20):\n",
    "    i = clustered_orders[clustered_orders['cluster'] == x]\n",
    "    i = i[['order_id', 'product_id']]\n",
    "    i = i.set_index('order_id')['product_id'].rename('item_id')\n",
    "    cluster_orders[x] = i"
   ],
   "metadata": {
    "collapsed": false,
    "pycharm": {
     "name": "#%%\n"
    }
   }
  },
  {
   "cell_type": "code",
   "execution_count": 43,
   "outputs": [
    {
     "name": "stdout",
     "output_type": "stream",
     "text": [
      "Cluster:  0\n",
      "Starting number of orders, items, order_item pairs: 22099, 14626, 264115\n",
      "Items with support >= 0.0001:            8717\n",
      "Remaning number of orders, items, order_item pairs: 22078, 8717, 256351\n",
      "Remaining orders with 2+ items:       21637\n",
      "Remaining number of orders, items, order_item pairs: 21637, 8717, 255910\n",
      "Item pairs:                          808257\n",
      "Item pairs with support >= 0.0001:     178869\n",
      "\n",
      "Cluster:  1\n",
      "Starting number of orders, items, order_item pairs: 785071, 46426, 7788280\n",
      "Items with support >= 0.0001:           10650\n",
      "Remaning number of orders, items, order_item pairs: 781265, 10650, 7187429\n",
      "Remaining orders with 2+ items:      746198\n",
      "Remaining number of orders, items, order_item pairs: 746198, 10650, 7152362\n",
      "Item pairs:                        10064495\n",
      "Item pairs with support >= 0.0001:      54507\n",
      "\n",
      "Cluster:  2\n",
      "Starting number of orders, items, order_item pairs: 53338, 16897, 754548\n",
      "Items with support >= 0.0001:            8319\n",
      "Remaning number of orders, items, order_item pairs: 53223, 8319, 736505\n",
      "Remaining orders with 2+ items:       52262\n",
      "Remaining number of orders, items, order_item pairs: 52262, 8319, 735544\n",
      "Item pairs:                         1756266\n",
      "Item pairs with support >= 0.0001:     276018\n",
      "\n",
      "Cluster:  3\n",
      "Starting number of orders, items, order_item pairs: 146839, 37993, 1862032\n",
      "Items with support >= 0.0001:           15065\n",
      "Remaning number of orders, items, order_item pairs: 146568, 15065, 1754943\n",
      "Remaining orders with 2+ items:      143766\n",
      "Remaining number of orders, items, order_item pairs: 143766, 15065, 1752141\n",
      "Item pairs:                         6383258\n",
      "Item pairs with support >= 0.0001:      72327\n",
      "\n",
      "Cluster:  4\n",
      "Starting number of orders, items, order_item pairs: 542910, 36201, 5951742\n",
      "Items with support >= 0.0001:            8735\n",
      "Remaning number of orders, items, order_item pairs: 541504, 8735, 5646989\n",
      "Remaining orders with 2+ items:      526738\n",
      "Remaining number of orders, items, order_item pairs: 526738, 8735, 5632223\n",
      "Item pairs:                         6933457\n",
      "Item pairs with support >= 0.0001:      87117\n",
      "\n",
      "Cluster:  5\n",
      "Starting number of orders, items, order_item pairs: 34338, 21392, 347793\n",
      "Items with support >= 0.0001:           12165\n",
      "Remaning number of orders, items, order_item pairs: 34277, 12165, 332363\n",
      "Remaining orders with 2+ items:       32990\n",
      "Remaining number of orders, items, order_item pairs: 32990, 12165, 331076\n",
      "Item pairs:                         1368605\n",
      "Item pairs with support >= 0.0001:     101697\n",
      "\n",
      "Cluster:  6\n",
      "Starting number of orders, items, order_item pairs: 201588, 27591, 2797103\n",
      "Items with support >= 0.0001:            9451\n",
      "Remaning number of orders, items, order_item pairs: 201393, 9451, 2699856\n",
      "Remaining orders with 2+ items:      198973\n",
      "Remaining number of orders, items, order_item pairs: 198973, 9451, 2697436\n",
      "Item pairs:                         4833446\n",
      "Item pairs with support >= 0.0001:     174063\n",
      "\n",
      "Cluster:  7\n",
      "Starting number of orders, items, order_item pairs: 8934, 9021, 122688\n",
      "Items with support >= 0.0001:            9021\n",
      "Remaning number of orders, items, order_item pairs: 8934, 9021, 122688\n",
      "Remaining orders with 2+ items:        8798\n",
      "Remaining number of orders, items, order_item pairs: 8798, 9012, 122552\n",
      "Item pairs:                          521231\n",
      "Item pairs with support >= 0.0001:     521231\n",
      "\n",
      "Cluster:  8\n",
      "Starting number of orders, items, order_item pairs: 90579, 26917, 1653446\n",
      "Items with support >= 0.0001:           11881\n",
      "Remaning number of orders, items, order_item pairs: 90523, 11881, 1606804\n",
      "Remaining orders with 2+ items:       89932\n",
      "Remaining number of orders, items, order_item pairs: 89932, 11881, 1606213\n",
      "Item pairs:                         4496908\n",
      "Item pairs with support >= 0.0001:     383194\n",
      "\n",
      "Cluster:  9\n",
      "Starting number of orders, items, order_item pairs: 28956, 14337, 237431\n",
      "Items with support >= 0.0001:            8642\n",
      "Remaning number of orders, items, order_item pairs: 28907, 8642, 229862\n",
      "Remaining orders with 2+ items:       27331\n",
      "Remaining number of orders, items, order_item pairs: 27331, 8641, 228286\n",
      "Item pairs:                          740441\n",
      "Item pairs with support >= 0.0001:     109262\n",
      "\n",
      "Cluster:  10\n",
      "Starting number of orders, items, order_item pairs: 81074, 6052, 455761\n",
      "Items with support >= 0.0001:            1982\n",
      "Remaning number of orders, items, order_item pairs: 80944, 1982, 445255\n",
      "Remaining orders with 2+ items:       73151\n",
      "Remaining number of orders, items, order_item pairs: 73151, 1982, 437462\n",
      "Item pairs:                          172361\n",
      "Item pairs with support >= 0.0001:      33197\n",
      "\n",
      "Cluster:  11\n",
      "Starting number of orders, items, order_item pairs: 27243, 15085, 315124\n",
      "Items with support >= 0.0001:            9743\n",
      "Remaning number of orders, items, order_item pairs: 27224, 9743, 307972\n",
      "Remaining orders with 2+ items:       26602\n",
      "Remaining number of orders, items, order_item pairs: 26602, 9743, 307350\n",
      "Item pairs:                         1124388\n",
      "Item pairs with support >= 0.0001:     196489\n",
      "\n",
      "Cluster:  12\n",
      "Starting number of orders, items, order_item pairs: 841322, 46782, 5804594\n",
      "Items with support >= 0.0001:            8594\n",
      "Remaning number of orders, items, order_item pairs: 830547, 8594, 5172644\n",
      "Remaining orders with 2+ items:      729445\n",
      "Remaining number of orders, items, order_item pairs: 729445, 8594, 5071542\n",
      "Item pairs:                         6168742\n",
      "Item pairs with support >= 0.0001:      26943\n",
      "\n",
      "Cluster:  13\n",
      "Starting number of orders, items, order_item pairs: 40293, 24738, 563544\n",
      "Items with support >= 0.0001:           13234\n",
      "Remaning number of orders, items, order_item pairs: 40256, 13234, 541195\n",
      "Remaining orders with 2+ items:       39559\n",
      "Remaining number of orders, items, order_item pairs: 39559, 13234, 540498\n",
      "Item pairs:                         2309232\n",
      "Item pairs with support >= 0.0001:     309892\n",
      "\n",
      "Cluster:  14\n",
      "Starting number of orders, items, order_item pairs: 192427, 24899, 2374227\n",
      "Items with support >= 0.0001:            8237\n",
      "Remaning number of orders, items, order_item pairs: 192140, 8237, 2288654\n",
      "Remaining orders with 2+ items:      188859\n",
      "Remaining number of orders, items, order_item pairs: 188859, 8237, 2285373\n",
      "Item pairs:                         3636379\n",
      "Item pairs with support >= 0.0001:     138346\n",
      "\n",
      "Cluster:  15\n",
      "Starting number of orders, items, order_item pairs: 7051, 7499, 72868\n",
      "Items with support >= 0.0001:            7499\n",
      "Remaning number of orders, items, order_item pairs: 7051, 7499, 72868\n",
      "Remaining orders with 2+ items:        6701\n",
      "Remaining number of orders, items, order_item pairs: 6701, 7487, 72518\n",
      "Item pairs:                          274107\n",
      "Item pairs with support >= 0.0001:     274107\n",
      "\n",
      "Cluster:  16\n",
      "Starting number of orders, items, order_item pairs: 35667, 16841, 507608\n",
      "Items with support >= 0.0001:            9570\n",
      "Remaning number of orders, items, order_item pairs: 35646, 9570, 495824\n",
      "Remaining orders with 2+ items:       35209\n",
      "Remaining number of orders, items, order_item pairs: 35209, 9570, 495387\n",
      "Item pairs:                         1684437\n",
      "Item pairs with support >= 0.0001:     267992\n",
      "\n",
      "Cluster:  17\n",
      "Starting number of orders, items, order_item pairs: 11543, 7112, 124542\n",
      "Items with support >= 0.0001:            5124\n",
      "Remaning number of orders, items, order_item pairs: 11532, 5124, 122554\n",
      "Remaining orders with 2+ items:       10987\n",
      "Remaining number of orders, items, order_item pairs: 10987, 5123, 122009\n",
      "Item pairs:                          348589\n",
      "Item pairs with support >= 0.0001:     137967\n",
      "\n",
      "Cluster:  18\n",
      "Starting number of orders, items, order_item pairs: 169327, 39047, 1553965\n",
      "Items with support >= 0.0001:           13520\n",
      "Remaning number of orders, items, order_item pairs: 168488, 13520, 1421256\n",
      "Remaining orders with 2+ items:      159974\n",
      "Remaining number of orders, items, order_item pairs: 159974, 13520, 1412742\n",
      "Item pairs:                         4469825\n",
      "Item pairs with support >= 0.0001:      26478\n",
      "\n",
      "Cluster:  19\n",
      "Starting number of orders, items, order_item pairs: 25484, 16350, 267695\n",
      "Items with support >= 0.0001:            9644\n",
      "Remaning number of orders, items, order_item pairs: 25457, 9644, 258928\n",
      "Remaining orders with 2+ items:       24568\n",
      "Remaining number of orders, items, order_item pairs: 24568, 9644, 258039\n",
      "Item pairs:                          854966\n",
      "Item pairs with support >= 0.0001:     160001\n",
      "\n"
     ]
    }
   ],
   "source": [
    "group_association_rules_dic = {}\n",
    "for x in range(0,20):\n",
    "    print('Cluster: ', x)\n",
    "    group_association_rules_dic[x] = association_rules(cluster_orders[x],.0001)"
   ],
   "metadata": {
    "collapsed": false,
    "pycharm": {
     "name": "#%%\n"
    }
   }
  },
  {
   "cell_type": "code",
   "execution_count": 44,
   "outputs": [],
   "source": [
    "# format item association rule dataframes and merge product names\n",
    "\n",
    "for x in group_association_rules_dic:\n",
    "    group_association_rules_dic[x] = group_association_rules_dic[x].merge(products_desc[['product_id','product_name']]\n",
    "                                                                          .rename(columns = {'product_id':'item_A','product_name':'product_name_A'}), on = 'item_A')\n",
    "    group_association_rules_dic[x] = group_association_rules_dic[x].merge(products_desc[['product_id','product_name']]\n",
    "                                                                          .rename(columns = {'product_id':'item_B','product_name':'product_name_B'}), on = 'item_B')\n",
    "    group_association_rules_dic[x] = group_association_rules_dic[x][['item_A','item_B','product_name_A',\n",
    "                                                                     'product_name_B','freqAB','supportAB','freqA',\n",
    "                                                                     'supportA','freqB','supportB','confAtoB',\n",
    "                                                                     'confBtoA','lift']]"
   ],
   "metadata": {
    "collapsed": false,
    "pycharm": {
     "name": "#%%\n"
    }
   }
  },
  {
   "cell_type": "code",
   "execution_count": 45,
   "outputs": [],
   "source": [
    "pickle.dump(group_association_rules_dic, open(\"grouped_association_rules_dic.p\", \"wb\"))"
   ],
   "metadata": {
    "collapsed": false,
    "pycharm": {
     "name": "#%%\n"
    }
   }
  },
  {
   "cell_type": "code",
   "execution_count": 81,
   "outputs": [],
   "source": [
    "def product_to_product(cluster, product_id, item_lift, product_name, num_products):\n",
    "    df = group_association_rules_dic[cluster]\n",
    "    df = df[(df['item_A'] == product_id) | (df['item_B'] == product_id)][['product_name_A','item_A','product_name_B','item_B','confAtoB','lift']].sort_values('lift', ascending = False)\n",
    "    df = df[df['lift'] > item_lift]\n",
    "    df = df.sort_values('lift', ascending = False)\n",
    "    df = df.head(n = num_products)\n",
    "    product_to_product_associations = df['product_name_A'].values.tolist()\n",
    "    for x in df['product_name_B'].values.tolist():\n",
    "        product_to_product_associations.append(x)\n",
    "    product_to_product_associations = [x for x in product_to_product_associations if x != product_name]\n",
    "    return product_to_product_associations"
   ],
   "metadata": {
    "collapsed": false,
    "pycharm": {
     "name": "#%%\n"
    }
   }
  },
  {
   "cell_type": "code",
   "execution_count": 83,
   "outputs": [],
   "source": [
    "def product_recommender(user_id, product_id, item_lift, num_products):\n",
    "    product_name = products.at[product_id -1,'product_name']\n",
    "    cluster = clustered_users.at[user_id, 'cluster']\n",
    "    return product_to_product(cluster = cluster, product_id = product_id, item_lift = item_lift,\n",
    "                              product_name = product_name, num_2 = num_products)"
   ],
   "metadata": {
    "collapsed": false,
    "pycharm": {
     "name": "#%%\n"
    }
   }
  },
  {
   "cell_type": "code",
   "execution_count": 84,
   "outputs": [
    {
     "name": "stdout",
     "output_type": "stream",
     "text": [
      "\n",
      "cluster 0 : user  134922\n",
      "Coffee House Blend Deep Roast Coffee K\n",
      "Organic Frosted Wildberry Acai Toaster Pastries\n",
      "Ham, Parma, Prosciutto di Parma\n",
      "Birthday Cake\n",
      "Salsa, Verde, Roasted\n",
      "\n",
      "cluster 1 : user  152700\n",
      "Thick & Crispy Tortilla Chips\n",
      "Thin & Light Tortilla Chips\n",
      "Original Hummus\n",
      "Organic Hass Avocado\n",
      "Limes\n",
      "\n",
      "cluster 2 : user  39900\n",
      "Super Soft Taco Flour Tortillas\n",
      "Fit Popcorn Sea Salt\n",
      "Roast Beef\n",
      "Clear Plastic Wrap\n",
      "Via Instant Dark French Roast Coffee\n",
      "\n",
      "cluster 3 : user  112550\n",
      "Thick & Crispy Tortilla Chips\n",
      "Original Taco Seasoning Mix\n",
      "Organic Avocado\n",
      "Pure & Natural Sour Cream\n",
      "Real Guacamole\n",
      "\n",
      "cluster 4 : user  58385\n",
      "Thin & Light Tortilla Chips\n",
      "Thick & Crispy Tortilla Chips\n",
      "Organic Large Brown Grade AA Cage Free Eggs\n",
      "Organic Reduced Fat 2% Milk\n",
      "Organic Whole String Cheese\n",
      "\n",
      "cluster 5 : user  150674\n",
      "Thin & Light Tortilla Chips\n",
      "Guacamole Seasoning Mix\n",
      "Diet Green Tea with Ginseng\n",
      "\n",
      "cluster 6 : user  176430\n",
      "Chocolate Mint Builder's Bar\n",
      "Thick & Crispy Tortilla Chips\n",
      "Real Guacamole\n",
      "Mild Guacamole\n",
      "Mango Flavor Probiotic Juice Drink\n",
      "\n",
      "cluster 7 : user  95739\n",
      "Organic Gluten-Free Quinoa Spaghetti\n",
      "Deli Style Mustard\n",
      "7 Ancient Grains with Hint of Sea Salt Crackers\n",
      "1% Low Fat Chocolate Milk\n",
      "Challah Twist\n",
      "\n",
      "cluster 8 : user  171626\n",
      "Clementina Sparkling Beverage\n",
      "Totopos Chips\n",
      "Dark & Mint Filled Chocolate Squares\n",
      "Organic Raspberry Mate Energy Drink\n",
      "The Peruvian Burrito\n",
      "\n",
      "cluster 9 : user  132608\n",
      "Organic Worcestershire\n",
      "Baked Sea Salt & Vinegar Potato Chips\n",
      "Tortilla Triangles Restaurant Style Chips\n",
      "Summertime Blues Multigrain Tortilla Chips\n",
      "Real Guacamole\n",
      "\n",
      "cluster 10 : user  63785\n",
      "\n",
      "\n",
      "cluster 11 : user  59403\n",
      "California White Balsamic Vinegar\n",
      "Peas and Potatoe Roti Paratha\n",
      "Baked Crackers, Cheddar Cheese\n",
      "Umcka ColdCare Soothing Syrup Cherry\n",
      "Apricot Mango Juice\n",
      "\n",
      "cluster 12 : user  146128\n",
      "Thick & Crispy Tortilla Chips\n",
      "Thin & Light Tortilla Chips\n",
      "Organic Hass Avocado\n",
      "Banana\n",
      "\n",
      "cluster 13 : user  24658\n",
      "45 Calories & Delight Wheat Bread\n",
      "Crumbled Cheese, Traditional, Feta, Fat Free\n",
      "Whole Wheat Pre-Sliced Mini Bagels\n",
      "Fruit Squish'ems! Squeezable Fruit Pouch Apple\n",
      "Dark Chocolate, Intense Mint\n",
      "\n",
      "cluster 14 : user  45937\n",
      "Thick & Crispy Tortilla Chips\n",
      "Thin & Light Tortilla Chips\n",
      "Boneless Skinless Chicken Breast\n",
      "Organic Large Brown Grade AA Cage Free Eggs\n",
      "Organic Sour Cream\n",
      "\n",
      "cluster 15 : user  71148\n",
      "100% Pomegranate Juice\n",
      "Sliced Genoa Salami\n",
      "D'Noir Prunes\n",
      "Frozen Limeade Concentrate\n",
      "Triple Sec\n",
      "\n",
      "cluster 16 : user  113994\n",
      "1% Milkfat Low Fat Vitamin A & D Milk\n",
      "Spinach And Cheese Ravioli\n",
      "Thins Light & Tasty Snack Crackers Lightly Salted\n",
      "Vegan Mac N Cheese\n",
      "No Salt Added Organic Mixed Vegetables\n",
      "\n",
      "cluster 17 : user  94631\n",
      "Gluten Free Spaghetti\n",
      "Pet Waste Bags\n",
      "Black Bean Bonanza Tamales\n",
      "Chicken-Free Strips Seasoned\n",
      "Gluten Free Dream Cookies Chocolate Vanilla Creme\n",
      "\n",
      "cluster 18 : user  189862\n",
      "Pineapple\n",
      "Thin & Light Tortilla Chips\n",
      "Red Mango\n",
      "Mango Tango Fruit Smoothie\n",
      "Pomelo Grapefruit & Aloe Appeal\n",
      "\n",
      "cluster 19 : user  118382\n",
      "Hearty Nine Grain Bread\n",
      "Organic Unrefined Sesame Oil\n",
      "Munchable Falafel With Lemon Hummus\n",
      "Very Berry Flavor Sparking Mineral Water\n",
      "Veggie Tray\n"
     ]
    }
   ],
   "source": [
    "for i in range(0,20):\n",
    "    user = clustered_users[clustered_users['cluster']==i].sample().index[0]\n",
    "    print('\\ncluster', i, ': user ', user)\n",
    "    print('\\n'.join([x for x in (product_recommender(user, 39055, 1, 5))]))"
   ],
   "metadata": {
    "collapsed": false,
    "pycharm": {
     "name": "#%%\n"
    }
   }
  },
  {
   "cell_type": "code",
   "execution_count": 86,
   "outputs": [
    {
     "data": {
      "text/plain": "['Lemon Verbena Hand Wash',\n 'Edamame Hummus',\n 'Croissants',\n 'Cereal, Superfood, Acai Blueberry',\n 'Organic Navy Beans No Salt Added Fat Free']"
     },
     "execution_count": 86,
     "metadata": {},
     "output_type": "execute_result"
    }
   ],
   "source": [
    "product_recommender(22107, 13176, 1, 5)"
   ],
   "metadata": {
    "collapsed": false,
    "pycharm": {
     "name": "#%%\n"
    }
   }
  },
  {
   "cell_type": "code",
   "execution_count": null,
   "outputs": [],
   "source": [],
   "metadata": {
    "collapsed": false,
    "pycharm": {
     "name": "#%%\n"
    }
   }
  }
 ],
 "metadata": {
  "kernelspec": {
   "display_name": "Python 3",
   "language": "python",
   "name": "python3"
  },
  "language_info": {
   "codemirror_mode": {
    "name": "ipython",
    "version": 2
   },
   "file_extension": ".py",
   "mimetype": "text/x-python",
   "name": "python",
   "nbconvert_exporter": "python",
   "pygments_lexer": "ipython2",
   "version": "2.7.6"
  }
 },
 "nbformat": 4,
 "nbformat_minor": 0
}