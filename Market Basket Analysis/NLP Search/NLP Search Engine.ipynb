{
 "cells": [
  {
   "cell_type": "code",
   "execution_count": 2,
   "metadata": {
    "collapsed": true
   },
   "outputs": [],
   "source": [
    "import pandas as pd\n",
    "from sklearn.metrics.pairwise import cosine_similarity\n",
    "from sklearn.feature_extraction.text import CountVectorizer"
   ]
  },
  {
   "cell_type": "code",
   "execution_count": 5,
   "outputs": [],
   "source": [
    "products = pd.read_csv('products.csv')\n",
    "aisles = pd.read_csv('aisles.csv')\n",
    "departments = pd.read_csv('departments.csv')"
   ],
   "metadata": {
    "collapsed": false,
    "pycharm": {
     "name": "#%%\n"
    }
   }
  },
  {
   "cell_type": "code",
   "execution_count": 6,
   "outputs": [
    {
     "data": {
      "text/plain": "   product_id                                       product_name  aisle_id  \\\n0           1                         Chocolate Sandwich Cookies        61   \n1           2                                   All-Seasons Salt       104   \n2           3               Robust Golden Unsweetened Oolong Tea        94   \n3           4  Smart Ones Classic Favorites Mini Rigatoni Wit...        38   \n4           5                          Green Chile Anytime Sauce         5   \n\n   department_id  \n0             19  \n1             13  \n2              7  \n3              1  \n4             13  ",
      "text/html": "<div>\n<style scoped>\n    .dataframe tbody tr th:only-of-type {\n        vertical-align: middle;\n    }\n\n    .dataframe tbody tr th {\n        vertical-align: top;\n    }\n\n    .dataframe thead th {\n        text-align: right;\n    }\n</style>\n<table border=\"1\" class=\"dataframe\">\n  <thead>\n    <tr style=\"text-align: right;\">\n      <th></th>\n      <th>product_id</th>\n      <th>product_name</th>\n      <th>aisle_id</th>\n      <th>department_id</th>\n    </tr>\n  </thead>\n  <tbody>\n    <tr>\n      <th>0</th>\n      <td>1</td>\n      <td>Chocolate Sandwich Cookies</td>\n      <td>61</td>\n      <td>19</td>\n    </tr>\n    <tr>\n      <th>1</th>\n      <td>2</td>\n      <td>All-Seasons Salt</td>\n      <td>104</td>\n      <td>13</td>\n    </tr>\n    <tr>\n      <th>2</th>\n      <td>3</td>\n      <td>Robust Golden Unsweetened Oolong Tea</td>\n      <td>94</td>\n      <td>7</td>\n    </tr>\n    <tr>\n      <th>3</th>\n      <td>4</td>\n      <td>Smart Ones Classic Favorites Mini Rigatoni Wit...</td>\n      <td>38</td>\n      <td>1</td>\n    </tr>\n    <tr>\n      <th>4</th>\n      <td>5</td>\n      <td>Green Chile Anytime Sauce</td>\n      <td>5</td>\n      <td>13</td>\n    </tr>\n  </tbody>\n</table>\n</div>"
     },
     "execution_count": 6,
     "metadata": {},
     "output_type": "execute_result"
    }
   ],
   "source": [
    "products.head()"
   ],
   "metadata": {
    "collapsed": false,
    "pycharm": {
     "name": "#%%\n"
    }
   }
  },
  {
   "cell_type": "code",
   "execution_count": 8,
   "outputs": [
    {
     "data": {
      "text/plain": "   aisle_id                       aisle\n0         1       prepared soups salads\n1         2           specialty cheeses\n2         3         energy granola bars\n3         4               instant foods\n4         5  marinades meat preparation",
      "text/html": "<div>\n<style scoped>\n    .dataframe tbody tr th:only-of-type {\n        vertical-align: middle;\n    }\n\n    .dataframe tbody tr th {\n        vertical-align: top;\n    }\n\n    .dataframe thead th {\n        text-align: right;\n    }\n</style>\n<table border=\"1\" class=\"dataframe\">\n  <thead>\n    <tr style=\"text-align: right;\">\n      <th></th>\n      <th>aisle_id</th>\n      <th>aisle</th>\n    </tr>\n  </thead>\n  <tbody>\n    <tr>\n      <th>0</th>\n      <td>1</td>\n      <td>prepared soups salads</td>\n    </tr>\n    <tr>\n      <th>1</th>\n      <td>2</td>\n      <td>specialty cheeses</td>\n    </tr>\n    <tr>\n      <th>2</th>\n      <td>3</td>\n      <td>energy granola bars</td>\n    </tr>\n    <tr>\n      <th>3</th>\n      <td>4</td>\n      <td>instant foods</td>\n    </tr>\n    <tr>\n      <th>4</th>\n      <td>5</td>\n      <td>marinades meat preparation</td>\n    </tr>\n  </tbody>\n</table>\n</div>"
     },
     "execution_count": 8,
     "metadata": {},
     "output_type": "execute_result"
    }
   ],
   "source": [
    "aisles.head()"
   ],
   "metadata": {
    "collapsed": false,
    "pycharm": {
     "name": "#%%\n"
    }
   }
  },
  {
   "cell_type": "code",
   "execution_count": 11,
   "outputs": [
    {
     "data": {
      "text/plain": "   department_id department\n0              1     frozen\n1              2      other\n2              3     bakery\n3              4    produce\n4              5    alcohol",
      "text/html": "<div>\n<style scoped>\n    .dataframe tbody tr th:only-of-type {\n        vertical-align: middle;\n    }\n\n    .dataframe tbody tr th {\n        vertical-align: top;\n    }\n\n    .dataframe thead th {\n        text-align: right;\n    }\n</style>\n<table border=\"1\" class=\"dataframe\">\n  <thead>\n    <tr style=\"text-align: right;\">\n      <th></th>\n      <th>department_id</th>\n      <th>department</th>\n    </tr>\n  </thead>\n  <tbody>\n    <tr>\n      <th>0</th>\n      <td>1</td>\n      <td>frozen</td>\n    </tr>\n    <tr>\n      <th>1</th>\n      <td>2</td>\n      <td>other</td>\n    </tr>\n    <tr>\n      <th>2</th>\n      <td>3</td>\n      <td>bakery</td>\n    </tr>\n    <tr>\n      <th>3</th>\n      <td>4</td>\n      <td>produce</td>\n    </tr>\n    <tr>\n      <th>4</th>\n      <td>5</td>\n      <td>alcohol</td>\n    </tr>\n  </tbody>\n</table>\n</div>"
     },
     "execution_count": 11,
     "metadata": {},
     "output_type": "execute_result"
    }
   ],
   "source": [
    "departments.head()"
   ],
   "metadata": {
    "collapsed": false,
    "pycharm": {
     "name": "#%%\n"
    }
   }
  },
  {
   "cell_type": "code",
   "execution_count": 15,
   "outputs": [],
   "source": [
    "product_desc = pd.merge(pd.merge(products, aisles, on = 'aisle_id', how='inner'), departments, on = 'department_id', how ='inner')"
   ],
   "metadata": {
    "collapsed": false,
    "pycharm": {
     "name": "#%%\n"
    }
   }
  },
  {
   "cell_type": "code",
   "execution_count": 16,
   "outputs": [
    {
     "data": {
      "text/plain": "   product_id                                    product_name  aisle_id  \\\n0           1                      Chocolate Sandwich Cookies        61   \n1          78               Nutter Butter Cookie Bites Go-Pak        61   \n2         102                           Danish Butter Cookies        61   \n3         172  Gluten Free All Natural Chocolate Chip Cookies        61   \n4         285                    Mini Nilla Wafers Munch Pack        61   \n\n   department_id          aisle department  \n0             19  cookies cakes     snacks  \n1             19  cookies cakes     snacks  \n2             19  cookies cakes     snacks  \n3             19  cookies cakes     snacks  \n4             19  cookies cakes     snacks  ",
      "text/html": "<div>\n<style scoped>\n    .dataframe tbody tr th:only-of-type {\n        vertical-align: middle;\n    }\n\n    .dataframe tbody tr th {\n        vertical-align: top;\n    }\n\n    .dataframe thead th {\n        text-align: right;\n    }\n</style>\n<table border=\"1\" class=\"dataframe\">\n  <thead>\n    <tr style=\"text-align: right;\">\n      <th></th>\n      <th>product_id</th>\n      <th>product_name</th>\n      <th>aisle_id</th>\n      <th>department_id</th>\n      <th>aisle</th>\n      <th>department</th>\n    </tr>\n  </thead>\n  <tbody>\n    <tr>\n      <th>0</th>\n      <td>1</td>\n      <td>Chocolate Sandwich Cookies</td>\n      <td>61</td>\n      <td>19</td>\n      <td>cookies cakes</td>\n      <td>snacks</td>\n    </tr>\n    <tr>\n      <th>1</th>\n      <td>78</td>\n      <td>Nutter Butter Cookie Bites Go-Pak</td>\n      <td>61</td>\n      <td>19</td>\n      <td>cookies cakes</td>\n      <td>snacks</td>\n    </tr>\n    <tr>\n      <th>2</th>\n      <td>102</td>\n      <td>Danish Butter Cookies</td>\n      <td>61</td>\n      <td>19</td>\n      <td>cookies cakes</td>\n      <td>snacks</td>\n    </tr>\n    <tr>\n      <th>3</th>\n      <td>172</td>\n      <td>Gluten Free All Natural Chocolate Chip Cookies</td>\n      <td>61</td>\n      <td>19</td>\n      <td>cookies cakes</td>\n      <td>snacks</td>\n    </tr>\n    <tr>\n      <th>4</th>\n      <td>285</td>\n      <td>Mini Nilla Wafers Munch Pack</td>\n      <td>61</td>\n      <td>19</td>\n      <td>cookies cakes</td>\n      <td>snacks</td>\n    </tr>\n  </tbody>\n</table>\n</div>"
     },
     "execution_count": 16,
     "metadata": {},
     "output_type": "execute_result"
    }
   ],
   "source": [
    "product_desc.head()"
   ],
   "metadata": {
    "collapsed": false,
    "pycharm": {
     "name": "#%%\n"
    }
   }
  },
  {
   "cell_type": "code",
   "execution_count": 17,
   "outputs": [],
   "source": [
    "product_desc['metadata'] = product_desc.apply(lambda x: x['aisle'] +' '+ x['department'] +' '+ x['product_name'], axis = 1)"
   ],
   "metadata": {
    "collapsed": false,
    "pycharm": {
     "name": "#%%\n"
    }
   }
  },
  {
   "cell_type": "code",
   "execution_count": 18,
   "outputs": [
    {
     "data": {
      "text/plain": "   product_id                                    product_name  aisle_id  \\\n0           1                      Chocolate Sandwich Cookies        61   \n1          78               Nutter Butter Cookie Bites Go-Pak        61   \n2         102                           Danish Butter Cookies        61   \n3         172  Gluten Free All Natural Chocolate Chip Cookies        61   \n4         285                    Mini Nilla Wafers Munch Pack        61   \n\n   department_id          aisle department  \\\n0             19  cookies cakes     snacks   \n1             19  cookies cakes     snacks   \n2             19  cookies cakes     snacks   \n3             19  cookies cakes     snacks   \n4             19  cookies cakes     snacks   \n\n                                            metadata  \n0    cookies cakes snacks Chocolate Sandwich Cookies  \n1  cookies cakes snacks Nutter Butter Cookie Bite...  \n2         cookies cakes snacks Danish Butter Cookies  \n3  cookies cakes snacks Gluten Free All Natural C...  \n4  cookies cakes snacks Mini Nilla Wafers Munch Pack  ",
      "text/html": "<div>\n<style scoped>\n    .dataframe tbody tr th:only-of-type {\n        vertical-align: middle;\n    }\n\n    .dataframe tbody tr th {\n        vertical-align: top;\n    }\n\n    .dataframe thead th {\n        text-align: right;\n    }\n</style>\n<table border=\"1\" class=\"dataframe\">\n  <thead>\n    <tr style=\"text-align: right;\">\n      <th></th>\n      <th>product_id</th>\n      <th>product_name</th>\n      <th>aisle_id</th>\n      <th>department_id</th>\n      <th>aisle</th>\n      <th>department</th>\n      <th>metadata</th>\n    </tr>\n  </thead>\n  <tbody>\n    <tr>\n      <th>0</th>\n      <td>1</td>\n      <td>Chocolate Sandwich Cookies</td>\n      <td>61</td>\n      <td>19</td>\n      <td>cookies cakes</td>\n      <td>snacks</td>\n      <td>cookies cakes snacks Chocolate Sandwich Cookies</td>\n    </tr>\n    <tr>\n      <th>1</th>\n      <td>78</td>\n      <td>Nutter Butter Cookie Bites Go-Pak</td>\n      <td>61</td>\n      <td>19</td>\n      <td>cookies cakes</td>\n      <td>snacks</td>\n      <td>cookies cakes snacks Nutter Butter Cookie Bite...</td>\n    </tr>\n    <tr>\n      <th>2</th>\n      <td>102</td>\n      <td>Danish Butter Cookies</td>\n      <td>61</td>\n      <td>19</td>\n      <td>cookies cakes</td>\n      <td>snacks</td>\n      <td>cookies cakes snacks Danish Butter Cookies</td>\n    </tr>\n    <tr>\n      <th>3</th>\n      <td>172</td>\n      <td>Gluten Free All Natural Chocolate Chip Cookies</td>\n      <td>61</td>\n      <td>19</td>\n      <td>cookies cakes</td>\n      <td>snacks</td>\n      <td>cookies cakes snacks Gluten Free All Natural C...</td>\n    </tr>\n    <tr>\n      <th>4</th>\n      <td>285</td>\n      <td>Mini Nilla Wafers Munch Pack</td>\n      <td>61</td>\n      <td>19</td>\n      <td>cookies cakes</td>\n      <td>snacks</td>\n      <td>cookies cakes snacks Mini Nilla Wafers Munch Pack</td>\n    </tr>\n  </tbody>\n</table>\n</div>"
     },
     "execution_count": 18,
     "metadata": {},
     "output_type": "execute_result"
    }
   ],
   "source": [
    "product_desc.head()"
   ],
   "metadata": {
    "collapsed": false,
    "pycharm": {
     "name": "#%%\n"
    }
   }
  },
  {
   "cell_type": "code",
   "execution_count": 19,
   "outputs": [],
   "source": [
    "count_vec = CountVectorizer(stop_words='english')\n",
    "count_vec_matrix = count_vec.fit_transform(product_desc['metadata'])"
   ],
   "metadata": {
    "collapsed": false,
    "pycharm": {
     "name": "#%%\n"
    }
   }
  },
  {
   "cell_type": "code",
   "execution_count": 21,
   "outputs": [
    {
     "data": {
      "text/plain": "(49688, 10624)"
     },
     "execution_count": 21,
     "metadata": {},
     "output_type": "execute_result"
    }
   ],
   "source": [
    "count_vec_matrix.shape"
   ],
   "metadata": {
    "collapsed": false,
    "pycharm": {
     "name": "#%%\n"
    }
   }
  },
  {
   "cell_type": "code",
   "execution_count": 24,
   "outputs": [],
   "source": [
    "#This function takes in any words and vectorizes them, then finds similar vector in the count_vec_matrix\n",
    "\n",
    "def metadata_search_engine(product_input):\n",
    "\n",
    "    vec = count_vec.transform(pd.Series(product_input))\n",
    "    cosine_sim = cosine_similarity(vec, count_vec_matrix)\n",
    "    similarity_score = pd.DataFrame(cosine_sim.reshape(49688,), index = product_desc.index, columns=['score'])\n",
    "    non_zero_scores = similarity_score[similarity_score['score'] > 0]\n",
    "\n",
    "    if len(non_zero_scores) == 0:\n",
    "        print('No similar products found.  Please refine your search terms and try again')\n",
    "        return\n",
    "\n",
    "    if len(non_zero_scores) < 10:\n",
    "        item_count = len(non_zero_scores)\n",
    "    else:\n",
    "        item_count = 10\n",
    "\n",
    "    similarity_scores = similarity_score.sort_values(['score'], ascending=False)[:item_count]\n",
    "\n",
    "    return product_desc['product_name'].iloc[similarity_scores.index]"
   ],
   "metadata": {
    "collapsed": false,
    "pycharm": {
     "name": "#%%\n"
    }
   }
  },
  {
   "cell_type": "code",
   "execution_count": 25,
   "outputs": [
    {
     "data": {
      "text/plain": "582                           Spring Oreo\n206                       Peppermint Oreo\n514                      Mini Oreo Go Pak\n790                     Golden Oreo Thins\n43233                 Chocolate Chip Oreo\n554             Mini Oreo Golden Snak Sak\n273      Coconut Delight Creme Fudge Oreo\n43395            Oreo Chocolate Candy Bar\n48811                 Oreo Filled Cupcake\n4511       Oreo Cookie Sticks & Creme Dip\nName: product_name, dtype: object"
     },
     "execution_count": 25,
     "metadata": {},
     "output_type": "execute_result"
    }
   ],
   "source": [
    "metadata_search_engine('Oreo')"
   ],
   "metadata": {
    "collapsed": false,
    "pycharm": {
     "name": "#%%\n"
    }
   }
  },
  {
   "cell_type": "code",
   "execution_count": 26,
   "outputs": [
    {
     "data": {
      "text/plain": "3451                                          Tea Biscuits\n137                                       HobNobs Biscuits\n480                                  The Original Biscuits\n233                                       Caramel Biscuits\n767                                        Butter Biscuits\n43470                                             Biscuits\n766                                  Biscuits, Gingerspice\n37256    Flavor Snacks Dog Biscuits - For Small/Medium ...\n530                                 European Biscuits Dark\n140                            The Original Wheat Biscuits\nName: product_name, dtype: object"
     },
     "execution_count": 26,
     "metadata": {},
     "output_type": "execute_result"
    }
   ],
   "source": [
    "metadata_search_engine('Biscuits')"
   ],
   "metadata": {
    "collapsed": false,
    "pycharm": {
     "name": "#%%\n"
    }
   }
  },
  {
   "cell_type": "code",
   "execution_count": 27,
   "outputs": [
    {
     "data": {
      "text/plain": "29312                                           Milk\n29256                                     Milk Whole\n29367                                        1% Milk\n29307                                        2% Milk\n29257                                     Whole Milk\n29431     Milk Magic Chocolate Milk Flavoring Straws\n29349    Milk Magic Strawberry Milk Flavoring Straws\n29276                                 2 Percent Milk\n29377                           Vitamin D Whole Milk\n29428                                    Nonfat Milk\nName: product_name, dtype: object"
     },
     "execution_count": 27,
     "metadata": {},
     "output_type": "execute_result"
    }
   ],
   "source": [
    "metadata_search_engine('milk')"
   ],
   "metadata": {
    "collapsed": false,
    "pycharm": {
     "name": "#%%\n"
    }
   }
  },
  {
   "cell_type": "code",
   "execution_count": null,
   "outputs": [],
   "source": [],
   "metadata": {
    "collapsed": false,
    "pycharm": {
     "name": "#%%\n"
    }
   }
  }
 ],
 "metadata": {
  "kernelspec": {
   "display_name": "Python 3",
   "language": "python",
   "name": "python3"
  },
  "language_info": {
   "codemirror_mode": {
    "name": "ipython",
    "version": 2
   },
   "file_extension": ".py",
   "mimetype": "text/x-python",
   "name": "python",
   "nbconvert_exporter": "python",
   "pygments_lexer": "ipython2",
   "version": "2.7.6"
  }
 },
 "nbformat": 4,
 "nbformat_minor": 0
}