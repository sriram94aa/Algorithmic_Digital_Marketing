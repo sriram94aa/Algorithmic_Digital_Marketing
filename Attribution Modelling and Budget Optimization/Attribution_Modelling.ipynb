{
  "nbformat": 4,
  "nbformat_minor": 0,
  "metadata": {
    "kernelspec": {
      "display_name": "Python 3",
      "language": "python",
      "name": "python3"
    },
    "language_info": {
      "codemirror_mode": {
        "name": "ipython",
        "version": 3
      },
      "file_extension": ".py",
      "mimetype": "text/x-python",
      "name": "python",
      "nbconvert_exporter": "python",
      "pygments_lexer": "ipython3",
      "version": "3.8.5"
    },
    "colab": {
      "name": "Assignment 2 - Attribution Modelling .ipynb",
      "provenance": [],
      "collapsed_sections": []
    }
  },
  "cells": [
    {
      "cell_type": "markdown",
      "metadata": {
        "id": "coMdDH4EJ25I"
      },
      "source": [
        "# Attribution Modelling\n",
        "\n",
        "* Attribution Modeling is a set of rules for assigning credit to the various touch points in the conversion path.\n",
        "\n",
        "* This method helps us understand how the prospect customer travels through the path to purchase.\n",
        "\n",
        "* There are many attribution models available, a specific model should be chosen based on the products sold and the length of buying cycle.\n",
        "\n",
        "* We use the Criteo Attribution modeling dataset to build attribution models which optimize the budget allocation for various marketing campaigns"
      ]
    },
    {
      "cell_type": "markdown",
      "metadata": {
        "id": "98ZhUH6yJ25K"
      },
      "source": [
        "# Dataset Description\n",
        "This dataset represents a sample of 30 days of Criteo live traffic data. Each line corresponds to one impression (a banner) that was displayed to a user. For each banner we have detailed information about the context, if it was clicked, if it led to a conversion and if it led to a conversion that was attributed to Criteo or not.\n",
        "\n",
        "* timestamp: timestamp of the impression (starting from 0 for the first impression). The dataset is sorted according to timestamp.\n",
        "* uid: a unique user identifier\n",
        "* campaign: a unique identifier for the campaign\n",
        "* conversion: 1 if there was a conversion in the 30 days after the impression (independently of whether this impression was last click or not)\n",
        "* conversion_timestamp: the timestamp of the conversion or -1 if no conversion was observed\n",
        "* conversion_id: a unique identifier for each conversion (so that timelines can be reconstructed if needed). -1 if there was no conversion\n",
        "* attribution: 1 if the conversion was attributed to Criteo, 0 otherwise\n",
        "* click: 1 if the impression was clicked, 0 otherwise\n",
        "* click_pos: the position of the click before a conversion (0 for first-click)\n",
        "* click_nb: number of clicks. More than 1 if there was several clicks before a conversion\n",
        "* cost: the price paid by Criteo for this display (disclaimer: not the real price, only a transformed version of it)\n",
        "* cpo: the cost-per-order in case of attributed conversion (disclaimer: not the real price, only a transformed version of it)\n",
        "* time_since_last_click: the time since the last click (in s) for the given impression\n",
        "* cat(1-9): contextual features associated to the display. Can be used to learn the click/conversion models. We do not disclose the meaning of these features but it is not relevant for this study. Each column is a categorical variable. In the experiments, they are mapped to a fixed dimensionality space using the Hashing Trick (see paper for reference)."
      ]
    },
    {
      "cell_type": "code",
      "metadata": {
        "id": "5ESbAZAFJ25L"
      },
      "source": [
        "#Importing required libraries\n",
        "import pandas as pd\n",
        "import matplotlib.pyplot as plt \n",
        "import numpy as np\n",
        "import os\n",
        "\n",
        "from sklearn.utils import resample\n",
        "from sklearn.preprocessing import MinMaxScaler\n",
        "from sklearn.model_selection import train_test_split\n",
        "from sklearn.linear_model import LogisticRegression\n",
        "\n",
        "import keras\n",
        "\n",
        "import warnings\n",
        "warnings.filterwarnings('ignore')\n",
        "\n",
        "plt.style.use('ggplot')"
      ],
      "execution_count": null,
      "outputs": []
    },
    {
      "cell_type": "code",
      "metadata": {
        "id": "tw4JPEb6J25L"
      },
      "source": [
        "#Reading the dataset using Pandas\n",
        "DATA_FILE='criteo_attribution_dataset.tsv.gz'\n",
        "df_Attribution = pd.read_csv(DATA_FILE, sep='\\t', compression='gzip')"
      ],
      "execution_count": null,
      "outputs": []
    },
    {
      "cell_type": "code",
      "metadata": {
        "id": "TaOKtU30J25M"
      },
      "source": [
        "df_Attribution['day'] = np.floor(df_Attribution.timestamp / 86400.).astype(int)"
      ],
      "execution_count": null,
      "outputs": []
    },
    {
      "cell_type": "markdown",
      "metadata": {
        "id": "xUMLXVeuJ25M"
      },
      "source": [
        "## Data Preparation"
      ]
    },
    {
      "cell_type": "code",
      "metadata": {
        "id": "FebxP_dWJ25M"
      },
      "source": [
        "# Helper functions for the initial data preparation\n",
        "\n",
        "def add_derived_columns(df):\n",
        "    df_ext = df.copy()\n",
        "    df_ext['jid'] = df_ext['uid'].map(str) + '_' + df_ext['conversion_id'].map(str)\n",
        "    \n",
        "    min_max_scaler = MinMaxScaler()\n",
        "    for cname in ('timestamp', 'time_since_last_click'):\n",
        "        x = df_ext[cname].values.reshape(-1, 1) \n",
        "        df_ext[cname + '_norm'] = min_max_scaler.fit_transform(x)\n",
        "    \n",
        "    return df_ext\n",
        "\n",
        "def filter_journeys_by_length(df, min_touchpoints):\n",
        "    if min_touchpoints <= 1:\n",
        "        return df\n",
        "    else:\n",
        "        grouped = df.groupby(['jid'])['uid'].count().reset_index(name=\"count\")\n",
        "        return df[df['jid'].isin( grouped[grouped['count'] >= min_touchpoints]['jid'].values )]\n",
        "\n",
        "def sample_campaigns(df, n_campaigns):    \n",
        "    campaigns = np.random.choice( df['campaign'].unique(), n_campaigns, replace = False )\n",
        "    return df[ df['campaign'].isin(campaigns) ]\n",
        "\n",
        "def balance_conversions(df):\n",
        "    df_minority = df[df.conversion == 1]\n",
        "    df_majority = df[df.conversion == 0]\n",
        "    \n",
        "    df_majority_jids = np.array_split(df_majority['jid'].unique(), 100 * df_majority.shape[0]/df_minority.shape[0] )\n",
        "    \n",
        "    df_majority_sampled = pd.DataFrame(data=None, columns=df.columns)\n",
        "    for jid_chunk in df_majority_jids:\n",
        "        df_majority_sampled = pd.concat([df_majority_sampled, df_majority[df_majority.jid.isin(jid_chunk)]])\n",
        "        if df_majority_sampled.shape[0] > df_minority.shape[0]:\n",
        "            break\n",
        "    \n",
        "    return pd.concat([df_majority_sampled, df_minority]).sample(frac=1).reset_index(drop=True)\n",
        "\n",
        "def map_one_hot(df, column_names, result_column_name):\n",
        "    mapper = {} \n",
        "    for i, col_name in enumerate(column_names):\n",
        "        for val in df[col_name].unique():\n",
        "            mapper[str(val) + str(i)] = len(mapper)\n",
        "         \n",
        "    df_ext = df.copy()\n",
        "    \n",
        "    def one_hot(values):\n",
        "        v = np.zeros( len(mapper) )\n",
        "        for i, val in enumerate(values): \n",
        "            v[ mapper[str(val) + str(i)] ] = 1\n",
        "        return v    \n",
        "    \n",
        "    df_ext[result_column_name] = df_ext[column_names].values.tolist()\n",
        "    df_ext[result_column_name] = df_ext[result_column_name].map(one_hot)\n",
        "    \n",
        "    return df_ext"
      ],
      "execution_count": null,
      "outputs": []
    },
    {
      "cell_type": "code",
      "metadata": {
        "id": "9O__uLBfJ25N"
      },
      "source": [
        "# Taking a smaple of 400 campaigns for the attribution modelling\n",
        "n_campaigns = 400\n",
        "\n",
        "#Creating Journey ID column from Uid & Coversion Id and Normalising the Time Stamps\n",
        "df_Attribution = add_derived_columns(df_Attribution)\n",
        "\n",
        "#\n",
        "df_Attribution = sample_campaigns(df_Attribution, n_campaigns)\n",
        "\n",
        "#Filtering the journey length with minimum touchpoints\n",
        "df_Attribution = filter_journeys_by_length(df_Attribution, 2)\n",
        "\n",
        "#The data is imbalanced for conversions. Balance the data so that Data driven models can be trained\n",
        "df_Attribution = balance_conversions(df_Attribution)\n",
        "\n",
        "#Create one hot encoding for Cat1-9 columns and Campaign column\n",
        "df_Attribution = map_one_hot(df_Attribution, ['cat1', 'cat2', 'cat3', 'cat4', 'cat5', 'cat6', 'cat8'], 'cats')\n",
        "df_Attribution = map_one_hot(df_Attribution, ['campaign'], 'campaigns').sort_values(by=['timestamp_norm'])\n"
      ],
      "execution_count": null,
      "outputs": []
    },
    {
      "cell_type": "code",
      "metadata": {
        "id": "mqmeOQ7LJ25N",
        "outputId": "528629ad-2c9a-40dd-eca3-92b65cc990c1"
      },
      "source": [
        "#Shape of the data after preprocessing\n",
        "df_Attribution.shape"
      ],
      "execution_count": null,
      "outputs": [
        {
          "output_type": "execute_result",
          "data": {
            "text/plain": [
              "(588892, 28)"
            ]
          },
          "metadata": {
            "tags": []
          },
          "execution_count": 7
        }
      ]
    },
    {
      "cell_type": "markdown",
      "metadata": {
        "id": "e7sO95R3J25O"
      },
      "source": [
        "## Journey Length"
      ]
    },
    {
      "cell_type": "code",
      "metadata": {
        "id": "XbzOH9oHJ25O",
        "outputId": "e889e9f7-5cb5-4854-f94f-52487372fa3f"
      },
      "source": [
        "def journey_length_histogram(df):\n",
        "    counts = df.groupby(['jid'])['uid'].count().reset_index(name=\"count\").groupby(['count']).count()\n",
        "    return counts.index, counts.values / df.shape[0]\n",
        "\n",
        "hist_x, hist_y = journey_length_histogram(df_Attribution)\n",
        "\n",
        "plt.plot(range(len(hist_x)), hist_y, label='all journeys')\n",
        "plt.yscale('log')\n",
        "plt.xlim(0, 120)\n",
        "plt.xlabel('Journey length (number of touchpoints)')\n",
        "plt.ylabel('Fraction of journeys')\n",
        "plt.show()"
      ],
      "execution_count": null,
      "outputs": [
        {
          "output_type": "display_data",
          "data": {
            "image/png": "[encoded data removed]",
            "text/plain": [
              "<Figure size 432x288 with 1 Axes>"
            ]
          },
          "metadata": {
            "tags": []
          }
        }
      ]
    },
    {
      "cell_type": "markdown",
      "metadata": {
        "id": "k12RY0JAJ25P"
      },
      "source": [
        "## Journey Length of journeys that were converted and not converted"
      ]
    },
    {
      "cell_type": "code",
      "metadata": {
        "id": "G_aaRDTbJ25P",
        "outputId": "ec6959d7-808b-4150-ef21-2361d3102d91"
      },
      "source": [
        "def journey_length_hist(df):\n",
        "    counts = df.groupby(['jid'])['uid'].count().reset_index(name=\"count\").groupby(['count']).count()\n",
        "    return counts.index, counts.values / df.shape[0]\n",
        "\n",
        "hist_x, hist_y = journey_length_hist(df_Attribution[df_Attribution.conversion==0])\n",
        "hist_x1, hist_y1 = journey_length_hist(df_Attribution[df_Attribution.conversion==1])\n",
        "plt.plot(range(len(hist_x)), hist_y, label='Not Converted', color = 'red')\n",
        "plt.plot(range(len(hist_x1)), hist_y1, label='Converted', color = 'blue')\n",
        "plt.yscale('log')\n",
        "plt.xlim(0, 120)\n",
        "plt.legend()\n",
        "plt.xlabel('Journey length (number of touchpoints)')\n",
        "plt.ylabel('Fraction of journeys')\n",
        "plt.show()"
      ],
      "execution_count": null,
      "outputs": [
        {
          "output_type": "display_data",
          "data": {
            "image/png": "[encoded data removed]",
            "text/plain": [
              "<Figure size 432x288 with 1 Axes>"
            ]
          },
          "metadata": {
            "tags": []
          }
        }
      ]
    },
    {
      "cell_type": "markdown",
      "metadata": {
        "id": "TzupsKR0J25Q"
      },
      "source": [
        "# Attribution Modelling\n",
        "\n",
        "### Single Touch Attribution Models\n",
        "     1. First Touch Attribution\n",
        "     2. Last Touch Attribution\n",
        "### Multi-Touch Attribution Models\n",
        "     1. Linear Attribution\n",
        "     2. Time-Deccay Attribution\n",
        "     3. U-Shape Attribution\n",
        "### Data-Driven Attribution Models\n",
        "     1. Logistic Regression\n",
        "     2. LSTM (Long Short Term Memory)\n",
        "     3. LSTM with Attention"
      ]
    },
    {
      "cell_type": "markdown",
      "metadata": {
        "id": "8S-UWGDeJ25Q"
      },
      "source": [
        "# Single-Touch Attribution"
      ]
    },
    {
      "cell_type": "markdown",
      "metadata": {
        "id": "U-gMLzNmJ25Q"
      },
      "source": [
        "## Last Touch Attribution\n",
        "\n",
        "Last-touch attribution, is an easy-to-understand, single-touch model. With the lead qualified model, 100% of the credit for a sale is given to the last-touch milestone before a lead converts and becomes a customer. \n",
        "\n",
        "#### Pros of Last Touch Attribution:\n",
        "* Easy to understand\n",
        "* Easy to set up\n",
        "* Great for short buying cycles/customer journeys\n",
        "\n",
        "#### Cons of Last Touch Attribution:\n",
        "* Overly simplistic\n",
        "* Not useful for organizations with a long buying cycle"
      ]
    },
    {
      "cell_type": "code",
      "metadata": {
        "id": "iBcL__zHJ25R"
      },
      "source": [
        "def last_touch_attribution(df):\n",
        "    \n",
        "    def count_by_campaign(df):\n",
        "        counters = np.zeros(n_campaigns)\n",
        "        for campaign_one_hot in df['campaigns'].values:\n",
        "            campaign_id = np.argmax(campaign_one_hot)\n",
        "            counters[campaign_id] = counters[campaign_id] + 1\n",
        "        return counters\n",
        "        \n",
        "    campaign_impressions = count_by_campaign(df)\n",
        "    \n",
        "    df_converted = df[df['conversion'] == 1]\n",
        "    idx = df_converted.groupby(['jid'])['timestamp_norm'].transform(max) == df_converted['timestamp_norm']\n",
        "    campaign_conversions = count_by_campaign(df_converted[idx])\n",
        "        \n",
        "    return campaign_conversions / campaign_impressions\n",
        "    \n",
        "lta = last_touch_attribution(df_Attribution)"
      ],
      "execution_count": null,
      "outputs": []
    },
    {
      "cell_type": "code",
      "metadata": {
        "id": "9860A8g-J25R",
        "outputId": "2dffecee-a568-455c-a507-4bdf860243c6"
      },
      "source": [
        "# Visualization of the attribution scores\n",
        "\n",
        "campaign_idx = range(150, 250)\n",
        "\n",
        "fig = plt.figure(figsize=(15,4))\n",
        "ax = fig.add_subplot(111)\n",
        "plt.bar( range(len(lta[campaign_idx])), lta[campaign_idx], label='LTA' )\n",
        "plt.xlabel('Campaign ID')\n",
        "plt.ylabel('Return per impression')\n",
        "plt.legend(loc='upper left')\n",
        "plt.show()"
      ],
      "execution_count": null,
      "outputs": [
        {
          "output_type": "display_data",
          "data": {
            "image/png": "[encoded data removed]",
            "text/plain": [
              "<Figure size 1080x288 with 1 Axes>"
            ]
          },
          "metadata": {
            "tags": []
          }
        }
      ]
    },
    {
      "cell_type": "markdown",
      "metadata": {
        "id": "ZvBL2_V2J25R"
      },
      "source": [
        "## First Touch Attribution\n",
        "With a first-touch attribution model, the very first interaction that a customer has with your company receives 100% of the credit for that sale. It’s an easy-to-understand, quick to set up, single-touch model—but that doesn’t necessarily mean that it’s right for every business out there. \n",
        "\n",
        "#### Pros of First Touch Attribution:\n",
        "* Simplicity/ease-of-use\n",
        "* Quick to set up\n",
        "* Great for marketers that focus solely on demand generation\n",
        "* Encourages investment in top-of-funnel activities\n",
        "\n",
        "#### Cons of First Touch Attribution:\n",
        "* Overly simplistic\n",
        "* Overemphasizes top-of-funnel efforts\n",
        "* Susceptible to technological limitations"
      ]
    },
    {
      "cell_type": "code",
      "metadata": {
        "id": "OZalY637J25X"
      },
      "source": [
        "def first_touch_attribution(df):\n",
        "    \n",
        "    def count_by_campaign(df):\n",
        "        counters = np.zeros(n_campaigns)\n",
        "        for campaign_one_hot in df['campaigns'].values:\n",
        "            campaign_id = np.argmax(campaign_one_hot)\n",
        "            counters[campaign_id] = counters[campaign_id] + 1\n",
        "        return counters\n",
        "        \n",
        "    campaign_impressions = count_by_campaign(df)\n",
        "    \n",
        "    df_converted = df[df['conversion'] == 1]\n",
        "    idx = df_converted.groupby(['jid'])['timestamp_norm'].transform(min) == df_converted['timestamp_norm']\n",
        "    campaign_conversions = count_by_campaign(df_converted[idx])\n",
        "    return campaign_conversions / campaign_impressions\n",
        "    \n",
        "fta = first_touch_attribution(df_Attribution)"
      ],
      "execution_count": null,
      "outputs": []
    },
    {
      "cell_type": "code",
      "metadata": {
        "id": "qNVSUNE7J25X",
        "outputId": "d5abf9b6-5246-4af1-9c50-91aee405fd30"
      },
      "source": [
        "# Visualization of the attribution scores\n",
        "\n",
        "campaign_idx = range(150, 250)\n",
        "\n",
        "fig = plt.figure(figsize=(15,4))\n",
        "#ax = fig.add_subplot(111)\n",
        "plt.bar( range(len(fta[campaign_idx])), fta[campaign_idx], label='FTA' )\n",
        "plt.xlabel('Campaign ID')\n",
        "plt.ylabel('Return per impression')\n",
        "plt.legend(loc='upper left')\n",
        "plt.show()\n"
      ],
      "execution_count": null,
      "outputs": [
        {
          "output_type": "display_data",
          "data": {
            "image/png": "[encoded data removed]",
            "text/plain": [
              "<Figure size 1080x288 with 1 Axes>"
            ]
          },
          "metadata": {
            "tags": []
          }
        }
      ]
    },
    {
      "cell_type": "markdown",
      "metadata": {
        "id": "kJTyEA9RJ25Y"
      },
      "source": [
        "# Multi-Touch Attribution"
      ]
    },
    {
      "cell_type": "markdown",
      "metadata": {
        "id": "ked3g9ZGJ25Z"
      },
      "source": [
        "## Linear Attribution\n",
        "\n",
        "A linear attribution model focuses on multi-touch attribution–meaning it takes into account and attributes credit to multiple touchpoints along the customer journey. In fact, this model actually takes into account every single interaction that a prospect has with your brand prior to purchasing. \n",
        "\n",
        "#### Pros of Linear Attribution:\n",
        "\n",
        "* Takes a multi-touch approach\n",
        "* Easy to understand\n",
        "* Doesn’t require in-depth data science capabilities\n",
        "\n",
        "#### Cons of Linear Attribution:\n",
        "* Too simplistic\n",
        "* Treats every touchpoint the same way\n",
        "* Over time, this could have a significant negative impact on your results"
      ]
    },
    {
      "cell_type": "code",
      "metadata": {
        "id": "WHDQw_1IJ25Z"
      },
      "source": [
        "def Linear_attribution(df):\n",
        "    \n",
        "    def count_by_campaign(df):\n",
        "        counters = np.zeros(n_campaigns)\n",
        "        for campaign_one_hot in df['campaigns'].values:\n",
        "            campaign_id = np.argmax(campaign_one_hot)\n",
        "            counters[campaign_id] = counters[campaign_id] + 1\n",
        "        return counters\n",
        "        \n",
        "    campaign_impressions = count_by_campaign(df)\n",
        "    \n",
        "    df_converted = df[df['conversion'] == 1]\n",
        "    df_converted['linear'] = df_converted.conversion / (df_converted.click_nb).astype(float)\n",
        "    \n",
        "    def linear_attr_by_campaign(df_conv):\n",
        "        counters = np.zeros(n_campaigns)\n",
        "        for idx in range(len(df_conv)):\n",
        "            campaign_id = np.argmax(df_conv.iloc[idx, 27])\n",
        "            counters[campaign_id] = counters[campaign_id] + df_conv.iloc[idx, 28]\n",
        "        \n",
        "        return counters\n",
        "    \n",
        "    campaign_conversions = linear_attr_by_campaign(df_converted)\n",
        "    \n",
        "    return campaign_conversions / campaign_impressions\n",
        "    \n",
        "linear_attr = Linear_attribution(df_Attribution)"
      ],
      "execution_count": null,
      "outputs": []
    },
    {
      "cell_type": "code",
      "metadata": {
        "id": "nc2ZcdVyJ25a",
        "outputId": "fa3b8555-2974-4823-a67e-8ae68d28e21d"
      },
      "source": [
        "# Visualization of the attribution scores\n",
        "\n",
        "campaign_idx = range(150, 250)\n",
        "\n",
        "fig = plt.figure(figsize=(15,4))\n",
        "plt.bar( range(len(linear_attr[campaign_idx])), linear_attr[campaign_idx], label='Linear Attribution' )\n",
        "plt.xlabel('Campaign ID')\n",
        "plt.ylabel('Return per impression')\n",
        "plt.legend(loc='upper left')\n",
        "plt.show()"
      ],
      "execution_count": null,
      "outputs": [
        {
          "output_type": "display_data",
          "data": {
            "image/png": "[encoded data removed]",
            "text/plain": [
              "<Figure size 1080x288 with 1 Axes>"
            ]
          },
          "metadata": {
            "tags": []
          }
        }
      ]
    },
    {
      "cell_type": "markdown",
      "metadata": {
        "id": "rPW3FleHJ25a"
      },
      "source": [
        "## U-Shaped Attribution\n",
        "A U-shaped attribution model is pretty easy to understand; the first touchpoint (i.e. interaction that a prospect has with your brand) is given 40% of the overall credit for that sale, while the last touchpoint (the final step before they convert and become a paying customer) is also given 40%. The remaining 20% of the credit is shared equally between all other touchpoints, no matter how many there are. \n",
        "\n"
      ]
    },
    {
      "cell_type": "code",
      "metadata": {
        "id": "CZc_SHF0J25b"
      },
      "source": [
        "def UShape_attribution(df):\n",
        "    \n",
        "    def count_by_campaign(df):\n",
        "        counters = np.zeros(n_campaigns)\n",
        "        for campaign_one_hot in df['campaigns'].values:\n",
        "            campaign_id = np.argmax(campaign_one_hot)\n",
        "            counters[campaign_id] = counters[campaign_id] + 1\n",
        "        return counters\n",
        "        \n",
        "    campaign_impressions = count_by_campaign(df)\n",
        "    \n",
        "    df_converted = df[df['conversion'] == 1]\n",
        "    \n",
        "    def calc_attribution(click_pos,click_nb):\n",
        "        default_att = 0.5\n",
        "        extreme_touch_att = 0.4\n",
        "        intermed_att = 0.2\n",
        "\n",
        "        if(click_nb == 2):\n",
        "            return default_att\n",
        "        else:\n",
        "            if(click_pos == click_nb - 1 or click_pos ==0):\n",
        "                return extreme_touch_att\n",
        "            else:\n",
        "                return intermed_att/(click_nb -2)\n",
        "\n",
        "    \n",
        "    def UShape_Attr_Value(df_converted):\n",
        "        df_converted['U_Shape'] = df_converted.apply(lambda val: calc_attribution(val.click_pos,val.click_nb),axis=1)\n",
        "        return df_converted\n",
        "        \n",
        "    def UShape_by_campaign(df_converted):\n",
        "        counters = np.zeros(n_campaigns)\n",
        "        for idx in range(len(df_converted)):\n",
        "            campaign_id = np.argmax(df_converted.iloc[idx, 27])\n",
        "            counters[campaign_id] = counters[campaign_id] + df_converted.iloc[idx, 28]\n",
        "        return counters\n",
        "    \n",
        "    \n",
        "\n",
        "    df_converted = UShape_Attr_Value(df_converted) \n",
        "    \n",
        "    campaign_conversions = UShape_by_campaign(df_converted)   #count conversions by campaign using U-Shape model\n",
        "        \n",
        "    return campaign_conversions / campaign_impressions\n",
        "    \n",
        "ushape_attr = UShape_attribution(df_Attribution)"
      ],
      "execution_count": null,
      "outputs": []
    },
    {
      "cell_type": "code",
      "metadata": {
        "id": "t4JRkoTLJ25b",
        "outputId": "dbf9fe17-62f1-4446-cb70-5c44ef28adee"
      },
      "source": [
        "# Visualization of the attribution scores\n",
        "\n",
        "campaign_idx = range(150, 250)\n",
        "\n",
        "fig = plt.figure(figsize=(15,4))\n",
        "plt.bar( range(len(ushape_attr[campaign_idx])), ushape_attr[campaign_idx], label='U-Shape Attribution' )\n",
        "plt.xlabel('Campaign ID')\n",
        "plt.ylabel('Return per impression')\n",
        "plt.legend(loc='upper left')\n",
        "plt.show()"
      ],
      "execution_count": null,
      "outputs": [
        {
          "output_type": "display_data",
          "data": {
            "image/png": "[encoded data removed]",
            "text/plain": [
              "<Figure size 1080x288 with 1 Axes>"
            ]
          },
          "metadata": {
            "tags": []
          }
        }
      ]
    },
    {
      "cell_type": "markdown",
      "metadata": {
        "id": "TAjoINmuJ25c"
      },
      "source": [
        "## Time-Deccay Attribution\n",
        "Time-decay attribution is a multi-touch attribution model that gives some credit to all the channels that led to your customer converting, with that amount of credit being less (decaying) the further back in time the channel was interacted with. \n",
        "\n",
        "#### Pros of Time-Decay Attribution:\n",
        "\n",
        "* Sharing is Caring. Gives some credit to all touchpoints\n",
        "* Always Be Closing. Touchpoints closest to the conversion are valued the most, which gives preference to marketing channels that tend to do more of the “closing” work\n",
        "* Consistency is Key. Applying a standardized formula to all of your campaigns will easily highlight fluctuations in the activity of individual channels\n",
        "\n",
        "#### Cons of Time-Decay Attribution:\n",
        "\n",
        "* Didn’t See You Back There. Gives less credit to the first touchpoint, which might be the most difficult to execute\n",
        "* One Size Doesn’t Fit All. Customer journeys are not always a straight line, so the path they took may not be best represented by lowest to highest value interactions\n",
        "* Hard Numbers. The math involved, while consistent, could be a little complex\n"
      ]
    },
    {
      "cell_type": "code",
      "metadata": {
        "id": "9lCpHjOMJ25c"
      },
      "source": [
        "df_Attribution['conversion_day'] = np.floor(df_Attribution.conversion_timestamp / 86400.).astype(int)\n",
        "def TimeDecay_attribution(df):\n",
        "    \n",
        "    def count_by_campaign(df):\n",
        "        counters = np.zeros(n_campaigns)\n",
        "        #print('here 1')\n",
        "        for campaign_one_hot in df['campaigns'].values:\n",
        "            campaign_id = np.argmax(campaign_one_hot)\n",
        "            counters[campaign_id] = counters[campaign_id] + 1\n",
        "        return counters\n",
        "    \n",
        "        \n",
        "    campaign_impressions = count_by_campaign(df)\n",
        "    \n",
        "    df_converted = df[df['conversion'] == 1]\n",
        "    \n",
        "    def calc_attribution(conversion_day,click_day):\n",
        "        rel_pos =  conversion_day - click_day\n",
        "        attribution = pow(2, -(rel_pos/7))    # using formulae 2^-x/7\n",
        "        return attribution\n",
        "    \n",
        "    def TimeDecay_Attr_Value(df_converted):\n",
        "        df_converted['TimeDecay'] = df_converted.apply(lambda val: calc_attribution(val.conversion_day,val.day),axis=1)\n",
        "        return df_converted\n",
        "        \n",
        "    def Normalised_TimeDecay(journey_id, Time_Decay):\n",
        "        attr_sum = df_TDecay_Sum[df_TDecay_Sum.jid == journey_id]['TDsum']\n",
        "        return Time_Decay / attr_sum       #normalising the attributions by dividing each with the sum of attributions\n",
        "            \n",
        "    def TimeDecay_by_campaign(df_converted):\n",
        "        counters = np.zeros(n_campaigns)\n",
        "        for idx in range(len(df_converted)):\n",
        "            campaign_id = np.argmax(df_converted.iloc[idx, 27])\n",
        "            counters[campaign_id] = counters[campaign_id] + df_converted.iloc[idx, 29]\n",
        "        return counters\n",
        "        \n",
        "        \n",
        "    \n",
        "    df_converted = TimeDecay_Attr_Value(df_converted) \n",
        "    \n",
        "    campaign_conversions = TimeDecay_by_campaign(df_converted)   #count conversions by campaign using U-Shape model\n",
        "        \n",
        "    return campaign_conversions / campaign_impressions\n",
        "    \n",
        "timedecay_attr = TimeDecay_attribution(df_Attribution)"
      ],
      "execution_count": null,
      "outputs": []
    },
    {
      "cell_type": "code",
      "metadata": {
        "id": "XWVzhD8oJ25c",
        "outputId": "5fd560a4-0220-4645-bb60-7fe898d5e5c5"
      },
      "source": [
        "# Visualization of the attribution scores\n",
        "\n",
        "campaign_idx = range(150, 250)\n",
        "\n",
        "fig = plt.figure(figsize=(15,4))\n",
        "#ax = fig.add_subplot(111)\n",
        "plt.bar( range(len(timedecay_attr[campaign_idx])), timedecay_attr[campaign_idx], label='Time Decay Attribution' )\n",
        "plt.xlabel('Campaign ID')\n",
        "plt.ylabel('Return per impression')\n",
        "plt.legend(loc='upper left')\n",
        "plt.show()"
      ],
      "execution_count": null,
      "outputs": [
        {
          "output_type": "display_data",
          "data": {
            "image/png": "[encoded data removed]",
            "text/plain": [
              "<Figure size 1080x288 with 1 Axes>"
            ]
          },
          "metadata": {
            "tags": []
          }
        }
      ]
    },
    {
      "cell_type": "markdown",
      "metadata": {
        "id": "egzWu5x3J25d"
      },
      "source": [
        "# Data-Driven Attribution"
      ]
    },
    {
      "cell_type": "markdown",
      "metadata": {
        "id": "YPS001JqJ25d"
      },
      "source": [
        "## Logistic Regression\n",
        "\n",
        "The first data driven attribution model is based on the work of Shao et al (2011) and Dalessandro et al (2012) and calculates the probability of conversion, in case channels appear in the conversion funnel, vs when they do not, by applying logistic regression. The outcome is a multiplier of the probability of conversion for each channel."
      ]
    },
    {
      "cell_type": "code",
      "metadata": {
        "id": "eMWKU1LJJ25d"
      },
      "source": [
        "def features_for_logistic_regression(df):\n",
        "\n",
        "    def pairwise_max(series):\n",
        "        return np.max(series.tolist(), axis = 0).tolist()\n",
        "    \n",
        "    aggregation = {\n",
        "        'campaigns': pairwise_max,\n",
        "        'cats': pairwise_max,\n",
        "        'click': 'sum',\n",
        "        'cost': 'sum',\n",
        "        'conversion': 'max'\n",
        "    }\n",
        "    \n",
        "    df_agg = df.groupby(['jid']).agg(aggregation)\n",
        "    \n",
        "    df_agg['features'] = df_agg[['campaigns', 'cats', 'click', 'cost']].values.tolist()\n",
        "    \n",
        "    return (\n",
        "        np.stack(df_agg['features'].map(lambda x: np.hstack(x)).values),\n",
        "        df_agg['conversion'].values\n",
        "    )"
      ],
      "execution_count": null,
      "outputs": []
    },
    {
      "cell_type": "code",
      "metadata": {
        "id": "01Bh09snJ25e"
      },
      "source": [
        "x, y = features_for_logistic_regression(df_Attribution)"
      ],
      "execution_count": null,
      "outputs": []
    },
    {
      "cell_type": "code",
      "metadata": {
        "id": "tnuuu53DJ25e"
      },
      "source": [
        "from sklearn.model_selection import train_test_split\n",
        "\n",
        "x_train, x_test, y_train, y_test = train_test_split(x, y, test_size = 0.20, random_state = 1)\n",
        "x_train, x_val, y_train, y_val = train_test_split(x_train, y_train, test_size = 0.20, random_state = 1)"
      ],
      "execution_count": null,
      "outputs": []
    },
    {
      "cell_type": "code",
      "metadata": {
        "id": "mDmZFudCJ25e",
        "outputId": "313a472d-d076-4f70-ca2c-f72560b37ccc"
      },
      "source": [
        "from sklearn.linear_model import LogisticRegression\n",
        "\n",
        "logisticRegr = LogisticRegression()\n",
        "logisticRegr.fit(x_train, y_train)\n",
        "score = logisticRegr.score(x_test, y_test)\n",
        "print(score)"
      ],
      "execution_count": null,
      "outputs": [
        {
          "output_type": "stream",
          "text": [
            "0.8557111856381929\n"
          ],
          "name": "stdout"
        }
      ]
    },
    {
      "cell_type": "code",
      "metadata": {
        "id": "omr5PhqaJ25f",
        "outputId": "42b3b452-12ae-44c0-c09d-896f8bee5c1e"
      },
      "source": [
        "from keras.models import Sequential \n",
        "from keras.layers import Dense, Dropout\n",
        "from keras.constraints import NonNeg\n",
        "\n",
        "m = np.shape(x)[1]\n",
        "    \n",
        "model = Sequential()  \n",
        "model.add(Dense(1, input_dim=m, activation='sigmoid', name = 'contributions')) \n",
        "\n",
        "model.compile(optimizer='rmsprop', loss='binary_crossentropy', metrics=['accuracy']) \n",
        "history = model.fit(x_train, y_train, batch_size=128, epochs=10, verbose=1, validation_data=(x_val, y_val)) \n",
        "score = model.evaluate(x_test, y_test, verbose=0) \n",
        "print('Test score:', score[0]) \n",
        "print('Test accuracy:', score[1])\n"
      ],
      "execution_count": null,
      "outputs": [
        {
          "output_type": "stream",
          "text": [
            "Epoch 1/10\n",
            "634/634 [==============================] - 2s 2ms/step - loss: 0.5916 - accuracy: 0.7013 - val_loss: 0.4728 - val_accuracy: 0.8064\n",
            "Epoch 2/10\n",
            "634/634 [==============================] - 1s 1ms/step - loss: 0.4640 - accuracy: 0.8053 - val_loss: 0.4379 - val_accuracy: 0.8208\n",
            "Epoch 3/10\n",
            "634/634 [==============================] - 1s 1ms/step - loss: 0.4286 - accuracy: 0.8220 - val_loss: 0.4193 - val_accuracy: 0.8297\n",
            "Epoch 4/10\n",
            "634/634 [==============================] - 1s 1ms/step - loss: 0.4151 - accuracy: 0.8324 - val_loss: 0.4078 - val_accuracy: 0.8350\n",
            "Epoch 5/10\n",
            "634/634 [==============================] - 1s 1ms/step - loss: 0.4054 - accuracy: 0.8360 - val_loss: 0.4000 - val_accuracy: 0.8402\n",
            "Epoch 6/10\n",
            "634/634 [==============================] - 1s 1ms/step - loss: 0.3967 - accuracy: 0.8412 - val_loss: 0.3935 - val_accuracy: 0.8425\n",
            "Epoch 7/10\n",
            "634/634 [==============================] - 1s 1ms/step - loss: 0.3842 - accuracy: 0.8442 - val_loss: 0.3882 - val_accuracy: 0.8450\n",
            "Epoch 8/10\n",
            "634/634 [==============================] - 1s 1ms/step - loss: 0.3825 - accuracy: 0.8446 - val_loss: 0.3839 - val_accuracy: 0.8452\n",
            "Epoch 9/10\n",
            "634/634 [==============================] - 1s 1ms/step - loss: 0.3800 - accuracy: 0.8442 - val_loss: 0.3807 - val_accuracy: 0.8460\n",
            "Epoch 10/10\n",
            "634/634 [==============================] - 1s 1ms/step - loss: 0.3837 - accuracy: 0.8475 - val_loss: 0.3778 - val_accuracy: 0.8466\n",
            "Test score: 0.3807368874549866\n",
            "Test accuracy: 0.844150722026825\n"
          ],
          "name": "stdout"
        }
      ]
    },
    {
      "cell_type": "code",
      "metadata": {
        "id": "0IC22iL7J25f",
        "outputId": "6688cdfe-41d4-41f8-fb09-4d04c2c495b7"
      },
      "source": [
        "# Visualization of the attribution scores\n",
        "from sklearn.utils.extmath import softmax\n",
        "\n",
        "campaign_idx = range(150, 250)\n",
        "\n",
        "logistic_attr = model.get_layer('contributions').get_weights()[0].flatten()[0:n_campaigns]\n",
        "logistic_attr = softmax([logistic_attr]).flatten()\n",
        "\n",
        "fig = plt.figure(figsize=(15,4))\n",
        "ax = fig.add_subplot(111)\n",
        "plt.bar(range(len(logistic_attr[campaign_idx])), logistic_attr[campaign_idx] )\n",
        "plt.xlabel('Campaign ID')\n",
        "plt.ylabel('Return per impression')\n",
        "plt.show()"
      ],
      "execution_count": null,
      "outputs": [
        {
          "output_type": "display_data",
          "data": {
            "image/png": "[encoded data removed]",
            "text/plain": [
              "<Figure size 1080x288 with 1 Axes>"
            ]
          },
          "metadata": {
            "tags": []
          }
        }
      ]
    },
    {
      "cell_type": "markdown",
      "metadata": {
        "id": "KTsm0JlbJ25g"
      },
      "source": [
        "# Comparison of Attribution Models"
      ]
    },
    {
      "cell_type": "markdown",
      "metadata": {
        "id": "YQaPgKsaJ25g"
      },
      "source": [
        "## Comparison of Last Touch Attribution and First Touch Attribution"
      ]
    },
    {
      "cell_type": "code",
      "metadata": {
        "id": "U_ybS8UqJ25g",
        "outputId": "079a6ed1-4427-4471-c109-b043f661a9b3"
      },
      "source": [
        "fig = plt.figure(figsize=(15, 4))\n",
        "ax = fig.add_subplot(111)\n",
        "\n",
        "plt.bar(np.linspace(0, len(campaign_idx), len(campaign_idx)), lta[campaign_idx], width=0.4, alpha=0.7, label='LTA' )\n",
        "plt.bar(np.linspace(0, len(campaign_idx), len(campaign_idx)) - 0.3, fta[campaign_idx], width=0.4, alpha=0.7, label='FTA' )\n",
        "plt.xlabel('Campaign ID')\n",
        "plt.ylabel('Contribution')\n",
        "plt.legend(loc='upper left')\n",
        "plt.show()"
      ],
      "execution_count": null,
      "outputs": [
        {
          "output_type": "display_data",
          "data": {
            "image/png": "[encoded data removed]",
            "text/plain": [
              "<Figure size 1080x288 with 1 Axes>"
            ]
          },
          "metadata": {
            "tags": []
          }
        }
      ]
    },
    {
      "cell_type": "markdown",
      "metadata": {
        "id": "mUjSYxzuJ25h"
      },
      "source": [
        "# Budget Optimization"
      ]
    },
    {
      "cell_type": "code",
      "metadata": {
        "id": "cjWWwNA2J25h"
      },
      "source": [
        "def get_campaign_id(x_journey_step):\n",
        "    return np.argmax(x_journey_step[0:n_campaigns])\n",
        "\n",
        "def simulate_budget_roi(df, budget_total, attribution, verbose=False):\n",
        "    budgets = np.ceil(attribution * (budget_total / np.sum(attribution)))\n",
        "    \n",
        "    if(verbose):\n",
        "        print(budgets)\n",
        "    \n",
        "    blacklist = set()\n",
        "    conversions = set()\n",
        "    for i in range(df.shape[0]):\n",
        "        campaign_id = get_campaign_id(df.loc[i]['campaigns']) \n",
        "        jid = df.loc[i]['jid']\n",
        "        if jid not in blacklist:\n",
        "            if budgets[campaign_id] >= 1:\n",
        "                budgets[campaign_id] = budgets[campaign_id] - 1\n",
        "                if(df.loc[i]['conversion'] == 1):\n",
        "                    conversions.add(jid)\n",
        "            else:\n",
        "                blacklist.add(jid)\n",
        "        \n",
        "        if(verbose):\n",
        "            if(i % 10000 == 0):\n",
        "                print('{:.2%} : {:.2%} budget spent'.format(i/df.shape[0], 1.0 - np.sum(budgets)/budget_total ))\n",
        "        \n",
        "        if(np.sum(budgets) < budget_total * 0.02):\n",
        "            break\n",
        "            \n",
        "    return len(conversions.difference(blacklist))"
      ],
      "execution_count": null,
      "outputs": []
    },
    {
      "cell_type": "code",
      "metadata": {
        "id": "Wqlc_ELHJ25h",
        "outputId": "e9c0a8f4-250c-48df-8127-b27531a974a0"
      },
      "source": [
        "pitches = [0.5, 1.0, 1.5, 2.0, 2.5, 3.0]\n",
        "attributions = [lta, fta, linear_attr, ushape_attr, timedecay_attr, logistic_attr]\n",
        "\n",
        "for i, pitch in enumerate(pitches):\n",
        "    print('Pitch of Budget Allocation - ' + str(pitch))\n",
        "    for j, attribution in enumerate(attributions):\n",
        "        reward = simulate_budget_roi(df_Attribution, 10000, attribution**pitch)\n",
        "        print('{} {} : {}'.format(i, j, reward))"
      ],
      "execution_count": null,
      "outputs": [
        {
          "output_type": "stream",
          "text": [
            "Pitch of Budget Allocation - 0.5\n",
            "0 0 : 916\n",
            "0 1 : 916\n",
            "0 2 : 966\n"
          ],
          "name": "stdout"
        }
      ]
    },
    {
      "cell_type": "code",
      "metadata": {
        "id": "0btJVDmeJ25h"
      },
      "source": [
        ""
      ],
      "execution_count": null,
      "outputs": []
    }
  ]
}