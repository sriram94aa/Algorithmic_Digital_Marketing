{
 "cells": [
  {
   "cell_type": "code",
   "execution_count": 1,
   "metadata": {},
   "outputs": [],
   "source": [
    "import tensorflow as tf\n",
    "import tensorflow_hub as hub\n",
    "# For saving 'feature vectors' into a txt file\n",
    "import numpy as np\n",
    "# Glob for reading file names in a folder\n",
    "import glob\n",
    "import os.path\n",
    "from tqdm import tqdm\n",
    "import ntpath\n",
    "import warnings\n",
    "import cv2\n",
    "from annoy import AnnoyIndex\n",
    "from scipy import spatial\n",
    "warnings.filterwarnings('ignore')\n",
    "from operator import itemgetter"
   ]
  },
  {
   "cell_type": "code",
   "execution_count": 2,
   "metadata": {},
   "outputs": [],
   "source": [
    "def load_img(path):\n",
    "    # Reads the image file and returns data type of string\n",
    "    img = tf.io.read_file(path)\n",
    "    # Decodes the image to W x H x 3 shape tensor with type of uint8\n",
    "    img = tf.io.decode_jpeg(img, channels=3)\n",
    "    # Resizes the image to 224 x 224 x 3 shape tensor\n",
    "    img = tf.image.resize_with_pad(img, 224, 224)\n",
    "    # Converts the data type of uint8 to float32 by adding a new axis\n",
    "    # img becomes 1 x 224 x 224 x 3 tensor with data type of float32\n",
    "    # This is required for the mobilenet model we are using\n",
    "    img = tf.image.convert_image_dtype(img,tf.float32)[tf.newaxis, ...]\n",
    "\n",
    "    return img"
   ]
  },
  {
   "cell_type": "code",
   "execution_count": 3,
   "metadata": {},
   "outputs": [],
   "source": [
    "def match_id(filename):\n",
    "    product_id = '_'.join(filename.split('_')[:-1])\n",
    "    return product_id"
   ]
  },
  {
   "cell_type": "code",
   "execution_count": 4,
   "metadata": {},
   "outputs": [],
   "source": [
    "image_paths= glob.glob('/Users/rishabshekar/Downloads/Dataset/*.jpeg')"
   ]
  },
  {
   "cell_type": "code",
   "execution_count": 5,
   "metadata": {},
   "outputs": [],
   "source": [
    "image_paths = image_paths[:200]"
   ]
  },
  {
   "cell_type": "code",
   "execution_count": 6,
   "metadata": {},
   "outputs": [
    {
     "data": {
      "text/plain": [
       "200"
      ]
     },
     "execution_count": 6,
     "metadata": {},
     "output_type": "execute_result"
    }
   ],
   "source": [
    "len(image_paths)"
   ]
  },
  {
   "cell_type": "code",
   "execution_count": 7,
   "metadata": {},
   "outputs": [],
   "source": [
    "def get_image_feature_vectors(path):\n",
    "    module_handle = \"https://tfhub.dev/google/imagenet/mobilenet_v2_140_224/feature_vector/4\"\n",
    "    # Loads the module\n",
    "    module = hub.load(module_handle)\n",
    "    # Loops through all images in a local folder\n",
    "\n",
    "    #print(path)\n",
    "    # Loads and pre-process the image\n",
    "    img = load_img(path)\n",
    "    # Calculate the image feature vector of the img\n",
    "    features = module(img)\n",
    "    # Remove single-dimensional entries from the 'features' array  \n",
    "    feature_set = np.squeeze(features)\n",
    "\n",
    "    # Saves the image feature vectors into a file for later use\n",
    "    outfile_name = os.path.basename(filename) + \".npz\"\n",
    "\n",
    "    out_path = os.path.join('/Users/rishabshekar/Downloads/Dataset/',outfile_name)\n",
    "    # Saves the 'feature_set' to a text file\n",
    "    np.savetxt(out_path, feature_set, delimiter=',')"
   ]
  },
  {
   "cell_type": "code",
   "execution_count": 8,
   "metadata": {},
   "outputs": [],
   "source": [
    "def get_features(img, image_path): \n",
    "     # Definition of module with using tfhub.dev\n",
    "    module_handle = \"https://tfhub.dev/google/imagenet/mobilenet_v2_140_224/feature_vector/4\"\n",
    "    # Loads the module\n",
    "    module = hub.load(module_handle)\n",
    "    features = module(img)\n",
    "    # Remove single-dimensional entries from the 'features' array  \n",
    "    feature_set = np.squeeze(features)\n",
    "    #print(image_path)\n",
    "\n",
    "    # Saves the image feature vectors into a file for later use\n",
    "    outfile_name = os.path.basename(image_path) + \".npz\"\n",
    "\n",
    "    out_path = os.path.join('/Users/rishabshekar/Downloads/Dataset/',outfile_name)\n",
    "    # Saves the 'feature_set' to a text file\n",
    "    np.savetxt(out_path, feature_set, delimiter=',')\n",
    "    vector = np.loadtxt(out_path)\n",
    "    return vector\n",
    "    "
   ]
  },
  {
   "cell_type": "code",
   "execution_count": 9,
   "metadata": {},
   "outputs": [
    {
     "name": "stderr",
     "output_type": "stream",
     "text": [
      "  2%|▏         | 4/200 [00:06<05:35,  1.71s/it]"
     ]
    },
    {
     "name": "stdout",
     "output_type": "stream",
     "text": [
      "WARNING:tensorflow:5 out of the last 5 calls to <function recreate_function.<locals>.restored_function_body at 0x7ff5c7647310> triggered tf.function retracing. Tracing is expensive and the excessive number of tracings could be due to (1) creating @tf.function repeatedly in a loop, (2) passing tensors with different shapes, (3) passing Python objects instead of tensors. For (1), please define your @tf.function outside of the loop. For (2), @tf.function has experimental_relax_shapes=True option that relaxes argument shapes that can avoid unnecessary retracing. For (3), please refer to https://www.tensorflow.org/guide/function#controlling_retracing and https://www.tensorflow.org/api_docs/python/tf/function for  more details.\n"
     ]
    },
    {
     "name": "stderr",
     "output_type": "stream",
     "text": [
      "WARNING:tensorflow:5 out of the last 5 calls to <function recreate_function.<locals>.restored_function_body at 0x7ff5c7647310> triggered tf.function retracing. Tracing is expensive and the excessive number of tracings could be due to (1) creating @tf.function repeatedly in a loop, (2) passing tensors with different shapes, (3) passing Python objects instead of tensors. For (1), please define your @tf.function outside of the loop. For (2), @tf.function has experimental_relax_shapes=True option that relaxes argument shapes that can avoid unnecessary retracing. For (3), please refer to https://www.tensorflow.org/guide/function#controlling_retracing and https://www.tensorflow.org/api_docs/python/tf/function for  more details.\n",
      "  2%|▎         | 5/200 [00:08<05:27,  1.68s/it]"
     ]
    },
    {
     "name": "stdout",
     "output_type": "stream",
     "text": [
      "WARNING:tensorflow:6 out of the last 6 calls to <function recreate_function.<locals>.restored_function_body at 0x7ff5c64f8280> triggered tf.function retracing. Tracing is expensive and the excessive number of tracings could be due to (1) creating @tf.function repeatedly in a loop, (2) passing tensors with different shapes, (3) passing Python objects instead of tensors. For (1), please define your @tf.function outside of the loop. For (2), @tf.function has experimental_relax_shapes=True option that relaxes argument shapes that can avoid unnecessary retracing. For (3), please refer to https://www.tensorflow.org/guide/function#controlling_retracing and https://www.tensorflow.org/api_docs/python/tf/function for  more details.\n"
     ]
    },
    {
     "name": "stderr",
     "output_type": "stream",
     "text": [
      "WARNING:tensorflow:6 out of the last 6 calls to <function recreate_function.<locals>.restored_function_body at 0x7ff5c64f8280> triggered tf.function retracing. Tracing is expensive and the excessive number of tracings could be due to (1) creating @tf.function repeatedly in a loop, (2) passing tensors with different shapes, (3) passing Python objects instead of tensors. For (1), please define your @tf.function outside of the loop. For (2), @tf.function has experimental_relax_shapes=True option that relaxes argument shapes that can avoid unnecessary retracing. For (3), please refer to https://www.tensorflow.org/guide/function#controlling_retracing and https://www.tensorflow.org/api_docs/python/tf/function for  more details.\n",
      "  3%|▎         | 6/200 [00:10<05:24,  1.67s/it]"
     ]
    },
    {
     "name": "stdout",
     "output_type": "stream",
     "text": [
      "WARNING:tensorflow:7 out of the last 7 calls to <function recreate_function.<locals>.restored_function_body at 0x7ff5e1e1d160> triggered tf.function retracing. Tracing is expensive and the excessive number of tracings could be due to (1) creating @tf.function repeatedly in a loop, (2) passing tensors with different shapes, (3) passing Python objects instead of tensors. For (1), please define your @tf.function outside of the loop. For (2), @tf.function has experimental_relax_shapes=True option that relaxes argument shapes that can avoid unnecessary retracing. For (3), please refer to https://www.tensorflow.org/guide/function#controlling_retracing and https://www.tensorflow.org/api_docs/python/tf/function for  more details.\n"
     ]
    },
    {
     "name": "stderr",
     "output_type": "stream",
     "text": [
      "WARNING:tensorflow:7 out of the last 7 calls to <function recreate_function.<locals>.restored_function_body at 0x7ff5e1e1d160> triggered tf.function retracing. Tracing is expensive and the excessive number of tracings could be due to (1) creating @tf.function repeatedly in a loop, (2) passing tensors with different shapes, (3) passing Python objects instead of tensors. For (1), please define your @tf.function outside of the loop. For (2), @tf.function has experimental_relax_shapes=True option that relaxes argument shapes that can avoid unnecessary retracing. For (3), please refer to https://www.tensorflow.org/guide/function#controlling_retracing and https://www.tensorflow.org/api_docs/python/tf/function for  more details.\n",
      "  4%|▎         | 7/200 [00:11<05:11,  1.61s/it]"
     ]
    },
    {
     "name": "stdout",
     "output_type": "stream",
     "text": [
      "WARNING:tensorflow:8 out of the last 8 calls to <function recreate_function.<locals>.restored_function_body at 0x7ff5e1c6cf70> triggered tf.function retracing. Tracing is expensive and the excessive number of tracings could be due to (1) creating @tf.function repeatedly in a loop, (2) passing tensors with different shapes, (3) passing Python objects instead of tensors. For (1), please define your @tf.function outside of the loop. For (2), @tf.function has experimental_relax_shapes=True option that relaxes argument shapes that can avoid unnecessary retracing. For (3), please refer to https://www.tensorflow.org/guide/function#controlling_retracing and https://www.tensorflow.org/api_docs/python/tf/function for  more details.\n"
     ]
    },
    {
     "name": "stderr",
     "output_type": "stream",
     "text": [
      "WARNING:tensorflow:8 out of the last 8 calls to <function recreate_function.<locals>.restored_function_body at 0x7ff5e1c6cf70> triggered tf.function retracing. Tracing is expensive and the excessive number of tracings could be due to (1) creating @tf.function repeatedly in a loop, (2) passing tensors with different shapes, (3) passing Python objects instead of tensors. For (1), please define your @tf.function outside of the loop. For (2), @tf.function has experimental_relax_shapes=True option that relaxes argument shapes that can avoid unnecessary retracing. For (3), please refer to https://www.tensorflow.org/guide/function#controlling_retracing and https://www.tensorflow.org/api_docs/python/tf/function for  more details.\n",
      "  4%|▍         | 8/200 [00:13<05:25,  1.70s/it]"
     ]
    },
    {
     "name": "stdout",
     "output_type": "stream",
     "text": [
      "WARNING:tensorflow:9 out of the last 9 calls to <function recreate_function.<locals>.restored_function_body at 0x7ff5c6f9d4c0> triggered tf.function retracing. Tracing is expensive and the excessive number of tracings could be due to (1) creating @tf.function repeatedly in a loop, (2) passing tensors with different shapes, (3) passing Python objects instead of tensors. For (1), please define your @tf.function outside of the loop. For (2), @tf.function has experimental_relax_shapes=True option that relaxes argument shapes that can avoid unnecessary retracing. For (3), please refer to https://www.tensorflow.org/guide/function#controlling_retracing and https://www.tensorflow.org/api_docs/python/tf/function for  more details.\n"
     ]
    },
    {
     "name": "stderr",
     "output_type": "stream",
     "text": [
      "WARNING:tensorflow:9 out of the last 9 calls to <function recreate_function.<locals>.restored_function_body at 0x7ff5c6f9d4c0> triggered tf.function retracing. Tracing is expensive and the excessive number of tracings could be due to (1) creating @tf.function repeatedly in a loop, (2) passing tensors with different shapes, (3) passing Python objects instead of tensors. For (1), please define your @tf.function outside of the loop. For (2), @tf.function has experimental_relax_shapes=True option that relaxes argument shapes that can avoid unnecessary retracing. For (3), please refer to https://www.tensorflow.org/guide/function#controlling_retracing and https://www.tensorflow.org/api_docs/python/tf/function for  more details.\n",
      "  4%|▍         | 9/200 [00:15<05:42,  1.80s/it]"
     ]
    },
    {
     "name": "stdout",
     "output_type": "stream",
     "text": [
      "WARNING:tensorflow:10 out of the last 10 calls to <function recreate_function.<locals>.restored_function_body at 0x7ff5c97ec280> triggered tf.function retracing. Tracing is expensive and the excessive number of tracings could be due to (1) creating @tf.function repeatedly in a loop, (2) passing tensors with different shapes, (3) passing Python objects instead of tensors. For (1), please define your @tf.function outside of the loop. For (2), @tf.function has experimental_relax_shapes=True option that relaxes argument shapes that can avoid unnecessary retracing. For (3), please refer to https://www.tensorflow.org/guide/function#controlling_retracing and https://www.tensorflow.org/api_docs/python/tf/function for  more details.\n"
     ]
    },
    {
     "name": "stderr",
     "output_type": "stream",
     "text": [
      "WARNING:tensorflow:10 out of the last 10 calls to <function recreate_function.<locals>.restored_function_body at 0x7ff5c97ec280> triggered tf.function retracing. Tracing is expensive and the excessive number of tracings could be due to (1) creating @tf.function repeatedly in a loop, (2) passing tensors with different shapes, (3) passing Python objects instead of tensors. For (1), please define your @tf.function outside of the loop. For (2), @tf.function has experimental_relax_shapes=True option that relaxes argument shapes that can avoid unnecessary retracing. For (3), please refer to https://www.tensorflow.org/guide/function#controlling_retracing and https://www.tensorflow.org/api_docs/python/tf/function for  more details.\n",
      "  5%|▌         | 10/200 [00:17<05:37,  1.77s/it]"
     ]
    },
    {
     "name": "stdout",
     "output_type": "stream",
     "text": [
      "WARNING:tensorflow:11 out of the last 11 calls to <function recreate_function.<locals>.restored_function_body at 0x7ff5e2fdc700> triggered tf.function retracing. Tracing is expensive and the excessive number of tracings could be due to (1) creating @tf.function repeatedly in a loop, (2) passing tensors with different shapes, (3) passing Python objects instead of tensors. For (1), please define your @tf.function outside of the loop. For (2), @tf.function has experimental_relax_shapes=True option that relaxes argument shapes that can avoid unnecessary retracing. For (3), please refer to https://www.tensorflow.org/guide/function#controlling_retracing and https://www.tensorflow.org/api_docs/python/tf/function for  more details.\n"
     ]
    },
    {
     "name": "stderr",
     "output_type": "stream",
     "text": [
      "WARNING:tensorflow:11 out of the last 11 calls to <function recreate_function.<locals>.restored_function_body at 0x7ff5e2fdc700> triggered tf.function retracing. Tracing is expensive and the excessive number of tracings could be due to (1) creating @tf.function repeatedly in a loop, (2) passing tensors with different shapes, (3) passing Python objects instead of tensors. For (1), please define your @tf.function outside of the loop. For (2), @tf.function has experimental_relax_shapes=True option that relaxes argument shapes that can avoid unnecessary retracing. For (3), please refer to https://www.tensorflow.org/guide/function#controlling_retracing and https://www.tensorflow.org/api_docs/python/tf/function for  more details.\n",
      "  6%|▌         | 11/200 [00:19<05:37,  1.79s/it]"
     ]
    },
    {
     "name": "stdout",
     "output_type": "stream",
     "text": [
      "WARNING:tensorflow:11 out of the last 11 calls to <function recreate_function.<locals>.restored_function_body at 0x7ff5e1c6c790> triggered tf.function retracing. Tracing is expensive and the excessive number of tracings could be due to (1) creating @tf.function repeatedly in a loop, (2) passing tensors with different shapes, (3) passing Python objects instead of tensors. For (1), please define your @tf.function outside of the loop. For (2), @tf.function has experimental_relax_shapes=True option that relaxes argument shapes that can avoid unnecessary retracing. For (3), please refer to https://www.tensorflow.org/guide/function#controlling_retracing and https://www.tensorflow.org/api_docs/python/tf/function for  more details.\n"
     ]
    },
    {
     "name": "stderr",
     "output_type": "stream",
     "text": [
      "WARNING:tensorflow:11 out of the last 11 calls to <function recreate_function.<locals>.restored_function_body at 0x7ff5e1c6c790> triggered tf.function retracing. Tracing is expensive and the excessive number of tracings could be due to (1) creating @tf.function repeatedly in a loop, (2) passing tensors with different shapes, (3) passing Python objects instead of tensors. For (1), please define your @tf.function outside of the loop. For (2), @tf.function has experimental_relax_shapes=True option that relaxes argument shapes that can avoid unnecessary retracing. For (3), please refer to https://www.tensorflow.org/guide/function#controlling_retracing and https://www.tensorflow.org/api_docs/python/tf/function for  more details.\n",
      "  6%|▌         | 12/200 [00:20<05:34,  1.78s/it]"
     ]
    },
    {
     "name": "stdout",
     "output_type": "stream",
     "text": [
      "WARNING:tensorflow:11 out of the last 11 calls to <function recreate_function.<locals>.restored_function_body at 0x7ff5c777c280> triggered tf.function retracing. Tracing is expensive and the excessive number of tracings could be due to (1) creating @tf.function repeatedly in a loop, (2) passing tensors with different shapes, (3) passing Python objects instead of tensors. For (1), please define your @tf.function outside of the loop. For (2), @tf.function has experimental_relax_shapes=True option that relaxes argument shapes that can avoid unnecessary retracing. For (3), please refer to https://www.tensorflow.org/guide/function#controlling_retracing and https://www.tensorflow.org/api_docs/python/tf/function for  more details.\n"
     ]
    },
    {
     "name": "stderr",
     "output_type": "stream",
     "text": [
      "WARNING:tensorflow:11 out of the last 11 calls to <function recreate_function.<locals>.restored_function_body at 0x7ff5c777c280> triggered tf.function retracing. Tracing is expensive and the excessive number of tracings could be due to (1) creating @tf.function repeatedly in a loop, (2) passing tensors with different shapes, (3) passing Python objects instead of tensors. For (1), please define your @tf.function outside of the loop. For (2), @tf.function has experimental_relax_shapes=True option that relaxes argument shapes that can avoid unnecessary retracing. For (3), please refer to https://www.tensorflow.org/guide/function#controlling_retracing and https://www.tensorflow.org/api_docs/python/tf/function for  more details.\n",
      "  6%|▋         | 13/200 [00:22<05:43,  1.84s/it]"
     ]
    },
    {
     "name": "stdout",
     "output_type": "stream",
     "text": [
      "WARNING:tensorflow:11 out of the last 11 calls to <function recreate_function.<locals>.restored_function_body at 0x7ff5c7202160> triggered tf.function retracing. Tracing is expensive and the excessive number of tracings could be due to (1) creating @tf.function repeatedly in a loop, (2) passing tensors with different shapes, (3) passing Python objects instead of tensors. For (1), please define your @tf.function outside of the loop. For (2), @tf.function has experimental_relax_shapes=True option that relaxes argument shapes that can avoid unnecessary retracing. For (3), please refer to https://www.tensorflow.org/guide/function#controlling_retracing and https://www.tensorflow.org/api_docs/python/tf/function for  more details.\n"
     ]
    },
    {
     "name": "stderr",
     "output_type": "stream",
     "text": [
      "WARNING:tensorflow:11 out of the last 11 calls to <function recreate_function.<locals>.restored_function_body at 0x7ff5c7202160> triggered tf.function retracing. Tracing is expensive and the excessive number of tracings could be due to (1) creating @tf.function repeatedly in a loop, (2) passing tensors with different shapes, (3) passing Python objects instead of tensors. For (1), please define your @tf.function outside of the loop. For (2), @tf.function has experimental_relax_shapes=True option that relaxes argument shapes that can avoid unnecessary retracing. For (3), please refer to https://www.tensorflow.org/guide/function#controlling_retracing and https://www.tensorflow.org/api_docs/python/tf/function for  more details.\n",
      "  7%|▋         | 14/200 [00:24<05:40,  1.83s/it]"
     ]
    },
    {
     "name": "stdout",
     "output_type": "stream",
     "text": [
      "WARNING:tensorflow:11 out of the last 11 calls to <function recreate_function.<locals>.restored_function_body at 0x7ff5c4481ee0> triggered tf.function retracing. Tracing is expensive and the excessive number of tracings could be due to (1) creating @tf.function repeatedly in a loop, (2) passing tensors with different shapes, (3) passing Python objects instead of tensors. For (1), please define your @tf.function outside of the loop. For (2), @tf.function has experimental_relax_shapes=True option that relaxes argument shapes that can avoid unnecessary retracing. For (3), please refer to https://www.tensorflow.org/guide/function#controlling_retracing and https://www.tensorflow.org/api_docs/python/tf/function for  more details.\n"
     ]
    },
    {
     "name": "stderr",
     "output_type": "stream",
     "text": [
      "WARNING:tensorflow:11 out of the last 11 calls to <function recreate_function.<locals>.restored_function_body at 0x7ff5c4481ee0> triggered tf.function retracing. Tracing is expensive and the excessive number of tracings could be due to (1) creating @tf.function repeatedly in a loop, (2) passing tensors with different shapes, (3) passing Python objects instead of tensors. For (1), please define your @tf.function outside of the loop. For (2), @tf.function has experimental_relax_shapes=True option that relaxes argument shapes that can avoid unnecessary retracing. For (3), please refer to https://www.tensorflow.org/guide/function#controlling_retracing and https://www.tensorflow.org/api_docs/python/tf/function for  more details.\n",
      "  8%|▊         | 15/200 [00:26<05:38,  1.83s/it]"
     ]
    },
    {
     "name": "stdout",
     "output_type": "stream",
     "text": [
      "WARNING:tensorflow:11 out of the last 11 calls to <function recreate_function.<locals>.restored_function_body at 0x7ff5c755f700> triggered tf.function retracing. Tracing is expensive and the excessive number of tracings could be due to (1) creating @tf.function repeatedly in a loop, (2) passing tensors with different shapes, (3) passing Python objects instead of tensors. For (1), please define your @tf.function outside of the loop. For (2), @tf.function has experimental_relax_shapes=True option that relaxes argument shapes that can avoid unnecessary retracing. For (3), please refer to https://www.tensorflow.org/guide/function#controlling_retracing and https://www.tensorflow.org/api_docs/python/tf/function for  more details.\n"
     ]
    },
    {
     "name": "stderr",
     "output_type": "stream",
     "text": [
      "WARNING:tensorflow:11 out of the last 11 calls to <function recreate_function.<locals>.restored_function_body at 0x7ff5c755f700> triggered tf.function retracing. Tracing is expensive and the excessive number of tracings could be due to (1) creating @tf.function repeatedly in a loop, (2) passing tensors with different shapes, (3) passing Python objects instead of tensors. For (1), please define your @tf.function outside of the loop. For (2), @tf.function has experimental_relax_shapes=True option that relaxes argument shapes that can avoid unnecessary retracing. For (3), please refer to https://www.tensorflow.org/guide/function#controlling_retracing and https://www.tensorflow.org/api_docs/python/tf/function for  more details.\n",
      "  8%|▊         | 16/200 [00:28<05:25,  1.77s/it]"
     ]
    },
    {
     "name": "stdout",
     "output_type": "stream",
     "text": [
      "WARNING:tensorflow:11 out of the last 11 calls to <function recreate_function.<locals>.restored_function_body at 0x7ff5c8037280> triggered tf.function retracing. Tracing is expensive and the excessive number of tracings could be due to (1) creating @tf.function repeatedly in a loop, (2) passing tensors with different shapes, (3) passing Python objects instead of tensors. For (1), please define your @tf.function outside of the loop. For (2), @tf.function has experimental_relax_shapes=True option that relaxes argument shapes that can avoid unnecessary retracing. For (3), please refer to https://www.tensorflow.org/guide/function#controlling_retracing and https://www.tensorflow.org/api_docs/python/tf/function for  more details.\n"
     ]
    },
    {
     "name": "stderr",
     "output_type": "stream",
     "text": [
      "WARNING:tensorflow:11 out of the last 11 calls to <function recreate_function.<locals>.restored_function_body at 0x7ff5c8037280> triggered tf.function retracing. Tracing is expensive and the excessive number of tracings could be due to (1) creating @tf.function repeatedly in a loop, (2) passing tensors with different shapes, (3) passing Python objects instead of tensors. For (1), please define your @tf.function outside of the loop. For (2), @tf.function has experimental_relax_shapes=True option that relaxes argument shapes that can avoid unnecessary retracing. For (3), please refer to https://www.tensorflow.org/guide/function#controlling_retracing and https://www.tensorflow.org/api_docs/python/tf/function for  more details.\n",
      "  8%|▊         | 17/200 [00:29<05:08,  1.69s/it]"
     ]
    },
    {
     "name": "stdout",
     "output_type": "stream",
     "text": [
      "WARNING:tensorflow:11 out of the last 11 calls to <function recreate_function.<locals>.restored_function_body at 0x7ff5e1caa3a0> triggered tf.function retracing. Tracing is expensive and the excessive number of tracings could be due to (1) creating @tf.function repeatedly in a loop, (2) passing tensors with different shapes, (3) passing Python objects instead of tensors. For (1), please define your @tf.function outside of the loop. For (2), @tf.function has experimental_relax_shapes=True option that relaxes argument shapes that can avoid unnecessary retracing. For (3), please refer to https://www.tensorflow.org/guide/function#controlling_retracing and https://www.tensorflow.org/api_docs/python/tf/function for  more details.\n"
     ]
    },
    {
     "name": "stderr",
     "output_type": "stream",
     "text": [
      "WARNING:tensorflow:11 out of the last 11 calls to <function recreate_function.<locals>.restored_function_body at 0x7ff5e1caa3a0> triggered tf.function retracing. Tracing is expensive and the excessive number of tracings could be due to (1) creating @tf.function repeatedly in a loop, (2) passing tensors with different shapes, (3) passing Python objects instead of tensors. For (1), please define your @tf.function outside of the loop. For (2), @tf.function has experimental_relax_shapes=True option that relaxes argument shapes that can avoid unnecessary retracing. For (3), please refer to https://www.tensorflow.org/guide/function#controlling_retracing and https://www.tensorflow.org/api_docs/python/tf/function for  more details.\n",
      "  9%|▉         | 18/200 [00:31<05:09,  1.70s/it]"
     ]
    },
    {
     "name": "stdout",
     "output_type": "stream",
     "text": [
      "WARNING:tensorflow:11 out of the last 11 calls to <function recreate_function.<locals>.restored_function_body at 0x7ff5c44c44c0> triggered tf.function retracing. Tracing is expensive and the excessive number of tracings could be due to (1) creating @tf.function repeatedly in a loop, (2) passing tensors with different shapes, (3) passing Python objects instead of tensors. For (1), please define your @tf.function outside of the loop. For (2), @tf.function has experimental_relax_shapes=True option that relaxes argument shapes that can avoid unnecessary retracing. For (3), please refer to https://www.tensorflow.org/guide/function#controlling_retracing and https://www.tensorflow.org/api_docs/python/tf/function for  more details.\n"
     ]
    },
    {
     "name": "stderr",
     "output_type": "stream",
     "text": [
      "WARNING:tensorflow:11 out of the last 11 calls to <function recreate_function.<locals>.restored_function_body at 0x7ff5c44c44c0> triggered tf.function retracing. Tracing is expensive and the excessive number of tracings could be due to (1) creating @tf.function repeatedly in a loop, (2) passing tensors with different shapes, (3) passing Python objects instead of tensors. For (1), please define your @tf.function outside of the loop. For (2), @tf.function has experimental_relax_shapes=True option that relaxes argument shapes that can avoid unnecessary retracing. For (3), please refer to https://www.tensorflow.org/guide/function#controlling_retracing and https://www.tensorflow.org/api_docs/python/tf/function for  more details.\n",
      " 10%|▉         | 19/200 [00:32<05:04,  1.68s/it]"
     ]
    },
    {
     "name": "stdout",
     "output_type": "stream",
     "text": [
      "WARNING:tensorflow:11 out of the last 11 calls to <function recreate_function.<locals>.restored_function_body at 0x7ff5c447d280> triggered tf.function retracing. Tracing is expensive and the excessive number of tracings could be due to (1) creating @tf.function repeatedly in a loop, (2) passing tensors with different shapes, (3) passing Python objects instead of tensors. For (1), please define your @tf.function outside of the loop. For (2), @tf.function has experimental_relax_shapes=True option that relaxes argument shapes that can avoid unnecessary retracing. For (3), please refer to https://www.tensorflow.org/guide/function#controlling_retracing and https://www.tensorflow.org/api_docs/python/tf/function for  more details.\n"
     ]
    },
    {
     "name": "stderr",
     "output_type": "stream",
     "text": [
      "WARNING:tensorflow:11 out of the last 11 calls to <function recreate_function.<locals>.restored_function_body at 0x7ff5c447d280> triggered tf.function retracing. Tracing is expensive and the excessive number of tracings could be due to (1) creating @tf.function repeatedly in a loop, (2) passing tensors with different shapes, (3) passing Python objects instead of tensors. For (1), please define your @tf.function outside of the loop. For (2), @tf.function has experimental_relax_shapes=True option that relaxes argument shapes that can avoid unnecessary retracing. For (3), please refer to https://www.tensorflow.org/guide/function#controlling_retracing and https://www.tensorflow.org/api_docs/python/tf/function for  more details.\n",
      " 10%|█         | 20/200 [00:34<04:51,  1.62s/it]"
     ]
    },
    {
     "name": "stdout",
     "output_type": "stream",
     "text": [
      "WARNING:tensorflow:11 out of the last 11 calls to <function recreate_function.<locals>.restored_function_body at 0x7ff5c548d700> triggered tf.function retracing. Tracing is expensive and the excessive number of tracings could be due to (1) creating @tf.function repeatedly in a loop, (2) passing tensors with different shapes, (3) passing Python objects instead of tensors. For (1), please define your @tf.function outside of the loop. For (2), @tf.function has experimental_relax_shapes=True option that relaxes argument shapes that can avoid unnecessary retracing. For (3), please refer to https://www.tensorflow.org/guide/function#controlling_retracing and https://www.tensorflow.org/api_docs/python/tf/function for  more details.\n"
     ]
    },
    {
     "name": "stderr",
     "output_type": "stream",
     "text": [
      "WARNING:tensorflow:11 out of the last 11 calls to <function recreate_function.<locals>.restored_function_body at 0x7ff5c548d700> triggered tf.function retracing. Tracing is expensive and the excessive number of tracings could be due to (1) creating @tf.function repeatedly in a loop, (2) passing tensors with different shapes, (3) passing Python objects instead of tensors. For (1), please define your @tf.function outside of the loop. For (2), @tf.function has experimental_relax_shapes=True option that relaxes argument shapes that can avoid unnecessary retracing. For (3), please refer to https://www.tensorflow.org/guide/function#controlling_retracing and https://www.tensorflow.org/api_docs/python/tf/function for  more details.\n",
      " 10%|█         | 21/200 [00:36<04:57,  1.66s/it]"
     ]
    },
    {
     "name": "stdout",
     "output_type": "stream",
     "text": [
      "WARNING:tensorflow:11 out of the last 11 calls to <function recreate_function.<locals>.restored_function_body at 0x7ff5c4481940> triggered tf.function retracing. Tracing is expensive and the excessive number of tracings could be due to (1) creating @tf.function repeatedly in a loop, (2) passing tensors with different shapes, (3) passing Python objects instead of tensors. For (1), please define your @tf.function outside of the loop. For (2), @tf.function has experimental_relax_shapes=True option that relaxes argument shapes that can avoid unnecessary retracing. For (3), please refer to https://www.tensorflow.org/guide/function#controlling_retracing and https://www.tensorflow.org/api_docs/python/tf/function for  more details.\n"
     ]
    },
    {
     "name": "stderr",
     "output_type": "stream",
     "text": [
      "WARNING:tensorflow:11 out of the last 11 calls to <function recreate_function.<locals>.restored_function_body at 0x7ff5c4481940> triggered tf.function retracing. Tracing is expensive and the excessive number of tracings could be due to (1) creating @tf.function repeatedly in a loop, (2) passing tensors with different shapes, (3) passing Python objects instead of tensors. For (1), please define your @tf.function outside of the loop. For (2), @tf.function has experimental_relax_shapes=True option that relaxes argument shapes that can avoid unnecessary retracing. For (3), please refer to https://www.tensorflow.org/guide/function#controlling_retracing and https://www.tensorflow.org/api_docs/python/tf/function for  more details.\n",
      " 11%|█         | 22/200 [00:37<04:55,  1.66s/it]"
     ]
    },
    {
     "name": "stdout",
     "output_type": "stream",
     "text": [
      "WARNING:tensorflow:11 out of the last 11 calls to <function recreate_function.<locals>.restored_function_body at 0x7ff5c7100280> triggered tf.function retracing. Tracing is expensive and the excessive number of tracings could be due to (1) creating @tf.function repeatedly in a loop, (2) passing tensors with different shapes, (3) passing Python objects instead of tensors. For (1), please define your @tf.function outside of the loop. For (2), @tf.function has experimental_relax_shapes=True option that relaxes argument shapes that can avoid unnecessary retracing. For (3), please refer to https://www.tensorflow.org/guide/function#controlling_retracing and https://www.tensorflow.org/api_docs/python/tf/function for  more details.\n"
     ]
    },
    {
     "name": "stderr",
     "output_type": "stream",
     "text": [
      "WARNING:tensorflow:11 out of the last 11 calls to <function recreate_function.<locals>.restored_function_body at 0x7ff5c7100280> triggered tf.function retracing. Tracing is expensive and the excessive number of tracings could be due to (1) creating @tf.function repeatedly in a loop, (2) passing tensors with different shapes, (3) passing Python objects instead of tensors. For (1), please define your @tf.function outside of the loop. For (2), @tf.function has experimental_relax_shapes=True option that relaxes argument shapes that can avoid unnecessary retracing. For (3), please refer to https://www.tensorflow.org/guide/function#controlling_retracing and https://www.tensorflow.org/api_docs/python/tf/function for  more details.\n",
      " 12%|█▏        | 23/200 [00:39<04:55,  1.67s/it]"
     ]
    },
    {
     "name": "stdout",
     "output_type": "stream",
     "text": [
      "WARNING:tensorflow:11 out of the last 11 calls to <function recreate_function.<locals>.restored_function_body at 0x7ff5c7bef160> triggered tf.function retracing. Tracing is expensive and the excessive number of tracings could be due to (1) creating @tf.function repeatedly in a loop, (2) passing tensors with different shapes, (3) passing Python objects instead of tensors. For (1), please define your @tf.function outside of the loop. For (2), @tf.function has experimental_relax_shapes=True option that relaxes argument shapes that can avoid unnecessary retracing. For (3), please refer to https://www.tensorflow.org/guide/function#controlling_retracing and https://www.tensorflow.org/api_docs/python/tf/function for  more details.\n"
     ]
    },
    {
     "name": "stderr",
     "output_type": "stream",
     "text": [
      "WARNING:tensorflow:11 out of the last 11 calls to <function recreate_function.<locals>.restored_function_body at 0x7ff5c7bef160> triggered tf.function retracing. Tracing is expensive and the excessive number of tracings could be due to (1) creating @tf.function repeatedly in a loop, (2) passing tensors with different shapes, (3) passing Python objects instead of tensors. For (1), please define your @tf.function outside of the loop. For (2), @tf.function has experimental_relax_shapes=True option that relaxes argument shapes that can avoid unnecessary retracing. For (3), please refer to https://www.tensorflow.org/guide/function#controlling_retracing and https://www.tensorflow.org/api_docs/python/tf/function for  more details.\n",
      " 12%|█▏        | 24/200 [00:41<04:43,  1.61s/it]"
     ]
    },
    {
     "name": "stdout",
     "output_type": "stream",
     "text": [
      "WARNING:tensorflow:11 out of the last 11 calls to <function recreate_function.<locals>.restored_function_body at 0x7ff5c6e3eee0> triggered tf.function retracing. Tracing is expensive and the excessive number of tracings could be due to (1) creating @tf.function repeatedly in a loop, (2) passing tensors with different shapes, (3) passing Python objects instead of tensors. For (1), please define your @tf.function outside of the loop. For (2), @tf.function has experimental_relax_shapes=True option that relaxes argument shapes that can avoid unnecessary retracing. For (3), please refer to https://www.tensorflow.org/guide/function#controlling_retracing and https://www.tensorflow.org/api_docs/python/tf/function for  more details.\n"
     ]
    },
    {
     "name": "stderr",
     "output_type": "stream",
     "text": [
      "WARNING:tensorflow:11 out of the last 11 calls to <function recreate_function.<locals>.restored_function_body at 0x7ff5c6e3eee0> triggered tf.function retracing. Tracing is expensive and the excessive number of tracings could be due to (1) creating @tf.function repeatedly in a loop, (2) passing tensors with different shapes, (3) passing Python objects instead of tensors. For (1), please define your @tf.function outside of the loop. For (2), @tf.function has experimental_relax_shapes=True option that relaxes argument shapes that can avoid unnecessary retracing. For (3), please refer to https://www.tensorflow.org/guide/function#controlling_retracing and https://www.tensorflow.org/api_docs/python/tf/function for  more details.\n",
      " 12%|█▎        | 25/200 [00:42<04:48,  1.65s/it]"
     ]
    },
    {
     "name": "stdout",
     "output_type": "stream",
     "text": [
      "WARNING:tensorflow:11 out of the last 11 calls to <function recreate_function.<locals>.restored_function_body at 0x7ff5c72154c0> triggered tf.function retracing. Tracing is expensive and the excessive number of tracings could be due to (1) creating @tf.function repeatedly in a loop, (2) passing tensors with different shapes, (3) passing Python objects instead of tensors. For (1), please define your @tf.function outside of the loop. For (2), @tf.function has experimental_relax_shapes=True option that relaxes argument shapes that can avoid unnecessary retracing. For (3), please refer to https://www.tensorflow.org/guide/function#controlling_retracing and https://www.tensorflow.org/api_docs/python/tf/function for  more details.\n"
     ]
    },
    {
     "name": "stderr",
     "output_type": "stream",
     "text": [
      "WARNING:tensorflow:11 out of the last 11 calls to <function recreate_function.<locals>.restored_function_body at 0x7ff5c72154c0> triggered tf.function retracing. Tracing is expensive and the excessive number of tracings could be due to (1) creating @tf.function repeatedly in a loop, (2) passing tensors with different shapes, (3) passing Python objects instead of tensors. For (1), please define your @tf.function outside of the loop. For (2), @tf.function has experimental_relax_shapes=True option that relaxes argument shapes that can avoid unnecessary retracing. For (3), please refer to https://www.tensorflow.org/guide/function#controlling_retracing and https://www.tensorflow.org/api_docs/python/tf/function for  more details.\n",
      " 13%|█▎        | 26/200 [00:44<04:46,  1.65s/it]"
     ]
    },
    {
     "name": "stdout",
     "output_type": "stream",
     "text": [
      "WARNING:tensorflow:11 out of the last 11 calls to <function recreate_function.<locals>.restored_function_body at 0x7ff5c8023280> triggered tf.function retracing. Tracing is expensive and the excessive number of tracings could be due to (1) creating @tf.function repeatedly in a loop, (2) passing tensors with different shapes, (3) passing Python objects instead of tensors. For (1), please define your @tf.function outside of the loop. For (2), @tf.function has experimental_relax_shapes=True option that relaxes argument shapes that can avoid unnecessary retracing. For (3), please refer to https://www.tensorflow.org/guide/function#controlling_retracing and https://www.tensorflow.org/api_docs/python/tf/function for  more details.\n"
     ]
    },
    {
     "name": "stderr",
     "output_type": "stream",
     "text": [
      "WARNING:tensorflow:11 out of the last 11 calls to <function recreate_function.<locals>.restored_function_body at 0x7ff5c8023280> triggered tf.function retracing. Tracing is expensive and the excessive number of tracings could be due to (1) creating @tf.function repeatedly in a loop, (2) passing tensors with different shapes, (3) passing Python objects instead of tensors. For (1), please define your @tf.function outside of the loop. For (2), @tf.function has experimental_relax_shapes=True option that relaxes argument shapes that can avoid unnecessary retracing. For (3), please refer to https://www.tensorflow.org/guide/function#controlling_retracing and https://www.tensorflow.org/api_docs/python/tf/function for  more details.\n",
      " 14%|█▎        | 27/200 [00:45<04:34,  1.59s/it]"
     ]
    },
    {
     "name": "stdout",
     "output_type": "stream",
     "text": [
      "WARNING:tensorflow:11 out of the last 11 calls to <function recreate_function.<locals>.restored_function_body at 0x7ff5e1e29700> triggered tf.function retracing. Tracing is expensive and the excessive number of tracings could be due to (1) creating @tf.function repeatedly in a loop, (2) passing tensors with different shapes, (3) passing Python objects instead of tensors. For (1), please define your @tf.function outside of the loop. For (2), @tf.function has experimental_relax_shapes=True option that relaxes argument shapes that can avoid unnecessary retracing. For (3), please refer to https://www.tensorflow.org/guide/function#controlling_retracing and https://www.tensorflow.org/api_docs/python/tf/function for  more details.\n"
     ]
    },
    {
     "name": "stderr",
     "output_type": "stream",
     "text": [
      "WARNING:tensorflow:11 out of the last 11 calls to <function recreate_function.<locals>.restored_function_body at 0x7ff5e1e29700> triggered tf.function retracing. Tracing is expensive and the excessive number of tracings could be due to (1) creating @tf.function repeatedly in a loop, (2) passing tensors with different shapes, (3) passing Python objects instead of tensors. For (1), please define your @tf.function outside of the loop. For (2), @tf.function has experimental_relax_shapes=True option that relaxes argument shapes that can avoid unnecessary retracing. For (3), please refer to https://www.tensorflow.org/guide/function#controlling_retracing and https://www.tensorflow.org/api_docs/python/tf/function for  more details.\n",
      " 14%|█▍        | 28/200 [00:47<04:40,  1.63s/it]"
     ]
    },
    {
     "name": "stdout",
     "output_type": "stream",
     "text": [
      "WARNING:tensorflow:11 out of the last 11 calls to <function recreate_function.<locals>.restored_function_body at 0x7ff5c6f64670> triggered tf.function retracing. Tracing is expensive and the excessive number of tracings could be due to (1) creating @tf.function repeatedly in a loop, (2) passing tensors with different shapes, (3) passing Python objects instead of tensors. For (1), please define your @tf.function outside of the loop. For (2), @tf.function has experimental_relax_shapes=True option that relaxes argument shapes that can avoid unnecessary retracing. For (3), please refer to https://www.tensorflow.org/guide/function#controlling_retracing and https://www.tensorflow.org/api_docs/python/tf/function for  more details.\n"
     ]
    },
    {
     "name": "stderr",
     "output_type": "stream",
     "text": [
      "WARNING:tensorflow:11 out of the last 11 calls to <function recreate_function.<locals>.restored_function_body at 0x7ff5c6f64670> triggered tf.function retracing. Tracing is expensive and the excessive number of tracings could be due to (1) creating @tf.function repeatedly in a loop, (2) passing tensors with different shapes, (3) passing Python objects instead of tensors. For (1), please define your @tf.function outside of the loop. For (2), @tf.function has experimental_relax_shapes=True option that relaxes argument shapes that can avoid unnecessary retracing. For (3), please refer to https://www.tensorflow.org/guide/function#controlling_retracing and https://www.tensorflow.org/api_docs/python/tf/function for  more details.\n",
      " 14%|█▍        | 29/200 [00:49<04:40,  1.64s/it]"
     ]
    },
    {
     "name": "stdout",
     "output_type": "stream",
     "text": [
      "WARNING:tensorflow:11 out of the last 11 calls to <function recreate_function.<locals>.restored_function_body at 0x7ff5c756e280> triggered tf.function retracing. Tracing is expensive and the excessive number of tracings could be due to (1) creating @tf.function repeatedly in a loop, (2) passing tensors with different shapes, (3) passing Python objects instead of tensors. For (1), please define your @tf.function outside of the loop. For (2), @tf.function has experimental_relax_shapes=True option that relaxes argument shapes that can avoid unnecessary retracing. For (3), please refer to https://www.tensorflow.org/guide/function#controlling_retracing and https://www.tensorflow.org/api_docs/python/tf/function for  more details.\n"
     ]
    },
    {
     "name": "stderr",
     "output_type": "stream",
     "text": [
      "WARNING:tensorflow:11 out of the last 11 calls to <function recreate_function.<locals>.restored_function_body at 0x7ff5c756e280> triggered tf.function retracing. Tracing is expensive and the excessive number of tracings could be due to (1) creating @tf.function repeatedly in a loop, (2) passing tensors with different shapes, (3) passing Python objects instead of tensors. For (1), please define your @tf.function outside of the loop. For (2), @tf.function has experimental_relax_shapes=True option that relaxes argument shapes that can avoid unnecessary retracing. For (3), please refer to https://www.tensorflow.org/guide/function#controlling_retracing and https://www.tensorflow.org/api_docs/python/tf/function for  more details.\n",
      " 15%|█▌        | 30/200 [00:50<04:39,  1.64s/it]"
     ]
    },
    {
     "name": "stdout",
     "output_type": "stream",
     "text": [
      "WARNING:tensorflow:11 out of the last 11 calls to <function recreate_function.<locals>.restored_function_body at 0x7ff5c6f3e160> triggered tf.function retracing. Tracing is expensive and the excessive number of tracings could be due to (1) creating @tf.function repeatedly in a loop, (2) passing tensors with different shapes, (3) passing Python objects instead of tensors. For (1), please define your @tf.function outside of the loop. For (2), @tf.function has experimental_relax_shapes=True option that relaxes argument shapes that can avoid unnecessary retracing. For (3), please refer to https://www.tensorflow.org/guide/function#controlling_retracing and https://www.tensorflow.org/api_docs/python/tf/function for  more details.\n"
     ]
    },
    {
     "name": "stderr",
     "output_type": "stream",
     "text": [
      "WARNING:tensorflow:11 out of the last 11 calls to <function recreate_function.<locals>.restored_function_body at 0x7ff5c6f3e160> triggered tf.function retracing. Tracing is expensive and the excessive number of tracings could be due to (1) creating @tf.function repeatedly in a loop, (2) passing tensors with different shapes, (3) passing Python objects instead of tensors. For (1), please define your @tf.function outside of the loop. For (2), @tf.function has experimental_relax_shapes=True option that relaxes argument shapes that can avoid unnecessary retracing. For (3), please refer to https://www.tensorflow.org/guide/function#controlling_retracing and https://www.tensorflow.org/api_docs/python/tf/function for  more details.\n",
      " 16%|█▌        | 31/200 [00:52<04:28,  1.59s/it]"
     ]
    },
    {
     "name": "stdout",
     "output_type": "stream",
     "text": [
      "WARNING:tensorflow:11 out of the last 11 calls to <function recreate_function.<locals>.restored_function_body at 0x7ff5c6591160> triggered tf.function retracing. Tracing is expensive and the excessive number of tracings could be due to (1) creating @tf.function repeatedly in a loop, (2) passing tensors with different shapes, (3) passing Python objects instead of tensors. For (1), please define your @tf.function outside of the loop. For (2), @tf.function has experimental_relax_shapes=True option that relaxes argument shapes that can avoid unnecessary retracing. For (3), please refer to https://www.tensorflow.org/guide/function#controlling_retracing and https://www.tensorflow.org/api_docs/python/tf/function for  more details.\n"
     ]
    },
    {
     "name": "stderr",
     "output_type": "stream",
     "text": [
      "WARNING:tensorflow:11 out of the last 11 calls to <function recreate_function.<locals>.restored_function_body at 0x7ff5c6591160> triggered tf.function retracing. Tracing is expensive and the excessive number of tracings could be due to (1) creating @tf.function repeatedly in a loop, (2) passing tensors with different shapes, (3) passing Python objects instead of tensors. For (1), please define your @tf.function outside of the loop. For (2), @tf.function has experimental_relax_shapes=True option that relaxes argument shapes that can avoid unnecessary retracing. For (3), please refer to https://www.tensorflow.org/guide/function#controlling_retracing and https://www.tensorflow.org/api_docs/python/tf/function for  more details.\n",
      " 16%|█▌        | 32/200 [00:54<04:34,  1.63s/it]"
     ]
    },
    {
     "name": "stdout",
     "output_type": "stream",
     "text": [
      "WARNING:tensorflow:11 out of the last 11 calls to <function recreate_function.<locals>.restored_function_body at 0x7ff5c736e940> triggered tf.function retracing. Tracing is expensive and the excessive number of tracings could be due to (1) creating @tf.function repeatedly in a loop, (2) passing tensors with different shapes, (3) passing Python objects instead of tensors. For (1), please define your @tf.function outside of the loop. For (2), @tf.function has experimental_relax_shapes=True option that relaxes argument shapes that can avoid unnecessary retracing. For (3), please refer to https://www.tensorflow.org/guide/function#controlling_retracing and https://www.tensorflow.org/api_docs/python/tf/function for  more details.\n"
     ]
    },
    {
     "name": "stderr",
     "output_type": "stream",
     "text": [
      "WARNING:tensorflow:11 out of the last 11 calls to <function recreate_function.<locals>.restored_function_body at 0x7ff5c736e940> triggered tf.function retracing. Tracing is expensive and the excessive number of tracings could be due to (1) creating @tf.function repeatedly in a loop, (2) passing tensors with different shapes, (3) passing Python objects instead of tensors. For (1), please define your @tf.function outside of the loop. For (2), @tf.function has experimental_relax_shapes=True option that relaxes argument shapes that can avoid unnecessary retracing. For (3), please refer to https://www.tensorflow.org/guide/function#controlling_retracing and https://www.tensorflow.org/api_docs/python/tf/function for  more details.\n",
      " 16%|█▋        | 33/200 [00:55<04:32,  1.63s/it]"
     ]
    },
    {
     "name": "stdout",
     "output_type": "stream",
     "text": [
      "WARNING:tensorflow:11 out of the last 11 calls to <function recreate_function.<locals>.restored_function_body at 0x7ff5c700d280> triggered tf.function retracing. Tracing is expensive and the excessive number of tracings could be due to (1) creating @tf.function repeatedly in a loop, (2) passing tensors with different shapes, (3) passing Python objects instead of tensors. For (1), please define your @tf.function outside of the loop. For (2), @tf.function has experimental_relax_shapes=True option that relaxes argument shapes that can avoid unnecessary retracing. For (3), please refer to https://www.tensorflow.org/guide/function#controlling_retracing and https://www.tensorflow.org/api_docs/python/tf/function for  more details.\n"
     ]
    },
    {
     "name": "stderr",
     "output_type": "stream",
     "text": [
      "WARNING:tensorflow:11 out of the last 11 calls to <function recreate_function.<locals>.restored_function_body at 0x7ff5c700d280> triggered tf.function retracing. Tracing is expensive and the excessive number of tracings could be due to (1) creating @tf.function repeatedly in a loop, (2) passing tensors with different shapes, (3) passing Python objects instead of tensors. For (1), please define your @tf.function outside of the loop. For (2), @tf.function has experimental_relax_shapes=True option that relaxes argument shapes that can avoid unnecessary retracing. For (3), please refer to https://www.tensorflow.org/guide/function#controlling_retracing and https://www.tensorflow.org/api_docs/python/tf/function for  more details.\n",
      " 17%|█▋        | 34/200 [00:57<04:24,  1.59s/it]"
     ]
    },
    {
     "name": "stdout",
     "output_type": "stream",
     "text": [
      "WARNING:tensorflow:11 out of the last 11 calls to <function recreate_function.<locals>.restored_function_body at 0x7ff5e1e1fa60> triggered tf.function retracing. Tracing is expensive and the excessive number of tracings could be due to (1) creating @tf.function repeatedly in a loop, (2) passing tensors with different shapes, (3) passing Python objects instead of tensors. For (1), please define your @tf.function outside of the loop. For (2), @tf.function has experimental_relax_shapes=True option that relaxes argument shapes that can avoid unnecessary retracing. For (3), please refer to https://www.tensorflow.org/guide/function#controlling_retracing and https://www.tensorflow.org/api_docs/python/tf/function for  more details.\n"
     ]
    },
    {
     "name": "stderr",
     "output_type": "stream",
     "text": [
      "WARNING:tensorflow:11 out of the last 11 calls to <function recreate_function.<locals>.restored_function_body at 0x7ff5e1e1fa60> triggered tf.function retracing. Tracing is expensive and the excessive number of tracings could be due to (1) creating @tf.function repeatedly in a loop, (2) passing tensors with different shapes, (3) passing Python objects instead of tensors. For (1), please define your @tf.function outside of the loop. For (2), @tf.function has experimental_relax_shapes=True option that relaxes argument shapes that can avoid unnecessary retracing. For (3), please refer to https://www.tensorflow.org/guide/function#controlling_retracing and https://www.tensorflow.org/api_docs/python/tf/function for  more details.\n",
      " 18%|█▊        | 35/200 [00:58<04:31,  1.65s/it]"
     ]
    },
    {
     "name": "stdout",
     "output_type": "stream",
     "text": [
      "WARNING:tensorflow:11 out of the last 11 calls to <function recreate_function.<locals>.restored_function_body at 0x7ff5c448e1f0> triggered tf.function retracing. Tracing is expensive and the excessive number of tracings could be due to (1) creating @tf.function repeatedly in a loop, (2) passing tensors with different shapes, (3) passing Python objects instead of tensors. For (1), please define your @tf.function outside of the loop. For (2), @tf.function has experimental_relax_shapes=True option that relaxes argument shapes that can avoid unnecessary retracing. For (3), please refer to https://www.tensorflow.org/guide/function#controlling_retracing and https://www.tensorflow.org/api_docs/python/tf/function for  more details.\n"
     ]
    },
    {
     "name": "stderr",
     "output_type": "stream",
     "text": [
      "WARNING:tensorflow:11 out of the last 11 calls to <function recreate_function.<locals>.restored_function_body at 0x7ff5c448e1f0> triggered tf.function retracing. Tracing is expensive and the excessive number of tracings could be due to (1) creating @tf.function repeatedly in a loop, (2) passing tensors with different shapes, (3) passing Python objects instead of tensors. For (1), please define your @tf.function outside of the loop. For (2), @tf.function has experimental_relax_shapes=True option that relaxes argument shapes that can avoid unnecessary retracing. For (3), please refer to https://www.tensorflow.org/guide/function#controlling_retracing and https://www.tensorflow.org/api_docs/python/tf/function for  more details.\n",
      " 18%|█▊        | 36/200 [01:00<04:30,  1.65s/it]"
     ]
    },
    {
     "name": "stdout",
     "output_type": "stream",
     "text": [
      "WARNING:tensorflow:11 out of the last 11 calls to <function recreate_function.<locals>.restored_function_body at 0x7ff5c722b280> triggered tf.function retracing. Tracing is expensive and the excessive number of tracings could be due to (1) creating @tf.function repeatedly in a loop, (2) passing tensors with different shapes, (3) passing Python objects instead of tensors. For (1), please define your @tf.function outside of the loop. For (2), @tf.function has experimental_relax_shapes=True option that relaxes argument shapes that can avoid unnecessary retracing. For (3), please refer to https://www.tensorflow.org/guide/function#controlling_retracing and https://www.tensorflow.org/api_docs/python/tf/function for  more details.\n"
     ]
    },
    {
     "name": "stderr",
     "output_type": "stream",
     "text": [
      "WARNING:tensorflow:11 out of the last 11 calls to <function recreate_function.<locals>.restored_function_body at 0x7ff5c722b280> triggered tf.function retracing. Tracing is expensive and the excessive number of tracings could be due to (1) creating @tf.function repeatedly in a loop, (2) passing tensors with different shapes, (3) passing Python objects instead of tensors. For (1), please define your @tf.function outside of the loop. For (2), @tf.function has experimental_relax_shapes=True option that relaxes argument shapes that can avoid unnecessary retracing. For (3), please refer to https://www.tensorflow.org/guide/function#controlling_retracing and https://www.tensorflow.org/api_docs/python/tf/function for  more details.\n",
      " 18%|█▊        | 37/200 [01:02<04:21,  1.60s/it]"
     ]
    },
    {
     "name": "stdout",
     "output_type": "stream",
     "text": [
      "WARNING:tensorflow:11 out of the last 11 calls to <function recreate_function.<locals>.restored_function_body at 0x7ff5c716c700> triggered tf.function retracing. Tracing is expensive and the excessive number of tracings could be due to (1) creating @tf.function repeatedly in a loop, (2) passing tensors with different shapes, (3) passing Python objects instead of tensors. For (1), please define your @tf.function outside of the loop. For (2), @tf.function has experimental_relax_shapes=True option that relaxes argument shapes that can avoid unnecessary retracing. For (3), please refer to https://www.tensorflow.org/guide/function#controlling_retracing and https://www.tensorflow.org/api_docs/python/tf/function for  more details.\n"
     ]
    },
    {
     "name": "stderr",
     "output_type": "stream",
     "text": [
      "WARNING:tensorflow:11 out of the last 11 calls to <function recreate_function.<locals>.restored_function_body at 0x7ff5c716c700> triggered tf.function retracing. Tracing is expensive and the excessive number of tracings could be due to (1) creating @tf.function repeatedly in a loop, (2) passing tensors with different shapes, (3) passing Python objects instead of tensors. For (1), please define your @tf.function outside of the loop. For (2), @tf.function has experimental_relax_shapes=True option that relaxes argument shapes that can avoid unnecessary retracing. For (3), please refer to https://www.tensorflow.org/guide/function#controlling_retracing and https://www.tensorflow.org/api_docs/python/tf/function for  more details.\n",
      " 19%|█▉        | 38/200 [01:03<04:27,  1.65s/it]"
     ]
    },
    {
     "name": "stdout",
     "output_type": "stream",
     "text": [
      "WARNING:tensorflow:11 out of the last 11 calls to <function recreate_function.<locals>.restored_function_body at 0x7ff5c64c73a0> triggered tf.function retracing. Tracing is expensive and the excessive number of tracings could be due to (1) creating @tf.function repeatedly in a loop, (2) passing tensors with different shapes, (3) passing Python objects instead of tensors. For (1), please define your @tf.function outside of the loop. For (2), @tf.function has experimental_relax_shapes=True option that relaxes argument shapes that can avoid unnecessary retracing. For (3), please refer to https://www.tensorflow.org/guide/function#controlling_retracing and https://www.tensorflow.org/api_docs/python/tf/function for  more details.\n"
     ]
    },
    {
     "name": "stderr",
     "output_type": "stream",
     "text": [
      "WARNING:tensorflow:11 out of the last 11 calls to <function recreate_function.<locals>.restored_function_body at 0x7ff5c64c73a0> triggered tf.function retracing. Tracing is expensive and the excessive number of tracings could be due to (1) creating @tf.function repeatedly in a loop, (2) passing tensors with different shapes, (3) passing Python objects instead of tensors. For (1), please define your @tf.function outside of the loop. For (2), @tf.function has experimental_relax_shapes=True option that relaxes argument shapes that can avoid unnecessary retracing. For (3), please refer to https://www.tensorflow.org/guide/function#controlling_retracing and https://www.tensorflow.org/api_docs/python/tf/function for  more details.\n",
      " 20%|█▉        | 39/200 [01:05<04:26,  1.66s/it]"
     ]
    },
    {
     "name": "stdout",
     "output_type": "stream",
     "text": [
      "WARNING:tensorflow:11 out of the last 11 calls to <function recreate_function.<locals>.restored_function_body at 0x7ff5c7581280> triggered tf.function retracing. Tracing is expensive and the excessive number of tracings could be due to (1) creating @tf.function repeatedly in a loop, (2) passing tensors with different shapes, (3) passing Python objects instead of tensors. For (1), please define your @tf.function outside of the loop. For (2), @tf.function has experimental_relax_shapes=True option that relaxes argument shapes that can avoid unnecessary retracing. For (3), please refer to https://www.tensorflow.org/guide/function#controlling_retracing and https://www.tensorflow.org/api_docs/python/tf/function for  more details.\n"
     ]
    },
    {
     "name": "stderr",
     "output_type": "stream",
     "text": [
      "WARNING:tensorflow:11 out of the last 11 calls to <function recreate_function.<locals>.restored_function_body at 0x7ff5c7581280> triggered tf.function retracing. Tracing is expensive and the excessive number of tracings could be due to (1) creating @tf.function repeatedly in a loop, (2) passing tensors with different shapes, (3) passing Python objects instead of tensors. For (1), please define your @tf.function outside of the loop. For (2), @tf.function has experimental_relax_shapes=True option that relaxes argument shapes that can avoid unnecessary retracing. For (3), please refer to https://www.tensorflow.org/guide/function#controlling_retracing and https://www.tensorflow.org/api_docs/python/tf/function for  more details.\n",
      " 20%|██        | 40/200 [01:07<04:26,  1.66s/it]"
     ]
    },
    {
     "name": "stdout",
     "output_type": "stream",
     "text": [
      "WARNING:tensorflow:11 out of the last 11 calls to <function recreate_function.<locals>.restored_function_body at 0x7ff5c8ab6160> triggered tf.function retracing. Tracing is expensive and the excessive number of tracings could be due to (1) creating @tf.function repeatedly in a loop, (2) passing tensors with different shapes, (3) passing Python objects instead of tensors. For (1), please define your @tf.function outside of the loop. For (2), @tf.function has experimental_relax_shapes=True option that relaxes argument shapes that can avoid unnecessary retracing. For (3), please refer to https://www.tensorflow.org/guide/function#controlling_retracing and https://www.tensorflow.org/api_docs/python/tf/function for  more details.\n"
     ]
    },
    {
     "name": "stderr",
     "output_type": "stream",
     "text": [
      "WARNING:tensorflow:11 out of the last 11 calls to <function recreate_function.<locals>.restored_function_body at 0x7ff5c8ab6160> triggered tf.function retracing. Tracing is expensive and the excessive number of tracings could be due to (1) creating @tf.function repeatedly in a loop, (2) passing tensors with different shapes, (3) passing Python objects instead of tensors. For (1), please define your @tf.function outside of the loop. For (2), @tf.function has experimental_relax_shapes=True option that relaxes argument shapes that can avoid unnecessary retracing. For (3), please refer to https://www.tensorflow.org/guide/function#controlling_retracing and https://www.tensorflow.org/api_docs/python/tf/function for  more details.\n",
      " 20%|██        | 41/200 [01:08<04:16,  1.61s/it]"
     ]
    },
    {
     "name": "stdout",
     "output_type": "stream",
     "text": [
      "WARNING:tensorflow:11 out of the last 11 calls to <function recreate_function.<locals>.restored_function_body at 0x7ff5c8ab68b0> triggered tf.function retracing. Tracing is expensive and the excessive number of tracings could be due to (1) creating @tf.function repeatedly in a loop, (2) passing tensors with different shapes, (3) passing Python objects instead of tensors. For (1), please define your @tf.function outside of the loop. For (2), @tf.function has experimental_relax_shapes=True option that relaxes argument shapes that can avoid unnecessary retracing. For (3), please refer to https://www.tensorflow.org/guide/function#controlling_retracing and https://www.tensorflow.org/api_docs/python/tf/function for  more details.\n"
     ]
    },
    {
     "name": "stderr",
     "output_type": "stream",
     "text": [
      "WARNING:tensorflow:11 out of the last 11 calls to <function recreate_function.<locals>.restored_function_body at 0x7ff5c8ab68b0> triggered tf.function retracing. Tracing is expensive and the excessive number of tracings could be due to (1) creating @tf.function repeatedly in a loop, (2) passing tensors with different shapes, (3) passing Python objects instead of tensors. For (1), please define your @tf.function outside of the loop. For (2), @tf.function has experimental_relax_shapes=True option that relaxes argument shapes that can avoid unnecessary retracing. For (3), please refer to https://www.tensorflow.org/guide/function#controlling_retracing and https://www.tensorflow.org/api_docs/python/tf/function for  more details.\n",
      " 21%|██        | 42/200 [01:10<04:22,  1.66s/it]"
     ]
    },
    {
     "name": "stdout",
     "output_type": "stream",
     "text": [
      "WARNING:tensorflow:11 out of the last 11 calls to <function recreate_function.<locals>.restored_function_body at 0x7ff5e398ed30> triggered tf.function retracing. Tracing is expensive and the excessive number of tracings could be due to (1) creating @tf.function repeatedly in a loop, (2) passing tensors with different shapes, (3) passing Python objects instead of tensors. For (1), please define your @tf.function outside of the loop. For (2), @tf.function has experimental_relax_shapes=True option that relaxes argument shapes that can avoid unnecessary retracing. For (3), please refer to https://www.tensorflow.org/guide/function#controlling_retracing and https://www.tensorflow.org/api_docs/python/tf/function for  more details.\n"
     ]
    },
    {
     "name": "stderr",
     "output_type": "stream",
     "text": [
      "WARNING:tensorflow:11 out of the last 11 calls to <function recreate_function.<locals>.restored_function_body at 0x7ff5e398ed30> triggered tf.function retracing. Tracing is expensive and the excessive number of tracings could be due to (1) creating @tf.function repeatedly in a loop, (2) passing tensors with different shapes, (3) passing Python objects instead of tensors. For (1), please define your @tf.function outside of the loop. For (2), @tf.function has experimental_relax_shapes=True option that relaxes argument shapes that can avoid unnecessary retracing. For (3), please refer to https://www.tensorflow.org/guide/function#controlling_retracing and https://www.tensorflow.org/api_docs/python/tf/function for  more details.\n",
      " 22%|██▏       | 43/200 [01:12<04:18,  1.65s/it]"
     ]
    },
    {
     "name": "stdout",
     "output_type": "stream",
     "text": [
      "WARNING:tensorflow:11 out of the last 11 calls to <function recreate_function.<locals>.restored_function_body at 0x7ff5c7123280> triggered tf.function retracing. Tracing is expensive and the excessive number of tracings could be due to (1) creating @tf.function repeatedly in a loop, (2) passing tensors with different shapes, (3) passing Python objects instead of tensors. For (1), please define your @tf.function outside of the loop. For (2), @tf.function has experimental_relax_shapes=True option that relaxes argument shapes that can avoid unnecessary retracing. For (3), please refer to https://www.tensorflow.org/guide/function#controlling_retracing and https://www.tensorflow.org/api_docs/python/tf/function for  more details.\n"
     ]
    },
    {
     "name": "stderr",
     "output_type": "stream",
     "text": [
      "WARNING:tensorflow:11 out of the last 11 calls to <function recreate_function.<locals>.restored_function_body at 0x7ff5c7123280> triggered tf.function retracing. Tracing is expensive and the excessive number of tracings could be due to (1) creating @tf.function repeatedly in a loop, (2) passing tensors with different shapes, (3) passing Python objects instead of tensors. For (1), please define your @tf.function outside of the loop. For (2), @tf.function has experimental_relax_shapes=True option that relaxes argument shapes that can avoid unnecessary retracing. For (3), please refer to https://www.tensorflow.org/guide/function#controlling_retracing and https://www.tensorflow.org/api_docs/python/tf/function for  more details.\n",
      " 22%|██▏       | 44/200 [01:13<04:09,  1.60s/it]"
     ]
    },
    {
     "name": "stdout",
     "output_type": "stream",
     "text": [
      "WARNING:tensorflow:11 out of the last 11 calls to <function recreate_function.<locals>.restored_function_body at 0x7ff5c6552700> triggered tf.function retracing. Tracing is expensive and the excessive number of tracings could be due to (1) creating @tf.function repeatedly in a loop, (2) passing tensors with different shapes, (3) passing Python objects instead of tensors. For (1), please define your @tf.function outside of the loop. For (2), @tf.function has experimental_relax_shapes=True option that relaxes argument shapes that can avoid unnecessary retracing. For (3), please refer to https://www.tensorflow.org/guide/function#controlling_retracing and https://www.tensorflow.org/api_docs/python/tf/function for  more details.\n"
     ]
    },
    {
     "name": "stderr",
     "output_type": "stream",
     "text": [
      "WARNING:tensorflow:11 out of the last 11 calls to <function recreate_function.<locals>.restored_function_body at 0x7ff5c6552700> triggered tf.function retracing. Tracing is expensive and the excessive number of tracings could be due to (1) creating @tf.function repeatedly in a loop, (2) passing tensors with different shapes, (3) passing Python objects instead of tensors. For (1), please define your @tf.function outside of the loop. For (2), @tf.function has experimental_relax_shapes=True option that relaxes argument shapes that can avoid unnecessary retracing. For (3), please refer to https://www.tensorflow.org/guide/function#controlling_retracing and https://www.tensorflow.org/api_docs/python/tf/function for  more details.\n",
      " 22%|██▎       | 45/200 [01:15<04:14,  1.64s/it]"
     ]
    },
    {
     "name": "stdout",
     "output_type": "stream",
     "text": [
      "WARNING:tensorflow:11 out of the last 11 calls to <function recreate_function.<locals>.restored_function_body at 0x7ff5c80213a0> triggered tf.function retracing. Tracing is expensive and the excessive number of tracings could be due to (1) creating @tf.function repeatedly in a loop, (2) passing tensors with different shapes, (3) passing Python objects instead of tensors. For (1), please define your @tf.function outside of the loop. For (2), @tf.function has experimental_relax_shapes=True option that relaxes argument shapes that can avoid unnecessary retracing. For (3), please refer to https://www.tensorflow.org/guide/function#controlling_retracing and https://www.tensorflow.org/api_docs/python/tf/function for  more details.\n"
     ]
    },
    {
     "name": "stderr",
     "output_type": "stream",
     "text": [
      "WARNING:tensorflow:11 out of the last 11 calls to <function recreate_function.<locals>.restored_function_body at 0x7ff5c80213a0> triggered tf.function retracing. Tracing is expensive and the excessive number of tracings could be due to (1) creating @tf.function repeatedly in a loop, (2) passing tensors with different shapes, (3) passing Python objects instead of tensors. For (1), please define your @tf.function outside of the loop. For (2), @tf.function has experimental_relax_shapes=True option that relaxes argument shapes that can avoid unnecessary retracing. For (3), please refer to https://www.tensorflow.org/guide/function#controlling_retracing and https://www.tensorflow.org/api_docs/python/tf/function for  more details.\n",
      " 23%|██▎       | 46/200 [01:16<04:11,  1.63s/it]"
     ]
    },
    {
     "name": "stdout",
     "output_type": "stream",
     "text": [
      "WARNING:tensorflow:11 out of the last 11 calls to <function recreate_function.<locals>.restored_function_body at 0x7ff5c54ae280> triggered tf.function retracing. Tracing is expensive and the excessive number of tracings could be due to (1) creating @tf.function repeatedly in a loop, (2) passing tensors with different shapes, (3) passing Python objects instead of tensors. For (1), please define your @tf.function outside of the loop. For (2), @tf.function has experimental_relax_shapes=True option that relaxes argument shapes that can avoid unnecessary retracing. For (3), please refer to https://www.tensorflow.org/guide/function#controlling_retracing and https://www.tensorflow.org/api_docs/python/tf/function for  more details.\n"
     ]
    },
    {
     "name": "stderr",
     "output_type": "stream",
     "text": [
      "WARNING:tensorflow:11 out of the last 11 calls to <function recreate_function.<locals>.restored_function_body at 0x7ff5c54ae280> triggered tf.function retracing. Tracing is expensive and the excessive number of tracings could be due to (1) creating @tf.function repeatedly in a loop, (2) passing tensors with different shapes, (3) passing Python objects instead of tensors. For (1), please define your @tf.function outside of the loop. For (2), @tf.function has experimental_relax_shapes=True option that relaxes argument shapes that can avoid unnecessary retracing. For (3), please refer to https://www.tensorflow.org/guide/function#controlling_retracing and https://www.tensorflow.org/api_docs/python/tf/function for  more details.\n",
      " 24%|██▎       | 47/200 [01:18<04:12,  1.65s/it]"
     ]
    },
    {
     "name": "stdout",
     "output_type": "stream",
     "text": [
      "WARNING:tensorflow:11 out of the last 11 calls to <function recreate_function.<locals>.restored_function_body at 0x7ff5c7148160> triggered tf.function retracing. Tracing is expensive and the excessive number of tracings could be due to (1) creating @tf.function repeatedly in a loop, (2) passing tensors with different shapes, (3) passing Python objects instead of tensors. For (1), please define your @tf.function outside of the loop. For (2), @tf.function has experimental_relax_shapes=True option that relaxes argument shapes that can avoid unnecessary retracing. For (3), please refer to https://www.tensorflow.org/guide/function#controlling_retracing and https://www.tensorflow.org/api_docs/python/tf/function for  more details.\n"
     ]
    },
    {
     "name": "stderr",
     "output_type": "stream",
     "text": [
      "WARNING:tensorflow:11 out of the last 11 calls to <function recreate_function.<locals>.restored_function_body at 0x7ff5c7148160> triggered tf.function retracing. Tracing is expensive and the excessive number of tracings could be due to (1) creating @tf.function repeatedly in a loop, (2) passing tensors with different shapes, (3) passing Python objects instead of tensors. For (1), please define your @tf.function outside of the loop. For (2), @tf.function has experimental_relax_shapes=True option that relaxes argument shapes that can avoid unnecessary retracing. For (3), please refer to https://www.tensorflow.org/guide/function#controlling_retracing and https://www.tensorflow.org/api_docs/python/tf/function for  more details.\n",
      " 24%|██▍       | 48/200 [01:20<04:03,  1.60s/it]"
     ]
    },
    {
     "name": "stdout",
     "output_type": "stream",
     "text": [
      "WARNING:tensorflow:11 out of the last 11 calls to <function recreate_function.<locals>.restored_function_body at 0x7ff5e362e040> triggered tf.function retracing. Tracing is expensive and the excessive number of tracings could be due to (1) creating @tf.function repeatedly in a loop, (2) passing tensors with different shapes, (3) passing Python objects instead of tensors. For (1), please define your @tf.function outside of the loop. For (2), @tf.function has experimental_relax_shapes=True option that relaxes argument shapes that can avoid unnecessary retracing. For (3), please refer to https://www.tensorflow.org/guide/function#controlling_retracing and https://www.tensorflow.org/api_docs/python/tf/function for  more details.\n"
     ]
    },
    {
     "name": "stderr",
     "output_type": "stream",
     "text": [
      "WARNING:tensorflow:11 out of the last 11 calls to <function recreate_function.<locals>.restored_function_body at 0x7ff5e362e040> triggered tf.function retracing. Tracing is expensive and the excessive number of tracings could be due to (1) creating @tf.function repeatedly in a loop, (2) passing tensors with different shapes, (3) passing Python objects instead of tensors. For (1), please define your @tf.function outside of the loop. For (2), @tf.function has experimental_relax_shapes=True option that relaxes argument shapes that can avoid unnecessary retracing. For (3), please refer to https://www.tensorflow.org/guide/function#controlling_retracing and https://www.tensorflow.org/api_docs/python/tf/function for  more details.\n",
      " 24%|██▍       | 49/200 [01:21<04:08,  1.64s/it]"
     ]
    },
    {
     "name": "stdout",
     "output_type": "stream",
     "text": [
      "WARNING:tensorflow:11 out of the last 11 calls to <function recreate_function.<locals>.restored_function_body at 0x7ff5c4481670> triggered tf.function retracing. Tracing is expensive and the excessive number of tracings could be due to (1) creating @tf.function repeatedly in a loop, (2) passing tensors with different shapes, (3) passing Python objects instead of tensors. For (1), please define your @tf.function outside of the loop. For (2), @tf.function has experimental_relax_shapes=True option that relaxes argument shapes that can avoid unnecessary retracing. For (3), please refer to https://www.tensorflow.org/guide/function#controlling_retracing and https://www.tensorflow.org/api_docs/python/tf/function for  more details.\n"
     ]
    },
    {
     "name": "stderr",
     "output_type": "stream",
     "text": [
      "WARNING:tensorflow:11 out of the last 11 calls to <function recreate_function.<locals>.restored_function_body at 0x7ff5c4481670> triggered tf.function retracing. Tracing is expensive and the excessive number of tracings could be due to (1) creating @tf.function repeatedly in a loop, (2) passing tensors with different shapes, (3) passing Python objects instead of tensors. For (1), please define your @tf.function outside of the loop. For (2), @tf.function has experimental_relax_shapes=True option that relaxes argument shapes that can avoid unnecessary retracing. For (3), please refer to https://www.tensorflow.org/guide/function#controlling_retracing and https://www.tensorflow.org/api_docs/python/tf/function for  more details.\n",
      " 25%|██▌       | 50/200 [01:23<04:06,  1.64s/it]"
     ]
    },
    {
     "name": "stdout",
     "output_type": "stream",
     "text": [
      "WARNING:tensorflow:11 out of the last 11 calls to <function recreate_function.<locals>.restored_function_body at 0x7ff5c7373280> triggered tf.function retracing. Tracing is expensive and the excessive number of tracings could be due to (1) creating @tf.function repeatedly in a loop, (2) passing tensors with different shapes, (3) passing Python objects instead of tensors. For (1), please define your @tf.function outside of the loop. For (2), @tf.function has experimental_relax_shapes=True option that relaxes argument shapes that can avoid unnecessary retracing. For (3), please refer to https://www.tensorflow.org/guide/function#controlling_retracing and https://www.tensorflow.org/api_docs/python/tf/function for  more details.\n"
     ]
    },
    {
     "name": "stderr",
     "output_type": "stream",
     "text": [
      "WARNING:tensorflow:11 out of the last 11 calls to <function recreate_function.<locals>.restored_function_body at 0x7ff5c7373280> triggered tf.function retracing. Tracing is expensive and the excessive number of tracings could be due to (1) creating @tf.function repeatedly in a loop, (2) passing tensors with different shapes, (3) passing Python objects instead of tensors. For (1), please define your @tf.function outside of the loop. For (2), @tf.function has experimental_relax_shapes=True option that relaxes argument shapes that can avoid unnecessary retracing. For (3), please refer to https://www.tensorflow.org/guide/function#controlling_retracing and https://www.tensorflow.org/api_docs/python/tf/function for  more details.\n",
      " 26%|██▌       | 51/200 [01:24<03:56,  1.59s/it]"
     ]
    },
    {
     "name": "stdout",
     "output_type": "stream",
     "text": [
      "WARNING:tensorflow:11 out of the last 11 calls to <function recreate_function.<locals>.restored_function_body at 0x7ff5c7175700> triggered tf.function retracing. Tracing is expensive and the excessive number of tracings could be due to (1) creating @tf.function repeatedly in a loop, (2) passing tensors with different shapes, (3) passing Python objects instead of tensors. For (1), please define your @tf.function outside of the loop. For (2), @tf.function has experimental_relax_shapes=True option that relaxes argument shapes that can avoid unnecessary retracing. For (3), please refer to https://www.tensorflow.org/guide/function#controlling_retracing and https://www.tensorflow.org/api_docs/python/tf/function for  more details.\n"
     ]
    },
    {
     "name": "stderr",
     "output_type": "stream",
     "text": [
      "WARNING:tensorflow:11 out of the last 11 calls to <function recreate_function.<locals>.restored_function_body at 0x7ff5c7175700> triggered tf.function retracing. Tracing is expensive and the excessive number of tracings could be due to (1) creating @tf.function repeatedly in a loop, (2) passing tensors with different shapes, (3) passing Python objects instead of tensors. For (1), please define your @tf.function outside of the loop. For (2), @tf.function has experimental_relax_shapes=True option that relaxes argument shapes that can avoid unnecessary retracing. For (3), please refer to https://www.tensorflow.org/guide/function#controlling_retracing and https://www.tensorflow.org/api_docs/python/tf/function for  more details.\n",
      " 26%|██▌       | 52/200 [01:26<04:04,  1.65s/it]"
     ]
    },
    {
     "name": "stdout",
     "output_type": "stream",
     "text": [
      "WARNING:tensorflow:11 out of the last 11 calls to <function recreate_function.<locals>.restored_function_body at 0x7ff5c74cf4c0> triggered tf.function retracing. Tracing is expensive and the excessive number of tracings could be due to (1) creating @tf.function repeatedly in a loop, (2) passing tensors with different shapes, (3) passing Python objects instead of tensors. For (1), please define your @tf.function outside of the loop. For (2), @tf.function has experimental_relax_shapes=True option that relaxes argument shapes that can avoid unnecessary retracing. For (3), please refer to https://www.tensorflow.org/guide/function#controlling_retracing and https://www.tensorflow.org/api_docs/python/tf/function for  more details.\n"
     ]
    },
    {
     "name": "stderr",
     "output_type": "stream",
     "text": [
      "WARNING:tensorflow:11 out of the last 11 calls to <function recreate_function.<locals>.restored_function_body at 0x7ff5c74cf4c0> triggered tf.function retracing. Tracing is expensive and the excessive number of tracings could be due to (1) creating @tf.function repeatedly in a loop, (2) passing tensors with different shapes, (3) passing Python objects instead of tensors. For (1), please define your @tf.function outside of the loop. For (2), @tf.function has experimental_relax_shapes=True option that relaxes argument shapes that can avoid unnecessary retracing. For (3), please refer to https://www.tensorflow.org/guide/function#controlling_retracing and https://www.tensorflow.org/api_docs/python/tf/function for  more details.\n",
      " 26%|██▋       | 53/200 [01:28<04:03,  1.66s/it]"
     ]
    },
    {
     "name": "stdout",
     "output_type": "stream",
     "text": [
      "WARNING:tensorflow:11 out of the last 11 calls to <function recreate_function.<locals>.restored_function_body at 0x7ff5c9a8a280> triggered tf.function retracing. Tracing is expensive and the excessive number of tracings could be due to (1) creating @tf.function repeatedly in a loop, (2) passing tensors with different shapes, (3) passing Python objects instead of tensors. For (1), please define your @tf.function outside of the loop. For (2), @tf.function has experimental_relax_shapes=True option that relaxes argument shapes that can avoid unnecessary retracing. For (3), please refer to https://www.tensorflow.org/guide/function#controlling_retracing and https://www.tensorflow.org/api_docs/python/tf/function for  more details.\n"
     ]
    },
    {
     "name": "stderr",
     "output_type": "stream",
     "text": [
      "WARNING:tensorflow:11 out of the last 11 calls to <function recreate_function.<locals>.restored_function_body at 0x7ff5c9a8a280> triggered tf.function retracing. Tracing is expensive and the excessive number of tracings could be due to (1) creating @tf.function repeatedly in a loop, (2) passing tensors with different shapes, (3) passing Python objects instead of tensors. For (1), please define your @tf.function outside of the loop. For (2), @tf.function has experimental_relax_shapes=True option that relaxes argument shapes that can avoid unnecessary retracing. For (3), please refer to https://www.tensorflow.org/guide/function#controlling_retracing and https://www.tensorflow.org/api_docs/python/tf/function for  more details.\n",
      " 27%|██▋       | 54/200 [01:30<04:01,  1.65s/it]"
     ]
    },
    {
     "name": "stdout",
     "output_type": "stream",
     "text": [
      "WARNING:tensorflow:11 out of the last 11 calls to <function recreate_function.<locals>.restored_function_body at 0x7ff5e39dc160> triggered tf.function retracing. Tracing is expensive and the excessive number of tracings could be due to (1) creating @tf.function repeatedly in a loop, (2) passing tensors with different shapes, (3) passing Python objects instead of tensors. For (1), please define your @tf.function outside of the loop. For (2), @tf.function has experimental_relax_shapes=True option that relaxes argument shapes that can avoid unnecessary retracing. For (3), please refer to https://www.tensorflow.org/guide/function#controlling_retracing and https://www.tensorflow.org/api_docs/python/tf/function for  more details.\n"
     ]
    },
    {
     "name": "stderr",
     "output_type": "stream",
     "text": [
      "WARNING:tensorflow:11 out of the last 11 calls to <function recreate_function.<locals>.restored_function_body at 0x7ff5e39dc160> triggered tf.function retracing. Tracing is expensive and the excessive number of tracings could be due to (1) creating @tf.function repeatedly in a loop, (2) passing tensors with different shapes, (3) passing Python objects instead of tensors. For (1), please define your @tf.function outside of the loop. For (2), @tf.function has experimental_relax_shapes=True option that relaxes argument shapes that can avoid unnecessary retracing. For (3), please refer to https://www.tensorflow.org/guide/function#controlling_retracing and https://www.tensorflow.org/api_docs/python/tf/function for  more details.\n",
      " 28%|██▊       | 55/200 [01:31<03:52,  1.60s/it]"
     ]
    },
    {
     "name": "stdout",
     "output_type": "stream",
     "text": [
      "WARNING:tensorflow:11 out of the last 11 calls to <function recreate_function.<locals>.restored_function_body at 0x7ff5c808de50> triggered tf.function retracing. Tracing is expensive and the excessive number of tracings could be due to (1) creating @tf.function repeatedly in a loop, (2) passing tensors with different shapes, (3) passing Python objects instead of tensors. For (1), please define your @tf.function outside of the loop. For (2), @tf.function has experimental_relax_shapes=True option that relaxes argument shapes that can avoid unnecessary retracing. For (3), please refer to https://www.tensorflow.org/guide/function#controlling_retracing and https://www.tensorflow.org/api_docs/python/tf/function for  more details.\n"
     ]
    },
    {
     "name": "stderr",
     "output_type": "stream",
     "text": [
      "WARNING:tensorflow:11 out of the last 11 calls to <function recreate_function.<locals>.restored_function_body at 0x7ff5c808de50> triggered tf.function retracing. Tracing is expensive and the excessive number of tracings could be due to (1) creating @tf.function repeatedly in a loop, (2) passing tensors with different shapes, (3) passing Python objects instead of tensors. For (1), please define your @tf.function outside of the loop. For (2), @tf.function has experimental_relax_shapes=True option that relaxes argument shapes that can avoid unnecessary retracing. For (3), please refer to https://www.tensorflow.org/guide/function#controlling_retracing and https://www.tensorflow.org/api_docs/python/tf/function for  more details.\n",
      " 28%|██▊       | 56/200 [01:33<03:55,  1.64s/it]"
     ]
    },
    {
     "name": "stdout",
     "output_type": "stream",
     "text": [
      "WARNING:tensorflow:11 out of the last 11 calls to <function recreate_function.<locals>.restored_function_body at 0x7ff5c44360d0> triggered tf.function retracing. Tracing is expensive and the excessive number of tracings could be due to (1) creating @tf.function repeatedly in a loop, (2) passing tensors with different shapes, (3) passing Python objects instead of tensors. For (1), please define your @tf.function outside of the loop. For (2), @tf.function has experimental_relax_shapes=True option that relaxes argument shapes that can avoid unnecessary retracing. For (3), please refer to https://www.tensorflow.org/guide/function#controlling_retracing and https://www.tensorflow.org/api_docs/python/tf/function for  more details.\n"
     ]
    },
    {
     "name": "stderr",
     "output_type": "stream",
     "text": [
      "WARNING:tensorflow:11 out of the last 11 calls to <function recreate_function.<locals>.restored_function_body at 0x7ff5c44360d0> triggered tf.function retracing. Tracing is expensive and the excessive number of tracings could be due to (1) creating @tf.function repeatedly in a loop, (2) passing tensors with different shapes, (3) passing Python objects instead of tensors. For (1), please define your @tf.function outside of the loop. For (2), @tf.function has experimental_relax_shapes=True option that relaxes argument shapes that can avoid unnecessary retracing. For (3), please refer to https://www.tensorflow.org/guide/function#controlling_retracing and https://www.tensorflow.org/api_docs/python/tf/function for  more details.\n",
      " 28%|██▊       | 57/200 [01:34<03:53,  1.63s/it]"
     ]
    },
    {
     "name": "stdout",
     "output_type": "stream",
     "text": [
      "WARNING:tensorflow:11 out of the last 11 calls to <function recreate_function.<locals>.restored_function_body at 0x7ff5c7207280> triggered tf.function retracing. Tracing is expensive and the excessive number of tracings could be due to (1) creating @tf.function repeatedly in a loop, (2) passing tensors with different shapes, (3) passing Python objects instead of tensors. For (1), please define your @tf.function outside of the loop. For (2), @tf.function has experimental_relax_shapes=True option that relaxes argument shapes that can avoid unnecessary retracing. For (3), please refer to https://www.tensorflow.org/guide/function#controlling_retracing and https://www.tensorflow.org/api_docs/python/tf/function for  more details.\n"
     ]
    },
    {
     "name": "stderr",
     "output_type": "stream",
     "text": [
      "WARNING:tensorflow:11 out of the last 11 calls to <function recreate_function.<locals>.restored_function_body at 0x7ff5c7207280> triggered tf.function retracing. Tracing is expensive and the excessive number of tracings could be due to (1) creating @tf.function repeatedly in a loop, (2) passing tensors with different shapes, (3) passing Python objects instead of tensors. For (1), please define your @tf.function outside of the loop. For (2), @tf.function has experimental_relax_shapes=True option that relaxes argument shapes that can avoid unnecessary retracing. For (3), please refer to https://www.tensorflow.org/guide/function#controlling_retracing and https://www.tensorflow.org/api_docs/python/tf/function for  more details.\n",
      " 29%|██▉       | 58/200 [01:36<03:45,  1.59s/it]"
     ]
    },
    {
     "name": "stdout",
     "output_type": "stream",
     "text": [
      "WARNING:tensorflow:11 out of the last 11 calls to <function recreate_function.<locals>.restored_function_body at 0x7ff5e3625700> triggered tf.function retracing. Tracing is expensive and the excessive number of tracings could be due to (1) creating @tf.function repeatedly in a loop, (2) passing tensors with different shapes, (3) passing Python objects instead of tensors. For (1), please define your @tf.function outside of the loop. For (2), @tf.function has experimental_relax_shapes=True option that relaxes argument shapes that can avoid unnecessary retracing. For (3), please refer to https://www.tensorflow.org/guide/function#controlling_retracing and https://www.tensorflow.org/api_docs/python/tf/function for  more details.\n"
     ]
    },
    {
     "name": "stderr",
     "output_type": "stream",
     "text": [
      "WARNING:tensorflow:11 out of the last 11 calls to <function recreate_function.<locals>.restored_function_body at 0x7ff5e3625700> triggered tf.function retracing. Tracing is expensive and the excessive number of tracings could be due to (1) creating @tf.function repeatedly in a loop, (2) passing tensors with different shapes, (3) passing Python objects instead of tensors. For (1), please define your @tf.function outside of the loop. For (2), @tf.function has experimental_relax_shapes=True option that relaxes argument shapes that can avoid unnecessary retracing. For (3), please refer to https://www.tensorflow.org/guide/function#controlling_retracing and https://www.tensorflow.org/api_docs/python/tf/function for  more details.\n",
      " 30%|██▉       | 59/200 [01:38<03:51,  1.64s/it]"
     ]
    },
    {
     "name": "stdout",
     "output_type": "stream",
     "text": [
      "WARNING:tensorflow:11 out of the last 11 calls to <function recreate_function.<locals>.restored_function_body at 0x7ff5c9aa14c0> triggered tf.function retracing. Tracing is expensive and the excessive number of tracings could be due to (1) creating @tf.function repeatedly in a loop, (2) passing tensors with different shapes, (3) passing Python objects instead of tensors. For (1), please define your @tf.function outside of the loop. For (2), @tf.function has experimental_relax_shapes=True option that relaxes argument shapes that can avoid unnecessary retracing. For (3), please refer to https://www.tensorflow.org/guide/function#controlling_retracing and https://www.tensorflow.org/api_docs/python/tf/function for  more details.\n"
     ]
    },
    {
     "name": "stderr",
     "output_type": "stream",
     "text": [
      "WARNING:tensorflow:11 out of the last 11 calls to <function recreate_function.<locals>.restored_function_body at 0x7ff5c9aa14c0> triggered tf.function retracing. Tracing is expensive and the excessive number of tracings could be due to (1) creating @tf.function repeatedly in a loop, (2) passing tensors with different shapes, (3) passing Python objects instead of tensors. For (1), please define your @tf.function outside of the loop. For (2), @tf.function has experimental_relax_shapes=True option that relaxes argument shapes that can avoid unnecessary retracing. For (3), please refer to https://www.tensorflow.org/guide/function#controlling_retracing and https://www.tensorflow.org/api_docs/python/tf/function for  more details.\n",
      " 30%|███       | 60/200 [01:39<03:47,  1.63s/it]"
     ]
    },
    {
     "name": "stdout",
     "output_type": "stream",
     "text": [
      "WARNING:tensorflow:11 out of the last 11 calls to <function recreate_function.<locals>.restored_function_body at 0x7ff5c6631280> triggered tf.function retracing. Tracing is expensive and the excessive number of tracings could be due to (1) creating @tf.function repeatedly in a loop, (2) passing tensors with different shapes, (3) passing Python objects instead of tensors. For (1), please define your @tf.function outside of the loop. For (2), @tf.function has experimental_relax_shapes=True option that relaxes argument shapes that can avoid unnecessary retracing. For (3), please refer to https://www.tensorflow.org/guide/function#controlling_retracing and https://www.tensorflow.org/api_docs/python/tf/function for  more details.\n"
     ]
    },
    {
     "name": "stderr",
     "output_type": "stream",
     "text": [
      "WARNING:tensorflow:11 out of the last 11 calls to <function recreate_function.<locals>.restored_function_body at 0x7ff5c6631280> triggered tf.function retracing. Tracing is expensive and the excessive number of tracings could be due to (1) creating @tf.function repeatedly in a loop, (2) passing tensors with different shapes, (3) passing Python objects instead of tensors. For (1), please define your @tf.function outside of the loop. For (2), @tf.function has experimental_relax_shapes=True option that relaxes argument shapes that can avoid unnecessary retracing. For (3), please refer to https://www.tensorflow.org/guide/function#controlling_retracing and https://www.tensorflow.org/api_docs/python/tf/function for  more details.\n",
      " 30%|███       | 61/200 [01:41<03:49,  1.65s/it]"
     ]
    },
    {
     "name": "stdout",
     "output_type": "stream",
     "text": [
      "WARNING:tensorflow:11 out of the last 11 calls to <function recreate_function.<locals>.restored_function_body at 0x7ff5c9a9e160> triggered tf.function retracing. Tracing is expensive and the excessive number of tracings could be due to (1) creating @tf.function repeatedly in a loop, (2) passing tensors with different shapes, (3) passing Python objects instead of tensors. For (1), please define your @tf.function outside of the loop. For (2), @tf.function has experimental_relax_shapes=True option that relaxes argument shapes that can avoid unnecessary retracing. For (3), please refer to https://www.tensorflow.org/guide/function#controlling_retracing and https://www.tensorflow.org/api_docs/python/tf/function for  more details.\n"
     ]
    },
    {
     "name": "stderr",
     "output_type": "stream",
     "text": [
      "WARNING:tensorflow:11 out of the last 11 calls to <function recreate_function.<locals>.restored_function_body at 0x7ff5c9a9e160> triggered tf.function retracing. Tracing is expensive and the excessive number of tracings could be due to (1) creating @tf.function repeatedly in a loop, (2) passing tensors with different shapes, (3) passing Python objects instead of tensors. For (1), please define your @tf.function outside of the loop. For (2), @tf.function has experimental_relax_shapes=True option that relaxes argument shapes that can avoid unnecessary retracing. For (3), please refer to https://www.tensorflow.org/guide/function#controlling_retracing and https://www.tensorflow.org/api_docs/python/tf/function for  more details.\n",
      " 31%|███       | 62/200 [01:42<03:40,  1.60s/it]"
     ]
    },
    {
     "name": "stdout",
     "output_type": "stream",
     "text": [
      "WARNING:tensorflow:11 out of the last 11 calls to <function recreate_function.<locals>.restored_function_body at 0x7ff5e1c85040> triggered tf.function retracing. Tracing is expensive and the excessive number of tracings could be due to (1) creating @tf.function repeatedly in a loop, (2) passing tensors with different shapes, (3) passing Python objects instead of tensors. For (1), please define your @tf.function outside of the loop. For (2), @tf.function has experimental_relax_shapes=True option that relaxes argument shapes that can avoid unnecessary retracing. For (3), please refer to https://www.tensorflow.org/guide/function#controlling_retracing and https://www.tensorflow.org/api_docs/python/tf/function for  more details.\n"
     ]
    },
    {
     "name": "stderr",
     "output_type": "stream",
     "text": [
      "WARNING:tensorflow:11 out of the last 11 calls to <function recreate_function.<locals>.restored_function_body at 0x7ff5e1c85040> triggered tf.function retracing. Tracing is expensive and the excessive number of tracings could be due to (1) creating @tf.function repeatedly in a loop, (2) passing tensors with different shapes, (3) passing Python objects instead of tensors. For (1), please define your @tf.function outside of the loop. For (2), @tf.function has experimental_relax_shapes=True option that relaxes argument shapes that can avoid unnecessary retracing. For (3), please refer to https://www.tensorflow.org/guide/function#controlling_retracing and https://www.tensorflow.org/api_docs/python/tf/function for  more details.\n",
      " 32%|███▏      | 63/200 [01:44<03:45,  1.65s/it]"
     ]
    },
    {
     "name": "stdout",
     "output_type": "stream",
     "text": [
      "WARNING:tensorflow:11 out of the last 11 calls to <function recreate_function.<locals>.restored_function_body at 0x7ff5c44368b0> triggered tf.function retracing. Tracing is expensive and the excessive number of tracings could be due to (1) creating @tf.function repeatedly in a loop, (2) passing tensors with different shapes, (3) passing Python objects instead of tensors. For (1), please define your @tf.function outside of the loop. For (2), @tf.function has experimental_relax_shapes=True option that relaxes argument shapes that can avoid unnecessary retracing. For (3), please refer to https://www.tensorflow.org/guide/function#controlling_retracing and https://www.tensorflow.org/api_docs/python/tf/function for  more details.\n"
     ]
    },
    {
     "name": "stderr",
     "output_type": "stream",
     "text": [
      "WARNING:tensorflow:11 out of the last 11 calls to <function recreate_function.<locals>.restored_function_body at 0x7ff5c44368b0> triggered tf.function retracing. Tracing is expensive and the excessive number of tracings could be due to (1) creating @tf.function repeatedly in a loop, (2) passing tensors with different shapes, (3) passing Python objects instead of tensors. For (1), please define your @tf.function outside of the loop. For (2), @tf.function has experimental_relax_shapes=True option that relaxes argument shapes that can avoid unnecessary retracing. For (3), please refer to https://www.tensorflow.org/guide/function#controlling_retracing and https://www.tensorflow.org/api_docs/python/tf/function for  more details.\n",
      " 32%|███▏      | 64/200 [01:46<03:43,  1.65s/it]"
     ]
    },
    {
     "name": "stdout",
     "output_type": "stream",
     "text": [
      "WARNING:tensorflow:11 out of the last 11 calls to <function recreate_function.<locals>.restored_function_body at 0x7ff5c77b9280> triggered tf.function retracing. Tracing is expensive and the excessive number of tracings could be due to (1) creating @tf.function repeatedly in a loop, (2) passing tensors with different shapes, (3) passing Python objects instead of tensors. For (1), please define your @tf.function outside of the loop. For (2), @tf.function has experimental_relax_shapes=True option that relaxes argument shapes that can avoid unnecessary retracing. For (3), please refer to https://www.tensorflow.org/guide/function#controlling_retracing and https://www.tensorflow.org/api_docs/python/tf/function for  more details.\n"
     ]
    },
    {
     "name": "stderr",
     "output_type": "stream",
     "text": [
      "WARNING:tensorflow:11 out of the last 11 calls to <function recreate_function.<locals>.restored_function_body at 0x7ff5c77b9280> triggered tf.function retracing. Tracing is expensive and the excessive number of tracings could be due to (1) creating @tf.function repeatedly in a loop, (2) passing tensors with different shapes, (3) passing Python objects instead of tensors. For (1), please define your @tf.function outside of the loop. For (2), @tf.function has experimental_relax_shapes=True option that relaxes argument shapes that can avoid unnecessary retracing. For (3), please refer to https://www.tensorflow.org/guide/function#controlling_retracing and https://www.tensorflow.org/api_docs/python/tf/function for  more details.\n",
      " 32%|███▎      | 65/200 [01:47<03:36,  1.61s/it]"
     ]
    },
    {
     "name": "stdout",
     "output_type": "stream",
     "text": [
      "WARNING:tensorflow:11 out of the last 11 calls to <function recreate_function.<locals>.restored_function_body at 0x7ff5e1cb0700> triggered tf.function retracing. Tracing is expensive and the excessive number of tracings could be due to (1) creating @tf.function repeatedly in a loop, (2) passing tensors with different shapes, (3) passing Python objects instead of tensors. For (1), please define your @tf.function outside of the loop. For (2), @tf.function has experimental_relax_shapes=True option that relaxes argument shapes that can avoid unnecessary retracing. For (3), please refer to https://www.tensorflow.org/guide/function#controlling_retracing and https://www.tensorflow.org/api_docs/python/tf/function for  more details.\n"
     ]
    },
    {
     "name": "stderr",
     "output_type": "stream",
     "text": [
      "WARNING:tensorflow:11 out of the last 11 calls to <function recreate_function.<locals>.restored_function_body at 0x7ff5e1cb0700> triggered tf.function retracing. Tracing is expensive and the excessive number of tracings could be due to (1) creating @tf.function repeatedly in a loop, (2) passing tensors with different shapes, (3) passing Python objects instead of tensors. For (1), please define your @tf.function outside of the loop. For (2), @tf.function has experimental_relax_shapes=True option that relaxes argument shapes that can avoid unnecessary retracing. For (3), please refer to https://www.tensorflow.org/guide/function#controlling_retracing and https://www.tensorflow.org/api_docs/python/tf/function for  more details.\n",
      " 33%|███▎      | 66/200 [01:49<03:40,  1.65s/it]"
     ]
    },
    {
     "name": "stdout",
     "output_type": "stream",
     "text": [
      "WARNING:tensorflow:11 out of the last 11 calls to <function recreate_function.<locals>.restored_function_body at 0x7ff5c96a44c0> triggered tf.function retracing. Tracing is expensive and the excessive number of tracings could be due to (1) creating @tf.function repeatedly in a loop, (2) passing tensors with different shapes, (3) passing Python objects instead of tensors. For (1), please define your @tf.function outside of the loop. For (2), @tf.function has experimental_relax_shapes=True option that relaxes argument shapes that can avoid unnecessary retracing. For (3), please refer to https://www.tensorflow.org/guide/function#controlling_retracing and https://www.tensorflow.org/api_docs/python/tf/function for  more details.\n"
     ]
    },
    {
     "name": "stderr",
     "output_type": "stream",
     "text": [
      "WARNING:tensorflow:11 out of the last 11 calls to <function recreate_function.<locals>.restored_function_body at 0x7ff5c96a44c0> triggered tf.function retracing. Tracing is expensive and the excessive number of tracings could be due to (1) creating @tf.function repeatedly in a loop, (2) passing tensors with different shapes, (3) passing Python objects instead of tensors. For (1), please define your @tf.function outside of the loop. For (2), @tf.function has experimental_relax_shapes=True option that relaxes argument shapes that can avoid unnecessary retracing. For (3), please refer to https://www.tensorflow.org/guide/function#controlling_retracing and https://www.tensorflow.org/api_docs/python/tf/function for  more details.\n",
      " 34%|███▎      | 67/200 [01:51<03:38,  1.64s/it]"
     ]
    },
    {
     "name": "stdout",
     "output_type": "stream",
     "text": [
      "WARNING:tensorflow:11 out of the last 11 calls to <function recreate_function.<locals>.restored_function_body at 0x7ff5c9bdf280> triggered tf.function retracing. Tracing is expensive and the excessive number of tracings could be due to (1) creating @tf.function repeatedly in a loop, (2) passing tensors with different shapes, (3) passing Python objects instead of tensors. For (1), please define your @tf.function outside of the loop. For (2), @tf.function has experimental_relax_shapes=True option that relaxes argument shapes that can avoid unnecessary retracing. For (3), please refer to https://www.tensorflow.org/guide/function#controlling_retracing and https://www.tensorflow.org/api_docs/python/tf/function for  more details.\n"
     ]
    },
    {
     "name": "stderr",
     "output_type": "stream",
     "text": [
      "WARNING:tensorflow:11 out of the last 11 calls to <function recreate_function.<locals>.restored_function_body at 0x7ff5c9bdf280> triggered tf.function retracing. Tracing is expensive and the excessive number of tracings could be due to (1) creating @tf.function repeatedly in a loop, (2) passing tensors with different shapes, (3) passing Python objects instead of tensors. For (1), please define your @tf.function outside of the loop. For (2), @tf.function has experimental_relax_shapes=True option that relaxes argument shapes that can avoid unnecessary retracing. For (3), please refer to https://www.tensorflow.org/guide/function#controlling_retracing and https://www.tensorflow.org/api_docs/python/tf/function for  more details.\n",
      " 34%|███▍      | 68/200 [01:52<03:31,  1.60s/it]"
     ]
    },
    {
     "name": "stdout",
     "output_type": "stream",
     "text": [
      "WARNING:tensorflow:11 out of the last 11 calls to <function recreate_function.<locals>.restored_function_body at 0x7ff5c716d700> triggered tf.function retracing. Tracing is expensive and the excessive number of tracings could be due to (1) creating @tf.function repeatedly in a loop, (2) passing tensors with different shapes, (3) passing Python objects instead of tensors. For (1), please define your @tf.function outside of the loop. For (2), @tf.function has experimental_relax_shapes=True option that relaxes argument shapes that can avoid unnecessary retracing. For (3), please refer to https://www.tensorflow.org/guide/function#controlling_retracing and https://www.tensorflow.org/api_docs/python/tf/function for  more details.\n"
     ]
    },
    {
     "name": "stderr",
     "output_type": "stream",
     "text": [
      "WARNING:tensorflow:11 out of the last 11 calls to <function recreate_function.<locals>.restored_function_body at 0x7ff5c716d700> triggered tf.function retracing. Tracing is expensive and the excessive number of tracings could be due to (1) creating @tf.function repeatedly in a loop, (2) passing tensors with different shapes, (3) passing Python objects instead of tensors. For (1), please define your @tf.function outside of the loop. For (2), @tf.function has experimental_relax_shapes=True option that relaxes argument shapes that can avoid unnecessary retracing. For (3), please refer to https://www.tensorflow.org/guide/function#controlling_retracing and https://www.tensorflow.org/api_docs/python/tf/function for  more details.\n",
      " 34%|███▍      | 69/200 [01:54<03:33,  1.63s/it]"
     ]
    },
    {
     "name": "stdout",
     "output_type": "stream",
     "text": [
      "WARNING:tensorflow:11 out of the last 11 calls to <function recreate_function.<locals>.restored_function_body at 0x7ff5e1dd3790> triggered tf.function retracing. Tracing is expensive and the excessive number of tracings could be due to (1) creating @tf.function repeatedly in a loop, (2) passing tensors with different shapes, (3) passing Python objects instead of tensors. For (1), please define your @tf.function outside of the loop. For (2), @tf.function has experimental_relax_shapes=True option that relaxes argument shapes that can avoid unnecessary retracing. For (3), please refer to https://www.tensorflow.org/guide/function#controlling_retracing and https://www.tensorflow.org/api_docs/python/tf/function for  more details.\n"
     ]
    },
    {
     "name": "stderr",
     "output_type": "stream",
     "text": [
      "WARNING:tensorflow:11 out of the last 11 calls to <function recreate_function.<locals>.restored_function_body at 0x7ff5e1dd3790> triggered tf.function retracing. Tracing is expensive and the excessive number of tracings could be due to (1) creating @tf.function repeatedly in a loop, (2) passing tensors with different shapes, (3) passing Python objects instead of tensors. For (1), please define your @tf.function outside of the loop. For (2), @tf.function has experimental_relax_shapes=True option that relaxes argument shapes that can avoid unnecessary retracing. For (3), please refer to https://www.tensorflow.org/guide/function#controlling_retracing and https://www.tensorflow.org/api_docs/python/tf/function for  more details.\n",
      " 35%|███▌      | 70/200 [01:56<03:31,  1.63s/it]"
     ]
    },
    {
     "name": "stdout",
     "output_type": "stream",
     "text": [
      "WARNING:tensorflow:11 out of the last 11 calls to <function recreate_function.<locals>.restored_function_body at 0x7ff5e1d61b80> triggered tf.function retracing. Tracing is expensive and the excessive number of tracings could be due to (1) creating @tf.function repeatedly in a loop, (2) passing tensors with different shapes, (3) passing Python objects instead of tensors. For (1), please define your @tf.function outside of the loop. For (2), @tf.function has experimental_relax_shapes=True option that relaxes argument shapes that can avoid unnecessary retracing. For (3), please refer to https://www.tensorflow.org/guide/function#controlling_retracing and https://www.tensorflow.org/api_docs/python/tf/function for  more details.\n"
     ]
    },
    {
     "name": "stderr",
     "output_type": "stream",
     "text": [
      "WARNING:tensorflow:11 out of the last 11 calls to <function recreate_function.<locals>.restored_function_body at 0x7ff5e1d61b80> triggered tf.function retracing. Tracing is expensive and the excessive number of tracings could be due to (1) creating @tf.function repeatedly in a loop, (2) passing tensors with different shapes, (3) passing Python objects instead of tensors. For (1), please define your @tf.function outside of the loop. For (2), @tf.function has experimental_relax_shapes=True option that relaxes argument shapes that can avoid unnecessary retracing. For (3), please refer to https://www.tensorflow.org/guide/function#controlling_retracing and https://www.tensorflow.org/api_docs/python/tf/function for  more details.\n",
      " 36%|███▌      | 71/200 [01:57<03:31,  1.64s/it]"
     ]
    },
    {
     "name": "stdout",
     "output_type": "stream",
     "text": [
      "WARNING:tensorflow:11 out of the last 11 calls to <function recreate_function.<locals>.restored_function_body at 0x7ff5c77e5280> triggered tf.function retracing. Tracing is expensive and the excessive number of tracings could be due to (1) creating @tf.function repeatedly in a loop, (2) passing tensors with different shapes, (3) passing Python objects instead of tensors. For (1), please define your @tf.function outside of the loop. For (2), @tf.function has experimental_relax_shapes=True option that relaxes argument shapes that can avoid unnecessary retracing. For (3), please refer to https://www.tensorflow.org/guide/function#controlling_retracing and https://www.tensorflow.org/api_docs/python/tf/function for  more details.\n"
     ]
    },
    {
     "name": "stderr",
     "output_type": "stream",
     "text": [
      "WARNING:tensorflow:11 out of the last 11 calls to <function recreate_function.<locals>.restored_function_body at 0x7ff5c77e5280> triggered tf.function retracing. Tracing is expensive and the excessive number of tracings could be due to (1) creating @tf.function repeatedly in a loop, (2) passing tensors with different shapes, (3) passing Python objects instead of tensors. For (1), please define your @tf.function outside of the loop. For (2), @tf.function has experimental_relax_shapes=True option that relaxes argument shapes that can avoid unnecessary retracing. For (3), please refer to https://www.tensorflow.org/guide/function#controlling_retracing and https://www.tensorflow.org/api_docs/python/tf/function for  more details.\n",
      " 36%|███▌      | 72/200 [01:59<03:25,  1.60s/it]"
     ]
    },
    {
     "name": "stdout",
     "output_type": "stream",
     "text": [
      "WARNING:tensorflow:11 out of the last 11 calls to <function recreate_function.<locals>.restored_function_body at 0x7ff5e1cca700> triggered tf.function retracing. Tracing is expensive and the excessive number of tracings could be due to (1) creating @tf.function repeatedly in a loop, (2) passing tensors with different shapes, (3) passing Python objects instead of tensors. For (1), please define your @tf.function outside of the loop. For (2), @tf.function has experimental_relax_shapes=True option that relaxes argument shapes that can avoid unnecessary retracing. For (3), please refer to https://www.tensorflow.org/guide/function#controlling_retracing and https://www.tensorflow.org/api_docs/python/tf/function for  more details.\n"
     ]
    },
    {
     "name": "stderr",
     "output_type": "stream",
     "text": [
      "WARNING:tensorflow:11 out of the last 11 calls to <function recreate_function.<locals>.restored_function_body at 0x7ff5e1cca700> triggered tf.function retracing. Tracing is expensive and the excessive number of tracings could be due to (1) creating @tf.function repeatedly in a loop, (2) passing tensors with different shapes, (3) passing Python objects instead of tensors. For (1), please define your @tf.function outside of the loop. For (2), @tf.function has experimental_relax_shapes=True option that relaxes argument shapes that can avoid unnecessary retracing. For (3), please refer to https://www.tensorflow.org/guide/function#controlling_retracing and https://www.tensorflow.org/api_docs/python/tf/function for  more details.\n",
      " 36%|███▋      | 73/200 [02:00<03:28,  1.64s/it]"
     ]
    },
    {
     "name": "stdout",
     "output_type": "stream",
     "text": [
      "WARNING:tensorflow:11 out of the last 11 calls to <function recreate_function.<locals>.restored_function_body at 0x7ff5c708d4c0> triggered tf.function retracing. Tracing is expensive and the excessive number of tracings could be due to (1) creating @tf.function repeatedly in a loop, (2) passing tensors with different shapes, (3) passing Python objects instead of tensors. For (1), please define your @tf.function outside of the loop. For (2), @tf.function has experimental_relax_shapes=True option that relaxes argument shapes that can avoid unnecessary retracing. For (3), please refer to https://www.tensorflow.org/guide/function#controlling_retracing and https://www.tensorflow.org/api_docs/python/tf/function for  more details.\n"
     ]
    },
    {
     "name": "stderr",
     "output_type": "stream",
     "text": [
      "WARNING:tensorflow:11 out of the last 11 calls to <function recreate_function.<locals>.restored_function_body at 0x7ff5c708d4c0> triggered tf.function retracing. Tracing is expensive and the excessive number of tracings could be due to (1) creating @tf.function repeatedly in a loop, (2) passing tensors with different shapes, (3) passing Python objects instead of tensors. For (1), please define your @tf.function outside of the loop. For (2), @tf.function has experimental_relax_shapes=True option that relaxes argument shapes that can avoid unnecessary retracing. For (3), please refer to https://www.tensorflow.org/guide/function#controlling_retracing and https://www.tensorflow.org/api_docs/python/tf/function for  more details.\n",
      " 37%|███▋      | 74/200 [02:02<03:26,  1.64s/it]"
     ]
    },
    {
     "name": "stdout",
     "output_type": "stream",
     "text": [
      "WARNING:tensorflow:11 out of the last 11 calls to <function recreate_function.<locals>.restored_function_body at 0x7ff5c7772280> triggered tf.function retracing. Tracing is expensive and the excessive number of tracings could be due to (1) creating @tf.function repeatedly in a loop, (2) passing tensors with different shapes, (3) passing Python objects instead of tensors. For (1), please define your @tf.function outside of the loop. For (2), @tf.function has experimental_relax_shapes=True option that relaxes argument shapes that can avoid unnecessary retracing. For (3), please refer to https://www.tensorflow.org/guide/function#controlling_retracing and https://www.tensorflow.org/api_docs/python/tf/function for  more details.\n"
     ]
    },
    {
     "name": "stderr",
     "output_type": "stream",
     "text": [
      "WARNING:tensorflow:11 out of the last 11 calls to <function recreate_function.<locals>.restored_function_body at 0x7ff5c7772280> triggered tf.function retracing. Tracing is expensive and the excessive number of tracings could be due to (1) creating @tf.function repeatedly in a loop, (2) passing tensors with different shapes, (3) passing Python objects instead of tensors. For (1), please define your @tf.function outside of the loop. For (2), @tf.function has experimental_relax_shapes=True option that relaxes argument shapes that can avoid unnecessary retracing. For (3), please refer to https://www.tensorflow.org/guide/function#controlling_retracing and https://www.tensorflow.org/api_docs/python/tf/function for  more details.\n",
      " 38%|███▊      | 75/200 [02:04<03:21,  1.61s/it]"
     ]
    },
    {
     "name": "stdout",
     "output_type": "stream",
     "text": [
      "WARNING:tensorflow:11 out of the last 11 calls to <function recreate_function.<locals>.restored_function_body at 0x7ff5c44a2700> triggered tf.function retracing. Tracing is expensive and the excessive number of tracings could be due to (1) creating @tf.function repeatedly in a loop, (2) passing tensors with different shapes, (3) passing Python objects instead of tensors. For (1), please define your @tf.function outside of the loop. For (2), @tf.function has experimental_relax_shapes=True option that relaxes argument shapes that can avoid unnecessary retracing. For (3), please refer to https://www.tensorflow.org/guide/function#controlling_retracing and https://www.tensorflow.org/api_docs/python/tf/function for  more details.\n"
     ]
    },
    {
     "name": "stderr",
     "output_type": "stream",
     "text": [
      "WARNING:tensorflow:11 out of the last 11 calls to <function recreate_function.<locals>.restored_function_body at 0x7ff5c44a2700> triggered tf.function retracing. Tracing is expensive and the excessive number of tracings could be due to (1) creating @tf.function repeatedly in a loop, (2) passing tensors with different shapes, (3) passing Python objects instead of tensors. For (1), please define your @tf.function outside of the loop. For (2), @tf.function has experimental_relax_shapes=True option that relaxes argument shapes that can avoid unnecessary retracing. For (3), please refer to https://www.tensorflow.org/guide/function#controlling_retracing and https://www.tensorflow.org/api_docs/python/tf/function for  more details.\n",
      " 38%|███▊      | 76/200 [02:05<03:24,  1.65s/it]"
     ]
    },
    {
     "name": "stdout",
     "output_type": "stream",
     "text": [
      "WARNING:tensorflow:11 out of the last 11 calls to <function recreate_function.<locals>.restored_function_body at 0x7ff5c7093430> triggered tf.function retracing. Tracing is expensive and the excessive number of tracings could be due to (1) creating @tf.function repeatedly in a loop, (2) passing tensors with different shapes, (3) passing Python objects instead of tensors. For (1), please define your @tf.function outside of the loop. For (2), @tf.function has experimental_relax_shapes=True option that relaxes argument shapes that can avoid unnecessary retracing. For (3), please refer to https://www.tensorflow.org/guide/function#controlling_retracing and https://www.tensorflow.org/api_docs/python/tf/function for  more details.\n"
     ]
    },
    {
     "name": "stderr",
     "output_type": "stream",
     "text": [
      "WARNING:tensorflow:11 out of the last 11 calls to <function recreate_function.<locals>.restored_function_body at 0x7ff5c7093430> triggered tf.function retracing. Tracing is expensive and the excessive number of tracings could be due to (1) creating @tf.function repeatedly in a loop, (2) passing tensors with different shapes, (3) passing Python objects instead of tensors. For (1), please define your @tf.function outside of the loop. For (2), @tf.function has experimental_relax_shapes=True option that relaxes argument shapes that can avoid unnecessary retracing. For (3), please refer to https://www.tensorflow.org/guide/function#controlling_retracing and https://www.tensorflow.org/api_docs/python/tf/function for  more details.\n",
      " 38%|███▊      | 77/200 [02:07<03:25,  1.67s/it]"
     ]
    },
    {
     "name": "stdout",
     "output_type": "stream",
     "text": [
      "WARNING:tensorflow:11 out of the last 11 calls to <function recreate_function.<locals>.restored_function_body at 0x7ff5c4474280> triggered tf.function retracing. Tracing is expensive and the excessive number of tracings could be due to (1) creating @tf.function repeatedly in a loop, (2) passing tensors with different shapes, (3) passing Python objects instead of tensors. For (1), please define your @tf.function outside of the loop. For (2), @tf.function has experimental_relax_shapes=True option that relaxes argument shapes that can avoid unnecessary retracing. For (3), please refer to https://www.tensorflow.org/guide/function#controlling_retracing and https://www.tensorflow.org/api_docs/python/tf/function for  more details.\n"
     ]
    },
    {
     "name": "stderr",
     "output_type": "stream",
     "text": [
      "WARNING:tensorflow:11 out of the last 11 calls to <function recreate_function.<locals>.restored_function_body at 0x7ff5c4474280> triggered tf.function retracing. Tracing is expensive and the excessive number of tracings could be due to (1) creating @tf.function repeatedly in a loop, (2) passing tensors with different shapes, (3) passing Python objects instead of tensors. For (1), please define your @tf.function outside of the loop. For (2), @tf.function has experimental_relax_shapes=True option that relaxes argument shapes that can avoid unnecessary retracing. For (3), please refer to https://www.tensorflow.org/guide/function#controlling_retracing and https://www.tensorflow.org/api_docs/python/tf/function for  more details.\n",
      " 39%|███▉      | 78/200 [02:09<03:34,  1.75s/it]"
     ]
    },
    {
     "name": "stdout",
     "output_type": "stream",
     "text": [
      "WARNING:tensorflow:11 out of the last 11 calls to <function recreate_function.<locals>.restored_function_body at 0x7ff5c64f4160> triggered tf.function retracing. Tracing is expensive and the excessive number of tracings could be due to (1) creating @tf.function repeatedly in a loop, (2) passing tensors with different shapes, (3) passing Python objects instead of tensors. For (1), please define your @tf.function outside of the loop. For (2), @tf.function has experimental_relax_shapes=True option that relaxes argument shapes that can avoid unnecessary retracing. For (3), please refer to https://www.tensorflow.org/guide/function#controlling_retracing and https://www.tensorflow.org/api_docs/python/tf/function for  more details.\n"
     ]
    },
    {
     "name": "stderr",
     "output_type": "stream",
     "text": [
      "WARNING:tensorflow:11 out of the last 11 calls to <function recreate_function.<locals>.restored_function_body at 0x7ff5c64f4160> triggered tf.function retracing. Tracing is expensive and the excessive number of tracings could be due to (1) creating @tf.function repeatedly in a loop, (2) passing tensors with different shapes, (3) passing Python objects instead of tensors. For (1), please define your @tf.function outside of the loop. For (2), @tf.function has experimental_relax_shapes=True option that relaxes argument shapes that can avoid unnecessary retracing. For (3), please refer to https://www.tensorflow.org/guide/function#controlling_retracing and https://www.tensorflow.org/api_docs/python/tf/function for  more details.\n",
      " 40%|███▉      | 79/200 [02:11<03:34,  1.77s/it]"
     ]
    },
    {
     "name": "stdout",
     "output_type": "stream",
     "text": [
      "WARNING:tensorflow:11 out of the last 11 calls to <function recreate_function.<locals>.restored_function_body at 0x7ff5e1d744c0> triggered tf.function retracing. Tracing is expensive and the excessive number of tracings could be due to (1) creating @tf.function repeatedly in a loop, (2) passing tensors with different shapes, (3) passing Python objects instead of tensors. For (1), please define your @tf.function outside of the loop. For (2), @tf.function has experimental_relax_shapes=True option that relaxes argument shapes that can avoid unnecessary retracing. For (3), please refer to https://www.tensorflow.org/guide/function#controlling_retracing and https://www.tensorflow.org/api_docs/python/tf/function for  more details.\n"
     ]
    },
    {
     "name": "stderr",
     "output_type": "stream",
     "text": [
      "WARNING:tensorflow:11 out of the last 11 calls to <function recreate_function.<locals>.restored_function_body at 0x7ff5e1d744c0> triggered tf.function retracing. Tracing is expensive and the excessive number of tracings could be due to (1) creating @tf.function repeatedly in a loop, (2) passing tensors with different shapes, (3) passing Python objects instead of tensors. For (1), please define your @tf.function outside of the loop. For (2), @tf.function has experimental_relax_shapes=True option that relaxes argument shapes that can avoid unnecessary retracing. For (3), please refer to https://www.tensorflow.org/guide/function#controlling_retracing and https://www.tensorflow.org/api_docs/python/tf/function for  more details.\n",
      " 40%|████      | 80/200 [02:13<03:44,  1.87s/it]"
     ]
    },
    {
     "name": "stdout",
     "output_type": "stream",
     "text": [
      "WARNING:tensorflow:11 out of the last 11 calls to <function recreate_function.<locals>.restored_function_body at 0x7ff5c44811f0> triggered tf.function retracing. Tracing is expensive and the excessive number of tracings could be due to (1) creating @tf.function repeatedly in a loop, (2) passing tensors with different shapes, (3) passing Python objects instead of tensors. For (1), please define your @tf.function outside of the loop. For (2), @tf.function has experimental_relax_shapes=True option that relaxes argument shapes that can avoid unnecessary retracing. For (3), please refer to https://www.tensorflow.org/guide/function#controlling_retracing and https://www.tensorflow.org/api_docs/python/tf/function for  more details.\n"
     ]
    },
    {
     "name": "stderr",
     "output_type": "stream",
     "text": [
      "WARNING:tensorflow:11 out of the last 11 calls to <function recreate_function.<locals>.restored_function_body at 0x7ff5c44811f0> triggered tf.function retracing. Tracing is expensive and the excessive number of tracings could be due to (1) creating @tf.function repeatedly in a loop, (2) passing tensors with different shapes, (3) passing Python objects instead of tensors. For (1), please define your @tf.function outside of the loop. For (2), @tf.function has experimental_relax_shapes=True option that relaxes argument shapes that can avoid unnecessary retracing. For (3), please refer to https://www.tensorflow.org/guide/function#controlling_retracing and https://www.tensorflow.org/api_docs/python/tf/function for  more details.\n",
      " 40%|████      | 81/200 [02:15<03:45,  1.90s/it]"
     ]
    },
    {
     "name": "stdout",
     "output_type": "stream",
     "text": [
      "WARNING:tensorflow:11 out of the last 11 calls to <function recreate_function.<locals>.restored_function_body at 0x7ff5c8a38280> triggered tf.function retracing. Tracing is expensive and the excessive number of tracings could be due to (1) creating @tf.function repeatedly in a loop, (2) passing tensors with different shapes, (3) passing Python objects instead of tensors. For (1), please define your @tf.function outside of the loop. For (2), @tf.function has experimental_relax_shapes=True option that relaxes argument shapes that can avoid unnecessary retracing. For (3), please refer to https://www.tensorflow.org/guide/function#controlling_retracing and https://www.tensorflow.org/api_docs/python/tf/function for  more details.\n"
     ]
    },
    {
     "name": "stderr",
     "output_type": "stream",
     "text": [
      "WARNING:tensorflow:11 out of the last 11 calls to <function recreate_function.<locals>.restored_function_body at 0x7ff5c8a38280> triggered tf.function retracing. Tracing is expensive and the excessive number of tracings could be due to (1) creating @tf.function repeatedly in a loop, (2) passing tensors with different shapes, (3) passing Python objects instead of tensors. For (1), please define your @tf.function outside of the loop. For (2), @tf.function has experimental_relax_shapes=True option that relaxes argument shapes that can avoid unnecessary retracing. For (3), please refer to https://www.tensorflow.org/guide/function#controlling_retracing and https://www.tensorflow.org/api_docs/python/tf/function for  more details.\n",
      " 41%|████      | 82/200 [02:16<03:30,  1.79s/it]"
     ]
    },
    {
     "name": "stdout",
     "output_type": "stream",
     "text": [
      "WARNING:tensorflow:11 out of the last 11 calls to <function recreate_function.<locals>.restored_function_body at 0x7ff5c71b5700> triggered tf.function retracing. Tracing is expensive and the excessive number of tracings could be due to (1) creating @tf.function repeatedly in a loop, (2) passing tensors with different shapes, (3) passing Python objects instead of tensors. For (1), please define your @tf.function outside of the loop. For (2), @tf.function has experimental_relax_shapes=True option that relaxes argument shapes that can avoid unnecessary retracing. For (3), please refer to https://www.tensorflow.org/guide/function#controlling_retracing and https://www.tensorflow.org/api_docs/python/tf/function for  more details.\n"
     ]
    },
    {
     "name": "stderr",
     "output_type": "stream",
     "text": [
      "WARNING:tensorflow:11 out of the last 11 calls to <function recreate_function.<locals>.restored_function_body at 0x7ff5c71b5700> triggered tf.function retracing. Tracing is expensive and the excessive number of tracings could be due to (1) creating @tf.function repeatedly in a loop, (2) passing tensors with different shapes, (3) passing Python objects instead of tensors. For (1), please define your @tf.function outside of the loop. For (2), @tf.function has experimental_relax_shapes=True option that relaxes argument shapes that can avoid unnecessary retracing. For (3), please refer to https://www.tensorflow.org/guide/function#controlling_retracing and https://www.tensorflow.org/api_docs/python/tf/function for  more details.\n",
      " 42%|████▏     | 83/200 [02:18<03:29,  1.79s/it]"
     ]
    },
    {
     "name": "stdout",
     "output_type": "stream",
     "text": [
      "WARNING:tensorflow:11 out of the last 11 calls to <function recreate_function.<locals>.restored_function_body at 0x7ff5c4436310> triggered tf.function retracing. Tracing is expensive and the excessive number of tracings could be due to (1) creating @tf.function repeatedly in a loop, (2) passing tensors with different shapes, (3) passing Python objects instead of tensors. For (1), please define your @tf.function outside of the loop. For (2), @tf.function has experimental_relax_shapes=True option that relaxes argument shapes that can avoid unnecessary retracing. For (3), please refer to https://www.tensorflow.org/guide/function#controlling_retracing and https://www.tensorflow.org/api_docs/python/tf/function for  more details.\n"
     ]
    },
    {
     "name": "stderr",
     "output_type": "stream",
     "text": [
      "WARNING:tensorflow:11 out of the last 11 calls to <function recreate_function.<locals>.restored_function_body at 0x7ff5c4436310> triggered tf.function retracing. Tracing is expensive and the excessive number of tracings could be due to (1) creating @tf.function repeatedly in a loop, (2) passing tensors with different shapes, (3) passing Python objects instead of tensors. For (1), please define your @tf.function outside of the loop. For (2), @tf.function has experimental_relax_shapes=True option that relaxes argument shapes that can avoid unnecessary retracing. For (3), please refer to https://www.tensorflow.org/guide/function#controlling_retracing and https://www.tensorflow.org/api_docs/python/tf/function for  more details.\n",
      " 42%|████▏     | 84/200 [02:20<03:24,  1.76s/it]"
     ]
    },
    {
     "name": "stdout",
     "output_type": "stream",
     "text": [
      "WARNING:tensorflow:11 out of the last 11 calls to <function recreate_function.<locals>.restored_function_body at 0x7ff5c9b83280> triggered tf.function retracing. Tracing is expensive and the excessive number of tracings could be due to (1) creating @tf.function repeatedly in a loop, (2) passing tensors with different shapes, (3) passing Python objects instead of tensors. For (1), please define your @tf.function outside of the loop. For (2), @tf.function has experimental_relax_shapes=True option that relaxes argument shapes that can avoid unnecessary retracing. For (3), please refer to https://www.tensorflow.org/guide/function#controlling_retracing and https://www.tensorflow.org/api_docs/python/tf/function for  more details.\n"
     ]
    },
    {
     "name": "stderr",
     "output_type": "stream",
     "text": [
      "WARNING:tensorflow:11 out of the last 11 calls to <function recreate_function.<locals>.restored_function_body at 0x7ff5c9b83280> triggered tf.function retracing. Tracing is expensive and the excessive number of tracings could be due to (1) creating @tf.function repeatedly in a loop, (2) passing tensors with different shapes, (3) passing Python objects instead of tensors. For (1), please define your @tf.function outside of the loop. For (2), @tf.function has experimental_relax_shapes=True option that relaxes argument shapes that can avoid unnecessary retracing. For (3), please refer to https://www.tensorflow.org/guide/function#controlling_retracing and https://www.tensorflow.org/api_docs/python/tf/function for  more details.\n",
      " 42%|████▎     | 85/200 [02:21<03:14,  1.69s/it]"
     ]
    },
    {
     "name": "stdout",
     "output_type": "stream",
     "text": [
      "WARNING:tensorflow:11 out of the last 11 calls to <function recreate_function.<locals>.restored_function_body at 0x7ff5c6532790> triggered tf.function retracing. Tracing is expensive and the excessive number of tracings could be due to (1) creating @tf.function repeatedly in a loop, (2) passing tensors with different shapes, (3) passing Python objects instead of tensors. For (1), please define your @tf.function outside of the loop. For (2), @tf.function has experimental_relax_shapes=True option that relaxes argument shapes that can avoid unnecessary retracing. For (3), please refer to https://www.tensorflow.org/guide/function#controlling_retracing and https://www.tensorflow.org/api_docs/python/tf/function for  more details.\n"
     ]
    },
    {
     "name": "stderr",
     "output_type": "stream",
     "text": [
      "WARNING:tensorflow:11 out of the last 11 calls to <function recreate_function.<locals>.restored_function_body at 0x7ff5c6532790> triggered tf.function retracing. Tracing is expensive and the excessive number of tracings could be due to (1) creating @tf.function repeatedly in a loop, (2) passing tensors with different shapes, (3) passing Python objects instead of tensors. For (1), please define your @tf.function outside of the loop. For (2), @tf.function has experimental_relax_shapes=True option that relaxes argument shapes that can avoid unnecessary retracing. For (3), please refer to https://www.tensorflow.org/guide/function#controlling_retracing and https://www.tensorflow.org/api_docs/python/tf/function for  more details.\n",
      " 43%|████▎     | 86/200 [02:23<03:16,  1.73s/it]"
     ]
    },
    {
     "name": "stdout",
     "output_type": "stream",
     "text": [
      "WARNING:tensorflow:11 out of the last 11 calls to <function recreate_function.<locals>.restored_function_body at 0x7ff5c71df280> triggered tf.function retracing. Tracing is expensive and the excessive number of tracings could be due to (1) creating @tf.function repeatedly in a loop, (2) passing tensors with different shapes, (3) passing Python objects instead of tensors. For (1), please define your @tf.function outside of the loop. For (2), @tf.function has experimental_relax_shapes=True option that relaxes argument shapes that can avoid unnecessary retracing. For (3), please refer to https://www.tensorflow.org/guide/function#controlling_retracing and https://www.tensorflow.org/api_docs/python/tf/function for  more details.\n"
     ]
    },
    {
     "name": "stderr",
     "output_type": "stream",
     "text": [
      "WARNING:tensorflow:11 out of the last 11 calls to <function recreate_function.<locals>.restored_function_body at 0x7ff5c71df280> triggered tf.function retracing. Tracing is expensive and the excessive number of tracings could be due to (1) creating @tf.function repeatedly in a loop, (2) passing tensors with different shapes, (3) passing Python objects instead of tensors. For (1), please define your @tf.function outside of the loop. For (2), @tf.function has experimental_relax_shapes=True option that relaxes argument shapes that can avoid unnecessary retracing. For (3), please refer to https://www.tensorflow.org/guide/function#controlling_retracing and https://www.tensorflow.org/api_docs/python/tf/function for  more details.\n",
      " 44%|████▎     | 87/200 [02:25<03:13,  1.71s/it]"
     ]
    },
    {
     "name": "stdout",
     "output_type": "stream",
     "text": [
      "WARNING:tensorflow:11 out of the last 11 calls to <function recreate_function.<locals>.restored_function_body at 0x7ff5e3e31310> triggered tf.function retracing. Tracing is expensive and the excessive number of tracings could be due to (1) creating @tf.function repeatedly in a loop, (2) passing tensors with different shapes, (3) passing Python objects instead of tensors. For (1), please define your @tf.function outside of the loop. For (2), @tf.function has experimental_relax_shapes=True option that relaxes argument shapes that can avoid unnecessary retracing. For (3), please refer to https://www.tensorflow.org/guide/function#controlling_retracing and https://www.tensorflow.org/api_docs/python/tf/function for  more details.\n"
     ]
    },
    {
     "name": "stderr",
     "output_type": "stream",
     "text": [
      "WARNING:tensorflow:11 out of the last 11 calls to <function recreate_function.<locals>.restored_function_body at 0x7ff5e3e31310> triggered tf.function retracing. Tracing is expensive and the excessive number of tracings could be due to (1) creating @tf.function repeatedly in a loop, (2) passing tensors with different shapes, (3) passing Python objects instead of tensors. For (1), please define your @tf.function outside of the loop. For (2), @tf.function has experimental_relax_shapes=True option that relaxes argument shapes that can avoid unnecessary retracing. For (3), please refer to https://www.tensorflow.org/guide/function#controlling_retracing and https://www.tensorflow.org/api_docs/python/tf/function for  more details.\n",
      " 44%|████▍     | 88/200 [02:27<03:10,  1.70s/it]"
     ]
    },
    {
     "name": "stdout",
     "output_type": "stream",
     "text": [
      "WARNING:tensorflow:11 out of the last 11 calls to <function recreate_function.<locals>.restored_function_body at 0x7ff5c66731f0> triggered tf.function retracing. Tracing is expensive and the excessive number of tracings could be due to (1) creating @tf.function repeatedly in a loop, (2) passing tensors with different shapes, (3) passing Python objects instead of tensors. For (1), please define your @tf.function outside of the loop. For (2), @tf.function has experimental_relax_shapes=True option that relaxes argument shapes that can avoid unnecessary retracing. For (3), please refer to https://www.tensorflow.org/guide/function#controlling_retracing and https://www.tensorflow.org/api_docs/python/tf/function for  more details.\n"
     ]
    },
    {
     "name": "stderr",
     "output_type": "stream",
     "text": [
      "WARNING:tensorflow:11 out of the last 11 calls to <function recreate_function.<locals>.restored_function_body at 0x7ff5c66731f0> triggered tf.function retracing. Tracing is expensive and the excessive number of tracings could be due to (1) creating @tf.function repeatedly in a loop, (2) passing tensors with different shapes, (3) passing Python objects instead of tensors. For (1), please define your @tf.function outside of the loop. For (2), @tf.function has experimental_relax_shapes=True option that relaxes argument shapes that can avoid unnecessary retracing. For (3), please refer to https://www.tensorflow.org/guide/function#controlling_retracing and https://www.tensorflow.org/api_docs/python/tf/function for  more details.\n",
      " 44%|████▍     | 89/200 [02:28<03:02,  1.65s/it]"
     ]
    },
    {
     "name": "stdout",
     "output_type": "stream",
     "text": [
      "WARNING:tensorflow:11 out of the last 11 calls to <function recreate_function.<locals>.restored_function_body at 0x7ff5c4467700> triggered tf.function retracing. Tracing is expensive and the excessive number of tracings could be due to (1) creating @tf.function repeatedly in a loop, (2) passing tensors with different shapes, (3) passing Python objects instead of tensors. For (1), please define your @tf.function outside of the loop. For (2), @tf.function has experimental_relax_shapes=True option that relaxes argument shapes that can avoid unnecessary retracing. For (3), please refer to https://www.tensorflow.org/guide/function#controlling_retracing and https://www.tensorflow.org/api_docs/python/tf/function for  more details.\n"
     ]
    },
    {
     "name": "stderr",
     "output_type": "stream",
     "text": [
      "WARNING:tensorflow:11 out of the last 11 calls to <function recreate_function.<locals>.restored_function_body at 0x7ff5c4467700> triggered tf.function retracing. Tracing is expensive and the excessive number of tracings could be due to (1) creating @tf.function repeatedly in a loop, (2) passing tensors with different shapes, (3) passing Python objects instead of tensors. For (1), please define your @tf.function outside of the loop. For (2), @tf.function has experimental_relax_shapes=True option that relaxes argument shapes that can avoid unnecessary retracing. For (3), please refer to https://www.tensorflow.org/guide/function#controlling_retracing and https://www.tensorflow.org/api_docs/python/tf/function for  more details.\n",
      " 45%|████▌     | 90/200 [02:30<03:05,  1.68s/it]"
     ]
    },
    {
     "name": "stdout",
     "output_type": "stream",
     "text": [
      "WARNING:tensorflow:11 out of the last 11 calls to <function recreate_function.<locals>.restored_function_body at 0x7ff5c9b839d0> triggered tf.function retracing. Tracing is expensive and the excessive number of tracings could be due to (1) creating @tf.function repeatedly in a loop, (2) passing tensors with different shapes, (3) passing Python objects instead of tensors. For (1), please define your @tf.function outside of the loop. For (2), @tf.function has experimental_relax_shapes=True option that relaxes argument shapes that can avoid unnecessary retracing. For (3), please refer to https://www.tensorflow.org/guide/function#controlling_retracing and https://www.tensorflow.org/api_docs/python/tf/function for  more details.\n"
     ]
    },
    {
     "name": "stderr",
     "output_type": "stream",
     "text": [
      "WARNING:tensorflow:11 out of the last 11 calls to <function recreate_function.<locals>.restored_function_body at 0x7ff5c9b839d0> triggered tf.function retracing. Tracing is expensive and the excessive number of tracings could be due to (1) creating @tf.function repeatedly in a loop, (2) passing tensors with different shapes, (3) passing Python objects instead of tensors. For (1), please define your @tf.function outside of the loop. For (2), @tf.function has experimental_relax_shapes=True option that relaxes argument shapes that can avoid unnecessary retracing. For (3), please refer to https://www.tensorflow.org/guide/function#controlling_retracing and https://www.tensorflow.org/api_docs/python/tf/function for  more details.\n",
      " 46%|████▌     | 91/200 [02:32<03:03,  1.68s/it]"
     ]
    },
    {
     "name": "stdout",
     "output_type": "stream",
     "text": [
      "WARNING:tensorflow:11 out of the last 11 calls to <function recreate_function.<locals>.restored_function_body at 0x7ff5c743b310> triggered tf.function retracing. Tracing is expensive and the excessive number of tracings could be due to (1) creating @tf.function repeatedly in a loop, (2) passing tensors with different shapes, (3) passing Python objects instead of tensors. For (1), please define your @tf.function outside of the loop. For (2), @tf.function has experimental_relax_shapes=True option that relaxes argument shapes that can avoid unnecessary retracing. For (3), please refer to https://www.tensorflow.org/guide/function#controlling_retracing and https://www.tensorflow.org/api_docs/python/tf/function for  more details.\n"
     ]
    },
    {
     "name": "stderr",
     "output_type": "stream",
     "text": [
      "WARNING:tensorflow:11 out of the last 11 calls to <function recreate_function.<locals>.restored_function_body at 0x7ff5c743b310> triggered tf.function retracing. Tracing is expensive and the excessive number of tracings could be due to (1) creating @tf.function repeatedly in a loop, (2) passing tensors with different shapes, (3) passing Python objects instead of tensors. For (1), please define your @tf.function outside of the loop. For (2), @tf.function has experimental_relax_shapes=True option that relaxes argument shapes that can avoid unnecessary retracing. For (3), please refer to https://www.tensorflow.org/guide/function#controlling_retracing and https://www.tensorflow.org/api_docs/python/tf/function for  more details.\n",
      " 46%|████▌     | 92/200 [02:33<02:55,  1.63s/it]"
     ]
    },
    {
     "name": "stdout",
     "output_type": "stream",
     "text": [
      "WARNING:tensorflow:11 out of the last 11 calls to <function recreate_function.<locals>.restored_function_body at 0x7ff5c6586790> triggered tf.function retracing. Tracing is expensive and the excessive number of tracings could be due to (1) creating @tf.function repeatedly in a loop, (2) passing tensors with different shapes, (3) passing Python objects instead of tensors. For (1), please define your @tf.function outside of the loop. For (2), @tf.function has experimental_relax_shapes=True option that relaxes argument shapes that can avoid unnecessary retracing. For (3), please refer to https://www.tensorflow.org/guide/function#controlling_retracing and https://www.tensorflow.org/api_docs/python/tf/function for  more details.\n"
     ]
    },
    {
     "name": "stderr",
     "output_type": "stream",
     "text": [
      "WARNING:tensorflow:11 out of the last 11 calls to <function recreate_function.<locals>.restored_function_body at 0x7ff5c6586790> triggered tf.function retracing. Tracing is expensive and the excessive number of tracings could be due to (1) creating @tf.function repeatedly in a loop, (2) passing tensors with different shapes, (3) passing Python objects instead of tensors. For (1), please define your @tf.function outside of the loop. For (2), @tf.function has experimental_relax_shapes=True option that relaxes argument shapes that can avoid unnecessary retracing. For (3), please refer to https://www.tensorflow.org/guide/function#controlling_retracing and https://www.tensorflow.org/api_docs/python/tf/function for  more details.\n",
      " 46%|████▋     | 93/200 [02:35<02:58,  1.67s/it]"
     ]
    },
    {
     "name": "stdout",
     "output_type": "stream",
     "text": [
      "WARNING:tensorflow:11 out of the last 11 calls to <function recreate_function.<locals>.restored_function_body at 0x7ff5c6fb6550> triggered tf.function retracing. Tracing is expensive and the excessive number of tracings could be due to (1) creating @tf.function repeatedly in a loop, (2) passing tensors with different shapes, (3) passing Python objects instead of tensors. For (1), please define your @tf.function outside of the loop. For (2), @tf.function has experimental_relax_shapes=True option that relaxes argument shapes that can avoid unnecessary retracing. For (3), please refer to https://www.tensorflow.org/guide/function#controlling_retracing and https://www.tensorflow.org/api_docs/python/tf/function for  more details.\n"
     ]
    },
    {
     "name": "stderr",
     "output_type": "stream",
     "text": [
      "WARNING:tensorflow:11 out of the last 11 calls to <function recreate_function.<locals>.restored_function_body at 0x7ff5c6fb6550> triggered tf.function retracing. Tracing is expensive and the excessive number of tracings could be due to (1) creating @tf.function repeatedly in a loop, (2) passing tensors with different shapes, (3) passing Python objects instead of tensors. For (1), please define your @tf.function outside of the loop. For (2), @tf.function has experimental_relax_shapes=True option that relaxes argument shapes that can avoid unnecessary retracing. For (3), please refer to https://www.tensorflow.org/guide/function#controlling_retracing and https://www.tensorflow.org/api_docs/python/tf/function for  more details.\n",
      " 47%|████▋     | 94/200 [02:37<02:56,  1.66s/it]"
     ]
    },
    {
     "name": "stdout",
     "output_type": "stream",
     "text": [
      "WARNING:tensorflow:11 out of the last 11 calls to <function recreate_function.<locals>.restored_function_body at 0x7ff5c77eb310> triggered tf.function retracing. Tracing is expensive and the excessive number of tracings could be due to (1) creating @tf.function repeatedly in a loop, (2) passing tensors with different shapes, (3) passing Python objects instead of tensors. For (1), please define your @tf.function outside of the loop. For (2), @tf.function has experimental_relax_shapes=True option that relaxes argument shapes that can avoid unnecessary retracing. For (3), please refer to https://www.tensorflow.org/guide/function#controlling_retracing and https://www.tensorflow.org/api_docs/python/tf/function for  more details.\n"
     ]
    },
    {
     "name": "stderr",
     "output_type": "stream",
     "text": [
      "WARNING:tensorflow:11 out of the last 11 calls to <function recreate_function.<locals>.restored_function_body at 0x7ff5c77eb310> triggered tf.function retracing. Tracing is expensive and the excessive number of tracings could be due to (1) creating @tf.function repeatedly in a loop, (2) passing tensors with different shapes, (3) passing Python objects instead of tensors. For (1), please define your @tf.function outside of the loop. For (2), @tf.function has experimental_relax_shapes=True option that relaxes argument shapes that can avoid unnecessary retracing. For (3), please refer to https://www.tensorflow.org/guide/function#controlling_retracing and https://www.tensorflow.org/api_docs/python/tf/function for  more details.\n",
      " 48%|████▊     | 95/200 [02:38<02:54,  1.66s/it]"
     ]
    },
    {
     "name": "stdout",
     "output_type": "stream",
     "text": [
      "WARNING:tensorflow:11 out of the last 11 calls to <function recreate_function.<locals>.restored_function_body at 0x7ff5e1df11f0> triggered tf.function retracing. Tracing is expensive and the excessive number of tracings could be due to (1) creating @tf.function repeatedly in a loop, (2) passing tensors with different shapes, (3) passing Python objects instead of tensors. For (1), please define your @tf.function outside of the loop. For (2), @tf.function has experimental_relax_shapes=True option that relaxes argument shapes that can avoid unnecessary retracing. For (3), please refer to https://www.tensorflow.org/guide/function#controlling_retracing and https://www.tensorflow.org/api_docs/python/tf/function for  more details.\n"
     ]
    },
    {
     "name": "stderr",
     "output_type": "stream",
     "text": [
      "WARNING:tensorflow:11 out of the last 11 calls to <function recreate_function.<locals>.restored_function_body at 0x7ff5e1df11f0> triggered tf.function retracing. Tracing is expensive and the excessive number of tracings could be due to (1) creating @tf.function repeatedly in a loop, (2) passing tensors with different shapes, (3) passing Python objects instead of tensors. For (1), please define your @tf.function outside of the loop. For (2), @tf.function has experimental_relax_shapes=True option that relaxes argument shapes that can avoid unnecessary retracing. For (3), please refer to https://www.tensorflow.org/guide/function#controlling_retracing and https://www.tensorflow.org/api_docs/python/tf/function for  more details.\n",
      " 48%|████▊     | 96/200 [02:40<02:47,  1.61s/it]"
     ]
    },
    {
     "name": "stdout",
     "output_type": "stream",
     "text": [
      "WARNING:tensorflow:11 out of the last 11 calls to <function recreate_function.<locals>.restored_function_body at 0x7ff5e1df1b80> triggered tf.function retracing. Tracing is expensive and the excessive number of tracings could be due to (1) creating @tf.function repeatedly in a loop, (2) passing tensors with different shapes, (3) passing Python objects instead of tensors. For (1), please define your @tf.function outside of the loop. For (2), @tf.function has experimental_relax_shapes=True option that relaxes argument shapes that can avoid unnecessary retracing. For (3), please refer to https://www.tensorflow.org/guide/function#controlling_retracing and https://www.tensorflow.org/api_docs/python/tf/function for  more details.\n"
     ]
    },
    {
     "name": "stderr",
     "output_type": "stream",
     "text": [
      "WARNING:tensorflow:11 out of the last 11 calls to <function recreate_function.<locals>.restored_function_body at 0x7ff5e1df1b80> triggered tf.function retracing. Tracing is expensive and the excessive number of tracings could be due to (1) creating @tf.function repeatedly in a loop, (2) passing tensors with different shapes, (3) passing Python objects instead of tensors. For (1), please define your @tf.function outside of the loop. For (2), @tf.function has experimental_relax_shapes=True option that relaxes argument shapes that can avoid unnecessary retracing. For (3), please refer to https://www.tensorflow.org/guide/function#controlling_retracing and https://www.tensorflow.org/api_docs/python/tf/function for  more details.\n",
      " 48%|████▊     | 97/200 [02:41<02:49,  1.65s/it]"
     ]
    },
    {
     "name": "stdout",
     "output_type": "stream",
     "text": [
      "WARNING:tensorflow:11 out of the last 11 calls to <function recreate_function.<locals>.restored_function_body at 0x7ff5c448eee0> triggered tf.function retracing. Tracing is expensive and the excessive number of tracings could be due to (1) creating @tf.function repeatedly in a loop, (2) passing tensors with different shapes, (3) passing Python objects instead of tensors. For (1), please define your @tf.function outside of the loop. For (2), @tf.function has experimental_relax_shapes=True option that relaxes argument shapes that can avoid unnecessary retracing. For (3), please refer to https://www.tensorflow.org/guide/function#controlling_retracing and https://www.tensorflow.org/api_docs/python/tf/function for  more details.\n"
     ]
    },
    {
     "name": "stderr",
     "output_type": "stream",
     "text": [
      "WARNING:tensorflow:11 out of the last 11 calls to <function recreate_function.<locals>.restored_function_body at 0x7ff5c448eee0> triggered tf.function retracing. Tracing is expensive and the excessive number of tracings could be due to (1) creating @tf.function repeatedly in a loop, (2) passing tensors with different shapes, (3) passing Python objects instead of tensors. For (1), please define your @tf.function outside of the loop. For (2), @tf.function has experimental_relax_shapes=True option that relaxes argument shapes that can avoid unnecessary retracing. For (3), please refer to https://www.tensorflow.org/guide/function#controlling_retracing and https://www.tensorflow.org/api_docs/python/tf/function for  more details.\n",
      " 49%|████▉     | 98/200 [02:43<02:47,  1.64s/it]"
     ]
    },
    {
     "name": "stdout",
     "output_type": "stream",
     "text": [
      "WARNING:tensorflow:11 out of the last 11 calls to <function recreate_function.<locals>.restored_function_body at 0x7ff5c663c310> triggered tf.function retracing. Tracing is expensive and the excessive number of tracings could be due to (1) creating @tf.function repeatedly in a loop, (2) passing tensors with different shapes, (3) passing Python objects instead of tensors. For (1), please define your @tf.function outside of the loop. For (2), @tf.function has experimental_relax_shapes=True option that relaxes argument shapes that can avoid unnecessary retracing. For (3), please refer to https://www.tensorflow.org/guide/function#controlling_retracing and https://www.tensorflow.org/api_docs/python/tf/function for  more details.\n"
     ]
    },
    {
     "name": "stderr",
     "output_type": "stream",
     "text": [
      "WARNING:tensorflow:11 out of the last 11 calls to <function recreate_function.<locals>.restored_function_body at 0x7ff5c663c310> triggered tf.function retracing. Tracing is expensive and the excessive number of tracings could be due to (1) creating @tf.function repeatedly in a loop, (2) passing tensors with different shapes, (3) passing Python objects instead of tensors. For (1), please define your @tf.function outside of the loop. For (2), @tf.function has experimental_relax_shapes=True option that relaxes argument shapes that can avoid unnecessary retracing. For (3), please refer to https://www.tensorflow.org/guide/function#controlling_retracing and https://www.tensorflow.org/api_docs/python/tf/function for  more details.\n",
      " 50%|████▉     | 99/200 [02:45<02:41,  1.59s/it]"
     ]
    },
    {
     "name": "stdout",
     "output_type": "stream",
     "text": [
      "WARNING:tensorflow:11 out of the last 11 calls to <function recreate_function.<locals>.restored_function_body at 0x7ff5e1cb48b0> triggered tf.function retracing. Tracing is expensive and the excessive number of tracings could be due to (1) creating @tf.function repeatedly in a loop, (2) passing tensors with different shapes, (3) passing Python objects instead of tensors. For (1), please define your @tf.function outside of the loop. For (2), @tf.function has experimental_relax_shapes=True option that relaxes argument shapes that can avoid unnecessary retracing. For (3), please refer to https://www.tensorflow.org/guide/function#controlling_retracing and https://www.tensorflow.org/api_docs/python/tf/function for  more details.\n"
     ]
    },
    {
     "name": "stderr",
     "output_type": "stream",
     "text": [
      "WARNING:tensorflow:11 out of the last 11 calls to <function recreate_function.<locals>.restored_function_body at 0x7ff5e1cb48b0> triggered tf.function retracing. Tracing is expensive and the excessive number of tracings could be due to (1) creating @tf.function repeatedly in a loop, (2) passing tensors with different shapes, (3) passing Python objects instead of tensors. For (1), please define your @tf.function outside of the loop. For (2), @tf.function has experimental_relax_shapes=True option that relaxes argument shapes that can avoid unnecessary retracing. For (3), please refer to https://www.tensorflow.org/guide/function#controlling_retracing and https://www.tensorflow.org/api_docs/python/tf/function for  more details.\n",
      " 50%|█████     | 100/200 [02:46<02:44,  1.64s/it]"
     ]
    },
    {
     "name": "stdout",
     "output_type": "stream",
     "text": [
      "WARNING:tensorflow:11 out of the last 11 calls to <function recreate_function.<locals>.restored_function_body at 0x7ff5e1db7550> triggered tf.function retracing. Tracing is expensive and the excessive number of tracings could be due to (1) creating @tf.function repeatedly in a loop, (2) passing tensors with different shapes, (3) passing Python objects instead of tensors. For (1), please define your @tf.function outside of the loop. For (2), @tf.function has experimental_relax_shapes=True option that relaxes argument shapes that can avoid unnecessary retracing. For (3), please refer to https://www.tensorflow.org/guide/function#controlling_retracing and https://www.tensorflow.org/api_docs/python/tf/function for  more details.\n"
     ]
    },
    {
     "name": "stderr",
     "output_type": "stream",
     "text": [
      "WARNING:tensorflow:11 out of the last 11 calls to <function recreate_function.<locals>.restored_function_body at 0x7ff5e1db7550> triggered tf.function retracing. Tracing is expensive and the excessive number of tracings could be due to (1) creating @tf.function repeatedly in a loop, (2) passing tensors with different shapes, (3) passing Python objects instead of tensors. For (1), please define your @tf.function outside of the loop. For (2), @tf.function has experimental_relax_shapes=True option that relaxes argument shapes that can avoid unnecessary retracing. For (3), please refer to https://www.tensorflow.org/guide/function#controlling_retracing and https://www.tensorflow.org/api_docs/python/tf/function for  more details.\n",
      " 50%|█████     | 101/200 [02:48<02:42,  1.64s/it]"
     ]
    },
    {
     "name": "stdout",
     "output_type": "stream",
     "text": [
      "WARNING:tensorflow:11 out of the last 11 calls to <function recreate_function.<locals>.restored_function_body at 0x7ff5c660b310> triggered tf.function retracing. Tracing is expensive and the excessive number of tracings could be due to (1) creating @tf.function repeatedly in a loop, (2) passing tensors with different shapes, (3) passing Python objects instead of tensors. For (1), please define your @tf.function outside of the loop. For (2), @tf.function has experimental_relax_shapes=True option that relaxes argument shapes that can avoid unnecessary retracing. For (3), please refer to https://www.tensorflow.org/guide/function#controlling_retracing and https://www.tensorflow.org/api_docs/python/tf/function for  more details.\n"
     ]
    },
    {
     "name": "stderr",
     "output_type": "stream",
     "text": [
      "WARNING:tensorflow:11 out of the last 11 calls to <function recreate_function.<locals>.restored_function_body at 0x7ff5c660b310> triggered tf.function retracing. Tracing is expensive and the excessive number of tracings could be due to (1) creating @tf.function repeatedly in a loop, (2) passing tensors with different shapes, (3) passing Python objects instead of tensors. For (1), please define your @tf.function outside of the loop. For (2), @tf.function has experimental_relax_shapes=True option that relaxes argument shapes that can avoid unnecessary retracing. For (3), please refer to https://www.tensorflow.org/guide/function#controlling_retracing and https://www.tensorflow.org/api_docs/python/tf/function for  more details.\n",
      " 51%|█████     | 102/200 [02:50<02:41,  1.64s/it]"
     ]
    },
    {
     "name": "stdout",
     "output_type": "stream",
     "text": [
      "WARNING:tensorflow:11 out of the last 11 calls to <function recreate_function.<locals>.restored_function_body at 0x7ff5c8a411f0> triggered tf.function retracing. Tracing is expensive and the excessive number of tracings could be due to (1) creating @tf.function repeatedly in a loop, (2) passing tensors with different shapes, (3) passing Python objects instead of tensors. For (1), please define your @tf.function outside of the loop. For (2), @tf.function has experimental_relax_shapes=True option that relaxes argument shapes that can avoid unnecessary retracing. For (3), please refer to https://www.tensorflow.org/guide/function#controlling_retracing and https://www.tensorflow.org/api_docs/python/tf/function for  more details.\n"
     ]
    },
    {
     "name": "stderr",
     "output_type": "stream",
     "text": [
      "WARNING:tensorflow:11 out of the last 11 calls to <function recreate_function.<locals>.restored_function_body at 0x7ff5c8a411f0> triggered tf.function retracing. Tracing is expensive and the excessive number of tracings could be due to (1) creating @tf.function repeatedly in a loop, (2) passing tensors with different shapes, (3) passing Python objects instead of tensors. For (1), please define your @tf.function outside of the loop. For (2), @tf.function has experimental_relax_shapes=True option that relaxes argument shapes that can avoid unnecessary retracing. For (3), please refer to https://www.tensorflow.org/guide/function#controlling_retracing and https://www.tensorflow.org/api_docs/python/tf/function for  more details.\n",
      " 52%|█████▏    | 103/200 [02:51<02:35,  1.60s/it]"
     ]
    },
    {
     "name": "stdout",
     "output_type": "stream",
     "text": [
      "WARNING:tensorflow:11 out of the last 11 calls to <function recreate_function.<locals>.restored_function_body at 0x7ff5c65af040> triggered tf.function retracing. Tracing is expensive and the excessive number of tracings could be due to (1) creating @tf.function repeatedly in a loop, (2) passing tensors with different shapes, (3) passing Python objects instead of tensors. For (1), please define your @tf.function outside of the loop. For (2), @tf.function has experimental_relax_shapes=True option that relaxes argument shapes that can avoid unnecessary retracing. For (3), please refer to https://www.tensorflow.org/guide/function#controlling_retracing and https://www.tensorflow.org/api_docs/python/tf/function for  more details.\n"
     ]
    },
    {
     "name": "stderr",
     "output_type": "stream",
     "text": [
      "WARNING:tensorflow:11 out of the last 11 calls to <function recreate_function.<locals>.restored_function_body at 0x7ff5c65af040> triggered tf.function retracing. Tracing is expensive and the excessive number of tracings could be due to (1) creating @tf.function repeatedly in a loop, (2) passing tensors with different shapes, (3) passing Python objects instead of tensors. For (1), please define your @tf.function outside of the loop. For (2), @tf.function has experimental_relax_shapes=True option that relaxes argument shapes that can avoid unnecessary retracing. For (3), please refer to https://www.tensorflow.org/guide/function#controlling_retracing and https://www.tensorflow.org/api_docs/python/tf/function for  more details.\n",
      " 52%|█████▏    | 104/200 [02:53<02:37,  1.64s/it]"
     ]
    },
    {
     "name": "stdout",
     "output_type": "stream",
     "text": [
      "WARNING:tensorflow:11 out of the last 11 calls to <function recreate_function.<locals>.restored_function_body at 0x7ff5c446f700> triggered tf.function retracing. Tracing is expensive and the excessive number of tracings could be due to (1) creating @tf.function repeatedly in a loop, (2) passing tensors with different shapes, (3) passing Python objects instead of tensors. For (1), please define your @tf.function outside of the loop. For (2), @tf.function has experimental_relax_shapes=True option that relaxes argument shapes that can avoid unnecessary retracing. For (3), please refer to https://www.tensorflow.org/guide/function#controlling_retracing and https://www.tensorflow.org/api_docs/python/tf/function for  more details.\n"
     ]
    },
    {
     "name": "stderr",
     "output_type": "stream",
     "text": [
      "WARNING:tensorflow:11 out of the last 11 calls to <function recreate_function.<locals>.restored_function_body at 0x7ff5c446f700> triggered tf.function retracing. Tracing is expensive and the excessive number of tracings could be due to (1) creating @tf.function repeatedly in a loop, (2) passing tensors with different shapes, (3) passing Python objects instead of tensors. For (1), please define your @tf.function outside of the loop. For (2), @tf.function has experimental_relax_shapes=True option that relaxes argument shapes that can avoid unnecessary retracing. For (3), please refer to https://www.tensorflow.org/guide/function#controlling_retracing and https://www.tensorflow.org/api_docs/python/tf/function for  more details.\n",
      " 52%|█████▎    | 105/200 [02:54<02:35,  1.63s/it]"
     ]
    },
    {
     "name": "stdout",
     "output_type": "stream",
     "text": [
      "WARNING:tensorflow:11 out of the last 11 calls to <function recreate_function.<locals>.restored_function_body at 0x7ff5c71ef310> triggered tf.function retracing. Tracing is expensive and the excessive number of tracings could be due to (1) creating @tf.function repeatedly in a loop, (2) passing tensors with different shapes, (3) passing Python objects instead of tensors. For (1), please define your @tf.function outside of the loop. For (2), @tf.function has experimental_relax_shapes=True option that relaxes argument shapes that can avoid unnecessary retracing. For (3), please refer to https://www.tensorflow.org/guide/function#controlling_retracing and https://www.tensorflow.org/api_docs/python/tf/function for  more details.\n"
     ]
    },
    {
     "name": "stderr",
     "output_type": "stream",
     "text": [
      "WARNING:tensorflow:11 out of the last 11 calls to <function recreate_function.<locals>.restored_function_body at 0x7ff5c71ef310> triggered tf.function retracing. Tracing is expensive and the excessive number of tracings could be due to (1) creating @tf.function repeatedly in a loop, (2) passing tensors with different shapes, (3) passing Python objects instead of tensors. For (1), please define your @tf.function outside of the loop. For (2), @tf.function has experimental_relax_shapes=True option that relaxes argument shapes that can avoid unnecessary retracing. For (3), please refer to https://www.tensorflow.org/guide/function#controlling_retracing and https://www.tensorflow.org/api_docs/python/tf/function for  more details.\n",
      " 53%|█████▎    | 106/200 [02:56<02:29,  1.59s/it]"
     ]
    },
    {
     "name": "stdout",
     "output_type": "stream",
     "text": [
      "WARNING:tensorflow:11 out of the last 11 calls to <function recreate_function.<locals>.restored_function_body at 0x7ff5e398e310> triggered tf.function retracing. Tracing is expensive and the excessive number of tracings could be due to (1) creating @tf.function repeatedly in a loop, (2) passing tensors with different shapes, (3) passing Python objects instead of tensors. For (1), please define your @tf.function outside of the loop. For (2), @tf.function has experimental_relax_shapes=True option that relaxes argument shapes that can avoid unnecessary retracing. For (3), please refer to https://www.tensorflow.org/guide/function#controlling_retracing and https://www.tensorflow.org/api_docs/python/tf/function for  more details.\n"
     ]
    },
    {
     "name": "stderr",
     "output_type": "stream",
     "text": [
      "WARNING:tensorflow:11 out of the last 11 calls to <function recreate_function.<locals>.restored_function_body at 0x7ff5e398e310> triggered tf.function retracing. Tracing is expensive and the excessive number of tracings could be due to (1) creating @tf.function repeatedly in a loop, (2) passing tensors with different shapes, (3) passing Python objects instead of tensors. For (1), please define your @tf.function outside of the loop. For (2), @tf.function has experimental_relax_shapes=True option that relaxes argument shapes that can avoid unnecessary retracing. For (3), please refer to https://www.tensorflow.org/guide/function#controlling_retracing and https://www.tensorflow.org/api_docs/python/tf/function for  more details.\n",
      " 54%|█████▎    | 107/200 [02:58<02:32,  1.64s/it]"
     ]
    },
    {
     "name": "stdout",
     "output_type": "stream",
     "text": [
      "WARNING:tensorflow:11 out of the last 11 calls to <function recreate_function.<locals>.restored_function_body at 0x7ff5c646e550> triggered tf.function retracing. Tracing is expensive and the excessive number of tracings could be due to (1) creating @tf.function repeatedly in a loop, (2) passing tensors with different shapes, (3) passing Python objects instead of tensors. For (1), please define your @tf.function outside of the loop. For (2), @tf.function has experimental_relax_shapes=True option that relaxes argument shapes that can avoid unnecessary retracing. For (3), please refer to https://www.tensorflow.org/guide/function#controlling_retracing and https://www.tensorflow.org/api_docs/python/tf/function for  more details.\n"
     ]
    },
    {
     "name": "stderr",
     "output_type": "stream",
     "text": [
      "WARNING:tensorflow:11 out of the last 11 calls to <function recreate_function.<locals>.restored_function_body at 0x7ff5c646e550> triggered tf.function retracing. Tracing is expensive and the excessive number of tracings could be due to (1) creating @tf.function repeatedly in a loop, (2) passing tensors with different shapes, (3) passing Python objects instead of tensors. For (1), please define your @tf.function outside of the loop. For (2), @tf.function has experimental_relax_shapes=True option that relaxes argument shapes that can avoid unnecessary retracing. For (3), please refer to https://www.tensorflow.org/guide/function#controlling_retracing and https://www.tensorflow.org/api_docs/python/tf/function for  more details.\n",
      " 54%|█████▍    | 108/200 [02:59<02:31,  1.65s/it]"
     ]
    },
    {
     "name": "stdout",
     "output_type": "stream",
     "text": [
      "WARNING:tensorflow:11 out of the last 11 calls to <function recreate_function.<locals>.restored_function_body at 0x7ff5c7064310> triggered tf.function retracing. Tracing is expensive and the excessive number of tracings could be due to (1) creating @tf.function repeatedly in a loop, (2) passing tensors with different shapes, (3) passing Python objects instead of tensors. For (1), please define your @tf.function outside of the loop. For (2), @tf.function has experimental_relax_shapes=True option that relaxes argument shapes that can avoid unnecessary retracing. For (3), please refer to https://www.tensorflow.org/guide/function#controlling_retracing and https://www.tensorflow.org/api_docs/python/tf/function for  more details.\n"
     ]
    },
    {
     "name": "stderr",
     "output_type": "stream",
     "text": [
      "WARNING:tensorflow:11 out of the last 11 calls to <function recreate_function.<locals>.restored_function_body at 0x7ff5c7064310> triggered tf.function retracing. Tracing is expensive and the excessive number of tracings could be due to (1) creating @tf.function repeatedly in a loop, (2) passing tensors with different shapes, (3) passing Python objects instead of tensors. For (1), please define your @tf.function outside of the loop. For (2), @tf.function has experimental_relax_shapes=True option that relaxes argument shapes that can avoid unnecessary retracing. For (3), please refer to https://www.tensorflow.org/guide/function#controlling_retracing and https://www.tensorflow.org/api_docs/python/tf/function for  more details.\n",
      " 55%|█████▍    | 109/200 [03:01<02:32,  1.67s/it]"
     ]
    },
    {
     "name": "stdout",
     "output_type": "stream",
     "text": [
      "WARNING:tensorflow:11 out of the last 11 calls to <function recreate_function.<locals>.restored_function_body at 0x7ff5c7e7a1f0> triggered tf.function retracing. Tracing is expensive and the excessive number of tracings could be due to (1) creating @tf.function repeatedly in a loop, (2) passing tensors with different shapes, (3) passing Python objects instead of tensors. For (1), please define your @tf.function outside of the loop. For (2), @tf.function has experimental_relax_shapes=True option that relaxes argument shapes that can avoid unnecessary retracing. For (3), please refer to https://www.tensorflow.org/guide/function#controlling_retracing and https://www.tensorflow.org/api_docs/python/tf/function for  more details.\n"
     ]
    },
    {
     "name": "stderr",
     "output_type": "stream",
     "text": [
      "WARNING:tensorflow:11 out of the last 11 calls to <function recreate_function.<locals>.restored_function_body at 0x7ff5c7e7a1f0> triggered tf.function retracing. Tracing is expensive and the excessive number of tracings could be due to (1) creating @tf.function repeatedly in a loop, (2) passing tensors with different shapes, (3) passing Python objects instead of tensors. For (1), please define your @tf.function outside of the loop. For (2), @tf.function has experimental_relax_shapes=True option that relaxes argument shapes that can avoid unnecessary retracing. For (3), please refer to https://www.tensorflow.org/guide/function#controlling_retracing and https://www.tensorflow.org/api_docs/python/tf/function for  more details.\n",
      " 55%|█████▌    | 110/200 [03:03<02:32,  1.70s/it]"
     ]
    },
    {
     "name": "stdout",
     "output_type": "stream",
     "text": [
      "WARNING:tensorflow:11 out of the last 11 calls to <function recreate_function.<locals>.restored_function_body at 0x7ff5e3e0d160> triggered tf.function retracing. Tracing is expensive and the excessive number of tracings could be due to (1) creating @tf.function repeatedly in a loop, (2) passing tensors with different shapes, (3) passing Python objects instead of tensors. For (1), please define your @tf.function outside of the loop. For (2), @tf.function has experimental_relax_shapes=True option that relaxes argument shapes that can avoid unnecessary retracing. For (3), please refer to https://www.tensorflow.org/guide/function#controlling_retracing and https://www.tensorflow.org/api_docs/python/tf/function for  more details.\n"
     ]
    },
    {
     "name": "stderr",
     "output_type": "stream",
     "text": [
      "WARNING:tensorflow:11 out of the last 11 calls to <function recreate_function.<locals>.restored_function_body at 0x7ff5e3e0d160> triggered tf.function retracing. Tracing is expensive and the excessive number of tracings could be due to (1) creating @tf.function repeatedly in a loop, (2) passing tensors with different shapes, (3) passing Python objects instead of tensors. For (1), please define your @tf.function outside of the loop. For (2), @tf.function has experimental_relax_shapes=True option that relaxes argument shapes that can avoid unnecessary retracing. For (3), please refer to https://www.tensorflow.org/guide/function#controlling_retracing and https://www.tensorflow.org/api_docs/python/tf/function for  more details.\n",
      " 56%|█████▌    | 111/200 [03:05<02:44,  1.84s/it]"
     ]
    },
    {
     "name": "stdout",
     "output_type": "stream",
     "text": [
      "WARNING:tensorflow:11 out of the last 11 calls to <function recreate_function.<locals>.restored_function_body at 0x7ff5c9aa58b0> triggered tf.function retracing. Tracing is expensive and the excessive number of tracings could be due to (1) creating @tf.function repeatedly in a loop, (2) passing tensors with different shapes, (3) passing Python objects instead of tensors. For (1), please define your @tf.function outside of the loop. For (2), @tf.function has experimental_relax_shapes=True option that relaxes argument shapes that can avoid unnecessary retracing. For (3), please refer to https://www.tensorflow.org/guide/function#controlling_retracing and https://www.tensorflow.org/api_docs/python/tf/function for  more details.\n"
     ]
    },
    {
     "name": "stderr",
     "output_type": "stream",
     "text": [
      "WARNING:tensorflow:11 out of the last 11 calls to <function recreate_function.<locals>.restored_function_body at 0x7ff5c9aa58b0> triggered tf.function retracing. Tracing is expensive and the excessive number of tracings could be due to (1) creating @tf.function repeatedly in a loop, (2) passing tensors with different shapes, (3) passing Python objects instead of tensors. For (1), please define your @tf.function outside of the loop. For (2), @tf.function has experimental_relax_shapes=True option that relaxes argument shapes that can avoid unnecessary retracing. For (3), please refer to https://www.tensorflow.org/guide/function#controlling_retracing and https://www.tensorflow.org/api_docs/python/tf/function for  more details.\n",
      " 56%|█████▌    | 112/200 [03:07<02:44,  1.86s/it]"
     ]
    },
    {
     "name": "stdout",
     "output_type": "stream",
     "text": [
      "WARNING:tensorflow:11 out of the last 11 calls to <function recreate_function.<locals>.restored_function_body at 0x7ff5c72ea310> triggered tf.function retracing. Tracing is expensive and the excessive number of tracings could be due to (1) creating @tf.function repeatedly in a loop, (2) passing tensors with different shapes, (3) passing Python objects instead of tensors. For (1), please define your @tf.function outside of the loop. For (2), @tf.function has experimental_relax_shapes=True option that relaxes argument shapes that can avoid unnecessary retracing. For (3), please refer to https://www.tensorflow.org/guide/function#controlling_retracing and https://www.tensorflow.org/api_docs/python/tf/function for  more details.\n"
     ]
    },
    {
     "name": "stderr",
     "output_type": "stream",
     "text": [
      "WARNING:tensorflow:11 out of the last 11 calls to <function recreate_function.<locals>.restored_function_body at 0x7ff5c72ea310> triggered tf.function retracing. Tracing is expensive and the excessive number of tracings could be due to (1) creating @tf.function repeatedly in a loop, (2) passing tensors with different shapes, (3) passing Python objects instead of tensors. For (1), please define your @tf.function outside of the loop. For (2), @tf.function has experimental_relax_shapes=True option that relaxes argument shapes that can avoid unnecessary retracing. For (3), please refer to https://www.tensorflow.org/guide/function#controlling_retracing and https://www.tensorflow.org/api_docs/python/tf/function for  more details.\n",
      " 56%|█████▋    | 113/200 [03:08<02:34,  1.78s/it]"
     ]
    },
    {
     "name": "stdout",
     "output_type": "stream",
     "text": [
      "WARNING:tensorflow:11 out of the last 11 calls to <function recreate_function.<locals>.restored_function_body at 0x7ff5c716a790> triggered tf.function retracing. Tracing is expensive and the excessive number of tracings could be due to (1) creating @tf.function repeatedly in a loop, (2) passing tensors with different shapes, (3) passing Python objects instead of tensors. For (1), please define your @tf.function outside of the loop. For (2), @tf.function has experimental_relax_shapes=True option that relaxes argument shapes that can avoid unnecessary retracing. For (3), please refer to https://www.tensorflow.org/guide/function#controlling_retracing and https://www.tensorflow.org/api_docs/python/tf/function for  more details.\n"
     ]
    },
    {
     "name": "stderr",
     "output_type": "stream",
     "text": [
      "WARNING:tensorflow:11 out of the last 11 calls to <function recreate_function.<locals>.restored_function_body at 0x7ff5c716a790> triggered tf.function retracing. Tracing is expensive and the excessive number of tracings could be due to (1) creating @tf.function repeatedly in a loop, (2) passing tensors with different shapes, (3) passing Python objects instead of tensors. For (1), please define your @tf.function outside of the loop. For (2), @tf.function has experimental_relax_shapes=True option that relaxes argument shapes that can avoid unnecessary retracing. For (3), please refer to https://www.tensorflow.org/guide/function#controlling_retracing and https://www.tensorflow.org/api_docs/python/tf/function for  more details.\n",
      " 57%|█████▋    | 114/200 [03:10<02:34,  1.79s/it]"
     ]
    },
    {
     "name": "stdout",
     "output_type": "stream",
     "text": [
      "WARNING:tensorflow:11 out of the last 11 calls to <function recreate_function.<locals>.restored_function_body at 0x7ff5c6691550> triggered tf.function retracing. Tracing is expensive and the excessive number of tracings could be due to (1) creating @tf.function repeatedly in a loop, (2) passing tensors with different shapes, (3) passing Python objects instead of tensors. For (1), please define your @tf.function outside of the loop. For (2), @tf.function has experimental_relax_shapes=True option that relaxes argument shapes that can avoid unnecessary retracing. For (3), please refer to https://www.tensorflow.org/guide/function#controlling_retracing and https://www.tensorflow.org/api_docs/python/tf/function for  more details.\n"
     ]
    },
    {
     "name": "stderr",
     "output_type": "stream",
     "text": [
      "WARNING:tensorflow:11 out of the last 11 calls to <function recreate_function.<locals>.restored_function_body at 0x7ff5c6691550> triggered tf.function retracing. Tracing is expensive and the excessive number of tracings could be due to (1) creating @tf.function repeatedly in a loop, (2) passing tensors with different shapes, (3) passing Python objects instead of tensors. For (1), please define your @tf.function outside of the loop. For (2), @tf.function has experimental_relax_shapes=True option that relaxes argument shapes that can avoid unnecessary retracing. For (3), please refer to https://www.tensorflow.org/guide/function#controlling_retracing and https://www.tensorflow.org/api_docs/python/tf/function for  more details.\n",
      " 57%|█████▊    | 115/200 [03:12<02:28,  1.75s/it]"
     ]
    },
    {
     "name": "stdout",
     "output_type": "stream",
     "text": [
      "WARNING:tensorflow:11 out of the last 11 calls to <function recreate_function.<locals>.restored_function_body at 0x7ff5c9788310> triggered tf.function retracing. Tracing is expensive and the excessive number of tracings could be due to (1) creating @tf.function repeatedly in a loop, (2) passing tensors with different shapes, (3) passing Python objects instead of tensors. For (1), please define your @tf.function outside of the loop. For (2), @tf.function has experimental_relax_shapes=True option that relaxes argument shapes that can avoid unnecessary retracing. For (3), please refer to https://www.tensorflow.org/guide/function#controlling_retracing and https://www.tensorflow.org/api_docs/python/tf/function for  more details.\n"
     ]
    },
    {
     "name": "stderr",
     "output_type": "stream",
     "text": [
      "WARNING:tensorflow:11 out of the last 11 calls to <function recreate_function.<locals>.restored_function_body at 0x7ff5c9788310> triggered tf.function retracing. Tracing is expensive and the excessive number of tracings could be due to (1) creating @tf.function repeatedly in a loop, (2) passing tensors with different shapes, (3) passing Python objects instead of tensors. For (1), please define your @tf.function outside of the loop. For (2), @tf.function has experimental_relax_shapes=True option that relaxes argument shapes that can avoid unnecessary retracing. For (3), please refer to https://www.tensorflow.org/guide/function#controlling_retracing and https://www.tensorflow.org/api_docs/python/tf/function for  more details.\n",
      " 58%|█████▊    | 116/200 [03:13<02:19,  1.66s/it]"
     ]
    },
    {
     "name": "stdout",
     "output_type": "stream",
     "text": [
      "WARNING:tensorflow:11 out of the last 11 calls to <function recreate_function.<locals>.restored_function_body at 0x7ff5c5313790> triggered tf.function retracing. Tracing is expensive and the excessive number of tracings could be due to (1) creating @tf.function repeatedly in a loop, (2) passing tensors with different shapes, (3) passing Python objects instead of tensors. For (1), please define your @tf.function outside of the loop. For (2), @tf.function has experimental_relax_shapes=True option that relaxes argument shapes that can avoid unnecessary retracing. For (3), please refer to https://www.tensorflow.org/guide/function#controlling_retracing and https://www.tensorflow.org/api_docs/python/tf/function for  more details.\n"
     ]
    },
    {
     "name": "stderr",
     "output_type": "stream",
     "text": [
      "WARNING:tensorflow:11 out of the last 11 calls to <function recreate_function.<locals>.restored_function_body at 0x7ff5c5313790> triggered tf.function retracing. Tracing is expensive and the excessive number of tracings could be due to (1) creating @tf.function repeatedly in a loop, (2) passing tensors with different shapes, (3) passing Python objects instead of tensors. For (1), please define your @tf.function outside of the loop. For (2), @tf.function has experimental_relax_shapes=True option that relaxes argument shapes that can avoid unnecessary retracing. For (3), please refer to https://www.tensorflow.org/guide/function#controlling_retracing and https://www.tensorflow.org/api_docs/python/tf/function for  more details.\n",
      " 58%|█████▊    | 117/200 [03:15<02:19,  1.69s/it]"
     ]
    },
    {
     "name": "stdout",
     "output_type": "stream",
     "text": [
      "WARNING:tensorflow:11 out of the last 11 calls to <function recreate_function.<locals>.restored_function_body at 0x7ff5e3636820> triggered tf.function retracing. Tracing is expensive and the excessive number of tracings could be due to (1) creating @tf.function repeatedly in a loop, (2) passing tensors with different shapes, (3) passing Python objects instead of tensors. For (1), please define your @tf.function outside of the loop. For (2), @tf.function has experimental_relax_shapes=True option that relaxes argument shapes that can avoid unnecessary retracing. For (3), please refer to https://www.tensorflow.org/guide/function#controlling_retracing and https://www.tensorflow.org/api_docs/python/tf/function for  more details.\n"
     ]
    },
    {
     "name": "stderr",
     "output_type": "stream",
     "text": [
      "WARNING:tensorflow:11 out of the last 11 calls to <function recreate_function.<locals>.restored_function_body at 0x7ff5e3636820> triggered tf.function retracing. Tracing is expensive and the excessive number of tracings could be due to (1) creating @tf.function repeatedly in a loop, (2) passing tensors with different shapes, (3) passing Python objects instead of tensors. For (1), please define your @tf.function outside of the loop. For (2), @tf.function has experimental_relax_shapes=True option that relaxes argument shapes that can avoid unnecessary retracing. For (3), please refer to https://www.tensorflow.org/guide/function#controlling_retracing and https://www.tensorflow.org/api_docs/python/tf/function for  more details.\n",
      " 59%|█████▉    | 118/200 [03:17<02:16,  1.67s/it]"
     ]
    },
    {
     "name": "stdout",
     "output_type": "stream",
     "text": [
      "WARNING:tensorflow:11 out of the last 11 calls to <function recreate_function.<locals>.restored_function_body at 0x7ff5c9a9bc10> triggered tf.function retracing. Tracing is expensive and the excessive number of tracings could be due to (1) creating @tf.function repeatedly in a loop, (2) passing tensors with different shapes, (3) passing Python objects instead of tensors. For (1), please define your @tf.function outside of the loop. For (2), @tf.function has experimental_relax_shapes=True option that relaxes argument shapes that can avoid unnecessary retracing. For (3), please refer to https://www.tensorflow.org/guide/function#controlling_retracing and https://www.tensorflow.org/api_docs/python/tf/function for  more details.\n"
     ]
    },
    {
     "name": "stderr",
     "output_type": "stream",
     "text": [
      "WARNING:tensorflow:11 out of the last 11 calls to <function recreate_function.<locals>.restored_function_body at 0x7ff5c9a9bc10> triggered tf.function retracing. Tracing is expensive and the excessive number of tracings could be due to (1) creating @tf.function repeatedly in a loop, (2) passing tensors with different shapes, (3) passing Python objects instead of tensors. For (1), please define your @tf.function outside of the loop. For (2), @tf.function has experimental_relax_shapes=True option that relaxes argument shapes that can avoid unnecessary retracing. For (3), please refer to https://www.tensorflow.org/guide/function#controlling_retracing and https://www.tensorflow.org/api_docs/python/tf/function for  more details.\n",
      " 60%|█████▉    | 119/200 [03:18<02:15,  1.67s/it]"
     ]
    },
    {
     "name": "stdout",
     "output_type": "stream",
     "text": [
      "WARNING:tensorflow:11 out of the last 11 calls to <function recreate_function.<locals>.restored_function_body at 0x7ff5c7226310> triggered tf.function retracing. Tracing is expensive and the excessive number of tracings could be due to (1) creating @tf.function repeatedly in a loop, (2) passing tensors with different shapes, (3) passing Python objects instead of tensors. For (1), please define your @tf.function outside of the loop. For (2), @tf.function has experimental_relax_shapes=True option that relaxes argument shapes that can avoid unnecessary retracing. For (3), please refer to https://www.tensorflow.org/guide/function#controlling_retracing and https://www.tensorflow.org/api_docs/python/tf/function for  more details.\n"
     ]
    },
    {
     "name": "stderr",
     "output_type": "stream",
     "text": [
      "WARNING:tensorflow:11 out of the last 11 calls to <function recreate_function.<locals>.restored_function_body at 0x7ff5c7226310> triggered tf.function retracing. Tracing is expensive and the excessive number of tracings could be due to (1) creating @tf.function repeatedly in a loop, (2) passing tensors with different shapes, (3) passing Python objects instead of tensors. For (1), please define your @tf.function outside of the loop. For (2), @tf.function has experimental_relax_shapes=True option that relaxes argument shapes that can avoid unnecessary retracing. For (3), please refer to https://www.tensorflow.org/guide/function#controlling_retracing and https://www.tensorflow.org/api_docs/python/tf/function for  more details.\n",
      " 60%|██████    | 120/200 [03:20<02:09,  1.62s/it]"
     ]
    },
    {
     "name": "stdout",
     "output_type": "stream",
     "text": [
      "WARNING:tensorflow:11 out of the last 11 calls to <function recreate_function.<locals>.restored_function_body at 0x7ff5e1d92790> triggered tf.function retracing. Tracing is expensive and the excessive number of tracings could be due to (1) creating @tf.function repeatedly in a loop, (2) passing tensors with different shapes, (3) passing Python objects instead of tensors. For (1), please define your @tf.function outside of the loop. For (2), @tf.function has experimental_relax_shapes=True option that relaxes argument shapes that can avoid unnecessary retracing. For (3), please refer to https://www.tensorflow.org/guide/function#controlling_retracing and https://www.tensorflow.org/api_docs/python/tf/function for  more details.\n"
     ]
    },
    {
     "name": "stderr",
     "output_type": "stream",
     "text": [
      "WARNING:tensorflow:11 out of the last 11 calls to <function recreate_function.<locals>.restored_function_body at 0x7ff5e1d92790> triggered tf.function retracing. Tracing is expensive and the excessive number of tracings could be due to (1) creating @tf.function repeatedly in a loop, (2) passing tensors with different shapes, (3) passing Python objects instead of tensors. For (1), please define your @tf.function outside of the loop. For (2), @tf.function has experimental_relax_shapes=True option that relaxes argument shapes that can avoid unnecessary retracing. For (3), please refer to https://www.tensorflow.org/guide/function#controlling_retracing and https://www.tensorflow.org/api_docs/python/tf/function for  more details.\n",
      " 60%|██████    | 121/200 [03:22<02:10,  1.66s/it]"
     ]
    },
    {
     "name": "stdout",
     "output_type": "stream",
     "text": [
      "WARNING:tensorflow:11 out of the last 11 calls to <function recreate_function.<locals>.restored_function_body at 0x7ff5e1dbe550> triggered tf.function retracing. Tracing is expensive and the excessive number of tracings could be due to (1) creating @tf.function repeatedly in a loop, (2) passing tensors with different shapes, (3) passing Python objects instead of tensors. For (1), please define your @tf.function outside of the loop. For (2), @tf.function has experimental_relax_shapes=True option that relaxes argument shapes that can avoid unnecessary retracing. For (3), please refer to https://www.tensorflow.org/guide/function#controlling_retracing and https://www.tensorflow.org/api_docs/python/tf/function for  more details.\n"
     ]
    },
    {
     "name": "stderr",
     "output_type": "stream",
     "text": [
      "WARNING:tensorflow:11 out of the last 11 calls to <function recreate_function.<locals>.restored_function_body at 0x7ff5e1dbe550> triggered tf.function retracing. Tracing is expensive and the excessive number of tracings could be due to (1) creating @tf.function repeatedly in a loop, (2) passing tensors with different shapes, (3) passing Python objects instead of tensors. For (1), please define your @tf.function outside of the loop. For (2), @tf.function has experimental_relax_shapes=True option that relaxes argument shapes that can avoid unnecessary retracing. For (3), please refer to https://www.tensorflow.org/guide/function#controlling_retracing and https://www.tensorflow.org/api_docs/python/tf/function for  more details.\n",
      " 61%|██████    | 122/200 [03:23<02:09,  1.66s/it]"
     ]
    },
    {
     "name": "stdout",
     "output_type": "stream",
     "text": [
      "WARNING:tensorflow:11 out of the last 11 calls to <function recreate_function.<locals>.restored_function_body at 0x7ff5c8ab3310> triggered tf.function retracing. Tracing is expensive and the excessive number of tracings could be due to (1) creating @tf.function repeatedly in a loop, (2) passing tensors with different shapes, (3) passing Python objects instead of tensors. For (1), please define your @tf.function outside of the loop. For (2), @tf.function has experimental_relax_shapes=True option that relaxes argument shapes that can avoid unnecessary retracing. For (3), please refer to https://www.tensorflow.org/guide/function#controlling_retracing and https://www.tensorflow.org/api_docs/python/tf/function for  more details.\n"
     ]
    },
    {
     "name": "stderr",
     "output_type": "stream",
     "text": [
      "WARNING:tensorflow:11 out of the last 11 calls to <function recreate_function.<locals>.restored_function_body at 0x7ff5c8ab3310> triggered tf.function retracing. Tracing is expensive and the excessive number of tracings could be due to (1) creating @tf.function repeatedly in a loop, (2) passing tensors with different shapes, (3) passing Python objects instead of tensors. For (1), please define your @tf.function outside of the loop. For (2), @tf.function has experimental_relax_shapes=True option that relaxes argument shapes that can avoid unnecessary retracing. For (3), please refer to https://www.tensorflow.org/guide/function#controlling_retracing and https://www.tensorflow.org/api_docs/python/tf/function for  more details.\n",
      " 62%|██████▏   | 123/200 [03:25<02:04,  1.61s/it]"
     ]
    },
    {
     "name": "stdout",
     "output_type": "stream",
     "text": [
      "WARNING:tensorflow:11 out of the last 11 calls to <function recreate_function.<locals>.restored_function_body at 0x7ff5c719d790> triggered tf.function retracing. Tracing is expensive and the excessive number of tracings could be due to (1) creating @tf.function repeatedly in a loop, (2) passing tensors with different shapes, (3) passing Python objects instead of tensors. For (1), please define your @tf.function outside of the loop. For (2), @tf.function has experimental_relax_shapes=True option that relaxes argument shapes that can avoid unnecessary retracing. For (3), please refer to https://www.tensorflow.org/guide/function#controlling_retracing and https://www.tensorflow.org/api_docs/python/tf/function for  more details.\n"
     ]
    },
    {
     "name": "stderr",
     "output_type": "stream",
     "text": [
      "WARNING:tensorflow:11 out of the last 11 calls to <function recreate_function.<locals>.restored_function_body at 0x7ff5c719d790> triggered tf.function retracing. Tracing is expensive and the excessive number of tracings could be due to (1) creating @tf.function repeatedly in a loop, (2) passing tensors with different shapes, (3) passing Python objects instead of tensors. For (1), please define your @tf.function outside of the loop. For (2), @tf.function has experimental_relax_shapes=True option that relaxes argument shapes that can avoid unnecessary retracing. For (3), please refer to https://www.tensorflow.org/guide/function#controlling_retracing and https://www.tensorflow.org/api_docs/python/tf/function for  more details.\n",
      " 62%|██████▏   | 124/200 [03:27<02:05,  1.66s/it]"
     ]
    },
    {
     "name": "stdout",
     "output_type": "stream",
     "text": [
      "WARNING:tensorflow:11 out of the last 11 calls to <function recreate_function.<locals>.restored_function_body at 0x7ff5c72244c0> triggered tf.function retracing. Tracing is expensive and the excessive number of tracings could be due to (1) creating @tf.function repeatedly in a loop, (2) passing tensors with different shapes, (3) passing Python objects instead of tensors. For (1), please define your @tf.function outside of the loop. For (2), @tf.function has experimental_relax_shapes=True option that relaxes argument shapes that can avoid unnecessary retracing. For (3), please refer to https://www.tensorflow.org/guide/function#controlling_retracing and https://www.tensorflow.org/api_docs/python/tf/function for  more details.\n"
     ]
    },
    {
     "name": "stderr",
     "output_type": "stream",
     "text": [
      "WARNING:tensorflow:11 out of the last 11 calls to <function recreate_function.<locals>.restored_function_body at 0x7ff5c72244c0> triggered tf.function retracing. Tracing is expensive and the excessive number of tracings could be due to (1) creating @tf.function repeatedly in a loop, (2) passing tensors with different shapes, (3) passing Python objects instead of tensors. For (1), please define your @tf.function outside of the loop. For (2), @tf.function has experimental_relax_shapes=True option that relaxes argument shapes that can avoid unnecessary retracing. For (3), please refer to https://www.tensorflow.org/guide/function#controlling_retracing and https://www.tensorflow.org/api_docs/python/tf/function for  more details.\n",
      " 62%|██████▎   | 125/200 [03:28<02:04,  1.66s/it]"
     ]
    },
    {
     "name": "stdout",
     "output_type": "stream",
     "text": [
      "WARNING:tensorflow:11 out of the last 11 calls to <function recreate_function.<locals>.restored_function_body at 0x7ff5c7306310> triggered tf.function retracing. Tracing is expensive and the excessive number of tracings could be due to (1) creating @tf.function repeatedly in a loop, (2) passing tensors with different shapes, (3) passing Python objects instead of tensors. For (1), please define your @tf.function outside of the loop. For (2), @tf.function has experimental_relax_shapes=True option that relaxes argument shapes that can avoid unnecessary retracing. For (3), please refer to https://www.tensorflow.org/guide/function#controlling_retracing and https://www.tensorflow.org/api_docs/python/tf/function for  more details.\n"
     ]
    },
    {
     "name": "stderr",
     "output_type": "stream",
     "text": [
      "WARNING:tensorflow:11 out of the last 11 calls to <function recreate_function.<locals>.restored_function_body at 0x7ff5c7306310> triggered tf.function retracing. Tracing is expensive and the excessive number of tracings could be due to (1) creating @tf.function repeatedly in a loop, (2) passing tensors with different shapes, (3) passing Python objects instead of tensors. For (1), please define your @tf.function outside of the loop. For (2), @tf.function has experimental_relax_shapes=True option that relaxes argument shapes that can avoid unnecessary retracing. For (3), please refer to https://www.tensorflow.org/guide/function#controlling_retracing and https://www.tensorflow.org/api_docs/python/tf/function for  more details.\n",
      " 63%|██████▎   | 126/200 [03:30<02:02,  1.66s/it]"
     ]
    },
    {
     "name": "stdout",
     "output_type": "stream",
     "text": [
      "WARNING:tensorflow:11 out of the last 11 calls to <function recreate_function.<locals>.restored_function_body at 0x7ff5c64bb1f0> triggered tf.function retracing. Tracing is expensive and the excessive number of tracings could be due to (1) creating @tf.function repeatedly in a loop, (2) passing tensors with different shapes, (3) passing Python objects instead of tensors. For (1), please define your @tf.function outside of the loop. For (2), @tf.function has experimental_relax_shapes=True option that relaxes argument shapes that can avoid unnecessary retracing. For (3), please refer to https://www.tensorflow.org/guide/function#controlling_retracing and https://www.tensorflow.org/api_docs/python/tf/function for  more details.\n"
     ]
    },
    {
     "name": "stderr",
     "output_type": "stream",
     "text": [
      "WARNING:tensorflow:11 out of the last 11 calls to <function recreate_function.<locals>.restored_function_body at 0x7ff5c64bb1f0> triggered tf.function retracing. Tracing is expensive and the excessive number of tracings could be due to (1) creating @tf.function repeatedly in a loop, (2) passing tensors with different shapes, (3) passing Python objects instead of tensors. For (1), please define your @tf.function outside of the loop. For (2), @tf.function has experimental_relax_shapes=True option that relaxes argument shapes that can avoid unnecessary retracing. For (3), please refer to https://www.tensorflow.org/guide/function#controlling_retracing and https://www.tensorflow.org/api_docs/python/tf/function for  more details.\n",
      " 64%|██████▎   | 127/200 [03:31<01:57,  1.61s/it]"
     ]
    },
    {
     "name": "stdout",
     "output_type": "stream",
     "text": [
      "WARNING:tensorflow:11 out of the last 11 calls to <function recreate_function.<locals>.restored_function_body at 0x7ff5c64bb940> triggered tf.function retracing. Tracing is expensive and the excessive number of tracings could be due to (1) creating @tf.function repeatedly in a loop, (2) passing tensors with different shapes, (3) passing Python objects instead of tensors. For (1), please define your @tf.function outside of the loop. For (2), @tf.function has experimental_relax_shapes=True option that relaxes argument shapes that can avoid unnecessary retracing. For (3), please refer to https://www.tensorflow.org/guide/function#controlling_retracing and https://www.tensorflow.org/api_docs/python/tf/function for  more details.\n"
     ]
    },
    {
     "name": "stderr",
     "output_type": "stream",
     "text": [
      "WARNING:tensorflow:11 out of the last 11 calls to <function recreate_function.<locals>.restored_function_body at 0x7ff5c64bb940> triggered tf.function retracing. Tracing is expensive and the excessive number of tracings could be due to (1) creating @tf.function repeatedly in a loop, (2) passing tensors with different shapes, (3) passing Python objects instead of tensors. For (1), please define your @tf.function outside of the loop. For (2), @tf.function has experimental_relax_shapes=True option that relaxes argument shapes that can avoid unnecessary retracing. For (3), please refer to https://www.tensorflow.org/guide/function#controlling_retracing and https://www.tensorflow.org/api_docs/python/tf/function for  more details.\n",
      " 64%|██████▍   | 128/200 [03:33<01:58,  1.65s/it]"
     ]
    },
    {
     "name": "stdout",
     "output_type": "stream",
     "text": [
      "WARNING:tensorflow:11 out of the last 11 calls to <function recreate_function.<locals>.restored_function_body at 0x7ff5c9b83670> triggered tf.function retracing. Tracing is expensive and the excessive number of tracings could be due to (1) creating @tf.function repeatedly in a loop, (2) passing tensors with different shapes, (3) passing Python objects instead of tensors. For (1), please define your @tf.function outside of the loop. For (2), @tf.function has experimental_relax_shapes=True option that relaxes argument shapes that can avoid unnecessary retracing. For (3), please refer to https://www.tensorflow.org/guide/function#controlling_retracing and https://www.tensorflow.org/api_docs/python/tf/function for  more details.\n"
     ]
    },
    {
     "name": "stderr",
     "output_type": "stream",
     "text": [
      "WARNING:tensorflow:11 out of the last 11 calls to <function recreate_function.<locals>.restored_function_body at 0x7ff5c9b83670> triggered tf.function retracing. Tracing is expensive and the excessive number of tracings could be due to (1) creating @tf.function repeatedly in a loop, (2) passing tensors with different shapes, (3) passing Python objects instead of tensors. For (1), please define your @tf.function outside of the loop. For (2), @tf.function has experimental_relax_shapes=True option that relaxes argument shapes that can avoid unnecessary retracing. For (3), please refer to https://www.tensorflow.org/guide/function#controlling_retracing and https://www.tensorflow.org/api_docs/python/tf/function for  more details.\n",
      " 64%|██████▍   | 129/200 [03:35<01:56,  1.64s/it]"
     ]
    },
    {
     "name": "stdout",
     "output_type": "stream",
     "text": [
      "WARNING:tensorflow:11 out of the last 11 calls to <function recreate_function.<locals>.restored_function_body at 0x7ff5c6f99310> triggered tf.function retracing. Tracing is expensive and the excessive number of tracings could be due to (1) creating @tf.function repeatedly in a loop, (2) passing tensors with different shapes, (3) passing Python objects instead of tensors. For (1), please define your @tf.function outside of the loop. For (2), @tf.function has experimental_relax_shapes=True option that relaxes argument shapes that can avoid unnecessary retracing. For (3), please refer to https://www.tensorflow.org/guide/function#controlling_retracing and https://www.tensorflow.org/api_docs/python/tf/function for  more details.\n"
     ]
    },
    {
     "name": "stderr",
     "output_type": "stream",
     "text": [
      "WARNING:tensorflow:11 out of the last 11 calls to <function recreate_function.<locals>.restored_function_body at 0x7ff5c6f99310> triggered tf.function retracing. Tracing is expensive and the excessive number of tracings could be due to (1) creating @tf.function repeatedly in a loop, (2) passing tensors with different shapes, (3) passing Python objects instead of tensors. For (1), please define your @tf.function outside of the loop. For (2), @tf.function has experimental_relax_shapes=True option that relaxes argument shapes that can avoid unnecessary retracing. For (3), please refer to https://www.tensorflow.org/guide/function#controlling_retracing and https://www.tensorflow.org/api_docs/python/tf/function for  more details.\n",
      " 65%|██████▌   | 130/200 [03:36<01:51,  1.59s/it]"
     ]
    },
    {
     "name": "stdout",
     "output_type": "stream",
     "text": [
      "WARNING:tensorflow:11 out of the last 11 calls to <function recreate_function.<locals>.restored_function_body at 0x7ff5c7068160> triggered tf.function retracing. Tracing is expensive and the excessive number of tracings could be due to (1) creating @tf.function repeatedly in a loop, (2) passing tensors with different shapes, (3) passing Python objects instead of tensors. For (1), please define your @tf.function outside of the loop. For (2), @tf.function has experimental_relax_shapes=True option that relaxes argument shapes that can avoid unnecessary retracing. For (3), please refer to https://www.tensorflow.org/guide/function#controlling_retracing and https://www.tensorflow.org/api_docs/python/tf/function for  more details.\n"
     ]
    },
    {
     "name": "stderr",
     "output_type": "stream",
     "text": [
      "WARNING:tensorflow:11 out of the last 11 calls to <function recreate_function.<locals>.restored_function_body at 0x7ff5c7068160> triggered tf.function retracing. Tracing is expensive and the excessive number of tracings could be due to (1) creating @tf.function repeatedly in a loop, (2) passing tensors with different shapes, (3) passing Python objects instead of tensors. For (1), please define your @tf.function outside of the loop. For (2), @tf.function has experimental_relax_shapes=True option that relaxes argument shapes that can avoid unnecessary retracing. For (3), please refer to https://www.tensorflow.org/guide/function#controlling_retracing and https://www.tensorflow.org/api_docs/python/tf/function for  more details.\n",
      " 66%|██████▌   | 131/200 [03:38<01:54,  1.65s/it]"
     ]
    },
    {
     "name": "stdout",
     "output_type": "stream",
     "text": [
      "WARNING:tensorflow:11 out of the last 11 calls to <function recreate_function.<locals>.restored_function_body at 0x7ff5e398e790> triggered tf.function retracing. Tracing is expensive and the excessive number of tracings could be due to (1) creating @tf.function repeatedly in a loop, (2) passing tensors with different shapes, (3) passing Python objects instead of tensors. For (1), please define your @tf.function outside of the loop. For (2), @tf.function has experimental_relax_shapes=True option that relaxes argument shapes that can avoid unnecessary retracing. For (3), please refer to https://www.tensorflow.org/guide/function#controlling_retracing and https://www.tensorflow.org/api_docs/python/tf/function for  more details.\n"
     ]
    },
    {
     "name": "stderr",
     "output_type": "stream",
     "text": [
      "WARNING:tensorflow:11 out of the last 11 calls to <function recreate_function.<locals>.restored_function_body at 0x7ff5e398e790> triggered tf.function retracing. Tracing is expensive and the excessive number of tracings could be due to (1) creating @tf.function repeatedly in a loop, (2) passing tensors with different shapes, (3) passing Python objects instead of tensors. For (1), please define your @tf.function outside of the loop. For (2), @tf.function has experimental_relax_shapes=True option that relaxes argument shapes that can avoid unnecessary retracing. For (3), please refer to https://www.tensorflow.org/guide/function#controlling_retracing and https://www.tensorflow.org/api_docs/python/tf/function for  more details.\n",
      " 66%|██████▌   | 132/200 [03:40<01:51,  1.65s/it]"
     ]
    },
    {
     "name": "stdout",
     "output_type": "stream",
     "text": [
      "WARNING:tensorflow:11 out of the last 11 calls to <function recreate_function.<locals>.restored_function_body at 0x7ff5c8012310> triggered tf.function retracing. Tracing is expensive and the excessive number of tracings could be due to (1) creating @tf.function repeatedly in a loop, (2) passing tensors with different shapes, (3) passing Python objects instead of tensors. For (1), please define your @tf.function outside of the loop. For (2), @tf.function has experimental_relax_shapes=True option that relaxes argument shapes that can avoid unnecessary retracing. For (3), please refer to https://www.tensorflow.org/guide/function#controlling_retracing and https://www.tensorflow.org/api_docs/python/tf/function for  more details.\n"
     ]
    },
    {
     "name": "stderr",
     "output_type": "stream",
     "text": [
      "WARNING:tensorflow:11 out of the last 11 calls to <function recreate_function.<locals>.restored_function_body at 0x7ff5c8012310> triggered tf.function retracing. Tracing is expensive and the excessive number of tracings could be due to (1) creating @tf.function repeatedly in a loop, (2) passing tensors with different shapes, (3) passing Python objects instead of tensors. For (1), please define your @tf.function outside of the loop. For (2), @tf.function has experimental_relax_shapes=True option that relaxes argument shapes that can avoid unnecessary retracing. For (3), please refer to https://www.tensorflow.org/guide/function#controlling_retracing and https://www.tensorflow.org/api_docs/python/tf/function for  more details.\n",
      " 66%|██████▋   | 133/200 [03:41<01:46,  1.60s/it]"
     ]
    },
    {
     "name": "stdout",
     "output_type": "stream",
     "text": [
      "WARNING:tensorflow:11 out of the last 11 calls to <function recreate_function.<locals>.restored_function_body at 0x7ff5c655e790> triggered tf.function retracing. Tracing is expensive and the excessive number of tracings could be due to (1) creating @tf.function repeatedly in a loop, (2) passing tensors with different shapes, (3) passing Python objects instead of tensors. For (1), please define your @tf.function outside of the loop. For (2), @tf.function has experimental_relax_shapes=True option that relaxes argument shapes that can avoid unnecessary retracing. For (3), please refer to https://www.tensorflow.org/guide/function#controlling_retracing and https://www.tensorflow.org/api_docs/python/tf/function for  more details.\n"
     ]
    },
    {
     "name": "stderr",
     "output_type": "stream",
     "text": [
      "WARNING:tensorflow:11 out of the last 11 calls to <function recreate_function.<locals>.restored_function_body at 0x7ff5c655e790> triggered tf.function retracing. Tracing is expensive and the excessive number of tracings could be due to (1) creating @tf.function repeatedly in a loop, (2) passing tensors with different shapes, (3) passing Python objects instead of tensors. For (1), please define your @tf.function outside of the loop. For (2), @tf.function has experimental_relax_shapes=True option that relaxes argument shapes that can avoid unnecessary retracing. For (3), please refer to https://www.tensorflow.org/guide/function#controlling_retracing and https://www.tensorflow.org/api_docs/python/tf/function for  more details.\n",
      " 67%|██████▋   | 134/200 [03:43<01:48,  1.64s/it]"
     ]
    },
    {
     "name": "stdout",
     "output_type": "stream",
     "text": [
      "WARNING:tensorflow:11 out of the last 11 calls to <function recreate_function.<locals>.restored_function_body at 0x7ff5e39fb280> triggered tf.function retracing. Tracing is expensive and the excessive number of tracings could be due to (1) creating @tf.function repeatedly in a loop, (2) passing tensors with different shapes, (3) passing Python objects instead of tensors. For (1), please define your @tf.function outside of the loop. For (2), @tf.function has experimental_relax_shapes=True option that relaxes argument shapes that can avoid unnecessary retracing. For (3), please refer to https://www.tensorflow.org/guide/function#controlling_retracing and https://www.tensorflow.org/api_docs/python/tf/function for  more details.\n"
     ]
    },
    {
     "name": "stderr",
     "output_type": "stream",
     "text": [
      "WARNING:tensorflow:11 out of the last 11 calls to <function recreate_function.<locals>.restored_function_body at 0x7ff5e39fb280> triggered tf.function retracing. Tracing is expensive and the excessive number of tracings could be due to (1) creating @tf.function repeatedly in a loop, (2) passing tensors with different shapes, (3) passing Python objects instead of tensors. For (1), please define your @tf.function outside of the loop. For (2), @tf.function has experimental_relax_shapes=True option that relaxes argument shapes that can avoid unnecessary retracing. For (3), please refer to https://www.tensorflow.org/guide/function#controlling_retracing and https://www.tensorflow.org/api_docs/python/tf/function for  more details.\n",
      " 68%|██████▊   | 135/200 [03:45<01:46,  1.64s/it]"
     ]
    },
    {
     "name": "stdout",
     "output_type": "stream",
     "text": [
      "WARNING:tensorflow:11 out of the last 11 calls to <function recreate_function.<locals>.restored_function_body at 0x7ff5c53c7310> triggered tf.function retracing. Tracing is expensive and the excessive number of tracings could be due to (1) creating @tf.function repeatedly in a loop, (2) passing tensors with different shapes, (3) passing Python objects instead of tensors. For (1), please define your @tf.function outside of the loop. For (2), @tf.function has experimental_relax_shapes=True option that relaxes argument shapes that can avoid unnecessary retracing. For (3), please refer to https://www.tensorflow.org/guide/function#controlling_retracing and https://www.tensorflow.org/api_docs/python/tf/function for  more details.\n"
     ]
    },
    {
     "name": "stderr",
     "output_type": "stream",
     "text": [
      "WARNING:tensorflow:11 out of the last 11 calls to <function recreate_function.<locals>.restored_function_body at 0x7ff5c53c7310> triggered tf.function retracing. Tracing is expensive and the excessive number of tracings could be due to (1) creating @tf.function repeatedly in a loop, (2) passing tensors with different shapes, (3) passing Python objects instead of tensors. For (1), please define your @tf.function outside of the loop. For (2), @tf.function has experimental_relax_shapes=True option that relaxes argument shapes that can avoid unnecessary retracing. For (3), please refer to https://www.tensorflow.org/guide/function#controlling_retracing and https://www.tensorflow.org/api_docs/python/tf/function for  more details.\n",
      " 68%|██████▊   | 136/200 [03:46<01:45,  1.64s/it]"
     ]
    },
    {
     "name": "stdout",
     "output_type": "stream",
     "text": [
      "WARNING:tensorflow:11 out of the last 11 calls to <function recreate_function.<locals>.restored_function_body at 0x7ff5c64e61f0> triggered tf.function retracing. Tracing is expensive and the excessive number of tracings could be due to (1) creating @tf.function repeatedly in a loop, (2) passing tensors with different shapes, (3) passing Python objects instead of tensors. For (1), please define your @tf.function outside of the loop. For (2), @tf.function has experimental_relax_shapes=True option that relaxes argument shapes that can avoid unnecessary retracing. For (3), please refer to https://www.tensorflow.org/guide/function#controlling_retracing and https://www.tensorflow.org/api_docs/python/tf/function for  more details.\n"
     ]
    },
    {
     "name": "stderr",
     "output_type": "stream",
     "text": [
      "WARNING:tensorflow:11 out of the last 11 calls to <function recreate_function.<locals>.restored_function_body at 0x7ff5c64e61f0> triggered tf.function retracing. Tracing is expensive and the excessive number of tracings could be due to (1) creating @tf.function repeatedly in a loop, (2) passing tensors with different shapes, (3) passing Python objects instead of tensors. For (1), please define your @tf.function outside of the loop. For (2), @tf.function has experimental_relax_shapes=True option that relaxes argument shapes that can avoid unnecessary retracing. For (3), please refer to https://www.tensorflow.org/guide/function#controlling_retracing and https://www.tensorflow.org/api_docs/python/tf/function for  more details.\n",
      " 68%|██████▊   | 137/200 [03:48<01:40,  1.60s/it]"
     ]
    },
    {
     "name": "stdout",
     "output_type": "stream",
     "text": [
      "WARNING:tensorflow:11 out of the last 11 calls to <function recreate_function.<locals>.restored_function_body at 0x7ff5c6f975e0> triggered tf.function retracing. Tracing is expensive and the excessive number of tracings could be due to (1) creating @tf.function repeatedly in a loop, (2) passing tensors with different shapes, (3) passing Python objects instead of tensors. For (1), please define your @tf.function outside of the loop. For (2), @tf.function has experimental_relax_shapes=True option that relaxes argument shapes that can avoid unnecessary retracing. For (3), please refer to https://www.tensorflow.org/guide/function#controlling_retracing and https://www.tensorflow.org/api_docs/python/tf/function for  more details.\n"
     ]
    },
    {
     "name": "stderr",
     "output_type": "stream",
     "text": [
      "WARNING:tensorflow:11 out of the last 11 calls to <function recreate_function.<locals>.restored_function_body at 0x7ff5c6f975e0> triggered tf.function retracing. Tracing is expensive and the excessive number of tracings could be due to (1) creating @tf.function repeatedly in a loop, (2) passing tensors with different shapes, (3) passing Python objects instead of tensors. For (1), please define your @tf.function outside of the loop. For (2), @tf.function has experimental_relax_shapes=True option that relaxes argument shapes that can avoid unnecessary retracing. For (3), please refer to https://www.tensorflow.org/guide/function#controlling_retracing and https://www.tensorflow.org/api_docs/python/tf/function for  more details.\n",
      " 69%|██████▉   | 138/200 [03:49<01:41,  1.63s/it]"
     ]
    },
    {
     "name": "stdout",
     "output_type": "stream",
     "text": [
      "WARNING:tensorflow:11 out of the last 11 calls to <function recreate_function.<locals>.restored_function_body at 0x7ff5e1d74040> triggered tf.function retracing. Tracing is expensive and the excessive number of tracings could be due to (1) creating @tf.function repeatedly in a loop, (2) passing tensors with different shapes, (3) passing Python objects instead of tensors. For (1), please define your @tf.function outside of the loop. For (2), @tf.function has experimental_relax_shapes=True option that relaxes argument shapes that can avoid unnecessary retracing. For (3), please refer to https://www.tensorflow.org/guide/function#controlling_retracing and https://www.tensorflow.org/api_docs/python/tf/function for  more details.\n"
     ]
    },
    {
     "name": "stderr",
     "output_type": "stream",
     "text": [
      "WARNING:tensorflow:11 out of the last 11 calls to <function recreate_function.<locals>.restored_function_body at 0x7ff5e1d74040> triggered tf.function retracing. Tracing is expensive and the excessive number of tracings could be due to (1) creating @tf.function repeatedly in a loop, (2) passing tensors with different shapes, (3) passing Python objects instead of tensors. For (1), please define your @tf.function outside of the loop. For (2), @tf.function has experimental_relax_shapes=True option that relaxes argument shapes that can avoid unnecessary retracing. For (3), please refer to https://www.tensorflow.org/guide/function#controlling_retracing and https://www.tensorflow.org/api_docs/python/tf/function for  more details.\n",
      " 70%|██████▉   | 139/200 [03:51<01:40,  1.64s/it]"
     ]
    },
    {
     "name": "stdout",
     "output_type": "stream",
     "text": [
      "WARNING:tensorflow:11 out of the last 11 calls to <function recreate_function.<locals>.restored_function_body at 0x7ff5e1e2e310> triggered tf.function retracing. Tracing is expensive and the excessive number of tracings could be due to (1) creating @tf.function repeatedly in a loop, (2) passing tensors with different shapes, (3) passing Python objects instead of tensors. For (1), please define your @tf.function outside of the loop. For (2), @tf.function has experimental_relax_shapes=True option that relaxes argument shapes that can avoid unnecessary retracing. For (3), please refer to https://www.tensorflow.org/guide/function#controlling_retracing and https://www.tensorflow.org/api_docs/python/tf/function for  more details.\n"
     ]
    },
    {
     "name": "stderr",
     "output_type": "stream",
     "text": [
      "WARNING:tensorflow:11 out of the last 11 calls to <function recreate_function.<locals>.restored_function_body at 0x7ff5e1e2e310> triggered tf.function retracing. Tracing is expensive and the excessive number of tracings could be due to (1) creating @tf.function repeatedly in a loop, (2) passing tensors with different shapes, (3) passing Python objects instead of tensors. For (1), please define your @tf.function outside of the loop. For (2), @tf.function has experimental_relax_shapes=True option that relaxes argument shapes that can avoid unnecessary retracing. For (3), please refer to https://www.tensorflow.org/guide/function#controlling_retracing and https://www.tensorflow.org/api_docs/python/tf/function for  more details.\n",
      " 70%|███████   | 140/200 [03:53<01:35,  1.59s/it]"
     ]
    },
    {
     "name": "stdout",
     "output_type": "stream",
     "text": [
      "WARNING:tensorflow:11 out of the last 11 calls to <function recreate_function.<locals>.restored_function_body at 0x7ff5c6525790> triggered tf.function retracing. Tracing is expensive and the excessive number of tracings could be due to (1) creating @tf.function repeatedly in a loop, (2) passing tensors with different shapes, (3) passing Python objects instead of tensors. For (1), please define your @tf.function outside of the loop. For (2), @tf.function has experimental_relax_shapes=True option that relaxes argument shapes that can avoid unnecessary retracing. For (3), please refer to https://www.tensorflow.org/guide/function#controlling_retracing and https://www.tensorflow.org/api_docs/python/tf/function for  more details.\n"
     ]
    },
    {
     "name": "stderr",
     "output_type": "stream",
     "text": [
      "WARNING:tensorflow:11 out of the last 11 calls to <function recreate_function.<locals>.restored_function_body at 0x7ff5c6525790> triggered tf.function retracing. Tracing is expensive and the excessive number of tracings could be due to (1) creating @tf.function repeatedly in a loop, (2) passing tensors with different shapes, (3) passing Python objects instead of tensors. For (1), please define your @tf.function outside of the loop. For (2), @tf.function has experimental_relax_shapes=True option that relaxes argument shapes that can avoid unnecessary retracing. For (3), please refer to https://www.tensorflow.org/guide/function#controlling_retracing and https://www.tensorflow.org/api_docs/python/tf/function for  more details.\n",
      " 70%|███████   | 141/200 [03:54<01:36,  1.64s/it]"
     ]
    },
    {
     "name": "stdout",
     "output_type": "stream",
     "text": [
      "WARNING:tensorflow:11 out of the last 11 calls to <function recreate_function.<locals>.restored_function_body at 0x7ff5c6449280> triggered tf.function retracing. Tracing is expensive and the excessive number of tracings could be due to (1) creating @tf.function repeatedly in a loop, (2) passing tensors with different shapes, (3) passing Python objects instead of tensors. For (1), please define your @tf.function outside of the loop. For (2), @tf.function has experimental_relax_shapes=True option that relaxes argument shapes that can avoid unnecessary retracing. For (3), please refer to https://www.tensorflow.org/guide/function#controlling_retracing and https://www.tensorflow.org/api_docs/python/tf/function for  more details.\n"
     ]
    },
    {
     "name": "stderr",
     "output_type": "stream",
     "text": [
      "WARNING:tensorflow:11 out of the last 11 calls to <function recreate_function.<locals>.restored_function_body at 0x7ff5c6449280> triggered tf.function retracing. Tracing is expensive and the excessive number of tracings could be due to (1) creating @tf.function repeatedly in a loop, (2) passing tensors with different shapes, (3) passing Python objects instead of tensors. For (1), please define your @tf.function outside of the loop. For (2), @tf.function has experimental_relax_shapes=True option that relaxes argument shapes that can avoid unnecessary retracing. For (3), please refer to https://www.tensorflow.org/guide/function#controlling_retracing and https://www.tensorflow.org/api_docs/python/tf/function for  more details.\n",
      " 71%|███████   | 142/200 [03:56<01:35,  1.64s/it]"
     ]
    },
    {
     "name": "stdout",
     "output_type": "stream",
     "text": [
      "WARNING:tensorflow:11 out of the last 11 calls to <function recreate_function.<locals>.restored_function_body at 0x7ff5c7234310> triggered tf.function retracing. Tracing is expensive and the excessive number of tracings could be due to (1) creating @tf.function repeatedly in a loop, (2) passing tensors with different shapes, (3) passing Python objects instead of tensors. For (1), please define your @tf.function outside of the loop. For (2), @tf.function has experimental_relax_shapes=True option that relaxes argument shapes that can avoid unnecessary retracing. For (3), please refer to https://www.tensorflow.org/guide/function#controlling_retracing and https://www.tensorflow.org/api_docs/python/tf/function for  more details.\n"
     ]
    },
    {
     "name": "stderr",
     "output_type": "stream",
     "text": [
      "WARNING:tensorflow:11 out of the last 11 calls to <function recreate_function.<locals>.restored_function_body at 0x7ff5c7234310> triggered tf.function retracing. Tracing is expensive and the excessive number of tracings could be due to (1) creating @tf.function repeatedly in a loop, (2) passing tensors with different shapes, (3) passing Python objects instead of tensors. For (1), please define your @tf.function outside of the loop. For (2), @tf.function has experimental_relax_shapes=True option that relaxes argument shapes that can avoid unnecessary retracing. For (3), please refer to https://www.tensorflow.org/guide/function#controlling_retracing and https://www.tensorflow.org/api_docs/python/tf/function for  more details.\n",
      " 72%|███████▏  | 143/200 [03:58<01:33,  1.64s/it]"
     ]
    },
    {
     "name": "stdout",
     "output_type": "stream",
     "text": [
      "WARNING:tensorflow:11 out of the last 11 calls to <function recreate_function.<locals>.restored_function_body at 0x7ff5c64571f0> triggered tf.function retracing. Tracing is expensive and the excessive number of tracings could be due to (1) creating @tf.function repeatedly in a loop, (2) passing tensors with different shapes, (3) passing Python objects instead of tensors. For (1), please define your @tf.function outside of the loop. For (2), @tf.function has experimental_relax_shapes=True option that relaxes argument shapes that can avoid unnecessary retracing. For (3), please refer to https://www.tensorflow.org/guide/function#controlling_retracing and https://www.tensorflow.org/api_docs/python/tf/function for  more details.\n"
     ]
    },
    {
     "name": "stderr",
     "output_type": "stream",
     "text": [
      "WARNING:tensorflow:11 out of the last 11 calls to <function recreate_function.<locals>.restored_function_body at 0x7ff5c64571f0> triggered tf.function retracing. Tracing is expensive and the excessive number of tracings could be due to (1) creating @tf.function repeatedly in a loop, (2) passing tensors with different shapes, (3) passing Python objects instead of tensors. For (1), please define your @tf.function outside of the loop. For (2), @tf.function has experimental_relax_shapes=True option that relaxes argument shapes that can avoid unnecessary retracing. For (3), please refer to https://www.tensorflow.org/guide/function#controlling_retracing and https://www.tensorflow.org/api_docs/python/tf/function for  more details.\n",
      " 72%|███████▏  | 144/200 [03:59<01:29,  1.59s/it]"
     ]
    },
    {
     "name": "stdout",
     "output_type": "stream",
     "text": [
      "WARNING:tensorflow:11 out of the last 11 calls to <function recreate_function.<locals>.restored_function_body at 0x7ff5e3e05b80> triggered tf.function retracing. Tracing is expensive and the excessive number of tracings could be due to (1) creating @tf.function repeatedly in a loop, (2) passing tensors with different shapes, (3) passing Python objects instead of tensors. For (1), please define your @tf.function outside of the loop. For (2), @tf.function has experimental_relax_shapes=True option that relaxes argument shapes that can avoid unnecessary retracing. For (3), please refer to https://www.tensorflow.org/guide/function#controlling_retracing and https://www.tensorflow.org/api_docs/python/tf/function for  more details.\n"
     ]
    },
    {
     "name": "stderr",
     "output_type": "stream",
     "text": [
      "WARNING:tensorflow:11 out of the last 11 calls to <function recreate_function.<locals>.restored_function_body at 0x7ff5e3e05b80> triggered tf.function retracing. Tracing is expensive and the excessive number of tracings could be due to (1) creating @tf.function repeatedly in a loop, (2) passing tensors with different shapes, (3) passing Python objects instead of tensors. For (1), please define your @tf.function outside of the loop. For (2), @tf.function has experimental_relax_shapes=True option that relaxes argument shapes that can avoid unnecessary retracing. For (3), please refer to https://www.tensorflow.org/guide/function#controlling_retracing and https://www.tensorflow.org/api_docs/python/tf/function for  more details.\n",
      " 72%|███████▎  | 145/200 [04:01<01:29,  1.63s/it]"
     ]
    },
    {
     "name": "stdout",
     "output_type": "stream",
     "text": [
      "WARNING:tensorflow:11 out of the last 11 calls to <function recreate_function.<locals>.restored_function_body at 0x7ff5e2f423a0> triggered tf.function retracing. Tracing is expensive and the excessive number of tracings could be due to (1) creating @tf.function repeatedly in a loop, (2) passing tensors with different shapes, (3) passing Python objects instead of tensors. For (1), please define your @tf.function outside of the loop. For (2), @tf.function has experimental_relax_shapes=True option that relaxes argument shapes that can avoid unnecessary retracing. For (3), please refer to https://www.tensorflow.org/guide/function#controlling_retracing and https://www.tensorflow.org/api_docs/python/tf/function for  more details.\n"
     ]
    },
    {
     "name": "stderr",
     "output_type": "stream",
     "text": [
      "WARNING:tensorflow:11 out of the last 11 calls to <function recreate_function.<locals>.restored_function_body at 0x7ff5e2f423a0> triggered tf.function retracing. Tracing is expensive and the excessive number of tracings could be due to (1) creating @tf.function repeatedly in a loop, (2) passing tensors with different shapes, (3) passing Python objects instead of tensors. For (1), please define your @tf.function outside of the loop. For (2), @tf.function has experimental_relax_shapes=True option that relaxes argument shapes that can avoid unnecessary retracing. For (3), please refer to https://www.tensorflow.org/guide/function#controlling_retracing and https://www.tensorflow.org/api_docs/python/tf/function for  more details.\n",
      " 73%|███████▎  | 146/200 [04:02<01:28,  1.64s/it]"
     ]
    },
    {
     "name": "stdout",
     "output_type": "stream",
     "text": [
      "WARNING:tensorflow:11 out of the last 11 calls to <function recreate_function.<locals>.restored_function_body at 0x7ff5c9793310> triggered tf.function retracing. Tracing is expensive and the excessive number of tracings could be due to (1) creating @tf.function repeatedly in a loop, (2) passing tensors with different shapes, (3) passing Python objects instead of tensors. For (1), please define your @tf.function outside of the loop. For (2), @tf.function has experimental_relax_shapes=True option that relaxes argument shapes that can avoid unnecessary retracing. For (3), please refer to https://www.tensorflow.org/guide/function#controlling_retracing and https://www.tensorflow.org/api_docs/python/tf/function for  more details.\n"
     ]
    },
    {
     "name": "stderr",
     "output_type": "stream",
     "text": [
      "WARNING:tensorflow:11 out of the last 11 calls to <function recreate_function.<locals>.restored_function_body at 0x7ff5c9793310> triggered tf.function retracing. Tracing is expensive and the excessive number of tracings could be due to (1) creating @tf.function repeatedly in a loop, (2) passing tensors with different shapes, (3) passing Python objects instead of tensors. For (1), please define your @tf.function outside of the loop. For (2), @tf.function has experimental_relax_shapes=True option that relaxes argument shapes that can avoid unnecessary retracing. For (3), please refer to https://www.tensorflow.org/guide/function#controlling_retracing and https://www.tensorflow.org/api_docs/python/tf/function for  more details.\n",
      " 74%|███████▎  | 147/200 [04:04<01:23,  1.58s/it]"
     ]
    },
    {
     "name": "stdout",
     "output_type": "stream",
     "text": [
      "WARNING:tensorflow:11 out of the last 11 calls to <function recreate_function.<locals>.restored_function_body at 0x7ff5c70095e0> triggered tf.function retracing. Tracing is expensive and the excessive number of tracings could be due to (1) creating @tf.function repeatedly in a loop, (2) passing tensors with different shapes, (3) passing Python objects instead of tensors. For (1), please define your @tf.function outside of the loop. For (2), @tf.function has experimental_relax_shapes=True option that relaxes argument shapes that can avoid unnecessary retracing. For (3), please refer to https://www.tensorflow.org/guide/function#controlling_retracing and https://www.tensorflow.org/api_docs/python/tf/function for  more details.\n"
     ]
    },
    {
     "name": "stderr",
     "output_type": "stream",
     "text": [
      "WARNING:tensorflow:11 out of the last 11 calls to <function recreate_function.<locals>.restored_function_body at 0x7ff5c70095e0> triggered tf.function retracing. Tracing is expensive and the excessive number of tracings could be due to (1) creating @tf.function repeatedly in a loop, (2) passing tensors with different shapes, (3) passing Python objects instead of tensors. For (1), please define your @tf.function outside of the loop. For (2), @tf.function has experimental_relax_shapes=True option that relaxes argument shapes that can avoid unnecessary retracing. For (3), please refer to https://www.tensorflow.org/guide/function#controlling_retracing and https://www.tensorflow.org/api_docs/python/tf/function for  more details.\n",
      " 74%|███████▍  | 148/200 [04:06<01:25,  1.64s/it]"
     ]
    },
    {
     "name": "stdout",
     "output_type": "stream",
     "text": [
      "WARNING:tensorflow:11 out of the last 11 calls to <function recreate_function.<locals>.restored_function_body at 0x7ff5c8aa2550> triggered tf.function retracing. Tracing is expensive and the excessive number of tracings could be due to (1) creating @tf.function repeatedly in a loop, (2) passing tensors with different shapes, (3) passing Python objects instead of tensors. For (1), please define your @tf.function outside of the loop. For (2), @tf.function has experimental_relax_shapes=True option that relaxes argument shapes that can avoid unnecessary retracing. For (3), please refer to https://www.tensorflow.org/guide/function#controlling_retracing and https://www.tensorflow.org/api_docs/python/tf/function for  more details.\n"
     ]
    },
    {
     "name": "stderr",
     "output_type": "stream",
     "text": [
      "WARNING:tensorflow:11 out of the last 11 calls to <function recreate_function.<locals>.restored_function_body at 0x7ff5c8aa2550> triggered tf.function retracing. Tracing is expensive and the excessive number of tracings could be due to (1) creating @tf.function repeatedly in a loop, (2) passing tensors with different shapes, (3) passing Python objects instead of tensors. For (1), please define your @tf.function outside of the loop. For (2), @tf.function has experimental_relax_shapes=True option that relaxes argument shapes that can avoid unnecessary retracing. For (3), please refer to https://www.tensorflow.org/guide/function#controlling_retracing and https://www.tensorflow.org/api_docs/python/tf/function for  more details.\n",
      " 74%|███████▍  | 149/200 [04:07<01:23,  1.64s/it]"
     ]
    },
    {
     "name": "stdout",
     "output_type": "stream",
     "text": [
      "WARNING:tensorflow:11 out of the last 11 calls to <function recreate_function.<locals>.restored_function_body at 0x7ff5c7414310> triggered tf.function retracing. Tracing is expensive and the excessive number of tracings could be due to (1) creating @tf.function repeatedly in a loop, (2) passing tensors with different shapes, (3) passing Python objects instead of tensors. For (1), please define your @tf.function outside of the loop. For (2), @tf.function has experimental_relax_shapes=True option that relaxes argument shapes that can avoid unnecessary retracing. For (3), please refer to https://www.tensorflow.org/guide/function#controlling_retracing and https://www.tensorflow.org/api_docs/python/tf/function for  more details.\n"
     ]
    },
    {
     "name": "stderr",
     "output_type": "stream",
     "text": [
      "WARNING:tensorflow:11 out of the last 11 calls to <function recreate_function.<locals>.restored_function_body at 0x7ff5c7414310> triggered tf.function retracing. Tracing is expensive and the excessive number of tracings could be due to (1) creating @tf.function repeatedly in a loop, (2) passing tensors with different shapes, (3) passing Python objects instead of tensors. For (1), please define your @tf.function outside of the loop. For (2), @tf.function has experimental_relax_shapes=True option that relaxes argument shapes that can avoid unnecessary retracing. For (3), please refer to https://www.tensorflow.org/guide/function#controlling_retracing and https://www.tensorflow.org/api_docs/python/tf/function for  more details.\n",
      " 75%|███████▌  | 150/200 [04:09<01:21,  1.64s/it]"
     ]
    },
    {
     "name": "stdout",
     "output_type": "stream",
     "text": [
      "WARNING:tensorflow:11 out of the last 11 calls to <function recreate_function.<locals>.restored_function_body at 0x7ff5c8abf1f0> triggered tf.function retracing. Tracing is expensive and the excessive number of tracings could be due to (1) creating @tf.function repeatedly in a loop, (2) passing tensors with different shapes, (3) passing Python objects instead of tensors. For (1), please define your @tf.function outside of the loop. For (2), @tf.function has experimental_relax_shapes=True option that relaxes argument shapes that can avoid unnecessary retracing. For (3), please refer to https://www.tensorflow.org/guide/function#controlling_retracing and https://www.tensorflow.org/api_docs/python/tf/function for  more details.\n"
     ]
    },
    {
     "name": "stderr",
     "output_type": "stream",
     "text": [
      "WARNING:tensorflow:11 out of the last 11 calls to <function recreate_function.<locals>.restored_function_body at 0x7ff5c8abf1f0> triggered tf.function retracing. Tracing is expensive and the excessive number of tracings could be due to (1) creating @tf.function repeatedly in a loop, (2) passing tensors with different shapes, (3) passing Python objects instead of tensors. For (1), please define your @tf.function outside of the loop. For (2), @tf.function has experimental_relax_shapes=True option that relaxes argument shapes that can avoid unnecessary retracing. For (3), please refer to https://www.tensorflow.org/guide/function#controlling_retracing and https://www.tensorflow.org/api_docs/python/tf/function for  more details.\n",
      " 76%|███████▌  | 151/200 [04:10<01:18,  1.59s/it]"
     ]
    },
    {
     "name": "stdout",
     "output_type": "stream",
     "text": [
      "WARNING:tensorflow:11 out of the last 11 calls to <function recreate_function.<locals>.restored_function_body at 0x7ff5c6e16040> triggered tf.function retracing. Tracing is expensive and the excessive number of tracings could be due to (1) creating @tf.function repeatedly in a loop, (2) passing tensors with different shapes, (3) passing Python objects instead of tensors. For (1), please define your @tf.function outside of the loop. For (2), @tf.function has experimental_relax_shapes=True option that relaxes argument shapes that can avoid unnecessary retracing. For (3), please refer to https://www.tensorflow.org/guide/function#controlling_retracing and https://www.tensorflow.org/api_docs/python/tf/function for  more details.\n"
     ]
    },
    {
     "name": "stderr",
     "output_type": "stream",
     "text": [
      "WARNING:tensorflow:11 out of the last 11 calls to <function recreate_function.<locals>.restored_function_body at 0x7ff5c6e16040> triggered tf.function retracing. Tracing is expensive and the excessive number of tracings could be due to (1) creating @tf.function repeatedly in a loop, (2) passing tensors with different shapes, (3) passing Python objects instead of tensors. For (1), please define your @tf.function outside of the loop. For (2), @tf.function has experimental_relax_shapes=True option that relaxes argument shapes that can avoid unnecessary retracing. For (3), please refer to https://www.tensorflow.org/guide/function#controlling_retracing and https://www.tensorflow.org/api_docs/python/tf/function for  more details.\n",
      " 76%|███████▌  | 152/200 [04:12<01:18,  1.64s/it]"
     ]
    },
    {
     "name": "stdout",
     "output_type": "stream",
     "text": [
      "WARNING:tensorflow:11 out of the last 11 calls to <function recreate_function.<locals>.restored_function_body at 0x7ff5c9b835e0> triggered tf.function retracing. Tracing is expensive and the excessive number of tracings could be due to (1) creating @tf.function repeatedly in a loop, (2) passing tensors with different shapes, (3) passing Python objects instead of tensors. For (1), please define your @tf.function outside of the loop. For (2), @tf.function has experimental_relax_shapes=True option that relaxes argument shapes that can avoid unnecessary retracing. For (3), please refer to https://www.tensorflow.org/guide/function#controlling_retracing and https://www.tensorflow.org/api_docs/python/tf/function for  more details.\n"
     ]
    },
    {
     "name": "stderr",
     "output_type": "stream",
     "text": [
      "WARNING:tensorflow:11 out of the last 11 calls to <function recreate_function.<locals>.restored_function_body at 0x7ff5c9b835e0> triggered tf.function retracing. Tracing is expensive and the excessive number of tracings could be due to (1) creating @tf.function repeatedly in a loop, (2) passing tensors with different shapes, (3) passing Python objects instead of tensors. For (1), please define your @tf.function outside of the loop. For (2), @tf.function has experimental_relax_shapes=True option that relaxes argument shapes that can avoid unnecessary retracing. For (3), please refer to https://www.tensorflow.org/guide/function#controlling_retracing and https://www.tensorflow.org/api_docs/python/tf/function for  more details.\n",
      " 76%|███████▋  | 153/200 [04:14<01:17,  1.64s/it]"
     ]
    },
    {
     "name": "stdout",
     "output_type": "stream",
     "text": [
      "WARNING:tensorflow:11 out of the last 11 calls to <function recreate_function.<locals>.restored_function_body at 0x7ff5c53dc310> triggered tf.function retracing. Tracing is expensive and the excessive number of tracings could be due to (1) creating @tf.function repeatedly in a loop, (2) passing tensors with different shapes, (3) passing Python objects instead of tensors. For (1), please define your @tf.function outside of the loop. For (2), @tf.function has experimental_relax_shapes=True option that relaxes argument shapes that can avoid unnecessary retracing. For (3), please refer to https://www.tensorflow.org/guide/function#controlling_retracing and https://www.tensorflow.org/api_docs/python/tf/function for  more details.\n"
     ]
    },
    {
     "name": "stderr",
     "output_type": "stream",
     "text": [
      "WARNING:tensorflow:11 out of the last 11 calls to <function recreate_function.<locals>.restored_function_body at 0x7ff5c53dc310> triggered tf.function retracing. Tracing is expensive and the excessive number of tracings could be due to (1) creating @tf.function repeatedly in a loop, (2) passing tensors with different shapes, (3) passing Python objects instead of tensors. For (1), please define your @tf.function outside of the loop. For (2), @tf.function has experimental_relax_shapes=True option that relaxes argument shapes that can avoid unnecessary retracing. For (3), please refer to https://www.tensorflow.org/guide/function#controlling_retracing and https://www.tensorflow.org/api_docs/python/tf/function for  more details.\n",
      " 77%|███████▋  | 154/200 [04:15<01:13,  1.60s/it]"
     ]
    },
    {
     "name": "stdout",
     "output_type": "stream",
     "text": [
      "WARNING:tensorflow:11 out of the last 11 calls to <function recreate_function.<locals>.restored_function_body at 0x7ff5c5310790> triggered tf.function retracing. Tracing is expensive and the excessive number of tracings could be due to (1) creating @tf.function repeatedly in a loop, (2) passing tensors with different shapes, (3) passing Python objects instead of tensors. For (1), please define your @tf.function outside of the loop. For (2), @tf.function has experimental_relax_shapes=True option that relaxes argument shapes that can avoid unnecessary retracing. For (3), please refer to https://www.tensorflow.org/guide/function#controlling_retracing and https://www.tensorflow.org/api_docs/python/tf/function for  more details.\n"
     ]
    },
    {
     "name": "stderr",
     "output_type": "stream",
     "text": [
      "WARNING:tensorflow:11 out of the last 11 calls to <function recreate_function.<locals>.restored_function_body at 0x7ff5c5310790> triggered tf.function retracing. Tracing is expensive and the excessive number of tracings could be due to (1) creating @tf.function repeatedly in a loop, (2) passing tensors with different shapes, (3) passing Python objects instead of tensors. For (1), please define your @tf.function outside of the loop. For (2), @tf.function has experimental_relax_shapes=True option that relaxes argument shapes that can avoid unnecessary retracing. For (3), please refer to https://www.tensorflow.org/guide/function#controlling_retracing and https://www.tensorflow.org/api_docs/python/tf/function for  more details.\n",
      " 78%|███████▊  | 155/200 [04:17<01:13,  1.63s/it]"
     ]
    },
    {
     "name": "stdout",
     "output_type": "stream",
     "text": [
      "WARNING:tensorflow:11 out of the last 11 calls to <function recreate_function.<locals>.restored_function_body at 0x7ff5c6e98550> triggered tf.function retracing. Tracing is expensive and the excessive number of tracings could be due to (1) creating @tf.function repeatedly in a loop, (2) passing tensors with different shapes, (3) passing Python objects instead of tensors. For (1), please define your @tf.function outside of the loop. For (2), @tf.function has experimental_relax_shapes=True option that relaxes argument shapes that can avoid unnecessary retracing. For (3), please refer to https://www.tensorflow.org/guide/function#controlling_retracing and https://www.tensorflow.org/api_docs/python/tf/function for  more details.\n"
     ]
    },
    {
     "name": "stderr",
     "output_type": "stream",
     "text": [
      "WARNING:tensorflow:11 out of the last 11 calls to <function recreate_function.<locals>.restored_function_body at 0x7ff5c6e98550> triggered tf.function retracing. Tracing is expensive and the excessive number of tracings could be due to (1) creating @tf.function repeatedly in a loop, (2) passing tensors with different shapes, (3) passing Python objects instead of tensors. For (1), please define your @tf.function outside of the loop. For (2), @tf.function has experimental_relax_shapes=True option that relaxes argument shapes that can avoid unnecessary retracing. For (3), please refer to https://www.tensorflow.org/guide/function#controlling_retracing and https://www.tensorflow.org/api_docs/python/tf/function for  more details.\n",
      " 78%|███████▊  | 156/200 [04:19<01:11,  1.63s/it]"
     ]
    },
    {
     "name": "stdout",
     "output_type": "stream",
     "text": [
      "WARNING:tensorflow:11 out of the last 11 calls to <function recreate_function.<locals>.restored_function_body at 0x7ff5c73e4310> triggered tf.function retracing. Tracing is expensive and the excessive number of tracings could be due to (1) creating @tf.function repeatedly in a loop, (2) passing tensors with different shapes, (3) passing Python objects instead of tensors. For (1), please define your @tf.function outside of the loop. For (2), @tf.function has experimental_relax_shapes=True option that relaxes argument shapes that can avoid unnecessary retracing. For (3), please refer to https://www.tensorflow.org/guide/function#controlling_retracing and https://www.tensorflow.org/api_docs/python/tf/function for  more details.\n"
     ]
    },
    {
     "name": "stderr",
     "output_type": "stream",
     "text": [
      "WARNING:tensorflow:11 out of the last 11 calls to <function recreate_function.<locals>.restored_function_body at 0x7ff5c73e4310> triggered tf.function retracing. Tracing is expensive and the excessive number of tracings could be due to (1) creating @tf.function repeatedly in a loop, (2) passing tensors with different shapes, (3) passing Python objects instead of tensors. For (1), please define your @tf.function outside of the loop. For (2), @tf.function has experimental_relax_shapes=True option that relaxes argument shapes that can avoid unnecessary retracing. For (3), please refer to https://www.tensorflow.org/guide/function#controlling_retracing and https://www.tensorflow.org/api_docs/python/tf/function for  more details.\n",
      " 78%|███████▊  | 157/200 [04:20<01:10,  1.65s/it]"
     ]
    },
    {
     "name": "stdout",
     "output_type": "stream",
     "text": [
      "WARNING:tensorflow:11 out of the last 11 calls to <function recreate_function.<locals>.restored_function_body at 0x7ff5c8a371f0> triggered tf.function retracing. Tracing is expensive and the excessive number of tracings could be due to (1) creating @tf.function repeatedly in a loop, (2) passing tensors with different shapes, (3) passing Python objects instead of tensors. For (1), please define your @tf.function outside of the loop. For (2), @tf.function has experimental_relax_shapes=True option that relaxes argument shapes that can avoid unnecessary retracing. For (3), please refer to https://www.tensorflow.org/guide/function#controlling_retracing and https://www.tensorflow.org/api_docs/python/tf/function for  more details.\n"
     ]
    },
    {
     "name": "stderr",
     "output_type": "stream",
     "text": [
      "WARNING:tensorflow:11 out of the last 11 calls to <function recreate_function.<locals>.restored_function_body at 0x7ff5c8a371f0> triggered tf.function retracing. Tracing is expensive and the excessive number of tracings could be due to (1) creating @tf.function repeatedly in a loop, (2) passing tensors with different shapes, (3) passing Python objects instead of tensors. For (1), please define your @tf.function outside of the loop. For (2), @tf.function has experimental_relax_shapes=True option that relaxes argument shapes that can avoid unnecessary retracing. For (3), please refer to https://www.tensorflow.org/guide/function#controlling_retracing and https://www.tensorflow.org/api_docs/python/tf/function for  more details.\n",
      " 79%|███████▉  | 158/200 [04:22<01:07,  1.62s/it]"
     ]
    },
    {
     "name": "stdout",
     "output_type": "stream",
     "text": [
      "WARNING:tensorflow:11 out of the last 11 calls to <function recreate_function.<locals>.restored_function_body at 0x7ff5c6e2db80> triggered tf.function retracing. Tracing is expensive and the excessive number of tracings could be due to (1) creating @tf.function repeatedly in a loop, (2) passing tensors with different shapes, (3) passing Python objects instead of tensors. For (1), please define your @tf.function outside of the loop. For (2), @tf.function has experimental_relax_shapes=True option that relaxes argument shapes that can avoid unnecessary retracing. For (3), please refer to https://www.tensorflow.org/guide/function#controlling_retracing and https://www.tensorflow.org/api_docs/python/tf/function for  more details.\n"
     ]
    },
    {
     "name": "stderr",
     "output_type": "stream",
     "text": [
      "WARNING:tensorflow:11 out of the last 11 calls to <function recreate_function.<locals>.restored_function_body at 0x7ff5c6e2db80> triggered tf.function retracing. Tracing is expensive and the excessive number of tracings could be due to (1) creating @tf.function repeatedly in a loop, (2) passing tensors with different shapes, (3) passing Python objects instead of tensors. For (1), please define your @tf.function outside of the loop. For (2), @tf.function has experimental_relax_shapes=True option that relaxes argument shapes that can avoid unnecessary retracing. For (3), please refer to https://www.tensorflow.org/guide/function#controlling_retracing and https://www.tensorflow.org/api_docs/python/tf/function for  more details.\n",
      " 80%|███████▉  | 159/200 [04:24<01:07,  1.65s/it]"
     ]
    },
    {
     "name": "stdout",
     "output_type": "stream",
     "text": [
      "WARNING:tensorflow:11 out of the last 11 calls to <function recreate_function.<locals>.restored_function_body at 0x7ff5e1d2af70> triggered tf.function retracing. Tracing is expensive and the excessive number of tracings could be due to (1) creating @tf.function repeatedly in a loop, (2) passing tensors with different shapes, (3) passing Python objects instead of tensors. For (1), please define your @tf.function outside of the loop. For (2), @tf.function has experimental_relax_shapes=True option that relaxes argument shapes that can avoid unnecessary retracing. For (3), please refer to https://www.tensorflow.org/guide/function#controlling_retracing and https://www.tensorflow.org/api_docs/python/tf/function for  more details.\n"
     ]
    },
    {
     "name": "stderr",
     "output_type": "stream",
     "text": [
      "WARNING:tensorflow:11 out of the last 11 calls to <function recreate_function.<locals>.restored_function_body at 0x7ff5e1d2af70> triggered tf.function retracing. Tracing is expensive and the excessive number of tracings could be due to (1) creating @tf.function repeatedly in a loop, (2) passing tensors with different shapes, (3) passing Python objects instead of tensors. For (1), please define your @tf.function outside of the loop. For (2), @tf.function has experimental_relax_shapes=True option that relaxes argument shapes that can avoid unnecessary retracing. For (3), please refer to https://www.tensorflow.org/guide/function#controlling_retracing and https://www.tensorflow.org/api_docs/python/tf/function for  more details.\n",
      " 80%|████████  | 160/200 [04:25<01:06,  1.67s/it]"
     ]
    },
    {
     "name": "stdout",
     "output_type": "stream",
     "text": [
      "WARNING:tensorflow:11 out of the last 11 calls to <function recreate_function.<locals>.restored_function_body at 0x7ff5c70df310> triggered tf.function retracing. Tracing is expensive and the excessive number of tracings could be due to (1) creating @tf.function repeatedly in a loop, (2) passing tensors with different shapes, (3) passing Python objects instead of tensors. For (1), please define your @tf.function outside of the loop. For (2), @tf.function has experimental_relax_shapes=True option that relaxes argument shapes that can avoid unnecessary retracing. For (3), please refer to https://www.tensorflow.org/guide/function#controlling_retracing and https://www.tensorflow.org/api_docs/python/tf/function for  more details.\n"
     ]
    },
    {
     "name": "stderr",
     "output_type": "stream",
     "text": [
      "WARNING:tensorflow:11 out of the last 11 calls to <function recreate_function.<locals>.restored_function_body at 0x7ff5c70df310> triggered tf.function retracing. Tracing is expensive and the excessive number of tracings could be due to (1) creating @tf.function repeatedly in a loop, (2) passing tensors with different shapes, (3) passing Python objects instead of tensors. For (1), please define your @tf.function outside of the loop. For (2), @tf.function has experimental_relax_shapes=True option that relaxes argument shapes that can avoid unnecessary retracing. For (3), please refer to https://www.tensorflow.org/guide/function#controlling_retracing and https://www.tensorflow.org/api_docs/python/tf/function for  more details.\n",
      " 80%|████████  | 161/200 [04:27<01:03,  1.62s/it]"
     ]
    },
    {
     "name": "stdout",
     "output_type": "stream",
     "text": [
      "WARNING:tensorflow:11 out of the last 11 calls to <function recreate_function.<locals>.restored_function_body at 0x7ff5c76f7790> triggered tf.function retracing. Tracing is expensive and the excessive number of tracings could be due to (1) creating @tf.function repeatedly in a loop, (2) passing tensors with different shapes, (3) passing Python objects instead of tensors. For (1), please define your @tf.function outside of the loop. For (2), @tf.function has experimental_relax_shapes=True option that relaxes argument shapes that can avoid unnecessary retracing. For (3), please refer to https://www.tensorflow.org/guide/function#controlling_retracing and https://www.tensorflow.org/api_docs/python/tf/function for  more details.\n"
     ]
    },
    {
     "name": "stderr",
     "output_type": "stream",
     "text": [
      "WARNING:tensorflow:11 out of the last 11 calls to <function recreate_function.<locals>.restored_function_body at 0x7ff5c76f7790> triggered tf.function retracing. Tracing is expensive and the excessive number of tracings could be due to (1) creating @tf.function repeatedly in a loop, (2) passing tensors with different shapes, (3) passing Python objects instead of tensors. For (1), please define your @tf.function outside of the loop. For (2), @tf.function has experimental_relax_shapes=True option that relaxes argument shapes that can avoid unnecessary retracing. For (3), please refer to https://www.tensorflow.org/guide/function#controlling_retracing and https://www.tensorflow.org/api_docs/python/tf/function for  more details.\n",
      " 81%|████████  | 162/200 [04:29<01:02,  1.65s/it]"
     ]
    },
    {
     "name": "stdout",
     "output_type": "stream",
     "text": [
      "WARNING:tensorflow:11 out of the last 11 calls to <function recreate_function.<locals>.restored_function_body at 0x7ff5e1e0b550> triggered tf.function retracing. Tracing is expensive and the excessive number of tracings could be due to (1) creating @tf.function repeatedly in a loop, (2) passing tensors with different shapes, (3) passing Python objects instead of tensors. For (1), please define your @tf.function outside of the loop. For (2), @tf.function has experimental_relax_shapes=True option that relaxes argument shapes that can avoid unnecessary retracing. For (3), please refer to https://www.tensorflow.org/guide/function#controlling_retracing and https://www.tensorflow.org/api_docs/python/tf/function for  more details.\n"
     ]
    },
    {
     "name": "stderr",
     "output_type": "stream",
     "text": [
      "WARNING:tensorflow:11 out of the last 11 calls to <function recreate_function.<locals>.restored_function_body at 0x7ff5e1e0b550> triggered tf.function retracing. Tracing is expensive and the excessive number of tracings could be due to (1) creating @tf.function repeatedly in a loop, (2) passing tensors with different shapes, (3) passing Python objects instead of tensors. For (1), please define your @tf.function outside of the loop. For (2), @tf.function has experimental_relax_shapes=True option that relaxes argument shapes that can avoid unnecessary retracing. For (3), please refer to https://www.tensorflow.org/guide/function#controlling_retracing and https://www.tensorflow.org/api_docs/python/tf/function for  more details.\n",
      " 82%|████████▏ | 163/200 [04:30<01:00,  1.64s/it]"
     ]
    },
    {
     "name": "stdout",
     "output_type": "stream",
     "text": [
      "WARNING:tensorflow:11 out of the last 11 calls to <function recreate_function.<locals>.restored_function_body at 0x7ff5c708a310> triggered tf.function retracing. Tracing is expensive and the excessive number of tracings could be due to (1) creating @tf.function repeatedly in a loop, (2) passing tensors with different shapes, (3) passing Python objects instead of tensors. For (1), please define your @tf.function outside of the loop. For (2), @tf.function has experimental_relax_shapes=True option that relaxes argument shapes that can avoid unnecessary retracing. For (3), please refer to https://www.tensorflow.org/guide/function#controlling_retracing and https://www.tensorflow.org/api_docs/python/tf/function for  more details.\n"
     ]
    },
    {
     "name": "stderr",
     "output_type": "stream",
     "text": [
      "WARNING:tensorflow:11 out of the last 11 calls to <function recreate_function.<locals>.restored_function_body at 0x7ff5c708a310> triggered tf.function retracing. Tracing is expensive and the excessive number of tracings could be due to (1) creating @tf.function repeatedly in a loop, (2) passing tensors with different shapes, (3) passing Python objects instead of tensors. For (1), please define your @tf.function outside of the loop. For (2), @tf.function has experimental_relax_shapes=True option that relaxes argument shapes that can avoid unnecessary retracing. For (3), please refer to https://www.tensorflow.org/guide/function#controlling_retracing and https://www.tensorflow.org/api_docs/python/tf/function for  more details.\n",
      " 82%|████████▏ | 164/200 [04:32<00:56,  1.58s/it]"
     ]
    },
    {
     "name": "stdout",
     "output_type": "stream",
     "text": [
      "WARNING:tensorflow:11 out of the last 11 calls to <function recreate_function.<locals>.restored_function_body at 0x7ff5c729a790> triggered tf.function retracing. Tracing is expensive and the excessive number of tracings could be due to (1) creating @tf.function repeatedly in a loop, (2) passing tensors with different shapes, (3) passing Python objects instead of tensors. For (1), please define your @tf.function outside of the loop. For (2), @tf.function has experimental_relax_shapes=True option that relaxes argument shapes that can avoid unnecessary retracing. For (3), please refer to https://www.tensorflow.org/guide/function#controlling_retracing and https://www.tensorflow.org/api_docs/python/tf/function for  more details.\n"
     ]
    },
    {
     "name": "stderr",
     "output_type": "stream",
     "text": [
      "WARNING:tensorflow:11 out of the last 11 calls to <function recreate_function.<locals>.restored_function_body at 0x7ff5c729a790> triggered tf.function retracing. Tracing is expensive and the excessive number of tracings could be due to (1) creating @tf.function repeatedly in a loop, (2) passing tensors with different shapes, (3) passing Python objects instead of tensors. For (1), please define your @tf.function outside of the loop. For (2), @tf.function has experimental_relax_shapes=True option that relaxes argument shapes that can avoid unnecessary retracing. For (3), please refer to https://www.tensorflow.org/guide/function#controlling_retracing and https://www.tensorflow.org/api_docs/python/tf/function for  more details.\n",
      " 82%|████████▎ | 165/200 [04:33<00:56,  1.63s/it]"
     ]
    },
    {
     "name": "stdout",
     "output_type": "stream",
     "text": [
      "WARNING:tensorflow:11 out of the last 11 calls to <function recreate_function.<locals>.restored_function_body at 0x7ff5e0eebca0> triggered tf.function retracing. Tracing is expensive and the excessive number of tracings could be due to (1) creating @tf.function repeatedly in a loop, (2) passing tensors with different shapes, (3) passing Python objects instead of tensors. For (1), please define your @tf.function outside of the loop. For (2), @tf.function has experimental_relax_shapes=True option that relaxes argument shapes that can avoid unnecessary retracing. For (3), please refer to https://www.tensorflow.org/guide/function#controlling_retracing and https://www.tensorflow.org/api_docs/python/tf/function for  more details.\n"
     ]
    },
    {
     "name": "stderr",
     "output_type": "stream",
     "text": [
      "WARNING:tensorflow:11 out of the last 11 calls to <function recreate_function.<locals>.restored_function_body at 0x7ff5e0eebca0> triggered tf.function retracing. Tracing is expensive and the excessive number of tracings could be due to (1) creating @tf.function repeatedly in a loop, (2) passing tensors with different shapes, (3) passing Python objects instead of tensors. For (1), please define your @tf.function outside of the loop. For (2), @tf.function has experimental_relax_shapes=True option that relaxes argument shapes that can avoid unnecessary retracing. For (3), please refer to https://www.tensorflow.org/guide/function#controlling_retracing and https://www.tensorflow.org/api_docs/python/tf/function for  more details.\n",
      " 83%|████████▎ | 166/200 [04:35<00:55,  1.63s/it]"
     ]
    },
    {
     "name": "stdout",
     "output_type": "stream",
     "text": [
      "WARNING:tensorflow:11 out of the last 11 calls to <function recreate_function.<locals>.restored_function_body at 0x7ff5c71bbaf0> triggered tf.function retracing. Tracing is expensive and the excessive number of tracings could be due to (1) creating @tf.function repeatedly in a loop, (2) passing tensors with different shapes, (3) passing Python objects instead of tensors. For (1), please define your @tf.function outside of the loop. For (2), @tf.function has experimental_relax_shapes=True option that relaxes argument shapes that can avoid unnecessary retracing. For (3), please refer to https://www.tensorflow.org/guide/function#controlling_retracing and https://www.tensorflow.org/api_docs/python/tf/function for  more details.\n"
     ]
    },
    {
     "name": "stderr",
     "output_type": "stream",
     "text": [
      "WARNING:tensorflow:11 out of the last 11 calls to <function recreate_function.<locals>.restored_function_body at 0x7ff5c71bbaf0> triggered tf.function retracing. Tracing is expensive and the excessive number of tracings could be due to (1) creating @tf.function repeatedly in a loop, (2) passing tensors with different shapes, (3) passing Python objects instead of tensors. For (1), please define your @tf.function outside of the loop. For (2), @tf.function has experimental_relax_shapes=True option that relaxes argument shapes that can avoid unnecessary retracing. For (3), please refer to https://www.tensorflow.org/guide/function#controlling_retracing and https://www.tensorflow.org/api_docs/python/tf/function for  more details.\n",
      " 84%|████████▎ | 167/200 [04:37<00:53,  1.63s/it]"
     ]
    },
    {
     "name": "stdout",
     "output_type": "stream",
     "text": [
      "WARNING:tensorflow:11 out of the last 11 calls to <function recreate_function.<locals>.restored_function_body at 0x7ff5c9aae310> triggered tf.function retracing. Tracing is expensive and the excessive number of tracings could be due to (1) creating @tf.function repeatedly in a loop, (2) passing tensors with different shapes, (3) passing Python objects instead of tensors. For (1), please define your @tf.function outside of the loop. For (2), @tf.function has experimental_relax_shapes=True option that relaxes argument shapes that can avoid unnecessary retracing. For (3), please refer to https://www.tensorflow.org/guide/function#controlling_retracing and https://www.tensorflow.org/api_docs/python/tf/function for  more details.\n"
     ]
    },
    {
     "name": "stderr",
     "output_type": "stream",
     "text": [
      "WARNING:tensorflow:11 out of the last 11 calls to <function recreate_function.<locals>.restored_function_body at 0x7ff5c9aae310> triggered tf.function retracing. Tracing is expensive and the excessive number of tracings could be due to (1) creating @tf.function repeatedly in a loop, (2) passing tensors with different shapes, (3) passing Python objects instead of tensors. For (1), please define your @tf.function outside of the loop. For (2), @tf.function has experimental_relax_shapes=True option that relaxes argument shapes that can avoid unnecessary retracing. For (3), please refer to https://www.tensorflow.org/guide/function#controlling_retracing and https://www.tensorflow.org/api_docs/python/tf/function for  more details.\n",
      " 84%|████████▍ | 168/200 [04:38<00:50,  1.59s/it]"
     ]
    },
    {
     "name": "stdout",
     "output_type": "stream",
     "text": [
      "WARNING:tensorflow:11 out of the last 11 calls to <function recreate_function.<locals>.restored_function_body at 0x7ff5c8a9b940> triggered tf.function retracing. Tracing is expensive and the excessive number of tracings could be due to (1) creating @tf.function repeatedly in a loop, (2) passing tensors with different shapes, (3) passing Python objects instead of tensors. For (1), please define your @tf.function outside of the loop. For (2), @tf.function has experimental_relax_shapes=True option that relaxes argument shapes that can avoid unnecessary retracing. For (3), please refer to https://www.tensorflow.org/guide/function#controlling_retracing and https://www.tensorflow.org/api_docs/python/tf/function for  more details.\n"
     ]
    },
    {
     "name": "stderr",
     "output_type": "stream",
     "text": [
      "WARNING:tensorflow:11 out of the last 11 calls to <function recreate_function.<locals>.restored_function_body at 0x7ff5c8a9b940> triggered tf.function retracing. Tracing is expensive and the excessive number of tracings could be due to (1) creating @tf.function repeatedly in a loop, (2) passing tensors with different shapes, (3) passing Python objects instead of tensors. For (1), please define your @tf.function outside of the loop. For (2), @tf.function has experimental_relax_shapes=True option that relaxes argument shapes that can avoid unnecessary retracing. For (3), please refer to https://www.tensorflow.org/guide/function#controlling_retracing and https://www.tensorflow.org/api_docs/python/tf/function for  more details.\n",
      " 84%|████████▍ | 169/200 [04:40<00:50,  1.64s/it]"
     ]
    },
    {
     "name": "stdout",
     "output_type": "stream",
     "text": [
      "WARNING:tensorflow:11 out of the last 11 calls to <function recreate_function.<locals>.restored_function_body at 0x7ff5c7142550> triggered tf.function retracing. Tracing is expensive and the excessive number of tracings could be due to (1) creating @tf.function repeatedly in a loop, (2) passing tensors with different shapes, (3) passing Python objects instead of tensors. For (1), please define your @tf.function outside of the loop. For (2), @tf.function has experimental_relax_shapes=True option that relaxes argument shapes that can avoid unnecessary retracing. For (3), please refer to https://www.tensorflow.org/guide/function#controlling_retracing and https://www.tensorflow.org/api_docs/python/tf/function for  more details.\n"
     ]
    },
    {
     "name": "stderr",
     "output_type": "stream",
     "text": [
      "WARNING:tensorflow:11 out of the last 11 calls to <function recreate_function.<locals>.restored_function_body at 0x7ff5c7142550> triggered tf.function retracing. Tracing is expensive and the excessive number of tracings could be due to (1) creating @tf.function repeatedly in a loop, (2) passing tensors with different shapes, (3) passing Python objects instead of tensors. For (1), please define your @tf.function outside of the loop. For (2), @tf.function has experimental_relax_shapes=True option that relaxes argument shapes that can avoid unnecessary retracing. For (3), please refer to https://www.tensorflow.org/guide/function#controlling_retracing and https://www.tensorflow.org/api_docs/python/tf/function for  more details.\n",
      " 85%|████████▌ | 170/200 [04:41<00:48,  1.63s/it]"
     ]
    },
    {
     "name": "stdout",
     "output_type": "stream",
     "text": [
      "WARNING:tensorflow:11 out of the last 11 calls to <function recreate_function.<locals>.restored_function_body at 0x7ff5c9aa7310> triggered tf.function retracing. Tracing is expensive and the excessive number of tracings could be due to (1) creating @tf.function repeatedly in a loop, (2) passing tensors with different shapes, (3) passing Python objects instead of tensors. For (1), please define your @tf.function outside of the loop. For (2), @tf.function has experimental_relax_shapes=True option that relaxes argument shapes that can avoid unnecessary retracing. For (3), please refer to https://www.tensorflow.org/guide/function#controlling_retracing and https://www.tensorflow.org/api_docs/python/tf/function for  more details.\n"
     ]
    },
    {
     "name": "stderr",
     "output_type": "stream",
     "text": [
      "WARNING:tensorflow:11 out of the last 11 calls to <function recreate_function.<locals>.restored_function_body at 0x7ff5c9aa7310> triggered tf.function retracing. Tracing is expensive and the excessive number of tracings could be due to (1) creating @tf.function repeatedly in a loop, (2) passing tensors with different shapes, (3) passing Python objects instead of tensors. For (1), please define your @tf.function outside of the loop. For (2), @tf.function has experimental_relax_shapes=True option that relaxes argument shapes that can avoid unnecessary retracing. For (3), please refer to https://www.tensorflow.org/guide/function#controlling_retracing and https://www.tensorflow.org/api_docs/python/tf/function for  more details.\n",
      " 86%|████████▌ | 171/200 [04:43<00:45,  1.57s/it]"
     ]
    },
    {
     "name": "stdout",
     "output_type": "stream",
     "text": [
      "WARNING:tensorflow:11 out of the last 11 calls to <function recreate_function.<locals>.restored_function_body at 0x7ff5c7492790> triggered tf.function retracing. Tracing is expensive and the excessive number of tracings could be due to (1) creating @tf.function repeatedly in a loop, (2) passing tensors with different shapes, (3) passing Python objects instead of tensors. For (1), please define your @tf.function outside of the loop. For (2), @tf.function has experimental_relax_shapes=True option that relaxes argument shapes that can avoid unnecessary retracing. For (3), please refer to https://www.tensorflow.org/guide/function#controlling_retracing and https://www.tensorflow.org/api_docs/python/tf/function for  more details.\n"
     ]
    },
    {
     "name": "stderr",
     "output_type": "stream",
     "text": [
      "WARNING:tensorflow:11 out of the last 11 calls to <function recreate_function.<locals>.restored_function_body at 0x7ff5c7492790> triggered tf.function retracing. Tracing is expensive and the excessive number of tracings could be due to (1) creating @tf.function repeatedly in a loop, (2) passing tensors with different shapes, (3) passing Python objects instead of tensors. For (1), please define your @tf.function outside of the loop. For (2), @tf.function has experimental_relax_shapes=True option that relaxes argument shapes that can avoid unnecessary retracing. For (3), please refer to https://www.tensorflow.org/guide/function#controlling_retracing and https://www.tensorflow.org/api_docs/python/tf/function for  more details.\n",
      " 86%|████████▌ | 172/200 [04:45<00:45,  1.61s/it]"
     ]
    },
    {
     "name": "stdout",
     "output_type": "stream",
     "text": [
      "WARNING:tensorflow:11 out of the last 11 calls to <function recreate_function.<locals>.restored_function_body at 0x7ff5c7b384c0> triggered tf.function retracing. Tracing is expensive and the excessive number of tracings could be due to (1) creating @tf.function repeatedly in a loop, (2) passing tensors with different shapes, (3) passing Python objects instead of tensors. For (1), please define your @tf.function outside of the loop. For (2), @tf.function has experimental_relax_shapes=True option that relaxes argument shapes that can avoid unnecessary retracing. For (3), please refer to https://www.tensorflow.org/guide/function#controlling_retracing and https://www.tensorflow.org/api_docs/python/tf/function for  more details.\n"
     ]
    },
    {
     "name": "stderr",
     "output_type": "stream",
     "text": [
      "WARNING:tensorflow:11 out of the last 11 calls to <function recreate_function.<locals>.restored_function_body at 0x7ff5c7b384c0> triggered tf.function retracing. Tracing is expensive and the excessive number of tracings could be due to (1) creating @tf.function repeatedly in a loop, (2) passing tensors with different shapes, (3) passing Python objects instead of tensors. For (1), please define your @tf.function outside of the loop. For (2), @tf.function has experimental_relax_shapes=True option that relaxes argument shapes that can avoid unnecessary retracing. For (3), please refer to https://www.tensorflow.org/guide/function#controlling_retracing and https://www.tensorflow.org/api_docs/python/tf/function for  more details.\n",
      " 86%|████████▋ | 173/200 [04:46<00:43,  1.62s/it]"
     ]
    },
    {
     "name": "stdout",
     "output_type": "stream",
     "text": [
      "WARNING:tensorflow:11 out of the last 11 calls to <function recreate_function.<locals>.restored_function_body at 0x7ff5c741c310> triggered tf.function retracing. Tracing is expensive and the excessive number of tracings could be due to (1) creating @tf.function repeatedly in a loop, (2) passing tensors with different shapes, (3) passing Python objects instead of tensors. For (1), please define your @tf.function outside of the loop. For (2), @tf.function has experimental_relax_shapes=True option that relaxes argument shapes that can avoid unnecessary retracing. For (3), please refer to https://www.tensorflow.org/guide/function#controlling_retracing and https://www.tensorflow.org/api_docs/python/tf/function for  more details.\n"
     ]
    },
    {
     "name": "stderr",
     "output_type": "stream",
     "text": [
      "WARNING:tensorflow:11 out of the last 11 calls to <function recreate_function.<locals>.restored_function_body at 0x7ff5c741c310> triggered tf.function retracing. Tracing is expensive and the excessive number of tracings could be due to (1) creating @tf.function repeatedly in a loop, (2) passing tensors with different shapes, (3) passing Python objects instead of tensors. For (1), please define your @tf.function outside of the loop. For (2), @tf.function has experimental_relax_shapes=True option that relaxes argument shapes that can avoid unnecessary retracing. For (3), please refer to https://www.tensorflow.org/guide/function#controlling_retracing and https://www.tensorflow.org/api_docs/python/tf/function for  more details.\n",
      " 87%|████████▋ | 174/200 [04:48<00:42,  1.63s/it]"
     ]
    },
    {
     "name": "stdout",
     "output_type": "stream",
     "text": [
      "WARNING:tensorflow:11 out of the last 11 calls to <function recreate_function.<locals>.restored_function_body at 0x7ff5c74e91f0> triggered tf.function retracing. Tracing is expensive and the excessive number of tracings could be due to (1) creating @tf.function repeatedly in a loop, (2) passing tensors with different shapes, (3) passing Python objects instead of tensors. For (1), please define your @tf.function outside of the loop. For (2), @tf.function has experimental_relax_shapes=True option that relaxes argument shapes that can avoid unnecessary retracing. For (3), please refer to https://www.tensorflow.org/guide/function#controlling_retracing and https://www.tensorflow.org/api_docs/python/tf/function for  more details.\n"
     ]
    },
    {
     "name": "stderr",
     "output_type": "stream",
     "text": [
      "WARNING:tensorflow:11 out of the last 11 calls to <function recreate_function.<locals>.restored_function_body at 0x7ff5c74e91f0> triggered tf.function retracing. Tracing is expensive and the excessive number of tracings could be due to (1) creating @tf.function repeatedly in a loop, (2) passing tensors with different shapes, (3) passing Python objects instead of tensors. For (1), please define your @tf.function outside of the loop. For (2), @tf.function has experimental_relax_shapes=True option that relaxes argument shapes that can avoid unnecessary retracing. For (3), please refer to https://www.tensorflow.org/guide/function#controlling_retracing and https://www.tensorflow.org/api_docs/python/tf/function for  more details.\n",
      " 88%|████████▊ | 175/200 [04:49<00:39,  1.58s/it]"
     ]
    },
    {
     "name": "stdout",
     "output_type": "stream",
     "text": [
      "WARNING:tensorflow:11 out of the last 11 calls to <function recreate_function.<locals>.restored_function_body at 0x7ff5c74e9b80> triggered tf.function retracing. Tracing is expensive and the excessive number of tracings could be due to (1) creating @tf.function repeatedly in a loop, (2) passing tensors with different shapes, (3) passing Python objects instead of tensors. For (1), please define your @tf.function outside of the loop. For (2), @tf.function has experimental_relax_shapes=True option that relaxes argument shapes that can avoid unnecessary retracing. For (3), please refer to https://www.tensorflow.org/guide/function#controlling_retracing and https://www.tensorflow.org/api_docs/python/tf/function for  more details.\n"
     ]
    },
    {
     "name": "stderr",
     "output_type": "stream",
     "text": [
      "WARNING:tensorflow:11 out of the last 11 calls to <function recreate_function.<locals>.restored_function_body at 0x7ff5c74e9b80> triggered tf.function retracing. Tracing is expensive and the excessive number of tracings could be due to (1) creating @tf.function repeatedly in a loop, (2) passing tensors with different shapes, (3) passing Python objects instead of tensors. For (1), please define your @tf.function outside of the loop. For (2), @tf.function has experimental_relax_shapes=True option that relaxes argument shapes that can avoid unnecessary retracing. For (3), please refer to https://www.tensorflow.org/guide/function#controlling_retracing and https://www.tensorflow.org/api_docs/python/tf/function for  more details.\n",
      " 88%|████████▊ | 176/200 [04:51<00:39,  1.63s/it]"
     ]
    },
    {
     "name": "stdout",
     "output_type": "stream",
     "text": [
      "WARNING:tensorflow:11 out of the last 11 calls to <function recreate_function.<locals>.restored_function_body at 0x7ff5e1d61d30> triggered tf.function retracing. Tracing is expensive and the excessive number of tracings could be due to (1) creating @tf.function repeatedly in a loop, (2) passing tensors with different shapes, (3) passing Python objects instead of tensors. For (1), please define your @tf.function outside of the loop. For (2), @tf.function has experimental_relax_shapes=True option that relaxes argument shapes that can avoid unnecessary retracing. For (3), please refer to https://www.tensorflow.org/guide/function#controlling_retracing and https://www.tensorflow.org/api_docs/python/tf/function for  more details.\n"
     ]
    },
    {
     "name": "stderr",
     "output_type": "stream",
     "text": [
      "WARNING:tensorflow:11 out of the last 11 calls to <function recreate_function.<locals>.restored_function_body at 0x7ff5e1d61d30> triggered tf.function retracing. Tracing is expensive and the excessive number of tracings could be due to (1) creating @tf.function repeatedly in a loop, (2) passing tensors with different shapes, (3) passing Python objects instead of tensors. For (1), please define your @tf.function outside of the loop. For (2), @tf.function has experimental_relax_shapes=True option that relaxes argument shapes that can avoid unnecessary retracing. For (3), please refer to https://www.tensorflow.org/guide/function#controlling_retracing and https://www.tensorflow.org/api_docs/python/tf/function for  more details.\n",
      " 88%|████████▊ | 177/200 [04:53<00:37,  1.63s/it]"
     ]
    },
    {
     "name": "stdout",
     "output_type": "stream",
     "text": [
      "WARNING:tensorflow:11 out of the last 11 calls to <function recreate_function.<locals>.restored_function_body at 0x7ff5c6f89310> triggered tf.function retracing. Tracing is expensive and the excessive number of tracings could be due to (1) creating @tf.function repeatedly in a loop, (2) passing tensors with different shapes, (3) passing Python objects instead of tensors. For (1), please define your @tf.function outside of the loop. For (2), @tf.function has experimental_relax_shapes=True option that relaxes argument shapes that can avoid unnecessary retracing. For (3), please refer to https://www.tensorflow.org/guide/function#controlling_retracing and https://www.tensorflow.org/api_docs/python/tf/function for  more details.\n"
     ]
    },
    {
     "name": "stderr",
     "output_type": "stream",
     "text": [
      "WARNING:tensorflow:11 out of the last 11 calls to <function recreate_function.<locals>.restored_function_body at 0x7ff5c6f89310> triggered tf.function retracing. Tracing is expensive and the excessive number of tracings could be due to (1) creating @tf.function repeatedly in a loop, (2) passing tensors with different shapes, (3) passing Python objects instead of tensors. For (1), please define your @tf.function outside of the loop. For (2), @tf.function has experimental_relax_shapes=True option that relaxes argument shapes that can avoid unnecessary retracing. For (3), please refer to https://www.tensorflow.org/guide/function#controlling_retracing and https://www.tensorflow.org/api_docs/python/tf/function for  more details.\n",
      " 89%|████████▉ | 178/200 [04:54<00:34,  1.58s/it]"
     ]
    },
    {
     "name": "stdout",
     "output_type": "stream",
     "text": [
      "WARNING:tensorflow:11 out of the last 11 calls to <function recreate_function.<locals>.restored_function_body at 0x7ff5c6533940> triggered tf.function retracing. Tracing is expensive and the excessive number of tracings could be due to (1) creating @tf.function repeatedly in a loop, (2) passing tensors with different shapes, (3) passing Python objects instead of tensors. For (1), please define your @tf.function outside of the loop. For (2), @tf.function has experimental_relax_shapes=True option that relaxes argument shapes that can avoid unnecessary retracing. For (3), please refer to https://www.tensorflow.org/guide/function#controlling_retracing and https://www.tensorflow.org/api_docs/python/tf/function for  more details.\n"
     ]
    },
    {
     "name": "stderr",
     "output_type": "stream",
     "text": [
      "WARNING:tensorflow:11 out of the last 11 calls to <function recreate_function.<locals>.restored_function_body at 0x7ff5c6533940> triggered tf.function retracing. Tracing is expensive and the excessive number of tracings could be due to (1) creating @tf.function repeatedly in a loop, (2) passing tensors with different shapes, (3) passing Python objects instead of tensors. For (1), please define your @tf.function outside of the loop. For (2), @tf.function has experimental_relax_shapes=True option that relaxes argument shapes that can avoid unnecessary retracing. For (3), please refer to https://www.tensorflow.org/guide/function#controlling_retracing and https://www.tensorflow.org/api_docs/python/tf/function for  more details.\n",
      " 90%|████████▉ | 179/200 [04:56<00:34,  1.62s/it]"
     ]
    },
    {
     "name": "stdout",
     "output_type": "stream",
     "text": [
      "WARNING:tensorflow:11 out of the last 11 calls to <function recreate_function.<locals>.restored_function_body at 0x7ff5c4481940> triggered tf.function retracing. Tracing is expensive and the excessive number of tracings could be due to (1) creating @tf.function repeatedly in a loop, (2) passing tensors with different shapes, (3) passing Python objects instead of tensors. For (1), please define your @tf.function outside of the loop. For (2), @tf.function has experimental_relax_shapes=True option that relaxes argument shapes that can avoid unnecessary retracing. For (3), please refer to https://www.tensorflow.org/guide/function#controlling_retracing and https://www.tensorflow.org/api_docs/python/tf/function for  more details.\n"
     ]
    },
    {
     "name": "stderr",
     "output_type": "stream",
     "text": [
      "WARNING:tensorflow:11 out of the last 11 calls to <function recreate_function.<locals>.restored_function_body at 0x7ff5c4481940> triggered tf.function retracing. Tracing is expensive and the excessive number of tracings could be due to (1) creating @tf.function repeatedly in a loop, (2) passing tensors with different shapes, (3) passing Python objects instead of tensors. For (1), please define your @tf.function outside of the loop. For (2), @tf.function has experimental_relax_shapes=True option that relaxes argument shapes that can avoid unnecessary retracing. For (3), please refer to https://www.tensorflow.org/guide/function#controlling_retracing and https://www.tensorflow.org/api_docs/python/tf/function for  more details.\n",
      " 90%|█████████ | 180/200 [04:58<00:32,  1.63s/it]"
     ]
    },
    {
     "name": "stdout",
     "output_type": "stream",
     "text": [
      "WARNING:tensorflow:11 out of the last 11 calls to <function recreate_function.<locals>.restored_function_body at 0x7ff5c7309310> triggered tf.function retracing. Tracing is expensive and the excessive number of tracings could be due to (1) creating @tf.function repeatedly in a loop, (2) passing tensors with different shapes, (3) passing Python objects instead of tensors. For (1), please define your @tf.function outside of the loop. For (2), @tf.function has experimental_relax_shapes=True option that relaxes argument shapes that can avoid unnecessary retracing. For (3), please refer to https://www.tensorflow.org/guide/function#controlling_retracing and https://www.tensorflow.org/api_docs/python/tf/function for  more details.\n"
     ]
    },
    {
     "name": "stderr",
     "output_type": "stream",
     "text": [
      "WARNING:tensorflow:11 out of the last 11 calls to <function recreate_function.<locals>.restored_function_body at 0x7ff5c7309310> triggered tf.function retracing. Tracing is expensive and the excessive number of tracings could be due to (1) creating @tf.function repeatedly in a loop, (2) passing tensors with different shapes, (3) passing Python objects instead of tensors. For (1), please define your @tf.function outside of the loop. For (2), @tf.function has experimental_relax_shapes=True option that relaxes argument shapes that can avoid unnecessary retracing. For (3), please refer to https://www.tensorflow.org/guide/function#controlling_retracing and https://www.tensorflow.org/api_docs/python/tf/function for  more details.\n",
      " 90%|█████████ | 181/200 [04:59<00:30,  1.59s/it]"
     ]
    },
    {
     "name": "stdout",
     "output_type": "stream",
     "text": [
      "WARNING:tensorflow:11 out of the last 11 calls to <function recreate_function.<locals>.restored_function_body at 0x7ff5e361f790> triggered tf.function retracing. Tracing is expensive and the excessive number of tracings could be due to (1) creating @tf.function repeatedly in a loop, (2) passing tensors with different shapes, (3) passing Python objects instead of tensors. For (1), please define your @tf.function outside of the loop. For (2), @tf.function has experimental_relax_shapes=True option that relaxes argument shapes that can avoid unnecessary retracing. For (3), please refer to https://www.tensorflow.org/guide/function#controlling_retracing and https://www.tensorflow.org/api_docs/python/tf/function for  more details.\n"
     ]
    },
    {
     "name": "stderr",
     "output_type": "stream",
     "text": [
      "WARNING:tensorflow:11 out of the last 11 calls to <function recreate_function.<locals>.restored_function_body at 0x7ff5e361f790> triggered tf.function retracing. Tracing is expensive and the excessive number of tracings could be due to (1) creating @tf.function repeatedly in a loop, (2) passing tensors with different shapes, (3) passing Python objects instead of tensors. For (1), please define your @tf.function outside of the loop. For (2), @tf.function has experimental_relax_shapes=True option that relaxes argument shapes that can avoid unnecessary retracing. For (3), please refer to https://www.tensorflow.org/guide/function#controlling_retracing and https://www.tensorflow.org/api_docs/python/tf/function for  more details.\n",
      " 91%|█████████ | 182/200 [05:01<00:29,  1.64s/it]"
     ]
    },
    {
     "name": "stdout",
     "output_type": "stream",
     "text": [
      "WARNING:tensorflow:11 out of the last 11 calls to <function recreate_function.<locals>.restored_function_body at 0x7ff5c779d280> triggered tf.function retracing. Tracing is expensive and the excessive number of tracings could be due to (1) creating @tf.function repeatedly in a loop, (2) passing tensors with different shapes, (3) passing Python objects instead of tensors. For (1), please define your @tf.function outside of the loop. For (2), @tf.function has experimental_relax_shapes=True option that relaxes argument shapes that can avoid unnecessary retracing. For (3), please refer to https://www.tensorflow.org/guide/function#controlling_retracing and https://www.tensorflow.org/api_docs/python/tf/function for  more details.\n"
     ]
    },
    {
     "name": "stderr",
     "output_type": "stream",
     "text": [
      "WARNING:tensorflow:11 out of the last 11 calls to <function recreate_function.<locals>.restored_function_body at 0x7ff5c779d280> triggered tf.function retracing. Tracing is expensive and the excessive number of tracings could be due to (1) creating @tf.function repeatedly in a loop, (2) passing tensors with different shapes, (3) passing Python objects instead of tensors. For (1), please define your @tf.function outside of the loop. For (2), @tf.function has experimental_relax_shapes=True option that relaxes argument shapes that can avoid unnecessary retracing. For (3), please refer to https://www.tensorflow.org/guide/function#controlling_retracing and https://www.tensorflow.org/api_docs/python/tf/function for  more details.\n",
      " 92%|█████████▏| 183/200 [05:02<00:27,  1.63s/it]"
     ]
    },
    {
     "name": "stdout",
     "output_type": "stream",
     "text": [
      "WARNING:tensorflow:11 out of the last 11 calls to <function recreate_function.<locals>.restored_function_body at 0x7ff5c80a1310> triggered tf.function retracing. Tracing is expensive and the excessive number of tracings could be due to (1) creating @tf.function repeatedly in a loop, (2) passing tensors with different shapes, (3) passing Python objects instead of tensors. For (1), please define your @tf.function outside of the loop. For (2), @tf.function has experimental_relax_shapes=True option that relaxes argument shapes that can avoid unnecessary retracing. For (3), please refer to https://www.tensorflow.org/guide/function#controlling_retracing and https://www.tensorflow.org/api_docs/python/tf/function for  more details.\n"
     ]
    },
    {
     "name": "stderr",
     "output_type": "stream",
     "text": [
      "WARNING:tensorflow:11 out of the last 11 calls to <function recreate_function.<locals>.restored_function_body at 0x7ff5c80a1310> triggered tf.function retracing. Tracing is expensive and the excessive number of tracings could be due to (1) creating @tf.function repeatedly in a loop, (2) passing tensors with different shapes, (3) passing Python objects instead of tensors. For (1), please define your @tf.function outside of the loop. For (2), @tf.function has experimental_relax_shapes=True option that relaxes argument shapes that can avoid unnecessary retracing. For (3), please refer to https://www.tensorflow.org/guide/function#controlling_retracing and https://www.tensorflow.org/api_docs/python/tf/function for  more details.\n",
      " 92%|█████████▏| 184/200 [05:04<00:26,  1.64s/it]"
     ]
    },
    {
     "name": "stdout",
     "output_type": "stream",
     "text": [
      "WARNING:tensorflow:11 out of the last 11 calls to <function recreate_function.<locals>.restored_function_body at 0x7ff5c77a01f0> triggered tf.function retracing. Tracing is expensive and the excessive number of tracings could be due to (1) creating @tf.function repeatedly in a loop, (2) passing tensors with different shapes, (3) passing Python objects instead of tensors. For (1), please define your @tf.function outside of the loop. For (2), @tf.function has experimental_relax_shapes=True option that relaxes argument shapes that can avoid unnecessary retracing. For (3), please refer to https://www.tensorflow.org/guide/function#controlling_retracing and https://www.tensorflow.org/api_docs/python/tf/function for  more details.\n"
     ]
    },
    {
     "name": "stderr",
     "output_type": "stream",
     "text": [
      "WARNING:tensorflow:11 out of the last 11 calls to <function recreate_function.<locals>.restored_function_body at 0x7ff5c77a01f0> triggered tf.function retracing. Tracing is expensive and the excessive number of tracings could be due to (1) creating @tf.function repeatedly in a loop, (2) passing tensors with different shapes, (3) passing Python objects instead of tensors. For (1), please define your @tf.function outside of the loop. For (2), @tf.function has experimental_relax_shapes=True option that relaxes argument shapes that can avoid unnecessary retracing. For (3), please refer to https://www.tensorflow.org/guide/function#controlling_retracing and https://www.tensorflow.org/api_docs/python/tf/function for  more details.\n",
      " 92%|█████████▎| 185/200 [05:06<00:23,  1.59s/it]"
     ]
    },
    {
     "name": "stdout",
     "output_type": "stream",
     "text": [
      "WARNING:tensorflow:11 out of the last 11 calls to <function recreate_function.<locals>.restored_function_body at 0x7ff5c8a874c0> triggered tf.function retracing. Tracing is expensive and the excessive number of tracings could be due to (1) creating @tf.function repeatedly in a loop, (2) passing tensors with different shapes, (3) passing Python objects instead of tensors. For (1), please define your @tf.function outside of the loop. For (2), @tf.function has experimental_relax_shapes=True option that relaxes argument shapes that can avoid unnecessary retracing. For (3), please refer to https://www.tensorflow.org/guide/function#controlling_retracing and https://www.tensorflow.org/api_docs/python/tf/function for  more details.\n"
     ]
    },
    {
     "name": "stderr",
     "output_type": "stream",
     "text": [
      "WARNING:tensorflow:11 out of the last 11 calls to <function recreate_function.<locals>.restored_function_body at 0x7ff5c8a874c0> triggered tf.function retracing. Tracing is expensive and the excessive number of tracings could be due to (1) creating @tf.function repeatedly in a loop, (2) passing tensors with different shapes, (3) passing Python objects instead of tensors. For (1), please define your @tf.function outside of the loop. For (2), @tf.function has experimental_relax_shapes=True option that relaxes argument shapes that can avoid unnecessary retracing. For (3), please refer to https://www.tensorflow.org/guide/function#controlling_retracing and https://www.tensorflow.org/api_docs/python/tf/function for  more details.\n",
      " 93%|█████████▎| 186/200 [05:07<00:22,  1.63s/it]"
     ]
    },
    {
     "name": "stdout",
     "output_type": "stream",
     "text": [
      "WARNING:tensorflow:11 out of the last 11 calls to <function recreate_function.<locals>.restored_function_body at 0x7ff5c4481e50> triggered tf.function retracing. Tracing is expensive and the excessive number of tracings could be due to (1) creating @tf.function repeatedly in a loop, (2) passing tensors with different shapes, (3) passing Python objects instead of tensors. For (1), please define your @tf.function outside of the loop. For (2), @tf.function has experimental_relax_shapes=True option that relaxes argument shapes that can avoid unnecessary retracing. For (3), please refer to https://www.tensorflow.org/guide/function#controlling_retracing and https://www.tensorflow.org/api_docs/python/tf/function for  more details.\n"
     ]
    },
    {
     "name": "stderr",
     "output_type": "stream",
     "text": [
      "WARNING:tensorflow:11 out of the last 11 calls to <function recreate_function.<locals>.restored_function_body at 0x7ff5c4481e50> triggered tf.function retracing. Tracing is expensive and the excessive number of tracings could be due to (1) creating @tf.function repeatedly in a loop, (2) passing tensors with different shapes, (3) passing Python objects instead of tensors. For (1), please define your @tf.function outside of the loop. For (2), @tf.function has experimental_relax_shapes=True option that relaxes argument shapes that can avoid unnecessary retracing. For (3), please refer to https://www.tensorflow.org/guide/function#controlling_retracing and https://www.tensorflow.org/api_docs/python/tf/function for  more details.\n",
      " 94%|█████████▎| 187/200 [05:09<00:21,  1.68s/it]"
     ]
    },
    {
     "name": "stdout",
     "output_type": "stream",
     "text": [
      "WARNING:tensorflow:11 out of the last 11 calls to <function recreate_function.<locals>.restored_function_body at 0x7ff5c9bb3310> triggered tf.function retracing. Tracing is expensive and the excessive number of tracings could be due to (1) creating @tf.function repeatedly in a loop, (2) passing tensors with different shapes, (3) passing Python objects instead of tensors. For (1), please define your @tf.function outside of the loop. For (2), @tf.function has experimental_relax_shapes=True option that relaxes argument shapes that can avoid unnecessary retracing. For (3), please refer to https://www.tensorflow.org/guide/function#controlling_retracing and https://www.tensorflow.org/api_docs/python/tf/function for  more details.\n"
     ]
    },
    {
     "name": "stderr",
     "output_type": "stream",
     "text": [
      "WARNING:tensorflow:11 out of the last 11 calls to <function recreate_function.<locals>.restored_function_body at 0x7ff5c9bb3310> triggered tf.function retracing. Tracing is expensive and the excessive number of tracings could be due to (1) creating @tf.function repeatedly in a loop, (2) passing tensors with different shapes, (3) passing Python objects instead of tensors. For (1), please define your @tf.function outside of the loop. For (2), @tf.function has experimental_relax_shapes=True option that relaxes argument shapes that can avoid unnecessary retracing. For (3), please refer to https://www.tensorflow.org/guide/function#controlling_retracing and https://www.tensorflow.org/api_docs/python/tf/function for  more details.\n",
      " 94%|█████████▍| 188/200 [05:11<00:20,  1.73s/it]"
     ]
    },
    {
     "name": "stdout",
     "output_type": "stream",
     "text": [
      "WARNING:tensorflow:11 out of the last 11 calls to <function recreate_function.<locals>.restored_function_body at 0x7ff5c5332790> triggered tf.function retracing. Tracing is expensive and the excessive number of tracings could be due to (1) creating @tf.function repeatedly in a loop, (2) passing tensors with different shapes, (3) passing Python objects instead of tensors. For (1), please define your @tf.function outside of the loop. For (2), @tf.function has experimental_relax_shapes=True option that relaxes argument shapes that can avoid unnecessary retracing. For (3), please refer to https://www.tensorflow.org/guide/function#controlling_retracing and https://www.tensorflow.org/api_docs/python/tf/function for  more details.\n"
     ]
    },
    {
     "name": "stderr",
     "output_type": "stream",
     "text": [
      "WARNING:tensorflow:11 out of the last 11 calls to <function recreate_function.<locals>.restored_function_body at 0x7ff5c5332790> triggered tf.function retracing. Tracing is expensive and the excessive number of tracings could be due to (1) creating @tf.function repeatedly in a loop, (2) passing tensors with different shapes, (3) passing Python objects instead of tensors. For (1), please define your @tf.function outside of the loop. For (2), @tf.function has experimental_relax_shapes=True option that relaxes argument shapes that can avoid unnecessary retracing. For (3), please refer to https://www.tensorflow.org/guide/function#controlling_retracing and https://www.tensorflow.org/api_docs/python/tf/function for  more details.\n",
      " 94%|█████████▍| 189/200 [05:13<00:19,  1.82s/it]"
     ]
    },
    {
     "name": "stdout",
     "output_type": "stream",
     "text": [
      "WARNING:tensorflow:11 out of the last 11 calls to <function recreate_function.<locals>.restored_function_body at 0x7ff5c7374550> triggered tf.function retracing. Tracing is expensive and the excessive number of tracings could be due to (1) creating @tf.function repeatedly in a loop, (2) passing tensors with different shapes, (3) passing Python objects instead of tensors. For (1), please define your @tf.function outside of the loop. For (2), @tf.function has experimental_relax_shapes=True option that relaxes argument shapes that can avoid unnecessary retracing. For (3), please refer to https://www.tensorflow.org/guide/function#controlling_retracing and https://www.tensorflow.org/api_docs/python/tf/function for  more details.\n"
     ]
    },
    {
     "name": "stderr",
     "output_type": "stream",
     "text": [
      "WARNING:tensorflow:11 out of the last 11 calls to <function recreate_function.<locals>.restored_function_body at 0x7ff5c7374550> triggered tf.function retracing. Tracing is expensive and the excessive number of tracings could be due to (1) creating @tf.function repeatedly in a loop, (2) passing tensors with different shapes, (3) passing Python objects instead of tensors. For (1), please define your @tf.function outside of the loop. For (2), @tf.function has experimental_relax_shapes=True option that relaxes argument shapes that can avoid unnecessary retracing. For (3), please refer to https://www.tensorflow.org/guide/function#controlling_retracing and https://www.tensorflow.org/api_docs/python/tf/function for  more details.\n",
      " 95%|█████████▌| 190/200 [05:15<00:18,  1.88s/it]"
     ]
    },
    {
     "name": "stdout",
     "output_type": "stream",
     "text": [
      "WARNING:tensorflow:11 out of the last 11 calls to <function recreate_function.<locals>.restored_function_body at 0x7ff5c72d0310> triggered tf.function retracing. Tracing is expensive and the excessive number of tracings could be due to (1) creating @tf.function repeatedly in a loop, (2) passing tensors with different shapes, (3) passing Python objects instead of tensors. For (1), please define your @tf.function outside of the loop. For (2), @tf.function has experimental_relax_shapes=True option that relaxes argument shapes that can avoid unnecessary retracing. For (3), please refer to https://www.tensorflow.org/guide/function#controlling_retracing and https://www.tensorflow.org/api_docs/python/tf/function for  more details.\n"
     ]
    },
    {
     "name": "stderr",
     "output_type": "stream",
     "text": [
      "WARNING:tensorflow:11 out of the last 11 calls to <function recreate_function.<locals>.restored_function_body at 0x7ff5c72d0310> triggered tf.function retracing. Tracing is expensive and the excessive number of tracings could be due to (1) creating @tf.function repeatedly in a loop, (2) passing tensors with different shapes, (3) passing Python objects instead of tensors. For (1), please define your @tf.function outside of the loop. For (2), @tf.function has experimental_relax_shapes=True option that relaxes argument shapes that can avoid unnecessary retracing. For (3), please refer to https://www.tensorflow.org/guide/function#controlling_retracing and https://www.tensorflow.org/api_docs/python/tf/function for  more details.\n",
      " 96%|█████████▌| 191/200 [05:17<00:16,  1.87s/it]"
     ]
    },
    {
     "name": "stdout",
     "output_type": "stream",
     "text": [
      "WARNING:tensorflow:11 out of the last 11 calls to <function recreate_function.<locals>.restored_function_body at 0x7ff5c7bfc1f0> triggered tf.function retracing. Tracing is expensive and the excessive number of tracings could be due to (1) creating @tf.function repeatedly in a loop, (2) passing tensors with different shapes, (3) passing Python objects instead of tensors. For (1), please define your @tf.function outside of the loop. For (2), @tf.function has experimental_relax_shapes=True option that relaxes argument shapes that can avoid unnecessary retracing. For (3), please refer to https://www.tensorflow.org/guide/function#controlling_retracing and https://www.tensorflow.org/api_docs/python/tf/function for  more details.\n"
     ]
    },
    {
     "name": "stderr",
     "output_type": "stream",
     "text": [
      "WARNING:tensorflow:11 out of the last 11 calls to <function recreate_function.<locals>.restored_function_body at 0x7ff5c7bfc1f0> triggered tf.function retracing. Tracing is expensive and the excessive number of tracings could be due to (1) creating @tf.function repeatedly in a loop, (2) passing tensors with different shapes, (3) passing Python objects instead of tensors. For (1), please define your @tf.function outside of the loop. For (2), @tf.function has experimental_relax_shapes=True option that relaxes argument shapes that can avoid unnecessary retracing. For (3), please refer to https://www.tensorflow.org/guide/function#controlling_retracing and https://www.tensorflow.org/api_docs/python/tf/function for  more details.\n",
      " 96%|█████████▌| 192/200 [05:18<00:14,  1.77s/it]"
     ]
    },
    {
     "name": "stdout",
     "output_type": "stream",
     "text": [
      "WARNING:tensorflow:11 out of the last 11 calls to <function recreate_function.<locals>.restored_function_body at 0x7ff5e2f55b80> triggered tf.function retracing. Tracing is expensive and the excessive number of tracings could be due to (1) creating @tf.function repeatedly in a loop, (2) passing tensors with different shapes, (3) passing Python objects instead of tensors. For (1), please define your @tf.function outside of the loop. For (2), @tf.function has experimental_relax_shapes=True option that relaxes argument shapes that can avoid unnecessary retracing. For (3), please refer to https://www.tensorflow.org/guide/function#controlling_retracing and https://www.tensorflow.org/api_docs/python/tf/function for  more details.\n"
     ]
    },
    {
     "name": "stderr",
     "output_type": "stream",
     "text": [
      "WARNING:tensorflow:11 out of the last 11 calls to <function recreate_function.<locals>.restored_function_body at 0x7ff5e2f55b80> triggered tf.function retracing. Tracing is expensive and the excessive number of tracings could be due to (1) creating @tf.function repeatedly in a loop, (2) passing tensors with different shapes, (3) passing Python objects instead of tensors. For (1), please define your @tf.function outside of the loop. For (2), @tf.function has experimental_relax_shapes=True option that relaxes argument shapes that can avoid unnecessary retracing. For (3), please refer to https://www.tensorflow.org/guide/function#controlling_retracing and https://www.tensorflow.org/api_docs/python/tf/function for  more details.\n",
      " 96%|█████████▋| 193/200 [05:20<00:12,  1.83s/it]"
     ]
    },
    {
     "name": "stdout",
     "output_type": "stream",
     "text": [
      "WARNING:tensorflow:11 out of the last 11 calls to <function recreate_function.<locals>.restored_function_body at 0x7ff5c64e0670> triggered tf.function retracing. Tracing is expensive and the excessive number of tracings could be due to (1) creating @tf.function repeatedly in a loop, (2) passing tensors with different shapes, (3) passing Python objects instead of tensors. For (1), please define your @tf.function outside of the loop. For (2), @tf.function has experimental_relax_shapes=True option that relaxes argument shapes that can avoid unnecessary retracing. For (3), please refer to https://www.tensorflow.org/guide/function#controlling_retracing and https://www.tensorflow.org/api_docs/python/tf/function for  more details.\n"
     ]
    },
    {
     "name": "stderr",
     "output_type": "stream",
     "text": [
      "WARNING:tensorflow:11 out of the last 11 calls to <function recreate_function.<locals>.restored_function_body at 0x7ff5c64e0670> triggered tf.function retracing. Tracing is expensive and the excessive number of tracings could be due to (1) creating @tf.function repeatedly in a loop, (2) passing tensors with different shapes, (3) passing Python objects instead of tensors. For (1), please define your @tf.function outside of the loop. For (2), @tf.function has experimental_relax_shapes=True option that relaxes argument shapes that can avoid unnecessary retracing. For (3), please refer to https://www.tensorflow.org/guide/function#controlling_retracing and https://www.tensorflow.org/api_docs/python/tf/function for  more details.\n",
      " 97%|█████████▋| 194/200 [05:22<00:10,  1.80s/it]"
     ]
    },
    {
     "name": "stdout",
     "output_type": "stream",
     "text": [
      "WARNING:tensorflow:11 out of the last 11 calls to <function recreate_function.<locals>.restored_function_body at 0x7ff5e3e03310> triggered tf.function retracing. Tracing is expensive and the excessive number of tracings could be due to (1) creating @tf.function repeatedly in a loop, (2) passing tensors with different shapes, (3) passing Python objects instead of tensors. For (1), please define your @tf.function outside of the loop. For (2), @tf.function has experimental_relax_shapes=True option that relaxes argument shapes that can avoid unnecessary retracing. For (3), please refer to https://www.tensorflow.org/guide/function#controlling_retracing and https://www.tensorflow.org/api_docs/python/tf/function for  more details.\n"
     ]
    },
    {
     "name": "stderr",
     "output_type": "stream",
     "text": [
      "WARNING:tensorflow:11 out of the last 11 calls to <function recreate_function.<locals>.restored_function_body at 0x7ff5e3e03310> triggered tf.function retracing. Tracing is expensive and the excessive number of tracings could be due to (1) creating @tf.function repeatedly in a loop, (2) passing tensors with different shapes, (3) passing Python objects instead of tensors. For (1), please define your @tf.function outside of the loop. For (2), @tf.function has experimental_relax_shapes=True option that relaxes argument shapes that can avoid unnecessary retracing. For (3), please refer to https://www.tensorflow.org/guide/function#controlling_retracing and https://www.tensorflow.org/api_docs/python/tf/function for  more details.\n",
      " 98%|█████████▊| 195/200 [05:24<00:08,  1.71s/it]"
     ]
    },
    {
     "name": "stdout",
     "output_type": "stream",
     "text": [
      "WARNING:tensorflow:11 out of the last 11 calls to <function recreate_function.<locals>.restored_function_body at 0x7ff5e2f9e790> triggered tf.function retracing. Tracing is expensive and the excessive number of tracings could be due to (1) creating @tf.function repeatedly in a loop, (2) passing tensors with different shapes, (3) passing Python objects instead of tensors. For (1), please define your @tf.function outside of the loop. For (2), @tf.function has experimental_relax_shapes=True option that relaxes argument shapes that can avoid unnecessary retracing. For (3), please refer to https://www.tensorflow.org/guide/function#controlling_retracing and https://www.tensorflow.org/api_docs/python/tf/function for  more details.\n"
     ]
    },
    {
     "name": "stderr",
     "output_type": "stream",
     "text": [
      "WARNING:tensorflow:11 out of the last 11 calls to <function recreate_function.<locals>.restored_function_body at 0x7ff5e2f9e790> triggered tf.function retracing. Tracing is expensive and the excessive number of tracings could be due to (1) creating @tf.function repeatedly in a loop, (2) passing tensors with different shapes, (3) passing Python objects instead of tensors. For (1), please define your @tf.function outside of the loop. For (2), @tf.function has experimental_relax_shapes=True option that relaxes argument shapes that can avoid unnecessary retracing. For (3), please refer to https://www.tensorflow.org/guide/function#controlling_retracing and https://www.tensorflow.org/api_docs/python/tf/function for  more details.\n",
      " 98%|█████████▊| 196/200 [05:25<00:06,  1.72s/it]"
     ]
    },
    {
     "name": "stdout",
     "output_type": "stream",
     "text": [
      "WARNING:tensorflow:11 out of the last 11 calls to <function recreate_function.<locals>.restored_function_body at 0x7ff5c7794550> triggered tf.function retracing. Tracing is expensive and the excessive number of tracings could be due to (1) creating @tf.function repeatedly in a loop, (2) passing tensors with different shapes, (3) passing Python objects instead of tensors. For (1), please define your @tf.function outside of the loop. For (2), @tf.function has experimental_relax_shapes=True option that relaxes argument shapes that can avoid unnecessary retracing. For (3), please refer to https://www.tensorflow.org/guide/function#controlling_retracing and https://www.tensorflow.org/api_docs/python/tf/function for  more details.\n"
     ]
    },
    {
     "name": "stderr",
     "output_type": "stream",
     "text": [
      "WARNING:tensorflow:11 out of the last 11 calls to <function recreate_function.<locals>.restored_function_body at 0x7ff5c7794550> triggered tf.function retracing. Tracing is expensive and the excessive number of tracings could be due to (1) creating @tf.function repeatedly in a loop, (2) passing tensors with different shapes, (3) passing Python objects instead of tensors. For (1), please define your @tf.function outside of the loop. For (2), @tf.function has experimental_relax_shapes=True option that relaxes argument shapes that can avoid unnecessary retracing. For (3), please refer to https://www.tensorflow.org/guide/function#controlling_retracing and https://www.tensorflow.org/api_docs/python/tf/function for  more details.\n",
      " 98%|█████████▊| 197/200 [05:27<00:05,  1.79s/it]"
     ]
    },
    {
     "name": "stdout",
     "output_type": "stream",
     "text": [
      "WARNING:tensorflow:11 out of the last 11 calls to <function recreate_function.<locals>.restored_function_body at 0x7ff5c7073310> triggered tf.function retracing. Tracing is expensive and the excessive number of tracings could be due to (1) creating @tf.function repeatedly in a loop, (2) passing tensors with different shapes, (3) passing Python objects instead of tensors. For (1), please define your @tf.function outside of the loop. For (2), @tf.function has experimental_relax_shapes=True option that relaxes argument shapes that can avoid unnecessary retracing. For (3), please refer to https://www.tensorflow.org/guide/function#controlling_retracing and https://www.tensorflow.org/api_docs/python/tf/function for  more details.\n"
     ]
    },
    {
     "name": "stderr",
     "output_type": "stream",
     "text": [
      "WARNING:tensorflow:11 out of the last 11 calls to <function recreate_function.<locals>.restored_function_body at 0x7ff5c7073310> triggered tf.function retracing. Tracing is expensive and the excessive number of tracings could be due to (1) creating @tf.function repeatedly in a loop, (2) passing tensors with different shapes, (3) passing Python objects instead of tensors. For (1), please define your @tf.function outside of the loop. For (2), @tf.function has experimental_relax_shapes=True option that relaxes argument shapes that can avoid unnecessary retracing. For (3), please refer to https://www.tensorflow.org/guide/function#controlling_retracing and https://www.tensorflow.org/api_docs/python/tf/function for  more details.\n",
      " 99%|█████████▉| 198/200 [05:29<00:03,  1.90s/it]"
     ]
    },
    {
     "name": "stdout",
     "output_type": "stream",
     "text": [
      "WARNING:tensorflow:11 out of the last 11 calls to <function recreate_function.<locals>.restored_function_body at 0x7ff5c7b171f0> triggered tf.function retracing. Tracing is expensive and the excessive number of tracings could be due to (1) creating @tf.function repeatedly in a loop, (2) passing tensors with different shapes, (3) passing Python objects instead of tensors. For (1), please define your @tf.function outside of the loop. For (2), @tf.function has experimental_relax_shapes=True option that relaxes argument shapes that can avoid unnecessary retracing. For (3), please refer to https://www.tensorflow.org/guide/function#controlling_retracing and https://www.tensorflow.org/api_docs/python/tf/function for  more details.\n"
     ]
    },
    {
     "name": "stderr",
     "output_type": "stream",
     "text": [
      "WARNING:tensorflow:11 out of the last 11 calls to <function recreate_function.<locals>.restored_function_body at 0x7ff5c7b171f0> triggered tf.function retracing. Tracing is expensive and the excessive number of tracings could be due to (1) creating @tf.function repeatedly in a loop, (2) passing tensors with different shapes, (3) passing Python objects instead of tensors. For (1), please define your @tf.function outside of the loop. For (2), @tf.function has experimental_relax_shapes=True option that relaxes argument shapes that can avoid unnecessary retracing. For (3), please refer to https://www.tensorflow.org/guide/function#controlling_retracing and https://www.tensorflow.org/api_docs/python/tf/function for  more details.\n",
      "100%|█████████▉| 199/200 [05:31<00:01,  1.81s/it]"
     ]
    },
    {
     "name": "stdout",
     "output_type": "stream",
     "text": [
      "WARNING:tensorflow:11 out of the last 11 calls to <function recreate_function.<locals>.restored_function_body at 0x7ff5e1d74790> triggered tf.function retracing. Tracing is expensive and the excessive number of tracings could be due to (1) creating @tf.function repeatedly in a loop, (2) passing tensors with different shapes, (3) passing Python objects instead of tensors. For (1), please define your @tf.function outside of the loop. For (2), @tf.function has experimental_relax_shapes=True option that relaxes argument shapes that can avoid unnecessary retracing. For (3), please refer to https://www.tensorflow.org/guide/function#controlling_retracing and https://www.tensorflow.org/api_docs/python/tf/function for  more details.\n"
     ]
    },
    {
     "name": "stderr",
     "output_type": "stream",
     "text": [
      "WARNING:tensorflow:11 out of the last 11 calls to <function recreate_function.<locals>.restored_function_body at 0x7ff5e1d74790> triggered tf.function retracing. Tracing is expensive and the excessive number of tracings could be due to (1) creating @tf.function repeatedly in a loop, (2) passing tensors with different shapes, (3) passing Python objects instead of tensors. For (1), please define your @tf.function outside of the loop. For (2), @tf.function has experimental_relax_shapes=True option that relaxes argument shapes that can avoid unnecessary retracing. For (3), please refer to https://www.tensorflow.org/guide/function#controlling_retracing and https://www.tensorflow.org/api_docs/python/tf/function for  more details.\n",
      "100%|██████████| 200/200 [05:33<00:00,  1.67s/it]\n"
     ]
    }
   ],
   "source": [
    "#image_paths= glob.glob('/Users/rishabshekar/Downloads/Dataset/*.jpeg')\n",
    "vectorfiles = glob.glob('/Users/rishabshekar/Downloads/Dataset/*.npz')\n",
    "# compute styles\n",
    "image_style_embeddings = {}\n",
    "\n",
    "for image_path in tqdm(image_paths): \n",
    "    image_tensor = load_img(image_path)\n",
    "    vector = get_features(image_tensor, image_path)\n",
    "    image_style_embeddings[ntpath.basename(image_path)] = vector\n",
    "    "
   ]
  },
  {
   "cell_type": "code",
   "execution_count": 10,
   "metadata": {},
   "outputs": [],
   "source": [
    "def cluster():\n",
    "    print(\"-------Annoy Index Generation----------------\")\n",
    "    # Defining data structures as empty dict\n",
    "    file_index_to_file_name = {}\n",
    "    file_index_to_file_vector = {}\n",
    "    file_index_to_product_id = {}\n",
    "    # Configuring annoy parameters\n",
    "    dims = 1792\n",
    "    n_nearest_neighbors = 20\n",
    "    trees = 10000\n",
    "    # Reads all file names which stores feature vectors\n",
    "    allfiles = glob.glob('/Users/rishabshekar/Downloads/Dataset/*.npz')\n",
    "\n",
    "    t = AnnoyIndex(dims, metric='angular')\n",
    "    \n",
    "    for file_index, i in enumerate(allfiles):\n",
    "    # Reads feature vectors and assigns them into the file_vector \n",
    "        file_vector = np.loadtxt(i)\n",
    "\n",
    "        # Assigns file_name, feature_vectors and corresponding product_id\n",
    "        file_name = os.path.basename(i).split('.')[0]\n",
    "        file_index_to_file_name[file_index] = file_name\n",
    "        file_index_to_file_vector[file_index] = file_vector\n",
    "        file_index_to_product_id[file_index] = match_id(file_name)\n",
    "\n",
    "        # Adds image feature vectors into annoy index   \n",
    "        t.add_item(file_index, file_vector)\n",
    "\n",
    "        print(\"---------------------------------\")\n",
    "        print(\"Annoy index     : %s\" %file_index)\n",
    "        print(\"Image file name : %s\" %file_name)\n",
    "        print(\"Product id      : %s\" %file_index_to_product_id[file_index])\n",
    "        #print(\"--- %.2f minutes passed ---------\" % ((time.time() - start_time)/60))\n",
    "\n",
    "\n",
    "    # Builds annoy index\n",
    "    t.build(trees)\n",
    "\n",
    "    print (\"Step.1 - ANNOY index generation - Finished\")\n",
    "    print (\"Step.2 - Similarity score calculation - Started \") \n",
    "  \n",
    "    global named_nearest_neighbors\n",
    "    named_nearest_neighbors = []\n",
    "\n",
    "  # Loops through all indexed items\n",
    "    for i in file_index_to_file_name.keys():\n",
    "\n",
    "    # Assigns master file_name, image feature vectors and product id values\n",
    "        master_file_name = file_index_to_file_name[i]\n",
    "        master_vector = file_index_to_file_vector[i]\n",
    "        master_product_id = file_index_to_product_id[i]\n",
    "\n",
    "        # Calculates the nearest neighbors of the master item\n",
    "        nearest_neighbors = t.get_nns_by_item(i, n_nearest_neighbors)\n",
    "\n",
    "        # Loops through the nearest neighbors of the master item\n",
    "        for j in nearest_neighbors:\n",
    "\n",
    "            # Assigns file_name, image feature vectors and product id values of the similar item\n",
    "            neighbor_file_name = file_index_to_file_name[j]\n",
    "            neighbor_file_vector = file_index_to_file_vector[j]\n",
    "            neighbor_product_id = file_index_to_product_id[j]\n",
    "\n",
    "            # Calculates the similarity score of the similar item\n",
    "            similarity = 1 - spatial.distance.cosine(master_vector, neighbor_file_vector)\n",
    "            rounded_similarity = int((similarity * 10000)) / 10000.0\n",
    "\n",
    "            # Appends master product id with the similarity score \n",
    "            # and the product id of the similar items\n",
    "            named_nearest_neighbors.append({\n",
    "            'similarity': rounded_similarity,\n",
    "            'master_pi': master_product_id,\n",
    "            'similar_pi': neighbor_product_id})\n",
    "#     print(named_nearest_neighbors)\n",
    "#     print(type(named_nearest_neighbors))\n",
    "            \n",
    "#     return named_nearest_neighbors"
   ]
  },
  {
   "cell_type": "code",
   "execution_count": 11,
   "metadata": {},
   "outputs": [
    {
     "name": "stdout",
     "output_type": "stream",
     "text": [
      "Founnd [200] images\n"
     ]
    }
   ],
   "source": [
    "#image_paths = glob.glob('/Users/rishabshekar/Downloads/Dataset/*.jpeg')\n",
    "print(f'Founnd [{len(image_paths)}] images')\n",
    "\n",
    "images = []\n",
    "for image_path in image_paths:\n",
    "    image = cv2.imread(image_path, 3)\n",
    "    b,g,r = cv2.split(image)           # get b, g, r\n",
    "    image = cv2.merge([r,g,b])         # switch it to r, g, b\n",
    "    image = cv2.resize(image, (200, 200))\n",
    "    product_id = match_id(ntpath.basename(image_path))\n",
    "    images.append({\n",
    "      'image_path' : ntpath.basename(image_path),\n",
    "        'image' : image,\n",
    "       'product_id':product_id\n",
    "    })\n",
    "#     images['image_path'] = ntpath.basename(image_path)\n",
    "#     images['image'] = image\n",
    "#     #images[ntpath.basename(image_path)] = image\n",
    "#     product_id = match_id(ntpath.basename(image_path))\n",
    "#     images['product_id'] = product_id"
   ]
  },
  {
   "cell_type": "code",
   "execution_count": 12,
   "metadata": {},
   "outputs": [
    {
     "name": "stdout",
     "output_type": "stream",
     "text": [
      "-------Annoy Index Generation----------------\n",
      "---------------------------------\n",
      "Annoy index     : 0\n",
      "Image file name : 1000014826_683224_1\n",
      "Product id      : 1000014826_683224\n",
      "---------------------------------\n",
      "Annoy index     : 1\n",
      "Image file name : 1000012591_283383_1\n",
      "Product id      : 1000012591_283383\n",
      "---------------------------------\n",
      "Annoy index     : 2\n",
      "Image file name : 1000016591_1260132_3\n",
      "Product id      : 1000016591_1260132\n",
      "---------------------------------\n",
      "Annoy index     : 3\n",
      "Image file name : 1000005892_51661_1\n",
      "Product id      : 1000005892_51661\n",
      "---------------------------------\n",
      "Annoy index     : 4\n",
      "Image file name : 1000005906_1198165_1\n",
      "Product id      : 1000005906_1198165\n",
      "---------------------------------\n",
      "Annoy index     : 5\n",
      "Image file name : 1000005296_1541795_4\n",
      "Product id      : 1000005296_1541795\n",
      "---------------------------------\n",
      "Annoy index     : 6\n",
      "Image file name : 1000018483_390709_4\n",
      "Product id      : 1000018483_390709\n",
      "---------------------------------\n",
      "Annoy index     : 7\n",
      "Image file name : 1000000461_2059722_1\n",
      "Product id      : 1000000461_2059722\n",
      "---------------------------------\n",
      "Annoy index     : 8\n",
      "Image file name : 1000010410_91501_1\n",
      "Product id      : 1000010410_91501\n",
      "---------------------------------\n",
      "Annoy index     : 9\n",
      "Image file name : 1000003705_401309_1\n",
      "Product id      : 1000003705_401309\n",
      "---------------------------------\n",
      "Annoy index     : 10\n",
      "Image file name : 1000004298_48192_1\n",
      "Product id      : 1000004298_48192\n",
      "---------------------------------\n",
      "Annoy index     : 11\n",
      "Image file name : 1000000461_1328228_1\n",
      "Product id      : 1000000461_1328228\n",
      "---------------------------------\n",
      "Annoy index     : 12\n",
      "Image file name : 1000005296_1162891_1\n",
      "Product id      : 1000005296_1162891\n",
      "---------------------------------\n",
      "Annoy index     : 13\n",
      "Image file name : 1000006044_506650_2\n",
      "Product id      : 1000006044_506650\n",
      "---------------------------------\n",
      "Annoy index     : 14\n",
      "Image file name : 1000016504_417475_1\n",
      "Product id      : 1000016504_417475\n",
      "---------------------------------\n",
      "Annoy index     : 15\n",
      "Image file name : 1000016486_233723_1\n",
      "Product id      : 1000016486_233723\n",
      "---------------------------------\n",
      "Annoy index     : 16\n",
      "Image file name : 1000018657_1411110_1\n",
      "Product id      : 1000018657_1411110\n",
      "---------------------------------\n",
      "Annoy index     : 17\n",
      "Image file name : 1000001974_177901_1\n",
      "Product id      : 1000001974_177901\n",
      "---------------------------------\n",
      "Annoy index     : 18\n",
      "Image file name : 1000004450_124311_1\n",
      "Product id      : 1000004450_124311\n",
      "---------------------------------\n",
      "Annoy index     : 19\n",
      "Image file name : 1000006044_2941495_4\n",
      "Product id      : 1000006044_2941495\n",
      "---------------------------------\n",
      "Annoy index     : 20\n",
      "Image file name : 1000017306_662524_2\n",
      "Product id      : 1000017306_662524\n",
      "---------------------------------\n",
      "Annoy index     : 21\n",
      "Image file name : 1000003705_426054_2\n",
      "Product id      : 1000003705_426054\n",
      "---------------------------------\n",
      "Annoy index     : 22\n",
      "Image file name : 1000015900_7056763_1\n",
      "Product id      : 1000015900_7056763\n",
      "---------------------------------\n",
      "Annoy index     : 23\n",
      "Image file name : 1000019142_3250699_1\n",
      "Product id      : 1000019142_3250699\n",
      "---------------------------------\n",
      "Annoy index     : 24\n",
      "Image file name : 1000005352_1407342_3\n",
      "Product id      : 1000005352_1407342\n",
      "---------------------------------\n",
      "Annoy index     : 25\n",
      "Image file name : 1000017573_6083989_1\n",
      "Product id      : 1000017573_6083989\n",
      "---------------------------------\n",
      "Annoy index     : 26\n",
      "Image file name : 1000018606_1788990_1\n",
      "Product id      : 1000018606_1788990\n",
      "---------------------------------\n",
      "Annoy index     : 27\n",
      "Image file name : 1000001857_75766_2\n",
      "Product id      : 1000001857_75766\n",
      "---------------------------------\n",
      "Annoy index     : 28\n",
      "Image file name : 1000006972_589055_1\n",
      "Product id      : 1000006972_589055\n",
      "---------------------------------\n",
      "Annoy index     : 29\n",
      "Image file name : 1000019295_5555657_2\n",
      "Product id      : 1000019295_5555657\n",
      "---------------------------------\n",
      "Annoy index     : 30\n",
      "Image file name : 1000002619_286869_1\n",
      "Product id      : 1000002619_286869\n",
      "---------------------------------\n",
      "Annoy index     : 31\n",
      "Image file name : 1000005352_3568116_2\n",
      "Product id      : 1000005352_3568116\n",
      "---------------------------------\n",
      "Annoy index     : 32\n",
      "Image file name : 1000005352_1196207_1\n",
      "Product id      : 1000005352_1196207\n",
      "---------------------------------\n",
      "Annoy index     : 33\n",
      "Image file name : 1000014416_863483_1\n",
      "Product id      : 1000014416_863483\n",
      "---------------------------------\n",
      "Annoy index     : 34\n",
      "Image file name : 1000008611_1387665_1\n",
      "Product id      : 1000008611_1387665\n",
      "---------------------------------\n",
      "Annoy index     : 35\n",
      "Image file name : 1000005436_61494_2\n",
      "Product id      : 1000005436_61494\n",
      "---------------------------------\n",
      "Annoy index     : 36\n",
      "Image file name : 1000002312_870273_1\n",
      "Product id      : 1000002312_870273\n",
      "---------------------------------\n",
      "Annoy index     : 37\n",
      "Image file name : 1000019645_85406_2\n",
      "Product id      : 1000019645_85406\n",
      "---------------------------------\n",
      "Annoy index     : 38\n",
      "Image file name : 1000018657_2659678_3\n",
      "Product id      : 1000018657_2659678\n",
      "---------------------------------\n",
      "Annoy index     : 39\n",
      "Image file name : 1000017306_1463281_2\n",
      "Product id      : 1000017306_1463281\n",
      "---------------------------------\n",
      "Annoy index     : 40\n",
      "Image file name : 1000010410_393714_1\n",
      "Product id      : 1000010410_393714\n",
      "---------------------------------\n",
      "Annoy index     : 41\n",
      "Image file name : 1000006044_257220_0\n",
      "Product id      : 1000006044_257220\n",
      "---------------------------------\n",
      "Annoy index     : 42\n",
      "Image file name : 1000005870_383022_1\n",
      "Product id      : 1000005870_383022\n",
      "---------------------------------\n",
      "Annoy index     : 43\n",
      "Image file name : 1000014300_554766_1\n",
      "Product id      : 1000014300_554766\n",
      "---------------------------------\n",
      "Annoy index     : 44\n",
      "Image file name : 1000016282_54142_0\n",
      "Product id      : 1000016282_54142\n",
      "---------------------------------\n",
      "Annoy index     : 45\n",
      "Image file name : 1000019446_83218_1\n",
      "Product id      : 1000019446_83218\n",
      "---------------------------------\n",
      "Annoy index     : 46\n",
      "Image file name : 1000001703_50950_4\n",
      "Product id      : 1000001703_50950\n",
      "---------------------------------\n",
      "Annoy index     : 47\n",
      "Image file name : 1000019645_153411_2\n",
      "Product id      : 1000019645_153411\n",
      "---------------------------------\n",
      "Annoy index     : 48\n",
      "Image file name : 1000001589_254796_1\n",
      "Product id      : 1000001589_254796\n",
      "---------------------------------\n",
      "Annoy index     : 49\n",
      "Image file name : 1000013499_266873_0\n",
      "Product id      : 1000013499_266873\n",
      "---------------------------------\n",
      "Annoy index     : 50\n",
      "Image file name : 1000005597_694815_1\n",
      "Product id      : 1000005597_694815\n",
      "---------------------------------\n",
      "Annoy index     : 51\n",
      "Image file name : 1000017643_1905271_4\n",
      "Product id      : 1000017643_1905271\n",
      "---------------------------------\n",
      "Annoy index     : 52\n",
      "Image file name : 1000007560_3022186_1\n",
      "Product id      : 1000007560_3022186\n",
      "---------------------------------\n",
      "Annoy index     : 53\n",
      "Image file name : 1000002619_145002_3\n",
      "Product id      : 1000002619_145002\n",
      "---------------------------------\n",
      "Annoy index     : 54\n",
      "Image file name : 1000016965_2463103_2\n",
      "Product id      : 1000016965_2463103\n",
      "---------------------------------\n",
      "Annoy index     : 55\n",
      "Image file name : 1000005906_5314526_3\n",
      "Product id      : 1000005906_5314526\n",
      "---------------------------------\n",
      "Annoy index     : 56\n",
      "Image file name : 1000019289_79232_1\n",
      "Product id      : 1000019289_79232\n",
      "---------------------------------\n",
      "Annoy index     : 57\n",
      "Image file name : 1000006972_5289779_1\n",
      "Product id      : 1000006972_5289779\n",
      "---------------------------------\n",
      "Annoy index     : 58\n",
      "Image file name : 1000004450_3547066_1\n",
      "Product id      : 1000004450_3547066\n",
      "---------------------------------\n",
      "Annoy index     : 59\n",
      "Image file name : 1000002181_2051334_1\n",
      "Product id      : 1000002181_2051334\n",
      "---------------------------------\n",
      "Annoy index     : 60\n",
      "Image file name : 1000004298_413764_4\n",
      "Product id      : 1000004298_413764\n",
      "---------------------------------\n",
      "Annoy index     : 61\n",
      "Image file name : 1000001589_47962_4\n",
      "Product id      : 1000001589_47962\n",
      "---------------------------------\n",
      "Annoy index     : 62\n",
      "Image file name : 1000014204_86272_1\n",
      "Product id      : 1000014204_86272\n",
      "---------------------------------\n",
      "Annoy index     : 63\n",
      "Image file name : 1000005892_304502_1\n",
      "Product id      : 1000005892_304502\n",
      "---------------------------------\n",
      "Annoy index     : 64\n",
      "Image file name : 1000019295_5683365_1\n",
      "Product id      : 1000019295_5683365\n",
      "---------------------------------\n",
      "Annoy index     : 65\n",
      "Image file name : 1000013443_1454974_1\n",
      "Product id      : 1000013443_1454974\n",
      "---------------------------------\n",
      "Annoy index     : 66\n",
      "Image file name : 1000010562_344570_4\n",
      "Product id      : 1000010562_344570\n",
      "---------------------------------\n",
      "Annoy index     : 67\n",
      "Image file name : 1000020743_5730464_1\n",
      "Product id      : 1000020743_5730464\n",
      "---------------------------------\n",
      "Annoy index     : 68\n",
      "Image file name : 1000009581_1156993_1\n",
      "Product id      : 1000009581_1156993\n",
      "---------------------------------\n",
      "Annoy index     : 69\n",
      "Image file name : 1000005296_1707734_1\n",
      "Product id      : 1000005296_1707734\n",
      "---------------------------------\n",
      "Annoy index     : 70\n",
      "Image file name : 1000013443_39966_1\n",
      "Product id      : 1000013443_39966\n",
      "---------------------------------\n",
      "Annoy index     : 71\n",
      "Image file name : 1000005870_333655_2\n",
      "Product id      : 1000005870_333655\n",
      "---------------------------------\n",
      "Annoy index     : 72\n",
      "Image file name : 1000016591_1183410_1\n",
      "Product id      : 1000016591_1183410\n",
      "---------------------------------\n",
      "Annoy index     : 73\n",
      "Image file name : 1000018606_927886_1\n",
      "Product id      : 1000018606_927886\n",
      "---------------------------------\n",
      "Annoy index     : 74\n",
      "Image file name : 1000018985_109015_1\n",
      "Product id      : 1000018985_109015\n",
      "---------------------------------\n",
      "Annoy index     : 75\n",
      "Image file name : 1000004228_2283011_1\n",
      "Product id      : 1000004228_2283011\n",
      "---------------------------------\n",
      "Annoy index     : 76\n",
      "Image file name : 1000002619_80272_2\n",
      "Product id      : 1000002619_80272\n",
      "---------------------------------\n",
      "Annoy index     : 77\n",
      "Image file name : 1000018433_1083781_2\n",
      "Product id      : 1000018433_1083781\n",
      "---------------------------------\n",
      "Annoy index     : 78\n",
      "Image file name : 1000019446_1373376_1\n",
      "Product id      : 1000019446_1373376\n",
      "---------------------------------\n",
      "Annoy index     : 79\n",
      "Image file name : 1000014204_202327_1\n",
      "Product id      : 1000014204_202327\n",
      "---------------------------------\n",
      "Annoy index     : 80\n",
      "Image file name : 1000015780_542711_1\n",
      "Product id      : 1000015780_542711\n",
      "---------------------------------\n",
      "Annoy index     : 81\n",
      "Image file name : 1000002181_2142942_1\n",
      "Product id      : 1000002181_2142942\n",
      "---------------------------------\n",
      "Annoy index     : 82\n",
      "Image file name : 1000018657_2051415_2\n",
      "Product id      : 1000018657_2051415\n",
      "---------------------------------\n",
      "Annoy index     : 83\n",
      "Image file name : 1000000461_543504_1\n",
      "Product id      : 1000000461_543504\n",
      "---------------------------------\n",
      "Annoy index     : 84\n",
      "Image file name : 1000005450_964923_1\n",
      "Product id      : 1000005450_964923\n",
      "---------------------------------\n",
      "Annoy index     : 85\n",
      "Image file name : 1000018606_1154981_4\n",
      "Product id      : 1000018606_1154981\n",
      "---------------------------------\n",
      "Annoy index     : 86\n",
      "Image file name : 1000005892_84719_1\n",
      "Product id      : 1000005892_84719\n",
      "---------------------------------\n",
      "Annoy index     : 87\n",
      "Image file name : 1000019446_1696752_2\n",
      "Product id      : 1000019446_1696752\n",
      "---------------------------------\n",
      "Annoy index     : 88\n",
      "Image file name : 1000016910_1063349_3\n",
      "Product id      : 1000016910_1063349\n",
      "---------------------------------\n",
      "Annoy index     : 89\n",
      "Image file name : 1000000489_2254961_1\n",
      "Product id      : 1000000489_2254961\n",
      "---------------------------------\n",
      "Annoy index     : 90\n",
      "Image file name : 1000018985_2432765_3\n",
      "Product id      : 1000018985_2432765\n",
      "---------------------------------\n",
      "Annoy index     : 91\n",
      "Image file name : 1000010410_415015_1\n",
      "Product id      : 1000010410_415015\n",
      "---------------------------------\n",
      "Annoy index     : 92\n",
      "Image file name : 1000014148_250654_1\n",
      "Product id      : 1000014148_250654\n"
     ]
    },
    {
     "name": "stdout",
     "output_type": "stream",
     "text": [
      "---------------------------------\n",
      "Annoy index     : 93\n",
      "Image file name : 1000014204_43504_2\n",
      "Product id      : 1000014204_43504\n",
      "---------------------------------\n",
      "Annoy index     : 94\n",
      "Image file name : 1000018433_119097_2\n",
      "Product id      : 1000018433_119097\n",
      "---------------------------------\n",
      "Annoy index     : 95\n",
      "Image file name : 1000020743_162205_0\n",
      "Product id      : 1000020743_162205\n",
      "---------------------------------\n",
      "Annoy index     : 96\n",
      "Image file name : 1000017981_1556417_1\n",
      "Product id      : 1000017981_1556417\n",
      "---------------------------------\n",
      "Annoy index     : 97\n",
      "Image file name : 1000018657_2832634_1\n",
      "Product id      : 1000018657_2832634\n",
      "---------------------------------\n",
      "Annoy index     : 98\n",
      "Image file name : 1000006450_471043_1\n",
      "Product id      : 1000006450_471043\n",
      "---------------------------------\n",
      "Annoy index     : 99\n",
      "Image file name : 1000014826_1410870_3\n",
      "Product id      : 1000014826_1410870\n",
      "---------------------------------\n",
      "Annoy index     : 100\n",
      "Image file name : 1000014300_328844_2\n",
      "Product id      : 1000014300_328844\n",
      "---------------------------------\n",
      "Annoy index     : 101\n",
      "Image file name : 1000006551_2617141_2\n",
      "Product id      : 1000006551_2617141\n",
      "---------------------------------\n",
      "Annoy index     : 102\n",
      "Image file name : 1000006420_315626_4\n",
      "Product id      : 1000006420_315626\n",
      "---------------------------------\n",
      "Annoy index     : 103\n",
      "Image file name : 1000001589_687231_1\n",
      "Product id      : 1000001589_687231\n",
      "---------------------------------\n",
      "Annoy index     : 104\n",
      "Image file name : 1000013443_501818_1\n",
      "Product id      : 1000013443_501818\n",
      "---------------------------------\n",
      "Annoy index     : 105\n",
      "Image file name : 1000004228_590464_1\n",
      "Product id      : 1000004228_590464\n",
      "---------------------------------\n",
      "Annoy index     : 106\n",
      "Image file name : 1000019035_1240668_1\n",
      "Product id      : 1000019035_1240668\n",
      "---------------------------------\n",
      "Annoy index     : 107\n",
      "Image file name : 1000005450_974152_1\n",
      "Product id      : 1000005450_974152\n",
      "---------------------------------\n",
      "Annoy index     : 108\n",
      "Image file name : 1000018209_245768_2\n",
      "Product id      : 1000018209_245768\n",
      "---------------------------------\n",
      "Annoy index     : 109\n",
      "Image file name : 1000013443_1330468_3\n",
      "Product id      : 1000013443_1330468\n",
      "---------------------------------\n",
      "Annoy index     : 110\n",
      "Image file name : 1000003633_2146904_1\n",
      "Product id      : 1000003633_2146904\n",
      "---------------------------------\n",
      "Annoy index     : 111\n",
      "Image file name : 1000005736_247062_2\n",
      "Product id      : 1000005736_247062\n",
      "---------------------------------\n",
      "Annoy index     : 112\n",
      "Image file name : 1000007158_259317_3\n",
      "Product id      : 1000007158_259317\n",
      "---------------------------------\n",
      "Annoy index     : 113\n",
      "Image file name : 1000006420_408794_4\n",
      "Product id      : 1000006420_408794\n",
      "---------------------------------\n",
      "Annoy index     : 114\n",
      "Image file name : 1000002999_5720269_1\n",
      "Product id      : 1000002999_5720269\n",
      "---------------------------------\n",
      "Annoy index     : 115\n",
      "Image file name : 1000008134_777401_3\n",
      "Product id      : 1000008134_777401\n",
      "---------------------------------\n",
      "Annoy index     : 116\n",
      "Image file name : 1000003705_296339_2\n",
      "Product id      : 1000003705_296339\n",
      "---------------------------------\n",
      "Annoy index     : 117\n",
      "Image file name : 1000018758_677648_1\n",
      "Product id      : 1000018758_677648\n",
      "---------------------------------\n",
      "Annoy index     : 118\n",
      "Image file name : 1000018985_556353_1\n",
      "Product id      : 1000018985_556353\n",
      "---------------------------------\n",
      "Annoy index     : 119\n",
      "Image file name : 1000005352_4375297_1\n",
      "Product id      : 1000005352_4375297\n",
      "---------------------------------\n",
      "Annoy index     : 120\n",
      "Image file name : 1000017746_989560_1\n",
      "Product id      : 1000017746_989560\n",
      "---------------------------------\n",
      "Annoy index     : 121\n",
      "Image file name : 1000001703_25700_1\n",
      "Product id      : 1000001703_25700\n",
      "---------------------------------\n",
      "Annoy index     : 122\n",
      "Image file name : 1000009561_789018_1\n",
      "Product id      : 1000009561_789018\n",
      "---------------------------------\n",
      "Annoy index     : 123\n",
      "Image file name : 1000001857_43282_1\n",
      "Product id      : 1000001857_43282\n",
      "---------------------------------\n",
      "Annoy index     : 124\n",
      "Image file name : 1000016486_98843_1\n",
      "Product id      : 1000016486_98843\n",
      "---------------------------------\n",
      "Annoy index     : 125\n",
      "Image file name : 1000018657_2181570_1\n",
      "Product id      : 1000018657_2181570\n",
      "---------------------------------\n",
      "Annoy index     : 126\n",
      "Image file name : 1000014100_424852_2\n",
      "Product id      : 1000014100_424852\n",
      "---------------------------------\n",
      "Annoy index     : 127\n",
      "Image file name : 1000007158_205545_1\n",
      "Product id      : 1000007158_205545\n",
      "---------------------------------\n",
      "Annoy index     : 128\n",
      "Image file name : 1000003633_762512_1\n",
      "Product id      : 1000003633_762512\n",
      "---------------------------------\n",
      "Annoy index     : 129\n",
      "Image file name : 1000016486_11905_1\n",
      "Product id      : 1000016486_11905\n",
      "---------------------------------\n",
      "Annoy index     : 130\n",
      "Image file name : 1000017573_4670434_4\n",
      "Product id      : 1000017573_4670434\n",
      "---------------------------------\n",
      "Annoy index     : 131\n",
      "Image file name : 1000020751_5820622_3\n",
      "Product id      : 1000020751_5820622\n",
      "---------------------------------\n",
      "Annoy index     : 132\n",
      "Image file name : 1000018209_5124502_3\n",
      "Product id      : 1000018209_5124502\n",
      "---------------------------------\n",
      "Annoy index     : 133\n",
      "Image file name : 1000010562_243157_1\n",
      "Product id      : 1000010562_243157\n",
      "---------------------------------\n",
      "Annoy index     : 134\n",
      "Image file name : 1000012299_648800_1\n",
      "Product id      : 1000012299_648800\n",
      "---------------------------------\n",
      "Annoy index     : 135\n",
      "Image file name : 1000014300_377726_1\n",
      "Product id      : 1000014300_377726\n",
      "---------------------------------\n",
      "Annoy index     : 136\n",
      "Image file name : 1000016504_191302_1\n",
      "Product id      : 1000016504_191302\n",
      "---------------------------------\n",
      "Annoy index     : 137\n",
      "Image file name : 1000000489_2156712_1\n",
      "Product id      : 1000000489_2156712\n",
      "---------------------------------\n",
      "Annoy index     : 138\n",
      "Image file name : 1000011715_999455_2\n",
      "Product id      : 1000011715_999455\n",
      "---------------------------------\n",
      "Annoy index     : 139\n",
      "Image file name : 1000005736_97051_1\n",
      "Product id      : 1000005736_97051\n",
      "---------------------------------\n",
      "Annoy index     : 140\n",
      "Image file name : 1000000461_1477576_2\n",
      "Product id      : 1000000461_1477576\n",
      "---------------------------------\n",
      "Annoy index     : 141\n",
      "Image file name : 1000005597_3682227_1\n",
      "Product id      : 1000005597_3682227\n",
      "---------------------------------\n",
      "Annoy index     : 142\n",
      "Image file name : 1000014148_53965_1\n",
      "Product id      : 1000014148_53965\n",
      "---------------------------------\n",
      "Annoy index     : 143\n",
      "Image file name : 1000014467_3872061_1\n",
      "Product id      : 1000014467_3872061\n",
      "---------------------------------\n",
      "Annoy index     : 144\n",
      "Image file name : 1000020751_1093721_1\n",
      "Product id      : 1000020751_1093721\n",
      "---------------------------------\n",
      "Annoy index     : 145\n",
      "Image file name : 1000007560_2156837_1\n",
      "Product id      : 1000007560_2156837\n",
      "---------------------------------\n",
      "Annoy index     : 146\n",
      "Image file name : 1000010562_39641_1\n",
      "Product id      : 1000010562_39641\n",
      "---------------------------------\n",
      "Annoy index     : 147\n",
      "Image file name : 1000016910_905983_4\n",
      "Product id      : 1000016910_905983\n",
      "---------------------------------\n",
      "Annoy index     : 148\n",
      "Image file name : 1000018483_271601_3\n",
      "Product id      : 1000018483_271601\n",
      "---------------------------------\n",
      "Annoy index     : 149\n",
      "Image file name : 1000010562_369797_1\n",
      "Product id      : 1000010562_369797\n",
      "---------------------------------\n",
      "Annoy index     : 150\n",
      "Image file name : 1000020031_4862403_1\n",
      "Product id      : 1000020031_4862403\n",
      "---------------------------------\n",
      "Annoy index     : 151\n",
      "Image file name : 1000006450_418604_1\n",
      "Product id      : 1000006450_418604\n",
      "---------------------------------\n",
      "Annoy index     : 152\n",
      "Image file name : 1000005906_566835_4\n",
      "Product id      : 1000005906_566835\n",
      "---------------------------------\n",
      "Annoy index     : 153\n",
      "Image file name : 1000017746_269642_3\n",
      "Product id      : 1000017746_269642\n",
      "---------------------------------\n",
      "Annoy index     : 154\n",
      "Image file name : 1000014100_468821_1\n",
      "Product id      : 1000014100_468821\n",
      "---------------------------------\n",
      "Annoy index     : 155\n",
      "Image file name : 1000019035_1436324_1\n",
      "Product id      : 1000019035_1436324\n",
      "---------------------------------\n",
      "Annoy index     : 156\n",
      "Image file name : 1000001703_12313_3\n",
      "Product id      : 1000001703_12313\n",
      "---------------------------------\n",
      "Annoy index     : 157\n",
      "Image file name : 1000019184_1289169_1\n",
      "Product id      : 1000019184_1289169\n",
      "---------------------------------\n",
      "Annoy index     : 158\n",
      "Image file name : 1000015780_470187_2\n",
      "Product id      : 1000015780_470187\n",
      "---------------------------------\n",
      "Annoy index     : 159\n",
      "Image file name : 1000009316_1097863_1\n",
      "Product id      : 1000009316_1097863\n"
     ]
    },
    {
     "name": "stdout",
     "output_type": "stream",
     "text": [
      "---------------------------------\n",
      "Annoy index     : 160\n",
      "Image file name : 1000014621_969225_1\n",
      "Product id      : 1000014621_969225\n",
      "---------------------------------\n",
      "Annoy index     : 161\n",
      "Image file name : 1000000489_1233988_1\n",
      "Product id      : 1000000489_1233988\n",
      "---------------------------------\n",
      "Annoy index     : 162\n",
      "Image file name : 1000005736_475217_1\n",
      "Product id      : 1000005736_475217\n",
      "---------------------------------\n",
      "Annoy index     : 163\n",
      "Image file name : 1000006420_369254_2\n",
      "Product id      : 1000006420_369254\n",
      "---------------------------------\n",
      "Annoy index     : 164\n",
      "Image file name : 1000018433_509959_4\n",
      "Product id      : 1000018433_509959\n",
      "---------------------------------\n",
      "Annoy index     : 165\n",
      "Image file name : 1000000489_2395275_1\n",
      "Product id      : 1000000489_2395275\n",
      "---------------------------------\n",
      "Annoy index     : 166\n",
      "Image file name : 1000008611_4888778_1\n",
      "Product id      : 1000008611_4888778\n",
      "---------------------------------\n",
      "Annoy index     : 167\n",
      "Image file name : 1000001703_43700_2\n",
      "Product id      : 1000001703_43700\n",
      "---------------------------------\n",
      "Annoy index     : 168\n",
      "Image file name : 1000018433_1062638_3\n",
      "Product id      : 1000018433_1062638\n",
      "---------------------------------\n",
      "Annoy index     : 169\n",
      "Image file name : 1000019470_694708_3\n",
      "Product id      : 1000019470_694708\n",
      "---------------------------------\n",
      "Annoy index     : 170\n",
      "Image file name : 1000009581_2980680_1\n",
      "Product id      : 1000009581_2980680\n",
      "---------------------------------\n",
      "Annoy index     : 171\n",
      "Image file name : 1000020031_175252_0\n",
      "Product id      : 1000020031_175252\n",
      "---------------------------------\n",
      "Annoy index     : 172\n",
      "Image file name : 1000017643_2107833_4\n",
      "Product id      : 1000017643_2107833\n",
      "---------------------------------\n",
      "Annoy index     : 173\n",
      "Image file name : 1000012299_1634032_1\n",
      "Product id      : 1000012299_1634032\n",
      "---------------------------------\n",
      "Annoy index     : 174\n",
      "Image file name : 1000019645_49755_2\n",
      "Product id      : 1000019645_49755\n",
      "---------------------------------\n",
      "Annoy index     : 175\n",
      "Image file name : 1000014545_2305450_1\n",
      "Product id      : 1000014545_2305450\n",
      "---------------------------------\n",
      "Annoy index     : 176\n",
      "Image file name : 1000018977_1853377_1\n",
      "Product id      : 1000018977_1853377\n",
      "---------------------------------\n",
      "Annoy index     : 177\n",
      "Image file name : 1000009561_612586_2\n",
      "Product id      : 1000009561_612586\n",
      "---------------------------------\n",
      "Annoy index     : 178\n",
      "Image file name : 1000002619_11213_1\n",
      "Product id      : 1000002619_11213\n",
      "---------------------------------\n",
      "Annoy index     : 179\n",
      "Image file name : 1000018015_2282093_1\n",
      "Product id      : 1000018015_2282093\n",
      "---------------------------------\n",
      "Annoy index     : 180\n",
      "Image file name : 1000005597_1527063_1\n",
      "Product id      : 1000005597_1527063\n",
      "---------------------------------\n",
      "Annoy index     : 181\n",
      "Image file name : 1000014826_3116960_1\n",
      "Product id      : 1000014826_3116960\n",
      "---------------------------------\n",
      "Annoy index     : 182\n",
      "Image file name : 1000017746_1101388_3\n",
      "Product id      : 1000017746_1101388\n",
      "---------------------------------\n",
      "Annoy index     : 183\n",
      "Image file name : 1000002619_50010_3\n",
      "Product id      : 1000002619_50010\n",
      "---------------------------------\n",
      "Annoy index     : 184\n",
      "Image file name : 1000017018_510437_1\n",
      "Product id      : 1000017018_510437\n",
      "---------------------------------\n",
      "Annoy index     : 185\n",
      "Image file name : 1000006420_451109_3\n",
      "Product id      : 1000006420_451109\n",
      "---------------------------------\n",
      "Annoy index     : 186\n",
      "Image file name : 1000004450_5156532_1\n",
      "Product id      : 1000004450_5156532\n",
      "---------------------------------\n",
      "Annoy index     : 187\n",
      "Image file name : 1000016180_3725398_4\n",
      "Product id      : 1000016180_3725398\n",
      "---------------------------------\n",
      "Annoy index     : 188\n",
      "Image file name : 1000002827_86297_1\n",
      "Product id      : 1000002827_86297\n",
      "---------------------------------\n",
      "Annoy index     : 189\n",
      "Image file name : 1000015780_507181_1\n",
      "Product id      : 1000015780_507181\n",
      "---------------------------------\n",
      "Annoy index     : 190\n",
      "Image file name : 1000017643_1678329_1\n",
      "Product id      : 1000017643_1678329\n",
      "---------------------------------\n",
      "Annoy index     : 191\n",
      "Image file name : 1000006551_5016752_1\n",
      "Product id      : 1000006551_5016752\n",
      "---------------------------------\n",
      "Annoy index     : 192\n",
      "Image file name : 1000019142_645646_1\n",
      "Product id      : 1000019142_645646\n",
      "---------------------------------\n",
      "Annoy index     : 193\n",
      "Image file name : 1000006044_1790440_2\n",
      "Product id      : 1000006044_1790440\n",
      "---------------------------------\n",
      "Annoy index     : 194\n",
      "Image file name : 1000019289_532754_1\n",
      "Product id      : 1000019289_532754\n",
      "---------------------------------\n",
      "Annoy index     : 195\n",
      "Image file name : 1000014826_3089051_3\n",
      "Product id      : 1000014826_3089051\n",
      "---------------------------------\n",
      "Annoy index     : 196\n",
      "Image file name : 1000009316_643631_2\n",
      "Product id      : 1000009316_643631\n",
      "---------------------------------\n",
      "Annoy index     : 197\n",
      "Image file name : 1000000489_1840753_1\n",
      "Product id      : 1000000489_1840753\n",
      "---------------------------------\n",
      "Annoy index     : 198\n",
      "Image file name : 1000017746_1078797_2\n",
      "Product id      : 1000017746_1078797\n",
      "---------------------------------\n",
      "Annoy index     : 199\n",
      "Image file name : 1000020717_360154_3\n",
      "Product id      : 1000020717_360154\n",
      "Step.1 - ANNOY index generation - Finished\n",
      "Step.2 - Similarity score calculation - Started \n"
     ]
    }
   ],
   "source": [
    "cluster()"
   ]
  },
  {
   "cell_type": "code",
   "execution_count": 13,
   "metadata": {},
   "outputs": [
    {
     "name": "stdout",
     "output_type": "stream",
     "text": [
      "-------Annoy Index Generation----------------\n",
      "---------------------------------\n",
      "Annoy index     : 0\n",
      "Image file name : 1000014826_683224_1\n",
      "Product id      : 1000014826_683224\n",
      "---------------------------------\n",
      "Annoy index     : 1\n",
      "Image file name : 1000012591_283383_1\n",
      "Product id      : 1000012591_283383\n",
      "---------------------------------\n",
      "Annoy index     : 2\n",
      "Image file name : 1000016591_1260132_3\n",
      "Product id      : 1000016591_1260132\n",
      "---------------------------------\n",
      "Annoy index     : 3\n",
      "Image file name : 1000005892_51661_1\n",
      "Product id      : 1000005892_51661\n",
      "---------------------------------\n",
      "Annoy index     : 4\n",
      "Image file name : 1000005906_1198165_1\n",
      "Product id      : 1000005906_1198165\n",
      "---------------------------------\n",
      "Annoy index     : 5\n",
      "Image file name : 1000005296_1541795_4\n",
      "Product id      : 1000005296_1541795\n",
      "---------------------------------\n",
      "Annoy index     : 6\n",
      "Image file name : 1000018483_390709_4\n",
      "Product id      : 1000018483_390709\n",
      "---------------------------------\n",
      "Annoy index     : 7\n",
      "Image file name : 1000000461_2059722_1\n",
      "Product id      : 1000000461_2059722\n",
      "---------------------------------\n",
      "Annoy index     : 8\n",
      "Image file name : 1000010410_91501_1\n",
      "Product id      : 1000010410_91501\n",
      "---------------------------------\n",
      "Annoy index     : 9\n",
      "Image file name : 1000003705_401309_1\n",
      "Product id      : 1000003705_401309\n",
      "---------------------------------\n",
      "Annoy index     : 10\n",
      "Image file name : 1000004298_48192_1\n",
      "Product id      : 1000004298_48192\n",
      "---------------------------------\n",
      "Annoy index     : 11\n",
      "Image file name : 1000000461_1328228_1\n",
      "Product id      : 1000000461_1328228\n",
      "---------------------------------\n",
      "Annoy index     : 12\n",
      "Image file name : 1000005296_1162891_1\n",
      "Product id      : 1000005296_1162891\n",
      "---------------------------------\n",
      "Annoy index     : 13\n",
      "Image file name : 1000006044_506650_2\n",
      "Product id      : 1000006044_506650\n",
      "---------------------------------\n",
      "Annoy index     : 14\n",
      "Image file name : 1000016504_417475_1\n",
      "Product id      : 1000016504_417475\n",
      "---------------------------------\n",
      "Annoy index     : 15\n",
      "Image file name : 1000016486_233723_1\n",
      "Product id      : 1000016486_233723\n",
      "---------------------------------\n",
      "Annoy index     : 16\n",
      "Image file name : 1000018657_1411110_1\n",
      "Product id      : 1000018657_1411110\n",
      "---------------------------------\n",
      "Annoy index     : 17\n",
      "Image file name : 1000001974_177901_1\n",
      "Product id      : 1000001974_177901\n",
      "---------------------------------\n",
      "Annoy index     : 18\n",
      "Image file name : 1000004450_124311_1\n",
      "Product id      : 1000004450_124311\n",
      "---------------------------------\n",
      "Annoy index     : 19\n",
      "Image file name : 1000006044_2941495_4\n",
      "Product id      : 1000006044_2941495\n",
      "---------------------------------\n",
      "Annoy index     : 20\n",
      "Image file name : 1000017306_662524_2\n",
      "Product id      : 1000017306_662524\n",
      "---------------------------------\n",
      "Annoy index     : 21\n",
      "Image file name : 1000003705_426054_2\n",
      "Product id      : 1000003705_426054\n",
      "---------------------------------\n",
      "Annoy index     : 22\n",
      "Image file name : 1000015900_7056763_1\n",
      "Product id      : 1000015900_7056763\n",
      "---------------------------------\n",
      "Annoy index     : 23\n",
      "Image file name : 1000019142_3250699_1\n",
      "Product id      : 1000019142_3250699\n",
      "---------------------------------\n",
      "Annoy index     : 24\n",
      "Image file name : 1000005352_1407342_3\n",
      "Product id      : 1000005352_1407342\n",
      "---------------------------------\n",
      "Annoy index     : 25\n",
      "Image file name : 1000017573_6083989_1\n",
      "Product id      : 1000017573_6083989\n",
      "---------------------------------\n",
      "Annoy index     : 26\n",
      "Image file name : 1000018606_1788990_1\n",
      "Product id      : 1000018606_1788990\n",
      "---------------------------------\n",
      "Annoy index     : 27\n",
      "Image file name : 1000001857_75766_2\n",
      "Product id      : 1000001857_75766\n",
      "---------------------------------\n",
      "Annoy index     : 28\n",
      "Image file name : 1000006972_589055_1\n",
      "Product id      : 1000006972_589055\n",
      "---------------------------------\n",
      "Annoy index     : 29\n",
      "Image file name : 1000019295_5555657_2\n",
      "Product id      : 1000019295_5555657\n",
      "---------------------------------\n",
      "Annoy index     : 30\n",
      "Image file name : 1000002619_286869_1\n",
      "Product id      : 1000002619_286869\n",
      "---------------------------------\n",
      "Annoy index     : 31\n",
      "Image file name : 1000005352_3568116_2\n",
      "Product id      : 1000005352_3568116\n",
      "---------------------------------\n",
      "Annoy index     : 32\n",
      "Image file name : 1000005352_1196207_1\n",
      "Product id      : 1000005352_1196207\n",
      "---------------------------------\n",
      "Annoy index     : 33\n",
      "Image file name : 1000014416_863483_1\n",
      "Product id      : 1000014416_863483\n",
      "---------------------------------\n",
      "Annoy index     : 34\n",
      "Image file name : 1000008611_1387665_1\n",
      "Product id      : 1000008611_1387665\n",
      "---------------------------------\n",
      "Annoy index     : 35\n",
      "Image file name : 1000005436_61494_2\n",
      "Product id      : 1000005436_61494\n",
      "---------------------------------\n",
      "Annoy index     : 36\n",
      "Image file name : 1000002312_870273_1\n",
      "Product id      : 1000002312_870273\n",
      "---------------------------------\n",
      "Annoy index     : 37\n",
      "Image file name : 1000019645_85406_2\n",
      "Product id      : 1000019645_85406\n",
      "---------------------------------\n",
      "Annoy index     : 38\n",
      "Image file name : 1000018657_2659678_3\n",
      "Product id      : 1000018657_2659678\n",
      "---------------------------------\n",
      "Annoy index     : 39\n",
      "Image file name : 1000017306_1463281_2\n",
      "Product id      : 1000017306_1463281\n",
      "---------------------------------\n",
      "Annoy index     : 40\n",
      "Image file name : 1000010410_393714_1\n",
      "Product id      : 1000010410_393714\n",
      "---------------------------------\n",
      "Annoy index     : 41\n",
      "Image file name : 1000006044_257220_0\n",
      "Product id      : 1000006044_257220\n",
      "---------------------------------\n",
      "Annoy index     : 42\n",
      "Image file name : 1000005870_383022_1\n",
      "Product id      : 1000005870_383022\n",
      "---------------------------------\n",
      "Annoy index     : 43\n",
      "Image file name : 1000014300_554766_1\n",
      "Product id      : 1000014300_554766\n",
      "---------------------------------\n",
      "Annoy index     : 44\n",
      "Image file name : 1000016282_54142_0\n",
      "Product id      : 1000016282_54142\n",
      "---------------------------------\n",
      "Annoy index     : 45\n",
      "Image file name : 1000019446_83218_1\n",
      "Product id      : 1000019446_83218\n",
      "---------------------------------\n",
      "Annoy index     : 46\n",
      "Image file name : 1000001703_50950_4\n",
      "Product id      : 1000001703_50950\n",
      "---------------------------------\n",
      "Annoy index     : 47\n",
      "Image file name : 1000019645_153411_2\n",
      "Product id      : 1000019645_153411\n",
      "---------------------------------\n",
      "Annoy index     : 48\n",
      "Image file name : 1000001589_254796_1\n",
      "Product id      : 1000001589_254796\n",
      "---------------------------------\n",
      "Annoy index     : 49\n",
      "Image file name : 1000013499_266873_0\n",
      "Product id      : 1000013499_266873\n",
      "---------------------------------\n",
      "Annoy index     : 50\n",
      "Image file name : 1000005597_694815_1\n",
      "Product id      : 1000005597_694815\n",
      "---------------------------------\n",
      "Annoy index     : 51\n",
      "Image file name : 1000017643_1905271_4\n",
      "Product id      : 1000017643_1905271\n",
      "---------------------------------\n",
      "Annoy index     : 52\n",
      "Image file name : 1000007560_3022186_1\n",
      "Product id      : 1000007560_3022186\n",
      "---------------------------------\n",
      "Annoy index     : 53\n",
      "Image file name : 1000002619_145002_3\n",
      "Product id      : 1000002619_145002\n",
      "---------------------------------\n",
      "Annoy index     : 54\n",
      "Image file name : 1000016965_2463103_2\n",
      "Product id      : 1000016965_2463103\n",
      "---------------------------------\n",
      "Annoy index     : 55\n",
      "Image file name : 1000005906_5314526_3\n",
      "Product id      : 1000005906_5314526\n",
      "---------------------------------\n",
      "Annoy index     : 56\n",
      "Image file name : 1000019289_79232_1\n",
      "Product id      : 1000019289_79232\n",
      "---------------------------------\n",
      "Annoy index     : 57\n",
      "Image file name : 1000006972_5289779_1\n",
      "Product id      : 1000006972_5289779\n",
      "---------------------------------\n",
      "Annoy index     : 58\n",
      "Image file name : 1000004450_3547066_1\n",
      "Product id      : 1000004450_3547066\n",
      "---------------------------------\n",
      "Annoy index     : 59\n",
      "Image file name : 1000002181_2051334_1\n",
      "Product id      : 1000002181_2051334\n",
      "---------------------------------\n",
      "Annoy index     : 60\n",
      "Image file name : 1000004298_413764_4\n",
      "Product id      : 1000004298_413764\n",
      "---------------------------------\n",
      "Annoy index     : 61\n",
      "Image file name : 1000001589_47962_4\n",
      "Product id      : 1000001589_47962\n",
      "---------------------------------\n",
      "Annoy index     : 62\n",
      "Image file name : 1000014204_86272_1\n",
      "Product id      : 1000014204_86272\n",
      "---------------------------------\n",
      "Annoy index     : 63\n",
      "Image file name : 1000005892_304502_1\n",
      "Product id      : 1000005892_304502\n",
      "---------------------------------\n",
      "Annoy index     : 64\n",
      "Image file name : 1000019295_5683365_1\n",
      "Product id      : 1000019295_5683365\n",
      "---------------------------------\n",
      "Annoy index     : 65\n",
      "Image file name : 1000013443_1454974_1\n",
      "Product id      : 1000013443_1454974\n"
     ]
    },
    {
     "name": "stdout",
     "output_type": "stream",
     "text": [
      "---------------------------------\n",
      "Annoy index     : 66\n",
      "Image file name : 1000010562_344570_4\n",
      "Product id      : 1000010562_344570\n",
      "---------------------------------\n",
      "Annoy index     : 67\n",
      "Image file name : 1000020743_5730464_1\n",
      "Product id      : 1000020743_5730464\n",
      "---------------------------------\n",
      "Annoy index     : 68\n",
      "Image file name : 1000009581_1156993_1\n",
      "Product id      : 1000009581_1156993\n",
      "---------------------------------\n",
      "Annoy index     : 69\n",
      "Image file name : 1000005296_1707734_1\n",
      "Product id      : 1000005296_1707734\n",
      "---------------------------------\n",
      "Annoy index     : 70\n",
      "Image file name : 1000013443_39966_1\n",
      "Product id      : 1000013443_39966\n",
      "---------------------------------\n",
      "Annoy index     : 71\n",
      "Image file name : 1000005870_333655_2\n",
      "Product id      : 1000005870_333655\n",
      "---------------------------------\n",
      "Annoy index     : 72\n",
      "Image file name : 1000016591_1183410_1\n",
      "Product id      : 1000016591_1183410\n",
      "---------------------------------\n",
      "Annoy index     : 73\n",
      "Image file name : 1000018606_927886_1\n",
      "Product id      : 1000018606_927886\n",
      "---------------------------------\n",
      "Annoy index     : 74\n",
      "Image file name : 1000018985_109015_1\n",
      "Product id      : 1000018985_109015\n",
      "---------------------------------\n",
      "Annoy index     : 75\n",
      "Image file name : 1000004228_2283011_1\n",
      "Product id      : 1000004228_2283011\n",
      "---------------------------------\n",
      "Annoy index     : 76\n",
      "Image file name : 1000002619_80272_2\n",
      "Product id      : 1000002619_80272\n",
      "---------------------------------\n",
      "Annoy index     : 77\n",
      "Image file name : 1000018433_1083781_2\n",
      "Product id      : 1000018433_1083781\n",
      "---------------------------------\n",
      "Annoy index     : 78\n",
      "Image file name : 1000019446_1373376_1\n",
      "Product id      : 1000019446_1373376\n",
      "---------------------------------\n",
      "Annoy index     : 79\n",
      "Image file name : 1000014204_202327_1\n",
      "Product id      : 1000014204_202327\n",
      "---------------------------------\n",
      "Annoy index     : 80\n",
      "Image file name : 1000015780_542711_1\n",
      "Product id      : 1000015780_542711\n",
      "---------------------------------\n",
      "Annoy index     : 81\n",
      "Image file name : 1000002181_2142942_1\n",
      "Product id      : 1000002181_2142942\n",
      "---------------------------------\n",
      "Annoy index     : 82\n",
      "Image file name : 1000018657_2051415_2\n",
      "Product id      : 1000018657_2051415\n",
      "---------------------------------\n",
      "Annoy index     : 83\n",
      "Image file name : 1000000461_543504_1\n",
      "Product id      : 1000000461_543504\n",
      "---------------------------------\n",
      "Annoy index     : 84\n",
      "Image file name : 1000005450_964923_1\n",
      "Product id      : 1000005450_964923\n",
      "---------------------------------\n",
      "Annoy index     : 85\n",
      "Image file name : 1000018606_1154981_4\n",
      "Product id      : 1000018606_1154981\n",
      "---------------------------------\n",
      "Annoy index     : 86\n",
      "Image file name : 1000005892_84719_1\n",
      "Product id      : 1000005892_84719\n",
      "---------------------------------\n",
      "Annoy index     : 87\n",
      "Image file name : 1000019446_1696752_2\n",
      "Product id      : 1000019446_1696752\n",
      "---------------------------------\n",
      "Annoy index     : 88\n",
      "Image file name : 1000016910_1063349_3\n",
      "Product id      : 1000016910_1063349\n",
      "---------------------------------\n",
      "Annoy index     : 89\n",
      "Image file name : 1000000489_2254961_1\n",
      "Product id      : 1000000489_2254961\n",
      "---------------------------------\n",
      "Annoy index     : 90\n",
      "Image file name : 1000018985_2432765_3\n",
      "Product id      : 1000018985_2432765\n",
      "---------------------------------\n",
      "Annoy index     : 91\n",
      "Image file name : 1000010410_415015_1\n",
      "Product id      : 1000010410_415015\n",
      "---------------------------------\n",
      "Annoy index     : 92\n",
      "Image file name : 1000014148_250654_1\n",
      "Product id      : 1000014148_250654\n",
      "---------------------------------\n",
      "Annoy index     : 93\n",
      "Image file name : 1000014204_43504_2\n",
      "Product id      : 1000014204_43504\n",
      "---------------------------------\n",
      "Annoy index     : 94\n",
      "Image file name : 1000018433_119097_2\n",
      "Product id      : 1000018433_119097\n",
      "---------------------------------\n",
      "Annoy index     : 95\n",
      "Image file name : 1000020743_162205_0\n",
      "Product id      : 1000020743_162205\n",
      "---------------------------------\n",
      "Annoy index     : 96\n",
      "Image file name : 1000017981_1556417_1\n",
      "Product id      : 1000017981_1556417\n",
      "---------------------------------\n",
      "Annoy index     : 97\n",
      "Image file name : 1000018657_2832634_1\n",
      "Product id      : 1000018657_2832634\n",
      "---------------------------------\n",
      "Annoy index     : 98\n",
      "Image file name : 1000006450_471043_1\n",
      "Product id      : 1000006450_471043\n",
      "---------------------------------\n",
      "Annoy index     : 99\n",
      "Image file name : 1000014826_1410870_3\n",
      "Product id      : 1000014826_1410870\n",
      "---------------------------------\n",
      "Annoy index     : 100\n",
      "Image file name : 1000014300_328844_2\n",
      "Product id      : 1000014300_328844\n",
      "---------------------------------\n",
      "Annoy index     : 101\n",
      "Image file name : 1000006551_2617141_2\n",
      "Product id      : 1000006551_2617141\n",
      "---------------------------------\n",
      "Annoy index     : 102\n",
      "Image file name : 1000006420_315626_4\n",
      "Product id      : 1000006420_315626\n",
      "---------------------------------\n",
      "Annoy index     : 103\n",
      "Image file name : 1000001589_687231_1\n",
      "Product id      : 1000001589_687231\n",
      "---------------------------------\n",
      "Annoy index     : 104\n",
      "Image file name : 1000013443_501818_1\n",
      "Product id      : 1000013443_501818\n",
      "---------------------------------\n",
      "Annoy index     : 105\n",
      "Image file name : 1000004228_590464_1\n",
      "Product id      : 1000004228_590464\n",
      "---------------------------------\n",
      "Annoy index     : 106\n",
      "Image file name : 1000019035_1240668_1\n",
      "Product id      : 1000019035_1240668\n",
      "---------------------------------\n",
      "Annoy index     : 107\n",
      "Image file name : 1000005450_974152_1\n",
      "Product id      : 1000005450_974152\n",
      "---------------------------------\n",
      "Annoy index     : 108\n",
      "Image file name : 1000018209_245768_2\n",
      "Product id      : 1000018209_245768\n",
      "---------------------------------\n",
      "Annoy index     : 109\n",
      "Image file name : 1000013443_1330468_3\n",
      "Product id      : 1000013443_1330468\n",
      "---------------------------------\n",
      "Annoy index     : 110\n",
      "Image file name : 1000003633_2146904_1\n",
      "Product id      : 1000003633_2146904\n",
      "---------------------------------\n",
      "Annoy index     : 111\n",
      "Image file name : 1000005736_247062_2\n",
      "Product id      : 1000005736_247062\n",
      "---------------------------------\n",
      "Annoy index     : 112\n",
      "Image file name : 1000007158_259317_3\n",
      "Product id      : 1000007158_259317\n",
      "---------------------------------\n",
      "Annoy index     : 113\n",
      "Image file name : 1000006420_408794_4\n",
      "Product id      : 1000006420_408794\n",
      "---------------------------------\n",
      "Annoy index     : 114\n",
      "Image file name : 1000002999_5720269_1\n",
      "Product id      : 1000002999_5720269\n",
      "---------------------------------\n",
      "Annoy index     : 115\n",
      "Image file name : 1000008134_777401_3\n",
      "Product id      : 1000008134_777401\n",
      "---------------------------------\n",
      "Annoy index     : 116\n",
      "Image file name : 1000003705_296339_2\n",
      "Product id      : 1000003705_296339\n",
      "---------------------------------\n",
      "Annoy index     : 117\n",
      "Image file name : 1000018758_677648_1\n",
      "Product id      : 1000018758_677648\n",
      "---------------------------------\n",
      "Annoy index     : 118\n",
      "Image file name : 1000018985_556353_1\n",
      "Product id      : 1000018985_556353\n",
      "---------------------------------\n",
      "Annoy index     : 119\n",
      "Image file name : 1000005352_4375297_1\n",
      "Product id      : 1000005352_4375297\n",
      "---------------------------------\n",
      "Annoy index     : 120\n",
      "Image file name : 1000017746_989560_1\n",
      "Product id      : 1000017746_989560\n",
      "---------------------------------\n",
      "Annoy index     : 121\n",
      "Image file name : 1000001703_25700_1\n",
      "Product id      : 1000001703_25700\n",
      "---------------------------------\n",
      "Annoy index     : 122\n",
      "Image file name : 1000009561_789018_1\n",
      "Product id      : 1000009561_789018\n",
      "---------------------------------\n",
      "Annoy index     : 123\n",
      "Image file name : 1000001857_43282_1\n",
      "Product id      : 1000001857_43282\n",
      "---------------------------------\n",
      "Annoy index     : 124\n",
      "Image file name : 1000016486_98843_1\n",
      "Product id      : 1000016486_98843\n",
      "---------------------------------\n",
      "Annoy index     : 125\n",
      "Image file name : 1000018657_2181570_1\n",
      "Product id      : 1000018657_2181570\n",
      "---------------------------------\n",
      "Annoy index     : 126\n",
      "Image file name : 1000014100_424852_2\n",
      "Product id      : 1000014100_424852\n",
      "---------------------------------\n",
      "Annoy index     : 127\n",
      "Image file name : 1000007158_205545_1\n",
      "Product id      : 1000007158_205545\n",
      "---------------------------------\n",
      "Annoy index     : 128\n",
      "Image file name : 1000003633_762512_1\n",
      "Product id      : 1000003633_762512\n",
      "---------------------------------\n",
      "Annoy index     : 129\n",
      "Image file name : 1000016486_11905_1\n",
      "Product id      : 1000016486_11905\n",
      "---------------------------------\n",
      "Annoy index     : 130\n",
      "Image file name : 1000017573_4670434_4\n",
      "Product id      : 1000017573_4670434\n",
      "---------------------------------\n",
      "Annoy index     : 131\n",
      "Image file name : 1000020751_5820622_3\n",
      "Product id      : 1000020751_5820622\n",
      "---------------------------------\n",
      "Annoy index     : 132\n",
      "Image file name : 1000018209_5124502_3\n",
      "Product id      : 1000018209_5124502\n",
      "---------------------------------\n",
      "Annoy index     : 133\n",
      "Image file name : 1000010562_243157_1\n",
      "Product id      : 1000010562_243157\n",
      "---------------------------------\n",
      "Annoy index     : 134\n",
      "Image file name : 1000012299_648800_1\n",
      "Product id      : 1000012299_648800\n",
      "---------------------------------\n",
      "Annoy index     : 135\n",
      "Image file name : 1000014300_377726_1\n",
      "Product id      : 1000014300_377726\n",
      "---------------------------------\n",
      "Annoy index     : 136\n",
      "Image file name : 1000016504_191302_1\n",
      "Product id      : 1000016504_191302\n",
      "---------------------------------\n",
      "Annoy index     : 137\n",
      "Image file name : 1000000489_2156712_1\n",
      "Product id      : 1000000489_2156712\n",
      "---------------------------------\n",
      "Annoy index     : 138\n",
      "Image file name : 1000011715_999455_2\n",
      "Product id      : 1000011715_999455\n",
      "---------------------------------\n",
      "Annoy index     : 139\n",
      "Image file name : 1000005736_97051_1\n",
      "Product id      : 1000005736_97051\n",
      "---------------------------------\n",
      "Annoy index     : 140\n",
      "Image file name : 1000000461_1477576_2\n",
      "Product id      : 1000000461_1477576\n"
     ]
    },
    {
     "name": "stdout",
     "output_type": "stream",
     "text": [
      "---------------------------------\n",
      "Annoy index     : 141\n",
      "Image file name : 1000005597_3682227_1\n",
      "Product id      : 1000005597_3682227\n",
      "---------------------------------\n",
      "Annoy index     : 142\n",
      "Image file name : 1000014148_53965_1\n",
      "Product id      : 1000014148_53965\n",
      "---------------------------------\n",
      "Annoy index     : 143\n",
      "Image file name : 1000014467_3872061_1\n",
      "Product id      : 1000014467_3872061\n",
      "---------------------------------\n",
      "Annoy index     : 144\n",
      "Image file name : 1000020751_1093721_1\n",
      "Product id      : 1000020751_1093721\n",
      "---------------------------------\n",
      "Annoy index     : 145\n",
      "Image file name : 1000007560_2156837_1\n",
      "Product id      : 1000007560_2156837\n",
      "---------------------------------\n",
      "Annoy index     : 146\n",
      "Image file name : 1000010562_39641_1\n",
      "Product id      : 1000010562_39641\n",
      "---------------------------------\n",
      "Annoy index     : 147\n",
      "Image file name : 1000016910_905983_4\n",
      "Product id      : 1000016910_905983\n",
      "---------------------------------\n",
      "Annoy index     : 148\n",
      "Image file name : 1000018483_271601_3\n",
      "Product id      : 1000018483_271601\n",
      "---------------------------------\n",
      "Annoy index     : 149\n",
      "Image file name : 1000010562_369797_1\n",
      "Product id      : 1000010562_369797\n",
      "---------------------------------\n",
      "Annoy index     : 150\n",
      "Image file name : 1000020031_4862403_1\n",
      "Product id      : 1000020031_4862403\n",
      "---------------------------------\n",
      "Annoy index     : 151\n",
      "Image file name : 1000006450_418604_1\n",
      "Product id      : 1000006450_418604\n",
      "---------------------------------\n",
      "Annoy index     : 152\n",
      "Image file name : 1000005906_566835_4\n",
      "Product id      : 1000005906_566835\n",
      "---------------------------------\n",
      "Annoy index     : 153\n",
      "Image file name : 1000017746_269642_3\n",
      "Product id      : 1000017746_269642\n",
      "---------------------------------\n",
      "Annoy index     : 154\n",
      "Image file name : 1000014100_468821_1\n",
      "Product id      : 1000014100_468821\n",
      "---------------------------------\n",
      "Annoy index     : 155\n",
      "Image file name : 1000019035_1436324_1\n",
      "Product id      : 1000019035_1436324\n",
      "---------------------------------\n",
      "Annoy index     : 156\n",
      "Image file name : 1000001703_12313_3\n",
      "Product id      : 1000001703_12313\n",
      "---------------------------------\n",
      "Annoy index     : 157\n",
      "Image file name : 1000019184_1289169_1\n",
      "Product id      : 1000019184_1289169\n",
      "---------------------------------\n",
      "Annoy index     : 158\n",
      "Image file name : 1000015780_470187_2\n",
      "Product id      : 1000015780_470187\n",
      "---------------------------------\n",
      "Annoy index     : 159\n",
      "Image file name : 1000009316_1097863_1\n",
      "Product id      : 1000009316_1097863\n",
      "---------------------------------\n",
      "Annoy index     : 160\n",
      "Image file name : 1000014621_969225_1\n",
      "Product id      : 1000014621_969225\n",
      "---------------------------------\n",
      "Annoy index     : 161\n",
      "Image file name : 1000000489_1233988_1\n",
      "Product id      : 1000000489_1233988\n",
      "---------------------------------\n",
      "Annoy index     : 162\n",
      "Image file name : 1000005736_475217_1\n",
      "Product id      : 1000005736_475217\n",
      "---------------------------------\n",
      "Annoy index     : 163\n",
      "Image file name : 1000006420_369254_2\n",
      "Product id      : 1000006420_369254\n",
      "---------------------------------\n",
      "Annoy index     : 164\n",
      "Image file name : 1000018433_509959_4\n",
      "Product id      : 1000018433_509959\n",
      "---------------------------------\n",
      "Annoy index     : 165\n",
      "Image file name : 1000000489_2395275_1\n",
      "Product id      : 1000000489_2395275\n",
      "---------------------------------\n",
      "Annoy index     : 166\n",
      "Image file name : 1000008611_4888778_1\n",
      "Product id      : 1000008611_4888778\n",
      "---------------------------------\n",
      "Annoy index     : 167\n",
      "Image file name : 1000001703_43700_2\n",
      "Product id      : 1000001703_43700\n",
      "---------------------------------\n",
      "Annoy index     : 168\n",
      "Image file name : 1000018433_1062638_3\n",
      "Product id      : 1000018433_1062638\n",
      "---------------------------------\n",
      "Annoy index     : 169\n",
      "Image file name : 1000019470_694708_3\n",
      "Product id      : 1000019470_694708\n",
      "---------------------------------\n",
      "Annoy index     : 170\n",
      "Image file name : 1000009581_2980680_1\n",
      "Product id      : 1000009581_2980680\n",
      "---------------------------------\n",
      "Annoy index     : 171\n",
      "Image file name : 1000020031_175252_0\n",
      "Product id      : 1000020031_175252\n",
      "---------------------------------\n",
      "Annoy index     : 172\n",
      "Image file name : 1000017643_2107833_4\n",
      "Product id      : 1000017643_2107833\n",
      "---------------------------------\n",
      "Annoy index     : 173\n",
      "Image file name : 1000012299_1634032_1\n",
      "Product id      : 1000012299_1634032\n",
      "---------------------------------\n",
      "Annoy index     : 174\n",
      "Image file name : 1000019645_49755_2\n",
      "Product id      : 1000019645_49755\n",
      "---------------------------------\n",
      "Annoy index     : 175\n",
      "Image file name : 1000014545_2305450_1\n",
      "Product id      : 1000014545_2305450\n",
      "---------------------------------\n",
      "Annoy index     : 176\n",
      "Image file name : 1000018977_1853377_1\n",
      "Product id      : 1000018977_1853377\n",
      "---------------------------------\n",
      "Annoy index     : 177\n",
      "Image file name : 1000009561_612586_2\n",
      "Product id      : 1000009561_612586\n",
      "---------------------------------\n",
      "Annoy index     : 178\n",
      "Image file name : 1000002619_11213_1\n",
      "Product id      : 1000002619_11213\n",
      "---------------------------------\n",
      "Annoy index     : 179\n",
      "Image file name : 1000018015_2282093_1\n",
      "Product id      : 1000018015_2282093\n",
      "---------------------------------\n",
      "Annoy index     : 180\n",
      "Image file name : 1000005597_1527063_1\n",
      "Product id      : 1000005597_1527063\n",
      "---------------------------------\n",
      "Annoy index     : 181\n",
      "Image file name : 1000014826_3116960_1\n",
      "Product id      : 1000014826_3116960\n",
      "---------------------------------\n",
      "Annoy index     : 182\n",
      "Image file name : 1000017746_1101388_3\n",
      "Product id      : 1000017746_1101388\n",
      "---------------------------------\n",
      "Annoy index     : 183\n",
      "Image file name : 1000002619_50010_3\n",
      "Product id      : 1000002619_50010\n",
      "---------------------------------\n",
      "Annoy index     : 184\n",
      "Image file name : 1000017018_510437_1\n",
      "Product id      : 1000017018_510437\n",
      "---------------------------------\n",
      "Annoy index     : 185\n",
      "Image file name : 1000006420_451109_3\n",
      "Product id      : 1000006420_451109\n",
      "---------------------------------\n",
      "Annoy index     : 186\n",
      "Image file name : 1000004450_5156532_1\n",
      "Product id      : 1000004450_5156532\n",
      "---------------------------------\n",
      "Annoy index     : 187\n",
      "Image file name : 1000016180_3725398_4\n",
      "Product id      : 1000016180_3725398\n",
      "---------------------------------\n",
      "Annoy index     : 188\n",
      "Image file name : 1000002827_86297_1\n",
      "Product id      : 1000002827_86297\n",
      "---------------------------------\n",
      "Annoy index     : 189\n",
      "Image file name : 1000015780_507181_1\n",
      "Product id      : 1000015780_507181\n",
      "---------------------------------\n",
      "Annoy index     : 190\n",
      "Image file name : 1000017643_1678329_1\n",
      "Product id      : 1000017643_1678329\n",
      "---------------------------------\n",
      "Annoy index     : 191\n",
      "Image file name : 1000006551_5016752_1\n",
      "Product id      : 1000006551_5016752\n",
      "---------------------------------\n",
      "Annoy index     : 192\n",
      "Image file name : 1000019142_645646_1\n",
      "Product id      : 1000019142_645646\n",
      "---------------------------------\n",
      "Annoy index     : 193\n",
      "Image file name : 1000006044_1790440_2\n",
      "Product id      : 1000006044_1790440\n",
      "---------------------------------\n",
      "Annoy index     : 194\n",
      "Image file name : 1000019289_532754_1\n",
      "Product id      : 1000019289_532754\n",
      "---------------------------------\n",
      "Annoy index     : 195\n",
      "Image file name : 1000014826_3089051_3\n",
      "Product id      : 1000014826_3089051\n",
      "---------------------------------\n",
      "Annoy index     : 196\n",
      "Image file name : 1000009316_643631_2\n",
      "Product id      : 1000009316_643631\n",
      "---------------------------------\n",
      "Annoy index     : 197\n",
      "Image file name : 1000000489_1840753_1\n",
      "Product id      : 1000000489_1840753\n",
      "---------------------------------\n",
      "Annoy index     : 198\n",
      "Image file name : 1000017746_1078797_2\n",
      "Product id      : 1000017746_1078797\n",
      "---------------------------------\n",
      "Annoy index     : 199\n",
      "Image file name : 1000020717_360154_3\n",
      "Product id      : 1000020717_360154\n",
      "Step.1 - ANNOY index generation - Finished\n",
      "Step.2 - Similarity score calculation - Started \n",
      "Printing named_nearest_neighbors\n",
      "[{'similarity': 1.0, 'master_pi': '1000014826_683224', 'similar_pi': '1000014826_683224'}, {'similarity': 0.6915, 'master_pi': '1000014826_683224', 'similar_pi': '1000005736_475217'}, {'similarity': 0.6887, 'master_pi': '1000014826_683224', 'similar_pi': '1000020717_360154'}, {'similarity': 0.6613, 'master_pi': '1000014826_683224', 'similar_pi': '1000016591_1183410'}, {'similarity': 0.6606, 'master_pi': '1000014826_683224', 'similar_pi': '1000000489_2156712'}, {'similarity': 0.6556, 'master_pi': '1000014826_683224', 'similar_pi': '1000004450_124311'}, {'similarity': 0.6481, 'master_pi': '1000014826_683224', 'similar_pi': '1000004450_5156532'}, {'similarity': 0.6399, 'master_pi': '1000014826_683224', 'similar_pi': '1000016910_1063349'}, {'similarity': 0.6322, 'master_pi': '1000014826_683224', 'similar_pi': '1000013499_266873'}, {'similarity': 0.6319, 'master_pi': '1000014826_683224', 'similar_pi': '1000016591_1260132'}, {'similarity': 0.6303, 'master_pi': '1000014826_683224', 'similar_pi': '1000019184_1289169'}, {'similarity': 0.6279, 'master_pi': '1000014826_683224', 'similar_pi': '1000000461_543504'}, {'similarity': 0.6272, 'master_pi': '1000014826_683224', 'similar_pi': '1000018657_2051415'}, {'similarity': 0.6269, 'master_pi': '1000014826_683224', 'similar_pi': '1000012591_283383'}, {'similarity': 0.6256, 'master_pi': '1000014826_683224', 'similar_pi': '1000000489_2254961'}, {'similarity': 0.6219, 'master_pi': '1000014826_683224', 'similar_pi': '1000003705_296339'}, {'similarity': 0.6193, 'master_pi': '1000014826_683224', 'similar_pi': '1000009561_789018'}, {'similarity': 0.6187, 'master_pi': '1000014826_683224', 'similar_pi': '1000016910_905983'}, {'similarity': 0.6169, 'master_pi': '1000014826_683224', 'similar_pi': '1000018657_2659678'}, {'similarity': 0.6152, 'master_pi': '1000014826_683224', 'similar_pi': '1000006420_315626'}, {'similarity': 1.0, 'master_pi': '1000012591_283383', 'similar_pi': '1000012591_283383'}, {'similarity': 0.7853, 'master_pi': '1000012591_283383', 'similar_pi': '1000006450_418604'}, {'similarity': 0.7821, 'master_pi': '1000012591_283383', 'similar_pi': '1000017643_1678329'}, {'similarity': 0.7615, 'master_pi': '1000012591_283383', 'similar_pi': '1000010562_39641'}, {'similarity': 0.7412, 'master_pi': '1000012591_283383', 'similar_pi': '1000005352_4375297'}, {'similarity': 0.7328, 'master_pi': '1000012591_283383', 'similar_pi': '1000005352_1196207'}, {'similarity': 0.7326, 'master_pi': '1000012591_283383', 'similar_pi': '1000019142_3250699'}, {'similarity': 0.7325, 'master_pi': '1000012591_283383', 'similar_pi': '1000020031_4862403'}, {'similarity': 0.731, 'master_pi': '1000012591_283383', 'similar_pi': '1000003705_401309'}, {'similarity': 0.7291, 'master_pi': '1000012591_283383', 'similar_pi': '1000003633_2146904'}, {'similarity': 0.7194, 'master_pi': '1000012591_283383', 'similar_pi': '1000018657_2051415'}, {'similarity': 0.7138, 'master_pi': '1000012591_283383', 'similar_pi': '1000018209_5124502'}, {'similarity': 0.7106, 'master_pi': '1000012591_283383', 'similar_pi': '1000005436_61494'}, {'similarity': 0.7094, 'master_pi': '1000012591_283383', 'similar_pi': '1000019645_153411'}, {'similarity': 0.7063, 'master_pi': '1000012591_283383', 'similar_pi': '1000018209_245768'}, {'similarity': 0.7037, 'master_pi': '1000012591_283383', 'similar_pi': '1000018657_2659678'}, {'similarity': 0.7031, 'master_pi': '1000012591_283383', 'similar_pi': '1000006420_315626'}, {'similarity': 0.7029, 'master_pi': '1000012591_283383', 'similar_pi': '1000019289_532754'}, {'similarity': 0.6997, 'master_pi': '1000012591_283383', 'similar_pi': '1000006044_257220'}, {'similarity': 0.6991, 'master_pi': '1000012591_283383', 'similar_pi': '1000017306_662524'}, {'similarity': 1.0, 'master_pi': '1000016591_1260132', 'similar_pi': '1000016591_1260132'}, {'similarity': 0.8144, 'master_pi': '1000016591_1260132', 'similar_pi': '1000017018_510437'}, {'similarity': 0.7173, 'master_pi': '1000016591_1260132', 'similar_pi': '1000000489_2156712'}, {'similarity': 0.7095, 'master_pi': '1000016591_1260132', 'similar_pi': '1000005736_475217'}, {'similarity': 0.7037, 'master_pi': '1000016591_1260132', 'similar_pi': '1000014467_3872061'}, {'similarity': 0.7001, 'master_pi': '1000016591_1260132', 'similar_pi': '1000005736_97051'}, {'similarity': 0.6991, 'master_pi': '1000016591_1260132', 'similar_pi': '1000017746_269642'}, {'similarity': 0.6975, 'master_pi': '1000016591_1260132', 'similar_pi': '1000018657_2051415'}, {'similarity': 0.6889, 'master_pi': '1000016591_1260132', 'similar_pi': '1000006420_315626'}, {'similarity': 0.6881, 'master_pi': '1000016591_1260132', 'similar_pi': '1000006450_471043'}, {'similarity': 0.6856, 'master_pi': '1000016591_1260132', 'similar_pi': '1000018758_677648'}, {'similarity': 0.6734, 'master_pi': '1000016591_1260132', 'similar_pi': '1000019295_5555657'}, {'similarity': 0.6685, 'master_pi': '1000016591_1260132', 'similar_pi': '1000004450_5156532'}, {'similarity': 0.668, 'master_pi': '1000016591_1260132', 'similar_pi': '1000018657_2832634'}, {'similarity': 0.6677, 'master_pi': '1000016591_1260132', 'similar_pi': '1000005436_61494'}, {'similarity': 0.6673, 'master_pi': '1000016591_1260132', 'similar_pi': '1000005352_1196207'}, {'similarity': 0.6662, 'master_pi': '1000016591_1260132', 'similar_pi': '1000017643_1678329'}, {'similarity': 0.6658, 'master_pi': '1000016591_1260132', 'similar_pi': '1000014300_554766'}, {'similarity': 0.6643, 'master_pi': '1000016591_1260132', 'similar_pi': '1000015900_7056763'}, {'similarity': 0.6633, 'master_pi': '1000016591_1260132', 'similar_pi': '1000017981_1556417'}, {'similarity': 1.0, 'master_pi': '1000005892_51661', 'similar_pi': '1000005892_51661'}, {'similarity': 0.776, 'master_pi': '1000005892_51661', 'similar_pi': '1000019645_85406'}, {'similarity': 0.7755, 'master_pi': '1000005892_51661', 'similar_pi': '1000019645_49755'}, {'similarity': 0.7684, 'master_pi': '1000005892_51661', 'similar_pi': '1000005870_333655'}, {'similarity': 0.7682, 'master_pi': '1000005892_51661', 'similar_pi': '1000014300_377726'}, {'similarity': 0.7669, 'master_pi': '1000005892_51661', 'similar_pi': '1000014300_328844'}, {'similarity': 0.7603, 'master_pi': '1000005892_51661', 'similar_pi': '1000014204_202327'}, {'similarity': 0.7543, 'master_pi': '1000005892_51661', 'similar_pi': '1000002619_80272'}, {'similarity': 0.7418, 'master_pi': '1000005892_51661', 'similar_pi': '1000014100_468821'}, {'similarity': 0.741, 'master_pi': '1000005892_51661', 'similar_pi': '1000009316_1097863'}, {'similarity': 0.7366, 'master_pi': '1000005892_51661', 'similar_pi': '1000014204_86272'}, {'similarity': 0.7338, 'master_pi': '1000005892_51661', 'similar_pi': '1000014148_53965'}, {'similarity': 0.7318, 'master_pi': '1000005892_51661', 'similar_pi': '1000015780_507181'}, {'similarity': 0.7236, 'master_pi': '1000005892_51661', 'similar_pi': '1000016486_98843'}, {'similarity': 0.7231, 'master_pi': '1000005892_51661', 'similar_pi': '1000001589_687231'}, {'similarity': 0.7214, 'master_pi': '1000005892_51661', 'similar_pi': '1000017573_4670434'}, {'similarity': 0.721, 'master_pi': '1000005892_51661', 'similar_pi': '1000005870_383022'}, {'similarity': 0.7187, 'master_pi': '1000005892_51661', 'similar_pi': '1000010562_243157'}, {'similarity': 0.7179, 'master_pi': '1000005892_51661', 'similar_pi': '1000003705_426054'}, {'similarity': 0.7179, 'master_pi': '1000005892_51661', 'similar_pi': '1000002827_86297'}, {'similarity': 1.0, 'master_pi': '1000005906_1198165', 'similar_pi': '1000005906_1198165'}, {'similarity': 0.7169, 'master_pi': '1000005906_1198165', 'similar_pi': '1000005450_964923'}, {'similarity': 0.6894, 'master_pi': '1000005906_1198165', 'similar_pi': '1000001857_75766'}, {'similarity': 0.6878, 'master_pi': '1000005906_1198165', 'similar_pi': '1000017643_1905271'}, {'similarity': 0.6402, 'master_pi': '1000005906_1198165', 'similar_pi': '1000005736_247062'}, {'similarity': 0.6338, 'master_pi': '1000005906_1198165', 'similar_pi': '1000017981_1556417'}, {'similarity': 0.5939, 'master_pi': '1000005906_1198165', 'similar_pi': '1000019645_153411'}, {'similarity': 0.5903, 'master_pi': '1000005906_1198165', 'similar_pi': '1000006044_2941495'}, {'similarity': 0.5874, 'master_pi': '1000005906_1198165', 'similar_pi': '1000006420_369254'}, {'similarity': 0.5809, 'master_pi': '1000005906_1198165', 'similar_pi': '1000019295_5683365'}, {'similarity': 0.5796, 'master_pi': '1000005906_1198165', 'similar_pi': '1000000489_2156712'}, {'similarity': 0.5715, 'master_pi': '1000005906_1198165', 'similar_pi': '1000002312_870273'}, {'similarity': 0.5694, 'master_pi': '1000005906_1198165', 'similar_pi': '1000000489_1840753'}, {'similarity': 0.5691, 'master_pi': '1000005906_1198165', 'similar_pi': '1000006551_2617141'}, {'similarity': 0.5661, 'master_pi': '1000005906_1198165', 'similar_pi': '1000006420_451109'}, {'similarity': 0.5641, 'master_pi': '1000005906_1198165', 'similar_pi': '1000005736_97051'}, {'similarity': 0.5608, 'master_pi': '1000005906_1198165', 'similar_pi': '1000019289_532754'}, {'similarity': 0.5578, 'master_pi': '1000005906_1198165', 'similar_pi': '1000018657_2181570'}, {'similarity': 0.5565, 'master_pi': '1000005906_1198165', 'similar_pi': '1000017573_6083989'}, {'similarity': 0.5545, 'master_pi': '1000005906_1198165', 'similar_pi': '1000005736_475217'}, {'similarity': 1.0, 'master_pi': '1000005296_1541795', 'similar_pi': '1000005296_1541795'}, {'similarity': 0.7855, 'master_pi': '1000005296_1541795', 'similar_pi': '1000019645_49755'}, {'similarity': 0.757, 'master_pi': '1000005296_1541795', 'similar_pi': '1000009316_643631'}, {'similarity': 0.7547, 'master_pi': '1000005296_1541795', 'similar_pi': '1000005870_383022'}, {'similarity': 0.7441, 'master_pi': '1000005296_1541795', 'similar_pi': '1000010562_243157'}, {'similarity': 0.7414, 'master_pi': '1000005296_1541795', 'similar_pi': '1000016486_11905'}, {'similarity': 0.7398, 'master_pi': '1000005296_1541795', 'similar_pi': '1000015780_507181'}, {'similarity': 0.7354, 'master_pi': '1000005296_1541795', 'similar_pi': '1000019645_85406'}, {'similarity': 0.7353, 'master_pi': '1000005296_1541795', 'similar_pi': '1000016180_3725398'}, {'similarity': 0.7275, 'master_pi': '1000005296_1541795', 'similar_pi': '1000018985_556353'}, {'similarity': 0.7272, 'master_pi': '1000005296_1541795', 'similar_pi': '1000017306_1463281'}, {'similarity': 0.7229, 'master_pi': '1000005296_1541795', 'similar_pi': '1000015780_542711'}, {'similarity': 0.7223, 'master_pi': '1000005296_1541795', 'similar_pi': '1000005870_333655'}, {'similarity': 0.7204, 'master_pi': '1000005296_1541795', 'similar_pi': '1000001703_25700'}, {'similarity': 0.7182, 'master_pi': '1000005296_1541795', 'similar_pi': '1000009316_1097863'}, {'similarity': 0.7163, 'master_pi': '1000005296_1541795', 'similar_pi': '1000014826_3116960'}, {'similarity': 0.7138, 'master_pi': '1000005296_1541795', 'similar_pi': '1000018483_390709'}, {'similarity': 0.7088, 'master_pi': '1000005296_1541795', 'similar_pi': '1000005892_51661'}, {'similarity': 0.7052, 'master_pi': '1000005296_1541795', 'similar_pi': '1000002619_80272'}, {'similarity': 0.7048, 'master_pi': '1000005296_1541795', 'similar_pi': '1000000461_1477576'}, {'similarity': 1.0, 'master_pi': '1000018483_390709', 'similar_pi': '1000018483_390709'}, {'similarity': 0.8221, 'master_pi': '1000018483_390709', 'similar_pi': '1000016180_3725398'}, {'similarity': 0.7262, 'master_pi': '1000018483_390709', 'similar_pi': '1000015780_542711'}, {'similarity': 0.7165, 'master_pi': '1000018483_390709', 'similar_pi': '1000015780_470187'}, {'similarity': 0.7138, 'master_pi': '1000018483_390709', 'similar_pi': '1000005296_1541795'}, {'similarity': 0.7013, 'master_pi': '1000018483_390709', 'similar_pi': '1000018209_245768'}, {'similarity': 0.6958, 'master_pi': '1000018483_390709', 'similar_pi': '1000017306_662524'}, {'similarity': 0.6914, 'master_pi': '1000018483_390709', 'similar_pi': '1000018985_109015'}, {'similarity': 0.6898, 'master_pi': '1000018483_390709', 'similar_pi': '1000020751_1093721'}, {'similarity': 0.6852, 'master_pi': '1000018483_390709', 'similar_pi': '1000019645_85406'}, {'similarity': 0.685, 'master_pi': '1000018483_390709', 'similar_pi': '1000005352_1407342'}, {'similarity': 0.6846, 'master_pi': '1000018483_390709', 'similar_pi': '1000017306_1463281'}, {'similarity': 0.6811, 'master_pi': '1000018483_390709', 'similar_pi': '1000005870_383022'}, {'similarity': 0.6807, 'master_pi': '1000018483_390709', 'similar_pi': '1000014148_53965'}, {'similarity': 0.6789, 'master_pi': '1000018483_390709', 'similar_pi': '1000018433_509959'}, {'similarity': 0.6774, 'master_pi': '1000018483_390709', 'similar_pi': '1000010562_243157'}, {'similarity': 0.6766, 'master_pi': '1000018483_390709', 'similar_pi': '1000007158_259317'}, {'similarity': 0.6721, 'master_pi': '1000018483_390709', 'similar_pi': '1000017573_4670434'}, {'similarity': 0.6718, 'master_pi': '1000018483_390709', 'similar_pi': '1000005352_1196207'}, {'similarity': 0.6691, 'master_pi': '1000018483_390709', 'similar_pi': '1000018433_1062638'}, {'similarity': 1.0, 'master_pi': '1000000461_2059722', 'similar_pi': '1000000461_2059722'}, {'similarity': 0.7141, 'master_pi': '1000000461_2059722', 'similar_pi': '1000020751_5820622'}, {'similarity': 0.712, 'master_pi': '1000000461_2059722', 'similar_pi': '1000019645_49755'}, {'similarity': 0.7006, 'master_pi': '1000000461_2059722', 'similar_pi': '1000005870_383022'}, {'similarity': 0.6991, 'master_pi': '1000000461_2059722', 'similar_pi': '1000005870_333655'}, {'similarity': 0.6845, 'master_pi': '1000000461_2059722', 'similar_pi': '1000016504_191302'}, {'similarity': 0.6792, 'master_pi': '1000000461_2059722', 'similar_pi': '1000005296_1541795'}, {'similarity': 0.6702, 'master_pi': '1000000461_2059722', 'similar_pi': '1000015780_507181'}, {'similarity': 0.6624, 'master_pi': '1000000461_2059722', 'similar_pi': '1000009316_643631'}, {'similarity': 0.6604, 'master_pi': '1000000461_2059722', 'similar_pi': '1000018985_556353'}, {'similarity': 0.6602, 'master_pi': '1000000461_2059722', 'similar_pi': '1000015780_542711'}, {'similarity': 0.6593, 'master_pi': '1000000461_2059722', 'similar_pi': '1000008134_777401'}, {'similarity': 0.6551, 'master_pi': '1000000461_2059722', 'similar_pi': '1000009316_1097863'}, {'similarity': 0.6488, 'master_pi': '1000000461_2059722', 'similar_pi': '1000018657_2659678'}, {'similarity': 0.6475, 'master_pi': '1000000461_2059722', 'similar_pi': '1000019645_85406'}, {'similarity': 0.6449, 'master_pi': '1000000461_2059722', 'similar_pi': '1000005892_51661'}, {'similarity': 0.6425, 'master_pi': '1000000461_2059722', 'similar_pi': '1000002619_80272'}, {'similarity': 0.6381, 'master_pi': '1000000461_2059722', 'similar_pi': '1000014826_3116960'}, {'similarity': 0.6308, 'master_pi': '1000000461_2059722', 'similar_pi': '1000016486_11905'}, {'similarity': 0.6285, 'master_pi': '1000000461_2059722', 'similar_pi': '1000017746_989560'}, {'similarity': 1.0, 'master_pi': '1000010410_91501', 'similar_pi': '1000010410_91501'}, {'similarity': 0.8155, 'master_pi': '1000010410_91501', 'similar_pi': '1000017643_2107833'}, {'similarity': 0.7747, 'master_pi': '1000010410_91501', 'similar_pi': '1000017746_269642'}, {'similarity': 0.7672, 'master_pi': '1000010410_91501', 'similar_pi': '1000015900_7056763'}, {'similarity': 0.7486, 'master_pi': '1000010410_91501', 'similar_pi': '1000017746_1101388'}, {'similarity': 0.7482, 'master_pi': '1000010410_91501', 'similar_pi': '1000018758_677648'}, {'similarity': 0.7472, 'master_pi': '1000010410_91501', 'similar_pi': '1000010410_393714'}, {'similarity': 0.7423, 'master_pi': '1000010410_91501', 'similar_pi': '1000005597_3682227'}, {'similarity': 0.735, 'master_pi': '1000010410_91501', 'similar_pi': '1000018015_2282093'}, {'similarity': 0.7306, 'master_pi': '1000010410_91501', 'similar_pi': '1000012299_1634032'}, {'similarity': 0.7255, 'master_pi': '1000010410_91501', 'similar_pi': '1000006450_471043'}, {'similarity': 0.7218, 'master_pi': '1000010410_91501', 'similar_pi': '1000001857_43282'}, {'similarity': 0.7143, 'master_pi': '1000010410_91501', 'similar_pi': '1000014300_554766'}, {'similarity': 0.7142, 'master_pi': '1000010410_91501', 'similar_pi': '1000008611_4888778'}, {'similarity': 0.7121, 'master_pi': '1000010410_91501', 'similar_pi': '1000004450_5156532'}, {'similarity': 0.7014, 'master_pi': '1000010410_91501', 'similar_pi': '1000018209_5124502'}, {'similarity': 0.6994, 'master_pi': '1000010410_91501', 'similar_pi': '1000019470_694708'}, {'similarity': 0.698, 'master_pi': '1000010410_91501', 'similar_pi': '1000005906_5314526'}, {'similarity': 0.698, 'master_pi': '1000010410_91501', 'similar_pi': '1000002619_145002'}, {'similarity': 0.6968, 'master_pi': '1000010410_91501', 'similar_pi': '1000019446_1696752'}, {'similarity': 1.0, 'master_pi': '1000003705_401309', 'similar_pi': '1000003705_401309'}, {'similarity': 0.8054, 'master_pi': '1000003705_401309', 'similar_pi': '1000007158_205545'}, {'similarity': 0.7983, 'master_pi': '1000003705_401309', 'similar_pi': '1000005736_247062'}, {'similarity': 0.7969, 'master_pi': '1000003705_401309', 'similar_pi': '1000010562_39641'}, {'similarity': 0.7859, 'master_pi': '1000003705_401309', 'similar_pi': '1000020031_4862403'}, {'similarity': 0.7844, 'master_pi': '1000003705_401309', 'similar_pi': '1000009561_789018'}, {'similarity': 0.7839, 'master_pi': '1000003705_401309', 'similar_pi': '1000009316_1097863'}, {'similarity': 0.7823, 'master_pi': '1000003705_401309', 'similar_pi': '1000010562_243157'}, {'similarity': 0.7819, 'master_pi': '1000003705_401309', 'similar_pi': '1000018209_245768'}, {'similarity': 0.7791, 'master_pi': '1000003705_401309', 'similar_pi': '1000015780_542711'}, {'similarity': 0.7763, 'master_pi': '1000003705_401309', 'similar_pi': '1000013499_266873'}, {'similarity': 0.7748, 'master_pi': '1000003705_401309', 'similar_pi': '1000019289_532754'}, {'similarity': 0.7732, 'master_pi': '1000003705_401309', 'similar_pi': '1000018209_5124502'}, {'similarity': 0.7713, 'master_pi': '1000003705_401309', 'similar_pi': '1000019142_3250699'}, {'similarity': 0.7707, 'master_pi': '1000003705_401309', 'similar_pi': '1000020743_5730464'}, {'similarity': 0.7702, 'master_pi': '1000003705_401309', 'similar_pi': '1000018657_2181570'}, {'similarity': 0.7678, 'master_pi': '1000003705_401309', 'similar_pi': '1000019289_79232'}, {'similarity': 0.7643, 'master_pi': '1000003705_401309', 'similar_pi': '1000015900_7056763'}, {'similarity': 0.7631, 'master_pi': '1000003705_401309', 'similar_pi': '1000015780_507181'}, {'similarity': 0.7614, 'master_pi': '1000003705_401309', 'similar_pi': '1000006450_418604'}, {'similarity': 1.0, 'master_pi': '1000004298_48192', 'similar_pi': '1000004298_48192'}, {'similarity': 0.804, 'master_pi': '1000004298_48192', 'similar_pi': '1000004450_5156532'}, {'similarity': 0.8013, 'master_pi': '1000004298_48192', 'similar_pi': '1000004450_124311'}, {'similarity': 0.7904, 'master_pi': '1000004298_48192', 'similar_pi': '1000005597_3682227'}, {'similarity': 0.7548, 'master_pi': '1000004298_48192', 'similar_pi': '1000004228_2283011'}, {'similarity': 0.7301, 'master_pi': '1000004298_48192', 'similar_pi': '1000018758_677648'}, {'similarity': 0.7233, 'master_pi': '1000004298_48192', 'similar_pi': '1000013499_266873'}, {'similarity': 0.7176, 'master_pi': '1000004298_48192', 'similar_pi': '1000000489_1840753'}, {'similarity': 0.7162, 'master_pi': '1000004298_48192', 'similar_pi': '1000015900_7056763'}, {'similarity': 0.7158, 'master_pi': '1000004298_48192', 'similar_pi': '1000018015_2282093'}, {'similarity': 0.7118, 'master_pi': '1000004298_48192', 'similar_pi': '1000009561_789018'}, {'similarity': 0.7118, 'master_pi': '1000004298_48192', 'similar_pi': '1000019446_1696752'}, {'similarity': 0.7082, 'master_pi': '1000004298_48192', 'similar_pi': '1000000489_1233988'}, {'similarity': 0.705, 'master_pi': '1000004298_48192', 'similar_pi': '1000005597_694815'}, {'similarity': 0.704, 'master_pi': '1000004298_48192', 'similar_pi': '1000000461_543504'}, {'similarity': 0.6988, 'master_pi': '1000004298_48192', 'similar_pi': '1000016910_905983'}, {'similarity': 0.6982, 'master_pi': '1000004298_48192', 'similar_pi': '1000004228_590464'}, {'similarity': 0.6952, 'master_pi': '1000004298_48192', 'similar_pi': '1000005736_475217'}, {'similarity': 0.6926, 'master_pi': '1000004298_48192', 'similar_pi': '1000019184_1289169'}, {'similarity': 0.6903, 'master_pi': '1000004298_48192', 'similar_pi': '1000018657_2181570'}, {'similarity': 1.0, 'master_pi': '1000000461_1328228', 'similar_pi': '1000000461_1328228'}, {'similarity': 0.7761, 'master_pi': '1000000461_1328228', 'similar_pi': '1000019289_532754'}, {'similarity': 0.7664, 'master_pi': '1000000461_1328228', 'similar_pi': '1000018758_677648'}, {'similarity': 0.7614, 'master_pi': '1000000461_1328228', 'similar_pi': '1000017746_269642'}, {'similarity': 0.7587, 'master_pi': '1000000461_1328228', 'similar_pi': '1000017643_1678329'}, {'similarity': 0.7532, 'master_pi': '1000000461_1328228', 'similar_pi': '1000003705_401309'}, {'similarity': 0.753, 'master_pi': '1000000461_1328228', 'similar_pi': '1000006450_471043'}, {'similarity': 0.7511, 'master_pi': '1000000461_1328228', 'similar_pi': '1000020743_5730464'}, {'similarity': 0.7381, 'master_pi': '1000000461_1328228', 'similar_pi': '1000002181_2142942'}, {'similarity': 0.7336, 'master_pi': '1000000461_1328228', 'similar_pi': '1000005736_247062'}, {'similarity': 0.7265, 'master_pi': '1000000461_1328228', 'similar_pi': '1000002312_870273'}, {'similarity': 0.7261, 'master_pi': '1000000461_1328228', 'similar_pi': '1000017306_662524'}, {'similarity': 0.7248, 'master_pi': '1000000461_1328228', 'similar_pi': '1000006044_257220'}, {'similarity': 0.7242, 'master_pi': '1000000461_1328228', 'similar_pi': '1000005736_97051'}, {'similarity': 0.7219, 'master_pi': '1000000461_1328228', 'similar_pi': '1000018657_2181570'}, {'similarity': 0.7201, 'master_pi': '1000000461_1328228', 'similar_pi': '1000005906_566835'}, {'similarity': 0.7198, 'master_pi': '1000000461_1328228', 'similar_pi': '1000009561_612586'}, {'similarity': 0.7178, 'master_pi': '1000000461_1328228', 'similar_pi': '1000015780_542711'}, {'similarity': 0.7174, 'master_pi': '1000000461_1328228', 'similar_pi': '1000005436_61494'}, {'similarity': 0.7147, 'master_pi': '1000000461_1328228', 'similar_pi': '1000017746_1101388'}, {'similarity': 1.0, 'master_pi': '1000005296_1162891', 'similar_pi': '1000005296_1162891'}, {'similarity': 0.7128, 'master_pi': '1000005296_1162891', 'similar_pi': '1000008134_777401'}, {'similarity': 0.6879, 'master_pi': '1000005296_1162891', 'similar_pi': '1000007158_205545'}, {'similarity': 0.681, 'master_pi': '1000005296_1162891', 'similar_pi': '1000006044_257220'}, {'similarity': 0.6793, 'master_pi': '1000005296_1162891', 'similar_pi': '1000015780_507181'}, {'similarity': 0.6703, 'master_pi': '1000005296_1162891', 'similar_pi': '1000015780_542711'}, {'similarity': 0.664, 'master_pi': '1000005296_1162891', 'similar_pi': '1000009316_643631'}, {'similarity': 0.6605, 'master_pi': '1000005296_1162891', 'similar_pi': '1000003705_426054'}, {'similarity': 0.6603, 'master_pi': '1000005296_1162891', 'similar_pi': '1000000461_543504'}, {'similarity': 0.6551, 'master_pi': '1000005296_1162891', 'similar_pi': '1000018657_2181570'}, {'similarity': 0.6537, 'master_pi': '1000005296_1162891', 'similar_pi': '1000018657_2659678'}, {'similarity': 0.6532, 'master_pi': '1000005296_1162891', 'similar_pi': '1000019289_532754'}, {'similarity': 0.6512, 'master_pi': '1000005296_1162891', 'similar_pi': '1000009316_1097863'}, {'similarity': 0.651, 'master_pi': '1000005296_1162891', 'similar_pi': '1000005352_1196207'}, {'similarity': 0.6476, 'master_pi': '1000005296_1162891', 'similar_pi': '1000002619_80272'}, {'similarity': 0.6459, 'master_pi': '1000005296_1162891', 'similar_pi': '1000005436_61494'}, {'similarity': 0.6431, 'master_pi': '1000005296_1162891', 'similar_pi': '1000018985_556353'}, {'similarity': 0.6397, 'master_pi': '1000005296_1162891', 'similar_pi': '1000020031_4862403'}, {'similarity': 0.635, 'master_pi': '1000005296_1162891', 'similar_pi': '1000019035_1436324'}, {'similarity': 0.6307, 'master_pi': '1000005296_1162891', 'similar_pi': '1000018209_5124502'}, {'similarity': 1.0, 'master_pi': '1000006044_506650', 'similar_pi': '1000006044_506650'}, {'similarity': 0.8375, 'master_pi': '1000006044_506650', 'similar_pi': '1000006044_2941495'}, {'similarity': 0.8152, 'master_pi': '1000006044_506650', 'similar_pi': '1000005736_247062'}, {'similarity': 0.7838, 'master_pi': '1000006044_506650', 'similar_pi': '1000006044_1790440'}, {'similarity': 0.7772, 'master_pi': '1000006044_506650', 'similar_pi': '1000009581_2980680'}, {'similarity': 0.7745, 'master_pi': '1000006044_506650', 'similar_pi': '1000006551_2617141'}, {'similarity': 0.7525, 'master_pi': '1000006044_506650', 'similar_pi': '1000019035_1436324'}, {'similarity': 0.7511, 'master_pi': '1000006044_506650', 'similar_pi': '1000006420_451109'}, {'similarity': 0.7469, 'master_pi': '1000006044_506650', 'similar_pi': '1000019035_1240668'}, {'similarity': 0.7441, 'master_pi': '1000006044_506650', 'similar_pi': '1000017573_6083989'}, {'similarity': 0.7413, 'master_pi': '1000006044_506650', 'similar_pi': '1000016486_98843'}, {'similarity': 0.731, 'master_pi': '1000006044_506650', 'similar_pi': '1000018657_2181570'}, {'similarity': 0.7291, 'master_pi': '1000006044_506650', 'similar_pi': '1000006044_257220'}, {'similarity': 0.7262, 'master_pi': '1000006044_506650', 'similar_pi': '1000003705_401309'}, {'similarity': 0.7175, 'master_pi': '1000006044_506650', 'similar_pi': '1000020743_5730464'}, {'similarity': 0.7173, 'master_pi': '1000006044_506650', 'similar_pi': '1000007158_205545'}, {'similarity': 0.7124, 'master_pi': '1000006044_506650', 'similar_pi': '1000005906_566835'}, {'similarity': 0.7105, 'master_pi': '1000006044_506650', 'similar_pi': '1000017643_1905271'}, {'similarity': 0.7071, 'master_pi': '1000006044_506650', 'similar_pi': '1000019289_532754'}, {'similarity': 0.7053, 'master_pi': '1000006044_506650', 'similar_pi': '1000006972_5289779'}, {'similarity': 1.0, 'master_pi': '1000016504_417475', 'similar_pi': '1000016504_417475'}, {'similarity': 0.7503, 'master_pi': '1000016504_417475', 'similar_pi': '1000019142_3250699'}, {'similarity': 0.744, 'master_pi': '1000016504_417475', 'similar_pi': '1000015780_507181'}, {'similarity': 0.7354, 'master_pi': '1000016504_417475', 'similar_pi': '1000009561_612586'}, {'similarity': 0.7343, 'master_pi': '1000016504_417475', 'similar_pi': '1000015900_7056763'}, {'similarity': 0.7341, 'master_pi': '1000016504_417475', 'similar_pi': '1000009316_643631'}, {'similarity': 0.7321, 'master_pi': '1000016504_417475', 'similar_pi': '1000005352_1196207'}, {'similarity': 0.7315, 'master_pi': '1000016504_417475', 'similar_pi': '1000018209_5124502'}, {'similarity': 0.73, 'master_pi': '1000016504_417475', 'similar_pi': '1000010562_39641'}, {'similarity': 0.7276, 'master_pi': '1000016504_417475', 'similar_pi': '1000017643_1678329'}, {'similarity': 0.7197, 'master_pi': '1000016504_417475', 'similar_pi': '1000018209_245768'}, {'similarity': 0.7197, 'master_pi': '1000016504_417475', 'similar_pi': '1000006044_257220'}, {'similarity': 0.7179, 'master_pi': '1000016504_417475', 'similar_pi': '1000018985_556353'}, {'similarity': 0.7175, 'master_pi': '1000016504_417475', 'similar_pi': '1000018657_2832634'}, {'similarity': 0.7125, 'master_pi': '1000016504_417475', 'similar_pi': '1000003705_401309'}, {'similarity': 0.7093, 'master_pi': '1000016504_417475', 'similar_pi': '1000005436_61494'}, {'similarity': 0.7076, 'master_pi': '1000016504_417475', 'similar_pi': '1000014826_3116960'}, {'similarity': 0.6998, 'master_pi': '1000016504_417475', 'similar_pi': '1000010562_243157'}, {'similarity': 0.6959, 'master_pi': '1000016504_417475', 'similar_pi': '1000020717_360154'}, {'similarity': 0.6936, 'master_pi': '1000016504_417475', 'similar_pi': '1000015780_542711'}, {'similarity': 1.0, 'master_pi': '1000016486_233723', 'similar_pi': '1000016486_233723'}, {'similarity': 0.7566, 'master_pi': '1000016486_233723', 'similar_pi': '1000019035_1436324'}, {'similarity': 0.7536, 'master_pi': '1000016486_233723', 'similar_pi': '1000006972_5289779'}, {'similarity': 0.74, 'master_pi': '1000016486_233723', 'similar_pi': '1000006972_589055'}, {'similarity': 0.7032, 'master_pi': '1000016486_233723', 'similar_pi': '1000009581_2980680'}, {'similarity': 0.6931, 'master_pi': '1000016486_233723', 'similar_pi': '1000006420_451109'}, {'similarity': 0.6912, 'master_pi': '1000016486_233723', 'similar_pi': '1000018606_1788990'}, {'similarity': 0.6877, 'master_pi': '1000016486_233723', 'similar_pi': '1000007158_205545'}, {'similarity': 0.6703, 'master_pi': '1000016486_233723', 'similar_pi': '1000019035_1240668'}, {'similarity': 0.6666, 'master_pi': '1000016486_233723', 'similar_pi': '1000006044_1790440'}, {'similarity': 0.6648, 'master_pi': '1000016486_233723', 'similar_pi': '1000006044_2941495'}, {'similarity': 0.6608, 'master_pi': '1000016486_233723', 'similar_pi': '1000006044_506650'}, {'similarity': 0.6595, 'master_pi': '1000016486_233723', 'similar_pi': '1000005597_1527063'}, {'similarity': 0.6545, 'master_pi': '1000016486_233723', 'similar_pi': '1000006044_257220'}, {'similarity': 0.6503, 'master_pi': '1000016486_233723', 'similar_pi': '1000008134_777401'}, {'similarity': 0.6356, 'master_pi': '1000016486_233723', 'similar_pi': '1000005736_247062'}, {'similarity': 0.6356, 'master_pi': '1000016486_233723', 'similar_pi': '1000001857_75766'}, {'similarity': 0.6343, 'master_pi': '1000016486_233723', 'similar_pi': '1000009316_1097863'}, {'similarity': 0.6326, 'master_pi': '1000016486_233723', 'similar_pi': '1000006551_2617141'}, {'similarity': 0.6299, 'master_pi': '1000016486_233723', 'similar_pi': '1000003705_401309'}, {'similarity': 1.0, 'master_pi': '1000018657_1411110', 'similar_pi': '1000018657_1411110'}, {'similarity': 0.7655, 'master_pi': '1000018657_1411110', 'similar_pi': '1000014826_3116960'}, {'similarity': 0.7654, 'master_pi': '1000018657_1411110', 'similar_pi': '1000015780_542711'}, {'similarity': 0.7621, 'master_pi': '1000018657_1411110', 'similar_pi': '1000002619_11213'}, {'similarity': 0.7338, 'master_pi': '1000018657_1411110', 'similar_pi': '1000009561_612586'}, {'similarity': 0.7297, 'master_pi': '1000018657_1411110', 'similar_pi': '1000003705_426054'}, {'similarity': 0.7176, 'master_pi': '1000018657_1411110', 'similar_pi': '1000010562_243157'}, {'similarity': 0.7135, 'master_pi': '1000018657_1411110', 'similar_pi': '1000019645_85406'}, {'similarity': 0.7109, 'master_pi': '1000018657_1411110', 'similar_pi': '1000002999_5720269'}, {'similarity': 0.7095, 'master_pi': '1000018657_1411110', 'similar_pi': '1000015780_470187'}, {'similarity': 0.7075, 'master_pi': '1000018657_1411110', 'similar_pi': '1000019289_79232'}, {'similarity': 0.6919, 'master_pi': '1000018657_1411110', 'similar_pi': '1000018209_5124502'}, {'similarity': 0.6909, 'master_pi': '1000018657_1411110', 'similar_pi': '1000018209_245768'}, {'similarity': 0.6888, 'master_pi': '1000018657_1411110', 'similar_pi': '1000019289_532754'}, {'similarity': 0.6884, 'master_pi': '1000018657_1411110', 'similar_pi': '1000002619_286869'}, {'similarity': 0.6883, 'master_pi': '1000018657_1411110', 'similar_pi': '1000016486_11905'}, {'similarity': 0.6856, 'master_pi': '1000018657_1411110', 'similar_pi': '1000015780_507181'}, {'similarity': 0.683, 'master_pi': '1000018657_1411110', 'similar_pi': '1000006420_408794'}, {'similarity': 0.6768, 'master_pi': '1000018657_1411110', 'similar_pi': '1000018657_2659678'}, {'similarity': 0.676, 'master_pi': '1000018657_1411110', 'similar_pi': '1000002827_86297'}, {'similarity': 1.0, 'master_pi': '1000001974_177901', 'similar_pi': '1000001974_177901'}, {'similarity': 0.804, 'master_pi': '1000001974_177901', 'similar_pi': '1000015900_7056763'}, {'similarity': 0.7631, 'master_pi': '1000001974_177901', 'similar_pi': '1000012299_648800'}, {'similarity': 0.7629, 'master_pi': '1000001974_177901', 'similar_pi': '1000012299_1634032'}, {'similarity': 0.7523, 'master_pi': '1000001974_177901', 'similar_pi': '1000018985_2432765'}, {'similarity': 0.7331, 'master_pi': '1000001974_177901', 'similar_pi': '1000017746_269642'}, {'similarity': 0.7305, 'master_pi': '1000001974_177901', 'similar_pi': '1000008611_4888778'}, {'similarity': 0.7293, 'master_pi': '1000001974_177901', 'similar_pi': '1000005597_3682227'}, {'similarity': 0.7095, 'master_pi': '1000001974_177901', 'similar_pi': '1000008611_1387665'}, {'similarity': 0.7069, 'master_pi': '1000001974_177901', 'similar_pi': '1000018015_2282093'}, {'similarity': 0.7067, 'master_pi': '1000001974_177901', 'similar_pi': '1000017643_2107833'}, {'similarity': 0.7045, 'master_pi': '1000001974_177901', 'similar_pi': '1000002619_286869'}, {'similarity': 0.6955, 'master_pi': '1000001974_177901', 'similar_pi': '1000019446_83218'}, {'similarity': 0.6894, 'master_pi': '1000001974_177901', 'similar_pi': '1000009561_612586'}, {'similarity': 0.6861, 'master_pi': '1000001974_177901', 'similar_pi': '1000019446_1696752'}, {'similarity': 0.6811, 'master_pi': '1000001974_177901', 'similar_pi': '1000004228_2283011'}, {'similarity': 0.6807, 'master_pi': '1000001974_177901', 'similar_pi': '1000002181_2051334'}, {'similarity': 0.6774, 'master_pi': '1000001974_177901', 'similar_pi': '1000017746_1101388'}, {'similarity': 0.6773, 'master_pi': '1000001974_177901', 'similar_pi': '1000019470_694708'}, {'similarity': 0.6754, 'master_pi': '1000001974_177901', 'similar_pi': '1000005906_5314526'}, {'similarity': 1.0, 'master_pi': '1000004450_124311', 'similar_pi': '1000004450_124311'}, {'similarity': 0.808, 'master_pi': '1000004450_124311', 'similar_pi': '1000013499_266873'}, {'similarity': 0.8013, 'master_pi': '1000004450_124311', 'similar_pi': '1000004298_48192'}, {'similarity': 0.7646, 'master_pi': '1000004450_124311', 'similar_pi': '1000005736_247062'}, {'similarity': 0.7633, 'master_pi': '1000004450_124311', 'similar_pi': '1000004450_5156532'}, {'similarity': 0.7547, 'master_pi': '1000004450_124311', 'similar_pi': '1000009561_789018'}, {'similarity': 0.7397, 'master_pi': '1000004450_124311', 'similar_pi': '1000019184_1289169'}, {'similarity': 0.7326, 'master_pi': '1000004450_124311', 'similar_pi': '1000017573_6083989'}, {'similarity': 0.7243, 'master_pi': '1000004450_124311', 'similar_pi': '1000004228_2283011'}, {'similarity': 0.7237, 'master_pi': '1000004450_124311', 'similar_pi': '1000006551_5016752'}, {'similarity': 0.7128, 'master_pi': '1000004450_124311', 'similar_pi': '1000005597_3682227'}, {'similarity': 0.7025, 'master_pi': '1000004450_124311', 'similar_pi': '1000006044_2941495'}, {'similarity': 0.6949, 'master_pi': '1000004450_124311', 'similar_pi': '1000003705_401309'}, {'similarity': 0.691, 'master_pi': '1000004450_124311', 'similar_pi': '1000004228_590464'}, {'similarity': 0.6906, 'master_pi': '1000004450_124311', 'similar_pi': '1000005597_694815'}, {'similarity': 0.6894, 'master_pi': '1000004450_124311', 'similar_pi': '1000020743_162205'}, {'similarity': 0.6886, 'master_pi': '1000004450_124311', 'similar_pi': '1000000461_543504'}, {'similarity': 0.683, 'master_pi': '1000004450_124311', 'similar_pi': '1000000489_1233988'}, {'similarity': 0.6826, 'master_pi': '1000004450_124311', 'similar_pi': '1000016910_905983'}, {'similarity': 0.6783, 'master_pi': '1000004450_124311', 'similar_pi': '1000005296_1707734'}, {'similarity': 1.0, 'master_pi': '1000006044_2941495', 'similar_pi': '1000006044_2941495'}, {'similarity': 0.8662, 'master_pi': '1000006044_2941495', 'similar_pi': '1000005736_247062'}, {'similarity': 0.8375, 'master_pi': '1000006044_2941495', 'similar_pi': '1000006044_506650'}, {'similarity': 0.8183, 'master_pi': '1000006044_2941495', 'similar_pi': '1000017573_6083989'}, {'similarity': 0.76, 'master_pi': '1000006044_2941495', 'similar_pi': '1000006551_2617141'}, {'similarity': 0.7585, 'master_pi': '1000006044_2941495', 'similar_pi': '1000006420_451109'}, {'similarity': 0.7385, 'master_pi': '1000006044_2941495', 'similar_pi': '1000005906_566835'}, {'similarity': 0.7337, 'master_pi': '1000006044_2941495', 'similar_pi': '1000006972_5289779'}, {'similarity': 0.7272, 'master_pi': '1000006044_2941495', 'similar_pi': '1000013499_266873'}, {'similarity': 0.7259, 'master_pi': '1000006044_2941495', 'similar_pi': '1000019035_1436324'}, {'similarity': 0.715, 'master_pi': '1000006044_2941495', 'similar_pi': '1000018657_2181570'}, {'similarity': 0.71, 'master_pi': '1000006044_2941495', 'similar_pi': '1000006972_589055'}, {'similarity': 0.7069, 'master_pi': '1000006044_2941495', 'similar_pi': '1000020743_5730464'}, {'similarity': 0.7025, 'master_pi': '1000006044_2941495', 'similar_pi': '1000004450_124311'}, {'similarity': 0.6994, 'master_pi': '1000006044_2941495', 'similar_pi': '1000006044_257220'}, {'similarity': 0.6994, 'master_pi': '1000006044_2941495', 'similar_pi': '1000003705_401309'}, {'similarity': 0.6963, 'master_pi': '1000006044_2941495', 'similar_pi': '1000017643_1905271'}, {'similarity': 0.6959, 'master_pi': '1000006044_2941495', 'similar_pi': '1000002181_2142942'}, {'similarity': 0.694, 'master_pi': '1000006044_2941495', 'similar_pi': '1000006450_471043'}, {'similarity': 0.6928, 'master_pi': '1000006044_2941495', 'similar_pi': '1000000461_1328228'}, {'similarity': 1.0, 'master_pi': '1000017306_662524', 'similar_pi': '1000017306_662524'}, {'similarity': 0.8427, 'master_pi': '1000017306_662524', 'similar_pi': '1000005436_61494'}, {'similarity': 0.7913, 'master_pi': '1000017306_662524', 'similar_pi': '1000019289_532754'}, {'similarity': 0.7833, 'master_pi': '1000017306_662524', 'similar_pi': '1000019142_3250699'}, {'similarity': 0.7765, 'master_pi': '1000017306_662524', 'similar_pi': '1000017643_1678329'}, {'similarity': 0.7636, 'master_pi': '1000017306_662524', 'similar_pi': '1000019289_79232'}, {'similarity': 0.7582, 'master_pi': '1000017306_662524', 'similar_pi': '1000009561_612586'}, {'similarity': 0.7542, 'master_pi': '1000017306_662524', 'similar_pi': '1000018209_245768'}, {'similarity': 0.7535, 'master_pi': '1000017306_662524', 'similar_pi': '1000018209_5124502'}, {'similarity': 0.7524, 'master_pi': '1000017306_662524', 'similar_pi': '1000019446_1373376'}, {'similarity': 0.752, 'master_pi': '1000017306_662524', 'similar_pi': '1000019645_153411'}, {'similarity': 0.7485, 'master_pi': '1000017306_662524', 'similar_pi': '1000020031_4862403'}, {'similarity': 0.7462, 'master_pi': '1000017306_662524', 'similar_pi': '1000014826_1410870'}, {'similarity': 0.7447, 'master_pi': '1000017306_662524', 'similar_pi': '1000005736_97051'}, {'similarity': 0.7428, 'master_pi': '1000017306_662524', 'similar_pi': '1000018657_2832634'}, {'similarity': 0.7401, 'master_pi': '1000017306_662524', 'similar_pi': '1000015780_542711'}, {'similarity': 0.7377, 'master_pi': '1000017306_662524', 'similar_pi': '1000003705_401309'}, {'similarity': 0.7327, 'master_pi': '1000017306_662524', 'similar_pi': '1000010562_39641'}, {'similarity': 0.7295, 'master_pi': '1000017306_662524', 'similar_pi': '1000006420_315626'}, {'similarity': 0.7286, 'master_pi': '1000017306_662524', 'similar_pi': '1000005352_4375297'}, {'similarity': 1.0, 'master_pi': '1000003705_426054', 'similar_pi': '1000003705_426054'}, {'similarity': 0.8302, 'master_pi': '1000003705_426054', 'similar_pi': '1000002619_80272'}, {'similarity': 0.8034, 'master_pi': '1000003705_426054', 'similar_pi': '1000019645_85406'}, {'similarity': 0.7961, 'master_pi': '1000003705_426054', 'similar_pi': '1000002619_11213'}, {'similarity': 0.7917, 'master_pi': '1000003705_426054', 'similar_pi': '1000002827_86297'}, {'similarity': 0.7885, 'master_pi': '1000003705_426054', 'similar_pi': '1000015780_507181'}, {'similarity': 0.7869, 'master_pi': '1000003705_426054', 'similar_pi': '1000015780_542711'}, {'similarity': 0.7822, 'master_pi': '1000003705_426054', 'similar_pi': '1000014826_3116960'}, {'similarity': 0.7819, 'master_pi': '1000003705_426054', 'similar_pi': '1000002181_2051334'}, {'similarity': 0.7757, 'master_pi': '1000003705_426054', 'similar_pi': '1000009561_612586'}, {'similarity': 0.7535, 'master_pi': '1000003705_426054', 'similar_pi': '1000005352_1407342'}, {'similarity': 0.7508, 'master_pi': '1000003705_426054', 'similar_pi': '1000014300_377726'}, {'similarity': 0.7484, 'master_pi': '1000003705_426054', 'similar_pi': '1000018985_556353'}, {'similarity': 0.7463, 'master_pi': '1000003705_426054', 'similar_pi': '1000010562_243157'}, {'similarity': 0.7343, 'master_pi': '1000003705_426054', 'similar_pi': '1000016486_11905'}, {'similarity': 0.7336, 'master_pi': '1000003705_426054', 'similar_pi': '1000014148_53965'}, {'similarity': 0.7306, 'master_pi': '1000003705_426054', 'similar_pi': '1000000461_543504'}, {'similarity': 0.7297, 'master_pi': '1000003705_426054', 'similar_pi': '1000009316_1097863'}, {'similarity': 0.7297, 'master_pi': '1000003705_426054', 'similar_pi': '1000018657_1411110'}, {'similarity': 0.7294, 'master_pi': '1000003705_426054', 'similar_pi': '1000003705_401309'}, {'similarity': 1.0, 'master_pi': '1000015900_7056763', 'similar_pi': '1000015900_7056763'}, {'similarity': 0.8354, 'master_pi': '1000015900_7056763', 'similar_pi': '1000017746_269642'}, {'similarity': 0.8316, 'master_pi': '1000015900_7056763', 'similar_pi': '1000005597_3682227'}, {'similarity': 0.8197, 'master_pi': '1000015900_7056763', 'similar_pi': '1000018758_677648'}, {'similarity': 0.8124, 'master_pi': '1000015900_7056763', 'similar_pi': '1000018015_2282093'}, {'similarity': 0.806, 'master_pi': '1000015900_7056763', 'similar_pi': '1000018209_5124502'}, {'similarity': 0.804, 'master_pi': '1000015900_7056763', 'similar_pi': '1000001974_177901'}, {'similarity': 0.8027, 'master_pi': '1000015900_7056763', 'similar_pi': '1000009561_612586'}, {'similarity': 0.7994, 'master_pi': '1000015900_7056763', 'similar_pi': '1000017746_1101388'}, {'similarity': 0.7949, 'master_pi': '1000015900_7056763', 'similar_pi': '1000002181_2051334'}, {'similarity': 0.7923, 'master_pi': '1000015900_7056763', 'similar_pi': '1000016965_2463103'}, {'similarity': 0.7882, 'master_pi': '1000015900_7056763', 'similar_pi': '1000010562_243157'}, {'similarity': 0.7834, 'master_pi': '1000015900_7056763', 'similar_pi': '1000015780_507181'}, {'similarity': 0.7819, 'master_pi': '1000015900_7056763', 'similar_pi': '1000018209_245768'}, {'similarity': 0.7791, 'master_pi': '1000015900_7056763', 'similar_pi': '1000002181_2142942'}, {'similarity': 0.7758, 'master_pi': '1000015900_7056763', 'similar_pi': '1000010562_39641'}, {'similarity': 0.7746, 'master_pi': '1000015900_7056763', 'similar_pi': '1000002619_286869'}, {'similarity': 0.7741, 'master_pi': '1000015900_7056763', 'similar_pi': '1000017643_2107833'}, {'similarity': 0.7735, 'master_pi': '1000015900_7056763', 'similar_pi': '1000004450_5156532'}, {'similarity': 0.771, 'master_pi': '1000015900_7056763', 'similar_pi': '1000019142_3250699'}, {'similarity': 1.0, 'master_pi': '1000019142_3250699', 'similar_pi': '1000019142_3250699'}, {'similarity': 0.8489, 'master_pi': '1000019142_3250699', 'similar_pi': '1000018209_5124502'}, {'similarity': 0.8261, 'master_pi': '1000019142_3250699', 'similar_pi': '1000018209_245768'}, {'similarity': 0.8223, 'master_pi': '1000019142_3250699', 'similar_pi': '1000005436_61494'}, {'similarity': 0.814, 'master_pi': '1000019142_3250699', 'similar_pi': '1000005352_4375297'}, {'similarity': 0.8103, 'master_pi': '1000019142_3250699', 'similar_pi': '1000010562_39641'}, {'similarity': 0.8042, 'master_pi': '1000019142_3250699', 'similar_pi': '1000005352_1196207'}, {'similarity': 0.8031, 'master_pi': '1000019142_3250699', 'similar_pi': '1000017643_1678329'}, {'similarity': 0.7855, 'master_pi': '1000019142_3250699', 'similar_pi': '1000010562_243157'}, {'similarity': 0.7833, 'master_pi': '1000019142_3250699', 'similar_pi': '1000017306_662524'}, {'similarity': 0.7756, 'master_pi': '1000019142_3250699', 'similar_pi': '1000019289_532754'}, {'similarity': 0.7729, 'master_pi': '1000019142_3250699', 'similar_pi': '1000006420_315626'}, {'similarity': 0.7721, 'master_pi': '1000019142_3250699', 'similar_pi': '1000009561_612586'}, {'similarity': 0.7713, 'master_pi': '1000019142_3250699', 'similar_pi': '1000003705_401309'}, {'similarity': 0.771, 'master_pi': '1000019142_3250699', 'similar_pi': '1000015900_7056763'}, {'similarity': 0.7664, 'master_pi': '1000019142_3250699', 'similar_pi': '1000019142_645646'}, {'similarity': 0.7634, 'master_pi': '1000019142_3250699', 'similar_pi': '1000006450_418604'}, {'similarity': 0.756, 'master_pi': '1000019142_3250699', 'similar_pi': '1000011715_999455'}, {'similarity': 0.7547, 'master_pi': '1000019142_3250699', 'similar_pi': '1000018657_2832634'}, {'similarity': 0.754, 'master_pi': '1000019142_3250699', 'similar_pi': '1000019289_79232'}, {'similarity': 1.0, 'master_pi': '1000005352_1407342', 'similar_pi': '1000005352_1407342'}, {'similarity': 0.8088, 'master_pi': '1000005352_1407342', 'similar_pi': '1000007560_3022186'}, {'similarity': 0.7806, 'master_pi': '1000005352_1407342', 'similar_pi': '1000016180_3725398'}, {'similarity': 0.7779, 'master_pi': '1000005352_1407342', 'similar_pi': '1000009561_612586'}, {'similarity': 0.7648, 'master_pi': '1000005352_1407342', 'similar_pi': '1000014300_328844'}, {'similarity': 0.7631, 'master_pi': '1000005352_1407342', 'similar_pi': '1000015780_542711'}, {'similarity': 0.7602, 'master_pi': '1000005352_1407342', 'similar_pi': '1000013443_39966'}, {'similarity': 0.7573, 'master_pi': '1000005352_1407342', 'similar_pi': '1000005352_4375297'}, {'similarity': 0.7556, 'master_pi': '1000005352_1407342', 'similar_pi': '1000019645_85406'}, {'similarity': 0.7535, 'master_pi': '1000005352_1407342', 'similar_pi': '1000003705_426054'}, {'similarity': 0.7512, 'master_pi': '1000005352_1407342', 'similar_pi': '1000015780_470187'}, {'similarity': 0.7502, 'master_pi': '1000005352_1407342', 'similar_pi': '1000014100_424852'}, {'similarity': 0.7439, 'master_pi': '1000005352_1407342', 'similar_pi': '1000004298_413764'}, {'similarity': 0.7412, 'master_pi': '1000005352_1407342', 'similar_pi': '1000005352_1196207'}, {'similarity': 0.7399, 'master_pi': '1000005352_1407342', 'similar_pi': '1000019289_532754'}, {'similarity': 0.7389, 'master_pi': '1000005352_1407342', 'similar_pi': '1000010562_39641'}, {'similarity': 0.7384, 'master_pi': '1000005352_1407342', 'similar_pi': '1000014148_53965'}, {'similarity': 0.7375, 'master_pi': '1000005352_1407342', 'similar_pi': '1000013443_1330468'}, {'similarity': 0.7344, 'master_pi': '1000005352_1407342', 'similar_pi': '1000002181_2051334'}, {'similarity': 0.7284, 'master_pi': '1000005352_1407342', 'similar_pi': '1000002312_870273'}, {'similarity': 1.0, 'master_pi': '1000017573_6083989', 'similar_pi': '1000017573_6083989'}, {'similarity': 0.8634, 'master_pi': '1000017573_6083989', 'similar_pi': '1000005906_566835'}, {'similarity': 0.8526, 'master_pi': '1000017573_6083989', 'similar_pi': '1000002181_2142942'}, {'similarity': 0.8183, 'master_pi': '1000017573_6083989', 'similar_pi': '1000006044_2941495'}, {'similarity': 0.8034, 'master_pi': '1000017573_6083989', 'similar_pi': '1000005736_247062'}, {'similarity': 0.7935, 'master_pi': '1000017573_6083989', 'similar_pi': '1000018758_677648'}, {'similarity': 0.7731, 'master_pi': '1000017573_6083989', 'similar_pi': '1000016965_2463103'}, {'similarity': 0.7493, 'master_pi': '1000017573_6083989', 'similar_pi': '1000019295_5683365'}, {'similarity': 0.7441, 'master_pi': '1000017573_6083989', 'similar_pi': '1000006044_506650'}, {'similarity': 0.7424, 'master_pi': '1000017573_6083989', 'similar_pi': '1000013499_266873'}, {'similarity': 0.7405, 'master_pi': '1000017573_6083989', 'similar_pi': '1000017746_269642'}, {'similarity': 0.7345, 'master_pi': '1000017573_6083989', 'similar_pi': '1000017746_1101388'}, {'similarity': 0.7326, 'master_pi': '1000017573_6083989', 'similar_pi': '1000004450_124311'}, {'similarity': 0.7281, 'master_pi': '1000017573_6083989', 'similar_pi': '1000002312_870273'}, {'similarity': 0.7272, 'master_pi': '1000017573_6083989', 'similar_pi': '1000009561_789018'}, {'similarity': 0.7227, 'master_pi': '1000017573_6083989', 'similar_pi': '1000004450_5156532'}, {'similarity': 0.7203, 'master_pi': '1000017573_6083989', 'similar_pi': '1000005736_97051'}, {'similarity': 0.7202, 'master_pi': '1000017573_6083989', 'similar_pi': '1000005906_5314526'}, {'similarity': 0.7098, 'master_pi': '1000017573_6083989', 'similar_pi': '1000011715_999455'}, {'similarity': 0.7095, 'master_pi': '1000017573_6083989', 'similar_pi': '1000006450_471043'}, {'similarity': 1.0, 'master_pi': '1000018606_1788990', 'similar_pi': '1000018606_1788990'}, {'similarity': 0.6912, 'master_pi': '1000018606_1788990', 'similar_pi': '1000016486_233723'}, {'similarity': 0.6544, 'master_pi': '1000018606_1788990', 'similar_pi': '1000006044_1790440'}, {'similarity': 0.6435, 'master_pi': '1000018606_1788990', 'similar_pi': '1000018977_1853377'}, {'similarity': 0.6278, 'master_pi': '1000018606_1788990', 'similar_pi': '1000007158_205545'}, {'similarity': 0.6262, 'master_pi': '1000018606_1788990', 'similar_pi': '1000019035_1240668'}, {'similarity': 0.6162, 'master_pi': '1000018606_1788990', 'similar_pi': '1000014545_2305450'}, {'similarity': 0.6116, 'master_pi': '1000018606_1788990', 'similar_pi': '1000019035_1436324'}, {'similarity': 0.6115, 'master_pi': '1000018606_1788990', 'similar_pi': '1000005597_1527063'}, {'similarity': 0.6065, 'master_pi': '1000018606_1788990', 'similar_pi': '1000006420_451109'}, {'similarity': 0.6053, 'master_pi': '1000018606_1788990', 'similar_pi': '1000018657_2181570'}, {'similarity': 0.5961, 'master_pi': '1000018606_1788990', 'similar_pi': '1000017643_1905271'}, {'similarity': 0.5909, 'master_pi': '1000018606_1788990', 'similar_pi': '1000006972_589055'}, {'similarity': 0.5865, 'master_pi': '1000018606_1788990', 'similar_pi': '1000009581_2980680'}, {'similarity': 0.586, 'master_pi': '1000018606_1788990', 'similar_pi': '1000006551_2617141'}, {'similarity': 0.5857, 'master_pi': '1000018606_1788990', 'similar_pi': '1000006044_506650'}, {'similarity': 0.5855, 'master_pi': '1000018606_1788990', 'similar_pi': '1000014204_202327'}, {'similarity': 0.5819, 'master_pi': '1000018606_1788990', 'similar_pi': '1000009316_1097863'}, {'similarity': 0.5816, 'master_pi': '1000018606_1788990', 'similar_pi': '1000006972_5289779'}, {'similarity': 0.5797, 'master_pi': '1000018606_1788990', 'similar_pi': '1000019645_85406'}, {'similarity': 1.0, 'master_pi': '1000001857_75766', 'similar_pi': '1000001857_75766'}, {'similarity': 0.7615, 'master_pi': '1000001857_75766', 'similar_pi': '1000005450_964923'}, {'similarity': 0.7098, 'master_pi': '1000001857_75766', 'similar_pi': '1000005736_247062'}, {'similarity': 0.6946, 'master_pi': '1000001857_75766', 'similar_pi': '1000006972_5289779'}, {'similarity': 0.6894, 'master_pi': '1000001857_75766', 'similar_pi': '1000005906_1198165'}, {'similarity': 0.687, 'master_pi': '1000001857_75766', 'similar_pi': '1000017643_1905271'}, {'similarity': 0.6855, 'master_pi': '1000001857_75766', 'similar_pi': '1000006551_2617141'}, {'similarity': 0.685, 'master_pi': '1000001857_75766', 'similar_pi': '1000006044_506650'}, {'similarity': 0.6784, 'master_pi': '1000001857_75766', 'similar_pi': '1000018657_2181570'}, {'similarity': 0.6762, 'master_pi': '1000001857_75766', 'similar_pi': '1000006044_2941495'}, {'similarity': 0.6726, 'master_pi': '1000001857_75766', 'similar_pi': '1000019289_532754'}, {'similarity': 0.6693, 'master_pi': '1000001857_75766', 'similar_pi': '1000003705_401309'}, {'similarity': 0.6648, 'master_pi': '1000001857_75766', 'similar_pi': '1000013499_266873'}, {'similarity': 0.6626, 'master_pi': '1000001857_75766', 'similar_pi': '1000003705_296339'}, {'similarity': 0.6608, 'master_pi': '1000001857_75766', 'similar_pi': '1000006044_1790440'}, {'similarity': 0.6557, 'master_pi': '1000001857_75766', 'similar_pi': '1000017573_6083989'}, {'similarity': 0.6557, 'master_pi': '1000001857_75766', 'similar_pi': '1000019035_1436324'}, {'similarity': 0.6489, 'master_pi': '1000001857_75766', 'similar_pi': '1000016486_98843'}, {'similarity': 0.6476, 'master_pi': '1000001857_75766', 'similar_pi': '1000006420_369254'}, {'similarity': 0.6474, 'master_pi': '1000001857_75766', 'similar_pi': '1000002312_870273'}, {'similarity': 1.0, 'master_pi': '1000006972_589055', 'similar_pi': '1000006972_589055'}, {'similarity': 0.8871, 'master_pi': '1000006972_589055', 'similar_pi': '1000006972_5289779'}, {'similarity': 0.7456, 'master_pi': '1000006972_589055', 'similar_pi': '1000019035_1436324'}, {'similarity': 0.74, 'master_pi': '1000006972_589055', 'similar_pi': '1000016486_233723'}, {'similarity': 0.71, 'master_pi': '1000006972_589055', 'similar_pi': '1000006044_2941495'}, {'similarity': 0.6673, 'master_pi': '1000006972_589055', 'similar_pi': '1000009581_2980680'}, {'similarity': 0.6666, 'master_pi': '1000006972_589055', 'similar_pi': '1000006044_506650'}, {'similarity': 0.663, 'master_pi': '1000006972_589055', 'similar_pi': '1000006551_2617141'}, {'similarity': 0.6413, 'master_pi': '1000006972_589055', 'similar_pi': '1000001857_75766'}, {'similarity': 0.6407, 'master_pi': '1000006972_589055', 'similar_pi': '1000006420_451109'}, {'similarity': 0.6395, 'master_pi': '1000006972_589055', 'similar_pi': '1000006044_257220'}, {'similarity': 0.628, 'master_pi': '1000006972_589055', 'similar_pi': '1000019295_5683365'}, {'similarity': 0.6263, 'master_pi': '1000006972_589055', 'similar_pi': '1000018657_2181570'}, {'similarity': 0.6216, 'master_pi': '1000006972_589055', 'similar_pi': '1000007158_205545'}, {'similarity': 0.6206, 'master_pi': '1000006972_589055', 'similar_pi': '1000008134_777401'}, {'similarity': 0.6151, 'master_pi': '1000006972_589055', 'similar_pi': '1000005736_247062'}, {'similarity': 0.614, 'master_pi': '1000006972_589055', 'similar_pi': '1000006044_1790440'}, {'similarity': 0.6102, 'master_pi': '1000006972_589055', 'similar_pi': '1000005597_1527063'}, {'similarity': 0.609, 'master_pi': '1000006972_589055', 'similar_pi': '1000017573_6083989'}, {'similarity': 0.6064, 'master_pi': '1000006972_589055', 'similar_pi': '1000016591_1183410'}, {'similarity': 1.0, 'master_pi': '1000019295_5555657', 'similar_pi': '1000019295_5555657'}, {'similarity': 0.7267, 'master_pi': '1000019295_5555657', 'similar_pi': '1000000489_2156712'}, {'similarity': 0.7197, 'master_pi': '1000019295_5555657', 'similar_pi': '1000019184_1289169'}, {'similarity': 0.7146, 'master_pi': '1000019295_5555657', 'similar_pi': '1000001589_254796'}, {'similarity': 0.7034, 'master_pi': '1000019295_5555657', 'similar_pi': '1000020031_4862403'}, {'similarity': 0.6937, 'master_pi': '1000019295_5555657', 'similar_pi': '1000006420_315626'}, {'similarity': 0.6833, 'master_pi': '1000019295_5555657', 'similar_pi': '1000005736_475217'}, {'similarity': 0.6772, 'master_pi': '1000019295_5555657', 'similar_pi': '1000018606_1154981'}, {'similarity': 0.6734, 'master_pi': '1000019295_5555657', 'similar_pi': '1000016591_1260132'}, {'similarity': 0.67, 'master_pi': '1000019295_5555657', 'similar_pi': '1000003633_2146904'}, {'similarity': 0.6647, 'master_pi': '1000019295_5555657', 'similar_pi': '1000019645_153411'}, {'similarity': 0.6597, 'master_pi': '1000019295_5555657', 'similar_pi': '1000005296_1707734'}, {'similarity': 0.6597, 'master_pi': '1000019295_5555657', 'similar_pi': '1000010562_39641'}, {'similarity': 0.655, 'master_pi': '1000019295_5555657', 'similar_pi': '1000005352_1196207'}, {'similarity': 0.6543, 'master_pi': '1000019295_5555657', 'similar_pi': '1000016591_1183410'}, {'similarity': 0.6504, 'master_pi': '1000019295_5555657', 'similar_pi': '1000020743_5730464'}, {'similarity': 0.6491, 'master_pi': '1000019295_5555657', 'similar_pi': '1000006420_408794'}, {'similarity': 0.6407, 'master_pi': '1000019295_5555657', 'similar_pi': '1000006450_418604'}, {'similarity': 0.6394, 'master_pi': '1000019295_5555657', 'similar_pi': '1000005352_3568116'}, {'similarity': 0.6366, 'master_pi': '1000019295_5555657', 'similar_pi': '1000005352_4375297'}, {'similarity': 1.0, 'master_pi': '1000002619_286869', 'similar_pi': '1000002619_286869'}, {'similarity': 0.8358, 'master_pi': '1000002619_286869', 'similar_pi': '1000001589_47962'}, {'similarity': 0.8337, 'master_pi': '1000002619_286869', 'similar_pi': '1000007560_3022186'}, {'similarity': 0.8172, 'master_pi': '1000002619_286869', 'similar_pi': '1000013443_39966'}, {'similarity': 0.7976, 'master_pi': '1000002619_286869', 'similar_pi': '1000002312_870273'}, {'similarity': 0.7958, 'master_pi': '1000002619_286869', 'similar_pi': '1000010410_393714'}, {'similarity': 0.7805, 'master_pi': '1000002619_286869', 'similar_pi': '1000012299_1634032'}, {'similarity': 0.7746, 'master_pi': '1000002619_286869', 'similar_pi': '1000015900_7056763'}, {'similarity': 0.767, 'master_pi': '1000002619_286869', 'similar_pi': '1000017746_269642'}, {'similarity': 0.7621, 'master_pi': '1000002619_286869', 'similar_pi': '1000014148_250654'}, {'similarity': 0.7583, 'master_pi': '1000002619_286869', 'similar_pi': '1000017746_1101388'}, {'similarity': 0.7552, 'master_pi': '1000002619_286869', 'similar_pi': '1000014826_3116960'}, {'similarity': 0.7526, 'master_pi': '1000002619_286869', 'similar_pi': '1000010562_243157'}, {'similarity': 0.7525, 'master_pi': '1000002619_286869', 'similar_pi': '1000017643_2107833'}, {'similarity': 0.7451, 'master_pi': '1000002619_286869', 'similar_pi': '1000018209_5124502'}, {'similarity': 0.7439, 'master_pi': '1000002619_286869', 'similar_pi': '1000002181_2142942'}, {'similarity': 0.7414, 'master_pi': '1000002619_286869', 'similar_pi': '1000002181_2051334'}, {'similarity': 0.7368, 'master_pi': '1000002619_286869', 'similar_pi': '1000004228_2283011'}, {'similarity': 0.7332, 'master_pi': '1000002619_286869', 'similar_pi': '1000009561_612586'}, {'similarity': 0.7293, 'master_pi': '1000002619_286869', 'similar_pi': '1000015780_542711'}, {'similarity': 1.0, 'master_pi': '1000005352_3568116', 'similar_pi': '1000005352_3568116'}, {'similarity': 0.8041, 'master_pi': '1000005352_3568116', 'similar_pi': '1000006420_315626'}, {'similarity': 0.7782, 'master_pi': '1000005352_3568116', 'similar_pi': '1000019289_79232'}, {'similarity': 0.7758, 'master_pi': '1000005352_3568116', 'similar_pi': '1000006420_408794'}, {'similarity': 0.7747, 'master_pi': '1000005352_3568116', 'similar_pi': '1000010562_39641'}, {'similarity': 0.7524, 'master_pi': '1000005352_3568116', 'similar_pi': '1000003633_2146904'}, {'similarity': 0.7482, 'master_pi': '1000005352_3568116', 'similar_pi': '1000005436_61494'}, {'similarity': 0.7469, 'master_pi': '1000005352_3568116', 'similar_pi': '1000019289_532754'}, {'similarity': 0.7424, 'master_pi': '1000005352_3568116', 'similar_pi': '1000006450_418604'}, {'similarity': 0.7276, 'master_pi': '1000005352_3568116', 'similar_pi': '1000018209_5124502'}, {'similarity': 0.7221, 'master_pi': '1000005352_3568116', 'similar_pi': '1000005352_1196207'}, {'similarity': 0.7183, 'master_pi': '1000005352_3568116', 'similar_pi': '1000019142_3250699'}, {'similarity': 0.7117, 'master_pi': '1000005352_3568116', 'similar_pi': '1000017306_662524'}, {'similarity': 0.71, 'master_pi': '1000005352_3568116', 'similar_pi': '1000018657_2832634'}, {'similarity': 0.7011, 'master_pi': '1000005352_3568116', 'similar_pi': '1000018209_245768'}, {'similarity': 0.6996, 'master_pi': '1000005352_3568116', 'similar_pi': '1000005352_4375297'}, {'similarity': 0.6994, 'master_pi': '1000005352_3568116', 'similar_pi': '1000017643_1678329'}, {'similarity': 0.6981, 'master_pi': '1000005352_3568116', 'similar_pi': '1000009561_612586'}, {'similarity': 0.6959, 'master_pi': '1000005352_3568116', 'similar_pi': '1000012591_283383'}, {'similarity': 0.6943, 'master_pi': '1000005352_3568116', 'similar_pi': '1000006420_369254'}, {'similarity': 1.0, 'master_pi': '1000005352_1196207', 'similar_pi': '1000005352_1196207'}, {'similarity': 0.851, 'master_pi': '1000005352_1196207', 'similar_pi': '1000010562_39641'}, {'similarity': 0.8133, 'master_pi': '1000005352_1196207', 'similar_pi': '1000018209_5124502'}, {'similarity': 0.8105, 'master_pi': '1000005352_1196207', 'similar_pi': '1000018985_109015'}, {'similarity': 0.8078, 'master_pi': '1000005352_1196207', 'similar_pi': '1000018209_245768'}, {'similarity': 0.8042, 'master_pi': '1000005352_1196207', 'similar_pi': '1000019142_3250699'}, {'similarity': 0.7866, 'master_pi': '1000005352_1196207', 'similar_pi': '1000005352_4375297'}, {'similarity': 0.7862, 'master_pi': '1000005352_1196207', 'similar_pi': '1000015780_542711'}, {'similarity': 0.7791, 'master_pi': '1000005352_1196207', 'similar_pi': '1000009561_612586'}, {'similarity': 0.7784, 'master_pi': '1000005352_1196207', 'similar_pi': '1000017643_1678329'}, {'similarity': 0.7783, 'master_pi': '1000005352_1196207', 'similar_pi': '1000006420_315626'}, {'similarity': 0.7764, 'master_pi': '1000005352_1196207', 'similar_pi': '1000010562_243157'}, {'similarity': 0.7734, 'master_pi': '1000005352_1196207', 'similar_pi': '1000018985_556353'}, {'similarity': 0.7689, 'master_pi': '1000005352_1196207', 'similar_pi': '1000019289_532754'}, {'similarity': 0.7554, 'master_pi': '1000005352_1196207', 'similar_pi': '1000015780_470187'}, {'similarity': 0.752, 'master_pi': '1000005352_1196207', 'similar_pi': '1000015780_507181'}, {'similarity': 0.7519, 'master_pi': '1000005352_1196207', 'similar_pi': '1000005436_61494'}, {'similarity': 0.7472, 'master_pi': '1000005352_1196207', 'similar_pi': '1000009316_1097863'}, {'similarity': 0.7459, 'master_pi': '1000005352_1196207', 'similar_pi': '1000020751_1093721'}, {'similarity': 0.7433, 'master_pi': '1000005352_1196207', 'similar_pi': '1000019289_79232'}, {'similarity': 1.0, 'master_pi': '1000014416_863483', 'similar_pi': '1000014416_863483'}, {'similarity': 0.7084, 'master_pi': '1000014416_863483', 'similar_pi': '1000003705_296339'}, {'similarity': 0.6902, 'master_pi': '1000014416_863483', 'similar_pi': '1000018015_2282093'}, {'similarity': 0.6789, 'master_pi': '1000014416_863483', 'similar_pi': '1000014300_554766'}, {'similarity': 0.6786, 'master_pi': '1000014416_863483', 'similar_pi': '1000000461_543504'}, {'similarity': 0.6612, 'master_pi': '1000014416_863483', 'similar_pi': '1000002619_80272'}, {'similarity': 0.6505, 'master_pi': '1000014416_863483', 'similar_pi': '1000002619_145002'}, {'similarity': 0.6458, 'master_pi': '1000014416_863483', 'similar_pi': '1000002827_86297'}, {'similarity': 0.6448, 'master_pi': '1000014416_863483', 'similar_pi': '1000017643_2107833'}, {'similarity': 0.642, 'master_pi': '1000014416_863483', 'similar_pi': '1000001703_50950'}, {'similarity': 0.6391, 'master_pi': '1000014416_863483', 'similar_pi': '1000002181_2051334'}, {'similarity': 0.6374, 'master_pi': '1000014416_863483', 'similar_pi': '1000006420_408794'}, {'similarity': 0.6287, 'master_pi': '1000014416_863483', 'similar_pi': '1000014826_3116960'}, {'similarity': 0.6228, 'master_pi': '1000014416_863483', 'similar_pi': '1000016910_905983'}, {'similarity': 0.6176, 'master_pi': '1000014416_863483', 'similar_pi': '1000004228_590464'}, {'similarity': 0.6175, 'master_pi': '1000014416_863483', 'similar_pi': '1000018985_556353'}, {'similarity': 0.6156, 'master_pi': '1000014416_863483', 'similar_pi': '1000010562_243157'}, {'similarity': 0.612, 'master_pi': '1000014416_863483', 'similar_pi': '1000005597_3682227'}, {'similarity': 0.6109, 'master_pi': '1000014416_863483', 'similar_pi': '1000010410_393714'}, {'similarity': 0.6106, 'master_pi': '1000014416_863483', 'similar_pi': '1000003705_426054'}, {'similarity': 1.0, 'master_pi': '1000008611_1387665', 'similar_pi': '1000008611_1387665'}, {'similarity': 0.8309, 'master_pi': '1000008611_1387665', 'similar_pi': '1000012299_648800'}, {'similarity': 0.7794, 'master_pi': '1000008611_1387665', 'similar_pi': '1000000489_2395275'}, {'similarity': 0.7661, 'master_pi': '1000008611_1387665', 'similar_pi': '1000008611_4888778'}, {'similarity': 0.7345, 'master_pi': '1000008611_1387665', 'similar_pi': '1000012299_1634032'}, {'similarity': 0.7175, 'master_pi': '1000008611_1387665', 'similar_pi': '1000003705_296339'}, {'similarity': 0.7095, 'master_pi': '1000008611_1387665', 'similar_pi': '1000001974_177901'}, {'similarity': 0.7051, 'master_pi': '1000008611_1387665', 'similar_pi': '1000019446_83218'}, {'similarity': 0.7035, 'master_pi': '1000008611_1387665', 'similar_pi': '1000019446_1696752'}, {'similarity': 0.7018, 'master_pi': '1000008611_1387665', 'similar_pi': '1000001857_43282'}, {'similarity': 0.6897, 'master_pi': '1000008611_1387665', 'similar_pi': '1000019470_694708'}, {'similarity': 0.6869, 'master_pi': '1000008611_1387665', 'similar_pi': '1000018657_2181570'}, {'similarity': 0.682, 'master_pi': '1000008611_1387665', 'similar_pi': '1000018985_2432765'}, {'similarity': 0.6805, 'master_pi': '1000008611_1387665', 'similar_pi': '1000002312_870273'}, {'similarity': 0.6764, 'master_pi': '1000008611_1387665', 'similar_pi': '1000015900_7056763'}, {'similarity': 0.6761, 'master_pi': '1000008611_1387665', 'similar_pi': '1000018015_2282093'}, {'similarity': 0.6657, 'master_pi': '1000008611_1387665', 'similar_pi': '1000017643_2107833'}, {'similarity': 0.6567, 'master_pi': '1000008611_1387665', 'similar_pi': '1000004228_2283011'}, {'similarity': 0.6546, 'master_pi': '1000008611_1387665', 'similar_pi': '1000005597_694815'}, {'similarity': 0.6515, 'master_pi': '1000008611_1387665', 'similar_pi': '1000005597_3682227'}, {'similarity': 1.0, 'master_pi': '1000005436_61494', 'similar_pi': '1000005436_61494'}, {'similarity': 0.8427, 'master_pi': '1000005436_61494', 'similar_pi': '1000017306_662524'}, {'similarity': 0.8223, 'master_pi': '1000005436_61494', 'similar_pi': '1000019142_3250699'}, {'similarity': 0.8147, 'master_pi': '1000005436_61494', 'similar_pi': '1000019289_532754'}, {'similarity': 0.8021, 'master_pi': '1000005436_61494', 'similar_pi': '1000017643_1678329'}, {'similarity': 0.7984, 'master_pi': '1000005436_61494', 'similar_pi': '1000006420_315626'}, {'similarity': 0.7976, 'master_pi': '1000005436_61494', 'similar_pi': '1000009561_612586'}, {'similarity': 0.7914, 'master_pi': '1000005436_61494', 'similar_pi': '1000006420_408794'}, {'similarity': 0.7841, 'master_pi': '1000005436_61494', 'similar_pi': '1000019446_1373376'}, {'similarity': 0.7787, 'master_pi': '1000005436_61494', 'similar_pi': '1000020031_4862403'}, {'similarity': 0.7681, 'master_pi': '1000005436_61494', 'similar_pi': '1000018209_5124502'}, {'similarity': 0.7652, 'master_pi': '1000005436_61494', 'similar_pi': '1000019645_153411'}, {'similarity': 0.7623, 'master_pi': '1000005436_61494', 'similar_pi': '1000005736_475217'}, {'similarity': 0.7588, 'master_pi': '1000005436_61494', 'similar_pi': '1000018657_2832634'}, {'similarity': 0.7574, 'master_pi': '1000005436_61494', 'similar_pi': '1000003705_401309'}, {'similarity': 0.7561, 'master_pi': '1000005436_61494', 'similar_pi': '1000005736_97051'}, {'similarity': 0.754, 'master_pi': '1000005436_61494', 'similar_pi': '1000015780_507181'}, {'similarity': 0.7519, 'master_pi': '1000005436_61494', 'similar_pi': '1000005352_1196207'}, {'similarity': 0.7491, 'master_pi': '1000005436_61494', 'similar_pi': '1000018758_677648'}, {'similarity': 0.7482, 'master_pi': '1000005436_61494', 'similar_pi': '1000005352_3568116'}, {'similarity': 1.0, 'master_pi': '1000002312_870273', 'similar_pi': '1000002312_870273'}, {'similarity': 0.7976, 'master_pi': '1000002312_870273', 'similar_pi': '1000002619_286869'}, {'similarity': 0.7816, 'master_pi': '1000002312_870273', 'similar_pi': '1000017746_1101388'}, {'similarity': 0.7738, 'master_pi': '1000002312_870273', 'similar_pi': '1000002181_2142942'}, {'similarity': 0.7614, 'master_pi': '1000002312_870273', 'similar_pi': '1000018657_2181570'}, {'similarity': 0.7604, 'master_pi': '1000002312_870273', 'similar_pi': '1000017746_269642'}, {'similarity': 0.7538, 'master_pi': '1000002312_870273', 'similar_pi': '1000015900_7056763'}, {'similarity': 0.7451, 'master_pi': '1000002312_870273', 'similar_pi': '1000019295_5683365'}, {'similarity': 0.7431, 'master_pi': '1000002312_870273', 'similar_pi': '1000003705_401309'}, {'similarity': 0.7375, 'master_pi': '1000002312_870273', 'similar_pi': '1000014148_250654'}, {'similarity': 0.7347, 'master_pi': '1000002312_870273', 'similar_pi': '1000017643_1678329'}, {'similarity': 0.7311, 'master_pi': '1000002312_870273', 'similar_pi': '1000018758_677648'}, {'similarity': 0.7296, 'master_pi': '1000002312_870273', 'similar_pi': '1000005906_5314526'}, {'similarity': 0.7288, 'master_pi': '1000002312_870273', 'similar_pi': '1000005906_566835'}, {'similarity': 0.7284, 'master_pi': '1000002312_870273', 'similar_pi': '1000005352_1407342'}, {'similarity': 0.7281, 'master_pi': '1000002312_870273', 'similar_pi': '1000017573_6083989'}, {'similarity': 0.7266, 'master_pi': '1000002312_870273', 'similar_pi': '1000016965_2463103'}, {'similarity': 0.7265, 'master_pi': '1000002312_870273', 'similar_pi': '1000000461_1328228'}, {'similarity': 0.7242, 'master_pi': '1000002312_870273', 'similar_pi': '1000007560_3022186'}, {'similarity': 0.721, 'master_pi': '1000002312_870273', 'similar_pi': '1000005736_247062'}, {'similarity': 1.0, 'master_pi': '1000019645_85406', 'similar_pi': '1000019645_85406'}, {'similarity': 0.8221, 'master_pi': '1000019645_85406', 'similar_pi': '1000019645_49755'}, {'similarity': 0.8068, 'master_pi': '1000019645_85406', 'similar_pi': '1000014148_53965'}, {'similarity': 0.8034, 'master_pi': '1000019645_85406', 'similar_pi': '1000003705_426054'}, {'similarity': 0.8006, 'master_pi': '1000019645_85406', 'similar_pi': '1000014826_3116960'}, {'similarity': 0.7871, 'master_pi': '1000019645_85406', 'similar_pi': '1000014300_328844'}, {'similarity': 0.7837, 'master_pi': '1000019645_85406', 'similar_pi': '1000015780_542711'}, {'similarity': 0.7805, 'master_pi': '1000019645_85406', 'similar_pi': '1000010562_243157'}, {'similarity': 0.7765, 'master_pi': '1000019645_85406', 'similar_pi': '1000018985_556353'}, {'similarity': 0.776, 'master_pi': '1000019645_85406', 'similar_pi': '1000005892_51661'}, {'similarity': 0.7641, 'master_pi': '1000019645_85406', 'similar_pi': '1000005352_4375297'}, {'similarity': 0.7637, 'master_pi': '1000019645_85406', 'similar_pi': '1000014204_86272'}, {'similarity': 0.7556, 'master_pi': '1000019645_85406', 'similar_pi': '1000005352_1407342'}, {'similarity': 0.7545, 'master_pi': '1000019645_85406', 'similar_pi': '1000002181_2051334'}, {'similarity': 0.7529, 'master_pi': '1000019645_85406', 'similar_pi': '1000015780_470187'}, {'similarity': 0.7426, 'master_pi': '1000019645_85406', 'similar_pi': '1000002827_86297'}, {'similarity': 0.7425, 'master_pi': '1000019645_85406', 'similar_pi': '1000002619_11213'}, {'similarity': 0.7425, 'master_pi': '1000019645_85406', 'similar_pi': '1000020751_1093721'}, {'similarity': 0.7404, 'master_pi': '1000019645_85406', 'similar_pi': '1000002619_80272'}, {'similarity': 0.7396, 'master_pi': '1000019645_85406', 'similar_pi': '1000016486_11905'}, {'similarity': 1.0, 'master_pi': '1000018657_2659678', 'similar_pi': '1000018657_2659678'}, {'similarity': 0.7562, 'master_pi': '1000018657_2659678', 'similar_pi': '1000020031_175252'}, {'similarity': 0.7544, 'master_pi': '1000018657_2659678', 'similar_pi': '1000015780_507181'}, {'similarity': 0.7527, 'master_pi': '1000018657_2659678', 'similar_pi': '1000002619_80272'}, {'similarity': 0.7316, 'master_pi': '1000018657_2659678', 'similar_pi': '1000009316_643631'}, {'similarity': 0.7309, 'master_pi': '1000018657_2659678', 'similar_pi': '1000014826_3089051'}, {'similarity': 0.7196, 'master_pi': '1000018657_2659678', 'similar_pi': '1000015780_542711'}, {'similarity': 0.7185, 'master_pi': '1000018657_2659678', 'similar_pi': '1000007158_205545'}, {'similarity': 0.7144, 'master_pi': '1000018657_2659678', 'similar_pi': '1000003705_426054'}, {'similarity': 0.7095, 'master_pi': '1000018657_2659678', 'similar_pi': '1000002181_2051334'}, {'similarity': 0.7089, 'master_pi': '1000018657_2659678', 'similar_pi': '1000014826_3116960'}, {'similarity': 0.7085, 'master_pi': '1000018657_2659678', 'similar_pi': '1000003705_401309'}, {'similarity': 0.7048, 'master_pi': '1000018657_2659678', 'similar_pi': '1000018985_556353'}, {'similarity': 0.7037, 'master_pi': '1000018657_2659678', 'similar_pi': '1000012591_283383'}, {'similarity': 0.7028, 'master_pi': '1000018657_2659678', 'similar_pi': '1000005436_61494'}, {'similarity': 0.7026, 'master_pi': '1000018657_2659678', 'similar_pi': '1000010562_243157'}, {'similarity': 0.6994, 'master_pi': '1000018657_2659678', 'similar_pi': '1000014204_202327'}, {'similarity': 0.6992, 'master_pi': '1000018657_2659678', 'similar_pi': '1000016591_1183410'}, {'similarity': 0.6973, 'master_pi': '1000018657_2659678', 'similar_pi': '1000002999_5720269'}, {'similarity': 0.6971, 'master_pi': '1000018657_2659678', 'similar_pi': '1000009316_1097863'}, {'similarity': 1.0, 'master_pi': '1000017306_1463281', 'similar_pi': '1000017306_1463281'}, {'similarity': 0.7715, 'master_pi': '1000017306_1463281', 'similar_pi': '1000016180_3725398'}, {'similarity': 0.7323, 'master_pi': '1000017306_1463281', 'similar_pi': '1000005870_383022'}, {'similarity': 0.7305, 'master_pi': '1000017306_1463281', 'similar_pi': '1000019645_49755'}, {'similarity': 0.7272, 'master_pi': '1000017306_1463281', 'similar_pi': '1000005296_1541795'}, {'similarity': 0.7138, 'master_pi': '1000017306_1463281', 'similar_pi': '1000001703_25700'}, {'similarity': 0.705, 'master_pi': '1000017306_1463281', 'similar_pi': '1000005870_333655'}, {'similarity': 0.692, 'master_pi': '1000017306_1463281', 'similar_pi': '1000016504_191302'}, {'similarity': 0.6846, 'master_pi': '1000017306_1463281', 'similar_pi': '1000018483_390709'}, {'similarity': 0.6845, 'master_pi': '1000017306_1463281', 'similar_pi': '1000010562_243157'}, {'similarity': 0.6791, 'master_pi': '1000017306_1463281', 'similar_pi': '1000019645_85406'}, {'similarity': 0.6774, 'master_pi': '1000017306_1463281', 'similar_pi': '1000009316_1097863'}, {'similarity': 0.6771, 'master_pi': '1000017306_1463281', 'similar_pi': '1000014204_86272'}, {'similarity': 0.6769, 'master_pi': '1000017306_1463281', 'similar_pi': '1000013443_1330468'}, {'similarity': 0.6704, 'master_pi': '1000017306_1463281', 'similar_pi': '1000005352_4375297'}, {'similarity': 0.6692, 'master_pi': '1000017306_1463281', 'similar_pi': '1000014300_328844'}, {'similarity': 0.6639, 'master_pi': '1000017306_1463281', 'similar_pi': '1000020751_1093721'}, {'similarity': 0.6581, 'master_pi': '1000017306_1463281', 'similar_pi': '1000007158_259317'}, {'similarity': 0.6578, 'master_pi': '1000017306_1463281', 'similar_pi': '1000015780_542711'}, {'similarity': 0.6568, 'master_pi': '1000017306_1463281', 'similar_pi': '1000014148_53965'}, {'similarity': 1.0, 'master_pi': '1000010410_393714', 'similar_pi': '1000010410_393714'}, {'similarity': 0.8089, 'master_pi': '1000010410_393714', 'similar_pi': '1000001589_47962'}, {'similarity': 0.7971, 'master_pi': '1000010410_393714', 'similar_pi': '1000017643_2107833'}, {'similarity': 0.7958, 'master_pi': '1000010410_393714', 'similar_pi': '1000002619_286869'}, {'similarity': 0.7893, 'master_pi': '1000010410_393714', 'similar_pi': '1000014300_554766'}, {'similarity': 0.7708, 'master_pi': '1000010410_393714', 'similar_pi': '1000015900_7056763'}, {'similarity': 0.7622, 'master_pi': '1000010410_393714', 'similar_pi': '1000014148_250654'}, {'similarity': 0.7593, 'master_pi': '1000010410_393714', 'similar_pi': '1000007560_3022186'}, {'similarity': 0.7589, 'master_pi': '1000010410_393714', 'similar_pi': '1000004228_2283011'}, {'similarity': 0.7541, 'master_pi': '1000010410_393714', 'similar_pi': '1000017746_1078797'}, {'similarity': 0.7482, 'master_pi': '1000010410_393714', 'similar_pi': '1000013443_39966'}, {'similarity': 0.7472, 'master_pi': '1000010410_393714', 'similar_pi': '1000010410_91501'}, {'similarity': 0.7462, 'master_pi': '1000010410_393714', 'similar_pi': '1000010562_243157'}, {'similarity': 0.7405, 'master_pi': '1000010410_393714', 'similar_pi': '1000002181_2051334'}, {'similarity': 0.7364, 'master_pi': '1000010410_393714', 'similar_pi': '1000018015_2282093'}, {'similarity': 0.7313, 'master_pi': '1000010410_393714', 'similar_pi': '1000016965_2463103'}, {'similarity': 0.7247, 'master_pi': '1000010410_393714', 'similar_pi': '1000002181_2142942'}, {'similarity': 0.7211, 'master_pi': '1000010410_393714', 'similar_pi': '1000012299_1634032'}, {'similarity': 0.7153, 'master_pi': '1000010410_393714', 'similar_pi': '1000004228_590464'}, {'similarity': 0.7134, 'master_pi': '1000010410_393714', 'similar_pi': '1000005597_3682227'}, {'similarity': 1.0, 'master_pi': '1000006044_257220', 'similar_pi': '1000006044_257220'}, {'similarity': 0.7829, 'master_pi': '1000006044_257220', 'similar_pi': '1000020743_5730464'}, {'similarity': 0.7627, 'master_pi': '1000006044_257220', 'similar_pi': '1000017643_1678329'}, {'similarity': 0.7596, 'master_pi': '1000006044_257220', 'similar_pi': '1000020031_4862403'}, {'similarity': 0.7587, 'master_pi': '1000006044_257220', 'similar_pi': '1000019289_532754'}, {'similarity': 0.7522, 'master_pi': '1000006044_257220', 'similar_pi': '1000000489_2156712'}, {'similarity': 0.7427, 'master_pi': '1000006044_257220', 'similar_pi': '1000006450_471043'}, {'similarity': 0.7375, 'master_pi': '1000006044_257220', 'similar_pi': '1000007158_205545'}, {'similarity': 0.7329, 'master_pi': '1000006044_257220', 'similar_pi': '1000003705_401309'}, {'similarity': 0.7291, 'master_pi': '1000006044_257220', 'similar_pi': '1000006044_506650'}, {'similarity': 0.729, 'master_pi': '1000006044_257220', 'similar_pi': '1000005436_61494'}, {'similarity': 0.7252, 'master_pi': '1000006044_257220', 'similar_pi': '1000018657_2181570'}, {'similarity': 0.7248, 'master_pi': '1000006044_257220', 'similar_pi': '1000000461_1328228'}, {'similarity': 0.7197, 'master_pi': '1000006044_257220', 'similar_pi': '1000016504_417475'}, {'similarity': 0.7191, 'master_pi': '1000006044_257220', 'similar_pi': '1000019035_1436324'}, {'similarity': 0.7138, 'master_pi': '1000006044_257220', 'similar_pi': '1000005736_475217'}, {'similarity': 0.7121, 'master_pi': '1000006044_257220', 'similar_pi': '1000005597_694815'}, {'similarity': 0.7102, 'master_pi': '1000006044_257220', 'similar_pi': '1000006972_5289779'}, {'similarity': 0.7092, 'master_pi': '1000006044_257220', 'similar_pi': '1000006044_1790440'}, {'similarity': 0.7091, 'master_pi': '1000006044_257220', 'similar_pi': '1000018209_5124502'}, {'similarity': 1.0, 'master_pi': '1000005870_383022', 'similar_pi': '1000005870_383022'}, {'similarity': 0.8333, 'master_pi': '1000005870_383022', 'similar_pi': '1000005870_333655'}, {'similarity': 0.7888, 'master_pi': '1000005870_383022', 'similar_pi': '1000016180_3725398'}, {'similarity': 0.7716, 'master_pi': '1000005870_383022', 'similar_pi': '1000016486_11905'}, {'similarity': 0.7547, 'master_pi': '1000005870_383022', 'similar_pi': '1000005296_1541795'}, {'similarity': 0.7541, 'master_pi': '1000005870_383022', 'similar_pi': '1000014100_468821'}, {'similarity': 0.7509, 'master_pi': '1000005870_383022', 'similar_pi': '1000016486_98843'}, {'similarity': 0.7495, 'master_pi': '1000005870_383022', 'similar_pi': '1000019645_49755'}, {'similarity': 0.7361, 'master_pi': '1000005870_383022', 'similar_pi': '1000014300_328844'}, {'similarity': 0.7323, 'master_pi': '1000005870_383022', 'similar_pi': '1000017306_1463281'}, {'similarity': 0.7314, 'master_pi': '1000005870_383022', 'similar_pi': '1000019645_85406'}, {'similarity': 0.721, 'master_pi': '1000005870_383022', 'similar_pi': '1000005892_51661'}, {'similarity': 0.7197, 'master_pi': '1000005870_383022', 'similar_pi': '1000005352_1407342'}, {'similarity': 0.7168, 'master_pi': '1000005870_383022', 'similar_pi': '1000009561_612586'}, {'similarity': 0.7151, 'master_pi': '1000005870_383022', 'similar_pi': '1000015780_542711'}, {'similarity': 0.7128, 'master_pi': '1000005870_383022', 'similar_pi': '1000014204_202327'}, {'similarity': 0.7104, 'master_pi': '1000005870_383022', 'similar_pi': '1000010562_243157'}, {'similarity': 0.7102, 'master_pi': '1000005870_383022', 'similar_pi': '1000009316_1097863'}, {'similarity': 0.7066, 'master_pi': '1000005870_383022', 'similar_pi': '1000020751_5820622'}, {'similarity': 0.7013, 'master_pi': '1000005870_383022', 'similar_pi': '1000016504_191302'}, {'similarity': 1.0, 'master_pi': '1000014300_554766', 'similar_pi': '1000014300_554766'}, {'similarity': 0.7893, 'master_pi': '1000014300_554766', 'similar_pi': '1000010410_393714'}, {'similarity': 0.7765, 'master_pi': '1000014300_554766', 'similar_pi': '1000017643_2107833'}, {'similarity': 0.7757, 'master_pi': '1000014300_554766', 'similar_pi': '1000001589_47962'}, {'similarity': 0.7729, 'master_pi': '1000014300_554766', 'similar_pi': '1000014148_250654'}, {'similarity': 0.7461, 'master_pi': '1000014300_554766', 'similar_pi': '1000004228_2283011'}, {'similarity': 0.7347, 'master_pi': '1000014300_554766', 'similar_pi': '1000018015_2282093'}, {'similarity': 0.7307, 'master_pi': '1000014300_554766', 'similar_pi': '1000015900_7056763'}, {'similarity': 0.7298, 'master_pi': '1000014300_554766', 'similar_pi': '1000016965_2463103'}, {'similarity': 0.7211, 'master_pi': '1000014300_554766', 'similar_pi': '1000013443_39966'}, {'similarity': 0.7183, 'master_pi': '1000014300_554766', 'similar_pi': '1000014100_424852'}, {'similarity': 0.7163, 'master_pi': '1000014300_554766', 'similar_pi': '1000005597_3682227'}, {'similarity': 0.7143, 'master_pi': '1000014300_554766', 'similar_pi': '1000010410_91501'}, {'similarity': 0.7126, 'master_pi': '1000014300_554766', 'similar_pi': '1000017746_269642'}, {'similarity': 0.7103, 'master_pi': '1000014300_554766', 'similar_pi': '1000002181_2051334'}, {'similarity': 0.7084, 'master_pi': '1000014300_554766', 'similar_pi': '1000002619_286869'}, {'similarity': 0.7055, 'master_pi': '1000014300_554766', 'similar_pi': '1000017018_510437'}, {'similarity': 0.7044, 'master_pi': '1000014300_554766', 'similar_pi': '1000007560_3022186'}, {'similarity': 0.7037, 'master_pi': '1000014300_554766', 'similar_pi': '1000004228_590464'}, {'similarity': 0.7028, 'master_pi': '1000014300_554766', 'similar_pi': '1000002181_2142942'}, {'similarity': 1.0, 'master_pi': '1000016282_54142', 'similar_pi': '1000016282_54142'}, {'similarity': 0.748, 'master_pi': '1000016282_54142', 'similar_pi': '1000020751_1093721'}, {'similarity': 0.7372, 'master_pi': '1000016282_54142', 'similar_pi': '1000007560_2156837'}, {'similarity': 0.7367, 'master_pi': '1000016282_54142', 'similar_pi': '1000017573_4670434'}, {'similarity': 0.7237, 'master_pi': '1000016282_54142', 'similar_pi': '1000014148_53965'}, {'similarity': 0.7235, 'master_pi': '1000016282_54142', 'similar_pi': '1000004450_3547066'}, {'similarity': 0.7119, 'master_pi': '1000016282_54142', 'similar_pi': '1000014204_86272'}, {'similarity': 0.6932, 'master_pi': '1000016282_54142', 'similar_pi': '1000002619_11213'}, {'similarity': 0.6863, 'master_pi': '1000016282_54142', 'similar_pi': '1000018433_509959'}, {'similarity': 0.6701, 'master_pi': '1000016282_54142', 'similar_pi': '1000004228_590464'}, {'similarity': 0.6661, 'master_pi': '1000016282_54142', 'similar_pi': '1000015780_470187'}, {'similarity': 0.6644, 'master_pi': '1000016282_54142', 'similar_pi': '1000018433_1062638'}, {'similarity': 0.6423, 'master_pi': '1000016282_54142', 'similar_pi': '1000019645_85406'}, {'similarity': 0.6385, 'master_pi': '1000016282_54142', 'similar_pi': '1000015780_542711'}, {'similarity': 0.6363, 'master_pi': '1000016282_54142', 'similar_pi': '1000014300_328844'}, {'similarity': 0.6266, 'master_pi': '1000016282_54142', 'similar_pi': '1000002827_86297'}, {'similarity': 0.6261, 'master_pi': '1000016282_54142', 'similar_pi': '1000014300_377726'}, {'similarity': 0.6242, 'master_pi': '1000016282_54142', 'similar_pi': '1000005892_51661'}, {'similarity': 0.6207, 'master_pi': '1000016282_54142', 'similar_pi': '1000003705_426054'}, {'similarity': 0.6148, 'master_pi': '1000016282_54142', 'similar_pi': '1000010562_369797'}, {'similarity': 1.0, 'master_pi': '1000019446_83218', 'similar_pi': '1000019446_83218'}, {'similarity': 0.9399, 'master_pi': '1000019446_83218', 'similar_pi': '1000019446_1696752'}, {'similarity': 0.87, 'master_pi': '1000019446_83218', 'similar_pi': '1000001857_43282'}, {'similarity': 0.8694, 'master_pi': '1000019446_83218', 'similar_pi': '1000008611_4888778'}, {'similarity': 0.7632, 'master_pi': '1000019446_83218', 'similar_pi': '1000012299_1634032'}, {'similarity': 0.7479, 'master_pi': '1000019446_83218', 'similar_pi': '1000012299_648800'}, {'similarity': 0.7399, 'master_pi': '1000019446_83218', 'similar_pi': '1000005906_5314526'}, {'similarity': 0.7266, 'master_pi': '1000019446_83218', 'similar_pi': '1000017746_269642'}, {'similarity': 0.718, 'master_pi': '1000019446_83218', 'similar_pi': '1000017643_2107833'}, {'similarity': 0.7108, 'master_pi': '1000019446_83218', 'similar_pi': '1000018758_677648'}, {'similarity': 0.7076, 'master_pi': '1000019446_83218', 'similar_pi': '1000018985_2432765'}, {'similarity': 0.7072, 'master_pi': '1000019446_83218', 'similar_pi': '1000014621_969225'}, {'similarity': 0.7069, 'master_pi': '1000019446_83218', 'similar_pi': '1000015900_7056763'}, {'similarity': 0.7051, 'master_pi': '1000019446_83218', 'similar_pi': '1000008611_1387665'}, {'similarity': 0.6974, 'master_pi': '1000019446_83218', 'similar_pi': '1000019470_694708'}, {'similarity': 0.6967, 'master_pi': '1000019446_83218', 'similar_pi': '1000010410_91501'}, {'similarity': 0.696, 'master_pi': '1000019446_83218', 'similar_pi': '1000018015_2282093'}, {'similarity': 0.6955, 'master_pi': '1000019446_83218', 'similar_pi': '1000001974_177901'}, {'similarity': 0.6895, 'master_pi': '1000019446_83218', 'similar_pi': '1000005906_566835'}, {'similarity': 0.6822, 'master_pi': '1000019446_83218', 'similar_pi': '1000005597_3682227'}, {'similarity': 1.0, 'master_pi': '1000001703_50950', 'similar_pi': '1000001703_50950'}, {'similarity': 0.7691, 'master_pi': '1000001703_50950', 'similar_pi': '1000014300_328844'}, {'similarity': 0.754, 'master_pi': '1000001703_50950', 'similar_pi': '1000013443_501818'}, {'similarity': 0.7443, 'master_pi': '1000001703_50950', 'similar_pi': '1000014204_86272'}, {'similarity': 0.7391, 'master_pi': '1000001703_50950', 'similar_pi': '1000010562_243157'}, {'similarity': 0.7351, 'master_pi': '1000001703_50950', 'similar_pi': '1000009316_1097863'}, {'similarity': 0.7269, 'master_pi': '1000001703_50950', 'similar_pi': '1000018985_556353'}, {'similarity': 0.7262, 'master_pi': '1000001703_50950', 'similar_pi': '1000019645_85406'}, {'similarity': 0.7242, 'master_pi': '1000001703_50950', 'similar_pi': '1000020751_1093721'}, {'similarity': 0.7204, 'master_pi': '1000001703_50950', 'similar_pi': '1000014100_468821'}, {'similarity': 0.7195, 'master_pi': '1000001703_50950', 'similar_pi': '1000014100_424852'}, {'similarity': 0.7134, 'master_pi': '1000001703_50950', 'similar_pi': '1000007158_259317'}, {'similarity': 0.7132, 'master_pi': '1000001703_50950', 'similar_pi': '1000004450_3547066'}, {'similarity': 0.711, 'master_pi': '1000001703_50950', 'similar_pi': '1000014148_53965'}, {'similarity': 0.7108, 'master_pi': '1000001703_50950', 'similar_pi': '1000014300_377726'}, {'similarity': 0.7102, 'master_pi': '1000001703_50950', 'similar_pi': '1000007560_2156837'}, {'similarity': 0.7099, 'master_pi': '1000001703_50950', 'similar_pi': '1000002827_86297'}, {'similarity': 0.7088, 'master_pi': '1000001703_50950', 'similar_pi': '1000005352_1196207'}, {'similarity': 0.7086, 'master_pi': '1000001703_50950', 'similar_pi': '1000015780_542711'}, {'similarity': 0.7079, 'master_pi': '1000001703_50950', 'similar_pi': '1000003705_426054'}, {'similarity': 1.0, 'master_pi': '1000019645_153411', 'similar_pi': '1000019645_153411'}, {'similarity': 0.8092, 'master_pi': '1000019645_153411', 'similar_pi': '1000005736_97051'}, {'similarity': 0.8072, 'master_pi': '1000019645_153411', 'similar_pi': '1000019289_532754'}, {'similarity': 0.7873, 'master_pi': '1000019645_153411', 'similar_pi': '1000005736_475217'}, {'similarity': 0.7652, 'master_pi': '1000019645_153411', 'similar_pi': '1000005436_61494'}, {'similarity': 0.7576, 'master_pi': '1000019645_153411', 'similar_pi': '1000000489_2156712'}, {'similarity': 0.7549, 'master_pi': '1000019645_153411', 'similar_pi': '1000017643_1678329'}, {'similarity': 0.752, 'master_pi': '1000019645_153411', 'similar_pi': '1000017306_662524'}, {'similarity': 0.7441, 'master_pi': '1000019645_153411', 'similar_pi': '1000006420_369254'}, {'similarity': 0.744, 'master_pi': '1000019645_153411', 'similar_pi': '1000020031_4862403'}, {'similarity': 0.7434, 'master_pi': '1000019645_153411', 'similar_pi': '1000006420_315626'}, {'similarity': 0.7413, 'master_pi': '1000019645_153411', 'similar_pi': '1000019289_79232'}, {'similarity': 0.7327, 'master_pi': '1000019645_153411', 'similar_pi': '1000000489_1840753'}, {'similarity': 0.7254, 'master_pi': '1000019645_153411', 'similar_pi': '1000009561_789018'}, {'similarity': 0.723, 'master_pi': '1000019645_153411', 'similar_pi': '1000014826_1410870'}, {'similarity': 0.7217, 'master_pi': '1000019645_153411', 'similar_pi': '1000019446_1373376'}, {'similarity': 0.7216, 'master_pi': '1000019645_153411', 'similar_pi': '1000005597_694815'}, {'similarity': 0.717, 'master_pi': '1000019645_153411', 'similar_pi': '1000002181_2142942'}, {'similarity': 0.7123, 'master_pi': '1000019645_153411', 'similar_pi': '1000013499_266873'}, {'similarity': 0.7114, 'master_pi': '1000019645_153411', 'similar_pi': '1000006551_2617141'}, {'similarity': 1.0, 'master_pi': '1000001589_254796', 'similar_pi': '1000001589_254796'}, {'similarity': 0.7817, 'master_pi': '1000001589_254796', 'similar_pi': '1000010562_39641'}, {'similarity': 0.7765, 'master_pi': '1000001589_254796', 'similar_pi': '1000003633_2146904'}, {'similarity': 0.7728, 'master_pi': '1000001589_254796', 'similar_pi': '1000005352_4375297'}, {'similarity': 0.7514, 'master_pi': '1000001589_254796', 'similar_pi': '1000006450_418604'}, {'similarity': 0.7402, 'master_pi': '1000001589_254796', 'similar_pi': '1000018606_1154981'}, {'similarity': 0.7302, 'master_pi': '1000001589_254796', 'similar_pi': '1000018606_927886'}, {'similarity': 0.7146, 'master_pi': '1000001589_254796', 'similar_pi': '1000019295_5555657'}, {'similarity': 0.701, 'master_pi': '1000001589_254796', 'similar_pi': '1000018209_5124502'}, {'similarity': 0.7004, 'master_pi': '1000001589_254796', 'similar_pi': '1000019142_3250699'}, {'similarity': 0.6964, 'master_pi': '1000001589_254796', 'similar_pi': '1000005352_1196207'}, {'similarity': 0.6959, 'master_pi': '1000001589_254796', 'similar_pi': '1000017643_1678329'}, {'similarity': 0.69, 'master_pi': '1000001589_254796', 'similar_pi': '1000006420_315626'}, {'similarity': 0.6853, 'master_pi': '1000001589_254796', 'similar_pi': '1000012591_283383'}, {'similarity': 0.684, 'master_pi': '1000001589_254796', 'similar_pi': '1000005352_3568116'}, {'similarity': 0.6757, 'master_pi': '1000001589_254796', 'similar_pi': '1000019142_645646'}, {'similarity': 0.6722, 'master_pi': '1000001589_254796', 'similar_pi': '1000013443_1330468'}, {'similarity': 0.6711, 'master_pi': '1000001589_254796', 'similar_pi': '1000018209_245768'}, {'similarity': 0.6665, 'master_pi': '1000001589_254796', 'similar_pi': '1000018657_2051415'}, {'similarity': 0.6658, 'master_pi': '1000001589_254796', 'similar_pi': '1000016965_2463103'}, {'similarity': 1.0, 'master_pi': '1000013499_266873', 'similar_pi': '1000013499_266873'}, {'similarity': 0.8308, 'master_pi': '1000013499_266873', 'similar_pi': '1000005736_247062'}, {'similarity': 0.8136, 'master_pi': '1000013499_266873', 'similar_pi': '1000009561_789018'}, {'similarity': 0.808, 'master_pi': '1000013499_266873', 'similar_pi': '1000004450_124311'}, {'similarity': 0.7955, 'master_pi': '1000013499_266873', 'similar_pi': '1000005597_694815'}, {'similarity': 0.7763, 'master_pi': '1000013499_266873', 'similar_pi': '1000003705_401309'}, {'similarity': 0.7755, 'master_pi': '1000013499_266873', 'similar_pi': '1000019184_1289169'}, {'similarity': 0.7583, 'master_pi': '1000013499_266873', 'similar_pi': '1000020031_4862403'}, {'similarity': 0.7507, 'master_pi': '1000013499_266873', 'similar_pi': '1000004228_2283011'}, {'similarity': 0.7424, 'master_pi': '1000013499_266873', 'similar_pi': '1000017573_6083989'}, {'similarity': 0.7363, 'master_pi': '1000013499_266873', 'similar_pi': '1000005296_1707734'}, {'similarity': 0.7344, 'master_pi': '1000013499_266873', 'similar_pi': '1000005597_3682227'}, {'similarity': 0.7342, 'master_pi': '1000013499_266873', 'similar_pi': '1000007158_205545'}, {'similarity': 0.7337, 'master_pi': '1000013499_266873', 'similar_pi': '1000004450_5156532'}, {'similarity': 0.73, 'master_pi': '1000013499_266873', 'similar_pi': '1000019289_532754'}, {'similarity': 0.7272, 'master_pi': '1000013499_266873', 'similar_pi': '1000006044_2941495'}, {'similarity': 0.724, 'master_pi': '1000013499_266873', 'similar_pi': '1000005906_566835'}, {'similarity': 0.7233, 'master_pi': '1000013499_266873', 'similar_pi': '1000004298_48192'}, {'similarity': 0.7184, 'master_pi': '1000013499_266873', 'similar_pi': '1000020743_5730464'}, {'similarity': 0.717, 'master_pi': '1000013499_266873', 'similar_pi': '1000000489_1840753'}, {'similarity': 1.0, 'master_pi': '1000005597_694815', 'similar_pi': '1000005597_694815'}, {'similarity': 0.8486, 'master_pi': '1000005597_694815', 'similar_pi': '1000009561_789018'}, {'similarity': 0.7989, 'master_pi': '1000005597_694815', 'similar_pi': '1000005597_3682227'}, {'similarity': 0.7955, 'master_pi': '1000005597_694815', 'similar_pi': '1000013499_266873'}, {'similarity': 0.7857, 'master_pi': '1000005597_694815', 'similar_pi': '1000004450_5156532'}, {'similarity': 0.7816, 'master_pi': '1000005597_694815', 'similar_pi': '1000005296_1707734'}, {'similarity': 0.7782, 'master_pi': '1000005597_694815', 'similar_pi': '1000019289_532754'}, {'similarity': 0.7642, 'master_pi': '1000005597_694815', 'similar_pi': '1000004228_2283011'}, {'similarity': 0.7557, 'master_pi': '1000005597_694815', 'similar_pi': '1000018758_677648'}, {'similarity': 0.7554, 'master_pi': '1000005597_694815', 'similar_pi': '1000003705_401309'}, {'similarity': 0.7519, 'master_pi': '1000005597_694815', 'similar_pi': '1000020031_4862403'}, {'similarity': 0.7509, 'master_pi': '1000005597_694815', 'similar_pi': '1000015900_7056763'}, {'similarity': 0.7494, 'master_pi': '1000005597_694815', 'similar_pi': '1000005736_97051'}, {'similarity': 0.7448, 'master_pi': '1000005597_694815', 'similar_pi': '1000000489_1233988'}, {'similarity': 0.7446, 'master_pi': '1000005597_694815', 'similar_pi': '1000007158_205545'}, {'similarity': 0.7381, 'master_pi': '1000005597_694815', 'similar_pi': '1000018015_2282093'}, {'similarity': 0.7361, 'master_pi': '1000005597_694815', 'similar_pi': '1000000489_1840753'}, {'similarity': 0.7307, 'master_pi': '1000005597_694815', 'similar_pi': '1000002181_2142942'}, {'similarity': 0.7306, 'master_pi': '1000005597_694815', 'similar_pi': '1000019289_79232'}, {'similarity': 0.7304, 'master_pi': '1000005597_694815', 'similar_pi': '1000009561_612586'}, {'similarity': 1.0, 'master_pi': '1000017643_1905271', 'similar_pi': '1000017643_1905271'}, {'similarity': 0.7481, 'master_pi': '1000017643_1905271', 'similar_pi': '1000005736_247062'}, {'similarity': 0.7105, 'master_pi': '1000017643_1905271', 'similar_pi': '1000006044_506650'}, {'similarity': 0.7061, 'master_pi': '1000017643_1905271', 'similar_pi': '1000018657_2181570'}, {'similarity': 0.6963, 'master_pi': '1000017643_1905271', 'similar_pi': '1000006044_2941495'}, {'similarity': 0.6878, 'master_pi': '1000017643_1905271', 'similar_pi': '1000005906_1198165'}, {'similarity': 0.687, 'master_pi': '1000017643_1905271', 'similar_pi': '1000001857_75766'}, {'similarity': 0.6865, 'master_pi': '1000017643_1905271', 'similar_pi': '1000000461_1328228'}, {'similarity': 0.6859, 'master_pi': '1000017643_1905271', 'similar_pi': '1000006420_451109'}, {'similarity': 0.6795, 'master_pi': '1000017643_1905271', 'similar_pi': '1000005597_1527063'}, {'similarity': 0.677, 'master_pi': '1000017643_1905271', 'similar_pi': '1000003705_401309'}, {'similarity': 0.6757, 'master_pi': '1000017643_1905271', 'similar_pi': '1000005450_964923'}, {'similarity': 0.6738, 'master_pi': '1000017643_1905271', 'similar_pi': '1000019289_532754'}, {'similarity': 0.6661, 'master_pi': '1000017643_1905271', 'similar_pi': '1000017306_662524'}, {'similarity': 0.6642, 'master_pi': '1000017643_1905271', 'similar_pi': '1000014826_1410870'}, {'similarity': 0.6639, 'master_pi': '1000017643_1905271', 'similar_pi': '1000002312_870273'}, {'similarity': 0.6617, 'master_pi': '1000017643_1905271', 'similar_pi': '1000006044_1790440'}, {'similarity': 0.6566, 'master_pi': '1000017643_1905271', 'similar_pi': '1000014826_3089051'}, {'similarity': 0.6542, 'master_pi': '1000017643_1905271', 'similar_pi': '1000014545_2305450'}, {'similarity': 0.653, 'master_pi': '1000017643_1905271', 'similar_pi': '1000006551_2617141'}, {'similarity': 1.0, 'master_pi': '1000007560_3022186', 'similar_pi': '1000007560_3022186'}, {'similarity': 0.8556, 'master_pi': '1000007560_3022186', 'similar_pi': '1000001589_47962'}, {'similarity': 0.8337, 'master_pi': '1000007560_3022186', 'similar_pi': '1000002619_286869'}, {'similarity': 0.8144, 'master_pi': '1000007560_3022186', 'similar_pi': '1000013443_39966'}, {'similarity': 0.8088, 'master_pi': '1000007560_3022186', 'similar_pi': '1000005352_1407342'}, {'similarity': 0.7761, 'master_pi': '1000007560_3022186', 'similar_pi': '1000014148_250654'}, {'similarity': 0.7722, 'master_pi': '1000007560_3022186', 'similar_pi': '1000015780_470187'}, {'similarity': 0.7678, 'master_pi': '1000007560_3022186', 'similar_pi': '1000017746_269642'}, {'similarity': 0.762, 'master_pi': '1000007560_3022186', 'similar_pi': '1000009561_612586'}, {'similarity': 0.7593, 'master_pi': '1000007560_3022186', 'similar_pi': '1000010410_393714'}, {'similarity': 0.7578, 'master_pi': '1000007560_3022186', 'similar_pi': '1000010562_243157'}, {'similarity': 0.7576, 'master_pi': '1000007560_3022186', 'similar_pi': '1000017746_1101388'}, {'similarity': 0.7499, 'master_pi': '1000007560_3022186', 'similar_pi': '1000015900_7056763'}, {'similarity': 0.7455, 'master_pi': '1000007560_3022186', 'similar_pi': '1000002181_2142942'}, {'similarity': 0.7435, 'master_pi': '1000007560_3022186', 'similar_pi': '1000002181_2051334'}, {'similarity': 0.7405, 'master_pi': '1000007560_3022186', 'similar_pi': '1000005352_4375297'}, {'similarity': 0.7329, 'master_pi': '1000007560_3022186', 'similar_pi': '1000016965_2463103'}, {'similarity': 0.7291, 'master_pi': '1000007560_3022186', 'similar_pi': '1000014148_53965'}, {'similarity': 0.7242, 'master_pi': '1000007560_3022186', 'similar_pi': '1000002312_870273'}, {'similarity': 0.7227, 'master_pi': '1000007560_3022186', 'similar_pi': '1000015780_542711'}, {'similarity': 1.0, 'master_pi': '1000002619_145002', 'similar_pi': '1000002619_145002'}, {'similarity': 0.8131, 'master_pi': '1000002619_145002', 'similar_pi': '1000002619_80272'}, {'similarity': 0.7927, 'master_pi': '1000002619_145002', 'similar_pi': '1000015780_507181'}, {'similarity': 0.7911, 'master_pi': '1000002619_145002', 'similar_pi': '1000000461_543504'}, {'similarity': 0.7704, 'master_pi': '1000002619_145002', 'similar_pi': '1000019470_694708'}, {'similarity': 0.7671, 'master_pi': '1000002619_145002', 'similar_pi': '1000018015_2282093'}, {'similarity': 0.7561, 'master_pi': '1000002619_145002', 'similar_pi': '1000002181_2051334'}, {'similarity': 0.756, 'master_pi': '1000002619_145002', 'similar_pi': '1000014100_468821'}, {'similarity': 0.753, 'master_pi': '1000002619_145002', 'similar_pi': '1000010562_243157'}, {'similarity': 0.7436, 'master_pi': '1000002619_145002', 'similar_pi': '1000014826_3116960'}, {'similarity': 0.733, 'master_pi': '1000002619_145002', 'similar_pi': '1000017643_2107833'}, {'similarity': 0.7297, 'master_pi': '1000002619_145002', 'similar_pi': '1000018985_556353'}, {'similarity': 0.7235, 'master_pi': '1000002619_145002', 'similar_pi': '1000017746_989560'}, {'similarity': 0.7221, 'master_pi': '1000002619_145002', 'similar_pi': '1000015900_7056763'}, {'similarity': 0.7109, 'master_pi': '1000002619_145002', 'similar_pi': '1000016486_11905'}, {'similarity': 0.7089, 'master_pi': '1000002619_145002', 'similar_pi': '1000009316_643631'}, {'similarity': 0.7066, 'master_pi': '1000002619_145002', 'similar_pi': '1000015780_542711'}, {'similarity': 0.698, 'master_pi': '1000002619_145002', 'similar_pi': '1000010410_91501'}, {'similarity': 0.6937, 'master_pi': '1000002619_145002', 'similar_pi': '1000014300_377726'}, {'similarity': 0.689, 'master_pi': '1000002619_145002', 'similar_pi': '1000014204_202327'}, {'similarity': 1.0, 'master_pi': '1000016965_2463103', 'similar_pi': '1000016965_2463103'}, {'similarity': 0.8475, 'master_pi': '1000016965_2463103', 'similar_pi': '1000002181_2142942'}, {'similarity': 0.8426, 'master_pi': '1000016965_2463103', 'similar_pi': '1000011715_999455'}, {'similarity': 0.8142, 'master_pi': '1000016965_2463103', 'similar_pi': '1000018758_677648'}, {'similarity': 0.7983, 'master_pi': '1000016965_2463103', 'similar_pi': '1000017746_269642'}, {'similarity': 0.7923, 'master_pi': '1000016965_2463103', 'similar_pi': '1000015900_7056763'}, {'similarity': 0.7767, 'master_pi': '1000016965_2463103', 'similar_pi': '1000001589_47962'}, {'similarity': 0.7744, 'master_pi': '1000016965_2463103', 'similar_pi': '1000004228_2283011'}, {'similarity': 0.774, 'master_pi': '1000016965_2463103', 'similar_pi': '1000005906_566835'}, {'similarity': 0.7731, 'master_pi': '1000016965_2463103', 'similar_pi': '1000017573_6083989'}, {'similarity': 0.7669, 'master_pi': '1000016965_2463103', 'similar_pi': '1000018209_5124502'}, {'similarity': 0.7631, 'master_pi': '1000016965_2463103', 'similar_pi': '1000004228_590464'}, {'similarity': 0.7616, 'master_pi': '1000016965_2463103', 'similar_pi': '1000010562_39641'}, {'similarity': 0.758, 'master_pi': '1000016965_2463103', 'similar_pi': '1000018209_245768'}, {'similarity': 0.757, 'master_pi': '1000016965_2463103', 'similar_pi': '1000014148_250654'}, {'similarity': 0.755, 'master_pi': '1000016965_2463103', 'similar_pi': '1000017746_1101388'}, {'similarity': 0.7544, 'master_pi': '1000016965_2463103', 'similar_pi': '1000004450_5156532'}, {'similarity': 0.7522, 'master_pi': '1000016965_2463103', 'similar_pi': '1000010562_243157'}, {'similarity': 0.7486, 'master_pi': '1000016965_2463103', 'similar_pi': '1000017643_1678329'}, {'similarity': 0.7483, 'master_pi': '1000016965_2463103', 'similar_pi': '1000019142_3250699'}, {'similarity': 1.0, 'master_pi': '1000005906_5314526', 'similar_pi': '1000005906_5314526'}, {'similarity': 0.7669, 'master_pi': '1000005906_5314526', 'similar_pi': '1000017746_269642'}, {'similarity': 0.7527, 'master_pi': '1000005906_5314526', 'similar_pi': '1000001857_43282'}, {'similarity': 0.7499, 'master_pi': '1000005906_5314526', 'similar_pi': '1000005906_566835'}, {'similarity': 0.747, 'master_pi': '1000005906_5314526', 'similar_pi': '1000018758_677648'}, {'similarity': 0.7467, 'master_pi': '1000005906_5314526', 'similar_pi': '1000016965_2463103'}, {'similarity': 0.7463, 'master_pi': '1000005906_5314526', 'similar_pi': '1000008611_4888778'}, {'similarity': 0.7426, 'master_pi': '1000005906_5314526', 'similar_pi': '1000002181_2142942'}, {'similarity': 0.7399, 'master_pi': '1000005906_5314526', 'similar_pi': '1000019446_83218'}, {'similarity': 0.7397, 'master_pi': '1000005906_5314526', 'similar_pi': '1000019446_1696752'}, {'similarity': 0.7314, 'master_pi': '1000005906_5314526', 'similar_pi': '1000012299_1634032'}, {'similarity': 0.7296, 'master_pi': '1000005906_5314526', 'similar_pi': '1000002312_870273'}, {'similarity': 0.7281, 'master_pi': '1000005906_5314526', 'similar_pi': '1000017643_2107833'}, {'similarity': 0.7207, 'master_pi': '1000005906_5314526', 'similar_pi': '1000002619_286869'}, {'similarity': 0.7202, 'master_pi': '1000005906_5314526', 'similar_pi': '1000017573_6083989'}, {'similarity': 0.7148, 'master_pi': '1000005906_5314526', 'similar_pi': '1000001589_47962'}, {'similarity': 0.7105, 'master_pi': '1000005906_5314526', 'similar_pi': '1000011715_999455'}, {'similarity': 0.7091, 'master_pi': '1000005906_5314526', 'similar_pi': '1000015900_7056763'}, {'similarity': 0.7076, 'master_pi': '1000005906_5314526', 'similar_pi': '1000019295_5683365'}, {'similarity': 0.7066, 'master_pi': '1000005906_5314526', 'similar_pi': '1000017746_1101388'}, {'similarity': 1.0, 'master_pi': '1000019289_79232', 'similar_pi': '1000019289_79232'}, {'similarity': 0.8373, 'master_pi': '1000019289_79232', 'similar_pi': '1000019289_532754'}, {'similarity': 0.7913, 'master_pi': '1000019289_79232', 'similar_pi': '1000006420_369254'}, {'similarity': 0.7782, 'master_pi': '1000019289_79232', 'similar_pi': '1000005352_3568116'}, {'similarity': 0.7776, 'master_pi': '1000019289_79232', 'similar_pi': '1000018209_5124502'}, {'similarity': 0.7744, 'master_pi': '1000019289_79232', 'similar_pi': '1000005736_97051'}, {'similarity': 0.7715, 'master_pi': '1000019289_79232', 'similar_pi': '1000018209_245768'}, {'similarity': 0.7682, 'master_pi': '1000019289_79232', 'similar_pi': '1000010562_39641'}, {'similarity': 0.7678, 'master_pi': '1000019289_79232', 'similar_pi': '1000003705_401309'}, {'similarity': 0.7643, 'master_pi': '1000019289_79232', 'similar_pi': '1000009561_612586'}, {'similarity': 0.7636, 'master_pi': '1000019289_79232', 'similar_pi': '1000017306_662524'}, {'similarity': 0.754, 'master_pi': '1000019289_79232', 'similar_pi': '1000019142_3250699'}, {'similarity': 0.7493, 'master_pi': '1000019289_79232', 'similar_pi': '1000017643_1678329'}, {'similarity': 0.7459, 'master_pi': '1000019289_79232', 'similar_pi': '1000015780_542711'}, {'similarity': 0.7433, 'master_pi': '1000019289_79232', 'similar_pi': '1000005352_1196207'}, {'similarity': 0.7413, 'master_pi': '1000019289_79232', 'similar_pi': '1000019645_153411'}, {'similarity': 0.7409, 'master_pi': '1000019289_79232', 'similar_pi': '1000006420_315626'}, {'similarity': 0.7403, 'master_pi': '1000019289_79232', 'similar_pi': '1000005436_61494'}, {'similarity': 0.7384, 'master_pi': '1000019289_79232', 'similar_pi': '1000002999_5720269'}, {'similarity': 0.7374, 'master_pi': '1000019289_79232', 'similar_pi': '1000018657_2181570'}, {'similarity': 1.0, 'master_pi': '1000006972_5289779', 'similar_pi': '1000006972_5289779'}, {'similarity': 0.8871, 'master_pi': '1000006972_5289779', 'similar_pi': '1000006972_589055'}, {'similarity': 0.7978, 'master_pi': '1000006972_5289779', 'similar_pi': '1000019035_1436324'}, {'similarity': 0.7536, 'master_pi': '1000006972_5289779', 'similar_pi': '1000016486_233723'}, {'similarity': 0.7337, 'master_pi': '1000006972_5289779', 'similar_pi': '1000006044_2941495'}, {'similarity': 0.7102, 'master_pi': '1000006972_5289779', 'similar_pi': '1000006044_257220'}, {'similarity': 0.7075, 'master_pi': '1000006972_5289779', 'similar_pi': '1000009581_2980680'}, {'similarity': 0.7053, 'master_pi': '1000006972_5289779', 'similar_pi': '1000006044_506650'}, {'similarity': 0.7045, 'master_pi': '1000006972_5289779', 'similar_pi': '1000006551_2617141'}, {'similarity': 0.6978, 'master_pi': '1000006972_5289779', 'similar_pi': '1000019295_5683365'}, {'similarity': 0.696, 'master_pi': '1000006972_5289779', 'similar_pi': '1000006420_451109'}, {'similarity': 0.6946, 'master_pi': '1000006972_5289779', 'similar_pi': '1000001857_75766'}, {'similarity': 0.6914, 'master_pi': '1000006972_5289779', 'similar_pi': '1000006420_369254'}, {'similarity': 0.6832, 'master_pi': '1000006972_5289779', 'similar_pi': '1000018657_2181570'}, {'similarity': 0.6738, 'master_pi': '1000006972_5289779', 'similar_pi': '1000016591_1183410'}, {'similarity': 0.6643, 'master_pi': '1000006972_5289779', 'similar_pi': '1000000489_2156712'}, {'similarity': 0.6626, 'master_pi': '1000006972_5289779', 'similar_pi': '1000005736_247062'}, {'similarity': 0.6607, 'master_pi': '1000006972_5289779', 'similar_pi': '1000006044_1790440'}, {'similarity': 0.6562, 'master_pi': '1000006972_5289779', 'similar_pi': '1000019035_1240668'}, {'similarity': 0.6552, 'master_pi': '1000006972_5289779', 'similar_pi': '1000017573_6083989'}, {'similarity': 1.0, 'master_pi': '1000004450_3547066', 'similar_pi': '1000004450_3547066'}, {'similarity': 0.8207, 'master_pi': '1000004450_3547066', 'similar_pi': '1000018433_1062638'}, {'similarity': 0.795, 'master_pi': '1000004450_3547066', 'similar_pi': '1000007560_2156837'}, {'similarity': 0.78, 'master_pi': '1000004450_3547066', 'similar_pi': '1000020751_1093721'}, {'similarity': 0.7679, 'master_pi': '1000004450_3547066', 'similar_pi': '1000017573_4670434'}, {'similarity': 0.7573, 'master_pi': '1000004450_3547066', 'similar_pi': '1000014148_53965'}, {'similarity': 0.756, 'master_pi': '1000004450_3547066', 'similar_pi': '1000014300_328844'}, {'similarity': 0.7431, 'master_pi': '1000004450_3547066', 'similar_pi': '1000015780_470187'}, {'similarity': 0.7238, 'master_pi': '1000004450_3547066', 'similar_pi': '1000014204_86272'}, {'similarity': 0.7235, 'master_pi': '1000004450_3547066', 'similar_pi': '1000016282_54142'}, {'similarity': 0.716, 'master_pi': '1000004450_3547066', 'similar_pi': '1000019645_85406'}, {'similarity': 0.7132, 'master_pi': '1000004450_3547066', 'similar_pi': '1000001703_50950'}, {'similarity': 0.713, 'master_pi': '1000004450_3547066', 'similar_pi': '1000015780_542711'}, {'similarity': 0.7117, 'master_pi': '1000004450_3547066', 'similar_pi': '1000005892_51661'}, {'similarity': 0.7103, 'master_pi': '1000004450_3547066', 'similar_pi': '1000010562_243157'}, {'similarity': 0.7033, 'master_pi': '1000004450_3547066', 'similar_pi': '1000018433_509959'}, {'similarity': 0.6968, 'master_pi': '1000004450_3547066', 'similar_pi': '1000013443_501818'}, {'similarity': 0.695, 'master_pi': '1000004450_3547066', 'similar_pi': '1000018985_556353'}, {'similarity': 0.6922, 'master_pi': '1000004450_3547066', 'similar_pi': '1000007158_259317'}, {'similarity': 0.6831, 'master_pi': '1000004450_3547066', 'similar_pi': '1000009316_1097863'}, {'similarity': 1.0, 'master_pi': '1000002181_2051334', 'similar_pi': '1000002181_2051334'}, {'similarity': 0.803, 'master_pi': '1000002181_2051334', 'similar_pi': '1000013443_39966'}, {'similarity': 0.7995, 'master_pi': '1000002181_2051334', 'similar_pi': '1000010562_243157'}, {'similarity': 0.7963, 'master_pi': '1000002181_2051334', 'similar_pi': '1000018985_556353'}, {'similarity': 0.7949, 'master_pi': '1000002181_2051334', 'similar_pi': '1000015900_7056763'}, {'similarity': 0.787, 'master_pi': '1000002181_2051334', 'similar_pi': '1000015780_507181'}, {'similarity': 0.7838, 'master_pi': '1000002181_2051334', 'similar_pi': '1000014826_3116960'}, {'similarity': 0.7819, 'master_pi': '1000002181_2051334', 'similar_pi': '1000003705_426054'}, {'similarity': 0.779, 'master_pi': '1000002181_2051334', 'similar_pi': '1000005352_4375297'}, {'similarity': 0.7778, 'master_pi': '1000002181_2051334', 'similar_pi': '1000009561_612586'}, {'similarity': 0.7767, 'master_pi': '1000002181_2051334', 'similar_pi': '1000016486_11905'}, {'similarity': 0.7746, 'master_pi': '1000002181_2051334', 'similar_pi': '1000002619_80272'}, {'similarity': 0.7675, 'master_pi': '1000002181_2051334', 'similar_pi': '1000019142_645646'}, {'similarity': 0.7648, 'master_pi': '1000002181_2051334', 'similar_pi': '1000018015_2282093'}, {'similarity': 0.7618, 'master_pi': '1000002181_2051334', 'similar_pi': '1000015780_542711'}, {'similarity': 0.7561, 'master_pi': '1000002181_2051334', 'similar_pi': '1000002619_145002'}, {'similarity': 0.7545, 'master_pi': '1000002181_2051334', 'similar_pi': '1000019645_85406'}, {'similarity': 0.7475, 'master_pi': '1000002181_2051334', 'similar_pi': '1000014148_250654'}, {'similarity': 0.7463, 'master_pi': '1000002181_2051334', 'similar_pi': '1000002827_86297'}, {'similarity': 0.7452, 'master_pi': '1000002181_2051334', 'similar_pi': '1000001589_47962'}, {'similarity': 1.0, 'master_pi': '1000004298_413764', 'similar_pi': '1000004298_413764'}, {'similarity': 0.7674, 'master_pi': '1000004298_413764', 'similar_pi': '1000014148_250654'}, {'similarity': 0.7618, 'master_pi': '1000004298_413764', 'similar_pi': '1000014100_424852'}, {'similarity': 0.7553, 'master_pi': '1000004298_413764', 'similar_pi': '1000002827_86297'}, {'similarity': 0.7496, 'master_pi': '1000004298_413764', 'similar_pi': '1000013443_39966'}, {'similarity': 0.7439, 'master_pi': '1000004298_413764', 'similar_pi': '1000005352_1407342'}, {'similarity': 0.7377, 'master_pi': '1000004298_413764', 'similar_pi': '1000014148_53965'}, {'similarity': 0.7298, 'master_pi': '1000004298_413764', 'similar_pi': '1000002181_2051334'}, {'similarity': 0.7199, 'master_pi': '1000004298_413764', 'similar_pi': '1000016486_11905'}, {'similarity': 0.7191, 'master_pi': '1000004298_413764', 'similar_pi': '1000019645_85406'}, {'similarity': 0.7132, 'master_pi': '1000004298_413764', 'similar_pi': '1000010562_344570'}, {'similarity': 0.7123, 'master_pi': '1000004298_413764', 'similar_pi': '1000001589_47962'}, {'similarity': 0.7066, 'master_pi': '1000004298_413764', 'similar_pi': '1000007560_3022186'}, {'similarity': 0.6918, 'master_pi': '1000004298_413764', 'similar_pi': '1000014300_554766'}, {'similarity': 0.6904, 'master_pi': '1000004298_413764', 'similar_pi': '1000014300_328844'}, {'similarity': 0.6901, 'master_pi': '1000004298_413764', 'similar_pi': '1000018433_1083781'}, {'similarity': 0.6869, 'master_pi': '1000004298_413764', 'similar_pi': '1000010562_243157'}, {'similarity': 0.6853, 'master_pi': '1000004298_413764', 'similar_pi': '1000001703_50950'}, {'similarity': 0.6801, 'master_pi': '1000004298_413764', 'similar_pi': '1000002619_286869'}, {'similarity': 0.6799, 'master_pi': '1000004298_413764', 'similar_pi': '1000009561_612586'}, {'similarity': 1.0, 'master_pi': '1000001589_47962', 'similar_pi': '1000001589_47962'}, {'similarity': 0.8614, 'master_pi': '1000001589_47962', 'similar_pi': '1000013443_39966'}, {'similarity': 0.8556, 'master_pi': '1000001589_47962', 'similar_pi': '1000007560_3022186'}, {'similarity': 0.8358, 'master_pi': '1000001589_47962', 'similar_pi': '1000002619_286869'}, {'similarity': 0.8197, 'master_pi': '1000001589_47962', 'similar_pi': '1000014148_250654'}, {'similarity': 0.8089, 'master_pi': '1000001589_47962', 'similar_pi': '1000010410_393714'}, {'similarity': 0.7767, 'master_pi': '1000001589_47962', 'similar_pi': '1000016965_2463103'}, {'similarity': 0.7757, 'master_pi': '1000001589_47962', 'similar_pi': '1000014300_554766'}, {'similarity': 0.7565, 'master_pi': '1000001589_47962', 'similar_pi': '1000017746_269642'}, {'similarity': 0.7541, 'master_pi': '1000001589_47962', 'similar_pi': '1000002181_2142942'}, {'similarity': 0.7452, 'master_pi': '1000001589_47962', 'similar_pi': '1000002181_2051334'}, {'similarity': 0.7438, 'master_pi': '1000001589_47962', 'similar_pi': '1000015900_7056763'}, {'similarity': 0.7386, 'master_pi': '1000001589_47962', 'similar_pi': '1000010562_243157'}, {'similarity': 0.7363, 'master_pi': '1000001589_47962', 'similar_pi': '1000014148_53965'}, {'similarity': 0.7347, 'master_pi': '1000001589_47962', 'similar_pi': '1000014100_424852'}, {'similarity': 0.7327, 'master_pi': '1000001589_47962', 'similar_pi': '1000017746_1101388'}, {'similarity': 0.7243, 'master_pi': '1000001589_47962', 'similar_pi': '1000005352_4375297'}, {'similarity': 0.7231, 'master_pi': '1000001589_47962', 'similar_pi': '1000018433_1083781'}, {'similarity': 0.7228, 'master_pi': '1000001589_47962', 'similar_pi': '1000004228_2283011'}, {'similarity': 0.7199, 'master_pi': '1000001589_47962', 'similar_pi': '1000017643_2107833'}, {'similarity': 1.0, 'master_pi': '1000014204_86272', 'similar_pi': '1000014204_86272'}, {'similarity': 0.8034, 'master_pi': '1000014204_86272', 'similar_pi': '1000007560_2156837'}, {'similarity': 0.7969, 'master_pi': '1000014204_86272', 'similar_pi': '1000020751_1093721'}, {'similarity': 0.7934, 'master_pi': '1000014204_86272', 'similar_pi': '1000014148_53965'}, {'similarity': 0.7907, 'master_pi': '1000014204_86272', 'similar_pi': '1000014300_328844'}, {'similarity': 0.7637, 'master_pi': '1000014204_86272', 'similar_pi': '1000019645_85406'}, {'similarity': 0.7443, 'master_pi': '1000014204_86272', 'similar_pi': '1000001703_50950'}, {'similarity': 0.7373, 'master_pi': '1000014204_86272', 'similar_pi': '1000009316_1097863'}, {'similarity': 0.7366, 'master_pi': '1000014204_86272', 'similar_pi': '1000005892_51661'}, {'similarity': 0.7363, 'master_pi': '1000014204_86272', 'similar_pi': '1000001703_25700'}, {'similarity': 0.7324, 'master_pi': '1000014204_86272', 'similar_pi': '1000010562_243157'}, {'similarity': 0.7277, 'master_pi': '1000014204_86272', 'similar_pi': '1000017573_4670434'}, {'similarity': 0.7238, 'master_pi': '1000014204_86272', 'similar_pi': '1000004450_3547066'}, {'similarity': 0.7135, 'master_pi': '1000014204_86272', 'similar_pi': '1000015780_542711'}, {'similarity': 0.7119, 'master_pi': '1000014204_86272', 'similar_pi': '1000016282_54142'}, {'similarity': 0.7105, 'master_pi': '1000014204_86272', 'similar_pi': '1000003705_426054'}, {'similarity': 0.7062, 'master_pi': '1000014204_86272', 'similar_pi': '1000019645_49755'}, {'similarity': 0.7016, 'master_pi': '1000014204_86272', 'similar_pi': '1000018483_271601'}, {'similarity': 0.696, 'master_pi': '1000014204_86272', 'similar_pi': '1000014300_377726'}, {'similarity': 0.695, 'master_pi': '1000014204_86272', 'similar_pi': '1000014204_202327'}, {'similarity': 1.0, 'master_pi': '1000005892_304502', 'similar_pi': '1000005892_304502'}, {'similarity': 0.7051, 'master_pi': '1000005892_304502', 'similar_pi': '1000006044_506650'}, {'similarity': 0.7026, 'master_pi': '1000005892_304502', 'similar_pi': '1000019289_532754'}, {'similarity': 0.7013, 'master_pi': '1000005892_304502', 'similar_pi': '1000006551_2617141'}, {'similarity': 0.6989, 'master_pi': '1000005892_304502', 'similar_pi': '1000006044_1790440'}, {'similarity': 0.6939, 'master_pi': '1000005892_304502', 'similar_pi': '1000005736_247062'}, {'similarity': 0.6628, 'master_pi': '1000005892_304502', 'similar_pi': '1000007158_205545'}, {'similarity': 0.6595, 'master_pi': '1000005892_304502', 'similar_pi': '1000000461_1328228'}, {'similarity': 0.6571, 'master_pi': '1000005892_304502', 'similar_pi': '1000003705_401309'}, {'similarity': 0.6526, 'master_pi': '1000005892_304502', 'similar_pi': '1000019289_79232'}, {'similarity': 0.6457, 'master_pi': '1000005892_304502', 'similar_pi': '1000005436_61494'}, {'similarity': 0.6445, 'master_pi': '1000005892_304502', 'similar_pi': '1000013499_266873'}, {'similarity': 0.6445, 'master_pi': '1000005892_304502', 'similar_pi': '1000006044_257220'}, {'similarity': 0.644, 'master_pi': '1000005892_304502', 'similar_pi': '1000006420_451109'}, {'similarity': 0.6433, 'master_pi': '1000005892_304502', 'similar_pi': '1000006044_2941495'}, {'similarity': 0.6427, 'master_pi': '1000005892_304502', 'similar_pi': '1000020031_4862403'}, {'similarity': 0.6398, 'master_pi': '1000005892_304502', 'similar_pi': '1000006420_369254'}, {'similarity': 0.6365, 'master_pi': '1000005892_304502', 'similar_pi': '1000017643_1905271'}, {'similarity': 0.629, 'master_pi': '1000005892_304502', 'similar_pi': '1000019645_153411'}, {'similarity': 0.6279, 'master_pi': '1000005892_304502', 'similar_pi': '1000017306_662524'}, {'similarity': 1.0, 'master_pi': '1000019295_5683365', 'similar_pi': '1000019295_5683365'}, {'similarity': 0.7494, 'master_pi': '1000019295_5683365', 'similar_pi': '1000002181_2142942'}, {'similarity': 0.7493, 'master_pi': '1000019295_5683365', 'similar_pi': '1000017573_6083989'}, {'similarity': 0.7451, 'master_pi': '1000019295_5683365', 'similar_pi': '1000002312_870273'}, {'similarity': 0.7389, 'master_pi': '1000019295_5683365', 'similar_pi': '1000005906_566835'}, {'similarity': 0.7296, 'master_pi': '1000019295_5683365', 'similar_pi': '1000006450_471043'}, {'similarity': 0.726, 'master_pi': '1000019295_5683365', 'similar_pi': '1000017746_269642'}, {'similarity': 0.7258, 'master_pi': '1000019295_5683365', 'similar_pi': '1000018657_2181570'}, {'similarity': 0.7243, 'master_pi': '1000019295_5683365', 'similar_pi': '1000018758_677648'}, {'similarity': 0.7155, 'master_pi': '1000019295_5683365', 'similar_pi': '1000017643_1678329'}, {'similarity': 0.7076, 'master_pi': '1000019295_5683365', 'similar_pi': '1000005906_5314526'}, {'similarity': 0.7008, 'master_pi': '1000019295_5683365', 'similar_pi': '1000020743_5730464'}, {'similarity': 0.6997, 'master_pi': '1000019295_5683365', 'similar_pi': '1000005736_97051'}, {'similarity': 0.6996, 'master_pi': '1000019295_5683365', 'similar_pi': '1000006420_369254'}, {'similarity': 0.6986, 'master_pi': '1000019295_5683365', 'similar_pi': '1000006420_451109'}, {'similarity': 0.6981, 'master_pi': '1000019295_5683365', 'similar_pi': '1000016965_2463103'}, {'similarity': 0.6978, 'master_pi': '1000019295_5683365', 'similar_pi': '1000006972_5289779'}, {'similarity': 0.6967, 'master_pi': '1000019295_5683365', 'similar_pi': '1000017746_1101388'}, {'similarity': 0.6928, 'master_pi': '1000019295_5683365', 'similar_pi': '1000006044_2941495'}, {'similarity': 0.6919, 'master_pi': '1000019295_5683365', 'similar_pi': '1000006044_257220'}, {'similarity': 1.0, 'master_pi': '1000013443_1454974', 'similar_pi': '1000013443_1454974'}, {'similarity': 0.7343, 'master_pi': '1000013443_1454974', 'similar_pi': '1000013443_501818'}, {'similarity': 0.6952, 'master_pi': '1000013443_1454974', 'similar_pi': '1000007158_259317'}, {'similarity': 0.6916, 'master_pi': '1000013443_1454974', 'similar_pi': '1000014300_328844'}, {'similarity': 0.6879, 'master_pi': '1000013443_1454974', 'similar_pi': '1000001703_50950'}, {'similarity': 0.6855, 'master_pi': '1000013443_1454974', 'similar_pi': '1000018985_556353'}, {'similarity': 0.6735, 'master_pi': '1000013443_1454974', 'similar_pi': '1000018433_1062638'}, {'similarity': 0.6621, 'master_pi': '1000013443_1454974', 'similar_pi': '1000014100_424852'}, {'similarity': 0.6618, 'master_pi': '1000013443_1454974', 'similar_pi': '1000009316_1097863'}, {'similarity': 0.6612, 'master_pi': '1000013443_1454974', 'similar_pi': '1000014100_468821'}, {'similarity': 0.6573, 'master_pi': '1000013443_1454974', 'similar_pi': '1000005352_1196207'}, {'similarity': 0.6436, 'master_pi': '1000013443_1454974', 'similar_pi': '1000004450_3547066'}, {'similarity': 0.6425, 'master_pi': '1000013443_1454974', 'similar_pi': '1000007560_2156837'}, {'similarity': 0.6372, 'master_pi': '1000013443_1454974', 'similar_pi': '1000019645_85406'}, {'similarity': 0.6359, 'master_pi': '1000013443_1454974', 'similar_pi': '1000001703_43700'}, {'similarity': 0.6341, 'master_pi': '1000013443_1454974', 'similar_pi': '1000005870_383022'}, {'similarity': 0.6327, 'master_pi': '1000013443_1454974', 'similar_pi': '1000005892_51661'}, {'similarity': 0.6265, 'master_pi': '1000013443_1454974', 'similar_pi': '1000005352_1407342'}, {'similarity': 0.6265, 'master_pi': '1000013443_1454974', 'similar_pi': '1000005352_4375297'}, {'similarity': 0.6264, 'master_pi': '1000013443_1454974', 'similar_pi': '1000016180_3725398'}, {'similarity': 1.0, 'master_pi': '1000010562_344570', 'similar_pi': '1000010562_344570'}, {'similarity': 0.7132, 'master_pi': '1000010562_344570', 'similar_pi': '1000004298_413764'}, {'similarity': 0.6944, 'master_pi': '1000010562_344570', 'similar_pi': '1000014148_250654'}, {'similarity': 0.6871, 'master_pi': '1000010562_344570', 'similar_pi': '1000002181_2051334'}, {'similarity': 0.6703, 'master_pi': '1000010562_344570', 'similar_pi': '1000018433_1083781'}, {'similarity': 0.6702, 'master_pi': '1000010562_344570', 'similar_pi': '1000002827_86297'}, {'similarity': 0.6665, 'master_pi': '1000010562_344570', 'similar_pi': '1000014148_53965'}, {'similarity': 0.663, 'master_pi': '1000010562_344570', 'similar_pi': '1000014300_554766'}, {'similarity': 0.6593, 'master_pi': '1000010562_344570', 'similar_pi': '1000018433_509959'}, {'similarity': 0.6582, 'master_pi': '1000010562_344570', 'similar_pi': '1000013443_39966'}, {'similarity': 0.6581, 'master_pi': '1000010562_344570', 'similar_pi': '1000001589_47962'}, {'similarity': 0.6345, 'master_pi': '1000010562_344570', 'similar_pi': '1000010410_393714'}, {'similarity': 0.6328, 'master_pi': '1000010562_344570', 'similar_pi': '1000007560_3022186'}, {'similarity': 0.6281, 'master_pi': '1000010562_344570', 'similar_pi': '1000014100_424852'}, {'similarity': 0.6168, 'master_pi': '1000010562_344570', 'similar_pi': '1000010562_243157'}, {'similarity': 0.6168, 'master_pi': '1000010562_344570', 'similar_pi': '1000003705_426054'}, {'similarity': 0.6165, 'master_pi': '1000010562_344570', 'similar_pi': '1000005352_4375297'}, {'similarity': 0.6096, 'master_pi': '1000010562_344570', 'similar_pi': '1000002999_5720269'}, {'similarity': 0.6053, 'master_pi': '1000010562_344570', 'similar_pi': '1000010562_369797'}, {'similarity': 0.6049, 'master_pi': '1000010562_344570', 'similar_pi': '1000019645_85406'}, {'similarity': 1.0, 'master_pi': '1000020743_5730464', 'similar_pi': '1000020743_5730464'}, {'similarity': 0.7944, 'master_pi': '1000020743_5730464', 'similar_pi': '1000020031_4862403'}, {'similarity': 0.7829, 'master_pi': '1000020743_5730464', 'similar_pi': '1000006044_257220'}, {'similarity': 0.7745, 'master_pi': '1000020743_5730464', 'similar_pi': '1000017643_1678329'}, {'similarity': 0.7707, 'master_pi': '1000020743_5730464', 'similar_pi': '1000003705_401309'}, {'similarity': 0.7511, 'master_pi': '1000020743_5730464', 'similar_pi': '1000000461_1328228'}, {'similarity': 0.7494, 'master_pi': '1000020743_5730464', 'similar_pi': '1000005736_247062'}, {'similarity': 0.7456, 'master_pi': '1000020743_5730464', 'similar_pi': '1000007158_205545'}, {'similarity': 0.7407, 'master_pi': '1000020743_5730464', 'similar_pi': '1000019289_532754'}, {'similarity': 0.7283, 'master_pi': '1000020743_5730464', 'similar_pi': '1000006420_451109'}, {'similarity': 0.7275, 'master_pi': '1000020743_5730464', 'similar_pi': '1000000489_2156712'}, {'similarity': 0.7248, 'master_pi': '1000020743_5730464', 'similar_pi': '1000005436_61494'}, {'similarity': 0.7221, 'master_pi': '1000020743_5730464', 'similar_pi': '1000010562_39641'}, {'similarity': 0.7184, 'master_pi': '1000020743_5730464', 'similar_pi': '1000013499_266873'}, {'similarity': 0.7175, 'master_pi': '1000020743_5730464', 'similar_pi': '1000006044_506650'}, {'similarity': 0.7156, 'master_pi': '1000020743_5730464', 'similar_pi': '1000006420_369254'}, {'similarity': 0.712, 'master_pi': '1000020743_5730464', 'similar_pi': '1000018657_2181570'}, {'similarity': 0.7103, 'master_pi': '1000020743_5730464', 'similar_pi': '1000019645_153411'}, {'similarity': 0.71, 'master_pi': '1000020743_5730464', 'similar_pi': '1000009561_789018'}, {'similarity': 0.7071, 'master_pi': '1000020743_5730464', 'similar_pi': '1000005736_475217'}, {'similarity': 1.0, 'master_pi': '1000009581_1156993', 'similar_pi': '1000009581_1156993'}, {'similarity': 0.7182, 'master_pi': '1000009581_1156993', 'similar_pi': '1000014100_424852'}, {'similarity': 0.6749, 'master_pi': '1000009581_1156993', 'similar_pi': '1000014300_328844'}, {'similarity': 0.6462, 'master_pi': '1000009581_1156993', 'similar_pi': '1000001589_687231'}, {'similarity': 0.628, 'master_pi': '1000009581_1156993', 'similar_pi': '1000014148_53965'}, {'similarity': 0.619, 'master_pi': '1000009581_1156993', 'similar_pi': '1000014148_250654'}, {'similarity': 0.6178, 'master_pi': '1000009581_1156993', 'similar_pi': '1000005352_4375297'}, {'similarity': 0.6163, 'master_pi': '1000009581_1156993', 'similar_pi': '1000019645_85406'}, {'similarity': 0.6127, 'master_pi': '1000009581_1156993', 'similar_pi': '1000018985_556353'}, {'similarity': 0.6051, 'master_pi': '1000009581_1156993', 'similar_pi': '1000013443_39966'}, {'similarity': 0.6029, 'master_pi': '1000009581_1156993', 'similar_pi': '1000005352_1407342'}, {'similarity': 0.5986, 'master_pi': '1000009581_1156993', 'similar_pi': '1000004298_413764'}, {'similarity': 0.5941, 'master_pi': '1000009581_1156993', 'similar_pi': '1000019142_3250699'}, {'similarity': 0.5931, 'master_pi': '1000009581_1156993', 'similar_pi': '1000005352_1196207'}, {'similarity': 0.5891, 'master_pi': '1000009581_1156993', 'similar_pi': '1000016486_98843'}, {'similarity': 0.574, 'master_pi': '1000009581_1156993', 'similar_pi': '1000013443_1454974'}, {'similarity': 0.5738, 'master_pi': '1000009581_1156993', 'similar_pi': '1000013443_501818'}, {'similarity': 0.5714, 'master_pi': '1000009581_1156993', 'similar_pi': '1000016486_11905'}, {'similarity': 0.5684, 'master_pi': '1000009581_1156993', 'similar_pi': '1000002181_2051334'}, {'similarity': 0.5678, 'master_pi': '1000009581_1156993', 'similar_pi': '1000019645_49755'}, {'similarity': 1.0, 'master_pi': '1000005296_1707734', 'similar_pi': '1000005296_1707734'}, {'similarity': 0.8066, 'master_pi': '1000005296_1707734', 'similar_pi': '1000020031_4862403'}, {'similarity': 0.7854, 'master_pi': '1000005296_1707734', 'similar_pi': '1000005597_3682227'}, {'similarity': 0.7816, 'master_pi': '1000005296_1707734', 'similar_pi': '1000005597_694815'}, {'similarity': 0.7799, 'master_pi': '1000005296_1707734', 'similar_pi': '1000004450_5156532'}, {'similarity': 0.7579, 'master_pi': '1000005296_1707734', 'similar_pi': '1000019184_1289169'}, {'similarity': 0.746, 'master_pi': '1000005296_1707734', 'similar_pi': '1000009561_789018'}, {'similarity': 0.7421, 'master_pi': '1000005296_1707734', 'similar_pi': '1000007158_205545'}, {'similarity': 0.7363, 'master_pi': '1000005296_1707734', 'similar_pi': '1000013499_266873'}, {'similarity': 0.732, 'master_pi': '1000005296_1707734', 'similar_pi': '1000005736_475217'}, {'similarity': 0.7308, 'master_pi': '1000005296_1707734', 'similar_pi': '1000016910_905983'}, {'similarity': 0.7184, 'master_pi': '1000005296_1707734', 'similar_pi': '1000005352_1196207'}, {'similarity': 0.7156, 'master_pi': '1000005296_1707734', 'similar_pi': '1000019289_532754'}, {'similarity': 0.7142, 'master_pi': '1000005296_1707734', 'similar_pi': '1000019142_3250699'}, {'similarity': 0.7125, 'master_pi': '1000005296_1707734', 'similar_pi': '1000018758_677648'}, {'similarity': 0.7122, 'master_pi': '1000005296_1707734', 'similar_pi': '1000002181_2142942'}, {'similarity': 0.7095, 'master_pi': '1000005296_1707734', 'similar_pi': '1000005436_61494'}, {'similarity': 0.7062, 'master_pi': '1000005296_1707734', 'similar_pi': '1000018209_5124502'}, {'similarity': 0.7055, 'master_pi': '1000005296_1707734', 'similar_pi': '1000006044_257220'}, {'similarity': 0.7048, 'master_pi': '1000005296_1707734', 'similar_pi': '1000018606_1154981'}, {'similarity': 1.0, 'master_pi': '1000013443_39966', 'similar_pi': '1000013443_39966'}, {'similarity': 0.8614, 'master_pi': '1000013443_39966', 'similar_pi': '1000001589_47962'}, {'similarity': 0.8172, 'master_pi': '1000013443_39966', 'similar_pi': '1000002619_286869'}, {'similarity': 0.8144, 'master_pi': '1000013443_39966', 'similar_pi': '1000007560_3022186'}, {'similarity': 0.8103, 'master_pi': '1000013443_39966', 'similar_pi': '1000016486_11905'}, {'similarity': 0.8045, 'master_pi': '1000013443_39966', 'similar_pi': '1000005352_4375297'}, {'similarity': 0.803, 'master_pi': '1000013443_39966', 'similar_pi': '1000002181_2051334'}, {'similarity': 0.7746, 'master_pi': '1000013443_39966', 'similar_pi': '1000014148_250654'}, {'similarity': 0.7693, 'master_pi': '1000013443_39966', 'similar_pi': '1000010562_243157'}, {'similarity': 0.7602, 'master_pi': '1000013443_39966', 'similar_pi': '1000005352_1407342'}, {'similarity': 0.7496, 'master_pi': '1000013443_39966', 'similar_pi': '1000004298_413764'}, {'similarity': 0.7482, 'master_pi': '1000013443_39966', 'similar_pi': '1000010410_393714'}, {'similarity': 0.7414, 'master_pi': '1000013443_39966', 'similar_pi': '1000018209_5124502'}, {'similarity': 0.7405, 'master_pi': '1000013443_39966', 'similar_pi': '1000016965_2463103'}, {'similarity': 0.7404, 'master_pi': '1000013443_39966', 'similar_pi': '1000004228_2283011'}, {'similarity': 0.7383, 'master_pi': '1000013443_39966', 'similar_pi': '1000016180_3725398'}, {'similarity': 0.7299, 'master_pi': '1000013443_39966', 'similar_pi': '1000014148_53965'}, {'similarity': 0.7277, 'master_pi': '1000013443_39966', 'similar_pi': '1000019645_85406'}, {'similarity': 0.7265, 'master_pi': '1000013443_39966', 'similar_pi': '1000015900_7056763'}, {'similarity': 0.7238, 'master_pi': '1000013443_39966', 'similar_pi': '1000019142_3250699'}, {'similarity': 1.0, 'master_pi': '1000005870_333655', 'similar_pi': '1000005870_333655'}, {'similarity': 0.8333, 'master_pi': '1000005870_333655', 'similar_pi': '1000005870_383022'}, {'similarity': 0.7684, 'master_pi': '1000005870_333655', 'similar_pi': '1000005892_51661'}, {'similarity': 0.7649, 'master_pi': '1000005870_333655', 'similar_pi': '1000016486_98843'}, {'similarity': 0.7548, 'master_pi': '1000005870_333655', 'similar_pi': '1000019645_49755'}, {'similarity': 0.7394, 'master_pi': '1000005870_333655', 'similar_pi': '1000009316_643631'}, {'similarity': 0.7223, 'master_pi': '1000005870_333655', 'similar_pi': '1000005296_1541795'}, {'similarity': 0.7173, 'master_pi': '1000005870_333655', 'similar_pi': '1000016486_11905'}, {'similarity': 0.7169, 'master_pi': '1000005870_333655', 'similar_pi': '1000017746_989560'}, {'similarity': 0.7161, 'master_pi': '1000005870_333655', 'similar_pi': '1000014204_202327'}, {'similarity': 0.7139, 'master_pi': '1000005870_333655', 'similar_pi': '1000014100_468821'}, {'similarity': 0.7115, 'master_pi': '1000005870_333655', 'similar_pi': '1000009316_1097863'}, {'similarity': 0.7098, 'master_pi': '1000005870_333655', 'similar_pi': '1000015780_507181'}, {'similarity': 0.7064, 'master_pi': '1000005870_333655', 'similar_pi': '1000016504_191302'}, {'similarity': 0.705, 'master_pi': '1000005870_333655', 'similar_pi': '1000017306_1463281'}, {'similarity': 0.6995, 'master_pi': '1000005870_333655', 'similar_pi': '1000016180_3725398'}, {'similarity': 0.6994, 'master_pi': '1000005870_333655', 'similar_pi': '1000009561_612586'}, {'similarity': 0.6991, 'master_pi': '1000005870_333655', 'similar_pi': '1000000461_2059722'}, {'similarity': 0.6932, 'master_pi': '1000005870_333655', 'similar_pi': '1000019645_85406'}, {'similarity': 0.688, 'master_pi': '1000005870_333655', 'similar_pi': '1000000461_1477576'}, {'similarity': 1.0, 'master_pi': '1000016591_1183410', 'similar_pi': '1000016591_1183410'}, {'similarity': 0.7105, 'master_pi': '1000016591_1183410', 'similar_pi': '1000000489_2156712'}, {'similarity': 0.6992, 'master_pi': '1000016591_1183410', 'similar_pi': '1000018657_2659678'}, {'similarity': 0.6958, 'master_pi': '1000016591_1183410', 'similar_pi': '1000006420_369254'}, {'similarity': 0.6945, 'master_pi': '1000016591_1183410', 'similar_pi': '1000018657_2181570'}, {'similarity': 0.6906, 'master_pi': '1000016591_1183410', 'similar_pi': '1000007158_205545'}, {'similarity': 0.6887, 'master_pi': '1000016591_1183410', 'similar_pi': '1000006551_2617141'}, {'similarity': 0.6862, 'master_pi': '1000016591_1183410', 'similar_pi': '1000017643_1678329'}, {'similarity': 0.6816, 'master_pi': '1000016591_1183410', 'similar_pi': '1000020743_5730464'}, {'similarity': 0.6738, 'master_pi': '1000016591_1183410', 'similar_pi': '1000006972_5289779'}, {'similarity': 0.6736, 'master_pi': '1000016591_1183410', 'similar_pi': '1000019289_79232'}, {'similarity': 0.6688, 'master_pi': '1000016591_1183410', 'similar_pi': '1000005352_3568116'}, {'similarity': 0.6686, 'master_pi': '1000016591_1183410', 'similar_pi': '1000019289_532754'}, {'similarity': 0.6671, 'master_pi': '1000016591_1183410', 'similar_pi': '1000012591_283383'}, {'similarity': 0.6651, 'master_pi': '1000016591_1183410', 'similar_pi': '1000019035_1436324'}, {'similarity': 0.6613, 'master_pi': '1000016591_1183410', 'similar_pi': '1000014826_683224'}, {'similarity': 0.6597, 'master_pi': '1000016591_1183410', 'similar_pi': '1000006044_257220'}, {'similarity': 0.6596, 'master_pi': '1000016591_1183410', 'similar_pi': '1000003633_2146904'}, {'similarity': 0.659, 'master_pi': '1000016591_1183410', 'similar_pi': '1000002619_50010'}, {'similarity': 0.6577, 'master_pi': '1000016591_1183410', 'similar_pi': '1000005352_1196207'}, {'similarity': 1.0, 'master_pi': '1000018606_927886', 'similar_pi': '1000018606_927886'}, {'similarity': 0.7729, 'master_pi': '1000018606_927886', 'similar_pi': '1000006450_418604'}, {'similarity': 0.7338, 'master_pi': '1000018606_927886', 'similar_pi': '1000010562_39641'}, {'similarity': 0.7302, 'master_pi': '1000018606_927886', 'similar_pi': '1000001589_254796'}, {'similarity': 0.7051, 'master_pi': '1000018606_927886', 'similar_pi': '1000003633_2146904'}, {'similarity': 0.6863, 'master_pi': '1000018606_927886', 'similar_pi': '1000018606_1154981'}, {'similarity': 0.6759, 'master_pi': '1000018606_927886', 'similar_pi': '1000005450_974152'}, {'similarity': 0.6716, 'master_pi': '1000018606_927886', 'similar_pi': '1000005352_4375297'}, {'similarity': 0.6653, 'master_pi': '1000018606_927886', 'similar_pi': '1000012591_283383'}, {'similarity': 0.6535, 'master_pi': '1000018606_927886', 'similar_pi': '1000005352_3568116'}, {'similarity': 0.6525, 'master_pi': '1000018606_927886', 'similar_pi': '1000020751_1093721'}, {'similarity': 0.6492, 'master_pi': '1000018606_927886', 'similar_pi': '1000018433_119097'}, {'similarity': 0.6491, 'master_pi': '1000018606_927886', 'similar_pi': '1000005352_1196207'}, {'similarity': 0.642, 'master_pi': '1000018606_927886', 'similar_pi': '1000007560_2156837'}, {'similarity': 0.6302, 'master_pi': '1000018606_927886', 'similar_pi': '1000019142_3250699'}, {'similarity': 0.6197, 'master_pi': '1000018606_927886', 'similar_pi': '1000020717_360154'}, {'similarity': 0.6148, 'master_pi': '1000018606_927886', 'similar_pi': '1000018209_5124502'}, {'similarity': 0.6118, 'master_pi': '1000018606_927886', 'similar_pi': '1000014148_53965'}, {'similarity': 0.6065, 'master_pi': '1000018606_927886', 'similar_pi': '1000003705_401309'}, {'similarity': 0.6049, 'master_pi': '1000018606_927886', 'similar_pi': '1000006420_315626'}, {'similarity': 1.0, 'master_pi': '1000018985_109015', 'similar_pi': '1000018985_109015'}, {'similarity': 0.8105, 'master_pi': '1000018985_109015', 'similar_pi': '1000005352_1196207'}, {'similarity': 0.7973, 'master_pi': '1000018985_109015', 'similar_pi': '1000018209_245768'}, {'similarity': 0.7793, 'master_pi': '1000018985_109015', 'similar_pi': '1000015780_542711'}, {'similarity': 0.77, 'master_pi': '1000018985_109015', 'similar_pi': '1000018209_5124502'}, {'similarity': 0.7681, 'master_pi': '1000018985_109015', 'similar_pi': '1000017643_1678329'}, {'similarity': 0.7592, 'master_pi': '1000018985_109015', 'similar_pi': '1000010562_39641'}, {'similarity': 0.7574, 'master_pi': '1000018985_109015', 'similar_pi': '1000015780_470187'}, {'similarity': 0.733, 'master_pi': '1000018985_109015', 'similar_pi': '1000005352_4375297'}, {'similarity': 0.7325, 'master_pi': '1000018985_109015', 'similar_pi': '1000009561_612586'}, {'similarity': 0.7267, 'master_pi': '1000018985_109015', 'similar_pi': '1000010562_243157'}, {'similarity': 0.7264, 'master_pi': '1000018985_109015', 'similar_pi': '1000019142_3250699'}, {'similarity': 0.7119, 'master_pi': '1000018985_109015', 'similar_pi': '1000013443_39966'}, {'similarity': 0.709, 'master_pi': '1000018985_109015', 'similar_pi': '1000013443_1330468'}, {'similarity': 0.7085, 'master_pi': '1000018985_109015', 'similar_pi': '1000015900_7056763'}, {'similarity': 0.7078, 'master_pi': '1000018985_109015', 'similar_pi': '1000019289_532754'}, {'similarity': 0.7024, 'master_pi': '1000018985_109015', 'similar_pi': '1000005352_1407342'}, {'similarity': 0.7014, 'master_pi': '1000018985_109015', 'similar_pi': '1000005436_61494'}, {'similarity': 0.7005, 'master_pi': '1000018985_109015', 'similar_pi': '1000018985_556353'}, {'similarity': 0.7003, 'master_pi': '1000018985_109015', 'similar_pi': '1000016180_3725398'}, {'similarity': 1.0, 'master_pi': '1000004228_2283011', 'similar_pi': '1000004228_2283011'}, {'similarity': 0.8299, 'master_pi': '1000004228_2283011', 'similar_pi': '1000004228_590464'}, {'similarity': 0.7938, 'master_pi': '1000004228_2283011', 'similar_pi': '1000018015_2282093'}, {'similarity': 0.7744, 'master_pi': '1000004228_2283011', 'similar_pi': '1000016965_2463103'}, {'similarity': 0.7727, 'master_pi': '1000004228_2283011', 'similar_pi': '1000014148_250654'}, {'similarity': 0.7642, 'master_pi': '1000004228_2283011', 'similar_pi': '1000005597_694815'}, {'similarity': 0.7589, 'master_pi': '1000004228_2283011', 'similar_pi': '1000010410_393714'}, {'similarity': 0.757, 'master_pi': '1000004228_2283011', 'similar_pi': '1000017643_2107833'}, {'similarity': 0.757, 'master_pi': '1000004228_2283011', 'similar_pi': '1000005597_3682227'}, {'similarity': 0.7548, 'master_pi': '1000004228_2283011', 'similar_pi': '1000004298_48192'}, {'similarity': 0.7536, 'master_pi': '1000004228_2283011', 'similar_pi': '1000000461_543504'}, {'similarity': 0.7518, 'master_pi': '1000004228_2283011', 'similar_pi': '1000002619_80272'}, {'similarity': 0.7507, 'master_pi': '1000004228_2283011', 'similar_pi': '1000013499_266873'}, {'similarity': 0.7461, 'master_pi': '1000004228_2283011', 'similar_pi': '1000014300_554766'}, {'similarity': 0.7441, 'master_pi': '1000004228_2283011', 'similar_pi': '1000004450_5156532'}, {'similarity': 0.7423, 'master_pi': '1000004228_2283011', 'similar_pi': '1000003705_296339'}, {'similarity': 0.742, 'master_pi': '1000004228_2283011', 'similar_pi': '1000002181_2142942'}, {'similarity': 0.7407, 'master_pi': '1000004228_2283011', 'similar_pi': '1000015900_7056763'}, {'similarity': 0.7404, 'master_pi': '1000004228_2283011', 'similar_pi': '1000013443_39966'}, {'similarity': 0.7392, 'master_pi': '1000004228_2283011', 'similar_pi': '1000009561_789018'}, {'similarity': 1.0, 'master_pi': '1000002619_80272', 'similar_pi': '1000002619_80272'}, {'similarity': 0.8515, 'master_pi': '1000002619_80272', 'similar_pi': '1000015780_507181'}, {'similarity': 0.8411, 'master_pi': '1000002619_80272', 'similar_pi': '1000000461_543504'}, {'similarity': 0.8302, 'master_pi': '1000002619_80272', 'similar_pi': '1000003705_426054'}, {'similarity': 0.8131, 'master_pi': '1000002619_80272', 'similar_pi': '1000002619_145002'}, {'similarity': 0.7927, 'master_pi': '1000002619_80272', 'similar_pi': '1000018015_2282093'}, {'similarity': 0.7912, 'master_pi': '1000002619_80272', 'similar_pi': '1000015780_542711'}, {'similarity': 0.7908, 'master_pi': '1000002619_80272', 'similar_pi': '1000014300_377726'}, {'similarity': 0.7835, 'master_pi': '1000002619_80272', 'similar_pi': '1000014826_3116960'}, {'similarity': 0.7809, 'master_pi': '1000002619_80272', 'similar_pi': '1000014204_202327'}, {'similarity': 0.7746, 'master_pi': '1000002619_80272', 'similar_pi': '1000002181_2051334'}, {'similarity': 0.7608, 'master_pi': '1000002619_80272', 'similar_pi': '1000010562_243157'}, {'similarity': 0.7543, 'master_pi': '1000002619_80272', 'similar_pi': '1000005892_51661'}, {'similarity': 0.7539, 'master_pi': '1000002619_80272', 'similar_pi': '1000014100_468821'}, {'similarity': 0.7527, 'master_pi': '1000002619_80272', 'similar_pi': '1000018657_2659678'}, {'similarity': 0.7518, 'master_pi': '1000002619_80272', 'similar_pi': '1000004228_2283011'}, {'similarity': 0.7515, 'master_pi': '1000002619_80272', 'similar_pi': '1000018985_556353'}, {'similarity': 0.7404, 'master_pi': '1000002619_80272', 'similar_pi': '1000019645_85406'}, {'similarity': 0.7375, 'master_pi': '1000002619_80272', 'similar_pi': '1000009316_1097863'}, {'similarity': 0.7367, 'master_pi': '1000002619_80272', 'similar_pi': '1000003705_296339'}, {'similarity': 1.0, 'master_pi': '1000018433_1083781', 'similar_pi': '1000018433_1083781'}, {'similarity': 0.7508, 'master_pi': '1000018433_1083781', 'similar_pi': '1000014148_250654'}, {'similarity': 0.7231, 'master_pi': '1000018433_1083781', 'similar_pi': '1000001589_47962'}, {'similarity': 0.7172, 'master_pi': '1000018433_1083781', 'similar_pi': '1000013443_39966'}, {'similarity': 0.7159, 'master_pi': '1000018433_1083781', 'similar_pi': '1000005352_4375297'}, {'similarity': 0.7115, 'master_pi': '1000018433_1083781', 'similar_pi': '1000016965_2463103'}, {'similarity': 0.7065, 'master_pi': '1000018433_1083781', 'similar_pi': '1000010562_243157'}, {'similarity': 0.6996, 'master_pi': '1000018433_1083781', 'similar_pi': '1000011715_999455'}, {'similarity': 0.6946, 'master_pi': '1000018433_1083781', 'similar_pi': '1000002181_2051334'}, {'similarity': 0.6943, 'master_pi': '1000018433_1083781', 'similar_pi': '1000017643_1678329'}, {'similarity': 0.6909, 'master_pi': '1000018433_1083781', 'similar_pi': '1000014148_53965'}, {'similarity': 0.6901, 'master_pi': '1000018433_1083781', 'similar_pi': '1000004298_413764'}, {'similarity': 0.6893, 'master_pi': '1000018433_1083781', 'similar_pi': '1000014100_424852'}, {'similarity': 0.6872, 'master_pi': '1000018433_1083781', 'similar_pi': '1000002181_2142942'}, {'similarity': 0.6832, 'master_pi': '1000018433_1083781', 'similar_pi': '1000007560_3022186'}, {'similarity': 0.6825, 'master_pi': '1000018433_1083781', 'similar_pi': '1000019142_3250699'}, {'similarity': 0.6787, 'master_pi': '1000018433_1083781', 'similar_pi': '1000002312_870273'}, {'similarity': 0.6783, 'master_pi': '1000018433_1083781', 'similar_pi': '1000010562_39641'}, {'similarity': 0.6723, 'master_pi': '1000018433_1083781', 'similar_pi': '1000004228_590464'}, {'similarity': 0.6703, 'master_pi': '1000018433_1083781', 'similar_pi': '1000010562_344570'}, {'similarity': 1.0, 'master_pi': '1000019446_1373376', 'similar_pi': '1000019446_1373376'}, {'similarity': 0.7841, 'master_pi': '1000019446_1373376', 'similar_pi': '1000005436_61494'}, {'similarity': 0.7559, 'master_pi': '1000019446_1373376', 'similar_pi': '1000006420_408794'}, {'similarity': 0.7524, 'master_pi': '1000019446_1373376', 'similar_pi': '1000017306_662524'}, {'similarity': 0.7467, 'master_pi': '1000019446_1373376', 'similar_pi': '1000020031_4862403'}, {'similarity': 0.7448, 'master_pi': '1000019446_1373376', 'similar_pi': '1000006420_315626'}, {'similarity': 0.7379, 'master_pi': '1000019446_1373376', 'similar_pi': '1000019289_532754'}, {'similarity': 0.7334, 'master_pi': '1000019446_1373376', 'similar_pi': '1000019289_79232'}, {'similarity': 0.7317, 'master_pi': '1000019446_1373376', 'similar_pi': '1000005736_475217'}, {'similarity': 0.7232, 'master_pi': '1000019446_1373376', 'similar_pi': '1000018209_5124502'}, {'similarity': 0.7217, 'master_pi': '1000019446_1373376', 'similar_pi': '1000019645_153411'}, {'similarity': 0.719, 'master_pi': '1000019446_1373376', 'similar_pi': '1000005597_694815'}, {'similarity': 0.7185, 'master_pi': '1000019446_1373376', 'similar_pi': '1000019142_3250699'}, {'similarity': 0.7133, 'master_pi': '1000019446_1373376', 'similar_pi': '1000009561_612586'}, {'similarity': 0.7132, 'master_pi': '1000019446_1373376', 'similar_pi': '1000018209_245768'}, {'similarity': 0.7108, 'master_pi': '1000019446_1373376', 'similar_pi': '1000005736_97051'}, {'similarity': 0.6944, 'master_pi': '1000019446_1373376', 'similar_pi': '1000003705_401309'}, {'similarity': 0.6929, 'master_pi': '1000019446_1373376', 'similar_pi': '1000015780_542711'}, {'similarity': 0.6865, 'master_pi': '1000019446_1373376', 'similar_pi': '1000006044_257220'}, {'similarity': 0.6839, 'master_pi': '1000019446_1373376', 'similar_pi': '1000010562_39641'}, {'similarity': 1.0, 'master_pi': '1000014204_202327', 'similar_pi': '1000014204_202327'}, {'similarity': 0.7903, 'master_pi': '1000014204_202327', 'similar_pi': '1000014100_468821'}, {'similarity': 0.7809, 'master_pi': '1000014204_202327', 'similar_pi': '1000002619_80272'}, {'similarity': 0.7793, 'master_pi': '1000014204_202327', 'similar_pi': '1000014300_377726'}, {'similarity': 0.7709, 'master_pi': '1000014204_202327', 'similar_pi': '1000009316_1097863'}, {'similarity': 0.7603, 'master_pi': '1000014204_202327', 'similar_pi': '1000005892_51661'}, {'similarity': 0.7385, 'master_pi': '1000014204_202327', 'similar_pi': '1000000461_543504'}, {'similarity': 0.73, 'master_pi': '1000014204_202327', 'similar_pi': '1000015780_507181'}, {'similarity': 0.7232, 'master_pi': '1000014204_202327', 'similar_pi': '1000007158_205545'}, {'similarity': 0.7218, 'master_pi': '1000014204_202327', 'similar_pi': '1000008134_777401'}, {'similarity': 0.7187, 'master_pi': '1000014204_202327', 'similar_pi': '1000014826_3116960'}, {'similarity': 0.7161, 'master_pi': '1000014204_202327', 'similar_pi': '1000005870_333655'}, {'similarity': 0.7128, 'master_pi': '1000014204_202327', 'similar_pi': '1000005870_383022'}, {'similarity': 0.7023, 'master_pi': '1000014204_202327', 'similar_pi': '1000009316_643631'}, {'similarity': 0.7017, 'master_pi': '1000014204_202327', 'similar_pi': '1000001703_50950'}, {'similarity': 0.6994, 'master_pi': '1000014204_202327', 'similar_pi': '1000018657_2659678'}, {'similarity': 0.695, 'master_pi': '1000014204_202327', 'similar_pi': '1000014204_86272'}, {'similarity': 0.694, 'master_pi': '1000014204_202327', 'similar_pi': '1000003705_426054'}, {'similarity': 0.692, 'master_pi': '1000014204_202327', 'similar_pi': '1000000461_1477576'}, {'similarity': 0.6915, 'master_pi': '1000014204_202327', 'similar_pi': '1000019645_85406'}, {'similarity': 1.0, 'master_pi': '1000015780_542711', 'similar_pi': '1000015780_542711'}, {'similarity': 0.8602, 'master_pi': '1000015780_542711', 'similar_pi': '1000015780_470187'}, {'similarity': 0.8486, 'master_pi': '1000015780_542711', 'similar_pi': '1000015780_507181'}, {'similarity': 0.835, 'master_pi': '1000015780_542711', 'similar_pi': '1000018209_245768'}, {'similarity': 0.8106, 'master_pi': '1000015780_542711', 'similar_pi': '1000014826_3116960'}, {'similarity': 0.8092, 'master_pi': '1000015780_542711', 'similar_pi': '1000018209_5124502'}, {'similarity': 0.8044, 'master_pi': '1000015780_542711', 'similar_pi': '1000018985_556353'}, {'similarity': 0.7973, 'master_pi': '1000015780_542711', 'similar_pi': '1000010562_243157'}, {'similarity': 0.7912, 'master_pi': '1000015780_542711', 'similar_pi': '1000002619_80272'}, {'similarity': 0.7869, 'master_pi': '1000015780_542711', 'similar_pi': '1000003705_426054'}, {'similarity': 0.7862, 'master_pi': '1000015780_542711', 'similar_pi': '1000005352_1196207'}, {'similarity': 0.7842, 'master_pi': '1000015780_542711', 'similar_pi': '1000010562_39641'}, {'similarity': 0.7837, 'master_pi': '1000015780_542711', 'similar_pi': '1000019645_85406'}, {'similarity': 0.7831, 'master_pi': '1000015780_542711', 'similar_pi': '1000009561_612586'}, {'similarity': 0.7795, 'master_pi': '1000015780_542711', 'similar_pi': '1000002619_11213'}, {'similarity': 0.7793, 'master_pi': '1000015780_542711', 'similar_pi': '1000018985_109015'}, {'similarity': 0.7791, 'master_pi': '1000015780_542711', 'similar_pi': '1000003705_401309'}, {'similarity': 0.7696, 'master_pi': '1000015780_542711', 'similar_pi': '1000005352_4375297'}, {'similarity': 0.7695, 'master_pi': '1000015780_542711', 'similar_pi': '1000014148_53965'}, {'similarity': 0.7654, 'master_pi': '1000015780_542711', 'similar_pi': '1000018657_1411110'}, {'similarity': 1.0, 'master_pi': '1000002181_2142942', 'similar_pi': '1000002181_2142942'}, {'similarity': 0.8541, 'master_pi': '1000002181_2142942', 'similar_pi': '1000018758_677648'}, {'similarity': 0.8526, 'master_pi': '1000002181_2142942', 'similar_pi': '1000017573_6083989'}, {'similarity': 0.8475, 'master_pi': '1000002181_2142942', 'similar_pi': '1000016965_2463103'}, {'similarity': 0.8365, 'master_pi': '1000002181_2142942', 'similar_pi': '1000017746_269642'}, {'similarity': 0.8331, 'master_pi': '1000002181_2142942', 'similar_pi': '1000017746_1101388'}, {'similarity': 0.816, 'master_pi': '1000002181_2142942', 'similar_pi': '1000005906_566835'}, {'similarity': 0.7822, 'master_pi': '1000002181_2142942', 'similar_pi': '1000005736_97051'}, {'similarity': 0.7791, 'master_pi': '1000002181_2142942', 'similar_pi': '1000015900_7056763'}, {'similarity': 0.7738, 'master_pi': '1000002181_2142942', 'similar_pi': '1000002312_870273'}, {'similarity': 0.7698, 'master_pi': '1000002181_2142942', 'similar_pi': '1000011715_999455'}, {'similarity': 0.7593, 'master_pi': '1000002181_2142942', 'similar_pi': '1000014148_250654'}, {'similarity': 0.7541, 'master_pi': '1000002181_2142942', 'similar_pi': '1000001589_47962'}, {'similarity': 0.7494, 'master_pi': '1000002181_2142942', 'similar_pi': '1000019295_5683365'}, {'similarity': 0.7476, 'master_pi': '1000002181_2142942', 'similar_pi': '1000019289_532754'}, {'similarity': 0.7471, 'master_pi': '1000002181_2142942', 'similar_pi': '1000004450_5156532'}, {'similarity': 0.7455, 'master_pi': '1000002181_2142942', 'similar_pi': '1000007560_3022186'}, {'similarity': 0.7453, 'master_pi': '1000002181_2142942', 'similar_pi': '1000017643_1678329'}, {'similarity': 0.7439, 'master_pi': '1000002181_2142942', 'similar_pi': '1000002619_286869'}, {'similarity': 0.7426, 'master_pi': '1000002181_2142942', 'similar_pi': '1000005906_5314526'}, {'similarity': 1.0, 'master_pi': '1000018657_2051415', 'similar_pi': '1000018657_2051415'}, {'similarity': 0.7423, 'master_pi': '1000018657_2051415', 'similar_pi': '1000019142_3250699'}, {'similarity': 0.7347, 'master_pi': '1000018657_2051415', 'similar_pi': '1000006450_418604'}, {'similarity': 0.732, 'master_pi': '1000018657_2051415', 'similar_pi': '1000005436_61494'}, {'similarity': 0.7307, 'master_pi': '1000018657_2051415', 'similar_pi': '1000018209_5124502'}, {'similarity': 0.7302, 'master_pi': '1000018657_2051415', 'similar_pi': '1000010562_39641'}, {'similarity': 0.7229, 'master_pi': '1000018657_2051415', 'similar_pi': '1000006420_315626'}, {'similarity': 0.7213, 'master_pi': '1000018657_2051415', 'similar_pi': '1000018209_245768'}, {'similarity': 0.7206, 'master_pi': '1000018657_2051415', 'similar_pi': '1000003633_2146904'}, {'similarity': 0.7194, 'master_pi': '1000018657_2051415', 'similar_pi': '1000012591_283383'}, {'similarity': 0.7164, 'master_pi': '1000018657_2051415', 'similar_pi': '1000005736_97051'}, {'similarity': 0.7113, 'master_pi': '1000018657_2051415', 'similar_pi': '1000019289_532754'}, {'similarity': 0.7109, 'master_pi': '1000018657_2051415', 'similar_pi': '1000017306_662524'}, {'similarity': 0.71, 'master_pi': '1000018657_2051415', 'similar_pi': '1000005352_4375297'}, {'similarity': 0.7099, 'master_pi': '1000018657_2051415', 'similar_pi': '1000003705_401309'}, {'similarity': 0.7085, 'master_pi': '1000018657_2051415', 'similar_pi': '1000000489_2156712'}, {'similarity': 0.7074, 'master_pi': '1000018657_2051415', 'similar_pi': '1000018758_677648'}, {'similarity': 0.7052, 'master_pi': '1000018657_2051415', 'similar_pi': '1000015900_7056763'}, {'similarity': 0.703, 'master_pi': '1000018657_2051415', 'similar_pi': '1000017643_1678329'}, {'similarity': 0.7027, 'master_pi': '1000018657_2051415', 'similar_pi': '1000019645_153411'}, {'similarity': 1.0, 'master_pi': '1000000461_543504', 'similar_pi': '1000000461_543504'}, {'similarity': 0.8411, 'master_pi': '1000000461_543504', 'similar_pi': '1000002619_80272'}, {'similarity': 0.8262, 'master_pi': '1000000461_543504', 'similar_pi': '1000015780_507181'}, {'similarity': 0.8145, 'master_pi': '1000000461_543504', 'similar_pi': '1000018015_2282093'}, {'similarity': 0.7911, 'master_pi': '1000000461_543504', 'similar_pi': '1000002619_145002'}, {'similarity': 0.7723, 'master_pi': '1000000461_543504', 'similar_pi': '1000005597_3682227'}, {'similarity': 0.7676, 'master_pi': '1000000461_543504', 'similar_pi': '1000003705_296339'}, {'similarity': 0.7644, 'master_pi': '1000000461_543504', 'similar_pi': '1000015900_7056763'}, {'similarity': 0.7551, 'master_pi': '1000000461_543504', 'similar_pi': '1000016910_905983'}, {'similarity': 0.7536, 'master_pi': '1000000461_543504', 'similar_pi': '1000004228_2283011'}, {'similarity': 0.7496, 'master_pi': '1000000461_543504', 'similar_pi': '1000004228_590464'}, {'similarity': 0.7492, 'master_pi': '1000000461_543504', 'similar_pi': '1000017643_2107833'}, {'similarity': 0.7425, 'master_pi': '1000000461_543504', 'similar_pi': '1000019470_694708'}, {'similarity': 0.7417, 'master_pi': '1000000461_543504', 'similar_pi': '1000007158_205545'}, {'similarity': 0.7385, 'master_pi': '1000000461_543504', 'similar_pi': '1000014204_202327'}, {'similarity': 0.7376, 'master_pi': '1000000461_543504', 'similar_pi': '1000014100_468821'}, {'similarity': 0.7323, 'master_pi': '1000000461_543504', 'similar_pi': '1000015780_542711'}, {'similarity': 0.7306, 'master_pi': '1000000461_543504', 'similar_pi': '1000003705_426054'}, {'similarity': 0.7302, 'master_pi': '1000000461_543504', 'similar_pi': '1000004450_5156532'}, {'similarity': 0.7275, 'master_pi': '1000000461_543504', 'similar_pi': '1000010562_243157'}, {'similarity': 1.0, 'master_pi': '1000005450_964923', 'similar_pi': '1000005450_964923'}, {'similarity': 0.7615, 'master_pi': '1000005450_964923', 'similar_pi': '1000001857_75766'}, {'similarity': 0.7169, 'master_pi': '1000005450_964923', 'similar_pi': '1000005906_1198165'}, {'similarity': 0.694, 'master_pi': '1000005450_964923', 'similar_pi': '1000003705_296339'}, {'similarity': 0.6787, 'master_pi': '1000005450_964923', 'similar_pi': '1000018657_2181570'}, {'similarity': 0.6757, 'master_pi': '1000005450_964923', 'similar_pi': '1000017643_1905271'}, {'similarity': 0.6651, 'master_pi': '1000005450_964923', 'similar_pi': '1000000489_2395275'}, {'similarity': 0.6633, 'master_pi': '1000005450_964923', 'similar_pi': '1000019295_5683365'}, {'similarity': 0.662, 'master_pi': '1000005450_964923', 'similar_pi': '1000005736_247062'}, {'similarity': 0.652, 'master_pi': '1000005450_964923', 'similar_pi': '1000002312_870273'}, {'similarity': 0.6512, 'master_pi': '1000005450_964923', 'similar_pi': '1000002619_80272'}, {'similarity': 0.6502, 'master_pi': '1000005450_964923', 'similar_pi': '1000004228_2283011'}, {'similarity': 0.6446, 'master_pi': '1000005450_964923', 'similar_pi': '1000003705_401309'}, {'similarity': 0.6387, 'master_pi': '1000005450_964923', 'similar_pi': '1000008611_1387665'}, {'similarity': 0.6377, 'master_pi': '1000005450_964923', 'similar_pi': '1000015900_7056763'}, {'similarity': 0.6354, 'master_pi': '1000005450_964923', 'similar_pi': '1000009561_612586'}, {'similarity': 0.6338, 'master_pi': '1000005450_964923', 'similar_pi': '1000019470_694708'}, {'similarity': 0.6337, 'master_pi': '1000005450_964923', 'similar_pi': '1000002619_286869'}, {'similarity': 0.6293, 'master_pi': '1000005450_964923', 'similar_pi': '1000003705_426054'}, {'similarity': 0.629, 'master_pi': '1000005450_964923', 'similar_pi': '1000002181_2051334'}, {'similarity': 1.0, 'master_pi': '1000018606_1154981', 'similar_pi': '1000018606_1154981'}, {'similarity': 0.7642, 'master_pi': '1000018606_1154981', 'similar_pi': '1000010562_39641'}, {'similarity': 0.7402, 'master_pi': '1000018606_1154981', 'similar_pi': '1000001589_254796'}, {'similarity': 0.7339, 'master_pi': '1000018606_1154981', 'similar_pi': '1000018209_5124502'}, {'similarity': 0.7332, 'master_pi': '1000018606_1154981', 'similar_pi': '1000019142_3250699'}, {'similarity': 0.7255, 'master_pi': '1000018606_1154981', 'similar_pi': '1000005352_1196207'}, {'similarity': 0.719, 'master_pi': '1000018606_1154981', 'similar_pi': '1000006450_418604'}, {'similarity': 0.7187, 'master_pi': '1000018606_1154981', 'similar_pi': '1000003633_2146904'}, {'similarity': 0.707, 'master_pi': '1000018606_1154981', 'similar_pi': '1000018209_245768'}, {'similarity': 0.7048, 'master_pi': '1000018606_1154981', 'similar_pi': '1000005296_1707734'}, {'similarity': 0.7042, 'master_pi': '1000018606_1154981', 'similar_pi': '1000016965_2463103'}, {'similarity': 0.7013, 'master_pi': '1000018606_1154981', 'similar_pi': '1000003705_401309'}, {'similarity': 0.7004, 'master_pi': '1000018606_1154981', 'similar_pi': '1000017643_1678329'}, {'similarity': 0.6961, 'master_pi': '1000018606_1154981', 'similar_pi': '1000012591_283383'}, {'similarity': 0.6939, 'master_pi': '1000018606_1154981', 'similar_pi': '1000002999_5720269'}, {'similarity': 0.6917, 'master_pi': '1000018606_1154981', 'similar_pi': '1000011715_999455'}, {'similarity': 0.6893, 'master_pi': '1000018606_1154981', 'similar_pi': '1000005352_4375297'}, {'similarity': 0.6892, 'master_pi': '1000018606_1154981', 'similar_pi': '1000019184_1289169'}, {'similarity': 0.6886, 'master_pi': '1000018606_1154981', 'similar_pi': '1000014100_424852'}, {'similarity': 0.6881, 'master_pi': '1000018606_1154981', 'similar_pi': '1000020031_4862403'}, {'similarity': 1.0, 'master_pi': '1000005892_84719', 'similar_pi': '1000005892_84719'}, {'similarity': 0.6785, 'master_pi': '1000005892_84719', 'similar_pi': '1000014826_3089051'}, {'similarity': 0.6766, 'master_pi': '1000005892_84719', 'similar_pi': '1000014545_2305450'}, {'similarity': 0.6476, 'master_pi': '1000005892_84719', 'similar_pi': '1000014826_1410870'}, {'similarity': 0.6347, 'master_pi': '1000005892_84719', 'similar_pi': '1000002619_11213'}, {'similarity': 0.6341, 'master_pi': '1000005892_84719', 'similar_pi': '1000018657_2659678'}, {'similarity': 0.6256, 'master_pi': '1000005892_84719', 'similar_pi': '1000003705_401309'}, {'similarity': 0.6221, 'master_pi': '1000005892_84719', 'similar_pi': '1000017306_662524'}, {'similarity': 0.6212, 'master_pi': '1000005892_84719', 'similar_pi': '1000019289_79232'}, {'similarity': 0.6195, 'master_pi': '1000005892_84719', 'similar_pi': '1000005892_304502'}, {'similarity': 0.6172, 'master_pi': '1000005892_84719', 'similar_pi': '1000019289_532754'}, {'similarity': 0.6163, 'master_pi': '1000005892_84719', 'similar_pi': '1000005352_3568116'}, {'similarity': 0.615, 'master_pi': '1000005892_84719', 'similar_pi': '1000020031_175252'}, {'similarity': 0.6149, 'master_pi': '1000005892_84719', 'similar_pi': '1000002999_5720269'}, {'similarity': 0.6136, 'master_pi': '1000005892_84719', 'similar_pi': '1000012591_283383'}, {'similarity': 0.6063, 'master_pi': '1000005892_84719', 'similar_pi': '1000020031_4862403'}, {'similarity': 0.6051, 'master_pi': '1000005892_84719', 'similar_pi': '1000005436_61494'}, {'similarity': 0.6006, 'master_pi': '1000005892_84719', 'similar_pi': '1000015780_542711'}, {'similarity': 0.6001, 'master_pi': '1000005892_84719', 'similar_pi': '1000017643_1905271'}, {'similarity': 0.5975, 'master_pi': '1000005892_84719', 'similar_pi': '1000000461_1328228'}, {'similarity': 1.0, 'master_pi': '1000019446_1696752', 'similar_pi': '1000019446_1696752'}, {'similarity': 0.9399, 'master_pi': '1000019446_1696752', 'similar_pi': '1000019446_83218'}, {'similarity': 0.8255, 'master_pi': '1000019446_1696752', 'similar_pi': '1000001857_43282'}, {'similarity': 0.8069, 'master_pi': '1000019446_1696752', 'similar_pi': '1000008611_4888778'}, {'similarity': 0.753, 'master_pi': '1000019446_1696752', 'similar_pi': '1000018758_677648'}, {'similarity': 0.7426, 'master_pi': '1000019446_1696752', 'similar_pi': '1000005597_3682227'}, {'similarity': 0.7397, 'master_pi': '1000019446_1696752', 'similar_pi': '1000005906_5314526'}, {'similarity': 0.7366, 'master_pi': '1000019446_1696752', 'similar_pi': '1000017746_269642'}, {'similarity': 0.7354, 'master_pi': '1000019446_1696752', 'similar_pi': '1000012299_648800'}, {'similarity': 0.7328, 'master_pi': '1000019446_1696752', 'similar_pi': '1000015900_7056763'}, {'similarity': 0.7315, 'master_pi': '1000019446_1696752', 'similar_pi': '1000012299_1634032'}, {'similarity': 0.7118, 'master_pi': '1000019446_1696752', 'similar_pi': '1000004298_48192'}, {'similarity': 0.7073, 'master_pi': '1000019446_1696752', 'similar_pi': '1000005906_566835'}, {'similarity': 0.7035, 'master_pi': '1000019446_1696752', 'similar_pi': '1000008611_1387665'}, {'similarity': 0.7002, 'master_pi': '1000019446_1696752', 'similar_pi': '1000004450_5156532'}, {'similarity': 0.6994, 'master_pi': '1000019446_1696752', 'similar_pi': '1000018015_2282093'}, {'similarity': 0.6972, 'master_pi': '1000019446_1696752', 'similar_pi': '1000000489_1233988'}, {'similarity': 0.6968, 'master_pi': '1000019446_1696752', 'similar_pi': '1000010410_91501'}, {'similarity': 0.6919, 'master_pi': '1000019446_1696752', 'similar_pi': '1000017643_2107833'}, {'similarity': 0.6861, 'master_pi': '1000019446_1696752', 'similar_pi': '1000001974_177901'}, {'similarity': 1.0, 'master_pi': '1000016910_1063349', 'similar_pi': '1000016910_1063349'}, {'similarity': 0.6842, 'master_pi': '1000016910_1063349', 'similar_pi': '1000003705_426054'}, {'similarity': 0.6813, 'master_pi': '1000016910_1063349', 'similar_pi': '1000000461_1477576'}, {'similarity': 0.6761, 'master_pi': '1000016910_1063349', 'similar_pi': '1000002181_2051334'}, {'similarity': 0.6745, 'master_pi': '1000016910_1063349', 'similar_pi': '1000006420_408794'}, {'similarity': 0.6661, 'master_pi': '1000016910_1063349', 'similar_pi': '1000009561_612586'}, {'similarity': 0.6627, 'master_pi': '1000016910_1063349', 'similar_pi': '1000002827_86297'}, {'similarity': 0.6563, 'master_pi': '1000016910_1063349', 'similar_pi': '1000016591_1183410'}, {'similarity': 0.6553, 'master_pi': '1000016910_1063349', 'similar_pi': '1000019289_532754'}, {'similarity': 0.6517, 'master_pi': '1000016910_1063349', 'similar_pi': '1000018657_2659678'}, {'similarity': 0.6482, 'master_pi': '1000016910_1063349', 'similar_pi': '1000019289_79232'}, {'similarity': 0.6469, 'master_pi': '1000016910_1063349', 'similar_pi': '1000005352_3568116'}, {'similarity': 0.6468, 'master_pi': '1000016910_1063349', 'similar_pi': '1000006450_418604'}, {'similarity': 0.6457, 'master_pi': '1000016910_1063349', 'similar_pi': '1000002619_11213'}, {'similarity': 0.6414, 'master_pi': '1000016910_1063349', 'similar_pi': '1000006420_315626'}, {'similarity': 0.6399, 'master_pi': '1000016910_1063349', 'similar_pi': '1000015780_542711'}, {'similarity': 0.6399, 'master_pi': '1000016910_1063349', 'similar_pi': '1000014826_683224'}, {'similarity': 0.6302, 'master_pi': '1000016910_1063349', 'similar_pi': '1000018433_509959'}, {'similarity': 0.6295, 'master_pi': '1000016910_1063349', 'similar_pi': '1000019645_85406'}, {'similarity': 0.6282, 'master_pi': '1000016910_1063349', 'similar_pi': '1000005352_1196207'}, {'similarity': 1.0, 'master_pi': '1000000489_2254961', 'similar_pi': '1000000489_2254961'}, {'similarity': 0.6617, 'master_pi': '1000000489_2254961', 'similar_pi': '1000019645_153411'}, {'similarity': 0.6591, 'master_pi': '1000000489_2254961', 'similar_pi': '1000018657_2181570'}, {'similarity': 0.6467, 'master_pi': '1000000489_2254961', 'similar_pi': '1000000489_1233988'}, {'similarity': 0.6437, 'master_pi': '1000000489_2254961', 'similar_pi': '1000016591_1260132'}, {'similarity': 0.6415, 'master_pi': '1000000489_2254961', 'similar_pi': '1000000489_1840753'}, {'similarity': 0.6366, 'master_pi': '1000000489_2254961', 'similar_pi': '1000016591_1183410'}, {'similarity': 0.6318, 'master_pi': '1000000489_2254961', 'similar_pi': '1000006420_369254'}, {'similarity': 0.6275, 'master_pi': '1000000489_2254961', 'similar_pi': '1000000489_2395275'}, {'similarity': 0.6272, 'master_pi': '1000000489_2254961', 'similar_pi': '1000000489_2156712'}, {'similarity': 0.6256, 'master_pi': '1000000489_2254961', 'similar_pi': '1000014826_683224'}, {'similarity': 0.6233, 'master_pi': '1000000489_2254961', 'similar_pi': '1000006450_471043'}, {'similarity': 0.6231, 'master_pi': '1000000489_2254961', 'similar_pi': '1000019289_532754'}, {'similarity': 0.6164, 'master_pi': '1000000489_2254961', 'similar_pi': '1000013499_266873'}, {'similarity': 0.6146, 'master_pi': '1000000489_2254961', 'similar_pi': '1000006551_2617141'}, {'similarity': 0.6061, 'master_pi': '1000000489_2254961', 'similar_pi': '1000005597_694815'}, {'similarity': 0.5998, 'master_pi': '1000000489_2254961', 'similar_pi': '1000019295_5683365'}, {'similarity': 0.5995, 'master_pi': '1000000489_2254961', 'similar_pi': '1000020743_5730464'}, {'similarity': 0.5991, 'master_pi': '1000000489_2254961', 'similar_pi': '1000006044_257220'}, {'similarity': 0.5977, 'master_pi': '1000000489_2254961', 'similar_pi': '1000005736_475217'}, {'similarity': 1.0, 'master_pi': '1000018985_2432765', 'similar_pi': '1000018985_2432765'}, {'similarity': 0.8274, 'master_pi': '1000018985_2432765', 'similar_pi': '1000012299_1634032'}, {'similarity': 0.7842, 'master_pi': '1000018985_2432765', 'similar_pi': '1000008611_4888778'}, {'similarity': 0.7807, 'master_pi': '1000018985_2432765', 'similar_pi': '1000012299_648800'}, {'similarity': 0.7523, 'master_pi': '1000018985_2432765', 'similar_pi': '1000001974_177901'}, {'similarity': 0.7246, 'master_pi': '1000018985_2432765', 'similar_pi': '1000017643_2107833'}, {'similarity': 0.7171, 'master_pi': '1000018985_2432765', 'similar_pi': '1000019470_694708'}, {'similarity': 0.7076, 'master_pi': '1000018985_2432765', 'similar_pi': '1000019446_83218'}, {'similarity': 0.7027, 'master_pi': '1000018985_2432765', 'similar_pi': '1000001857_43282'}, {'similarity': 0.6881, 'master_pi': '1000018985_2432765', 'similar_pi': '1000002619_286869'}, {'similarity': 0.682, 'master_pi': '1000018985_2432765', 'similar_pi': '1000008611_1387665'}, {'similarity': 0.6812, 'master_pi': '1000018985_2432765', 'similar_pi': '1000015900_7056763'}, {'similarity': 0.6604, 'master_pi': '1000018985_2432765', 'similar_pi': '1000018015_2282093'}, {'similarity': 0.658, 'master_pi': '1000018985_2432765', 'similar_pi': '1000000489_2395275'}, {'similarity': 0.6577, 'master_pi': '1000018985_2432765', 'similar_pi': '1000019446_1696752'}, {'similarity': 0.6424, 'master_pi': '1000018985_2432765', 'similar_pi': '1000003705_296339'}, {'similarity': 0.6367, 'master_pi': '1000018985_2432765', 'similar_pi': '1000010410_91501'}, {'similarity': 0.6355, 'master_pi': '1000018985_2432765', 'similar_pi': '1000002181_2051334'}, {'similarity': 0.6319, 'master_pi': '1000018985_2432765', 'similar_pi': '1000002312_870273'}, {'similarity': 0.6312, 'master_pi': '1000018985_2432765', 'similar_pi': '1000005906_5314526'}, {'similarity': 1.0, 'master_pi': '1000010410_415015', 'similar_pi': '1000010410_415015'}, {'similarity': 0.6721, 'master_pi': '1000010410_415015', 'similar_pi': '1000007158_205545'}, {'similarity': 0.6697, 'master_pi': '1000010410_415015', 'similar_pi': '1000016486_98843'}, {'similarity': 0.6662, 'master_pi': '1000010410_415015', 'similar_pi': '1000013443_1330468'}, {'similarity': 0.6585, 'master_pi': '1000010410_415015', 'similar_pi': '1000005870_383022'}, {'similarity': 0.6476, 'master_pi': '1000010410_415015', 'similar_pi': '1000017746_989560'}, {'similarity': 0.644, 'master_pi': '1000010410_415015', 'similar_pi': '1000018657_2181570'}, {'similarity': 0.6432, 'master_pi': '1000010410_415015', 'similar_pi': '1000017306_1463281'}, {'similarity': 0.6349, 'master_pi': '1000010410_415015', 'similar_pi': '1000006044_506650'}, {'similarity': 0.6349, 'master_pi': '1000010410_415015', 'similar_pi': '1000020031_175252'}, {'similarity': 0.634, 'master_pi': '1000010410_415015', 'similar_pi': '1000006551_2617141'}, {'similarity': 0.6315, 'master_pi': '1000010410_415015', 'similar_pi': '1000014300_328844'}, {'similarity': 0.6313, 'master_pi': '1000010410_415015', 'similar_pi': '1000009581_2980680'}, {'similarity': 0.6304, 'master_pi': '1000010410_415015', 'similar_pi': '1000009316_1097863'}, {'similarity': 0.629, 'master_pi': '1000010410_415015', 'similar_pi': '1000005870_333655'}, {'similarity': 0.6283, 'master_pi': '1000010410_415015', 'similar_pi': '1000000461_1477576'}, {'similarity': 0.6262, 'master_pi': '1000010410_415015', 'similar_pi': '1000006420_451109'}, {'similarity': 0.626, 'master_pi': '1000010410_415015', 'similar_pi': '1000003705_401309'}, {'similarity': 0.6216, 'master_pi': '1000010410_415015', 'similar_pi': '1000009316_643631'}, {'similarity': 0.6207, 'master_pi': '1000010410_415015', 'similar_pi': '1000005296_1707734'}, {'similarity': 1.0, 'master_pi': '1000014148_250654', 'similar_pi': '1000014148_250654'}, {'similarity': 0.8338, 'master_pi': '1000014148_250654', 'similar_pi': '1000014100_424852'}, {'similarity': 0.8197, 'master_pi': '1000014148_250654', 'similar_pi': '1000001589_47962'}, {'similarity': 0.8021, 'master_pi': '1000014148_250654', 'similar_pi': '1000004228_590464'}, {'similarity': 0.7914, 'master_pi': '1000014148_250654', 'similar_pi': '1000014148_53965'}, {'similarity': 0.7761, 'master_pi': '1000014148_250654', 'similar_pi': '1000007560_3022186'}, {'similarity': 0.7746, 'master_pi': '1000014148_250654', 'similar_pi': '1000013443_39966'}, {'similarity': 0.7729, 'master_pi': '1000014148_250654', 'similar_pi': '1000014300_554766'}, {'similarity': 0.7727, 'master_pi': '1000014148_250654', 'similar_pi': '1000004228_2283011'}, {'similarity': 0.7674, 'master_pi': '1000014148_250654', 'similar_pi': '1000004298_413764'}, {'similarity': 0.7622, 'master_pi': '1000014148_250654', 'similar_pi': '1000010410_393714'}, {'similarity': 0.7621, 'master_pi': '1000014148_250654', 'similar_pi': '1000002619_286869'}, {'similarity': 0.7593, 'master_pi': '1000014148_250654', 'similar_pi': '1000002181_2142942'}, {'similarity': 0.757, 'master_pi': '1000014148_250654', 'similar_pi': '1000016965_2463103'}, {'similarity': 0.7511, 'master_pi': '1000014148_250654', 'similar_pi': '1000014300_328844'}, {'similarity': 0.7508, 'master_pi': '1000014148_250654', 'similar_pi': '1000018433_1083781'}, {'similarity': 0.7475, 'master_pi': '1000014148_250654', 'similar_pi': '1000002181_2051334'}, {'similarity': 0.7375, 'master_pi': '1000014148_250654', 'similar_pi': '1000002312_870273'}, {'similarity': 0.7366, 'master_pi': '1000014148_250654', 'similar_pi': '1000010562_243157'}, {'similarity': 0.7254, 'master_pi': '1000014148_250654', 'similar_pi': '1000001589_687231'}, {'similarity': 1.0, 'master_pi': '1000014204_43504', 'similar_pi': '1000014204_43504'}, {'similarity': 0.8152, 'master_pi': '1000014204_43504', 'similar_pi': '1000014100_468821'}, {'similarity': 0.6794, 'master_pi': '1000014204_43504', 'similar_pi': '1000001703_43700'}, {'similarity': 0.6595, 'master_pi': '1000014204_43504', 'similar_pi': '1000002619_145002'}, {'similarity': 0.6514, 'master_pi': '1000014204_43504', 'similar_pi': '1000014300_377726'}, {'similarity': 0.6504, 'master_pi': '1000014204_43504', 'similar_pi': '1000016486_11905'}, {'similarity': 0.6434, 'master_pi': '1000014204_43504', 'similar_pi': '1000014204_202327'}, {'similarity': 0.6384, 'master_pi': '1000014204_43504', 'similar_pi': '1000000461_543504'}, {'similarity': 0.6316, 'master_pi': '1000014204_43504', 'similar_pi': '1000004298_413764'}, {'similarity': 0.6306, 'master_pi': '1000014204_43504', 'similar_pi': '1000014826_3116960'}, {'similarity': 0.6294, 'master_pi': '1000014204_43504', 'similar_pi': '1000002619_80272'}, {'similarity': 0.6255, 'master_pi': '1000014204_43504', 'similar_pi': '1000013443_501818'}, {'similarity': 0.6201, 'master_pi': '1000014204_43504', 'similar_pi': '1000010562_243157'}, {'similarity': 0.6143, 'master_pi': '1000014204_43504', 'similar_pi': '1000014300_328844'}, {'similarity': 0.6131, 'master_pi': '1000014204_43504', 'similar_pi': '1000014100_424852'}, {'similarity': 0.6115, 'master_pi': '1000014204_43504', 'similar_pi': '1000017643_2107833'}, {'similarity': 0.6104, 'master_pi': '1000014204_43504', 'similar_pi': '1000014148_250654'}, {'similarity': 0.606, 'master_pi': '1000014204_43504', 'similar_pi': '1000004228_590464'}, {'similarity': 0.6041, 'master_pi': '1000014204_43504', 'similar_pi': '1000005870_383022'}, {'similarity': 0.6018, 'master_pi': '1000014204_43504', 'similar_pi': '1000001703_50950'}, {'similarity': 1.0, 'master_pi': '1000018433_119097', 'similar_pi': '1000018433_119097'}, {'similarity': 0.7198, 'master_pi': '1000018433_119097', 'similar_pi': '1000006450_418604'}, {'similarity': 0.7176, 'master_pi': '1000018433_119097', 'similar_pi': '1000020717_360154'}, {'similarity': 0.6704, 'master_pi': '1000018433_119097', 'similar_pi': '1000012591_283383'}, {'similarity': 0.6492, 'master_pi': '1000018433_119097', 'similar_pi': '1000018606_927886'}, {'similarity': 0.6466, 'master_pi': '1000018433_119097', 'similar_pi': '1000016591_1183410'}, {'similarity': 0.6446, 'master_pi': '1000018433_119097', 'similar_pi': '1000019645_85406'}, {'similarity': 0.6441, 'master_pi': '1000018433_119097', 'similar_pi': '1000005870_333655'}, {'similarity': 0.6336, 'master_pi': '1000018433_119097', 'similar_pi': '1000018657_2659678'}, {'similarity': 0.6333, 'master_pi': '1000018433_119097', 'similar_pi': '1000005352_3568116'}, {'similarity': 0.6326, 'master_pi': '1000018433_119097', 'similar_pi': '1000005352_4375297'}, {'similarity': 0.6304, 'master_pi': '1000018433_119097', 'similar_pi': '1000007158_205545'}, {'similarity': 0.6292, 'master_pi': '1000018433_119097', 'similar_pi': '1000009316_643631'}, {'similarity': 0.6285, 'master_pi': '1000018433_119097', 'similar_pi': '1000019645_49755'}, {'similarity': 0.628, 'master_pi': '1000018433_119097', 'similar_pi': '1000010562_39641'}, {'similarity': 0.6242, 'master_pi': '1000018433_119097', 'similar_pi': '1000000461_2059722'}, {'similarity': 0.6242, 'master_pi': '1000018433_119097', 'similar_pi': '1000018985_556353'}, {'similarity': 0.622, 'master_pi': '1000018433_119097', 'similar_pi': '1000016504_417475'}, {'similarity': 0.6198, 'master_pi': '1000018433_119097', 'similar_pi': '1000018657_2832634'}, {'similarity': 0.6182, 'master_pi': '1000018433_119097', 'similar_pi': '1000002181_2051334'}, {'similarity': 1.0, 'master_pi': '1000020743_162205', 'similar_pi': '1000020743_162205'}, {'similarity': 0.7184, 'master_pi': '1000020743_162205', 'similar_pi': '1000011715_999455'}, {'similarity': 0.7051, 'master_pi': '1000020743_162205', 'similar_pi': '1000009561_789018'}, {'similarity': 0.6975, 'master_pi': '1000020743_162205', 'similar_pi': '1000016965_2463103'}, {'similarity': 0.6931, 'master_pi': '1000020743_162205', 'similar_pi': '1000013499_266873'}, {'similarity': 0.6894, 'master_pi': '1000020743_162205', 'similar_pi': '1000004450_124311'}, {'similarity': 0.6855, 'master_pi': '1000020743_162205', 'similar_pi': '1000005736_247062'}, {'similarity': 0.6828, 'master_pi': '1000020743_162205', 'similar_pi': '1000017573_6083989'}, {'similarity': 0.6775, 'master_pi': '1000020743_162205', 'similar_pi': '1000003633_762512'}, {'similarity': 0.665, 'master_pi': '1000020743_162205', 'similar_pi': '1000002181_2142942'}, {'similarity': 0.6619, 'master_pi': '1000020743_162205', 'similar_pi': '1000017746_1078797'}, {'similarity': 0.6541, 'master_pi': '1000020743_162205', 'similar_pi': '1000018758_677648'}, {'similarity': 0.6541, 'master_pi': '1000020743_162205', 'similar_pi': '1000006044_2941495'}, {'similarity': 0.649, 'master_pi': '1000020743_162205', 'similar_pi': '1000003705_401309'}, {'similarity': 0.6453, 'master_pi': '1000020743_162205', 'similar_pi': '1000002312_870273'}, {'similarity': 0.6365, 'master_pi': '1000020743_162205', 'similar_pi': '1000014826_1410870'}, {'similarity': 0.6365, 'master_pi': '1000020743_162205', 'similar_pi': '1000018606_1154981'}, {'similarity': 0.6332, 'master_pi': '1000020743_162205', 'similar_pi': '1000005736_97051'}, {'similarity': 0.6287, 'master_pi': '1000020743_162205', 'similar_pi': '1000005906_566835'}, {'similarity': 0.6267, 'master_pi': '1000020743_162205', 'similar_pi': '1000004298_48192'}, {'similarity': 1.0, 'master_pi': '1000017981_1556417', 'similar_pi': '1000017981_1556417'}, {'similarity': 0.7073, 'master_pi': '1000017981_1556417', 'similar_pi': '1000019645_153411'}, {'similarity': 0.6775, 'master_pi': '1000017981_1556417', 'similar_pi': '1000005736_475217'}, {'similarity': 0.6719, 'master_pi': '1000017981_1556417', 'similar_pi': '1000017306_662524'}, {'similarity': 0.6677, 'master_pi': '1000017981_1556417', 'similar_pi': '1000005736_97051'}, {'similarity': 0.6669, 'master_pi': '1000017981_1556417', 'similar_pi': '1000014826_1410870'}, {'similarity': 0.6633, 'master_pi': '1000017981_1556417', 'similar_pi': '1000016591_1260132'}, {'similarity': 0.6616, 'master_pi': '1000017981_1556417', 'similar_pi': '1000005436_61494'}, {'similarity': 0.6577, 'master_pi': '1000017981_1556417', 'similar_pi': '1000019295_5683365'}, {'similarity': 0.657, 'master_pi': '1000017981_1556417', 'similar_pi': '1000000489_1840753'}, {'similarity': 0.6567, 'master_pi': '1000017981_1556417', 'similar_pi': '1000017643_1678329'}, {'similarity': 0.6547, 'master_pi': '1000017981_1556417', 'similar_pi': '1000019142_3250699'}, {'similarity': 0.6544, 'master_pi': '1000017981_1556417', 'similar_pi': '1000019142_645646'}, {'similarity': 0.6544, 'master_pi': '1000017981_1556417', 'similar_pi': '1000000489_2156712'}, {'similarity': 0.6464, 'master_pi': '1000017981_1556417', 'similar_pi': '1000006420_315626'}, {'similarity': 0.6462, 'master_pi': '1000017981_1556417', 'similar_pi': '1000003633_2146904'}, {'similarity': 0.6439, 'master_pi': '1000017981_1556417', 'similar_pi': '1000006420_369254'}, {'similarity': 0.6436, 'master_pi': '1000017981_1556417', 'similar_pi': '1000014467_3872061'}, {'similarity': 0.6405, 'master_pi': '1000017981_1556417', 'similar_pi': '1000012591_283383'}, {'similarity': 0.638, 'master_pi': '1000017981_1556417', 'similar_pi': '1000019289_79232'}, {'similarity': 1.0, 'master_pi': '1000018657_2832634', 'similar_pi': '1000018657_2832634'}, {'similarity': 0.7686, 'master_pi': '1000018657_2832634', 'similar_pi': '1000009561_612586'}, {'similarity': 0.7588, 'master_pi': '1000018657_2832634', 'similar_pi': '1000005436_61494'}, {'similarity': 0.7547, 'master_pi': '1000018657_2832634', 'similar_pi': '1000019142_3250699'}, {'similarity': 0.7428, 'master_pi': '1000018657_2832634', 'similar_pi': '1000017306_662524'}, {'similarity': 0.7415, 'master_pi': '1000018657_2832634', 'similar_pi': '1000018209_245768'}, {'similarity': 0.7319, 'master_pi': '1000018657_2832634', 'similar_pi': '1000019289_79232'}, {'similarity': 0.7305, 'master_pi': '1000018657_2832634', 'similar_pi': '1000018209_5124502'}, {'similarity': 0.7292, 'master_pi': '1000018657_2832634', 'similar_pi': '1000005352_1196207'}, {'similarity': 0.7268, 'master_pi': '1000018657_2832634', 'similar_pi': '1000005736_97051'}, {'similarity': 0.7222, 'master_pi': '1000018657_2832634', 'similar_pi': '1000000461_1477576'}, {'similarity': 0.7175, 'master_pi': '1000018657_2832634', 'similar_pi': '1000016504_417475'}, {'similarity': 0.7155, 'master_pi': '1000018657_2832634', 'similar_pi': '1000019289_532754'}, {'similarity': 0.7134, 'master_pi': '1000018657_2832634', 'similar_pi': '1000018657_2181570'}, {'similarity': 0.7106, 'master_pi': '1000018657_2832634', 'similar_pi': '1000006450_471043'}, {'similarity': 0.71, 'master_pi': '1000018657_2832634', 'similar_pi': '1000005352_3568116'}, {'similarity': 0.7088, 'master_pi': '1000018657_2832634', 'similar_pi': '1000006420_315626'}, {'similarity': 0.7076, 'master_pi': '1000018657_2832634', 'similar_pi': '1000017643_1678329'}, {'similarity': 0.7042, 'master_pi': '1000018657_2832634', 'similar_pi': '1000015780_507181'}, {'similarity': 0.6999, 'master_pi': '1000018657_2832634', 'similar_pi': '1000010562_39641'}, {'similarity': 1.0, 'master_pi': '1000006450_471043', 'similar_pi': '1000006450_471043'}, {'similarity': 0.7983, 'master_pi': '1000006450_471043', 'similar_pi': '1000018758_677648'}, {'similarity': 0.7853, 'master_pi': '1000006450_471043', 'similar_pi': '1000017746_269642'}, {'similarity': 0.7755, 'master_pi': '1000006450_471043', 'similar_pi': '1000005906_566835'}, {'similarity': 0.7633, 'master_pi': '1000006450_471043', 'similar_pi': '1000018657_2181570'}, {'similarity': 0.753, 'master_pi': '1000006450_471043', 'similar_pi': '1000000461_1328228'}, {'similarity': 0.7524, 'master_pi': '1000006450_471043', 'similar_pi': '1000017746_1101388'}, {'similarity': 0.7427, 'master_pi': '1000006450_471043', 'similar_pi': '1000006044_257220'}, {'similarity': 0.7397, 'master_pi': '1000006450_471043', 'similar_pi': '1000017643_1678329'}, {'similarity': 0.734, 'master_pi': '1000006450_471043', 'similar_pi': '1000019289_532754'}, {'similarity': 0.734, 'master_pi': '1000006450_471043', 'similar_pi': '1000018209_5124502'}, {'similarity': 0.7299, 'master_pi': '1000006450_471043', 'similar_pi': '1000015900_7056763'}, {'similarity': 0.7296, 'master_pi': '1000006450_471043', 'similar_pi': '1000019295_5683365'}, {'similarity': 0.7293, 'master_pi': '1000006450_471043', 'similar_pi': '1000018209_245768'}, {'similarity': 0.7292, 'master_pi': '1000006450_471043', 'similar_pi': '1000005736_97051'}, {'similarity': 0.7255, 'master_pi': '1000006450_471043', 'similar_pi': '1000010410_91501'}, {'similarity': 0.7208, 'master_pi': '1000006450_471043', 'similar_pi': '1000005436_61494'}, {'similarity': 0.7163, 'master_pi': '1000006450_471043', 'similar_pi': '1000009561_612586'}, {'similarity': 0.7113, 'master_pi': '1000006450_471043', 'similar_pi': '1000002181_2142942'}, {'similarity': 0.7106, 'master_pi': '1000006450_471043', 'similar_pi': '1000018657_2832634'}, {'similarity': 1.0, 'master_pi': '1000014826_1410870', 'similar_pi': '1000014826_1410870'}, {'similarity': 0.7462, 'master_pi': '1000014826_1410870', 'similar_pi': '1000017306_662524'}, {'similarity': 0.7451, 'master_pi': '1000014826_1410870', 'similar_pi': '1000013443_1330468'}, {'similarity': 0.7416, 'master_pi': '1000014826_1410870', 'similar_pi': '1000017643_1678329'}, {'similarity': 0.7359, 'master_pi': '1000014826_1410870', 'similar_pi': '1000018657_2181570'}, {'similarity': 0.7308, 'master_pi': '1000014826_1410870', 'similar_pi': '1000003705_401309'}, {'similarity': 0.7236, 'master_pi': '1000014826_1410870', 'similar_pi': '1000005597_1527063'}, {'similarity': 0.7234, 'master_pi': '1000014826_1410870', 'similar_pi': '1000019289_532754'}, {'similarity': 0.723, 'master_pi': '1000014826_1410870', 'similar_pi': '1000019645_153411'}, {'similarity': 0.7218, 'master_pi': '1000014826_1410870', 'similar_pi': '1000005736_97051'}, {'similarity': 0.7176, 'master_pi': '1000014826_1410870', 'similar_pi': '1000005436_61494'}, {'similarity': 0.7151, 'master_pi': '1000014826_1410870', 'similar_pi': '1000014826_3089051'}, {'similarity': 0.713, 'master_pi': '1000014826_1410870', 'similar_pi': '1000014545_2305450'}, {'similarity': 0.7124, 'master_pi': '1000014826_1410870', 'similar_pi': '1000019289_79232'}, {'similarity': 0.7104, 'master_pi': '1000014826_1410870', 'similar_pi': '1000002181_2142942'}, {'similarity': 0.7088, 'master_pi': '1000014826_1410870', 'similar_pi': '1000002312_870273'}, {'similarity': 0.7065, 'master_pi': '1000014826_1410870', 'similar_pi': '1000019142_3250699'}, {'similarity': 0.6978, 'master_pi': '1000014826_1410870', 'similar_pi': '1000018209_5124502'}, {'similarity': 0.6976, 'master_pi': '1000014826_1410870', 'similar_pi': '1000000461_1328228'}, {'similarity': 0.6947, 'master_pi': '1000014826_1410870', 'similar_pi': '1000006420_369254'}, {'similarity': 1.0, 'master_pi': '1000014300_328844', 'similar_pi': '1000014300_328844'}, {'similarity': 0.8201, 'master_pi': '1000014300_328844', 'similar_pi': '1000014148_53965'}, {'similarity': 0.8015, 'master_pi': '1000014300_328844', 'similar_pi': '1000014100_424852'}, {'similarity': 0.7907, 'master_pi': '1000014300_328844', 'similar_pi': '1000014204_86272'}, {'similarity': 0.7871, 'master_pi': '1000014300_328844', 'similar_pi': '1000019645_85406'}, {'similarity': 0.779, 'master_pi': '1000014300_328844', 'similar_pi': '1000001589_687231'}, {'similarity': 0.7734, 'master_pi': '1000014300_328844', 'similar_pi': '1000020751_1093721'}, {'similarity': 0.7691, 'master_pi': '1000014300_328844', 'similar_pi': '1000001703_50950'}, {'similarity': 0.7669, 'master_pi': '1000014300_328844', 'similar_pi': '1000005892_51661'}, {'similarity': 0.7648, 'master_pi': '1000014300_328844', 'similar_pi': '1000005352_1407342'}, {'similarity': 0.756, 'master_pi': '1000014300_328844', 'similar_pi': '1000004450_3547066'}, {'similarity': 0.7529, 'master_pi': '1000014300_328844', 'similar_pi': '1000009316_1097863'}, {'similarity': 0.7511, 'master_pi': '1000014300_328844', 'similar_pi': '1000014148_250654'}, {'similarity': 0.7465, 'master_pi': '1000014300_328844', 'similar_pi': '1000016180_3725398'}, {'similarity': 0.7423, 'master_pi': '1000014300_328844', 'similar_pi': '1000013443_501818'}, {'similarity': 0.7375, 'master_pi': '1000014300_328844', 'similar_pi': '1000014300_377726'}, {'similarity': 0.7361, 'master_pi': '1000014300_328844', 'similar_pi': '1000010562_243157'}, {'similarity': 0.7361, 'master_pi': '1000014300_328844', 'similar_pi': '1000005870_383022'}, {'similarity': 0.7306, 'master_pi': '1000014300_328844', 'similar_pi': '1000019645_49755'}, {'similarity': 0.7273, 'master_pi': '1000014300_328844', 'similar_pi': '1000005352_1196207'}, {'similarity': 1.0, 'master_pi': '1000006551_2617141', 'similar_pi': '1000006551_2617141'}, {'similarity': 0.7745, 'master_pi': '1000006551_2617141', 'similar_pi': '1000006044_506650'}, {'similarity': 0.76, 'master_pi': '1000006551_2617141', 'similar_pi': '1000006044_2941495'}, {'similarity': 0.7502, 'master_pi': '1000006551_2617141', 'similar_pi': '1000005736_247062'}, {'similarity': 0.7442, 'master_pi': '1000006551_2617141', 'similar_pi': '1000019289_532754'}, {'similarity': 0.7355, 'master_pi': '1000006551_2617141', 'similar_pi': '1000006420_369254'}, {'similarity': 0.7338, 'master_pi': '1000006551_2617141', 'similar_pi': '1000016486_98843'}, {'similarity': 0.7283, 'master_pi': '1000006551_2617141', 'similar_pi': '1000018657_2181570'}, {'similarity': 0.7274, 'master_pi': '1000006551_2617141', 'similar_pi': '1000009561_612586'}, {'similarity': 0.7265, 'master_pi': '1000006551_2617141', 'similar_pi': '1000003705_401309'}, {'similarity': 0.7252, 'master_pi': '1000006551_2617141', 'similar_pi': '1000005736_97051'}, {'similarity': 0.7245, 'master_pi': '1000006551_2617141', 'similar_pi': '1000006044_1790440'}, {'similarity': 0.7114, 'master_pi': '1000006551_2617141', 'similar_pi': '1000019645_153411'}, {'similarity': 0.7111, 'master_pi': '1000006551_2617141', 'similar_pi': '1000006420_451109'}, {'similarity': 0.7069, 'master_pi': '1000006551_2617141', 'similar_pi': '1000013443_1330468'}, {'similarity': 0.7068, 'master_pi': '1000006551_2617141', 'similar_pi': '1000007158_205545'}, {'similarity': 0.7062, 'master_pi': '1000006551_2617141', 'similar_pi': '1000009561_789018'}, {'similarity': 0.7045, 'master_pi': '1000006551_2617141', 'similar_pi': '1000006972_5289779'}, {'similarity': 0.703, 'master_pi': '1000006551_2617141', 'similar_pi': '1000017643_1678329'}, {'similarity': 0.7013, 'master_pi': '1000006551_2617141', 'similar_pi': '1000005892_304502'}, {'similarity': 1.0, 'master_pi': '1000006420_315626', 'similar_pi': '1000006420_315626'}, {'similarity': 0.8147, 'master_pi': '1000006420_315626', 'similar_pi': '1000006420_408794'}, {'similarity': 0.8041, 'master_pi': '1000006420_315626', 'similar_pi': '1000005352_3568116'}, {'similarity': 0.7984, 'master_pi': '1000006420_315626', 'similar_pi': '1000005436_61494'}, {'similarity': 0.7783, 'master_pi': '1000006420_315626', 'similar_pi': '1000005352_1196207'}, {'similarity': 0.7772, 'master_pi': '1000006420_315626', 'similar_pi': '1000010562_39641'}, {'similarity': 0.7729, 'master_pi': '1000006420_315626', 'similar_pi': '1000019142_3250699'}, {'similarity': 0.7725, 'master_pi': '1000006420_315626', 'similar_pi': '1000018209_5124502'}, {'similarity': 0.7604, 'master_pi': '1000006420_315626', 'similar_pi': '1000019289_532754'}, {'similarity': 0.7567, 'master_pi': '1000006420_315626', 'similar_pi': '1000009561_612586'}, {'similarity': 0.7472, 'master_pi': '1000006420_315626', 'similar_pi': '1000005736_97051'}, {'similarity': 0.7448, 'master_pi': '1000006420_315626', 'similar_pi': '1000019446_1373376'}, {'similarity': 0.7434, 'master_pi': '1000006420_315626', 'similar_pi': '1000019645_153411'}, {'similarity': 0.743, 'master_pi': '1000006420_315626', 'similar_pi': '1000020031_4862403'}, {'similarity': 0.7409, 'master_pi': '1000006420_315626', 'similar_pi': '1000019289_79232'}, {'similarity': 0.7395, 'master_pi': '1000006420_315626', 'similar_pi': '1000003633_2146904'}, {'similarity': 0.7379, 'master_pi': '1000006420_315626', 'similar_pi': '1000018209_245768'}, {'similarity': 0.7357, 'master_pi': '1000006420_315626', 'similar_pi': '1000005736_475217'}, {'similarity': 0.7295, 'master_pi': '1000006420_315626', 'similar_pi': '1000017306_662524'}, {'similarity': 0.7293, 'master_pi': '1000006420_315626', 'similar_pi': '1000002999_5720269'}, {'similarity': 1.0, 'master_pi': '1000001589_687231', 'similar_pi': '1000001589_687231'}, {'similarity': 0.779, 'master_pi': '1000001589_687231', 'similar_pi': '1000014300_328844'}, {'similarity': 0.7403, 'master_pi': '1000001589_687231', 'similar_pi': '1000004228_590464'}, {'similarity': 0.7309, 'master_pi': '1000001589_687231', 'similar_pi': '1000014100_424852'}, {'similarity': 0.7254, 'master_pi': '1000001589_687231', 'similar_pi': '1000014148_250654'}, {'similarity': 0.7244, 'master_pi': '1000001589_687231', 'similar_pi': '1000014148_53965'}, {'similarity': 0.7231, 'master_pi': '1000001589_687231', 'similar_pi': '1000005892_51661'}, {'similarity': 0.7161, 'master_pi': '1000001589_687231', 'similar_pi': '1000019645_85406'}, {'similarity': 0.7004, 'master_pi': '1000001589_687231', 'similar_pi': '1000013443_501818'}, {'similarity': 0.6893, 'master_pi': '1000001589_687231', 'similar_pi': '1000010562_243157'}, {'similarity': 0.6892, 'master_pi': '1000001589_687231', 'similar_pi': '1000003705_426054'}, {'similarity': 0.6877, 'master_pi': '1000001589_687231', 'similar_pi': '1000002181_2051334'}, {'similarity': 0.6868, 'master_pi': '1000001589_687231', 'similar_pi': '1000018015_2282093'}, {'similarity': 0.6852, 'master_pi': '1000001589_687231', 'similar_pi': '1000000461_543504'}, {'similarity': 0.6833, 'master_pi': '1000001589_687231', 'similar_pi': '1000002619_80272'}, {'similarity': 0.6784, 'master_pi': '1000001589_687231', 'similar_pi': '1000016486_98843'}, {'similarity': 0.6766, 'master_pi': '1000001589_687231', 'similar_pi': '1000014204_86272'}, {'similarity': 0.675, 'master_pi': '1000001589_687231', 'similar_pi': '1000009316_1097863'}, {'similarity': 0.6678, 'master_pi': '1000001589_687231', 'similar_pi': '1000014100_468821'}, {'similarity': 0.6667, 'master_pi': '1000001589_687231', 'similar_pi': '1000001703_50950'}, {'similarity': 1.0, 'master_pi': '1000013443_501818', 'similar_pi': '1000013443_501818'}, {'similarity': 0.754, 'master_pi': '1000013443_501818', 'similar_pi': '1000001703_50950'}, {'similarity': 0.7456, 'master_pi': '1000013443_501818', 'similar_pi': '1000007158_259317'}, {'similarity': 0.7423, 'master_pi': '1000013443_501818', 'similar_pi': '1000014300_328844'}, {'similarity': 0.7343, 'master_pi': '1000013443_501818', 'similar_pi': '1000013443_1454974'}, {'similarity': 0.7116, 'master_pi': '1000013443_501818', 'similar_pi': '1000018985_556353'}, {'similarity': 0.7109, 'master_pi': '1000013443_501818', 'similar_pi': '1000014100_424852'}, {'similarity': 0.708, 'master_pi': '1000013443_501818', 'similar_pi': '1000005352_4375297'}, {'similarity': 0.7058, 'master_pi': '1000013443_501818', 'similar_pi': '1000010562_243157'}, {'similarity': 0.7004, 'master_pi': '1000013443_501818', 'similar_pi': '1000001589_687231'}, {'similarity': 0.6968, 'master_pi': '1000013443_501818', 'similar_pi': '1000004450_3547066'}, {'similarity': 0.6936, 'master_pi': '1000013443_501818', 'similar_pi': '1000019645_85406'}, {'similarity': 0.6934, 'master_pi': '1000013443_501818', 'similar_pi': '1000018433_1062638'}, {'similarity': 0.6869, 'master_pi': '1000013443_501818', 'similar_pi': '1000005352_1196207'}, {'similarity': 0.6857, 'master_pi': '1000013443_501818', 'similar_pi': '1000005352_1407342'}, {'similarity': 0.6729, 'master_pi': '1000013443_501818', 'similar_pi': '1000014148_53965'}, {'similarity': 0.6655, 'master_pi': '1000013443_501818', 'similar_pi': '1000016180_3725398'}, {'similarity': 0.659, 'master_pi': '1000013443_501818', 'similar_pi': '1000014100_468821'}, {'similarity': 0.6571, 'master_pi': '1000013443_501818', 'similar_pi': '1000015780_542711'}, {'similarity': 0.6518, 'master_pi': '1000013443_501818', 'similar_pi': '1000003705_426054'}, {'similarity': 1.0, 'master_pi': '1000004228_590464', 'similar_pi': '1000004228_590464'}, {'similarity': 0.8299, 'master_pi': '1000004228_590464', 'similar_pi': '1000004228_2283011'}, {'similarity': 0.8021, 'master_pi': '1000004228_590464', 'similar_pi': '1000014148_250654'}, {'similarity': 0.7871, 'master_pi': '1000004228_590464', 'similar_pi': '1000018015_2282093'}, {'similarity': 0.7631, 'master_pi': '1000004228_590464', 'similar_pi': '1000016965_2463103'}, {'similarity': 0.7615, 'master_pi': '1000004228_590464', 'similar_pi': '1000014100_424852'}, {'similarity': 0.7496, 'master_pi': '1000004228_590464', 'similar_pi': '1000000461_543504'}, {'similarity': 0.7403, 'master_pi': '1000004228_590464', 'similar_pi': '1000001589_687231'}, {'similarity': 0.7333, 'master_pi': '1000004228_590464', 'similar_pi': '1000010562_243157'}, {'similarity': 0.7298, 'master_pi': '1000004228_590464', 'similar_pi': '1000015900_7056763'}, {'similarity': 0.723, 'master_pi': '1000004228_590464', 'similar_pi': '1000005597_3682227'}, {'similarity': 0.7215, 'master_pi': '1000004228_590464', 'similar_pi': '1000010562_39641'}, {'similarity': 0.7153, 'master_pi': '1000004228_590464', 'similar_pi': '1000010410_393714'}, {'similarity': 0.7144, 'master_pi': '1000004228_590464', 'similar_pi': '1000004450_5156532'}, {'similarity': 0.7135, 'master_pi': '1000004228_590464', 'similar_pi': '1000002181_2051334'}, {'similarity': 0.712, 'master_pi': '1000004228_590464', 'similar_pi': '1000014148_53965'}, {'similarity': 0.7087, 'master_pi': '1000004228_590464', 'similar_pi': '1000003705_401309'}, {'similarity': 0.7056, 'master_pi': '1000004228_590464', 'similar_pi': '1000003705_296339'}, {'similarity': 0.7037, 'master_pi': '1000004228_590464', 'similar_pi': '1000014300_554766'}, {'similarity': 0.7007, 'master_pi': '1000004228_590464', 'similar_pi': '1000020751_1093721'}, {'similarity': 1.0, 'master_pi': '1000019035_1240668', 'similar_pi': '1000019035_1240668'}, {'similarity': 0.7655, 'master_pi': '1000019035_1240668', 'similar_pi': '1000019035_1436324'}, {'similarity': 0.7469, 'master_pi': '1000019035_1240668', 'similar_pi': '1000006044_506650'}, {'similarity': 0.719, 'master_pi': '1000019035_1240668', 'similar_pi': '1000009581_2980680'}, {'similarity': 0.6849, 'master_pi': '1000019035_1240668', 'similar_pi': '1000006420_451109'}, {'similarity': 0.6703, 'master_pi': '1000019035_1240668', 'similar_pi': '1000016486_233723'}, {'similarity': 0.6631, 'master_pi': '1000019035_1240668', 'similar_pi': '1000006044_2941495'}, {'similarity': 0.6562, 'master_pi': '1000019035_1240668', 'similar_pi': '1000006972_5289779'}, {'similarity': 0.6502, 'master_pi': '1000019035_1240668', 'similar_pi': '1000006044_1790440'}, {'similarity': 0.6383, 'master_pi': '1000019035_1240668', 'similar_pi': '1000005736_247062'}, {'similarity': 0.6377, 'master_pi': '1000019035_1240668', 'similar_pi': '1000005597_1527063'}, {'similarity': 0.6303, 'master_pi': '1000019035_1240668', 'similar_pi': '1000006044_257220'}, {'similarity': 0.6295, 'master_pi': '1000019035_1240668', 'similar_pi': '1000003705_401309'}, {'similarity': 0.6286, 'master_pi': '1000019035_1240668', 'similar_pi': '1000007158_205545'}, {'similarity': 0.628, 'master_pi': '1000019035_1240668', 'similar_pi': '1000017643_1905271'}, {'similarity': 0.6262, 'master_pi': '1000019035_1240668', 'similar_pi': '1000018606_1788990'}, {'similarity': 0.6243, 'master_pi': '1000019035_1240668', 'similar_pi': '1000018657_2181570'}, {'similarity': 0.6136, 'master_pi': '1000019035_1240668', 'similar_pi': '1000010410_415015'}, {'similarity': 0.608, 'master_pi': '1000019035_1240668', 'similar_pi': '1000001857_75766'}, {'similarity': 0.6059, 'master_pi': '1000019035_1240668', 'similar_pi': '1000014545_2305450'}, {'similarity': 1.0, 'master_pi': '1000005450_974152', 'similar_pi': '1000005450_974152'}, {'similarity': 0.7605, 'master_pi': '1000005450_974152', 'similar_pi': '1000006450_418604'}, {'similarity': 0.7049, 'master_pi': '1000005450_974152', 'similar_pi': '1000003633_2146904'}, {'similarity': 0.6832, 'master_pi': '1000005450_974152', 'similar_pi': '1000010562_39641'}, {'similarity': 0.6759, 'master_pi': '1000005450_974152', 'similar_pi': '1000018606_927886'}, {'similarity': 0.6581, 'master_pi': '1000005450_974152', 'similar_pi': '1000020717_360154'}, {'similarity': 0.6461, 'master_pi': '1000005450_974152', 'similar_pi': '1000019142_3250699'}, {'similarity': 0.6392, 'master_pi': '1000005450_974152', 'similar_pi': '1000005352_4375297'}, {'similarity': 0.6287, 'master_pi': '1000005450_974152', 'similar_pi': '1000019142_645646'}, {'similarity': 0.6275, 'master_pi': '1000005450_974152', 'similar_pi': '1000001589_254796'}, {'similarity': 0.6224, 'master_pi': '1000005450_974152', 'similar_pi': '1000018606_1154981'}, {'similarity': 0.6202, 'master_pi': '1000005450_974152', 'similar_pi': '1000003705_401309'}, {'similarity': 0.6174, 'master_pi': '1000005450_974152', 'similar_pi': '1000012591_283383'}, {'similarity': 0.6125, 'master_pi': '1000005450_974152', 'similar_pi': '1000018209_5124502'}, {'similarity': 0.6108, 'master_pi': '1000005450_974152', 'similar_pi': '1000005352_3568116'}, {'similarity': 0.6003, 'master_pi': '1000005450_974152', 'similar_pi': '1000010562_243157'}, {'similarity': 0.5996, 'master_pi': '1000005450_974152', 'similar_pi': '1000011715_999455'}, {'similarity': 0.5985, 'master_pi': '1000005450_974152', 'similar_pi': '1000017643_1678329'}, {'similarity': 0.597, 'master_pi': '1000005450_974152', 'similar_pi': '1000002181_2051334'}, {'similarity': 0.5964, 'master_pi': '1000005450_974152', 'similar_pi': '1000016591_1260132'}, {'similarity': 1.0, 'master_pi': '1000018209_245768', 'similar_pi': '1000018209_245768'}, {'similarity': 0.9413, 'master_pi': '1000018209_245768', 'similar_pi': '1000018209_5124502'}, {'similarity': 0.8462, 'master_pi': '1000018209_245768', 'similar_pi': '1000010562_39641'}, {'similarity': 0.835, 'master_pi': '1000018209_245768', 'similar_pi': '1000015780_542711'}, {'similarity': 0.8261, 'master_pi': '1000018209_245768', 'similar_pi': '1000019142_3250699'}, {'similarity': 0.8078, 'master_pi': '1000018209_245768', 'similar_pi': '1000005352_1196207'}, {'similarity': 0.8065, 'master_pi': '1000018209_245768', 'similar_pi': '1000015780_470187'}, {'similarity': 0.8027, 'master_pi': '1000018209_245768', 'similar_pi': '1000010562_243157'}, {'similarity': 0.7973, 'master_pi': '1000018209_245768', 'similar_pi': '1000018985_109015'}, {'similarity': 0.7934, 'master_pi': '1000018209_245768', 'similar_pi': '1000002999_5720269'}, {'similarity': 0.7866, 'master_pi': '1000018209_245768', 'similar_pi': '1000009561_612586'}, {'similarity': 0.7853, 'master_pi': '1000018209_245768', 'similar_pi': '1000015780_507181'}, {'similarity': 0.7839, 'master_pi': '1000018209_245768', 'similar_pi': '1000005352_4375297'}, {'similarity': 0.7831, 'master_pi': '1000018209_245768', 'similar_pi': '1000017643_1678329'}, {'similarity': 0.7819, 'master_pi': '1000018209_245768', 'similar_pi': '1000015900_7056763'}, {'similarity': 0.7819, 'master_pi': '1000018209_245768', 'similar_pi': '1000003705_401309'}, {'similarity': 0.7715, 'master_pi': '1000018209_245768', 'similar_pi': '1000019289_79232'}, {'similarity': 0.7686, 'master_pi': '1000018209_245768', 'similar_pi': '1000014826_3116960'}, {'similarity': 0.7651, 'master_pi': '1000018209_245768', 'similar_pi': '1000019289_532754'}, {'similarity': 0.7584, 'master_pi': '1000018209_245768', 'similar_pi': '1000009316_1097863'}, {'similarity': 1.0, 'master_pi': '1000013443_1330468', 'similar_pi': '1000013443_1330468'}, {'similarity': 0.8165, 'master_pi': '1000013443_1330468', 'similar_pi': '1000005597_1527063'}, {'similarity': 0.7552, 'master_pi': '1000013443_1330468', 'similar_pi': '1000003705_401309'}, {'similarity': 0.7529, 'master_pi': '1000013443_1330468', 'similar_pi': '1000018209_245768'}, {'similarity': 0.746, 'master_pi': '1000013443_1330468', 'similar_pi': '1000010562_39641'}, {'similarity': 0.7451, 'master_pi': '1000013443_1330468', 'similar_pi': '1000014826_1410870'}, {'similarity': 0.7375, 'master_pi': '1000013443_1330468', 'similar_pi': '1000005352_1407342'}, {'similarity': 0.7331, 'master_pi': '1000013443_1330468', 'similar_pi': '1000018209_5124502'}, {'similarity': 0.7298, 'master_pi': '1000013443_1330468', 'similar_pi': '1000019142_3250699'}, {'similarity': 0.7297, 'master_pi': '1000013443_1330468', 'similar_pi': '1000015780_470187'}, {'similarity': 0.728, 'master_pi': '1000013443_1330468', 'similar_pi': '1000009581_2980680'}, {'similarity': 0.7274, 'master_pi': '1000013443_1330468', 'similar_pi': '1000016486_98843'}, {'similarity': 0.7244, 'master_pi': '1000013443_1330468', 'similar_pi': '1000018657_2181570'}, {'similarity': 0.7225, 'master_pi': '1000013443_1330468', 'similar_pi': '1000017643_1678329'}, {'similarity': 0.7216, 'master_pi': '1000013443_1330468', 'similar_pi': '1000009316_1097863'}, {'similarity': 0.72, 'master_pi': '1000013443_1330468', 'similar_pi': '1000015780_542711'}, {'similarity': 0.7198, 'master_pi': '1000013443_1330468', 'similar_pi': '1000017306_662524'}, {'similarity': 0.7178, 'master_pi': '1000013443_1330468', 'similar_pi': '1000005352_4375297'}, {'similarity': 0.7107, 'master_pi': '1000013443_1330468', 'similar_pi': '1000005736_247062'}, {'similarity': 0.709, 'master_pi': '1000013443_1330468', 'similar_pi': '1000018985_109015'}, {'similarity': 1.0, 'master_pi': '1000003633_2146904', 'similar_pi': '1000003633_2146904'}, {'similarity': 0.7765, 'master_pi': '1000003633_2146904', 'similar_pi': '1000001589_254796'}, {'similarity': 0.7644, 'master_pi': '1000003633_2146904', 'similar_pi': '1000006450_418604'}, {'similarity': 0.7524, 'master_pi': '1000003633_2146904', 'similar_pi': '1000005352_3568116'}, {'similarity': 0.7397, 'master_pi': '1000003633_2146904', 'similar_pi': '1000010562_39641'}, {'similarity': 0.7395, 'master_pi': '1000003633_2146904', 'similar_pi': '1000006420_315626'}, {'similarity': 0.7291, 'master_pi': '1000003633_2146904', 'similar_pi': '1000012591_283383'}, {'similarity': 0.7206, 'master_pi': '1000003633_2146904', 'similar_pi': '1000018657_2051415'}, {'similarity': 0.7192, 'master_pi': '1000003633_2146904', 'similar_pi': '1000005352_4375297'}, {'similarity': 0.7187, 'master_pi': '1000003633_2146904', 'similar_pi': '1000018606_1154981'}, {'similarity': 0.7117, 'master_pi': '1000003633_2146904', 'similar_pi': '1000019142_3250699'}, {'similarity': 0.7051, 'master_pi': '1000003633_2146904', 'similar_pi': '1000018606_927886'}, {'similarity': 0.7049, 'master_pi': '1000003633_2146904', 'similar_pi': '1000005450_974152'}, {'similarity': 0.6938, 'master_pi': '1000003633_2146904', 'similar_pi': '1000005352_1196207'}, {'similarity': 0.6852, 'master_pi': '1000003633_2146904', 'similar_pi': '1000018209_5124502'}, {'similarity': 0.6849, 'master_pi': '1000003633_2146904', 'similar_pi': '1000019645_153411'}, {'similarity': 0.6807, 'master_pi': '1000003633_2146904', 'similar_pi': '1000017643_1678329'}, {'similarity': 0.676, 'master_pi': '1000003633_2146904', 'similar_pi': '1000019289_79232'}, {'similarity': 0.6744, 'master_pi': '1000003633_2146904', 'similar_pi': '1000019289_532754'}, {'similarity': 0.6742, 'master_pi': '1000003633_2146904', 'similar_pi': '1000002999_5720269'}, {'similarity': 1.0, 'master_pi': '1000005736_247062', 'similar_pi': '1000005736_247062'}, {'similarity': 0.8662, 'master_pi': '1000005736_247062', 'similar_pi': '1000006044_2941495'}, {'similarity': 0.8308, 'master_pi': '1000005736_247062', 'similar_pi': '1000013499_266873'}, {'similarity': 0.8152, 'master_pi': '1000005736_247062', 'similar_pi': '1000006044_506650'}, {'similarity': 0.8034, 'master_pi': '1000005736_247062', 'similar_pi': '1000017573_6083989'}, {'similarity': 0.7983, 'master_pi': '1000005736_247062', 'similar_pi': '1000003705_401309'}, {'similarity': 0.7646, 'master_pi': '1000005736_247062', 'similar_pi': '1000004450_124311'}, {'similarity': 0.757, 'master_pi': '1000005736_247062', 'similar_pi': '1000006420_451109'}, {'similarity': 0.7527, 'master_pi': '1000005736_247062', 'similar_pi': '1000005906_566835'}, {'similarity': 0.7502, 'master_pi': '1000005736_247062', 'similar_pi': '1000006551_2617141'}, {'similarity': 0.7494, 'master_pi': '1000005736_247062', 'similar_pi': '1000020743_5730464'}, {'similarity': 0.7481, 'master_pi': '1000005736_247062', 'similar_pi': '1000017643_1905271'}, {'similarity': 0.7416, 'master_pi': '1000005736_247062', 'similar_pi': '1000009561_789018'}, {'similarity': 0.7388, 'master_pi': '1000005736_247062', 'similar_pi': '1000018657_2181570'}, {'similarity': 0.7336, 'master_pi': '1000005736_247062', 'similar_pi': '1000000461_1328228'}, {'similarity': 0.7265, 'master_pi': '1000005736_247062', 'similar_pi': '1000005597_1527063'}, {'similarity': 0.721, 'master_pi': '1000005736_247062', 'similar_pi': '1000002312_870273'}, {'similarity': 0.721, 'master_pi': '1000005736_247062', 'similar_pi': '1000007158_205545'}, {'similarity': 0.7181, 'master_pi': '1000005736_247062', 'similar_pi': '1000006044_1790440'}, {'similarity': 0.714, 'master_pi': '1000005736_247062', 'similar_pi': '1000002181_2142942'}, {'similarity': 1.0, 'master_pi': '1000007158_259317', 'similar_pi': '1000007158_259317'}, {'similarity': 0.7486, 'master_pi': '1000007158_259317', 'similar_pi': '1000015780_542711'}, {'similarity': 0.7456, 'master_pi': '1000007158_259317', 'similar_pi': '1000013443_501818'}, {'similarity': 0.7432, 'master_pi': '1000007158_259317', 'similar_pi': '1000005352_1196207'}, {'similarity': 0.7411, 'master_pi': '1000007158_259317', 'similar_pi': '1000015780_470187'}, {'similarity': 0.7398, 'master_pi': '1000007158_259317', 'similar_pi': '1000018985_556353'}, {'similarity': 0.7328, 'master_pi': '1000007158_259317', 'similar_pi': '1000007560_2156837'}, {'similarity': 0.7265, 'master_pi': '1000007158_259317', 'similar_pi': '1000010562_243157'}, {'similarity': 0.7198, 'master_pi': '1000007158_259317', 'similar_pi': '1000009316_1097863'}, {'similarity': 0.7134, 'master_pi': '1000007158_259317', 'similar_pi': '1000001703_50950'}, {'similarity': 0.7122, 'master_pi': '1000007158_259317', 'similar_pi': '1000019142_3250699'}, {'similarity': 0.7073, 'master_pi': '1000007158_259317', 'similar_pi': '1000010562_39641'}, {'similarity': 0.7066, 'master_pi': '1000007158_259317', 'similar_pi': '1000005352_4375297'}, {'similarity': 0.7048, 'master_pi': '1000007158_259317', 'similar_pi': '1000019645_85406'}, {'similarity': 0.7047, 'master_pi': '1000007158_259317', 'similar_pi': '1000018209_245768'}, {'similarity': 0.6952, 'master_pi': '1000007158_259317', 'similar_pi': '1000013443_1454974'}, {'similarity': 0.6922, 'master_pi': '1000007158_259317', 'similar_pi': '1000004450_3547066'}, {'similarity': 0.6868, 'master_pi': '1000007158_259317', 'similar_pi': '1000005296_1541795'}, {'similarity': 0.6856, 'master_pi': '1000007158_259317', 'similar_pi': '1000014300_328844'}, {'similarity': 0.6851, 'master_pi': '1000007158_259317', 'similar_pi': '1000018209_5124502'}, {'similarity': 1.0, 'master_pi': '1000006420_408794', 'similar_pi': '1000006420_408794'}, {'similarity': 0.8147, 'master_pi': '1000006420_408794', 'similar_pi': '1000006420_315626'}, {'similarity': 0.7914, 'master_pi': '1000006420_408794', 'similar_pi': '1000005436_61494'}, {'similarity': 0.7758, 'master_pi': '1000006420_408794', 'similar_pi': '1000005352_3568116'}, {'similarity': 0.7559, 'master_pi': '1000006420_408794', 'similar_pi': '1000019446_1373376'}, {'similarity': 0.748, 'master_pi': '1000006420_408794', 'similar_pi': '1000010562_39641'}, {'similarity': 0.7447, 'master_pi': '1000006420_408794', 'similar_pi': '1000018209_5124502'}, {'similarity': 0.7439, 'master_pi': '1000006420_408794', 'similar_pi': '1000009561_612586'}, {'similarity': 0.7403, 'master_pi': '1000006420_408794', 'similar_pi': '1000019289_532754'}, {'similarity': 0.7397, 'master_pi': '1000006420_408794', 'similar_pi': '1000005352_1196207'}, {'similarity': 0.7233, 'master_pi': '1000006420_408794', 'similar_pi': '1000005597_694815'}, {'similarity': 0.7221, 'master_pi': '1000006420_408794', 'similar_pi': '1000015780_507181'}, {'similarity': 0.7207, 'master_pi': '1000006420_408794', 'similar_pi': '1000015900_7056763'}, {'similarity': 0.7188, 'master_pi': '1000006420_408794', 'similar_pi': '1000019142_3250699'}, {'similarity': 0.7167, 'master_pi': '1000006420_408794', 'similar_pi': '1000019289_79232'}, {'similarity': 0.7158, 'master_pi': '1000006420_408794', 'similar_pi': '1000006450_418604'}, {'similarity': 0.7144, 'master_pi': '1000006420_408794', 'similar_pi': '1000002619_11213'}, {'similarity': 0.711, 'master_pi': '1000006420_408794', 'similar_pi': '1000018209_245768'}, {'similarity': 0.7098, 'master_pi': '1000006420_408794', 'similar_pi': '1000019645_153411'}, {'similarity': 0.7091, 'master_pi': '1000006420_408794', 'similar_pi': '1000015780_542711'}, {'similarity': 1.0, 'master_pi': '1000002999_5720269', 'similar_pi': '1000002999_5720269'}, {'similarity': 0.8082, 'master_pi': '1000002999_5720269', 'similar_pi': '1000018209_5124502'}, {'similarity': 0.7934, 'master_pi': '1000002999_5720269', 'similar_pi': '1000018209_245768'}, {'similarity': 0.7548, 'master_pi': '1000002999_5720269', 'similar_pi': '1000009561_612586'}, {'similarity': 0.7508, 'master_pi': '1000002999_5720269', 'similar_pi': '1000015780_542711'}, {'similarity': 0.7434, 'master_pi': '1000002999_5720269', 'similar_pi': '1000010562_39641'}, {'similarity': 0.7384, 'master_pi': '1000002999_5720269', 'similar_pi': '1000019289_79232'}, {'similarity': 0.7307, 'master_pi': '1000002999_5720269', 'similar_pi': '1000019142_3250699'}, {'similarity': 0.7293, 'master_pi': '1000002999_5720269', 'similar_pi': '1000006420_315626'}, {'similarity': 0.7211, 'master_pi': '1000002999_5720269', 'similar_pi': '1000010562_243157'}, {'similarity': 0.7171, 'master_pi': '1000002999_5720269', 'similar_pi': '1000014148_53965'}, {'similarity': 0.7167, 'master_pi': '1000002999_5720269', 'similar_pi': '1000015780_507181'}, {'similarity': 0.7167, 'master_pi': '1000002999_5720269', 'similar_pi': '1000017306_662524'}, {'similarity': 0.7151, 'master_pi': '1000002999_5720269', 'similar_pi': '1000019289_532754'}, {'similarity': 0.7151, 'master_pi': '1000002999_5720269', 'similar_pi': '1000005352_1196207'}, {'similarity': 0.7129, 'master_pi': '1000002999_5720269', 'similar_pi': '1000005352_4375297'}, {'similarity': 0.7109, 'master_pi': '1000002999_5720269', 'similar_pi': '1000018657_1411110'}, {'similarity': 0.7089, 'master_pi': '1000002999_5720269', 'similar_pi': '1000019645_85406'}, {'similarity': 0.7062, 'master_pi': '1000002999_5720269', 'similar_pi': '1000014826_3116960'}, {'similarity': 0.706, 'master_pi': '1000002999_5720269', 'similar_pi': '1000003705_401309'}, {'similarity': 1.0, 'master_pi': '1000008134_777401', 'similar_pi': '1000008134_777401'}, {'similarity': 0.8284, 'master_pi': '1000008134_777401', 'similar_pi': '1000009316_1097863'}, {'similarity': 0.7836, 'master_pi': '1000008134_777401', 'similar_pi': '1000007158_205545'}, {'similarity': 0.7378, 'master_pi': '1000008134_777401', 'similar_pi': '1000003705_401309'}, {'similarity': 0.729, 'master_pi': '1000008134_777401', 'similar_pi': '1000009316_643631'}, {'similarity': 0.7264, 'master_pi': '1000008134_777401', 'similar_pi': '1000020031_4862403'}, {'similarity': 0.7218, 'master_pi': '1000008134_777401', 'similar_pi': '1000014204_202327'}, {'similarity': 0.7183, 'master_pi': '1000008134_777401', 'similar_pi': '1000005597_694815'}, {'similarity': 0.7165, 'master_pi': '1000008134_777401', 'similar_pi': '1000015780_507181'}, {'similarity': 0.7128, 'master_pi': '1000008134_777401', 'similar_pi': '1000005296_1162891'}, {'similarity': 0.7121, 'master_pi': '1000008134_777401', 'similar_pi': '1000015780_542711'}, {'similarity': 0.7075, 'master_pi': '1000008134_777401', 'similar_pi': '1000014100_468821'}, {'similarity': 0.7064, 'master_pi': '1000008134_777401', 'similar_pi': '1000006044_257220'}, {'similarity': 0.7062, 'master_pi': '1000008134_777401', 'similar_pi': '1000002619_80272'}, {'similarity': 0.7024, 'master_pi': '1000008134_777401', 'similar_pi': '1000010562_243157'}, {'similarity': 0.7022, 'master_pi': '1000008134_777401', 'similar_pi': '1000005892_51661'}, {'similarity': 0.701, 'master_pi': '1000008134_777401', 'similar_pi': '1000013499_266873'}, {'similarity': 0.6978, 'master_pi': '1000008134_777401', 'similar_pi': '1000000461_543504'}, {'similarity': 0.6943, 'master_pi': '1000008134_777401', 'similar_pi': '1000018209_245768'}, {'similarity': 0.6868, 'master_pi': '1000008134_777401', 'similar_pi': '1000001703_25700'}, {'similarity': 1.0, 'master_pi': '1000003705_296339', 'similar_pi': '1000003705_296339'}, {'similarity': 0.7676, 'master_pi': '1000003705_296339', 'similar_pi': '1000000461_543504'}, {'similarity': 0.7676, 'master_pi': '1000003705_296339', 'similar_pi': '1000018015_2282093'}, {'similarity': 0.751, 'master_pi': '1000003705_296339', 'similar_pi': '1000019470_694708'}, {'similarity': 0.7423, 'master_pi': '1000003705_296339', 'similar_pi': '1000004228_2283011'}, {'similarity': 0.739, 'master_pi': '1000003705_296339', 'similar_pi': '1000017643_2107833'}, {'similarity': 0.7367, 'master_pi': '1000003705_296339', 'similar_pi': '1000002619_80272'}, {'similarity': 0.7175, 'master_pi': '1000003705_296339', 'similar_pi': '1000008611_1387665'}, {'similarity': 0.7143, 'master_pi': '1000003705_296339', 'similar_pi': '1000005597_694815'}, {'similarity': 0.7084, 'master_pi': '1000003705_296339', 'similar_pi': '1000014416_863483'}, {'similarity': 0.7056, 'master_pi': '1000003705_296339', 'similar_pi': '1000004228_590464'}, {'similarity': 0.7049, 'master_pi': '1000003705_296339', 'similar_pi': '1000015900_7056763'}, {'similarity': 0.7012, 'master_pi': '1000003705_296339', 'similar_pi': '1000003705_401309'}, {'similarity': 0.6981, 'master_pi': '1000003705_296339', 'similar_pi': '1000010562_243157'}, {'similarity': 0.694, 'master_pi': '1000003705_296339', 'similar_pi': '1000005450_964923'}, {'similarity': 0.6939, 'master_pi': '1000003705_296339', 'similar_pi': '1000010410_393714'}, {'similarity': 0.6913, 'master_pi': '1000003705_296339', 'similar_pi': '1000014300_554766'}, {'similarity': 0.6896, 'master_pi': '1000003705_296339', 'similar_pi': '1000002827_86297'}, {'similarity': 0.6859, 'master_pi': '1000003705_296339', 'similar_pi': '1000002181_2051334'}, {'similarity': 0.6847, 'master_pi': '1000003705_296339', 'similar_pi': '1000002619_145002'}, {'similarity': 1.0, 'master_pi': '1000018758_677648', 'similar_pi': '1000018758_677648'}, {'similarity': 0.8934, 'master_pi': '1000018758_677648', 'similar_pi': '1000017746_269642'}, {'similarity': 0.8541, 'master_pi': '1000018758_677648', 'similar_pi': '1000002181_2142942'}, {'similarity': 0.8306, 'master_pi': '1000018758_677648', 'similar_pi': '1000017746_1101388'}, {'similarity': 0.8197, 'master_pi': '1000018758_677648', 'similar_pi': '1000015900_7056763'}, {'similarity': 0.8142, 'master_pi': '1000018758_677648', 'similar_pi': '1000016965_2463103'}, {'similarity': 0.8097, 'master_pi': '1000018758_677648', 'similar_pi': '1000005597_3682227'}, {'similarity': 0.8033, 'master_pi': '1000018758_677648', 'similar_pi': '1000005906_566835'}, {'similarity': 0.7983, 'master_pi': '1000018758_677648', 'similar_pi': '1000006450_471043'}, {'similarity': 0.7935, 'master_pi': '1000018758_677648', 'similar_pi': '1000017573_6083989'}, {'similarity': 0.7895, 'master_pi': '1000018758_677648', 'similar_pi': '1000004450_5156532'}, {'similarity': 0.77, 'master_pi': '1000018758_677648', 'similar_pi': '1000018209_5124502'}, {'similarity': 0.7664, 'master_pi': '1000018758_677648', 'similar_pi': '1000000461_1328228'}, {'similarity': 0.765, 'master_pi': '1000018758_677648', 'similar_pi': '1000011715_999455'}, {'similarity': 0.7643, 'master_pi': '1000018758_677648', 'similar_pi': '1000019289_532754'}, {'similarity': 0.7598, 'master_pi': '1000018758_677648', 'similar_pi': '1000005736_97051'}, {'similarity': 0.7557, 'master_pi': '1000018758_677648', 'similar_pi': '1000005597_694815'}, {'similarity': 0.753, 'master_pi': '1000018758_677648', 'similar_pi': '1000019446_1696752'}, {'similarity': 0.7491, 'master_pi': '1000018758_677648', 'similar_pi': '1000005436_61494'}, {'similarity': 0.7487, 'master_pi': '1000018758_677648', 'similar_pi': '1000009561_789018'}, {'similarity': 1.0, 'master_pi': '1000018985_556353', 'similar_pi': '1000018985_556353'}, {'similarity': 0.8044, 'master_pi': '1000018985_556353', 'similar_pi': '1000015780_542711'}, {'similarity': 0.7963, 'master_pi': '1000018985_556353', 'similar_pi': '1000002181_2051334'}, {'similarity': 0.7929, 'master_pi': '1000018985_556353', 'similar_pi': '1000010562_243157'}, {'similarity': 0.7864, 'master_pi': '1000018985_556353', 'similar_pi': '1000005352_4375297'}, {'similarity': 0.7796, 'master_pi': '1000018985_556353', 'similar_pi': '1000015780_507181'}, {'similarity': 0.7765, 'master_pi': '1000018985_556353', 'similar_pi': '1000019645_85406'}, {'similarity': 0.7753, 'master_pi': '1000018985_556353', 'similar_pi': '1000014826_3116960'}, {'similarity': 0.7734, 'master_pi': '1000018985_556353', 'similar_pi': '1000005352_1196207'}, {'similarity': 0.7549, 'master_pi': '1000018985_556353', 'similar_pi': '1000015780_470187'}, {'similarity': 0.7537, 'master_pi': '1000018985_556353', 'similar_pi': '1000019142_3250699'}, {'similarity': 0.7515, 'master_pi': '1000018985_556353', 'similar_pi': '1000002619_80272'}, {'similarity': 0.7484, 'master_pi': '1000018985_556353', 'similar_pi': '1000003705_426054'}, {'similarity': 0.745, 'master_pi': '1000018985_556353', 'similar_pi': '1000010562_39641'}, {'similarity': 0.7432, 'master_pi': '1000018985_556353', 'similar_pi': '1000018209_245768'}, {'similarity': 0.7398, 'master_pi': '1000018985_556353', 'similar_pi': '1000007158_259317'}, {'similarity': 0.7348, 'master_pi': '1000018985_556353', 'similar_pi': '1000018209_5124502'}, {'similarity': 0.7315, 'master_pi': '1000018985_556353', 'similar_pi': '1000015900_7056763'}, {'similarity': 0.7297, 'master_pi': '1000018985_556353', 'similar_pi': '1000002619_145002'}, {'similarity': 0.7296, 'master_pi': '1000018985_556353', 'similar_pi': '1000016486_11905'}, {'similarity': 1.0, 'master_pi': '1000005352_4375297', 'similar_pi': '1000005352_4375297'}, {'similarity': 0.8172, 'master_pi': '1000005352_4375297', 'similar_pi': '1000010562_243157'}, {'similarity': 0.814, 'master_pi': '1000005352_4375297', 'similar_pi': '1000019142_3250699'}, {'similarity': 0.8049, 'master_pi': '1000005352_4375297', 'similar_pi': '1000010562_39641'}, {'similarity': 0.8045, 'master_pi': '1000005352_4375297', 'similar_pi': '1000013443_39966'}, {'similarity': 0.7929, 'master_pi': '1000005352_4375297', 'similar_pi': '1000018209_5124502'}, {'similarity': 0.7866, 'master_pi': '1000005352_4375297', 'similar_pi': '1000005352_1196207'}, {'similarity': 0.7864, 'master_pi': '1000005352_4375297', 'similar_pi': '1000018985_556353'}, {'similarity': 0.7857, 'master_pi': '1000005352_4375297', 'similar_pi': '1000006450_418604'}, {'similarity': 0.7839, 'master_pi': '1000005352_4375297', 'similar_pi': '1000018209_245768'}, {'similarity': 0.779, 'master_pi': '1000005352_4375297', 'similar_pi': '1000002181_2051334'}, {'similarity': 0.775, 'master_pi': '1000005352_4375297', 'similar_pi': '1000019142_645646'}, {'similarity': 0.7728, 'master_pi': '1000005352_4375297', 'similar_pi': '1000001589_254796'}, {'similarity': 0.7696, 'master_pi': '1000005352_4375297', 'similar_pi': '1000015780_542711'}, {'similarity': 0.7641, 'master_pi': '1000005352_4375297', 'similar_pi': '1000019645_85406'}, {'similarity': 0.7627, 'master_pi': '1000005352_4375297', 'similar_pi': '1000017643_1678329'}, {'similarity': 0.7573, 'master_pi': '1000005352_4375297', 'similar_pi': '1000005352_1407342'}, {'similarity': 0.7558, 'master_pi': '1000005352_4375297', 'similar_pi': '1000015780_470187'}, {'similarity': 0.7494, 'master_pi': '1000005352_4375297', 'similar_pi': '1000014148_53965'}, {'similarity': 0.7412, 'master_pi': '1000005352_4375297', 'similar_pi': '1000012591_283383'}, {'similarity': 1.0, 'master_pi': '1000017746_989560', 'similar_pi': '1000017746_989560'}, {'similarity': 0.7235, 'master_pi': '1000017746_989560', 'similar_pi': '1000002619_145002'}, {'similarity': 0.7169, 'master_pi': '1000017746_989560', 'similar_pi': '1000005870_333655'}, {'similarity': 0.7068, 'master_pi': '1000017746_989560', 'similar_pi': '1000015780_507181'}, {'similarity': 0.7012, 'master_pi': '1000017746_989560', 'similar_pi': '1000000461_1477576'}, {'similarity': 0.6983, 'master_pi': '1000017746_989560', 'similar_pi': '1000009316_643631'}, {'similarity': 0.6887, 'master_pi': '1000017746_989560', 'similar_pi': '1000009561_612586'}, {'similarity': 0.6781, 'master_pi': '1000017746_989560', 'similar_pi': '1000007158_205545'}, {'similarity': 0.6737, 'master_pi': '1000017746_989560', 'similar_pi': '1000014204_202327'}, {'similarity': 0.6734, 'master_pi': '1000017746_989560', 'similar_pi': '1000019470_694708'}, {'similarity': 0.67, 'master_pi': '1000017746_989560', 'similar_pi': '1000018657_2659678'}, {'similarity': 0.6686, 'master_pi': '1000017746_989560', 'similar_pi': '1000000461_543504'}, {'similarity': 0.6684, 'master_pi': '1000017746_989560', 'similar_pi': '1000002619_80272'}, {'similarity': 0.666, 'master_pi': '1000017746_989560', 'similar_pi': '1000016504_417475'}, {'similarity': 0.6628, 'master_pi': '1000017746_989560', 'similar_pi': '1000006450_471043'}, {'similarity': 0.6589, 'master_pi': '1000017746_989560', 'similar_pi': '1000005870_383022'}, {'similarity': 0.6529, 'master_pi': '1000017746_989560', 'similar_pi': '1000014100_468821'}, {'similarity': 0.6514, 'master_pi': '1000017746_989560', 'similar_pi': '1000018657_2832634'}, {'similarity': 0.6476, 'master_pi': '1000017746_989560', 'similar_pi': '1000010410_415015'}, {'similarity': 0.6453, 'master_pi': '1000017746_989560', 'similar_pi': '1000014826_3116960'}, {'similarity': 1.0, 'master_pi': '1000001703_25700', 'similar_pi': '1000001703_25700'}, {'similarity': 0.7565, 'master_pi': '1000001703_25700', 'similar_pi': '1000009316_1097863'}, {'similarity': 0.7363, 'master_pi': '1000001703_25700', 'similar_pi': '1000014204_86272'}, {'similarity': 0.7342, 'master_pi': '1000001703_25700', 'similar_pi': '1000009316_643631'}, {'similarity': 0.7327, 'master_pi': '1000001703_25700', 'similar_pi': '1000019645_49755'}, {'similarity': 0.7204, 'master_pi': '1000001703_25700', 'similar_pi': '1000005296_1541795'}, {'similarity': 0.7138, 'master_pi': '1000001703_25700', 'similar_pi': '1000017306_1463281'}, {'similarity': 0.7056, 'master_pi': '1000001703_25700', 'similar_pi': '1000020751_1093721'}, {'similarity': 0.6911, 'master_pi': '1000001703_25700', 'similar_pi': '1000016504_191302'}, {'similarity': 0.6868, 'master_pi': '1000001703_25700', 'similar_pi': '1000008134_777401'}, {'similarity': 0.6867, 'master_pi': '1000001703_25700', 'similar_pi': '1000016180_3725398'}, {'similarity': 0.6843, 'master_pi': '1000001703_25700', 'similar_pi': '1000014148_53965'}, {'similarity': 0.6807, 'master_pi': '1000001703_25700', 'similar_pi': '1000005870_333655'}, {'similarity': 0.6802, 'master_pi': '1000001703_25700', 'similar_pi': '1000019645_85406'}, {'similarity': 0.6759, 'master_pi': '1000001703_25700', 'similar_pi': '1000000461_1477576'}, {'similarity': 0.6683, 'master_pi': '1000001703_25700', 'similar_pi': '1000005892_51661'}, {'similarity': 0.6683, 'master_pi': '1000001703_25700', 'similar_pi': '1000007560_2156837'}, {'similarity': 0.6675, 'master_pi': '1000001703_25700', 'similar_pi': '1000010562_243157'}, {'similarity': 0.663, 'master_pi': '1000001703_25700', 'similar_pi': '1000018657_2659678'}, {'similarity': 0.6593, 'master_pi': '1000001703_25700', 'similar_pi': '1000005870_383022'}, {'similarity': 1.0, 'master_pi': '1000009561_789018', 'similar_pi': '1000009561_789018'}, {'similarity': 0.8486, 'master_pi': '1000009561_789018', 'similar_pi': '1000005597_694815'}, {'similarity': 0.8136, 'master_pi': '1000009561_789018', 'similar_pi': '1000013499_266873'}, {'similarity': 0.7844, 'master_pi': '1000009561_789018', 'similar_pi': '1000003705_401309'}, {'similarity': 0.7589, 'master_pi': '1000009561_789018', 'similar_pi': '1000020031_4862403'}, {'similarity': 0.758, 'master_pi': '1000009561_789018', 'similar_pi': '1000004450_5156532'}, {'similarity': 0.7547, 'master_pi': '1000009561_789018', 'similar_pi': '1000004450_124311'}, {'similarity': 0.7539, 'master_pi': '1000009561_789018', 'similar_pi': '1000000489_1233988'}, {'similarity': 0.753, 'master_pi': '1000009561_789018', 'similar_pi': '1000019184_1289169'}, {'similarity': 0.7487, 'master_pi': '1000009561_789018', 'similar_pi': '1000018758_677648'}, {'similarity': 0.746, 'master_pi': '1000009561_789018', 'similar_pi': '1000005296_1707734'}, {'similarity': 0.7431, 'master_pi': '1000009561_789018', 'similar_pi': '1000019289_532754'}, {'similarity': 0.7416, 'master_pi': '1000009561_789018', 'similar_pi': '1000005736_247062'}, {'similarity': 0.741, 'master_pi': '1000009561_789018', 'similar_pi': '1000005597_3682227'}, {'similarity': 0.7392, 'master_pi': '1000009561_789018', 'similar_pi': '1000004228_2283011'}, {'similarity': 0.737, 'master_pi': '1000009561_789018', 'similar_pi': '1000005736_97051'}, {'similarity': 0.7287, 'master_pi': '1000009561_789018', 'similar_pi': '1000000489_1840753'}, {'similarity': 0.7272, 'master_pi': '1000009561_789018', 'similar_pi': '1000017573_6083989'}, {'similarity': 0.7264, 'master_pi': '1000009561_789018', 'similar_pi': '1000016965_2463103'}, {'similarity': 0.7254, 'master_pi': '1000009561_789018', 'similar_pi': '1000019645_153411'}, {'similarity': 1.0, 'master_pi': '1000001857_43282', 'similar_pi': '1000001857_43282'}, {'similarity': 0.87, 'master_pi': '1000001857_43282', 'similar_pi': '1000019446_83218'}, {'similarity': 0.8594, 'master_pi': '1000001857_43282', 'similar_pi': '1000008611_4888778'}, {'similarity': 0.8255, 'master_pi': '1000001857_43282', 'similar_pi': '1000019446_1696752'}, {'similarity': 0.7929, 'master_pi': '1000001857_43282', 'similar_pi': '1000012299_1634032'}, {'similarity': 0.7741, 'master_pi': '1000001857_43282', 'similar_pi': '1000017643_2107833'}, {'similarity': 0.7527, 'master_pi': '1000001857_43282', 'similar_pi': '1000005906_5314526'}, {'similarity': 0.7433, 'master_pi': '1000001857_43282', 'similar_pi': '1000014621_969225'}, {'similarity': 0.7402, 'master_pi': '1000001857_43282', 'similar_pi': '1000017746_269642'}, {'similarity': 0.7255, 'master_pi': '1000001857_43282', 'similar_pi': '1000005906_566835'}, {'similarity': 0.7218, 'master_pi': '1000001857_43282', 'similar_pi': '1000010410_91501'}, {'similarity': 0.7202, 'master_pi': '1000001857_43282', 'similar_pi': '1000018758_677648'}, {'similarity': 0.7027, 'master_pi': '1000001857_43282', 'similar_pi': '1000018985_2432765'}, {'similarity': 0.7018, 'master_pi': '1000001857_43282', 'similar_pi': '1000008611_1387665'}, {'similarity': 0.7004, 'master_pi': '1000001857_43282', 'similar_pi': '1000019470_694708'}, {'similarity': 0.6986, 'master_pi': '1000001857_43282', 'similar_pi': '1000017746_1101388'}, {'similarity': 0.6925, 'master_pi': '1000001857_43282', 'similar_pi': '1000015900_7056763'}, {'similarity': 0.6871, 'master_pi': '1000001857_43282', 'similar_pi': '1000012299_648800'}, {'similarity': 0.6804, 'master_pi': '1000001857_43282', 'similar_pi': '1000018015_2282093'}, {'similarity': 0.6803, 'master_pi': '1000001857_43282', 'similar_pi': '1000004228_2283011'}, {'similarity': 1.0, 'master_pi': '1000016486_98843', 'similar_pi': '1000016486_98843'}, {'similarity': 0.7649, 'master_pi': '1000016486_98843', 'similar_pi': '1000005870_333655'}, {'similarity': 0.7585, 'master_pi': '1000016486_98843', 'similar_pi': '1000016486_11905'}, {'similarity': 0.7509, 'master_pi': '1000016486_98843', 'similar_pi': '1000005870_383022'}, {'similarity': 0.7413, 'master_pi': '1000016486_98843', 'similar_pi': '1000006044_506650'}, {'similarity': 0.7391, 'master_pi': '1000016486_98843', 'similar_pi': '1000010562_243157'}, {'similarity': 0.7356, 'master_pi': '1000016486_98843', 'similar_pi': '1000009316_1097863'}, {'similarity': 0.7338, 'master_pi': '1000016486_98843', 'similar_pi': '1000006551_2617141'}, {'similarity': 0.7327, 'master_pi': '1000016486_98843', 'similar_pi': '1000009581_2980680'}, {'similarity': 0.7306, 'master_pi': '1000016486_98843', 'similar_pi': '1000005436_61494'}, {'similarity': 0.7287, 'master_pi': '1000016486_98843', 'similar_pi': '1000019142_3250699'}, {'similarity': 0.7274, 'master_pi': '1000016486_98843', 'similar_pi': '1000013443_1330468'}, {'similarity': 0.7241, 'master_pi': '1000016486_98843', 'similar_pi': '1000014300_328844'}, {'similarity': 0.7236, 'master_pi': '1000016486_98843', 'similar_pi': '1000005892_51661'}, {'similarity': 0.7211, 'master_pi': '1000016486_98843', 'similar_pi': '1000005352_4375297'}, {'similarity': 0.7197, 'master_pi': '1000016486_98843', 'similar_pi': '1000013443_39966'}, {'similarity': 0.7171, 'master_pi': '1000016486_98843', 'similar_pi': '1000015780_542711'}, {'similarity': 0.7165, 'master_pi': '1000016486_98843', 'similar_pi': '1000007158_205545'}, {'similarity': 0.7163, 'master_pi': '1000016486_98843', 'similar_pi': '1000019645_85406'}, {'similarity': 0.7154, 'master_pi': '1000016486_98843', 'similar_pi': '1000002181_2051334'}, {'similarity': 1.0, 'master_pi': '1000018657_2181570', 'similar_pi': '1000018657_2181570'}, {'similarity': 0.7702, 'master_pi': '1000018657_2181570', 'similar_pi': '1000003705_401309'}, {'similarity': 0.7633, 'master_pi': '1000018657_2181570', 'similar_pi': '1000006450_471043'}, {'similarity': 0.7614, 'master_pi': '1000018657_2181570', 'similar_pi': '1000002312_870273'}, {'similarity': 0.7545, 'master_pi': '1000018657_2181570', 'similar_pi': '1000007158_205545'}, {'similarity': 0.7408, 'master_pi': '1000018657_2181570', 'similar_pi': '1000018758_677648'}, {'similarity': 0.7408, 'master_pi': '1000018657_2181570', 'similar_pi': '1000009316_1097863'}, {'similarity': 0.7405, 'master_pi': '1000018657_2181570', 'similar_pi': '1000015900_7056763'}, {'similarity': 0.7403, 'master_pi': '1000018657_2181570', 'similar_pi': '1000018209_5124502'}, {'similarity': 0.7391, 'master_pi': '1000018657_2181570', 'similar_pi': '1000019289_532754'}, {'similarity': 0.7388, 'master_pi': '1000018657_2181570', 'similar_pi': '1000005736_247062'}, {'similarity': 0.7374, 'master_pi': '1000018657_2181570', 'similar_pi': '1000019289_79232'}, {'similarity': 0.7359, 'master_pi': '1000018657_2181570', 'similar_pi': '1000014826_1410870'}, {'similarity': 0.7314, 'master_pi': '1000018657_2181570', 'similar_pi': '1000018209_245768'}, {'similarity': 0.731, 'master_pi': '1000018657_2181570', 'similar_pi': '1000006044_506650'}, {'similarity': 0.7292, 'master_pi': '1000018657_2181570', 'similar_pi': '1000005597_694815'}, {'similarity': 0.7283, 'master_pi': '1000018657_2181570', 'similar_pi': '1000006551_2617141'}, {'similarity': 0.7258, 'master_pi': '1000018657_2181570', 'similar_pi': '1000019295_5683365'}, {'similarity': 0.7252, 'master_pi': '1000018657_2181570', 'similar_pi': '1000006044_257220'}, {'similarity': 0.7252, 'master_pi': '1000018657_2181570', 'similar_pi': '1000006044_1790440'}, {'similarity': 1.0, 'master_pi': '1000014100_424852', 'similar_pi': '1000014100_424852'}, {'similarity': 0.8338, 'master_pi': '1000014100_424852', 'similar_pi': '1000014148_250654'}, {'similarity': 0.8015, 'master_pi': '1000014100_424852', 'similar_pi': '1000014300_328844'}, {'similarity': 0.7824, 'master_pi': '1000014100_424852', 'similar_pi': '1000014148_53965'}, {'similarity': 0.7618, 'master_pi': '1000014100_424852', 'similar_pi': '1000004298_413764'}, {'similarity': 0.7615, 'master_pi': '1000014100_424852', 'similar_pi': '1000004228_590464'}, {'similarity': 0.7502, 'master_pi': '1000014100_424852', 'similar_pi': '1000005352_1407342'}, {'similarity': 0.7408, 'master_pi': '1000014100_424852', 'similar_pi': '1000016965_2463103'}, {'similarity': 0.7347, 'master_pi': '1000014100_424852', 'similar_pi': '1000001589_47962'}, {'similarity': 0.7329, 'master_pi': '1000014100_424852', 'similar_pi': '1000005352_1196207'}, {'similarity': 0.7309, 'master_pi': '1000014100_424852', 'similar_pi': '1000001589_687231'}, {'similarity': 0.7254, 'master_pi': '1000014100_424852', 'similar_pi': '1000015780_470187'}, {'similarity': 0.7201, 'master_pi': '1000014100_424852', 'similar_pi': '1000020751_1093721'}, {'similarity': 0.7195, 'master_pi': '1000014100_424852', 'similar_pi': '1000001703_50950'}, {'similarity': 0.7183, 'master_pi': '1000014100_424852', 'similar_pi': '1000007560_3022186'}, {'similarity': 0.7183, 'master_pi': '1000014100_424852', 'similar_pi': '1000014300_554766'}, {'similarity': 0.7182, 'master_pi': '1000014100_424852', 'similar_pi': '1000009581_1156993'}, {'similarity': 0.7165, 'master_pi': '1000014100_424852', 'similar_pi': '1000010562_39641'}, {'similarity': 0.7109, 'master_pi': '1000014100_424852', 'similar_pi': '1000013443_501818'}, {'similarity': 0.7062, 'master_pi': '1000014100_424852', 'similar_pi': '1000002181_2142942'}, {'similarity': 1.0, 'master_pi': '1000007158_205545', 'similar_pi': '1000007158_205545'}, {'similarity': 0.8054, 'master_pi': '1000007158_205545', 'similar_pi': '1000003705_401309'}, {'similarity': 0.7979, 'master_pi': '1000007158_205545', 'similar_pi': '1000009316_1097863'}, {'similarity': 0.7836, 'master_pi': '1000007158_205545', 'similar_pi': '1000008134_777401'}, {'similarity': 0.7827, 'master_pi': '1000007158_205545', 'similar_pi': '1000020031_4862403'}, {'similarity': 0.7545, 'master_pi': '1000007158_205545', 'similar_pi': '1000018657_2181570'}, {'similarity': 0.7456, 'master_pi': '1000007158_205545', 'similar_pi': '1000020743_5730464'}, {'similarity': 0.7446, 'master_pi': '1000007158_205545', 'similar_pi': '1000005597_694815'}, {'similarity': 0.7442, 'master_pi': '1000007158_205545', 'similar_pi': '1000015780_507181'}, {'similarity': 0.7425, 'master_pi': '1000007158_205545', 'similar_pi': '1000009316_643631'}, {'similarity': 0.7421, 'master_pi': '1000007158_205545', 'similar_pi': '1000005296_1707734'}, {'similarity': 0.7417, 'master_pi': '1000007158_205545', 'similar_pi': '1000000461_543504'}, {'similarity': 0.7413, 'master_pi': '1000007158_205545', 'similar_pi': '1000005436_61494'}, {'similarity': 0.7375, 'master_pi': '1000007158_205545', 'similar_pi': '1000006044_257220'}, {'similarity': 0.7342, 'master_pi': '1000007158_205545', 'similar_pi': '1000013499_266873'}, {'similarity': 0.7239, 'master_pi': '1000007158_205545', 'similar_pi': '1000019289_532754'}, {'similarity': 0.7232, 'master_pi': '1000007158_205545', 'similar_pi': '1000014204_202327'}, {'similarity': 0.7211, 'master_pi': '1000007158_205545', 'similar_pi': '1000002619_80272'}, {'similarity': 0.721, 'master_pi': '1000007158_205545', 'similar_pi': '1000005736_247062'}, {'similarity': 0.7203, 'master_pi': '1000007158_205545', 'similar_pi': '1000006044_1790440'}, {'similarity': 1.0, 'master_pi': '1000003633_762512', 'similar_pi': '1000003633_762512'}, {'similarity': 0.6973, 'master_pi': '1000003633_762512', 'similar_pi': '1000003705_401309'}, {'similarity': 0.6784, 'master_pi': '1000003633_762512', 'similar_pi': '1000005597_1527063'}, {'similarity': 0.6775, 'master_pi': '1000003633_762512', 'similar_pi': '1000020743_162205'}, {'similarity': 0.6689, 'master_pi': '1000003633_762512', 'similar_pi': '1000013499_266873'}, {'similarity': 0.6429, 'master_pi': '1000003633_762512', 'similar_pi': '1000005736_247062'}, {'similarity': 0.6389, 'master_pi': '1000003633_762512', 'similar_pi': '1000007158_205545'}, {'similarity': 0.6355, 'master_pi': '1000003633_762512', 'similar_pi': '1000007560_2156837'}, {'similarity': 0.632, 'master_pi': '1000003633_762512', 'similar_pi': '1000009316_1097863'}, {'similarity': 0.6304, 'master_pi': '1000003633_762512', 'similar_pi': '1000009561_789018'}, {'similarity': 0.6284, 'master_pi': '1000003633_762512', 'similar_pi': '1000008134_777401'}, {'similarity': 0.6192, 'master_pi': '1000003633_762512', 'similar_pi': '1000013443_1330468'}, {'similarity': 0.6146, 'master_pi': '1000003633_762512', 'similar_pi': '1000010562_243157'}, {'similarity': 0.6138, 'master_pi': '1000003633_762512', 'similar_pi': '1000007158_259317'}, {'similarity': 0.6116, 'master_pi': '1000003633_762512', 'similar_pi': '1000014300_328844'}, {'similarity': 0.6068, 'master_pi': '1000003633_762512', 'similar_pi': '1000004450_3547066'}, {'similarity': 0.6062, 'master_pi': '1000003633_762512', 'similar_pi': '1000020031_4862403'}, {'similarity': 0.6043, 'master_pi': '1000003633_762512', 'similar_pi': '1000014204_86272'}, {'similarity': 0.6018, 'master_pi': '1000003633_762512', 'similar_pi': '1000018657_2181570'}, {'similarity': 0.6001, 'master_pi': '1000003633_762512', 'similar_pi': '1000003705_426054'}, {'similarity': 1.0, 'master_pi': '1000016486_11905', 'similar_pi': '1000016486_11905'}, {'similarity': 0.8103, 'master_pi': '1000016486_11905', 'similar_pi': '1000013443_39966'}, {'similarity': 0.7767, 'master_pi': '1000016486_11905', 'similar_pi': '1000002181_2051334'}, {'similarity': 0.7764, 'master_pi': '1000016486_11905', 'similar_pi': '1000010562_243157'}, {'similarity': 0.7716, 'master_pi': '1000016486_11905', 'similar_pi': '1000005870_383022'}, {'similarity': 0.7585, 'master_pi': '1000016486_11905', 'similar_pi': '1000016486_98843'}, {'similarity': 0.7552, 'master_pi': '1000016486_11905', 'similar_pi': '1000002827_86297'}, {'similarity': 0.7489, 'master_pi': '1000016486_11905', 'similar_pi': '1000009561_612586'}, {'similarity': 0.7451, 'master_pi': '1000016486_11905', 'similar_pi': '1000015780_507181'}, {'similarity': 0.7414, 'master_pi': '1000016486_11905', 'similar_pi': '1000005296_1541795'}, {'similarity': 0.7396, 'master_pi': '1000016486_11905', 'similar_pi': '1000019645_85406'}, {'similarity': 0.7373, 'master_pi': '1000016486_11905', 'similar_pi': '1000014826_3116960'}, {'similarity': 0.7343, 'master_pi': '1000016486_11905', 'similar_pi': '1000003705_426054'}, {'similarity': 0.7296, 'master_pi': '1000016486_11905', 'similar_pi': '1000018985_556353'}, {'similarity': 0.7295, 'master_pi': '1000016486_11905', 'similar_pi': '1000014100_468821'}, {'similarity': 0.7291, 'master_pi': '1000016486_11905', 'similar_pi': '1000005352_4375297'}, {'similarity': 0.7212, 'master_pi': '1000016486_11905', 'similar_pi': '1000015780_542711'}, {'similarity': 0.721, 'master_pi': '1000016486_11905', 'similar_pi': '1000002619_80272'}, {'similarity': 0.7199, 'master_pi': '1000016486_11905', 'similar_pi': '1000004298_413764'}, {'similarity': 0.7173, 'master_pi': '1000016486_11905', 'similar_pi': '1000005870_333655'}, {'similarity': 1.0, 'master_pi': '1000017573_4670434', 'similar_pi': '1000017573_4670434'}, {'similarity': 0.7679, 'master_pi': '1000017573_4670434', 'similar_pi': '1000004450_3547066'}, {'similarity': 0.7565, 'master_pi': '1000017573_4670434', 'similar_pi': '1000007560_2156837'}, {'similarity': 0.7563, 'master_pi': '1000017573_4670434', 'similar_pi': '1000018433_1062638'}, {'similarity': 0.7538, 'master_pi': '1000017573_4670434', 'similar_pi': '1000020751_1093721'}, {'similarity': 0.7449, 'master_pi': '1000017573_4670434', 'similar_pi': '1000014148_53965'}, {'similarity': 0.7398, 'master_pi': '1000017573_4670434', 'similar_pi': '1000018433_509959'}, {'similarity': 0.7367, 'master_pi': '1000017573_4670434', 'similar_pi': '1000016282_54142'}, {'similarity': 0.7277, 'master_pi': '1000017573_4670434', 'similar_pi': '1000014204_86272'}, {'similarity': 0.7268, 'master_pi': '1000017573_4670434', 'similar_pi': '1000014300_328844'}, {'similarity': 0.7214, 'master_pi': '1000017573_4670434', 'similar_pi': '1000005892_51661'}, {'similarity': 0.6972, 'master_pi': '1000017573_4670434', 'similar_pi': '1000019645_85406'}, {'similarity': 0.6854, 'master_pi': '1000017573_4670434', 'similar_pi': '1000014300_377726'}, {'similarity': 0.6721, 'master_pi': '1000017573_4670434', 'similar_pi': '1000018483_390709'}, {'similarity': 0.6624, 'master_pi': '1000017573_4670434', 'similar_pi': '1000015780_470187'}, {'similarity': 0.654, 'master_pi': '1000017573_4670434', 'similar_pi': '1000001703_50950'}, {'similarity': 0.651, 'master_pi': '1000017573_4670434', 'similar_pi': '1000002619_11213'}, {'similarity': 0.6497, 'master_pi': '1000017573_4670434', 'similar_pi': '1000018483_271601'}, {'similarity': 0.6462, 'master_pi': '1000017573_4670434', 'similar_pi': '1000002827_86297'}, {'similarity': 0.6456, 'master_pi': '1000017573_4670434', 'similar_pi': '1000019645_49755'}, {'similarity': 1.0, 'master_pi': '1000020751_5820622', 'similar_pi': '1000020751_5820622'}, {'similarity': 0.7261, 'master_pi': '1000020751_5820622', 'similar_pi': '1000016504_191302'}, {'similarity': 0.7192, 'master_pi': '1000020751_5820622', 'similar_pi': '1000001703_12313'}, {'similarity': 0.7141, 'master_pi': '1000020751_5820622', 'similar_pi': '1000000461_2059722'}, {'similarity': 0.7066, 'master_pi': '1000020751_5820622', 'similar_pi': '1000005870_383022'}, {'similarity': 0.6865, 'master_pi': '1000020751_5820622', 'similar_pi': '1000005870_333655'}, {'similarity': 0.6571, 'master_pi': '1000020751_5820622', 'similar_pi': '1000014826_3116960'}, {'similarity': 0.648, 'master_pi': '1000020751_5820622', 'similar_pi': '1000018483_271601'}, {'similarity': 0.6351, 'master_pi': '1000020751_5820622', 'similar_pi': '1000017746_989560'}, {'similarity': 0.6326, 'master_pi': '1000020751_5820622', 'similar_pi': '1000019645_49755'}, {'similarity': 0.6301, 'master_pi': '1000020751_5820622', 'similar_pi': '1000008134_777401'}, {'similarity': 0.6283, 'master_pi': '1000020751_5820622', 'similar_pi': '1000014100_468821'}, {'similarity': 0.6059, 'master_pi': '1000020751_5820622', 'similar_pi': '1000014204_202327'}, {'similarity': 0.6019, 'master_pi': '1000020751_5820622', 'similar_pi': '1000019645_85406'}, {'similarity': 0.595, 'master_pi': '1000020751_5820622', 'similar_pi': '1000014300_377726'}, {'similarity': 0.5921, 'master_pi': '1000020751_5820622', 'similar_pi': '1000015780_542711'}, {'similarity': 0.5909, 'master_pi': '1000020751_5820622', 'similar_pi': '1000017306_1463281'}, {'similarity': 0.5885, 'master_pi': '1000020751_5820622', 'similar_pi': '1000015780_507181'}, {'similarity': 0.5877, 'master_pi': '1000020751_5820622', 'similar_pi': '1000002619_145002'}, {'similarity': 0.5874, 'master_pi': '1000020751_5820622', 'similar_pi': '1000002619_80272'}, {'similarity': 1.0, 'master_pi': '1000018209_5124502', 'similar_pi': '1000018209_5124502'}, {'similarity': 0.9413, 'master_pi': '1000018209_5124502', 'similar_pi': '1000018209_245768'}, {'similarity': 0.8489, 'master_pi': '1000018209_5124502', 'similar_pi': '1000019142_3250699'}, {'similarity': 0.8442, 'master_pi': '1000018209_5124502', 'similar_pi': '1000010562_39641'}, {'similarity': 0.8133, 'master_pi': '1000018209_5124502', 'similar_pi': '1000005352_1196207'}, {'similarity': 0.8092, 'master_pi': '1000018209_5124502', 'similar_pi': '1000015780_542711'}, {'similarity': 0.8082, 'master_pi': '1000018209_5124502', 'similar_pi': '1000002999_5720269'}, {'similarity': 0.806, 'master_pi': '1000018209_5124502', 'similar_pi': '1000015900_7056763'}, {'similarity': 0.7985, 'master_pi': '1000018209_5124502', 'similar_pi': '1000009561_612586'}, {'similarity': 0.7979, 'master_pi': '1000018209_5124502', 'similar_pi': '1000010562_243157'}, {'similarity': 0.7959, 'master_pi': '1000018209_5124502', 'similar_pi': '1000019289_532754'}, {'similarity': 0.7929, 'master_pi': '1000018209_5124502', 'similar_pi': '1000005352_4375297'}, {'similarity': 0.7828, 'master_pi': '1000018209_5124502', 'similar_pi': '1000017643_1678329'}, {'similarity': 0.7776, 'master_pi': '1000018209_5124502', 'similar_pi': '1000019289_79232'}, {'similarity': 0.7732, 'master_pi': '1000018209_5124502', 'similar_pi': '1000003705_401309'}, {'similarity': 0.7725, 'master_pi': '1000018209_5124502', 'similar_pi': '1000006420_315626'}, {'similarity': 0.77, 'master_pi': '1000018209_5124502', 'similar_pi': '1000018758_677648'}, {'similarity': 0.77, 'master_pi': '1000018209_5124502', 'similar_pi': '1000018985_109015'}, {'similarity': 0.7695, 'master_pi': '1000018209_5124502', 'similar_pi': '1000015780_507181'}, {'similarity': 0.7681, 'master_pi': '1000018209_5124502', 'similar_pi': '1000005436_61494'}, {'similarity': 1.0, 'master_pi': '1000010562_243157', 'similar_pi': '1000010562_243157'}, {'similarity': 0.8172, 'master_pi': '1000010562_243157', 'similar_pi': '1000005352_4375297'}, {'similarity': 0.8027, 'master_pi': '1000010562_243157', 'similar_pi': '1000018209_245768'}, {'similarity': 0.8016, 'master_pi': '1000010562_243157', 'similar_pi': '1000014826_3116960'}, {'similarity': 0.7995, 'master_pi': '1000010562_243157', 'similar_pi': '1000002181_2051334'}, {'similarity': 0.7979, 'master_pi': '1000010562_243157', 'similar_pi': '1000018209_5124502'}, {'similarity': 0.7973, 'master_pi': '1000010562_243157', 'similar_pi': '1000015780_542711'}, {'similarity': 0.7971, 'master_pi': '1000010562_243157', 'similar_pi': '1000014148_53965'}, {'similarity': 0.7929, 'master_pi': '1000010562_243157', 'similar_pi': '1000018985_556353'}, {'similarity': 0.7882, 'master_pi': '1000010562_243157', 'similar_pi': '1000015900_7056763'}, {'similarity': 0.7855, 'master_pi': '1000010562_243157', 'similar_pi': '1000019142_3250699'}, {'similarity': 0.7826, 'master_pi': '1000010562_243157', 'similar_pi': '1000015780_507181'}, {'similarity': 0.7823, 'master_pi': '1000010562_243157', 'similar_pi': '1000003705_401309'}, {'similarity': 0.7805, 'master_pi': '1000010562_243157', 'similar_pi': '1000019645_85406'}, {'similarity': 0.7764, 'master_pi': '1000010562_243157', 'similar_pi': '1000005352_1196207'}, {'similarity': 0.7764, 'master_pi': '1000010562_243157', 'similar_pi': '1000016486_11905'}, {'similarity': 0.7743, 'master_pi': '1000010562_243157', 'similar_pi': '1000010562_39641'}, {'similarity': 0.7709, 'master_pi': '1000010562_243157', 'similar_pi': '1000009316_1097863'}, {'similarity': 0.7693, 'master_pi': '1000010562_243157', 'similar_pi': '1000013443_39966'}, {'similarity': 0.7608, 'master_pi': '1000010562_243157', 'similar_pi': '1000002619_80272'}, {'similarity': 1.0, 'master_pi': '1000012299_648800', 'similar_pi': '1000012299_648800'}, {'similarity': 0.8309, 'master_pi': '1000012299_648800', 'similar_pi': '1000008611_1387665'}, {'similarity': 0.8181, 'master_pi': '1000012299_648800', 'similar_pi': '1000008611_4888778'}, {'similarity': 0.799, 'master_pi': '1000012299_648800', 'similar_pi': '1000000489_2395275'}, {'similarity': 0.7807, 'master_pi': '1000012299_648800', 'similar_pi': '1000018985_2432765'}, {'similarity': 0.7631, 'master_pi': '1000012299_648800', 'similar_pi': '1000001974_177901'}, {'similarity': 0.7479, 'master_pi': '1000012299_648800', 'similar_pi': '1000019446_83218'}, {'similarity': 0.7393, 'master_pi': '1000012299_648800', 'similar_pi': '1000012299_1634032'}, {'similarity': 0.7354, 'master_pi': '1000012299_648800', 'similar_pi': '1000019446_1696752'}, {'similarity': 0.6871, 'master_pi': '1000012299_648800', 'similar_pi': '1000001857_43282'}, {'similarity': 0.6834, 'master_pi': '1000012299_648800', 'similar_pi': '1000003705_296339'}, {'similarity': 0.6795, 'master_pi': '1000012299_648800', 'similar_pi': '1000019470_694708'}, {'similarity': 0.6647, 'master_pi': '1000012299_648800', 'similar_pi': '1000015900_7056763'}, {'similarity': 0.6577, 'master_pi': '1000012299_648800', 'similar_pi': '1000005906_5314526'}, {'similarity': 0.6524, 'master_pi': '1000012299_648800', 'similar_pi': '1000017643_2107833'}, {'similarity': 0.6247, 'master_pi': '1000012299_648800', 'similar_pi': '1000018015_2282093'}, {'similarity': 0.6207, 'master_pi': '1000012299_648800', 'similar_pi': '1000017746_269642'}, {'similarity': 0.6183, 'master_pi': '1000012299_648800', 'similar_pi': '1000002312_870273'}, {'similarity': 0.6092, 'master_pi': '1000012299_648800', 'similar_pi': '1000002619_286869'}, {'similarity': 0.6075, 'master_pi': '1000012299_648800', 'similar_pi': '1000004228_2283011'}, {'similarity': 1.0, 'master_pi': '1000014300_377726', 'similar_pi': '1000014300_377726'}, {'similarity': 0.7908, 'master_pi': '1000014300_377726', 'similar_pi': '1000002619_80272'}, {'similarity': 0.7793, 'master_pi': '1000014300_377726', 'similar_pi': '1000014204_202327'}, {'similarity': 0.7682, 'master_pi': '1000014300_377726', 'similar_pi': '1000005892_51661'}, {'similarity': 0.7508, 'master_pi': '1000014300_377726', 'similar_pi': '1000003705_426054'}, {'similarity': 0.7507, 'master_pi': '1000014300_377726', 'similar_pi': '1000015780_507181'}, {'similarity': 0.7483, 'master_pi': '1000014300_377726', 'similar_pi': '1000002827_86297'}, {'similarity': 0.7463, 'master_pi': '1000014300_377726', 'similar_pi': '1000014100_468821'}, {'similarity': 0.745, 'master_pi': '1000014300_377726', 'similar_pi': '1000015780_542711'}, {'similarity': 0.7446, 'master_pi': '1000014300_377726', 'similar_pi': '1000014826_3116960'}, {'similarity': 0.7375, 'master_pi': '1000014300_377726', 'similar_pi': '1000014300_328844'}, {'similarity': 0.724, 'master_pi': '1000014300_377726', 'similar_pi': '1000018433_509959'}, {'similarity': 0.7174, 'master_pi': '1000014300_377726', 'similar_pi': '1000014148_53965'}, {'similarity': 0.7141, 'master_pi': '1000014300_377726', 'similar_pi': '1000019645_85406'}, {'similarity': 0.7108, 'master_pi': '1000014300_377726', 'similar_pi': '1000001703_50950'}, {'similarity': 0.7052, 'master_pi': '1000014300_377726', 'similar_pi': '1000009561_612586'}, {'similarity': 0.7038, 'master_pi': '1000014300_377726', 'similar_pi': '1000010562_243157'}, {'similarity': 0.6976, 'master_pi': '1000014300_377726', 'similar_pi': '1000005870_383022'}, {'similarity': 0.6974, 'master_pi': '1000014300_377726', 'similar_pi': '1000009316_1097863'}, {'similarity': 0.696, 'master_pi': '1000014300_377726', 'similar_pi': '1000014204_86272'}, {'similarity': 1.0, 'master_pi': '1000016504_191302', 'similar_pi': '1000016504_191302'}, {'similarity': 0.7261, 'master_pi': '1000016504_191302', 'similar_pi': '1000020751_5820622'}, {'similarity': 0.7142, 'master_pi': '1000016504_191302', 'similar_pi': '1000019645_49755'}, {'similarity': 0.7064, 'master_pi': '1000016504_191302', 'similar_pi': '1000005870_333655'}, {'similarity': 0.7013, 'master_pi': '1000016504_191302', 'similar_pi': '1000005870_383022'}, {'similarity': 0.692, 'master_pi': '1000016504_191302', 'similar_pi': '1000017306_1463281'}, {'similarity': 0.6911, 'master_pi': '1000016504_191302', 'similar_pi': '1000001703_25700'}, {'similarity': 0.6852, 'master_pi': '1000016504_191302', 'similar_pi': '1000018483_271601'}, {'similarity': 0.6845, 'master_pi': '1000016504_191302', 'similar_pi': '1000000461_2059722'}, {'similarity': 0.6597, 'master_pi': '1000016504_191302', 'similar_pi': '1000016180_3725398'}, {'similarity': 0.655, 'master_pi': '1000016504_191302', 'similar_pi': '1000008134_777401'}, {'similarity': 0.6481, 'master_pi': '1000016504_191302', 'similar_pi': '1000005296_1541795'}, {'similarity': 0.6439, 'master_pi': '1000016504_191302', 'similar_pi': '1000009316_1097863'}, {'similarity': 0.6308, 'master_pi': '1000016504_191302', 'similar_pi': '1000009316_643631'}, {'similarity': 0.6307, 'master_pi': '1000016504_191302', 'similar_pi': '1000001703_12313'}, {'similarity': 0.6279, 'master_pi': '1000016504_191302', 'similar_pi': '1000019645_85406'}, {'similarity': 0.6261, 'master_pi': '1000016504_191302', 'similar_pi': '1000018483_390709'}, {'similarity': 0.6207, 'master_pi': '1000016504_191302', 'similar_pi': '1000014204_202327'}, {'similarity': 0.6089, 'master_pi': '1000016504_191302', 'similar_pi': '1000014100_468821'}, {'similarity': 0.603, 'master_pi': '1000016504_191302', 'similar_pi': '1000010410_415015'}, {'similarity': 1.0, 'master_pi': '1000000489_2156712', 'similar_pi': '1000000489_2156712'}, {'similarity': 0.7781, 'master_pi': '1000000489_2156712', 'similar_pi': '1000005736_475217'}, {'similarity': 0.7576, 'master_pi': '1000000489_2156712', 'similar_pi': '1000019645_153411'}, {'similarity': 0.7522, 'master_pi': '1000000489_2156712', 'similar_pi': '1000006044_257220'}, {'similarity': 0.7425, 'master_pi': '1000000489_2156712', 'similar_pi': '1000020031_4862403'}, {'similarity': 0.7377, 'master_pi': '1000000489_2156712', 'similar_pi': '1000005736_97051'}, {'similarity': 0.7363, 'master_pi': '1000000489_2156712', 'similar_pi': '1000019289_532754'}, {'similarity': 0.736, 'master_pi': '1000000489_2156712', 'similar_pi': '1000019184_1289169'}, {'similarity': 0.7307, 'master_pi': '1000000489_2156712', 'similar_pi': '1000005436_61494'}, {'similarity': 0.7275, 'master_pi': '1000000489_2156712', 'similar_pi': '1000020743_5730464'}, {'similarity': 0.7267, 'master_pi': '1000000489_2156712', 'similar_pi': '1000019295_5555657'}, {'similarity': 0.7255, 'master_pi': '1000000489_2156712', 'similar_pi': '1000006420_315626'}, {'similarity': 0.7173, 'master_pi': '1000000489_2156712', 'similar_pi': '1000016591_1260132'}, {'similarity': 0.7109, 'master_pi': '1000000489_2156712', 'similar_pi': '1000017643_1678329'}, {'similarity': 0.7105, 'master_pi': '1000000489_2156712', 'similar_pi': '1000016591_1183410'}, {'similarity': 0.7085, 'master_pi': '1000000489_2156712', 'similar_pi': '1000018657_2051415'}, {'similarity': 0.7054, 'master_pi': '1000000489_2156712', 'similar_pi': '1000005597_694815'}, {'similarity': 0.6991, 'master_pi': '1000000489_2156712', 'similar_pi': '1000014467_3872061'}, {'similarity': 0.6982, 'master_pi': '1000000489_2156712', 'similar_pi': '1000006420_369254'}, {'similarity': 0.6956, 'master_pi': '1000000489_2156712', 'similar_pi': '1000009561_789018'}, {'similarity': 1.0, 'master_pi': '1000011715_999455', 'similar_pi': '1000011715_999455'}, {'similarity': 0.8426, 'master_pi': '1000011715_999455', 'similar_pi': '1000016965_2463103'}, {'similarity': 0.7698, 'master_pi': '1000011715_999455', 'similar_pi': '1000002181_2142942'}, {'similarity': 0.765, 'master_pi': '1000011715_999455', 'similar_pi': '1000018758_677648'}, {'similarity': 0.756, 'master_pi': '1000011715_999455', 'similar_pi': '1000019142_3250699'}, {'similarity': 0.7558, 'master_pi': '1000011715_999455', 'similar_pi': '1000003705_401309'}, {'similarity': 0.7406, 'master_pi': '1000011715_999455', 'similar_pi': '1000017746_269642'}, {'similarity': 0.7388, 'master_pi': '1000011715_999455', 'similar_pi': '1000018209_5124502'}, {'similarity': 0.7366, 'master_pi': '1000011715_999455', 'similar_pi': '1000015900_7056763'}, {'similarity': 0.7218, 'master_pi': '1000011715_999455', 'similar_pi': '1000010562_39641'}, {'similarity': 0.7218, 'master_pi': '1000011715_999455', 'similar_pi': '1000010562_243157'}, {'similarity': 0.7184, 'master_pi': '1000011715_999455', 'similar_pi': '1000020743_162205'}, {'similarity': 0.7182, 'master_pi': '1000011715_999455', 'similar_pi': '1000017746_1078797'}, {'similarity': 0.7122, 'master_pi': '1000011715_999455', 'similar_pi': '1000005906_566835'}, {'similarity': 0.7105, 'master_pi': '1000011715_999455', 'similar_pi': '1000005906_5314526'}, {'similarity': 0.7098, 'master_pi': '1000011715_999455', 'similar_pi': '1000017573_6083989'}, {'similarity': 0.7092, 'master_pi': '1000011715_999455', 'similar_pi': '1000009561_789018'}, {'similarity': 0.7055, 'master_pi': '1000011715_999455', 'similar_pi': '1000001589_47962'}, {'similarity': 0.7033, 'master_pi': '1000011715_999455', 'similar_pi': '1000004228_2283011'}, {'similarity': 0.7033, 'master_pi': '1000011715_999455', 'similar_pi': '1000017643_1678329'}, {'similarity': 1.0, 'master_pi': '1000005736_97051', 'similar_pi': '1000005736_97051'}, {'similarity': 0.8144, 'master_pi': '1000005736_97051', 'similar_pi': '1000019289_532754'}, {'similarity': 0.8092, 'master_pi': '1000005736_97051', 'similar_pi': '1000019645_153411'}, {'similarity': 0.8011, 'master_pi': '1000005736_97051', 'similar_pi': '1000017018_510437'}, {'similarity': 0.7822, 'master_pi': '1000005736_97051', 'similar_pi': '1000002181_2142942'}, {'similarity': 0.7744, 'master_pi': '1000005736_97051', 'similar_pi': '1000019289_79232'}, {'similarity': 0.7723, 'master_pi': '1000005736_97051', 'similar_pi': '1000017746_269642'}, {'similarity': 0.767, 'master_pi': '1000005736_97051', 'similar_pi': '1000009561_612586'}, {'similarity': 0.7598, 'master_pi': '1000005736_97051', 'similar_pi': '1000018758_677648'}, {'similarity': 0.7577, 'master_pi': '1000005736_97051', 'similar_pi': '1000017643_1678329'}, {'similarity': 0.7575, 'master_pi': '1000005736_97051', 'similar_pi': '1000006420_369254'}, {'similarity': 0.7561, 'master_pi': '1000005736_97051', 'similar_pi': '1000005436_61494'}, {'similarity': 0.7541, 'master_pi': '1000005736_97051', 'similar_pi': '1000005736_475217'}, {'similarity': 0.7528, 'master_pi': '1000005736_97051', 'similar_pi': '1000019142_3250699'}, {'similarity': 0.7514, 'master_pi': '1000005736_97051', 'similar_pi': '1000017746_1101388'}, {'similarity': 0.7494, 'master_pi': '1000005736_97051', 'similar_pi': '1000005597_694815'}, {'similarity': 0.7472, 'master_pi': '1000005736_97051', 'similar_pi': '1000006420_315626'}, {'similarity': 0.7447, 'master_pi': '1000005736_97051', 'similar_pi': '1000017306_662524'}, {'similarity': 0.7377, 'master_pi': '1000005736_97051', 'similar_pi': '1000000489_2156712'}, {'similarity': 0.737, 'master_pi': '1000005736_97051', 'similar_pi': '1000009561_789018'}, {'similarity': 1.0, 'master_pi': '1000000461_1477576', 'similar_pi': '1000000461_1477576'}, {'similarity': 0.727, 'master_pi': '1000000461_1477576', 'similar_pi': '1000009561_612586'}, {'similarity': 0.7246, 'master_pi': '1000000461_1477576', 'similar_pi': '1000009316_643631'}, {'similarity': 0.7222, 'master_pi': '1000000461_1477576', 'similar_pi': '1000018657_2832634'}, {'similarity': 0.7127, 'master_pi': '1000000461_1477576', 'similar_pi': '1000014826_3116960'}, {'similarity': 0.709, 'master_pi': '1000000461_1477576', 'similar_pi': '1000002181_2051334'}, {'similarity': 0.7076, 'master_pi': '1000000461_1477576', 'similar_pi': '1000015780_507181'}, {'similarity': 0.7059, 'master_pi': '1000000461_1477576', 'similar_pi': '1000009316_1097863'}, {'similarity': 0.7048, 'master_pi': '1000000461_1477576', 'similar_pi': '1000005296_1541795'}, {'similarity': 0.7038, 'master_pi': '1000000461_1477576', 'similar_pi': '1000015780_542711'}, {'similarity': 0.702, 'master_pi': '1000000461_1477576', 'similar_pi': '1000002619_80272'}, {'similarity': 0.7012, 'master_pi': '1000000461_1477576', 'similar_pi': '1000017746_989560'}, {'similarity': 0.7003, 'master_pi': '1000000461_1477576', 'similar_pi': '1000010562_243157'}, {'similarity': 0.6992, 'master_pi': '1000000461_1477576', 'similar_pi': '1000019645_85406'}, {'similarity': 0.6977, 'master_pi': '1000000461_1477576', 'similar_pi': '1000016486_11905'}, {'similarity': 0.6965, 'master_pi': '1000000461_1477576', 'similar_pi': '1000005436_61494'}, {'similarity': 0.692, 'master_pi': '1000000461_1477576', 'similar_pi': '1000014204_202327'}, {'similarity': 0.6919, 'master_pi': '1000000461_1477576', 'similar_pi': '1000017306_662524'}, {'similarity': 0.6915, 'master_pi': '1000000461_1477576', 'similar_pi': '1000003705_426054'}, {'similarity': 0.6911, 'master_pi': '1000000461_1477576', 'similar_pi': '1000002827_86297'}, {'similarity': 1.0, 'master_pi': '1000005597_3682227', 'similar_pi': '1000005597_3682227'}, {'similarity': 0.8764, 'master_pi': '1000005597_3682227', 'similar_pi': '1000004450_5156532'}, {'similarity': 0.8316, 'master_pi': '1000005597_3682227', 'similar_pi': '1000015900_7056763'}, {'similarity': 0.8154, 'master_pi': '1000005597_3682227', 'similar_pi': '1000016910_905983'}, {'similarity': 0.8115, 'master_pi': '1000005597_3682227', 'similar_pi': '1000018015_2282093'}, {'similarity': 0.8097, 'master_pi': '1000005597_3682227', 'similar_pi': '1000018758_677648'}, {'similarity': 0.7989, 'master_pi': '1000005597_3682227', 'similar_pi': '1000005597_694815'}, {'similarity': 0.7904, 'master_pi': '1000005597_3682227', 'similar_pi': '1000004298_48192'}, {'similarity': 0.7854, 'master_pi': '1000005597_3682227', 'similar_pi': '1000005296_1707734'}, {'similarity': 0.7723, 'master_pi': '1000005597_3682227', 'similar_pi': '1000000461_543504'}, {'similarity': 0.7707, 'master_pi': '1000005597_3682227', 'similar_pi': '1000017746_269642'}, {'similarity': 0.757, 'master_pi': '1000005597_3682227', 'similar_pi': '1000004228_2283011'}, {'similarity': 0.7523, 'master_pi': '1000005597_3682227', 'similar_pi': '1000000489_1233988'}, {'similarity': 0.7497, 'master_pi': '1000005597_3682227', 'similar_pi': '1000000489_1840753'}, {'similarity': 0.7467, 'master_pi': '1000005597_3682227', 'similar_pi': '1000016965_2463103'}, {'similarity': 0.7426, 'master_pi': '1000005597_3682227', 'similar_pi': '1000019446_1696752'}, {'similarity': 0.7423, 'master_pi': '1000005597_3682227', 'similar_pi': '1000010410_91501'}, {'similarity': 0.7415, 'master_pi': '1000005597_3682227', 'similar_pi': '1000002181_2142942'}, {'similarity': 0.741, 'master_pi': '1000005597_3682227', 'similar_pi': '1000009561_789018'}, {'similarity': 0.7344, 'master_pi': '1000005597_3682227', 'similar_pi': '1000013499_266873'}, {'similarity': 1.0, 'master_pi': '1000014148_53965', 'similar_pi': '1000014148_53965'}, {'similarity': 0.8264, 'master_pi': '1000014148_53965', 'similar_pi': '1000020751_1093721'}, {'similarity': 0.8201, 'master_pi': '1000014148_53965', 'similar_pi': '1000014300_328844'}, {'similarity': 0.8068, 'master_pi': '1000014148_53965', 'similar_pi': '1000019645_85406'}, {'similarity': 0.7971, 'master_pi': '1000014148_53965', 'similar_pi': '1000010562_243157'}, {'similarity': 0.7934, 'master_pi': '1000014148_53965', 'similar_pi': '1000014204_86272'}, {'similarity': 0.7922, 'master_pi': '1000014148_53965', 'similar_pi': '1000018433_509959'}, {'similarity': 0.7914, 'master_pi': '1000014148_53965', 'similar_pi': '1000014148_250654'}, {'similarity': 0.7824, 'master_pi': '1000014148_53965', 'similar_pi': '1000014100_424852'}, {'similarity': 0.7773, 'master_pi': '1000014148_53965', 'similar_pi': '1000015780_470187'}, {'similarity': 0.7695, 'master_pi': '1000014148_53965', 'similar_pi': '1000015780_542711'}, {'similarity': 0.7655, 'master_pi': '1000014148_53965', 'similar_pi': '1000019645_49755'}, {'similarity': 0.7573, 'master_pi': '1000014148_53965', 'similar_pi': '1000004450_3547066'}, {'similarity': 0.7558, 'master_pi': '1000014148_53965', 'similar_pi': '1000007560_2156837'}, {'similarity': 0.7519, 'master_pi': '1000014148_53965', 'similar_pi': '1000016180_3725398'}, {'similarity': 0.7494, 'master_pi': '1000014148_53965', 'similar_pi': '1000005352_4375297'}, {'similarity': 0.7449, 'master_pi': '1000014148_53965', 'similar_pi': '1000017573_4670434'}, {'similarity': 0.7433, 'master_pi': '1000014148_53965', 'similar_pi': '1000005352_1196207'}, {'similarity': 0.7402, 'master_pi': '1000014148_53965', 'similar_pi': '1000018433_1062638'}, {'similarity': 0.7387, 'master_pi': '1000014148_53965', 'similar_pi': '1000018209_245768'}, {'similarity': 1.0, 'master_pi': '1000014467_3872061', 'similar_pi': '1000014467_3872061'}, {'similarity': 0.7315, 'master_pi': '1000014467_3872061', 'similar_pi': '1000005736_475217'}, {'similarity': 0.7243, 'master_pi': '1000014467_3872061', 'similar_pi': '1000005736_97051'}, {'similarity': 0.7037, 'master_pi': '1000014467_3872061', 'similar_pi': '1000016591_1260132'}, {'similarity': 0.6991, 'master_pi': '1000014467_3872061', 'similar_pi': '1000000489_2156712'}, {'similarity': 0.698, 'master_pi': '1000014467_3872061', 'similar_pi': '1000019645_153411'}, {'similarity': 0.6609, 'master_pi': '1000014467_3872061', 'similar_pi': '1000019289_532754'}, {'similarity': 0.6562, 'master_pi': '1000014467_3872061', 'similar_pi': '1000017018_510437'}, {'similarity': 0.6553, 'master_pi': '1000014467_3872061', 'similar_pi': '1000006551_2617141'}, {'similarity': 0.6549, 'master_pi': '1000014467_3872061', 'similar_pi': '1000019184_1289169'}, {'similarity': 0.6538, 'master_pi': '1000014467_3872061', 'similar_pi': '1000005436_61494'}, {'similarity': 0.6533, 'master_pi': '1000014467_3872061', 'similar_pi': '1000018657_2051415'}, {'similarity': 0.6436, 'master_pi': '1000014467_3872061', 'similar_pi': '1000017981_1556417'}, {'similarity': 0.6352, 'master_pi': '1000014467_3872061', 'similar_pi': '1000009561_612586'}, {'similarity': 0.6325, 'master_pi': '1000014467_3872061', 'similar_pi': '1000003633_2146904'}, {'similarity': 0.6324, 'master_pi': '1000014467_3872061', 'similar_pi': '1000006420_369254'}, {'similarity': 0.6324, 'master_pi': '1000014467_3872061', 'similar_pi': '1000013499_266873'}, {'similarity': 0.6316, 'master_pi': '1000014467_3872061', 'similar_pi': '1000017306_662524'}, {'similarity': 0.6278, 'master_pi': '1000014467_3872061', 'similar_pi': '1000018657_2832634'}, {'similarity': 0.6229, 'master_pi': '1000014467_3872061', 'similar_pi': '1000017643_1678329'}, {'similarity': 1.0, 'master_pi': '1000020751_1093721', 'similar_pi': '1000020751_1093721'}, {'similarity': 0.8264, 'master_pi': '1000020751_1093721', 'similar_pi': '1000014148_53965'}, {'similarity': 0.8149, 'master_pi': '1000020751_1093721', 'similar_pi': '1000007560_2156837'}, {'similarity': 0.7969, 'master_pi': '1000020751_1093721', 'similar_pi': '1000014204_86272'}, {'similarity': 0.7937, 'master_pi': '1000020751_1093721', 'similar_pi': '1000015780_470187'}, {'similarity': 0.78, 'master_pi': '1000020751_1093721', 'similar_pi': '1000004450_3547066'}, {'similarity': 0.7734, 'master_pi': '1000020751_1093721', 'similar_pi': '1000014300_328844'}, {'similarity': 0.7538, 'master_pi': '1000020751_1093721', 'similar_pi': '1000017573_4670434'}, {'similarity': 0.748, 'master_pi': '1000020751_1093721', 'similar_pi': '1000016282_54142'}, {'similarity': 0.7459, 'master_pi': '1000020751_1093721', 'similar_pi': '1000005352_1196207'}, {'similarity': 0.745, 'master_pi': '1000020751_1093721', 'similar_pi': '1000015780_542711'}, {'similarity': 0.7443, 'master_pi': '1000020751_1093721', 'similar_pi': '1000010562_39641'}, {'similarity': 0.7425, 'master_pi': '1000020751_1093721', 'similar_pi': '1000019645_85406'}, {'similarity': 0.7304, 'master_pi': '1000020751_1093721', 'similar_pi': '1000018433_1062638'}, {'similarity': 0.7256, 'master_pi': '1000020751_1093721', 'similar_pi': '1000018209_245768'}, {'similarity': 0.7242, 'master_pi': '1000020751_1093721', 'similar_pi': '1000001703_50950'}, {'similarity': 0.7201, 'master_pi': '1000020751_1093721', 'similar_pi': '1000014100_424852'}, {'similarity': 0.7147, 'master_pi': '1000020751_1093721', 'similar_pi': '1000010562_243157'}, {'similarity': 0.7126, 'master_pi': '1000020751_1093721', 'similar_pi': '1000018433_509959'}, {'similarity': 0.7118, 'master_pi': '1000020751_1093721', 'similar_pi': '1000009316_1097863'}, {'similarity': 1.0, 'master_pi': '1000007560_2156837', 'similar_pi': '1000007560_2156837'}, {'similarity': 0.8149, 'master_pi': '1000007560_2156837', 'similar_pi': '1000020751_1093721'}, {'similarity': 0.8034, 'master_pi': '1000007560_2156837', 'similar_pi': '1000014204_86272'}, {'similarity': 0.7953, 'master_pi': '1000007560_2156837', 'similar_pi': '1000015780_470187'}, {'similarity': 0.795, 'master_pi': '1000007560_2156837', 'similar_pi': '1000004450_3547066'}, {'similarity': 0.7565, 'master_pi': '1000007560_2156837', 'similar_pi': '1000017573_4670434'}, {'similarity': 0.7558, 'master_pi': '1000007560_2156837', 'similar_pi': '1000014148_53965'}, {'similarity': 0.7418, 'master_pi': '1000007560_2156837', 'similar_pi': '1000015780_542711'}, {'similarity': 0.7372, 'master_pi': '1000007560_2156837', 'similar_pi': '1000016282_54142'}, {'similarity': 0.7328, 'master_pi': '1000007560_2156837', 'similar_pi': '1000007158_259317'}, {'similarity': 0.7316, 'master_pi': '1000007560_2156837', 'similar_pi': '1000018433_1062638'}, {'similarity': 0.7308, 'master_pi': '1000007560_2156837', 'similar_pi': '1000019645_85406'}, {'similarity': 0.7215, 'master_pi': '1000007560_2156837', 'similar_pi': '1000014300_328844'}, {'similarity': 0.7183, 'master_pi': '1000007560_2156837', 'similar_pi': '1000018483_271601'}, {'similarity': 0.7102, 'master_pi': '1000007560_2156837', 'similar_pi': '1000001703_50950'}, {'similarity': 0.7089, 'master_pi': '1000007560_2156837', 'similar_pi': '1000010562_39641'}, {'similarity': 0.7081, 'master_pi': '1000007560_2156837', 'similar_pi': '1000009316_1097863'}, {'similarity': 0.7042, 'master_pi': '1000007560_2156837', 'similar_pi': '1000010562_243157'}, {'similarity': 0.6983, 'master_pi': '1000007560_2156837', 'similar_pi': '1000018209_245768'}, {'similarity': 0.6865, 'master_pi': '1000007560_2156837', 'similar_pi': '1000008134_777401'}, {'similarity': 1.0, 'master_pi': '1000010562_39641', 'similar_pi': '1000010562_39641'}, {'similarity': 0.851, 'master_pi': '1000010562_39641', 'similar_pi': '1000005352_1196207'}, {'similarity': 0.8462, 'master_pi': '1000010562_39641', 'similar_pi': '1000018209_245768'}, {'similarity': 0.8442, 'master_pi': '1000010562_39641', 'similar_pi': '1000018209_5124502'}, {'similarity': 0.8158, 'master_pi': '1000010562_39641', 'similar_pi': '1000006450_418604'}, {'similarity': 0.8103, 'master_pi': '1000010562_39641', 'similar_pi': '1000019142_3250699'}, {'similarity': 0.8049, 'master_pi': '1000010562_39641', 'similar_pi': '1000005352_4375297'}, {'similarity': 0.7969, 'master_pi': '1000010562_39641', 'similar_pi': '1000003705_401309'}, {'similarity': 0.7967, 'master_pi': '1000010562_39641', 'similar_pi': '1000015780_470187'}, {'similarity': 0.7842, 'master_pi': '1000010562_39641', 'similar_pi': '1000015780_542711'}, {'similarity': 0.7817, 'master_pi': '1000010562_39641', 'similar_pi': '1000001589_254796'}, {'similarity': 0.7806, 'master_pi': '1000010562_39641', 'similar_pi': '1000017643_1678329'}, {'similarity': 0.78, 'master_pi': '1000010562_39641', 'similar_pi': '1000019289_532754'}, {'similarity': 0.7772, 'master_pi': '1000010562_39641', 'similar_pi': '1000006420_315626'}, {'similarity': 0.7758, 'master_pi': '1000010562_39641', 'similar_pi': '1000015900_7056763'}, {'similarity': 0.7747, 'master_pi': '1000010562_39641', 'similar_pi': '1000005352_3568116'}, {'similarity': 0.7743, 'master_pi': '1000010562_39641', 'similar_pi': '1000010562_243157'}, {'similarity': 0.7733, 'master_pi': '1000010562_39641', 'similar_pi': '1000009561_612586'}, {'similarity': 0.7682, 'master_pi': '1000010562_39641', 'similar_pi': '1000019289_79232'}, {'similarity': 0.7642, 'master_pi': '1000010562_39641', 'similar_pi': '1000018606_1154981'}, {'similarity': 1.0, 'master_pi': '1000016910_905983', 'similar_pi': '1000016910_905983'}, {'similarity': 0.8154, 'master_pi': '1000016910_905983', 'similar_pi': '1000005597_3682227'}, {'similarity': 0.7897, 'master_pi': '1000016910_905983', 'similar_pi': '1000004450_5156532'}, {'similarity': 0.7551, 'master_pi': '1000016910_905983', 'similar_pi': '1000000461_543504'}, {'similarity': 0.7536, 'master_pi': '1000016910_905983', 'similar_pi': '1000015900_7056763'}, {'similarity': 0.7395, 'master_pi': '1000016910_905983', 'similar_pi': '1000018015_2282093'}, {'similarity': 0.7389, 'master_pi': '1000016910_905983', 'similar_pi': '1000000489_1840753'}, {'similarity': 0.7308, 'master_pi': '1000016910_905983', 'similar_pi': '1000005296_1707734'}, {'similarity': 0.7287, 'master_pi': '1000016910_905983', 'similar_pi': '1000005597_694815'}, {'similarity': 0.7144, 'master_pi': '1000016910_905983', 'similar_pi': '1000002181_2142942'}, {'similarity': 0.7035, 'master_pi': '1000016910_905983', 'similar_pi': '1000002619_80272'}, {'similarity': 0.6988, 'master_pi': '1000016910_905983', 'similar_pi': '1000004298_48192'}, {'similarity': 0.6985, 'master_pi': '1000016910_905983', 'similar_pi': '1000000489_1233988'}, {'similarity': 0.6983, 'master_pi': '1000016910_905983', 'similar_pi': '1000015780_507181'}, {'similarity': 0.6983, 'master_pi': '1000016910_905983', 'similar_pi': '1000018657_2181570'}, {'similarity': 0.6939, 'master_pi': '1000016910_905983', 'similar_pi': '1000009561_789018'}, {'similarity': 0.689, 'master_pi': '1000016910_905983', 'similar_pi': '1000018758_677648'}, {'similarity': 0.6836, 'master_pi': '1000016910_905983', 'similar_pi': '1000004228_2283011'}, {'similarity': 0.6826, 'master_pi': '1000016910_905983', 'similar_pi': '1000004450_124311'}, {'similarity': 0.6771, 'master_pi': '1000016910_905983', 'similar_pi': '1000013499_266873'}, {'similarity': 1.0, 'master_pi': '1000018483_271601', 'similar_pi': '1000018483_271601'}, {'similarity': 0.7513, 'master_pi': '1000018483_271601', 'similar_pi': '1000019645_49755'}, {'similarity': 0.7183, 'master_pi': '1000018483_271601', 'similar_pi': '1000007560_2156837'}, {'similarity': 0.7016, 'master_pi': '1000018483_271601', 'similar_pi': '1000014204_86272'}, {'similarity': 0.7012, 'master_pi': '1000018483_271601', 'similar_pi': '1000019645_85406'}, {'similarity': 0.6852, 'master_pi': '1000018483_271601', 'similar_pi': '1000016504_191302'}, {'similarity': 0.652, 'master_pi': '1000018483_271601', 'similar_pi': '1000014300_328844'}, {'similarity': 0.65, 'master_pi': '1000018483_271601', 'similar_pi': '1000016180_3725398'}, {'similarity': 0.6499, 'master_pi': '1000018483_271601', 'similar_pi': '1000017306_1463281'}, {'similarity': 0.6497, 'master_pi': '1000018483_271601', 'similar_pi': '1000017573_4670434'}, {'similarity': 0.648, 'master_pi': '1000018483_271601', 'similar_pi': '1000020751_5820622'}, {'similarity': 0.6478, 'master_pi': '1000018483_271601', 'similar_pi': '1000001703_25700'}, {'similarity': 0.6391, 'master_pi': '1000018483_271601', 'similar_pi': '1000020751_1093721'}, {'similarity': 0.6388, 'master_pi': '1000018483_271601', 'similar_pi': '1000014148_53965'}, {'similarity': 0.6331, 'master_pi': '1000018483_271601', 'similar_pi': '1000002619_11213'}, {'similarity': 0.6327, 'master_pi': '1000018483_271601', 'similar_pi': '1000005892_51661'}, {'similarity': 0.6285, 'master_pi': '1000018483_271601', 'similar_pi': '1000018483_390709'}, {'similarity': 0.6279, 'master_pi': '1000018483_271601', 'similar_pi': '1000005870_383022'}, {'similarity': 0.6259, 'master_pi': '1000018483_271601', 'similar_pi': '1000014826_3116960'}, {'similarity': 0.6214, 'master_pi': '1000018483_271601', 'similar_pi': '1000008134_777401'}, {'similarity': 1.0, 'master_pi': '1000010562_369797', 'similar_pi': '1000010562_369797'}, {'similarity': 0.7325, 'master_pi': '1000010562_369797', 'similar_pi': '1000018433_509959'}, {'similarity': 0.6845, 'master_pi': '1000010562_369797', 'similar_pi': '1000002827_86297'}, {'similarity': 0.6799, 'master_pi': '1000010562_369797', 'similar_pi': '1000010562_243157'}, {'similarity': 0.6647, 'master_pi': '1000010562_369797', 'similar_pi': '1000002181_2051334'}, {'similarity': 0.664, 'master_pi': '1000010562_369797', 'similar_pi': '1000002999_5720269'}, {'similarity': 0.6544, 'master_pi': '1000010562_369797', 'similar_pi': '1000006450_418604'}, {'similarity': 0.6536, 'master_pi': '1000010562_369797', 'similar_pi': '1000019645_85406'}, {'similarity': 0.6535, 'master_pi': '1000010562_369797', 'similar_pi': '1000014148_53965'}, {'similarity': 0.6526, 'master_pi': '1000010562_369797', 'similar_pi': '1000018433_1083781'}, {'similarity': 0.6491, 'master_pi': '1000010562_369797', 'similar_pi': '1000002619_11213'}, {'similarity': 0.6452, 'master_pi': '1000010562_369797', 'similar_pi': '1000005352_4375297'}, {'similarity': 0.6378, 'master_pi': '1000010562_369797', 'similar_pi': '1000015780_542711'}, {'similarity': 0.6249, 'master_pi': '1000010562_369797', 'similar_pi': '1000015780_470187'}, {'similarity': 0.6197, 'master_pi': '1000010562_369797', 'similar_pi': '1000013443_39966'}, {'similarity': 0.6148, 'master_pi': '1000010562_369797', 'similar_pi': '1000016282_54142'}, {'similarity': 0.6138, 'master_pi': '1000010562_369797', 'similar_pi': '1000018657_2659678'}, {'similarity': 0.6114, 'master_pi': '1000010562_369797', 'similar_pi': '1000014148_250654'}, {'similarity': 0.608, 'master_pi': '1000010562_369797', 'similar_pi': '1000001589_47962'}, {'similarity': 0.6066, 'master_pi': '1000010562_369797', 'similar_pi': '1000010562_39641'}, {'similarity': 1.0, 'master_pi': '1000020031_4862403', 'similar_pi': '1000020031_4862403'}, {'similarity': 0.8066, 'master_pi': '1000020031_4862403', 'similar_pi': '1000005296_1707734'}, {'similarity': 0.7944, 'master_pi': '1000020031_4862403', 'similar_pi': '1000020743_5730464'}, {'similarity': 0.7936, 'master_pi': '1000020031_4862403', 'similar_pi': '1000019184_1289169'}, {'similarity': 0.7859, 'master_pi': '1000020031_4862403', 'similar_pi': '1000003705_401309'}, {'similarity': 0.7827, 'master_pi': '1000020031_4862403', 'similar_pi': '1000007158_205545'}, {'similarity': 0.7787, 'master_pi': '1000020031_4862403', 'similar_pi': '1000005436_61494'}, {'similarity': 0.7726, 'master_pi': '1000020031_4862403', 'similar_pi': '1000019289_532754'}, {'similarity': 0.7596, 'master_pi': '1000020031_4862403', 'similar_pi': '1000006044_257220'}, {'similarity': 0.7589, 'master_pi': '1000020031_4862403', 'similar_pi': '1000009561_789018'}, {'similarity': 0.7583, 'master_pi': '1000020031_4862403', 'similar_pi': '1000013499_266873'}, {'similarity': 0.7568, 'master_pi': '1000020031_4862403', 'similar_pi': '1000005736_475217'}, {'similarity': 0.7519, 'master_pi': '1000020031_4862403', 'similar_pi': '1000005597_694815'}, {'similarity': 0.7489, 'master_pi': '1000020031_4862403', 'similar_pi': '1000010562_39641'}, {'similarity': 0.7485, 'master_pi': '1000020031_4862403', 'similar_pi': '1000017306_662524'}, {'similarity': 0.7467, 'master_pi': '1000020031_4862403', 'similar_pi': '1000019446_1373376'}, {'similarity': 0.744, 'master_pi': '1000020031_4862403', 'similar_pi': '1000019645_153411'}, {'similarity': 0.743, 'master_pi': '1000020031_4862403', 'similar_pi': '1000006420_315626'}, {'similarity': 0.7425, 'master_pi': '1000020031_4862403', 'similar_pi': '1000000489_2156712'}, {'similarity': 0.7406, 'master_pi': '1000020031_4862403', 'similar_pi': '1000009316_1097863'}, {'similarity': 1.0, 'master_pi': '1000006450_418604', 'similar_pi': '1000006450_418604'}, {'similarity': 0.8158, 'master_pi': '1000006450_418604', 'similar_pi': '1000010562_39641'}, {'similarity': 0.7857, 'master_pi': '1000006450_418604', 'similar_pi': '1000005352_4375297'}, {'similarity': 0.7853, 'master_pi': '1000006450_418604', 'similar_pi': '1000012591_283383'}, {'similarity': 0.7729, 'master_pi': '1000006450_418604', 'similar_pi': '1000018606_927886'}, {'similarity': 0.7644, 'master_pi': '1000006450_418604', 'similar_pi': '1000003633_2146904'}, {'similarity': 0.7634, 'master_pi': '1000006450_418604', 'similar_pi': '1000019142_3250699'}, {'similarity': 0.7614, 'master_pi': '1000006450_418604', 'similar_pi': '1000003705_401309'}, {'similarity': 0.7607, 'master_pi': '1000006450_418604', 'similar_pi': '1000020717_360154'}, {'similarity': 0.7605, 'master_pi': '1000006450_418604', 'similar_pi': '1000005450_974152'}, {'similarity': 0.7546, 'master_pi': '1000006450_418604', 'similar_pi': '1000018209_5124502'}, {'similarity': 0.7514, 'master_pi': '1000006450_418604', 'similar_pi': '1000001589_254796'}, {'similarity': 0.7424, 'master_pi': '1000006450_418604', 'similar_pi': '1000005352_3568116'}, {'similarity': 0.7415, 'master_pi': '1000006450_418604', 'similar_pi': '1000019142_645646'}, {'similarity': 0.7375, 'master_pi': '1000006450_418604', 'similar_pi': '1000017643_1678329'}, {'similarity': 0.7347, 'master_pi': '1000006450_418604', 'similar_pi': '1000018657_2051415'}, {'similarity': 0.7245, 'master_pi': '1000006450_418604', 'similar_pi': '1000018209_245768'}, {'similarity': 0.7208, 'master_pi': '1000006450_418604', 'similar_pi': '1000005352_1196207'}, {'similarity': 0.7198, 'master_pi': '1000006450_418604', 'similar_pi': '1000018433_119097'}, {'similarity': 0.719, 'master_pi': '1000006450_418604', 'similar_pi': '1000018606_1154981'}, {'similarity': 1.0, 'master_pi': '1000005906_566835', 'similar_pi': '1000005906_566835'}, {'similarity': 0.8634, 'master_pi': '1000005906_566835', 'similar_pi': '1000017573_6083989'}, {'similarity': 0.816, 'master_pi': '1000005906_566835', 'similar_pi': '1000002181_2142942'}, {'similarity': 0.8033, 'master_pi': '1000005906_566835', 'similar_pi': '1000018758_677648'}, {'similarity': 0.7976, 'master_pi': '1000005906_566835', 'similar_pi': '1000017746_1101388'}, {'similarity': 0.787, 'master_pi': '1000005906_566835', 'similar_pi': '1000017746_269642'}, {'similarity': 0.7755, 'master_pi': '1000005906_566835', 'similar_pi': '1000006450_471043'}, {'similarity': 0.774, 'master_pi': '1000005906_566835', 'similar_pi': '1000016965_2463103'}, {'similarity': 0.7527, 'master_pi': '1000005906_566835', 'similar_pi': '1000005736_247062'}, {'similarity': 0.7499, 'master_pi': '1000005906_566835', 'similar_pi': '1000005906_5314526'}, {'similarity': 0.7389, 'master_pi': '1000005906_566835', 'similar_pi': '1000019295_5683365'}, {'similarity': 0.7385, 'master_pi': '1000005906_566835', 'similar_pi': '1000006044_2941495'}, {'similarity': 0.7288, 'master_pi': '1000005906_566835', 'similar_pi': '1000002312_870273'}, {'similarity': 0.7255, 'master_pi': '1000005906_566835', 'similar_pi': '1000001857_43282'}, {'similarity': 0.724, 'master_pi': '1000005906_566835', 'similar_pi': '1000013499_266873'}, {'similarity': 0.7201, 'master_pi': '1000005906_566835', 'similar_pi': '1000000461_1328228'}, {'similarity': 0.7153, 'master_pi': '1000005906_566835', 'similar_pi': '1000014621_969225'}, {'similarity': 0.7124, 'master_pi': '1000005906_566835', 'similar_pi': '1000006044_506650'}, {'similarity': 0.7122, 'master_pi': '1000005906_566835', 'similar_pi': '1000011715_999455'}, {'similarity': 0.7073, 'master_pi': '1000005906_566835', 'similar_pi': '1000019446_1696752'}, {'similarity': 1.0, 'master_pi': '1000017746_269642', 'similar_pi': '1000017746_269642'}, {'similarity': 0.9037, 'master_pi': '1000017746_269642', 'similar_pi': '1000017746_1101388'}, {'similarity': 0.8934, 'master_pi': '1000017746_269642', 'similar_pi': '1000018758_677648'}, {'similarity': 0.8365, 'master_pi': '1000017746_269642', 'similar_pi': '1000002181_2142942'}, {'similarity': 0.8354, 'master_pi': '1000017746_269642', 'similar_pi': '1000015900_7056763'}, {'similarity': 0.7983, 'master_pi': '1000017746_269642', 'similar_pi': '1000016965_2463103'}, {'similarity': 0.7894, 'master_pi': '1000017746_269642', 'similar_pi': '1000009561_612586'}, {'similarity': 0.787, 'master_pi': '1000017746_269642', 'similar_pi': '1000005906_566835'}, {'similarity': 0.7853, 'master_pi': '1000017746_269642', 'similar_pi': '1000006450_471043'}, {'similarity': 0.7846, 'master_pi': '1000017746_269642', 'similar_pi': '1000017018_510437'}, {'similarity': 0.7747, 'master_pi': '1000017746_269642', 'similar_pi': '1000010410_91501'}, {'similarity': 0.7723, 'master_pi': '1000017746_269642', 'similar_pi': '1000005736_97051'}, {'similarity': 0.7707, 'master_pi': '1000017746_269642', 'similar_pi': '1000005597_3682227'}, {'similarity': 0.7678, 'master_pi': '1000017746_269642', 'similar_pi': '1000007560_3022186'}, {'similarity': 0.767, 'master_pi': '1000017746_269642', 'similar_pi': '1000002619_286869'}, {'similarity': 0.7669, 'master_pi': '1000017746_269642', 'similar_pi': '1000005906_5314526'}, {'similarity': 0.7614, 'master_pi': '1000017746_269642', 'similar_pi': '1000000461_1328228'}, {'similarity': 0.7604, 'master_pi': '1000017746_269642', 'similar_pi': '1000002312_870273'}, {'similarity': 0.7572, 'master_pi': '1000017746_269642', 'similar_pi': '1000018209_5124502'}, {'similarity': 0.7565, 'master_pi': '1000017746_269642', 'similar_pi': '1000001589_47962'}, {'similarity': 1.0, 'master_pi': '1000014100_468821', 'similar_pi': '1000014100_468821'}, {'similarity': 0.8152, 'master_pi': '1000014100_468821', 'similar_pi': '1000014204_43504'}, {'similarity': 0.7903, 'master_pi': '1000014100_468821', 'similar_pi': '1000014204_202327'}, {'similarity': 0.756, 'master_pi': '1000014100_468821', 'similar_pi': '1000002619_145002'}, {'similarity': 0.7541, 'master_pi': '1000014100_468821', 'similar_pi': '1000005870_383022'}, {'similarity': 0.7539, 'master_pi': '1000014100_468821', 'similar_pi': '1000002619_80272'}, {'similarity': 0.7535, 'master_pi': '1000014100_468821', 'similar_pi': '1000009316_1097863'}, {'similarity': 0.7463, 'master_pi': '1000014100_468821', 'similar_pi': '1000014300_377726'}, {'similarity': 0.7418, 'master_pi': '1000014100_468821', 'similar_pi': '1000005892_51661'}, {'similarity': 0.7376, 'master_pi': '1000014100_468821', 'similar_pi': '1000000461_543504'}, {'similarity': 0.7295, 'master_pi': '1000014100_468821', 'similar_pi': '1000016486_11905'}, {'similarity': 0.7219, 'master_pi': '1000014100_468821', 'similar_pi': '1000014826_3116960'}, {'similarity': 0.7204, 'master_pi': '1000014100_468821', 'similar_pi': '1000001703_50950'}, {'similarity': 0.7183, 'master_pi': '1000014100_468821', 'similar_pi': '1000014300_328844'}, {'similarity': 0.7139, 'master_pi': '1000014100_468821', 'similar_pi': '1000005870_333655'}, {'similarity': 0.7139, 'master_pi': '1000014100_468821', 'similar_pi': '1000010562_243157'}, {'similarity': 0.7112, 'master_pi': '1000014100_468821', 'similar_pi': '1000018985_556353'}, {'similarity': 0.7087, 'master_pi': '1000014100_468821', 'similar_pi': '1000009316_643631'}, {'similarity': 0.7075, 'master_pi': '1000014100_468821', 'similar_pi': '1000008134_777401'}, {'similarity': 0.7048, 'master_pi': '1000014100_468821', 'similar_pi': '1000015780_507181'}, {'similarity': 1.0, 'master_pi': '1000019035_1436324', 'similar_pi': '1000019035_1436324'}, {'similarity': 0.7978, 'master_pi': '1000019035_1436324', 'similar_pi': '1000006972_5289779'}, {'similarity': 0.7655, 'master_pi': '1000019035_1436324', 'similar_pi': '1000019035_1240668'}, {'similarity': 0.7566, 'master_pi': '1000019035_1436324', 'similar_pi': '1000016486_233723'}, {'similarity': 0.7557, 'master_pi': '1000019035_1436324', 'similar_pi': '1000009581_2980680'}, {'similarity': 0.7525, 'master_pi': '1000019035_1436324', 'similar_pi': '1000006044_506650'}, {'similarity': 0.7456, 'master_pi': '1000019035_1436324', 'similar_pi': '1000006972_589055'}, {'similarity': 0.7259, 'master_pi': '1000019035_1436324', 'similar_pi': '1000006044_2941495'}, {'similarity': 0.7191, 'master_pi': '1000019035_1436324', 'similar_pi': '1000006044_257220'}, {'similarity': 0.7166, 'master_pi': '1000019035_1436324', 'similar_pi': '1000006420_451109'}, {'similarity': 0.7108, 'master_pi': '1000019035_1436324', 'similar_pi': '1000007158_205545'}, {'similarity': 0.6966, 'master_pi': '1000019035_1436324', 'similar_pi': '1000005736_247062'}, {'similarity': 0.6915, 'master_pi': '1000019035_1436324', 'similar_pi': '1000020743_5730464'}, {'similarity': 0.6859, 'master_pi': '1000019035_1436324', 'similar_pi': '1000006044_1790440'}, {'similarity': 0.6732, 'master_pi': '1000019035_1436324', 'similar_pi': '1000003705_401309'}, {'similarity': 0.6718, 'master_pi': '1000019035_1436324', 'similar_pi': '1000006551_2617141'}, {'similarity': 0.6705, 'master_pi': '1000019035_1436324', 'similar_pi': '1000020031_4862403'}, {'similarity': 0.6704, 'master_pi': '1000019035_1436324', 'similar_pi': '1000014826_3089051'}, {'similarity': 0.6678, 'master_pi': '1000019035_1436324', 'similar_pi': '1000008134_777401'}, {'similarity': 0.6651, 'master_pi': '1000019035_1436324', 'similar_pi': '1000016591_1183410'}, {'similarity': 1.0, 'master_pi': '1000001703_12313', 'similar_pi': '1000001703_12313'}, {'similarity': 0.7192, 'master_pi': '1000001703_12313', 'similar_pi': '1000020751_5820622'}, {'similarity': 0.6666, 'master_pi': '1000001703_12313', 'similar_pi': '1000005870_333655'}, {'similarity': 0.6539, 'master_pi': '1000001703_12313', 'similar_pi': '1000005870_383022'}, {'similarity': 0.639, 'master_pi': '1000001703_12313', 'similar_pi': '1000014100_468821'}, {'similarity': 0.6307, 'master_pi': '1000001703_12313', 'similar_pi': '1000016504_191302'}, {'similarity': 0.6203, 'master_pi': '1000001703_12313', 'similar_pi': '1000001703_43700'}, {'similarity': 0.5943, 'master_pi': '1000001703_12313', 'similar_pi': '1000000461_2059722'}, {'similarity': 0.5875, 'master_pi': '1000001703_12313', 'similar_pi': '1000014204_202327'}, {'similarity': 0.5702, 'master_pi': '1000001703_12313', 'similar_pi': '1000017746_989560'}, {'similarity': 0.5533, 'master_pi': '1000001703_12313', 'similar_pi': '1000008134_777401'}, {'similarity': 0.5474, 'master_pi': '1000001703_12313', 'similar_pi': '1000019645_49755'}, {'similarity': 0.5401, 'master_pi': '1000001703_12313', 'similar_pi': '1000010410_415015'}, {'similarity': 0.5352, 'master_pi': '1000001703_12313', 'similar_pi': '1000017306_1463281'}, {'similarity': 0.5307, 'master_pi': '1000001703_12313', 'similar_pi': '1000005892_51661'}, {'similarity': 0.5275, 'master_pi': '1000001703_12313', 'similar_pi': '1000002619_145002'}, {'similarity': 0.5221, 'master_pi': '1000001703_12313', 'similar_pi': '1000014204_43504'}, {'similarity': 0.5174, 'master_pi': '1000001703_12313', 'similar_pi': '1000016180_3725398'}, {'similarity': 0.5146, 'master_pi': '1000001703_12313', 'similar_pi': '1000018483_271601'}, {'similarity': 0.5124, 'master_pi': '1000001703_12313', 'similar_pi': '1000014300_377726'}, {'similarity': 1.0, 'master_pi': '1000019184_1289169', 'similar_pi': '1000019184_1289169'}, {'similarity': 0.7936, 'master_pi': '1000019184_1289169', 'similar_pi': '1000020031_4862403'}, {'similarity': 0.7755, 'master_pi': '1000019184_1289169', 'similar_pi': '1000013499_266873'}, {'similarity': 0.7579, 'master_pi': '1000019184_1289169', 'similar_pi': '1000005296_1707734'}, {'similarity': 0.753, 'master_pi': '1000019184_1289169', 'similar_pi': '1000009561_789018'}, {'similarity': 0.7418, 'master_pi': '1000019184_1289169', 'similar_pi': '1000005736_475217'}, {'similarity': 0.7397, 'master_pi': '1000019184_1289169', 'similar_pi': '1000004450_124311'}, {'similarity': 0.7369, 'master_pi': '1000019184_1289169', 'similar_pi': '1000003705_401309'}, {'similarity': 0.736, 'master_pi': '1000019184_1289169', 'similar_pi': '1000000489_2156712'}, {'similarity': 0.7239, 'master_pi': '1000019184_1289169', 'similar_pi': '1000004450_5156532'}, {'similarity': 0.7197, 'master_pi': '1000019184_1289169', 'similar_pi': '1000019295_5555657'}, {'similarity': 0.7142, 'master_pi': '1000019184_1289169', 'similar_pi': '1000007158_205545'}, {'similarity': 0.7061, 'master_pi': '1000019184_1289169', 'similar_pi': '1000005597_694815'}, {'similarity': 0.703, 'master_pi': '1000019184_1289169', 'similar_pi': '1000005736_247062'}, {'similarity': 0.6968, 'master_pi': '1000019184_1289169', 'similar_pi': '1000020743_5730464'}, {'similarity': 0.6961, 'master_pi': '1000019184_1289169', 'similar_pi': '1000006420_315626'}, {'similarity': 0.6928, 'master_pi': '1000019184_1289169', 'similar_pi': '1000019645_153411'}, {'similarity': 0.6926, 'master_pi': '1000019184_1289169', 'similar_pi': '1000004298_48192'}, {'similarity': 0.6892, 'master_pi': '1000019184_1289169', 'similar_pi': '1000018606_1154981'}, {'similarity': 0.6846, 'master_pi': '1000019184_1289169', 'similar_pi': '1000005597_3682227'}, {'similarity': 1.0, 'master_pi': '1000015780_470187', 'similar_pi': '1000015780_470187'}, {'similarity': 0.8602, 'master_pi': '1000015780_470187', 'similar_pi': '1000015780_542711'}, {'similarity': 0.8065, 'master_pi': '1000015780_470187', 'similar_pi': '1000018209_245768'}, {'similarity': 0.7967, 'master_pi': '1000015780_470187', 'similar_pi': '1000010562_39641'}, {'similarity': 0.7953, 'master_pi': '1000015780_470187', 'similar_pi': '1000007560_2156837'}, {'similarity': 0.7937, 'master_pi': '1000015780_470187', 'similar_pi': '1000020751_1093721'}, {'similarity': 0.7773, 'master_pi': '1000015780_470187', 'similar_pi': '1000014148_53965'}, {'similarity': 0.7722, 'master_pi': '1000015780_470187', 'similar_pi': '1000007560_3022186'}, {'similarity': 0.7663, 'master_pi': '1000015780_470187', 'similar_pi': '1000018209_5124502'}, {'similarity': 0.7574, 'master_pi': '1000015780_470187', 'similar_pi': '1000018985_109015'}, {'similarity': 0.7558, 'master_pi': '1000015780_470187', 'similar_pi': '1000005352_4375297'}, {'similarity': 0.7554, 'master_pi': '1000015780_470187', 'similar_pi': '1000005352_1196207'}, {'similarity': 0.7549, 'master_pi': '1000015780_470187', 'similar_pi': '1000010562_243157'}, {'similarity': 0.7549, 'master_pi': '1000015780_470187', 'similar_pi': '1000018985_556353'}, {'similarity': 0.7529, 'master_pi': '1000015780_470187', 'similar_pi': '1000019645_85406'}, {'similarity': 0.7512, 'master_pi': '1000015780_470187', 'similar_pi': '1000005352_1407342'}, {'similarity': 0.7454, 'master_pi': '1000015780_470187', 'similar_pi': '1000014826_3116960'}, {'similarity': 0.7444, 'master_pi': '1000015780_470187', 'similar_pi': '1000002619_11213'}, {'similarity': 0.7431, 'master_pi': '1000015780_470187', 'similar_pi': '1000004450_3547066'}, {'similarity': 0.7411, 'master_pi': '1000015780_470187', 'similar_pi': '1000007158_259317'}, {'similarity': 1.0, 'master_pi': '1000009316_1097863', 'similar_pi': '1000009316_1097863'}, {'similarity': 0.8284, 'master_pi': '1000009316_1097863', 'similar_pi': '1000008134_777401'}, {'similarity': 0.8084, 'master_pi': '1000009316_1097863', 'similar_pi': '1000009316_643631'}, {'similarity': 0.7979, 'master_pi': '1000009316_1097863', 'similar_pi': '1000007158_205545'}, {'similarity': 0.7839, 'master_pi': '1000009316_1097863', 'similar_pi': '1000003705_401309'}, {'similarity': 0.7816, 'master_pi': '1000009316_1097863', 'similar_pi': '1000015780_507181'}, {'similarity': 0.7709, 'master_pi': '1000009316_1097863', 'similar_pi': '1000014204_202327'}, {'similarity': 0.7709, 'master_pi': '1000009316_1097863', 'similar_pi': '1000010562_243157'}, {'similarity': 0.7584, 'master_pi': '1000009316_1097863', 'similar_pi': '1000018209_245768'}, {'similarity': 0.7565, 'master_pi': '1000009316_1097863', 'similar_pi': '1000001703_25700'}, {'similarity': 0.7535, 'master_pi': '1000009316_1097863', 'similar_pi': '1000014100_468821'}, {'similarity': 0.7529, 'master_pi': '1000009316_1097863', 'similar_pi': '1000014300_328844'}, {'similarity': 0.7482, 'master_pi': '1000009316_1097863', 'similar_pi': '1000014826_3116960'}, {'similarity': 0.7472, 'master_pi': '1000009316_1097863', 'similar_pi': '1000005352_1196207'}, {'similarity': 0.7419, 'master_pi': '1000009316_1097863', 'similar_pi': '1000015780_542711'}, {'similarity': 0.741, 'master_pi': '1000009316_1097863', 'similar_pi': '1000005892_51661'}, {'similarity': 0.7408, 'master_pi': '1000009316_1097863', 'similar_pi': '1000018657_2181570'}, {'similarity': 0.7406, 'master_pi': '1000009316_1097863', 'similar_pi': '1000020031_4862403'}, {'similarity': 0.7404, 'master_pi': '1000009316_1097863', 'similar_pi': '1000009561_612586'}, {'similarity': 0.7375, 'master_pi': '1000009316_1097863', 'similar_pi': '1000002619_80272'}, {'similarity': 1.0, 'master_pi': '1000014621_969225', 'similar_pi': '1000014621_969225'}, {'similarity': 0.7433, 'master_pi': '1000014621_969225', 'similar_pi': '1000001857_43282'}, {'similarity': 0.7153, 'master_pi': '1000014621_969225', 'similar_pi': '1000005906_566835'}, {'similarity': 0.7072, 'master_pi': '1000014621_969225', 'similar_pi': '1000019446_83218'}, {'similarity': 0.6909, 'master_pi': '1000014621_969225', 'similar_pi': '1000017573_6083989'}, {'similarity': 0.6811, 'master_pi': '1000014621_969225', 'similar_pi': '1000019446_1696752'}, {'similarity': 0.6744, 'master_pi': '1000014621_969225', 'similar_pi': '1000018758_677648'}, {'similarity': 0.664, 'master_pi': '1000014621_969225', 'similar_pi': '1000017643_2107833'}, {'similarity': 0.6611, 'master_pi': '1000014621_969225', 'similar_pi': '1000017746_269642'}, {'similarity': 0.6519, 'master_pi': '1000014621_969225', 'similar_pi': '1000008611_4888778'}, {'similarity': 0.6514, 'master_pi': '1000014621_969225', 'similar_pi': '1000010410_91501'}, {'similarity': 0.6438, 'master_pi': '1000014621_969225', 'similar_pi': '1000002181_2142942'}, {'similarity': 0.633, 'master_pi': '1000014621_969225', 'similar_pi': '1000017746_1101388'}, {'similarity': 0.6326, 'master_pi': '1000014621_969225', 'similar_pi': '1000005906_5314526'}, {'similarity': 0.6216, 'master_pi': '1000014621_969225', 'similar_pi': '1000016965_2463103'}, {'similarity': 0.6207, 'master_pi': '1000014621_969225', 'similar_pi': '1000004450_5156532'}, {'similarity': 0.6106, 'master_pi': '1000014621_969225', 'similar_pi': '1000002312_870273'}, {'similarity': 0.6096, 'master_pi': '1000014621_969225', 'similar_pi': '1000014300_554766'}, {'similarity': 0.5971, 'master_pi': '1000014621_969225', 'similar_pi': '1000004298_48192'}, {'similarity': 0.5956, 'master_pi': '1000014621_969225', 'similar_pi': '1000012299_1634032'}, {'similarity': 1.0, 'master_pi': '1000000489_1233988', 'similar_pi': '1000000489_1233988'}, {'similarity': 0.8008, 'master_pi': '1000000489_1233988', 'similar_pi': '1000000489_1840753'}, {'similarity': 0.7539, 'master_pi': '1000000489_1233988', 'similar_pi': '1000009561_789018'}, {'similarity': 0.7523, 'master_pi': '1000000489_1233988', 'similar_pi': '1000005597_3682227'}, {'similarity': 0.7448, 'master_pi': '1000000489_1233988', 'similar_pi': '1000005597_694815'}, {'similarity': 0.7414, 'master_pi': '1000000489_1233988', 'similar_pi': '1000004450_5156532'}, {'similarity': 0.73, 'master_pi': '1000000489_1233988', 'similar_pi': '1000018758_677648'}, {'similarity': 0.7099, 'master_pi': '1000000489_1233988', 'similar_pi': '1000015900_7056763'}, {'similarity': 0.7082, 'master_pi': '1000000489_1233988', 'similar_pi': '1000004298_48192'}, {'similarity': 0.7036, 'master_pi': '1000000489_1233988', 'similar_pi': '1000013499_266873'}, {'similarity': 0.7006, 'master_pi': '1000000489_1233988', 'similar_pi': '1000005906_566835'}, {'similarity': 0.6985, 'master_pi': '1000000489_1233988', 'similar_pi': '1000016910_905983'}, {'similarity': 0.6972, 'master_pi': '1000000489_1233988', 'similar_pi': '1000019446_1696752'}, {'similarity': 0.694, 'master_pi': '1000000489_1233988', 'similar_pi': '1000017573_6083989'}, {'similarity': 0.6848, 'master_pi': '1000000489_1233988', 'similar_pi': '1000017746_269642'}, {'similarity': 0.683, 'master_pi': '1000000489_1233988', 'similar_pi': '1000004450_124311'}, {'similarity': 0.6737, 'master_pi': '1000000489_1233988', 'similar_pi': '1000018657_2181570'}, {'similarity': 0.6718, 'master_pi': '1000000489_1233988', 'similar_pi': '1000002181_2142942'}, {'similarity': 0.6705, 'master_pi': '1000000489_1233988', 'similar_pi': '1000006450_471043'}, {'similarity': 0.6664, 'master_pi': '1000000489_1233988', 'similar_pi': '1000010410_91501'}, {'similarity': 1.0, 'master_pi': '1000005736_475217', 'similar_pi': '1000005736_475217'}, {'similarity': 0.7873, 'master_pi': '1000005736_475217', 'similar_pi': '1000019645_153411'}, {'similarity': 0.7781, 'master_pi': '1000005736_475217', 'similar_pi': '1000000489_2156712'}, {'similarity': 0.7623, 'master_pi': '1000005736_475217', 'similar_pi': '1000005436_61494'}, {'similarity': 0.7568, 'master_pi': '1000005736_475217', 'similar_pi': '1000020031_4862403'}, {'similarity': 0.7552, 'master_pi': '1000005736_475217', 'similar_pi': '1000019289_532754'}, {'similarity': 0.7541, 'master_pi': '1000005736_475217', 'similar_pi': '1000005736_97051'}, {'similarity': 0.7433, 'master_pi': '1000005736_475217', 'similar_pi': '1000017643_1678329'}, {'similarity': 0.7418, 'master_pi': '1000005736_475217', 'similar_pi': '1000019184_1289169'}, {'similarity': 0.7357, 'master_pi': '1000005736_475217', 'similar_pi': '1000006420_315626'}, {'similarity': 0.7344, 'master_pi': '1000005736_475217', 'similar_pi': '1000004450_5156532'}, {'similarity': 0.732, 'master_pi': '1000005736_475217', 'similar_pi': '1000005296_1707734'}, {'similarity': 0.7317, 'master_pi': '1000005736_475217', 'similar_pi': '1000019446_1373376'}, {'similarity': 0.7315, 'master_pi': '1000005736_475217', 'similar_pi': '1000014467_3872061'}, {'similarity': 0.7234, 'master_pi': '1000005736_475217', 'similar_pi': '1000005597_3682227'}, {'similarity': 0.7166, 'master_pi': '1000005736_475217', 'similar_pi': '1000019142_3250699'}, {'similarity': 0.714, 'master_pi': '1000005736_475217', 'similar_pi': '1000005597_694815'}, {'similarity': 0.7138, 'master_pi': '1000005736_475217', 'similar_pi': '1000006044_257220'}, {'similarity': 0.7095, 'master_pi': '1000005736_475217', 'similar_pi': '1000016591_1260132'}, {'similarity': 0.7083, 'master_pi': '1000005736_475217', 'similar_pi': '1000017306_662524'}, {'similarity': 1.0, 'master_pi': '1000006420_369254', 'similar_pi': '1000006420_369254'}, {'similarity': 0.8085, 'master_pi': '1000006420_369254', 'similar_pi': '1000019289_532754'}, {'similarity': 0.7913, 'master_pi': '1000006420_369254', 'similar_pi': '1000019289_79232'}, {'similarity': 0.7575, 'master_pi': '1000006420_369254', 'similar_pi': '1000005736_97051'}, {'similarity': 0.7441, 'master_pi': '1000006420_369254', 'similar_pi': '1000019645_153411'}, {'similarity': 0.7355, 'master_pi': '1000006420_369254', 'similar_pi': '1000006551_2617141'}, {'similarity': 0.7167, 'master_pi': '1000006420_369254', 'similar_pi': '1000017643_1678329'}, {'similarity': 0.7156, 'master_pi': '1000006420_369254', 'similar_pi': '1000020743_5730464'}, {'similarity': 0.7096, 'master_pi': '1000006420_369254', 'similar_pi': '1000018657_2181570'}, {'similarity': 0.7034, 'master_pi': '1000006420_369254', 'similar_pi': '1000006420_451109'}, {'similarity': 0.6996, 'master_pi': '1000006420_369254', 'similar_pi': '1000019295_5683365'}, {'similarity': 0.6982, 'master_pi': '1000006420_369254', 'similar_pi': '1000000489_2156712'}, {'similarity': 0.6958, 'master_pi': '1000006420_369254', 'similar_pi': '1000016591_1183410'}, {'similarity': 0.6947, 'master_pi': '1000006420_369254', 'similar_pi': '1000014826_1410870'}, {'similarity': 0.6943, 'master_pi': '1000006420_369254', 'similar_pi': '1000005352_3568116'}, {'similarity': 0.6942, 'master_pi': '1000006420_369254', 'similar_pi': '1000017306_662524'}, {'similarity': 0.6929, 'master_pi': '1000006420_369254', 'similar_pi': '1000019142_3250699'}, {'similarity': 0.6914, 'master_pi': '1000006420_369254', 'similar_pi': '1000006972_5289779'}, {'similarity': 0.6897, 'master_pi': '1000006420_369254', 'similar_pi': '1000006044_257220'}, {'similarity': 0.687, 'master_pi': '1000006420_369254', 'similar_pi': '1000005436_61494'}, {'similarity': 1.0, 'master_pi': '1000018433_509959', 'similar_pi': '1000018433_509959'}, {'similarity': 0.7922, 'master_pi': '1000018433_509959', 'similar_pi': '1000014148_53965'}, {'similarity': 0.7398, 'master_pi': '1000018433_509959', 'similar_pi': '1000017573_4670434'}, {'similarity': 0.7392, 'master_pi': '1000018433_509959', 'similar_pi': '1000010562_243157'}, {'similarity': 0.7325, 'master_pi': '1000018433_509959', 'similar_pi': '1000010562_369797'}, {'similarity': 0.727, 'master_pi': '1000018433_509959', 'similar_pi': '1000015780_470187'}, {'similarity': 0.7269, 'master_pi': '1000018433_509959', 'similar_pi': '1000015780_542711'}, {'similarity': 0.7251, 'master_pi': '1000018433_509959', 'similar_pi': '1000002827_86297'}, {'similarity': 0.724, 'master_pi': '1000018433_509959', 'similar_pi': '1000014300_377726'}, {'similarity': 0.7151, 'master_pi': '1000018433_509959', 'similar_pi': '1000018433_1062638'}, {'similarity': 0.7126, 'master_pi': '1000018433_509959', 'similar_pi': '1000020751_1093721'}, {'similarity': 0.7033, 'master_pi': '1000018433_509959', 'similar_pi': '1000004450_3547066'}, {'similarity': 0.702, 'master_pi': '1000018433_509959', 'similar_pi': '1000002181_2051334'}, {'similarity': 0.7011, 'master_pi': '1000018433_509959', 'similar_pi': '1000002619_11213'}, {'similarity': 0.6943, 'master_pi': '1000018433_509959', 'similar_pi': '1000019645_85406'}, {'similarity': 0.6915, 'master_pi': '1000018433_509959', 'similar_pi': '1000014204_86272'}, {'similarity': 0.6905, 'master_pi': '1000018433_509959', 'similar_pi': '1000018209_245768'}, {'similarity': 0.6865, 'master_pi': '1000018433_509959', 'similar_pi': '1000002999_5720269'}, {'similarity': 0.6863, 'master_pi': '1000018433_509959', 'similar_pi': '1000016282_54142'}, {'similarity': 0.6852, 'master_pi': '1000018433_509959', 'similar_pi': '1000003705_426054'}, {'similarity': 1.0, 'master_pi': '1000000489_2395275', 'similar_pi': '1000000489_2395275'}, {'similarity': 0.799, 'master_pi': '1000000489_2395275', 'similar_pi': '1000012299_648800'}, {'similarity': 0.7794, 'master_pi': '1000000489_2395275', 'similar_pi': '1000008611_1387665'}, {'similarity': 0.6911, 'master_pi': '1000000489_2395275', 'similar_pi': '1000006450_471043'}, {'similarity': 0.6902, 'master_pi': '1000000489_2395275', 'similar_pi': '1000018657_2181570'}, {'similarity': 0.6858, 'master_pi': '1000000489_2395275', 'similar_pi': '1000008611_4888778'}, {'similarity': 0.6747, 'master_pi': '1000000489_2395275', 'similar_pi': '1000005906_566835'}, {'similarity': 0.6702, 'master_pi': '1000000489_2395275', 'similar_pi': '1000019446_1696752'}, {'similarity': 0.6674, 'master_pi': '1000000489_2395275', 'similar_pi': '1000005736_247062'}, {'similarity': 0.6651, 'master_pi': '1000000489_2395275', 'similar_pi': '1000005450_964923'}, {'similarity': 0.6629, 'master_pi': '1000000489_2395275', 'similar_pi': '1000019446_83218'}, {'similarity': 0.6616, 'master_pi': '1000000489_2395275', 'similar_pi': '1000001974_177901'}, {'similarity': 0.6596, 'master_pi': '1000000489_2395275', 'similar_pi': '1000019470_694708'}, {'similarity': 0.658, 'master_pi': '1000000489_2395275', 'similar_pi': '1000018985_2432765'}, {'similarity': 0.6554, 'master_pi': '1000000489_2395275', 'similar_pi': '1000019295_5683365'}, {'similarity': 0.6552, 'master_pi': '1000000489_2395275', 'similar_pi': '1000003705_296339'}, {'similarity': 0.6545, 'master_pi': '1000000489_2395275', 'similar_pi': '1000013499_266873'}, {'similarity': 0.6528, 'master_pi': '1000000489_2395275', 'similar_pi': '1000002312_870273'}, {'similarity': 0.6472, 'master_pi': '1000000489_2395275', 'similar_pi': '1000003705_401309'}, {'similarity': 0.6417, 'master_pi': '1000000489_2395275', 'similar_pi': '1000001857_75766'}, {'similarity': 1.0, 'master_pi': '1000008611_4888778', 'similar_pi': '1000008611_4888778'}, {'similarity': 0.8694, 'master_pi': '1000008611_4888778', 'similar_pi': '1000019446_83218'}, {'similarity': 0.8594, 'master_pi': '1000008611_4888778', 'similar_pi': '1000001857_43282'}, {'similarity': 0.8311, 'master_pi': '1000008611_4888778', 'similar_pi': '1000012299_1634032'}, {'similarity': 0.8181, 'master_pi': '1000008611_4888778', 'similar_pi': '1000012299_648800'}, {'similarity': 0.8069, 'master_pi': '1000008611_4888778', 'similar_pi': '1000019446_1696752'}, {'similarity': 0.7842, 'master_pi': '1000008611_4888778', 'similar_pi': '1000018985_2432765'}, {'similarity': 0.7733, 'master_pi': '1000008611_4888778', 'similar_pi': '1000017643_2107833'}, {'similarity': 0.7661, 'master_pi': '1000008611_4888778', 'similar_pi': '1000008611_1387665'}, {'similarity': 0.7463, 'master_pi': '1000008611_4888778', 'similar_pi': '1000005906_5314526'}, {'similarity': 0.7305, 'master_pi': '1000008611_4888778', 'similar_pi': '1000001974_177901'}, {'similarity': 0.722, 'master_pi': '1000008611_4888778', 'similar_pi': '1000019470_694708'}, {'similarity': 0.7142, 'master_pi': '1000008611_4888778', 'similar_pi': '1000010410_91501'}, {'similarity': 0.6949, 'master_pi': '1000008611_4888778', 'similar_pi': '1000018015_2282093'}, {'similarity': 0.6924, 'master_pi': '1000008611_4888778', 'similar_pi': '1000015900_7056763'}, {'similarity': 0.6871, 'master_pi': '1000008611_4888778', 'similar_pi': '1000017746_269642'}, {'similarity': 0.6858, 'master_pi': '1000008611_4888778', 'similar_pi': '1000000489_2395275'}, {'similarity': 0.6549, 'master_pi': '1000008611_4888778', 'similar_pi': '1000018758_677648'}, {'similarity': 0.6519, 'master_pi': '1000008611_4888778', 'similar_pi': '1000014621_969225'}, {'similarity': 0.6513, 'master_pi': '1000008611_4888778', 'similar_pi': '1000004228_2283011'}, {'similarity': 1.0, 'master_pi': '1000001703_43700', 'similar_pi': '1000001703_43700'}, {'similarity': 0.6872, 'master_pi': '1000001703_43700', 'similar_pi': '1000014100_468821'}, {'similarity': 0.6794, 'master_pi': '1000001703_43700', 'similar_pi': '1000014204_43504'}, {'similarity': 0.6359, 'master_pi': '1000001703_43700', 'similar_pi': '1000013443_1454974'}, {'similarity': 0.6203, 'master_pi': '1000001703_43700', 'similar_pi': '1000001703_12313'}, {'similarity': 0.6191, 'master_pi': '1000001703_43700', 'similar_pi': '1000014204_202327'}, {'similarity': 0.6072, 'master_pi': '1000001703_43700', 'similar_pi': '1000005870_383022'}, {'similarity': 0.6004, 'master_pi': '1000001703_43700', 'similar_pi': '1000005892_51661'}, {'similarity': 0.5943, 'master_pi': '1000001703_43700', 'similar_pi': '1000016486_98843'}, {'similarity': 0.5851, 'master_pi': '1000001703_43700', 'similar_pi': '1000002619_145002'}, {'similarity': 0.5806, 'master_pi': '1000001703_43700', 'similar_pi': '1000001703_50950'}, {'similarity': 0.5753, 'master_pi': '1000001703_43700', 'similar_pi': '1000010562_243157'}, {'similarity': 0.5631, 'master_pi': '1000001703_43700', 'similar_pi': '1000016486_11905'}, {'similarity': 0.5627, 'master_pi': '1000001703_43700', 'similar_pi': '1000004298_413764'}, {'similarity': 0.5607, 'master_pi': '1000001703_43700', 'similar_pi': '1000014300_377726'}, {'similarity': 0.5591, 'master_pi': '1000001703_43700', 'similar_pi': '1000005870_333655'}, {'similarity': 0.5575, 'master_pi': '1000001703_43700', 'similar_pi': '1000018985_556353'}, {'similarity': 0.5542, 'master_pi': '1000001703_43700', 'similar_pi': '1000000461_543504'}, {'similarity': 0.5467, 'master_pi': '1000001703_43700', 'similar_pi': '1000014300_328844'}, {'similarity': 0.5465, 'master_pi': '1000001703_43700', 'similar_pi': '1000013443_501818'}, {'similarity': 1.0, 'master_pi': '1000018433_1062638', 'similar_pi': '1000018433_1062638'}, {'similarity': 0.8207, 'master_pi': '1000018433_1062638', 'similar_pi': '1000004450_3547066'}, {'similarity': 0.7563, 'master_pi': '1000018433_1062638', 'similar_pi': '1000017573_4670434'}, {'similarity': 0.7402, 'master_pi': '1000018433_1062638', 'similar_pi': '1000014148_53965'}, {'similarity': 0.7327, 'master_pi': '1000018433_1062638', 'similar_pi': '1000019645_85406'}, {'similarity': 0.7316, 'master_pi': '1000018433_1062638', 'similar_pi': '1000007560_2156837'}, {'similarity': 0.7304, 'master_pi': '1000018433_1062638', 'similar_pi': '1000020751_1093721'}, {'similarity': 0.7151, 'master_pi': '1000018433_1062638', 'similar_pi': '1000018433_509959'}, {'similarity': 0.7117, 'master_pi': '1000018433_1062638', 'similar_pi': '1000014300_328844'}, {'similarity': 0.7111, 'master_pi': '1000018433_1062638', 'similar_pi': '1000002827_86297'}, {'similarity': 0.6998, 'master_pi': '1000018433_1062638', 'similar_pi': '1000015780_470187'}, {'similarity': 0.6989, 'master_pi': '1000018433_1062638', 'similar_pi': '1000001703_50950'}, {'similarity': 0.6934, 'master_pi': '1000018433_1062638', 'similar_pi': '1000013443_501818'}, {'similarity': 0.6894, 'master_pi': '1000018433_1062638', 'similar_pi': '1000016180_3725398'}, {'similarity': 0.6889, 'master_pi': '1000018433_1062638', 'similar_pi': '1000010562_243157'}, {'similarity': 0.6852, 'master_pi': '1000018433_1062638', 'similar_pi': '1000014204_86272'}, {'similarity': 0.6839, 'master_pi': '1000018433_1062638', 'similar_pi': '1000015780_542711'}, {'similarity': 0.6751, 'master_pi': '1000018433_1062638', 'similar_pi': '1000005892_51661'}, {'similarity': 0.6735, 'master_pi': '1000018433_1062638', 'similar_pi': '1000013443_1454974'}, {'similarity': 0.6691, 'master_pi': '1000018433_1062638', 'similar_pi': '1000019645_49755'}, {'similarity': 1.0, 'master_pi': '1000019470_694708', 'similar_pi': '1000019470_694708'}, {'similarity': 0.7906, 'master_pi': '1000019470_694708', 'similar_pi': '1000017643_2107833'}, {'similarity': 0.7704, 'master_pi': '1000019470_694708', 'similar_pi': '1000002619_145002'}, {'similarity': 0.751, 'master_pi': '1000019470_694708', 'similar_pi': '1000003705_296339'}, {'similarity': 0.7487, 'master_pi': '1000019470_694708', 'similar_pi': '1000018015_2282093'}, {'similarity': 0.7454, 'master_pi': '1000019470_694708', 'similar_pi': '1000012299_1634032'}, {'similarity': 0.7425, 'master_pi': '1000019470_694708', 'similar_pi': '1000000461_543504'}, {'similarity': 0.7224, 'master_pi': '1000019470_694708', 'similar_pi': '1000015900_7056763'}, {'similarity': 0.722, 'master_pi': '1000019470_694708', 'similar_pi': '1000008611_4888778'}, {'similarity': 0.7171, 'master_pi': '1000019470_694708', 'similar_pi': '1000018985_2432765'}, {'similarity': 0.7049, 'master_pi': '1000019470_694708', 'similar_pi': '1000002619_80272'}, {'similarity': 0.7004, 'master_pi': '1000019470_694708', 'similar_pi': '1000001857_43282'}, {'similarity': 0.6994, 'master_pi': '1000019470_694708', 'similar_pi': '1000010410_91501'}, {'similarity': 0.6974, 'master_pi': '1000019470_694708', 'similar_pi': '1000019446_83218'}, {'similarity': 0.6897, 'master_pi': '1000019470_694708', 'similar_pi': '1000008611_1387665'}, {'similarity': 0.6795, 'master_pi': '1000019470_694708', 'similar_pi': '1000012299_648800'}, {'similarity': 0.6795, 'master_pi': '1000019470_694708', 'similar_pi': '1000015780_507181'}, {'similarity': 0.6773, 'master_pi': '1000019470_694708', 'similar_pi': '1000001974_177901'}, {'similarity': 0.6771, 'master_pi': '1000019470_694708', 'similar_pi': '1000002181_2051334'}, {'similarity': 0.6734, 'master_pi': '1000019470_694708', 'similar_pi': '1000017746_989560'}, {'similarity': 1.0, 'master_pi': '1000009581_2980680', 'similar_pi': '1000009581_2980680'}, {'similarity': 0.7772, 'master_pi': '1000009581_2980680', 'similar_pi': '1000006044_506650'}, {'similarity': 0.7557, 'master_pi': '1000009581_2980680', 'similar_pi': '1000019035_1436324'}, {'similarity': 0.7327, 'master_pi': '1000009581_2980680', 'similar_pi': '1000016486_98843'}, {'similarity': 0.728, 'master_pi': '1000009581_2980680', 'similar_pi': '1000013443_1330468'}, {'similarity': 0.722, 'master_pi': '1000009581_2980680', 'similar_pi': '1000006420_451109'}, {'similarity': 0.7206, 'master_pi': '1000009581_2980680', 'similar_pi': '1000005597_1527063'}, {'similarity': 0.719, 'master_pi': '1000009581_2980680', 'similar_pi': '1000019035_1240668'}, {'similarity': 0.7075, 'master_pi': '1000009581_2980680', 'similar_pi': '1000006972_5289779'}, {'similarity': 0.7032, 'master_pi': '1000009581_2980680', 'similar_pi': '1000016486_233723'}, {'similarity': 0.6909, 'master_pi': '1000009581_2980680', 'similar_pi': '1000007158_205545'}, {'similarity': 0.6846, 'master_pi': '1000009581_2980680', 'similar_pi': '1000020031_4862403'}, {'similarity': 0.6758, 'master_pi': '1000009581_2980680', 'similar_pi': '1000003705_401309'}, {'similarity': 0.6746, 'master_pi': '1000009581_2980680', 'similar_pi': '1000006044_257220'}, {'similarity': 0.6743, 'master_pi': '1000009581_2980680', 'similar_pi': '1000006044_2941495'}, {'similarity': 0.674, 'master_pi': '1000009581_2980680', 'similar_pi': '1000005736_247062'}, {'similarity': 0.6673, 'master_pi': '1000009581_2980680', 'similar_pi': '1000006972_589055'}, {'similarity': 0.6598, 'master_pi': '1000009581_2980680', 'similar_pi': '1000017643_1678329'}, {'similarity': 0.658, 'master_pi': '1000009581_2980680', 'similar_pi': '1000020743_5730464'}, {'similarity': 0.6574, 'master_pi': '1000009581_2980680', 'similar_pi': '1000006044_1790440'}, {'similarity': 1.0, 'master_pi': '1000020031_175252', 'similar_pi': '1000020031_175252'}, {'similarity': 0.7562, 'master_pi': '1000020031_175252', 'similar_pi': '1000018657_2659678'}, {'similarity': 0.7147, 'master_pi': '1000020031_175252', 'similar_pi': '1000007158_205545'}, {'similarity': 0.7142, 'master_pi': '1000020031_175252', 'similar_pi': '1000014826_3089051'}, {'similarity': 0.7097, 'master_pi': '1000020031_175252', 'similar_pi': '1000005436_61494'}, {'similarity': 0.7094, 'master_pi': '1000020031_175252', 'similar_pi': '1000018209_5124502'}, {'similarity': 0.7057, 'master_pi': '1000020031_175252', 'similar_pi': '1000002999_5720269'}, {'similarity': 0.7023, 'master_pi': '1000020031_175252', 'similar_pi': '1000009316_643631'}, {'similarity': 0.7009, 'master_pi': '1000020031_175252', 'similar_pi': '1000003705_401309'}, {'similarity': 0.7, 'master_pi': '1000020031_175252', 'similar_pi': '1000018209_245768'}, {'similarity': 0.6873, 'master_pi': '1000020031_175252', 'similar_pi': '1000020031_4862403'}, {'similarity': 0.6847, 'master_pi': '1000020031_175252', 'similar_pi': '1000009316_1097863'}, {'similarity': 0.6829, 'master_pi': '1000020031_175252', 'similar_pi': '1000019289_79232'}, {'similarity': 0.6812, 'master_pi': '1000020031_175252', 'similar_pi': '1000015780_507181'}, {'similarity': 0.6803, 'master_pi': '1000020031_175252', 'similar_pi': '1000015780_542711'}, {'similarity': 0.6788, 'master_pi': '1000020031_175252', 'similar_pi': '1000012591_283383'}, {'similarity': 0.6786, 'master_pi': '1000020031_175252', 'similar_pi': '1000017643_1678329'}, {'similarity': 0.6779, 'master_pi': '1000020031_175252', 'similar_pi': '1000009561_612586'}, {'similarity': 0.6765, 'master_pi': '1000020031_175252', 'similar_pi': '1000006044_257220'}, {'similarity': 0.6739, 'master_pi': '1000020031_175252', 'similar_pi': '1000000461_1477576'}, {'similarity': 1.0, 'master_pi': '1000017643_2107833', 'similar_pi': '1000017643_2107833'}, {'similarity': 0.8155, 'master_pi': '1000017643_2107833', 'similar_pi': '1000010410_91501'}, {'similarity': 0.7971, 'master_pi': '1000017643_2107833', 'similar_pi': '1000010410_393714'}, {'similarity': 0.7969, 'master_pi': '1000017643_2107833', 'similar_pi': '1000012299_1634032'}, {'similarity': 0.7952, 'master_pi': '1000017643_2107833', 'similar_pi': '1000018015_2282093'}, {'similarity': 0.7906, 'master_pi': '1000017643_2107833', 'similar_pi': '1000019470_694708'}, {'similarity': 0.7765, 'master_pi': '1000017643_2107833', 'similar_pi': '1000014300_554766'}, {'similarity': 0.7741, 'master_pi': '1000017643_2107833', 'similar_pi': '1000001857_43282'}, {'similarity': 0.7741, 'master_pi': '1000017643_2107833', 'similar_pi': '1000015900_7056763'}, {'similarity': 0.7733, 'master_pi': '1000017643_2107833', 'similar_pi': '1000008611_4888778'}, {'similarity': 0.757, 'master_pi': '1000017643_2107833', 'similar_pi': '1000004228_2283011'}, {'similarity': 0.7525, 'master_pi': '1000017643_2107833', 'similar_pi': '1000002619_286869'}, {'similarity': 0.7492, 'master_pi': '1000017643_2107833', 'similar_pi': '1000000461_543504'}, {'similarity': 0.7483, 'master_pi': '1000017643_2107833', 'similar_pi': '1000017746_269642'}, {'similarity': 0.7396, 'master_pi': '1000017643_2107833', 'similar_pi': '1000002181_2051334'}, {'similarity': 0.739, 'master_pi': '1000017643_2107833', 'similar_pi': '1000003705_296339'}, {'similarity': 0.733, 'master_pi': '1000017643_2107833', 'similar_pi': '1000002619_145002'}, {'similarity': 0.7302, 'master_pi': '1000017643_2107833', 'similar_pi': '1000002619_80272'}, {'similarity': 0.7281, 'master_pi': '1000017643_2107833', 'similar_pi': '1000005906_5314526'}, {'similarity': 0.7246, 'master_pi': '1000017643_2107833', 'similar_pi': '1000018985_2432765'}, {'similarity': 1.0, 'master_pi': '1000012299_1634032', 'similar_pi': '1000012299_1634032'}, {'similarity': 0.8311, 'master_pi': '1000012299_1634032', 'similar_pi': '1000008611_4888778'}, {'similarity': 0.8274, 'master_pi': '1000012299_1634032', 'similar_pi': '1000018985_2432765'}, {'similarity': 0.7969, 'master_pi': '1000012299_1634032', 'similar_pi': '1000017643_2107833'}, {'similarity': 0.7929, 'master_pi': '1000012299_1634032', 'similar_pi': '1000001857_43282'}, {'similarity': 0.7805, 'master_pi': '1000012299_1634032', 'similar_pi': '1000002619_286869'}, {'similarity': 0.7632, 'master_pi': '1000012299_1634032', 'similar_pi': '1000019446_83218'}, {'similarity': 0.7629, 'master_pi': '1000012299_1634032', 'similar_pi': '1000001974_177901'}, {'similarity': 0.7598, 'master_pi': '1000012299_1634032', 'similar_pi': '1000015900_7056763'}, {'similarity': 0.7454, 'master_pi': '1000012299_1634032', 'similar_pi': '1000019470_694708'}, {'similarity': 0.7393, 'master_pi': '1000012299_1634032', 'similar_pi': '1000012299_648800'}, {'similarity': 0.7345, 'master_pi': '1000012299_1634032', 'similar_pi': '1000008611_1387665'}, {'similarity': 0.7315, 'master_pi': '1000012299_1634032', 'similar_pi': '1000019446_1696752'}, {'similarity': 0.7314, 'master_pi': '1000012299_1634032', 'similar_pi': '1000005906_5314526'}, {'similarity': 0.7306, 'master_pi': '1000012299_1634032', 'similar_pi': '1000010410_91501'}, {'similarity': 0.7211, 'master_pi': '1000012299_1634032', 'similar_pi': '1000010410_393714'}, {'similarity': 0.7205, 'master_pi': '1000012299_1634032', 'similar_pi': '1000002312_870273'}, {'similarity': 0.7183, 'master_pi': '1000012299_1634032', 'similar_pi': '1000018015_2282093'}, {'similarity': 0.7084, 'master_pi': '1000012299_1634032', 'similar_pi': '1000017746_269642'}, {'similarity': 0.6875, 'master_pi': '1000012299_1634032', 'similar_pi': '1000004228_2283011'}, {'similarity': 1.0, 'master_pi': '1000019645_49755', 'similar_pi': '1000019645_49755'}, {'similarity': 0.8221, 'master_pi': '1000019645_49755', 'similar_pi': '1000019645_85406'}, {'similarity': 0.7855, 'master_pi': '1000019645_49755', 'similar_pi': '1000005296_1541795'}, {'similarity': 0.7755, 'master_pi': '1000019645_49755', 'similar_pi': '1000005892_51661'}, {'similarity': 0.7655, 'master_pi': '1000019645_49755', 'similar_pi': '1000014148_53965'}, {'similarity': 0.7548, 'master_pi': '1000019645_49755', 'similar_pi': '1000005870_333655'}, {'similarity': 0.7513, 'master_pi': '1000019645_49755', 'similar_pi': '1000018483_271601'}, {'similarity': 0.7495, 'master_pi': '1000019645_49755', 'similar_pi': '1000005870_383022'}, {'similarity': 0.7327, 'master_pi': '1000019645_49755', 'similar_pi': '1000001703_25700'}, {'similarity': 0.7306, 'master_pi': '1000019645_49755', 'similar_pi': '1000014300_328844'}, {'similarity': 0.7305, 'master_pi': '1000019645_49755', 'similar_pi': '1000017306_1463281'}, {'similarity': 0.7194, 'master_pi': '1000019645_49755', 'similar_pi': '1000018985_556353'}, {'similarity': 0.7142, 'master_pi': '1000019645_49755', 'similar_pi': '1000016504_191302'}, {'similarity': 0.712, 'master_pi': '1000019645_49755', 'similar_pi': '1000000461_2059722'}, {'similarity': 0.7085, 'master_pi': '1000019645_49755', 'similar_pi': '1000009316_643631'}, {'similarity': 0.7069, 'master_pi': '1000019645_49755', 'similar_pi': '1000009316_1097863'}, {'similarity': 0.7062, 'master_pi': '1000019645_49755', 'similar_pi': '1000014204_86272'}, {'similarity': 0.7017, 'master_pi': '1000019645_49755', 'similar_pi': '1000016180_3725398'}, {'similarity': 0.6993, 'master_pi': '1000019645_49755', 'similar_pi': '1000010562_243157'}, {'similarity': 0.6974, 'master_pi': '1000019645_49755', 'similar_pi': '1000015780_542711'}, {'similarity': 1.0, 'master_pi': '1000014545_2305450', 'similar_pi': '1000014545_2305450'}, {'similarity': 0.7359, 'master_pi': '1000014545_2305450', 'similar_pi': '1000014826_3089051'}, {'similarity': 0.713, 'master_pi': '1000014545_2305450', 'similar_pi': '1000014826_1410870'}, {'similarity': 0.696, 'master_pi': '1000014545_2305450', 'similar_pi': '1000005597_1527063'}, {'similarity': 0.6887, 'master_pi': '1000014545_2305450', 'similar_pi': '1000011715_999455'}, {'similarity': 0.6876, 'master_pi': '1000014545_2305450', 'similar_pi': '1000013443_1330468'}, {'similarity': 0.6824, 'master_pi': '1000014545_2305450', 'similar_pi': '1000019289_79232'}, {'similarity': 0.679, 'master_pi': '1000014545_2305450', 'similar_pi': '1000015780_542711'}, {'similarity': 0.6777, 'master_pi': '1000014545_2305450', 'similar_pi': '1000003705_401309'}, {'similarity': 0.6772, 'master_pi': '1000014545_2305450', 'similar_pi': '1000015780_470187'}, {'similarity': 0.6766, 'master_pi': '1000014545_2305450', 'similar_pi': '1000005892_84719'}, {'similarity': 0.6698, 'master_pi': '1000014545_2305450', 'similar_pi': '1000010562_243157'}, {'similarity': 0.6681, 'master_pi': '1000014545_2305450', 'similar_pi': '1000018433_1083781'}, {'similarity': 0.6603, 'master_pi': '1000014545_2305450', 'similar_pi': '1000007560_3022186'}, {'similarity': 0.6599, 'master_pi': '1000014545_2305450', 'similar_pi': '1000002619_286869'}, {'similarity': 0.6595, 'master_pi': '1000014545_2305450', 'similar_pi': '1000018657_2181570'}, {'similarity': 0.6588, 'master_pi': '1000014545_2305450', 'similar_pi': '1000017306_662524'}, {'similarity': 0.6566, 'master_pi': '1000014545_2305450', 'similar_pi': '1000002999_5720269'}, {'similarity': 0.6549, 'master_pi': '1000014545_2305450', 'similar_pi': '1000000461_1328228'}, {'similarity': 0.6543, 'master_pi': '1000014545_2305450', 'similar_pi': '1000005352_4375297'}, {'similarity': 1.0, 'master_pi': '1000018977_1853377', 'similar_pi': '1000018977_1853377'}, {'similarity': 0.6435, 'master_pi': '1000018977_1853377', 'similar_pi': '1000018606_1788990'}, {'similarity': 0.6255, 'master_pi': '1000018977_1853377', 'similar_pi': '1000016486_233723'}, {'similarity': 0.5964, 'master_pi': '1000018977_1853377', 'similar_pi': '1000001857_75766'}, {'similarity': 0.5922, 'master_pi': '1000018977_1853377', 'similar_pi': '1000019035_1436324'}, {'similarity': 0.5822, 'master_pi': '1000018977_1853377', 'similar_pi': '1000009581_2980680'}, {'similarity': 0.581, 'master_pi': '1000018977_1853377', 'similar_pi': '1000005597_1527063'}, {'similarity': 0.5582, 'master_pi': '1000018977_1853377', 'similar_pi': '1000006972_589055'}, {'similarity': 0.5572, 'master_pi': '1000018977_1853377', 'similar_pi': '1000005736_247062'}, {'similarity': 0.5494, 'master_pi': '1000018977_1853377', 'similar_pi': '1000006972_5289779'}, {'similarity': 0.5441, 'master_pi': '1000018977_1853377', 'similar_pi': '1000006044_2941495'}, {'similarity': 0.5426, 'master_pi': '1000018977_1853377', 'similar_pi': '1000013443_1330468'}, {'similarity': 0.5417, 'master_pi': '1000018977_1853377', 'similar_pi': '1000004450_3547066'}, {'similarity': 0.5342, 'master_pi': '1000018977_1853377', 'similar_pi': '1000017643_1905271'}, {'similarity': 0.5338, 'master_pi': '1000018977_1853377', 'similar_pi': '1000006044_506650'}, {'similarity': 0.5329, 'master_pi': '1000018977_1853377', 'similar_pi': '1000018657_2181570'}, {'similarity': 0.5326, 'master_pi': '1000018977_1853377', 'similar_pi': '1000014545_2305450'}, {'similarity': 0.5284, 'master_pi': '1000018977_1853377', 'similar_pi': '1000006044_1790440'}, {'similarity': 0.5276, 'master_pi': '1000018977_1853377', 'similar_pi': '1000018433_1062638'}, {'similarity': 0.5264, 'master_pi': '1000018977_1853377', 'similar_pi': '1000015780_542711'}, {'similarity': 1.0, 'master_pi': '1000009561_612586', 'similar_pi': '1000009561_612586'}, {'similarity': 0.8027, 'master_pi': '1000009561_612586', 'similar_pi': '1000015900_7056763'}, {'similarity': 0.8012, 'master_pi': '1000009561_612586', 'similar_pi': '1000019289_532754'}, {'similarity': 0.7985, 'master_pi': '1000009561_612586', 'similar_pi': '1000018209_5124502'}, {'similarity': 0.7976, 'master_pi': '1000009561_612586', 'similar_pi': '1000005436_61494'}, {'similarity': 0.7937, 'master_pi': '1000009561_612586', 'similar_pi': '1000015780_507181'}, {'similarity': 0.7894, 'master_pi': '1000009561_612586', 'similar_pi': '1000017746_269642'}, {'similarity': 0.7866, 'master_pi': '1000009561_612586', 'similar_pi': '1000018209_245768'}, {'similarity': 0.7849, 'master_pi': '1000009561_612586', 'similar_pi': '1000017746_1101388'}, {'similarity': 0.7831, 'master_pi': '1000009561_612586', 'similar_pi': '1000015780_542711'}, {'similarity': 0.7791, 'master_pi': '1000009561_612586', 'similar_pi': '1000005352_1196207'}, {'similarity': 0.7779, 'master_pi': '1000009561_612586', 'similar_pi': '1000005352_1407342'}, {'similarity': 0.7778, 'master_pi': '1000009561_612586', 'similar_pi': '1000002181_2051334'}, {'similarity': 0.7757, 'master_pi': '1000009561_612586', 'similar_pi': '1000003705_426054'}, {'similarity': 0.7733, 'master_pi': '1000009561_612586', 'similar_pi': '1000010562_39641'}, {'similarity': 0.7721, 'master_pi': '1000009561_612586', 'similar_pi': '1000019142_3250699'}, {'similarity': 0.7686, 'master_pi': '1000009561_612586', 'similar_pi': '1000014826_3116960'}, {'similarity': 0.7686, 'master_pi': '1000009561_612586', 'similar_pi': '1000018657_2832634'}, {'similarity': 0.767, 'master_pi': '1000009561_612586', 'similar_pi': '1000005736_97051'}, {'similarity': 0.7643, 'master_pi': '1000009561_612586', 'similar_pi': '1000019289_79232'}, {'similarity': 1.0, 'master_pi': '1000002619_11213', 'similar_pi': '1000002619_11213'}, {'similarity': 0.7961, 'master_pi': '1000002619_11213', 'similar_pi': '1000003705_426054'}, {'similarity': 0.7795, 'master_pi': '1000002619_11213', 'similar_pi': '1000015780_542711'}, {'similarity': 0.7621, 'master_pi': '1000002619_11213', 'similar_pi': '1000018657_1411110'}, {'similarity': 0.7444, 'master_pi': '1000002619_11213', 'similar_pi': '1000015780_470187'}, {'similarity': 0.7425, 'master_pi': '1000002619_11213', 'similar_pi': '1000019645_85406'}, {'similarity': 0.729, 'master_pi': '1000002619_11213', 'similar_pi': '1000014826_3116960'}, {'similarity': 0.7261, 'master_pi': '1000002619_11213', 'similar_pi': '1000019289_79232'}, {'similarity': 0.7216, 'master_pi': '1000002619_11213', 'similar_pi': '1000002827_86297'}, {'similarity': 0.7144, 'master_pi': '1000002619_11213', 'similar_pi': '1000006420_408794'}, {'similarity': 0.7118, 'master_pi': '1000002619_11213', 'similar_pi': '1000002619_80272'}, {'similarity': 0.7063, 'master_pi': '1000002619_11213', 'similar_pi': '1000019289_532754'}, {'similarity': 0.7011, 'master_pi': '1000002619_11213', 'similar_pi': '1000018433_509959'}, {'similarity': 0.6961, 'master_pi': '1000002619_11213', 'similar_pi': '1000014148_53965'}, {'similarity': 0.6932, 'master_pi': '1000002619_11213', 'similar_pi': '1000016282_54142'}, {'similarity': 0.6925, 'master_pi': '1000002619_11213', 'similar_pi': '1000010562_39641'}, {'similarity': 0.6909, 'master_pi': '1000002619_11213', 'similar_pi': '1000009561_612586'}, {'similarity': 0.6886, 'master_pi': '1000002619_11213', 'similar_pi': '1000018985_556353'}, {'similarity': 0.6853, 'master_pi': '1000002619_11213', 'similar_pi': '1000003705_401309'}, {'similarity': 0.6851, 'master_pi': '1000002619_11213', 'similar_pi': '1000002999_5720269'}, {'similarity': 1.0, 'master_pi': '1000018015_2282093', 'similar_pi': '1000018015_2282093'}, {'similarity': 0.8145, 'master_pi': '1000018015_2282093', 'similar_pi': '1000000461_543504'}, {'similarity': 0.8124, 'master_pi': '1000018015_2282093', 'similar_pi': '1000015900_7056763'}, {'similarity': 0.8115, 'master_pi': '1000018015_2282093', 'similar_pi': '1000005597_3682227'}, {'similarity': 0.7952, 'master_pi': '1000018015_2282093', 'similar_pi': '1000017643_2107833'}, {'similarity': 0.7938, 'master_pi': '1000018015_2282093', 'similar_pi': '1000004228_2283011'}, {'similarity': 0.7927, 'master_pi': '1000018015_2282093', 'similar_pi': '1000002619_80272'}, {'similarity': 0.7871, 'master_pi': '1000018015_2282093', 'similar_pi': '1000004228_590464'}, {'similarity': 0.7676, 'master_pi': '1000018015_2282093', 'similar_pi': '1000003705_296339'}, {'similarity': 0.7671, 'master_pi': '1000018015_2282093', 'similar_pi': '1000002619_145002'}, {'similarity': 0.7648, 'master_pi': '1000018015_2282093', 'similar_pi': '1000002181_2051334'}, {'similarity': 0.7579, 'master_pi': '1000018015_2282093', 'similar_pi': '1000004450_5156532'}, {'similarity': 0.7487, 'master_pi': '1000018015_2282093', 'similar_pi': '1000019470_694708'}, {'similarity': 0.7471, 'master_pi': '1000018015_2282093', 'similar_pi': '1000015780_507181'}, {'similarity': 0.7395, 'master_pi': '1000018015_2282093', 'similar_pi': '1000016910_905983'}, {'similarity': 0.7381, 'master_pi': '1000018015_2282093', 'similar_pi': '1000005597_694815'}, {'similarity': 0.7364, 'master_pi': '1000018015_2282093', 'similar_pi': '1000010410_393714'}, {'similarity': 0.7355, 'master_pi': '1000018015_2282093', 'similar_pi': '1000010562_243157'}, {'similarity': 0.735, 'master_pi': '1000018015_2282093', 'similar_pi': '1000010410_91501'}, {'similarity': 0.7347, 'master_pi': '1000018015_2282093', 'similar_pi': '1000014300_554766'}, {'similarity': 1.0, 'master_pi': '1000005597_1527063', 'similar_pi': '1000005597_1527063'}, {'similarity': 0.8165, 'master_pi': '1000005597_1527063', 'similar_pi': '1000013443_1330468'}, {'similarity': 0.7483, 'master_pi': '1000005597_1527063', 'similar_pi': '1000003705_401309'}, {'similarity': 0.7265, 'master_pi': '1000005597_1527063', 'similar_pi': '1000005736_247062'}, {'similarity': 0.7248, 'master_pi': '1000005597_1527063', 'similar_pi': '1000018657_2181570'}, {'similarity': 0.7236, 'master_pi': '1000005597_1527063', 'similar_pi': '1000014826_1410870'}, {'similarity': 0.7206, 'master_pi': '1000005597_1527063', 'similar_pi': '1000009581_2980680'}, {'similarity': 0.7106, 'master_pi': '1000005597_1527063', 'similar_pi': '1000002312_870273'}, {'similarity': 0.7062, 'master_pi': '1000005597_1527063', 'similar_pi': '1000005352_1407342'}, {'similarity': 0.6983, 'master_pi': '1000005597_1527063', 'similar_pi': '1000006044_1790440'}, {'similarity': 0.696, 'master_pi': '1000005597_1527063', 'similar_pi': '1000014545_2305450'}, {'similarity': 0.6955, 'master_pi': '1000005597_1527063', 'similar_pi': '1000006420_451109'}, {'similarity': 0.6947, 'master_pi': '1000005597_1527063', 'similar_pi': '1000006044_506650'}, {'similarity': 0.6934, 'master_pi': '1000005597_1527063', 'similar_pi': '1000009316_1097863'}, {'similarity': 0.6878, 'master_pi': '1000005597_1527063', 'similar_pi': '1000014300_328844'}, {'similarity': 0.6817, 'master_pi': '1000005597_1527063', 'similar_pi': '1000000461_1328228'}, {'similarity': 0.6795, 'master_pi': '1000005597_1527063', 'similar_pi': '1000017643_1905271'}, {'similarity': 0.6784, 'master_pi': '1000005597_1527063', 'similar_pi': '1000003633_762512'}, {'similarity': 0.6775, 'master_pi': '1000005597_1527063', 'similar_pi': '1000017643_1678329'}, {'similarity': 0.6767, 'master_pi': '1000005597_1527063', 'similar_pi': '1000010562_39641'}, {'similarity': 1.0, 'master_pi': '1000014826_3116960', 'similar_pi': '1000014826_3116960'}, {'similarity': 0.8106, 'master_pi': '1000014826_3116960', 'similar_pi': '1000015780_542711'}, {'similarity': 0.8093, 'master_pi': '1000014826_3116960', 'similar_pi': '1000015780_507181'}, {'similarity': 0.8016, 'master_pi': '1000014826_3116960', 'similar_pi': '1000010562_243157'}, {'similarity': 0.8006, 'master_pi': '1000014826_3116960', 'similar_pi': '1000019645_85406'}, {'similarity': 0.7838, 'master_pi': '1000014826_3116960', 'similar_pi': '1000002181_2051334'}, {'similarity': 0.7835, 'master_pi': '1000014826_3116960', 'similar_pi': '1000002619_80272'}, {'similarity': 0.7822, 'master_pi': '1000014826_3116960', 'similar_pi': '1000003705_426054'}, {'similarity': 0.7753, 'master_pi': '1000014826_3116960', 'similar_pi': '1000018985_556353'}, {'similarity': 0.7686, 'master_pi': '1000014826_3116960', 'similar_pi': '1000009561_612586'}, {'similarity': 0.7686, 'master_pi': '1000014826_3116960', 'similar_pi': '1000018209_245768'}, {'similarity': 0.7655, 'master_pi': '1000014826_3116960', 'similar_pi': '1000018657_1411110'}, {'similarity': 0.7624, 'master_pi': '1000014826_3116960', 'similar_pi': '1000015900_7056763'}, {'similarity': 0.7599, 'master_pi': '1000014826_3116960', 'similar_pi': '1000018209_5124502'}, {'similarity': 0.7552, 'master_pi': '1000014826_3116960', 'similar_pi': '1000002619_286869'}, {'similarity': 0.7532, 'master_pi': '1000014826_3116960', 'similar_pi': '1000003705_401309'}, {'similarity': 0.7482, 'master_pi': '1000014826_3116960', 'similar_pi': '1000009316_1097863'}, {'similarity': 0.7454, 'master_pi': '1000014826_3116960', 'similar_pi': '1000015780_470187'}, {'similarity': 0.7446, 'master_pi': '1000014826_3116960', 'similar_pi': '1000014300_377726'}, {'similarity': 0.7436, 'master_pi': '1000014826_3116960', 'similar_pi': '1000002619_145002'}, {'similarity': 1.0, 'master_pi': '1000017746_1101388', 'similar_pi': '1000017746_1101388'}, {'similarity': 0.9037, 'master_pi': '1000017746_1101388', 'similar_pi': '1000017746_269642'}, {'similarity': 0.8331, 'master_pi': '1000017746_1101388', 'similar_pi': '1000002181_2142942'}, {'similarity': 0.8306, 'master_pi': '1000017746_1101388', 'similar_pi': '1000018758_677648'}, {'similarity': 0.7994, 'master_pi': '1000017746_1101388', 'similar_pi': '1000015900_7056763'}, {'similarity': 0.7976, 'master_pi': '1000017746_1101388', 'similar_pi': '1000005906_566835'}, {'similarity': 0.7849, 'master_pi': '1000017746_1101388', 'similar_pi': '1000009561_612586'}, {'similarity': 0.7816, 'master_pi': '1000017746_1101388', 'similar_pi': '1000002312_870273'}, {'similarity': 0.7583, 'master_pi': '1000017746_1101388', 'similar_pi': '1000002619_286869'}, {'similarity': 0.7576, 'master_pi': '1000017746_1101388', 'similar_pi': '1000007560_3022186'}, {'similarity': 0.755, 'master_pi': '1000017746_1101388', 'similar_pi': '1000016965_2463103'}, {'similarity': 0.7524, 'master_pi': '1000017746_1101388', 'similar_pi': '1000006450_471043'}, {'similarity': 0.7514, 'master_pi': '1000017746_1101388', 'similar_pi': '1000005736_97051'}, {'similarity': 0.7486, 'master_pi': '1000017746_1101388', 'similar_pi': '1000010410_91501'}, {'similarity': 0.7345, 'master_pi': '1000017746_1101388', 'similar_pi': '1000017573_6083989'}, {'similarity': 0.7327, 'master_pi': '1000017746_1101388', 'similar_pi': '1000001589_47962'}, {'similarity': 0.7316, 'master_pi': '1000017746_1101388', 'similar_pi': '1000017018_510437'}, {'similarity': 0.7241, 'master_pi': '1000017746_1101388', 'similar_pi': '1000018209_5124502'}, {'similarity': 0.7147, 'master_pi': '1000017746_1101388', 'similar_pi': '1000000461_1328228'}, {'similarity': 0.7106, 'master_pi': '1000017746_1101388', 'similar_pi': '1000005597_3682227'}, {'similarity': 1.0, 'master_pi': '1000002619_50010', 'similar_pi': '1000002619_50010'}, {'similarity': 0.7122, 'master_pi': '1000002619_50010', 'similar_pi': '1000017643_1678329'}, {'similarity': 0.704, 'master_pi': '1000002619_50010', 'similar_pi': '1000005352_1196207'}, {'similarity': 0.6953, 'master_pi': '1000002619_50010', 'similar_pi': '1000012591_283383'}, {'similarity': 0.6792, 'master_pi': '1000002619_50010', 'similar_pi': '1000018985_109015'}, {'similarity': 0.6735, 'master_pi': '1000002619_50010', 'similar_pi': '1000018209_245768'}, {'similarity': 0.6718, 'master_pi': '1000002619_50010', 'similar_pi': '1000010562_39641'}, {'similarity': 0.6673, 'master_pi': '1000002619_50010', 'similar_pi': '1000018657_2659678'}, {'similarity': 0.6617, 'master_pi': '1000002619_50010', 'similar_pi': '1000005436_61494'}, {'similarity': 0.659, 'master_pi': '1000002619_50010', 'similar_pi': '1000016591_1183410'}, {'similarity': 0.6543, 'master_pi': '1000002619_50010', 'similar_pi': '1000005352_4375297'}, {'similarity': 0.6537, 'master_pi': '1000002619_50010', 'similar_pi': '1000005352_3568116'}, {'similarity': 0.6529, 'master_pi': '1000002619_50010', 'similar_pi': '1000006450_418604'}, {'similarity': 0.6502, 'master_pi': '1000002619_50010', 'similar_pi': '1000017306_662524'}, {'similarity': 0.6491, 'master_pi': '1000002619_50010', 'similar_pi': '1000018483_390709'}, {'similarity': 0.6466, 'master_pi': '1000002619_50010', 'similar_pi': '1000018209_5124502'}, {'similarity': 0.6426, 'master_pi': '1000002619_50010', 'similar_pi': '1000018657_2832634'}, {'similarity': 0.6421, 'master_pi': '1000002619_50010', 'similar_pi': '1000019142_3250699'}, {'similarity': 0.639, 'master_pi': '1000002619_50010', 'similar_pi': '1000019645_153411'}, {'similarity': 0.6346, 'master_pi': '1000002619_50010', 'similar_pi': '1000005736_475217'}, {'similarity': 1.0, 'master_pi': '1000017018_510437', 'similar_pi': '1000017018_510437'}, {'similarity': 0.8144, 'master_pi': '1000017018_510437', 'similar_pi': '1000016591_1260132'}, {'similarity': 0.8011, 'master_pi': '1000017018_510437', 'similar_pi': '1000005736_97051'}, {'similarity': 0.7846, 'master_pi': '1000017018_510437', 'similar_pi': '1000017746_269642'}, {'similarity': 0.7437, 'master_pi': '1000017018_510437', 'similar_pi': '1000018758_677648'}, {'similarity': 0.7316, 'master_pi': '1000017018_510437', 'similar_pi': '1000017746_1101388'}, {'similarity': 0.7189, 'master_pi': '1000017018_510437', 'similar_pi': '1000002181_2142942'}, {'similarity': 0.7176, 'master_pi': '1000017018_510437', 'similar_pi': '1000009561_612586'}, {'similarity': 0.7167, 'master_pi': '1000017018_510437', 'similar_pi': '1000015900_7056763'}, {'similarity': 0.7055, 'master_pi': '1000017018_510437', 'similar_pi': '1000014300_554766'}, {'similarity': 0.6931, 'master_pi': '1000017018_510437', 'similar_pi': '1000006420_315626'}, {'similarity': 0.6913, 'master_pi': '1000017018_510437', 'similar_pi': '1000002619_286869'}, {'similarity': 0.6912, 'master_pi': '1000017018_510437', 'similar_pi': '1000006450_471043'}, {'similarity': 0.6908, 'master_pi': '1000017018_510437', 'similar_pi': '1000019295_5683365'}, {'similarity': 0.6862, 'master_pi': '1000017018_510437', 'similar_pi': '1000019289_532754'}, {'similarity': 0.6854, 'master_pi': '1000017018_510437', 'similar_pi': '1000010410_91501'}, {'similarity': 0.6844, 'master_pi': '1000017018_510437', 'similar_pi': '1000016965_2463103'}, {'similarity': 0.6834, 'master_pi': '1000017018_510437', 'similar_pi': '1000018657_2832634'}, {'similarity': 0.6833, 'master_pi': '1000017018_510437', 'similar_pi': '1000018209_5124502'}, {'similarity': 0.6829, 'master_pi': '1000017018_510437', 'similar_pi': '1000005906_5314526'}, {'similarity': 1.0, 'master_pi': '1000006420_451109', 'similar_pi': '1000006420_451109'}, {'similarity': 0.7585, 'master_pi': '1000006420_451109', 'similar_pi': '1000006044_2941495'}, {'similarity': 0.757, 'master_pi': '1000006420_451109', 'similar_pi': '1000005736_247062'}, {'similarity': 0.7511, 'master_pi': '1000006420_451109', 'similar_pi': '1000006044_506650'}, {'similarity': 0.7283, 'master_pi': '1000006420_451109', 'similar_pi': '1000020743_5730464'}, {'similarity': 0.722, 'master_pi': '1000006420_451109', 'similar_pi': '1000009581_2980680'}, {'similarity': 0.7166, 'master_pi': '1000006420_451109', 'similar_pi': '1000019035_1436324'}, {'similarity': 0.7111, 'master_pi': '1000006420_451109', 'similar_pi': '1000006551_2617141'}, {'similarity': 0.7036, 'master_pi': '1000006420_451109', 'similar_pi': '1000006044_257220'}, {'similarity': 0.7034, 'master_pi': '1000006420_451109', 'similar_pi': '1000006420_369254'}, {'similarity': 0.7003, 'master_pi': '1000006420_451109', 'similar_pi': '1000007158_205545'}, {'similarity': 0.6986, 'master_pi': '1000006420_451109', 'similar_pi': '1000019295_5683365'}, {'similarity': 0.696, 'master_pi': '1000006420_451109', 'similar_pi': '1000006972_5289779'}, {'similarity': 0.6955, 'master_pi': '1000006420_451109', 'similar_pi': '1000005597_1527063'}, {'similarity': 0.6931, 'master_pi': '1000006420_451109', 'similar_pi': '1000016486_233723'}, {'similarity': 0.6859, 'master_pi': '1000006420_451109', 'similar_pi': '1000017643_1905271'}, {'similarity': 0.685, 'master_pi': '1000006420_451109', 'similar_pi': '1000017573_6083989'}, {'similarity': 0.6849, 'master_pi': '1000006420_451109', 'similar_pi': '1000019035_1240668'}, {'similarity': 0.6847, 'master_pi': '1000006420_451109', 'similar_pi': '1000018657_2181570'}, {'similarity': 0.6821, 'master_pi': '1000006420_451109', 'similar_pi': '1000019289_79232'}, {'similarity': 1.0, 'master_pi': '1000004450_5156532', 'similar_pi': '1000004450_5156532'}, {'similarity': 0.8764, 'master_pi': '1000004450_5156532', 'similar_pi': '1000005597_3682227'}, {'similarity': 0.804, 'master_pi': '1000004450_5156532', 'similar_pi': '1000004298_48192'}, {'similarity': 0.7897, 'master_pi': '1000004450_5156532', 'similar_pi': '1000016910_905983'}, {'similarity': 0.7895, 'master_pi': '1000004450_5156532', 'similar_pi': '1000018758_677648'}, {'similarity': 0.7857, 'master_pi': '1000004450_5156532', 'similar_pi': '1000005597_694815'}, {'similarity': 0.7799, 'master_pi': '1000004450_5156532', 'similar_pi': '1000005296_1707734'}, {'similarity': 0.7735, 'master_pi': '1000004450_5156532', 'similar_pi': '1000015900_7056763'}, {'similarity': 0.7633, 'master_pi': '1000004450_5156532', 'similar_pi': '1000004450_124311'}, {'similarity': 0.758, 'master_pi': '1000004450_5156532', 'similar_pi': '1000009561_789018'}, {'similarity': 0.7579, 'master_pi': '1000004450_5156532', 'similar_pi': '1000018015_2282093'}, {'similarity': 0.7544, 'master_pi': '1000004450_5156532', 'similar_pi': '1000016965_2463103'}, {'similarity': 0.7471, 'master_pi': '1000004450_5156532', 'similar_pi': '1000002181_2142942'}, {'similarity': 0.7441, 'master_pi': '1000004450_5156532', 'similar_pi': '1000004228_2283011'}, {'similarity': 0.7414, 'master_pi': '1000004450_5156532', 'similar_pi': '1000000489_1233988'}, {'similarity': 0.7344, 'master_pi': '1000004450_5156532', 'similar_pi': '1000005736_475217'}, {'similarity': 0.7337, 'master_pi': '1000004450_5156532', 'similar_pi': '1000013499_266873'}, {'similarity': 0.7302, 'master_pi': '1000004450_5156532', 'similar_pi': '1000000461_543504'}, {'similarity': 0.7269, 'master_pi': '1000004450_5156532', 'similar_pi': '1000017746_269642'}, {'similarity': 0.7239, 'master_pi': '1000004450_5156532', 'similar_pi': '1000019184_1289169'}, {'similarity': 1.0, 'master_pi': '1000016180_3725398', 'similar_pi': '1000016180_3725398'}, {'similarity': 0.8221, 'master_pi': '1000016180_3725398', 'similar_pi': '1000018483_390709'}, {'similarity': 0.7888, 'master_pi': '1000016180_3725398', 'similar_pi': '1000005870_383022'}, {'similarity': 0.7806, 'master_pi': '1000016180_3725398', 'similar_pi': '1000005352_1407342'}, {'similarity': 0.7715, 'master_pi': '1000016180_3725398', 'similar_pi': '1000017306_1463281'}, {'similarity': 0.7519, 'master_pi': '1000016180_3725398', 'similar_pi': '1000014148_53965'}, {'similarity': 0.7465, 'master_pi': '1000016180_3725398', 'similar_pi': '1000014300_328844'}, {'similarity': 0.7383, 'master_pi': '1000016180_3725398', 'similar_pi': '1000013443_39966'}, {'similarity': 0.7353, 'master_pi': '1000016180_3725398', 'similar_pi': '1000005296_1541795'}, {'similarity': 0.7317, 'master_pi': '1000016180_3725398', 'similar_pi': '1000015780_542711'}, {'similarity': 0.7286, 'master_pi': '1000016180_3725398', 'similar_pi': '1000019645_85406'}, {'similarity': 0.7279, 'master_pi': '1000016180_3725398', 'similar_pi': '1000015780_470187'}, {'similarity': 0.7229, 'master_pi': '1000016180_3725398', 'similar_pi': '1000010562_243157'}, {'similarity': 0.7191, 'master_pi': '1000016180_3725398', 'similar_pi': '1000005352_4375297'}, {'similarity': 0.7172, 'master_pi': '1000016180_3725398', 'similar_pi': '1000016486_11905'}, {'similarity': 0.7112, 'master_pi': '1000016180_3725398', 'similar_pi': '1000007560_3022186'}, {'similarity': 0.7017, 'master_pi': '1000016180_3725398', 'similar_pi': '1000019645_49755'}, {'similarity': 0.7006, 'master_pi': '1000016180_3725398', 'similar_pi': '1000020751_1093721'}, {'similarity': 0.7003, 'master_pi': '1000016180_3725398', 'similar_pi': '1000018985_109015'}, {'similarity': 0.6995, 'master_pi': '1000016180_3725398', 'similar_pi': '1000005870_333655'}, {'similarity': 1.0, 'master_pi': '1000002827_86297', 'similar_pi': '1000002827_86297'}, {'similarity': 0.7917, 'master_pi': '1000002827_86297', 'similar_pi': '1000003705_426054'}, {'similarity': 0.7553, 'master_pi': '1000002827_86297', 'similar_pi': '1000004298_413764'}, {'similarity': 0.7552, 'master_pi': '1000002827_86297', 'similar_pi': '1000016486_11905'}, {'similarity': 0.7483, 'master_pi': '1000002827_86297', 'similar_pi': '1000014300_377726'}, {'similarity': 0.7463, 'master_pi': '1000002827_86297', 'similar_pi': '1000002181_2051334'}, {'similarity': 0.7426, 'master_pi': '1000002827_86297', 'similar_pi': '1000019645_85406'}, {'similarity': 0.7314, 'master_pi': '1000002827_86297', 'similar_pi': '1000002619_80272'}, {'similarity': 0.7303, 'master_pi': '1000002827_86297', 'similar_pi': '1000010562_243157'}, {'similarity': 0.7251, 'master_pi': '1000002827_86297', 'similar_pi': '1000018433_509959'}, {'similarity': 0.7216, 'master_pi': '1000002827_86297', 'similar_pi': '1000002619_11213'}, {'similarity': 0.7207, 'master_pi': '1000002827_86297', 'similar_pi': '1000014148_53965'}, {'similarity': 0.7179, 'master_pi': '1000002827_86297', 'similar_pi': '1000005892_51661'}, {'similarity': 0.7146, 'master_pi': '1000002827_86297', 'similar_pi': '1000015780_542711'}, {'similarity': 0.7121, 'master_pi': '1000002827_86297', 'similar_pi': '1000014148_250654'}, {'similarity': 0.7111, 'master_pi': '1000002827_86297', 'similar_pi': '1000018433_1062638'}, {'similarity': 0.7099, 'master_pi': '1000002827_86297', 'similar_pi': '1000001703_50950'}, {'similarity': 0.6939, 'master_pi': '1000002827_86297', 'similar_pi': '1000013443_39966'}, {'similarity': 0.6911, 'master_pi': '1000002827_86297', 'similar_pi': '1000000461_1477576'}, {'similarity': 0.6898, 'master_pi': '1000002827_86297', 'similar_pi': '1000005870_383022'}, {'similarity': 1.0, 'master_pi': '1000015780_507181', 'similar_pi': '1000015780_507181'}, {'similarity': 0.8515, 'master_pi': '1000015780_507181', 'similar_pi': '1000002619_80272'}, {'similarity': 0.8486, 'master_pi': '1000015780_507181', 'similar_pi': '1000015780_542711'}, {'similarity': 0.8262, 'master_pi': '1000015780_507181', 'similar_pi': '1000000461_543504'}, {'similarity': 0.8093, 'master_pi': '1000015780_507181', 'similar_pi': '1000014826_3116960'}, {'similarity': 0.7937, 'master_pi': '1000015780_507181', 'similar_pi': '1000009561_612586'}, {'similarity': 0.7927, 'master_pi': '1000015780_507181', 'similar_pi': '1000002619_145002'}, {'similarity': 0.7885, 'master_pi': '1000015780_507181', 'similar_pi': '1000003705_426054'}, {'similarity': 0.787, 'master_pi': '1000015780_507181', 'similar_pi': '1000002181_2051334'}, {'similarity': 0.7853, 'master_pi': '1000015780_507181', 'similar_pi': '1000018209_245768'}, {'similarity': 0.7843, 'master_pi': '1000015780_507181', 'similar_pi': '1000009316_643631'}, {'similarity': 0.7834, 'master_pi': '1000015780_507181', 'similar_pi': '1000015900_7056763'}, {'similarity': 0.7826, 'master_pi': '1000015780_507181', 'similar_pi': '1000010562_243157'}, {'similarity': 0.7816, 'master_pi': '1000015780_507181', 'similar_pi': '1000009316_1097863'}, {'similarity': 0.7796, 'master_pi': '1000015780_507181', 'similar_pi': '1000018985_556353'}, {'similarity': 0.7695, 'master_pi': '1000015780_507181', 'similar_pi': '1000018209_5124502'}, {'similarity': 0.7631, 'master_pi': '1000015780_507181', 'similar_pi': '1000003705_401309'}, {'similarity': 0.7544, 'master_pi': '1000015780_507181', 'similar_pi': '1000018657_2659678'}, {'similarity': 0.754, 'master_pi': '1000015780_507181', 'similar_pi': '1000005436_61494'}, {'similarity': 0.752, 'master_pi': '1000015780_507181', 'similar_pi': '1000005352_1196207'}, {'similarity': 1.0, 'master_pi': '1000017643_1678329', 'similar_pi': '1000017643_1678329'}, {'similarity': 0.8074, 'master_pi': '1000017643_1678329', 'similar_pi': '1000019289_532754'}, {'similarity': 0.8031, 'master_pi': '1000017643_1678329', 'similar_pi': '1000019142_3250699'}, {'similarity': 0.8021, 'master_pi': '1000017643_1678329', 'similar_pi': '1000005436_61494'}, {'similarity': 0.7831, 'master_pi': '1000017643_1678329', 'similar_pi': '1000018209_245768'}, {'similarity': 0.7828, 'master_pi': '1000017643_1678329', 'similar_pi': '1000018209_5124502'}, {'similarity': 0.7821, 'master_pi': '1000017643_1678329', 'similar_pi': '1000012591_283383'}, {'similarity': 0.7806, 'master_pi': '1000017643_1678329', 'similar_pi': '1000010562_39641'}, {'similarity': 0.7784, 'master_pi': '1000017643_1678329', 'similar_pi': '1000005352_1196207'}, {'similarity': 0.7765, 'master_pi': '1000017643_1678329', 'similar_pi': '1000017306_662524'}, {'similarity': 0.7745, 'master_pi': '1000017643_1678329', 'similar_pi': '1000020743_5730464'}, {'similarity': 0.7681, 'master_pi': '1000017643_1678329', 'similar_pi': '1000018985_109015'}, {'similarity': 0.7627, 'master_pi': '1000017643_1678329', 'similar_pi': '1000005352_4375297'}, {'similarity': 0.7627, 'master_pi': '1000017643_1678329', 'similar_pi': '1000006044_257220'}, {'similarity': 0.7587, 'master_pi': '1000017643_1678329', 'similar_pi': '1000000461_1328228'}, {'similarity': 0.7577, 'master_pi': '1000017643_1678329', 'similar_pi': '1000005736_97051'}, {'similarity': 0.7549, 'master_pi': '1000017643_1678329', 'similar_pi': '1000019645_153411'}, {'similarity': 0.7536, 'master_pi': '1000017643_1678329', 'similar_pi': '1000015780_542711'}, {'similarity': 0.7493, 'master_pi': '1000017643_1678329', 'similar_pi': '1000019289_79232'}, {'similarity': 0.7486, 'master_pi': '1000017643_1678329', 'similar_pi': '1000016965_2463103'}, {'similarity': 1.0, 'master_pi': '1000006551_5016752', 'similar_pi': '1000006551_5016752'}, {'similarity': 0.7237, 'master_pi': '1000006551_5016752', 'similar_pi': '1000004450_124311'}, {'similarity': 0.7114, 'master_pi': '1000006551_5016752', 'similar_pi': '1000004450_5156532'}, {'similarity': 0.6974, 'master_pi': '1000006551_5016752', 'similar_pi': '1000004228_2283011'}, {'similarity': 0.685, 'master_pi': '1000006551_5016752', 'similar_pi': '1000004298_48192'}, {'similarity': 0.6848, 'master_pi': '1000006551_5016752', 'similar_pi': '1000005597_3682227'}, {'similarity': 0.6844, 'master_pi': '1000006551_5016752', 'similar_pi': '1000018015_2282093'}, {'similarity': 0.6649, 'master_pi': '1000006551_5016752', 'similar_pi': '1000013499_266873'}, {'similarity': 0.6586, 'master_pi': '1000006551_5016752', 'similar_pi': '1000000489_1840753'}, {'similarity': 0.6531, 'master_pi': '1000006551_5016752', 'similar_pi': '1000004228_590464'}, {'similarity': 0.6496, 'master_pi': '1000006551_5016752', 'similar_pi': '1000016910_905983'}, {'similarity': 0.6482, 'master_pi': '1000006551_5016752', 'similar_pi': '1000000489_1233988'}, {'similarity': 0.6474, 'master_pi': '1000006551_5016752', 'similar_pi': '1000017573_6083989'}, {'similarity': 0.6466, 'master_pi': '1000006551_5016752', 'similar_pi': '1000000461_543504'}, {'similarity': 0.6428, 'master_pi': '1000006551_5016752', 'similar_pi': '1000014300_554766'}, {'similarity': 0.639, 'master_pi': '1000006551_5016752', 'similar_pi': '1000003705_296339'}, {'similarity': 0.6366, 'master_pi': '1000006551_5016752', 'similar_pi': '1000019184_1289169'}, {'similarity': 0.6356, 'master_pi': '1000006551_5016752', 'similar_pi': '1000010410_393714'}, {'similarity': 0.6271, 'master_pi': '1000006551_5016752', 'similar_pi': '1000002181_2142942'}, {'similarity': 0.6256, 'master_pi': '1000006551_5016752', 'similar_pi': '1000002312_870273'}, {'similarity': 1.0, 'master_pi': '1000019142_645646', 'similar_pi': '1000019142_645646'}, {'similarity': 0.775, 'master_pi': '1000019142_645646', 'similar_pi': '1000005352_4375297'}, {'similarity': 0.7675, 'master_pi': '1000019142_645646', 'similar_pi': '1000002181_2051334'}, {'similarity': 0.7664, 'master_pi': '1000019142_645646', 'similar_pi': '1000019142_3250699'}, {'similarity': 0.7535, 'master_pi': '1000019142_645646', 'similar_pi': '1000015900_7056763'}, {'similarity': 0.7415, 'master_pi': '1000019142_645646', 'similar_pi': '1000006450_418604'}, {'similarity': 0.7405, 'master_pi': '1000019142_645646', 'similar_pi': '1000003705_401309'}, {'similarity': 0.7288, 'master_pi': '1000019142_645646', 'similar_pi': '1000005436_61494'}, {'similarity': 0.7188, 'master_pi': '1000019142_645646', 'similar_pi': '1000015780_507181'}, {'similarity': 0.7173, 'master_pi': '1000019142_645646', 'similar_pi': '1000005352_1196207'}, {'similarity': 0.7157, 'master_pi': '1000019142_645646', 'similar_pi': '1000010562_39641'}, {'similarity': 0.7152, 'master_pi': '1000019142_645646', 'similar_pi': '1000010562_243157'}, {'similarity': 0.7144, 'master_pi': '1000019142_645646', 'similar_pi': '1000018209_5124502'}, {'similarity': 0.7075, 'master_pi': '1000019142_645646', 'similar_pi': '1000002312_870273'}, {'similarity': 0.7014, 'master_pi': '1000019142_645646', 'similar_pi': '1000018985_556353'}, {'similarity': 0.6999, 'master_pi': '1000019142_645646', 'similar_pi': '1000018015_2282093'}, {'similarity': 0.6965, 'master_pi': '1000019142_645646', 'similar_pi': '1000011715_999455'}, {'similarity': 0.6943, 'master_pi': '1000019142_645646', 'similar_pi': '1000020717_360154'}, {'similarity': 0.6943, 'master_pi': '1000019142_645646', 'similar_pi': '1000013443_39966'}, {'similarity': 0.6896, 'master_pi': '1000019142_645646', 'similar_pi': '1000016504_417475'}, {'similarity': 1.0, 'master_pi': '1000006044_1790440', 'similar_pi': '1000006044_1790440'}, {'similarity': 0.7838, 'master_pi': '1000006044_1790440', 'similar_pi': '1000006044_506650'}, {'similarity': 0.7252, 'master_pi': '1000006044_1790440', 'similar_pi': '1000018657_2181570'}, {'similarity': 0.7245, 'master_pi': '1000006044_1790440', 'similar_pi': '1000006551_2617141'}, {'similarity': 0.7203, 'master_pi': '1000006044_1790440', 'similar_pi': '1000007158_205545'}, {'similarity': 0.7202, 'master_pi': '1000006044_1790440', 'similar_pi': '1000003705_401309'}, {'similarity': 0.7181, 'master_pi': '1000006044_1790440', 'similar_pi': '1000005736_247062'}, {'similarity': 0.7092, 'master_pi': '1000006044_1790440', 'similar_pi': '1000006044_257220'}, {'similarity': 0.7082, 'master_pi': '1000006044_1790440', 'similar_pi': '1000009316_1097863'}, {'similarity': 0.6989, 'master_pi': '1000006044_1790440', 'similar_pi': '1000005892_304502'}, {'similarity': 0.6983, 'master_pi': '1000006044_1790440', 'similar_pi': '1000005597_1527063'}, {'similarity': 0.6909, 'master_pi': '1000006044_1790440', 'similar_pi': '1000013443_1330468'}, {'similarity': 0.6859, 'master_pi': '1000006044_1790440', 'similar_pi': '1000019035_1436324'}, {'similarity': 0.6757, 'master_pi': '1000006044_1790440', 'similar_pi': '1000016486_98843'}, {'similarity': 0.667, 'master_pi': '1000006044_1790440', 'similar_pi': '1000019289_532754'}, {'similarity': 0.6666, 'master_pi': '1000006044_1790440', 'similar_pi': '1000016486_233723'}, {'similarity': 0.6664, 'master_pi': '1000006044_1790440', 'similar_pi': '1000019289_79232'}, {'similarity': 0.6658, 'master_pi': '1000006044_1790440', 'similar_pi': '1000006044_2941495'}, {'similarity': 0.6642, 'master_pi': '1000006044_1790440', 'similar_pi': '1000014826_3089051'}, {'similarity': 0.664, 'master_pi': '1000006044_1790440', 'similar_pi': '1000006420_451109'}, {'similarity': 1.0, 'master_pi': '1000019289_532754', 'similar_pi': '1000019289_532754'}, {'similarity': 0.8373, 'master_pi': '1000019289_532754', 'similar_pi': '1000019289_79232'}, {'similarity': 0.8147, 'master_pi': '1000019289_532754', 'similar_pi': '1000005436_61494'}, {'similarity': 0.8144, 'master_pi': '1000019289_532754', 'similar_pi': '1000005736_97051'}, {'similarity': 0.8085, 'master_pi': '1000019289_532754', 'similar_pi': '1000006420_369254'}, {'similarity': 0.8074, 'master_pi': '1000019289_532754', 'similar_pi': '1000017643_1678329'}, {'similarity': 0.8072, 'master_pi': '1000019289_532754', 'similar_pi': '1000019645_153411'}, {'similarity': 0.8012, 'master_pi': '1000019289_532754', 'similar_pi': '1000009561_612586'}, {'similarity': 0.7959, 'master_pi': '1000019289_532754', 'similar_pi': '1000018209_5124502'}, {'similarity': 0.7913, 'master_pi': '1000019289_532754', 'similar_pi': '1000017306_662524'}, {'similarity': 0.78, 'master_pi': '1000019289_532754', 'similar_pi': '1000010562_39641'}, {'similarity': 0.7782, 'master_pi': '1000019289_532754', 'similar_pi': '1000005597_694815'}, {'similarity': 0.7761, 'master_pi': '1000019289_532754', 'similar_pi': '1000000461_1328228'}, {'similarity': 0.7756, 'master_pi': '1000019289_532754', 'similar_pi': '1000019142_3250699'}, {'similarity': 0.7748, 'master_pi': '1000019289_532754', 'similar_pi': '1000003705_401309'}, {'similarity': 0.7726, 'master_pi': '1000019289_532754', 'similar_pi': '1000020031_4862403'}, {'similarity': 0.7689, 'master_pi': '1000019289_532754', 'similar_pi': '1000005352_1196207'}, {'similarity': 0.7651, 'master_pi': '1000019289_532754', 'similar_pi': '1000018209_245768'}, {'similarity': 0.7643, 'master_pi': '1000019289_532754', 'similar_pi': '1000018758_677648'}, {'similarity': 0.7626, 'master_pi': '1000019289_532754', 'similar_pi': '1000015780_542711'}, {'similarity': 1.0, 'master_pi': '1000014826_3089051', 'similar_pi': '1000014826_3089051'}, {'similarity': 0.7359, 'master_pi': '1000014826_3089051', 'similar_pi': '1000014545_2305450'}, {'similarity': 0.7314, 'master_pi': '1000014826_3089051', 'similar_pi': '1000003705_401309'}, {'similarity': 0.7309, 'master_pi': '1000014826_3089051', 'similar_pi': '1000018657_2659678'}, {'similarity': 0.7154, 'master_pi': '1000014826_3089051', 'similar_pi': '1000019289_79232'}, {'similarity': 0.7151, 'master_pi': '1000014826_3089051', 'similar_pi': '1000014826_1410870'}, {'similarity': 0.7142, 'master_pi': '1000014826_3089051', 'similar_pi': '1000020031_175252'}, {'similarity': 0.7139, 'master_pi': '1000014826_3089051', 'similar_pi': '1000018657_2181570'}, {'similarity': 0.6963, 'master_pi': '1000014826_3089051', 'similar_pi': '1000015780_507181'}, {'similarity': 0.6961, 'master_pi': '1000014826_3089051', 'similar_pi': '1000002999_5720269'}, {'similarity': 0.6922, 'master_pi': '1000014826_3089051', 'similar_pi': '1000003705_426054'}, {'similarity': 0.6914, 'master_pi': '1000014826_3089051', 'similar_pi': '1000015780_542711'}, {'similarity': 0.6913, 'master_pi': '1000014826_3089051', 'similar_pi': '1000018209_5124502'}, {'similarity': 0.6898, 'master_pi': '1000014826_3089051', 'similar_pi': '1000002619_80272'}, {'similarity': 0.6897, 'master_pi': '1000014826_3089051', 'similar_pi': '1000010562_39641'}, {'similarity': 0.6827, 'master_pi': '1000014826_3089051', 'similar_pi': '1000019289_532754'}, {'similarity': 0.6785, 'master_pi': '1000014826_3089051', 'similar_pi': '1000005892_84719'}, {'similarity': 0.6778, 'master_pi': '1000014826_3089051', 'similar_pi': '1000006420_315626'}, {'similarity': 0.6777, 'master_pi': '1000014826_3089051', 'similar_pi': '1000005436_61494'}, {'similarity': 0.6777, 'master_pi': '1000014826_3089051', 'similar_pi': '1000005597_694815'}, {'similarity': 1.0, 'master_pi': '1000009316_643631', 'similar_pi': '1000009316_643631'}, {'similarity': 0.8084, 'master_pi': '1000009316_643631', 'similar_pi': '1000009316_1097863'}, {'similarity': 0.7843, 'master_pi': '1000009316_643631', 'similar_pi': '1000015780_507181'}, {'similarity': 0.757, 'master_pi': '1000009316_643631', 'similar_pi': '1000005296_1541795'}, {'similarity': 0.7425, 'master_pi': '1000009316_643631', 'similar_pi': '1000007158_205545'}, {'similarity': 0.7394, 'master_pi': '1000009316_643631', 'similar_pi': '1000005870_333655'}, {'similarity': 0.7342, 'master_pi': '1000009316_643631', 'similar_pi': '1000001703_25700'}, {'similarity': 0.7342, 'master_pi': '1000009316_643631', 'similar_pi': '1000005436_61494'}, {'similarity': 0.7341, 'master_pi': '1000009316_643631', 'similar_pi': '1000016504_417475'}, {'similarity': 0.7316, 'master_pi': '1000009316_643631', 'similar_pi': '1000018657_2659678'}, {'similarity': 0.729, 'master_pi': '1000009316_643631', 'similar_pi': '1000008134_777401'}, {'similarity': 0.7246, 'master_pi': '1000009316_643631', 'similar_pi': '1000000461_1477576'}, {'similarity': 0.7233, 'master_pi': '1000009316_643631', 'similar_pi': '1000014826_3116960'}, {'similarity': 0.7179, 'master_pi': '1000009316_643631', 'similar_pi': '1000002619_80272'}, {'similarity': 0.7178, 'master_pi': '1000009316_643631', 'similar_pi': '1000019142_3250699'}, {'similarity': 0.713, 'master_pi': '1000009316_643631', 'similar_pi': '1000010562_243157'}, {'similarity': 0.7089, 'master_pi': '1000009316_643631', 'similar_pi': '1000002619_145002'}, {'similarity': 0.7087, 'master_pi': '1000009316_643631', 'similar_pi': '1000014100_468821'}, {'similarity': 0.7085, 'master_pi': '1000009316_643631', 'similar_pi': '1000019645_49755'}, {'similarity': 0.7081, 'master_pi': '1000009316_643631', 'similar_pi': '1000009561_612586'}, {'similarity': 1.0, 'master_pi': '1000000489_1840753', 'similar_pi': '1000000489_1840753'}, {'similarity': 0.8008, 'master_pi': '1000000489_1840753', 'similar_pi': '1000000489_1233988'}, {'similarity': 0.7497, 'master_pi': '1000000489_1840753', 'similar_pi': '1000005597_3682227'}, {'similarity': 0.7389, 'master_pi': '1000000489_1840753', 'similar_pi': '1000016910_905983'}, {'similarity': 0.7361, 'master_pi': '1000000489_1840753', 'similar_pi': '1000005597_694815'}, {'similarity': 0.7327, 'master_pi': '1000000489_1840753', 'similar_pi': '1000019645_153411'}, {'similarity': 0.7287, 'master_pi': '1000000489_1840753', 'similar_pi': '1000009561_789018'}, {'similarity': 0.7201, 'master_pi': '1000000489_1840753', 'similar_pi': '1000004450_5156532'}, {'similarity': 0.7176, 'master_pi': '1000000489_1840753', 'similar_pi': '1000004298_48192'}, {'similarity': 0.717, 'master_pi': '1000000489_1840753', 'similar_pi': '1000013499_266873'}, {'similarity': 0.695, 'master_pi': '1000000489_1840753', 'similar_pi': '1000004228_2283011'}, {'similarity': 0.6833, 'master_pi': '1000000489_1840753', 'similar_pi': '1000005736_97051'}, {'similarity': 0.6825, 'master_pi': '1000000489_1840753', 'similar_pi': '1000019289_532754'}, {'similarity': 0.6782, 'master_pi': '1000000489_1840753', 'similar_pi': '1000005736_475217'}, {'similarity': 0.6766, 'master_pi': '1000000489_1840753', 'similar_pi': '1000004450_124311'}, {'similarity': 0.676, 'master_pi': '1000000489_1840753', 'similar_pi': '1000005296_1707734'}, {'similarity': 0.6726, 'master_pi': '1000000489_1840753', 'similar_pi': '1000002181_2142942'}, {'similarity': 0.67, 'master_pi': '1000000489_1840753', 'similar_pi': '1000015900_7056763'}, {'similarity': 0.6694, 'master_pi': '1000000489_1840753', 'similar_pi': '1000018015_2282093'}, {'similarity': 0.6668, 'master_pi': '1000000489_1840753', 'similar_pi': '1000018758_677648'}, {'similarity': 1.0, 'master_pi': '1000017746_1078797', 'similar_pi': '1000017746_1078797'}, {'similarity': 0.7541, 'master_pi': '1000017746_1078797', 'similar_pi': '1000010410_393714'}, {'similarity': 0.7285, 'master_pi': '1000017746_1078797', 'similar_pi': '1000016965_2463103'}, {'similarity': 0.7207, 'master_pi': '1000017746_1078797', 'similar_pi': '1000015900_7056763'}, {'similarity': 0.7182, 'master_pi': '1000017746_1078797', 'similar_pi': '1000011715_999455'}, {'similarity': 0.7119, 'master_pi': '1000017746_1078797', 'similar_pi': '1000018015_2282093'}, {'similarity': 0.7109, 'master_pi': '1000017746_1078797', 'similar_pi': '1000005597_3682227'}, {'similarity': 0.7034, 'master_pi': '1000017746_1078797', 'similar_pi': '1000004450_5156532'}, {'similarity': 0.7021, 'master_pi': '1000017746_1078797', 'similar_pi': '1000019142_3250699'}, {'similarity': 0.6915, 'master_pi': '1000017746_1078797', 'similar_pi': '1000018209_5124502'}, {'similarity': 0.6891, 'master_pi': '1000017746_1078797', 'similar_pi': '1000004298_48192'}, {'similarity': 0.6853, 'master_pi': '1000017746_1078797', 'similar_pi': '1000009561_789018'}, {'similarity': 0.6849, 'master_pi': '1000017746_1078797', 'similar_pi': '1000002181_2142942'}, {'similarity': 0.6813, 'master_pi': '1000017746_1078797', 'similar_pi': '1000004228_2283011'}, {'similarity': 0.6773, 'master_pi': '1000017746_1078797', 'similar_pi': '1000010562_243157'}, {'similarity': 0.6652, 'master_pi': '1000017746_1078797', 'similar_pi': '1000002181_2051334'}, {'similarity': 0.6643, 'master_pi': '1000017746_1078797', 'similar_pi': '1000018758_677648'}, {'similarity': 0.6639, 'master_pi': '1000017746_1078797', 'similar_pi': '1000005597_694815'}, {'similarity': 0.6623, 'master_pi': '1000017746_1078797', 'similar_pi': '1000001589_47962'}, {'similarity': 0.6619, 'master_pi': '1000017746_1078797', 'similar_pi': '1000020743_162205'}, {'similarity': 1.0, 'master_pi': '1000020717_360154', 'similar_pi': '1000020717_360154'}, {'similarity': 0.7607, 'master_pi': '1000020717_360154', 'similar_pi': '1000006450_418604'}, {'similarity': 0.7176, 'master_pi': '1000020717_360154', 'similar_pi': '1000018433_119097'}, {'similarity': 0.6959, 'master_pi': '1000020717_360154', 'similar_pi': '1000016504_417475'}, {'similarity': 0.6943, 'master_pi': '1000020717_360154', 'similar_pi': '1000019142_645646'}, {'similarity': 0.6887, 'master_pi': '1000020717_360154', 'similar_pi': '1000014826_683224'}, {'similarity': 0.6872, 'master_pi': '1000020717_360154', 'similar_pi': '1000010562_39641'}, {'similarity': 0.6607, 'master_pi': '1000020717_360154', 'similar_pi': '1000019142_3250699'}, {'similarity': 0.6598, 'master_pi': '1000020717_360154', 'similar_pi': '1000017643_1678329'}, {'similarity': 0.6581, 'master_pi': '1000020717_360154', 'similar_pi': '1000005450_974152'}, {'similarity': 0.6563, 'master_pi': '1000020717_360154', 'similar_pi': '1000015780_507181'}, {'similarity': 0.6558, 'master_pi': '1000020717_360154', 'similar_pi': '1000018657_2659678'}, {'similarity': 0.6558, 'master_pi': '1000020717_360154', 'similar_pi': '1000012591_283383'}, {'similarity': 0.6549, 'master_pi': '1000020717_360154', 'similar_pi': '1000001589_254796'}, {'similarity': 0.6508, 'master_pi': '1000020717_360154', 'similar_pi': '1000016591_1183410'}, {'similarity': 0.6493, 'master_pi': '1000020717_360154', 'similar_pi': '1000005352_4375297'}, {'similarity': 0.6436, 'master_pi': '1000020717_360154', 'similar_pi': '1000003705_401309'}, {'similarity': 0.6426, 'master_pi': '1000020717_360154', 'similar_pi': '1000005436_61494'}, {'similarity': 0.6422, 'master_pi': '1000020717_360154', 'similar_pi': '1000006420_408794'}, {'similarity': 0.6413, 'master_pi': '1000020717_360154', 'similar_pi': '1000018657_2051415'}]\n",
      "<class 'list'>\n"
     ]
    }
   ],
   "source": [
    "#named_nearest_neighbors=[]\n",
    "cluster()\n",
    "print(\"Printing named_nearest_neighbors\")\n",
    "print(named_nearest_neighbors)\n",
    "print(type(named_nearest_neighbors))"
   ]
  },
  {
   "cell_type": "code",
   "execution_count": 14,
   "metadata": {},
   "outputs": [
    {
     "name": "stdout",
     "output_type": "stream",
     "text": [
      "/Users/rishabshekar/Downloads/Dataset/1000019289_79232_1.jpeg\n"
     ]
    }
   ],
   "source": [
    "print(image_paths[130])"
   ]
  },
  {
   "cell_type": "code",
   "execution_count": 15,
   "metadata": {},
   "outputs": [],
   "source": [
    "from scipy import spatial\n",
    "import matplotlib.pyplot as plt\n",
    "def search_similar_image(reference_image, max_results):\n",
    "    reference_image = '_'.join(reference_image.split('_')[:-1])\n",
    "    print(reference_image)\n",
    "    nearest = []\n",
    "    #print(named_nearest_neighbors[1]['master_pi'])\n",
    "    #f, ax = plt.subplots(1, max_results, figsize=(16, 8))\n",
    "    for i in range (0, len(named_nearest_neighbors)):\n",
    "        if(named_nearest_neighbors[i]['master_pi'] == reference_image):\n",
    "            nearest.append({\n",
    "                'similarity' : named_nearest_neighbors[i]['similarity'],\n",
    "                'master_pi' : named_nearest_neighbors[i]['master_pi'],\n",
    "                'similar_pi' : named_nearest_neighbors[i]['similar_pi']\n",
    "            })\n",
    "    f, ax = plt.subplots(1, max_results, figsize=(16, 8))\n",
    "    for i in range(0, max_results):\n",
    "        for j in range(0, len(images)):\n",
    "            if(nearest[i]['similar_pi'] == images[j]['product_id']):\n",
    "                ax[i].imshow(images[j]['image'])\n",
    "                ax[i].set_axis_off()\n",
    "                \n",
    "    plt.show()\n",
    "\n",
    "                \n",
    "        "
   ]
  },
  {
   "cell_type": "code",
   "execution_count": 16,
   "metadata": {},
   "outputs": [
    {
     "name": "stdout",
     "output_type": "stream",
     "text": [
      "1000019289_79232\n"
     ]
    },
    {
     "data": {
      "image/png": "[encoded data removed]",
      "text/plain": [
       "<Figure size 1152x576 with 5 Axes>"
      ]
     },
     "metadata": {
      "needs_background": "light"
     },
     "output_type": "display_data"
    }
   ],
   "source": [
    "search_similar_image('1000019289_79232_1', 5)"
   ]
  },
  {
   "cell_type": "code",
   "execution_count": null,
   "metadata": {},
   "outputs": [],
   "source": []
  },
  {
   "cell_type": "code",
   "execution_count": null,
   "metadata": {},
   "outputs": [],
   "source": []
  }
 ],
 "metadata": {
  "kernelspec": {
   "display_name": "Python 3",
   "language": "python",
   "name": "python3"
  },
  "language_info": {
   "codemirror_mode": {
    "name": "ipython",
    "version": 3
   },
   "file_extension": ".py",
   "mimetype": "text/x-python",
   "name": "python",
   "nbconvert_exporter": "python",
   "pygments_lexer": "ipython3",
   "version": "3.8.5"
  }
 },
 "nbformat": 4,
 "nbformat_minor": 4
}
